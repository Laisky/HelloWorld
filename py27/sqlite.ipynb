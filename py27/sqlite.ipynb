{
 "cells": [
  {
   "cell_type": "code",
   "execution_count": 15,
   "metadata": {
    "collapsed": true
   },
   "outputs": [],
   "source": [
    "import sqlite3\n",
    "\n",
    "\n",
    "conn = sqlite3.connect(':memory:')\n",
    "cursor = conn.cursor()"
   ]
  },
  {
   "cell_type": "code",
   "execution_count": 16,
   "metadata": {
    "collapsed": false
   },
   "outputs": [],
   "source": [
    "cursor.execute('''CREATE TABLE stocks\n",
    "             (date text, trans text, symbol text, qty real, price real)''')\n",
    "conn.commit()"
   ]
  },
  {
   "cell_type": "code",
   "execution_count": 18,
   "metadata": {
    "collapsed": false
   },
   "outputs": [
    {
     "data": {
      "text/plain": [
       "[]"
      ]
     },
     "execution_count": 18,
     "metadata": {},
     "output_type": "execute_result"
    }
   ],
   "source": [
    "cursor.execute('select * from stocks')\n",
    "cursor.fetchall()"
   ]
  },
  {
   "cell_type": "code",
   "execution_count": 23,
   "metadata": {
    "collapsed": false
   },
   "outputs": [],
   "source": [
    "class GeoDataCache(object):\n",
    "\n",
    "    def __init__(self):\n",
    "        self._connect()\n",
    "        self._setup_db()\n",
    "        self._load_geodata()\n",
    "\n",
    "    def _connect(self):\n",
    "        self.conn = sqlite3.connect(':memory:')\n",
    "        self.cursor = self.conn.cursor()\n",
    "\n",
    "    def _setup_db(self):\n",
    "        sql = \"\"\"\n",
    "            CREATE TABLE geo (\n",
    "                cityId INTEGER,\n",
    "                cityName,\n",
    "                countyId INTEGER,\n",
    "                countyName,\n",
    "                cityNameForUrl,\n",
    "                cityBaseUrl,\n",
    "                cityZipType\n",
    "            );\n",
    "        \"\"\"\n",
    "        self.cursor.execute(sql)\n",
    "        self.conn.commit()\n",
    "\n",
    "    def _load_geodata(self):\n",
    "        sql = \"\"\"\n",
    "            INSERT INTO geo\n",
    "            VALUES (?, ?, ?, ?, ?, ?, ?);\n",
    "        \"\"\"\n",
    "        for row in get_all_geo_data():\n",
    "            self.cursor.execute(sql, row)\n",
    "\n",
    "        self.conn.commit()\n",
    "        \n",
    "        \n",
    "def get_all_geo_data():\n",
    "    for row in [\n",
    "        [1, 'a', 2, 'b', '2', 'er', 'ff'],\n",
    "        [1, 'a', 3, 'b', '3', 'er', 'ffq']\n",
    "    ]:\n",
    "        yield row\n",
    "        \n",
    "        \n",
    "geocache = GeoDataCache()\n",
    "    "
   ]
  },
  {
   "cell_type": "code",
   "execution_count": 24,
   "metadata": {
    "collapsed": false
   },
   "outputs": [
    {
     "data": {
      "text/plain": [
       "[(1, u'a', 2, u'b', u'2', u'er', u'ff'),\n",
       " (1, u'a', 3, u'b', u'3', u'er', u'ffq')]"
      ]
     },
     "execution_count": 24,
     "metadata": {},
     "output_type": "execute_result"
    }
   ],
   "source": [
    "geocache.cursor.execute('select * from geo')\n",
    "geocache.cursor.fetchall()"
   ]
  }
 ],
 "metadata": {
  "kernelspec": {
   "display_name": "Python 2",
   "language": "python",
   "name": "python2"
  },
  "language_info": {
   "codemirror_mode": {
    "name": "ipython",
    "version": 2
   },
   "file_extension": ".py",
   "mimetype": "text/x-python",
   "name": "python",
   "nbconvert_exporter": "python",
   "pygments_lexer": "ipython2",
   "version": "2.7.9"
  }
 },
 "nbformat": 4,
 "nbformat_minor": 0
}
