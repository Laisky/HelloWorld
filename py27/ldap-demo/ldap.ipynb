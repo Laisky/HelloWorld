{
 "cells": [
  {
   "cell_type": "code",
   "execution_count": null,
   "metadata": {
    "scrolled": true
   },
   "outputs": [],
   "source": [
    "import ldap\n",
    "\n",
    "\n",
    "uri = 'ldap://10.47.12.2260:3268'\n",
    "conn = ldap.initialize(uri)\n",
    "# conn.simple_bind_s('darthadmin', '123')\n",
    "# conn.simple_bind_s('dds\\\\caizhonghua', '123')"
   ]
  },
  {
   "cell_type": "code",
   "execution_count": null,
   "metadata": {},
   "outputs": [],
   "source": [
    "base_dn = 'dc=dds,dc=com'\n",
    "scope = ldap.SCOPE_SUBTREE\n",
    "filter_ = '(&(memberOf=CN=JiraUsers,ou=JIRA,ou=DDS_Group,dc=dds,dc=com))'\n",
    "attrs = ['dn', 'sAMAccountName', 'sn', 'givenName', 'password']\n",
    "\n",
    "\n",
    "conn.search_s(base_dn, scope, filterstr=filter_, attrlist=attrs)"
   ]
  },
  {
   "cell_type": "code",
   "execution_count": null,
   "metadata": {},
   "outputs": [],
   "source": [
    "# 尝试验证用户\n",
    "\n",
    "from ldap import INVALID_CREDENTIALSa\n",
    "\n",
    "\n",
    "def validate_user(username, password):\n",
    "    try:\n",
    "        conn.simple_bind_s('dds\\\\{}'.format(username), password)\n",
    "    except INVALID_CREDENTIALSa:\n",
    "        print('用户名或密码错误')\n",
    "    except Exception:\n",
    "        print('未知错误')\n",
    "    else:\n",
    "        print('用户名密码正确')\n",
    "        return True"
   ]
  }
 ],
 "metadata": {
  "kernelspec": {
   "display_name": "Python 2",
   "language": "python",
   "name": "python2"
  },
  "language_info": {
   "codemirror_mode": {
    "name": "ipython",
    "version": 2
   },
   "file_extension": ".py",
   "mimetype": "text/x-python",
   "name": "python",
   "nbconvert_exporter": "python",
   "pygments_lexer": "ipython2",
   "version": "2.7.9"
  }
 },
 "nbformat": 4,
 "nbformat_minor": 1
}
