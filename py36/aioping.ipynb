{
 "cells": [
  {
   "cell_type": "code",
   "execution_count": 10,
   "metadata": {},
   "outputs": [
    {
     "data": {
      "text/plain": [
       "({<Task finished coro=<do_ping() done, defined at <ipython-input-10-b35f59a2b726>:6> exception=OSError('Operation not permitted - Note that ICMP messages can only be sent from processes running as root.',)>,\n",
       "  <Task finished coro=<do_ping() done, defined at <ipython-input-10-b35f59a2b726>:6> exception=OSError('Operation not permitted - Note that ICMP messages can only be sent from processes running as root.',)>,\n",
       "  <Task finished coro=<do_ping() done, defined at <ipython-input-10-b35f59a2b726>:6> exception=OSError('Operation not permitted - Note that ICMP messages can only be sent from processes running as root.',)>,\n",
       "  <Task finished coro=<do_ping() done, defined at <ipython-input-10-b35f59a2b726>:6> exception=OSError('Operation not permitted - Note that ICMP messages can only be sent from processes running as root.',)>,\n",
       "  <Task finished coro=<do_ping() done, defined at <ipython-input-10-b35f59a2b726>:6> exception=OSError('Operation not permitted - Note that ICMP messages can only be sent from processes running as root.',)>},\n",
       " set())"
      ]
     },
     "execution_count": 10,
     "metadata": {},
     "output_type": "execute_result"
    }
   ],
   "source": [
    "import traceback\n",
    "import asyncio\n",
    "import aioping\n",
    "\n",
    "\n",
    "async def do_ping(host):\n",
    "    try:\n",
    "        delay = await aioping.ping(host) * 1000\n",
    "        print(\"Ping response in %s ms\" % delay)\n",
    "    except TimeoutError:\n",
    "        print(\"Timed out\")\n",
    "\n",
    "        \n",
    "fs = [asyncio.ensure_future(do_ping('127.0.0.1')) for _ in range(5)]\n",
    "f = asyncio.wait(fs)\n",
    "        \n",
    "        \n",
    "loop = asyncio.get_event_loop()\n",
    "loop.run_until_complete(f)"
   ]
  }
 ],
 "metadata": {
  "kernelspec": {
   "display_name": "Python 3",
   "language": "python",
   "name": "python3"
  },
  "language_info": {
   "codemirror_mode": {
    "name": "ipython",
    "version": 3
   },
   "file_extension": ".py",
   "mimetype": "text/x-python",
   "name": "python",
   "nbconvert_exporter": "python",
   "pygments_lexer": "ipython3",
   "version": "3.6.2"
  }
 },
 "nbformat": 4,
 "nbformat_minor": 2
}
