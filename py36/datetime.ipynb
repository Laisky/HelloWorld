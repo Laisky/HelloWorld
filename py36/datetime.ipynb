{
 "cells": [
  {
   "cell_type": "code",
   "execution_count": 7,
   "metadata": {
    "collapsed": false
   },
   "outputs": [
    {
     "name": "stdout",
     "output_type": "stream",
     "text": [
      "2017-01-22 10:55:52.451204\n",
      "2017-01-22 10:55:52.451204+08:00\n",
      "2017-01-22 02:55:52.451204+00:00\n",
      "2017-01-22 10:55:52.451204+00:00\n"
     ]
    }
   ],
   "source": [
    "# pytz\n",
    "\n",
    "import datetime\n",
    "\n",
    "import pytz\n",
    "\n",
    "\n",
    "dt = datetime.datetime.now()\n",
    "print(dt)\n",
    "# 2017-01-09 09:38:20.504454\n",
    "\n",
    "\n",
    "CST = pytz.timezone('Asia/Shanghai')\n",
    "UTC = pytz.UTC\n",
    "\n",
    "\n",
    "# set timezone\n",
    "dt = CST.localize(dt)\n",
    "print(dt)\n",
    "# 2017-01-09 09:38:20.504454+08:00\n",
    "\n",
    "\n",
    "# convert timezone\n",
    "print(dt.astimezone(UTC))\n",
    "# 2017-01-09 01:38:20.504454+00:00\n",
    "\n",
    "\n",
    "# change timezone\n",
    "print(dt.replace(tzinfo=UTC))"
   ]
  },
  {
   "cell_type": "code",
   "execution_count": 3,
   "metadata": {
    "collapsed": false
   },
   "outputs": [
    {
     "name": "stdout",
     "output_type": "stream",
     "text": [
      "2016-10-25 08:15:45+00:00\n",
      "2016-12-16 18:23:45.423992+00:00\n",
      "2016-12-16 10:23:45.423992+00:00\n",
      "2011-02-07 00:00:00+00:00\n",
      "2012-06-15 14:45:00+00:00\n",
      "2013-01-11 11:42:00+00:00\n",
      "2017-01-01 00:00:00+00:00\n",
      "2017-01-25 11:30:00+00:00\n",
      "2017-01-25 23:30:00+00:00\n",
      "2017-01-01 00:00:00+00:00\n",
      "2013-11-10 00:00:00+00:00\n",
      "2013-01-11 11:42:00+00:00\n"
     ]
    },
    {
     "ename": "ValueError",
     "evalue": "Unknown string format",
     "output_type": "error",
     "traceback": [
      "\u001b[0;31m---------------------------------------------------------------------------\u001b[0m",
      "\u001b[0;31mValueError\u001b[0m                                Traceback (most recent call last)",
      "\u001b[0;32m<ipython-input-3-c5d4d72c0c04>\u001b[0m in \u001b[0;36m<module>\u001b[0;34m()\u001b[0m\n\u001b[1;32m     25\u001b[0m \u001b[0;34m\u001b[0m\u001b[0m\n\u001b[1;32m     26\u001b[0m ]:\n\u001b[0;32m---> 27\u001b[0;31m     \u001b[0mmaya_dt\u001b[0m \u001b[0;34m=\u001b[0m \u001b[0mmaya\u001b[0m\u001b[0;34m.\u001b[0m\u001b[0mparse\u001b[0m\u001b[0;34m(\u001b[0m\u001b[0mdt_str\u001b[0m\u001b[0;34m)\u001b[0m\u001b[0;34m\u001b[0m\u001b[0m\n\u001b[0m\u001b[1;32m     28\u001b[0m     \u001b[0mdt\u001b[0m \u001b[0;34m=\u001b[0m \u001b[0mmaya_dt\u001b[0m\u001b[0;34m.\u001b[0m\u001b[0mdatetime\u001b[0m\u001b[0;34m(\u001b[0m\u001b[0;34m)\u001b[0m\u001b[0;34m\u001b[0m\u001b[0m\n\u001b[1;32m     29\u001b[0m     \u001b[0mprint\u001b[0m\u001b[0;34m(\u001b[0m\u001b[0mdt\u001b[0m\u001b[0;34m)\u001b[0m\u001b[0;34m\u001b[0m\u001b[0m\n",
      "\u001b[0;32m/Users/laisky/repo/laisky/HelloWorld/py36/venv/lib/python3.6/site-packages/maya.py\u001b[0m in \u001b[0;36mparse\u001b[0;34m(string, day_first)\u001b[0m\n\u001b[1;32m    270\u001b[0m         \u001b[0mday_first\u001b[0m \u001b[0;34m-\u001b[0m\u001b[0;34m-\u001b[0m \u001b[0;32mif\u001b[0m \u001b[0mtrue\u001b[0m\u001b[0;34m,\u001b[0m \u001b[0mthe\u001b[0m \u001b[0mfirst\u001b[0m \u001b[0mvalue\u001b[0m \u001b[0;34m(\u001b[0m\u001b[0me\u001b[0m\u001b[0;34m.\u001b[0m\u001b[0mg\u001b[0m\u001b[0;34m.\u001b[0m \u001b[0;36m0\u001b[0m\u001b[0;36m1\u001b[0m\u001b[0;34m/\u001b[0m\u001b[0;36m0\u001b[0m\u001b[0;36m5\u001b[0m\u001b[0;34m/\u001b[0m\u001b[0;36m2016\u001b[0m\u001b[0;34m)\u001b[0m \u001b[0;32mis\u001b[0m \u001b[0mparsed\u001b[0m \u001b[0;32mas\u001b[0m \u001b[0mday\u001b[0m \u001b[0;34m(\u001b[0m\u001b[0mdefault\u001b[0m\u001b[0;34m:\u001b[0m \u001b[0;32mFalse\u001b[0m\u001b[0;34m)\u001b[0m\u001b[0;34m\u001b[0m\u001b[0m\n\u001b[1;32m    271\u001b[0m     \"\"\"\n\u001b[0;32m--> 272\u001b[0;31m     \u001b[0mdt\u001b[0m \u001b[0;34m=\u001b[0m \u001b[0mdateutil\u001b[0m\u001b[0;34m.\u001b[0m\u001b[0mparser\u001b[0m\u001b[0;34m.\u001b[0m\u001b[0mparse\u001b[0m\u001b[0;34m(\u001b[0m\u001b[0mstring\u001b[0m\u001b[0;34m,\u001b[0m \u001b[0mdayfirst\u001b[0m\u001b[0;34m=\u001b[0m\u001b[0mday_first\u001b[0m\u001b[0;34m)\u001b[0m\u001b[0;34m\u001b[0m\u001b[0m\n\u001b[0m\u001b[1;32m    273\u001b[0m     \u001b[0;32mreturn\u001b[0m \u001b[0mMayaDT\u001b[0m\u001b[0;34m.\u001b[0m\u001b[0mfrom_datetime\u001b[0m\u001b[0;34m(\u001b[0m\u001b[0mdt\u001b[0m\u001b[0;34m)\u001b[0m\u001b[0;34m\u001b[0m\u001b[0m\n",
      "\u001b[0;32m/Users/laisky/repo/laisky/HelloWorld/py36/venv/lib/python3.6/site-packages/dateutil/parser.py\u001b[0m in \u001b[0;36mparse\u001b[0;34m(timestr, parserinfo, **kwargs)\u001b[0m\n\u001b[1;32m   1166\u001b[0m         \u001b[0;32mreturn\u001b[0m \u001b[0mparser\u001b[0m\u001b[0;34m(\u001b[0m\u001b[0mparserinfo\u001b[0m\u001b[0;34m)\u001b[0m\u001b[0;34m.\u001b[0m\u001b[0mparse\u001b[0m\u001b[0;34m(\u001b[0m\u001b[0mtimestr\u001b[0m\u001b[0;34m,\u001b[0m \u001b[0;34m**\u001b[0m\u001b[0mkwargs\u001b[0m\u001b[0;34m)\u001b[0m\u001b[0;34m\u001b[0m\u001b[0m\n\u001b[1;32m   1167\u001b[0m     \u001b[0;32melse\u001b[0m\u001b[0;34m:\u001b[0m\u001b[0;34m\u001b[0m\u001b[0m\n\u001b[0;32m-> 1168\u001b[0;31m         \u001b[0;32mreturn\u001b[0m \u001b[0mDEFAULTPARSER\u001b[0m\u001b[0;34m.\u001b[0m\u001b[0mparse\u001b[0m\u001b[0;34m(\u001b[0m\u001b[0mtimestr\u001b[0m\u001b[0;34m,\u001b[0m \u001b[0;34m**\u001b[0m\u001b[0mkwargs\u001b[0m\u001b[0;34m)\u001b[0m\u001b[0;34m\u001b[0m\u001b[0m\n\u001b[0m\u001b[1;32m   1169\u001b[0m \u001b[0;34m\u001b[0m\u001b[0m\n\u001b[1;32m   1170\u001b[0m \u001b[0;34m\u001b[0m\u001b[0m\n",
      "\u001b[0;32m/Users/laisky/repo/laisky/HelloWorld/py36/venv/lib/python3.6/site-packages/dateutil/parser.py\u001b[0m in \u001b[0;36mparse\u001b[0;34m(self, timestr, default, ignoretz, tzinfos, **kwargs)\u001b[0m\n\u001b[1;32m    557\u001b[0m \u001b[0;34m\u001b[0m\u001b[0m\n\u001b[1;32m    558\u001b[0m         \u001b[0;32mif\u001b[0m \u001b[0mres\u001b[0m \u001b[0;32mis\u001b[0m \u001b[0;32mNone\u001b[0m\u001b[0;34m:\u001b[0m\u001b[0;34m\u001b[0m\u001b[0m\n\u001b[0;32m--> 559\u001b[0;31m             \u001b[0;32mraise\u001b[0m \u001b[0mValueError\u001b[0m\u001b[0;34m(\u001b[0m\u001b[0;34m\"Unknown string format\"\u001b[0m\u001b[0;34m)\u001b[0m\u001b[0;34m\u001b[0m\u001b[0m\n\u001b[0m\u001b[1;32m    560\u001b[0m \u001b[0;34m\u001b[0m\u001b[0m\n\u001b[1;32m    561\u001b[0m         \u001b[0;32mif\u001b[0m \u001b[0mlen\u001b[0m\u001b[0;34m(\u001b[0m\u001b[0mres\u001b[0m\u001b[0;34m)\u001b[0m \u001b[0;34m==\u001b[0m \u001b[0;36m0\u001b[0m\u001b[0;34m:\u001b[0m\u001b[0;34m\u001b[0m\u001b[0m\n",
      "\u001b[0;31mValueError\u001b[0m: Unknown string format"
     ]
    }
   ],
   "source": [
    "# maya\n",
    "\n",
    "import maya\n",
    "import pytz\n",
    "\n",
    "\n",
    "\n",
    "for dt_str in [\n",
    "    '10/25/2016 8:15:45 AM',\n",
    "    '2016-12-16 18:23:45.423992+00:00',\n",
    "    '2016-12-16 18:23:45.423992+08:00',\n",
    "    '2011-02-07',\n",
    "    \"2012-06-15 14:45\",\n",
    "    '2013-01-11T11:42',\n",
    "    \"1/1/2017\",\n",
    "    '11:30AM',\n",
    "    '11:30 PM',\n",
    "    '2017/1/1',\n",
    "    #'1142', # error\n",
    "    'Sun Nov 10 2013',\n",
    "    '01-11-2013 11:42',\n",
    "    '12:00 noon', # error\n",
    "    '2017-01-14T09:17:24-05:00',\n",
    "    '01-11-2013 11:42:00',\n",
    "    \n",
    "]:\n",
    "    maya_dt = maya.parse(dt_str)\n",
    "    dt = maya_dt.datetime()\n",
    "    print(dt)"
   ]
  },
  {
   "cell_type": "code",
   "execution_count": 19,
   "metadata": {
    "collapsed": false
   },
   "outputs": [
    {
     "name": "stdout",
     "output_type": "stream",
     "text": [
      "1900-01-01 12:13:00\n",
      "1900-01-01 13:13:00\n"
     ]
    }
   ],
   "source": [
    "import re\n",
    "import datetime\n",
    "\n",
    "\n",
    "_SPECIAL_DTSTR_REGEX_MAP = {\n",
    "    re.compile('^\\d{4}$'): '%H%M',\n",
    "    re.compile('^\\d{2}:\\d{2} noon$', re.I): '%H:%M noon',\n",
    "}\n",
    "\n",
    "for dtstr in [\n",
    "    '1213',\n",
    "    '13:13 Noon',\n",
    "]:\n",
    "    for dt_regx, dt_fmt in _SPECIAL_DTSTR_REGEX_MAP.items():\n",
    "        if dt_regx.match(dtstr):\n",
    "            dt = datetime.datetime.strptime(dtstr, dt_fmt)\n",
    "            print(dt)\n",
    "            break"
   ]
  },
  {
   "cell_type": "code",
   "execution_count": 27,
   "metadata": {
    "collapsed": false
   },
   "outputs": [
    {
     "data": {
      "text/plain": [
       "datetime.datetime(1900, 1, 1, 13, 14)"
      ]
     },
     "execution_count": 27,
     "metadata": {},
     "output_type": "execute_result"
    }
   ],
   "source": [
    "datetime.datetime.strptime('13:14 NoOn', '%H:%M noon')"
   ]
  },
  {
   "cell_type": "code",
   "execution_count": 36,
   "metadata": {
    "collapsed": false
   },
   "outputs": [
    {
     "data": {
      "text/plain": [
       "'13:14'"
      ]
     },
     "execution_count": 36,
     "metadata": {},
     "output_type": "execute_result"
    }
   ],
   "source": [
    "re.compile('^(\\d{2}:\\d{2}) noon$', re.I).match('13:14 noon').groups()[0]"
   ]
  }
 ],
 "metadata": {
  "kernelspec": {
   "display_name": "Python 3",
   "language": "python",
   "name": "python3"
  },
  "language_info": {
   "codemirror_mode": {
    "name": "ipython",
    "version": 3
   },
   "file_extension": ".py",
   "mimetype": "text/x-python",
   "name": "python",
   "nbconvert_exporter": "python",
   "pygments_lexer": "ipython3",
   "version": "3.6.0"
  }
 },
 "nbformat": 4,
 "nbformat_minor": 2
}
