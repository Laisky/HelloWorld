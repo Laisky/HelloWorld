{
 "metadata": {
  "name": "",
  "signature": "sha256:f0112d2c4c8e6cb24d60f302c016e7609beebcf15384a1eaa942fafab03a6c17"
 },
 "nbformat": 3,
 "nbformat_minor": 0,
 "worksheets": [
  {
   "cells": [
    {
     "cell_type": "code",
     "collapsed": false,
     "input": [
      "%pylab inline"
     ],
     "language": "python",
     "metadata": {},
     "outputs": [
      {
       "output_type": "stream",
       "stream": "stdout",
       "text": [
        "Populating the interactive namespace from numpy and matplotlib\n"
       ]
      }
     ],
     "prompt_number": 1
    },
    {
     "cell_type": "code",
     "collapsed": false,
     "input": [
      "# Construct matrix\n",
      "from scipy.sparse import lil_matrix, dok_matrix, coo_matrix\n",
      "\n",
      "\n",
      "# lil_matrix: List of Lists format\n",
      "lil = lil_matrix((10, 10), dtype=np.int64)\n",
      "lil.setdiag(range(10))\n",
      "print('lil\\n{}'.format(lil))\n",
      "\n",
      "# dok_matrix: Dictionary of Keys format\n",
      "dok = dok_matrix((10, 10), dtype=np.int64)\n",
      "dok.setdiag(range(10))\n",
      "print('dok\\n{}'.format(dok))\n",
      "\n",
      "# coo_matrix: COOrdinate format (aka IJV, triplet format)\n",
      "val = [1, 2, 3, 4]\n",
      "col = [0, 1, 2, 3]\n",
      "row = [0, 1, 2, 3]\n",
      "coo = coo_matrix((val, (row, col)), shape=(4, 4))\n",
      "print('coo\\n{}'.format(coo))\n",
      "\n",
      "\n",
      "# Convert\n",
      "csc = dok.tocsc()\n",
      "print('csc\\n{}'.format(csc))\n"
     ],
     "language": "python",
     "metadata": {},
     "outputs": [
      {
       "output_type": "stream",
       "stream": "stdout",
       "text": [
        "lil\n",
        "  (1, 1)\t1\n",
        "  (2, 2)\t2\n",
        "  (3, 3)\t3\n",
        "  (4, 4)\t4\n",
        "  (5, 5)\t5\n",
        "  (6, 6)\t6\n",
        "  (7, 7)\t7\n",
        "  (8, 8)\t8\n",
        "  (9, 9)\t9\n",
        "dok\n",
        "  (9, 9)\t9\n",
        "  (8, 8)\t8\n",
        "  (6, 6)\t6\n",
        "  (5, 5)\t5\n",
        "  (2, 2)\t2\n",
        "  (7, 7)\t7\n",
        "  (4, 4)\t4\n",
        "  (1, 1)\t1\n",
        "  (3, 3)\t3\n",
        "coo\n",
        "  (0, 0)\t1\n",
        "  (1, 1)\t2\n",
        "  (2, 2)\t3\n",
        "  (3, 3)\t4\n",
        "csc\n",
        "  (1, 1)\t1\n",
        "  (2, 2)\t2\n",
        "  (3, 3)\t3\n",
        "  (4, 4)\t4\n",
        "  (5, 5)\t5\n",
        "  (6, 6)\t6\n",
        "  (7, 7)\t7\n",
        "  (8, 8)\t8\n",
        "  (9, 9)\t9\n"
       ]
      }
     ],
     "prompt_number": 2
    },
    {
     "cell_type": "code",
     "collapsed": false,
     "input": [
      "# Calculate\n",
      "print(csc.todense())\n",
      "print('normal mean:', csc.mean())          # normal mean\n",
      "print('mean:', csc.data.mean())     # mean for real data"
     ],
     "language": "python",
     "metadata": {},
     "outputs": [
      {
       "output_type": "stream",
       "stream": "stdout",
       "text": [
        "[[0 0 0 0 0 0 0 0 0 0]\n",
        " [0 1 0 0 0 0 0 0 0 0]\n",
        " [0 0 2 0 0 0 0 0 0 0]\n",
        " [0 0 0 3 0 0 0 0 0 0]\n",
        " [0 0 0 0 4 0 0 0 0 0]\n",
        " [0 0 0 0 0 5 0 0 0 0]\n",
        " [0 0 0 0 0 0 6 0 0 0]\n",
        " [0 0 0 0 0 0 0 7 0 0]\n",
        " [0 0 0 0 0 0 0 0 8 0]\n",
        " [0 0 0 0 0 0 0 0 0 9]]\n",
        "normal mean: 0.45\n",
        "mean: 5.0\n"
       ]
      }
     ],
     "prompt_number": 3
    },
    {
     "cell_type": "code",
     "collapsed": false,
     "input": [
      "%matplotlib inline\n",
      "# Pearsonr\n",
      "from scipy import sparse\n",
      "\n",
      "\n",
      "X = sparse.rand(2, 40, density=0.5, format='csc')\n",
      "Y = np.array([np.arange(0, 1, 0.025), np.arange(0, 1, 0.025)])\n",
      "Y = sparse.csc_matrix(Y)\n",
      "\n",
      "# sparse pearsonr\n",
      "x = X.copy()\n",
      "y = Y.copy()\n",
      "x.data = x.data - x.data.mean()\n",
      "y.data = y.data - y.data.mean()\n",
      "\n",
      "r_num = x.dot(y.T).sum()\n",
      "r_den = np.sqrt((x.data**2).sum()) * np.sqrt((y.data**2).sum())\n",
      "\n",
      "p_sparse = r_num / r_den\n",
      "\n",
      "\n",
      "# check\n",
      "print('sparse pearsonr:', p_sparse)\n",
      "scatter(X.toarray()[0, :], X.toarray()[1, :], color='red')\n",
      "scatter(Y.toarray()[0, :], Y.toarray()[1, :], color='blue')"
     ],
     "language": "python",
     "metadata": {},
     "outputs": [
      {
       "output_type": "stream",
       "stream": "stdout",
       "text": [
        "sparse pearsonr: -0.368405336179\n"
       ]
      },
      {
       "metadata": {},
       "output_type": "pyout",
       "prompt_number": 72,
       "text": [
        "<matplotlib.collections.PathCollection at 0x10d207ef0>"
       ]
      },
      {
       "metadata": {},
       "output_type": "display_data",
       "png": "[encoded data removed]",
       "text": [
        "<matplotlib.figure.Figure at 0x10cc09cc0>"
       ]
      }
     ],
     "prompt_number": 72
    },
    {
     "cell_type": "code",
     "collapsed": false,
     "input": [],
     "language": "python",
     "metadata": {},
     "outputs": []
    }
   ],
   "metadata": {}
  }
 ]
}