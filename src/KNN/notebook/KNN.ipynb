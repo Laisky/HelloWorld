{
 "metadata": {
  "name": "",
  "signature": "sha256:749e45e7f1ade469e64bd046b19e613b532d0ed78dae46b9bdc7d4e3bd3b694c"
 },
 "nbformat": 3,
 "nbformat_minor": 0,
 "worksheets": [
  {
   "cells": [
    {
     "cell_type": "code",
     "collapsed": false,
     "input": [
      "# Calculate KNN distance\n",
      "\n",
      "%pylab inline\n",
      "import nvd3\n",
      "from nvd3 import scatterChart, lineChart\n",
      "import pymongo\n",
      "\n",
      "nvd3.ipynb.initialize_javascript(use_remote=True)"
     ],
     "language": "python",
     "metadata": {},
     "outputs": [
      {
       "output_type": "stream",
       "stream": "stdout",
       "text": [
        "Populating the interactive namespace from numpy and matplotlib\n",
        "loaded nvd3 IPython extension\n",
        "run nvd3.IPython_wrapper.initialize_javascript() to set up the notebook\n",
        "help(nvd3.IPython_wrapper.initialize_javascript) for options"
       ]
      },
      {
       "output_type": "stream",
       "stream": "stdout",
       "text": [
        "\n"
       ]
      },
      {
       "html": [
        "<link media=\"all\" href=\"http://nvd3.org/assets/css/nv.d3.css\" type=\"text/css\"\n",
        "                        rel=\"stylesheet\"/>"
       ],
       "metadata": {},
       "output_type": "display_data",
       "text": [
        "<IPython.core.display.HTML at 0x106958400>"
       ]
      },
      {
       "javascript": [
        "$.getScript(\"http://nvd3.org/assets/js/nv.d3.js\")"
       ],
       "metadata": {},
       "output_type": "display_data",
       "text": [
        "<IPython.core.display.Javascript at 0x106958400>"
       ]
      },
      {
       "javascript": [
        "$.getScript(\"http://nvd3.org/assets/lib/d3.v3.js\", function() {\n",
        "                              $.getScript(\"http://nvd3.org/assets/js/nv.d3.js\", function() {})});"
       ],
       "metadata": {},
       "output_type": "display_data",
       "text": [
        "<IPython.core.display.Javascript at 0x106958400>"
       ]
      },
      {
       "html": [
        "<script src=\"http://nvd3.org/assets/lib/d3.v3.js\"></script>"
       ],
       "metadata": {},
       "output_type": "display_data",
       "text": [
        "<IPython.core.display.HTML at 0x106958400>"
       ]
      },
      {
       "html": [
        "<script src=\"http://nvd3.org/assets/js/nv.d3.js\"></script>"
       ],
       "metadata": {},
       "output_type": "display_data",
       "text": [
        "<IPython.core.display.HTML at 0x106958400>"
       ]
      }
     ],
     "prompt_number": 1
    },
    {
     "cell_type": "code",
     "collapsed": false,
     "input": [
      "# calculate\n",
      "from scipy.spatial.distance import cdist\n",
      "\n",
      "    \n",
      "def compute_distance(k):\n",
      "    vectors = random.randn(100 * 100)\n",
      "    vectors.resize(100, 100)\n",
      "\n",
      "    N_SAMPLES = vectors.shape[0]\n",
      "    print('N_SAMPLES: ', N_SAMPLES)\n",
      "    \n",
      "    distance = cdist(vectors, vectors)\n",
      "    distance.sort()\n",
      "    \n",
      "    fr, to, step = [int(i) for i in k.split()]\n",
      "    \n",
      "    k_distance = {\n",
      "        k: sorted(distance[:, k])\n",
      "        for k in range(fr, to, step)\n",
      "    }\n",
      "    \n",
      "    return k_distance\n"
     ],
     "language": "python",
     "metadata": {},
     "outputs": [],
     "prompt_number": 2
    },
    {
     "cell_type": "code",
     "collapsed": false,
     "input": [
      "# draw\n",
      "from IPython.display import HTML, display\n",
      "\n",
      "\n",
      "def draw_scatter(k, ratio):\n",
      "    k_distance = compute_distance(k)\n",
      "    \n",
      "    chart = lineChart(name='KNN', height=400, width=800, resize=False)\n",
      "    extra_seris = {'tooltip': {'y_start': '', 'y_end': ''}}\n",
      "    shapes = ['circle', 'cross', 'triangle-up', 'triangle-down', 'diamond', 'square']\n",
      "    \n",
      "    for group, axis in k_distance.items():\n",
      "        length = len(axis)\n",
      "        axis = axis[int(len(axis)*ratio - len(axis)): ]\n",
      "        kwargs = {'shape': shapes[group % 6], 'size': 0.8, 'alpha': 0.8}\n",
      "        chart.add_serie(name=str(group), x=list(range(length - len(axis), length)), y=axis, extra=extra_seris, **kwargs)\n",
      "    \n",
      "    html = str(chart)\n",
      "    print(html)\n",
      "    display(HTML(html))\n"
     ],
     "language": "python",
     "metadata": {},
     "outputs": [],
     "prompt_number": 3
    },
    {
     "cell_type": "code",
     "collapsed": false,
     "input": [
      "# interactive\n",
      "\n",
      "from IPython.html.widgets import interact, FloatSliderWidget, TextWidget\n",
      "\n",
      "\n",
      "interact(draw_scatter,\n",
      "         # k\n",
      "         k=TextWidget(value='1 100 10'),\n",
      "         # ratio\n",
      "         ratio=FloatSliderWidget(min=0, max=1, step=0.01, value=0.9)\n",
      ")"
     ],
     "language": "python",
     "metadata": {},
     "outputs": [
      {
       "output_type": "stream",
       "stream": "stdout",
       "text": [
        "N_SAMPLES:  100\n",
        "<!DOCTYPE html>\n",
        "<html lang=\"en\">\n",
        "    <head>\n",
        "        <meta charset=\"utf-8\" />\n",
        "        <link href=\"./bower_components/nvd3/src/nv.d3.css\" rel=\"stylesheet\" />\n",
        "        <script src=\"./bower_components/d3/d3.min.js\"></script>\n",
        "        <script src=\"./bower_components/nvd3/nv.d3.min.js\"></script>\n",
        "    </head>\n",
        "    <body>\n",
        "        \n",
        "    <div id=\"knn\"><svg style=\"width:800px;height:400px;\"></svg></div>\n",
        "\n",
        "\n",
        "    <script>\n",
        "\n",
        "\n",
        "\n",
        "            data_knn=[{\"key\": \"1\", \"values\": [{\"y\": 12.584349027265725, \"shape\": \"cross\", \"size\": 0.8, \"x\": 90}, {\"y\": 12.604876732027453, \"shape\": \"cross\", \"size\": 0.8, \"x\": 91}, {\"y\": 12.647074922987041, \"shape\": \"cross\", \"size\": 0.8, \"x\": 92}, {\"y\": 12.730935720078623, \"shape\": \"cross\", \"size\": 0.8, \"x\": 93}, {\"y\": 12.808920535537661, \"shape\": \"cross\", \"size\": 0.8, \"x\": 94}, {\"y\": 12.835959299824628, \"shape\": \"cross\", \"size\": 0.8, \"x\": 95}, {\"y\": 12.916723607204514, \"shape\": \"cross\", \"size\": 0.8, \"x\": 96}, {\"y\": 13.11496014771734, \"shape\": \"cross\", \"size\": 0.8, \"x\": 97}, {\"y\": 13.437197819926956, \"shape\": \"cross\", \"size\": 0.8, \"x\": 98}, {\"y\": 13.53611454603475, \"shape\": \"cross\", \"size\": 0.8, \"x\": 99}], \"yAxis\": \"1\"}, {\"key\": \"91\", \"values\": [{\"y\": 15.787824055921162, \"shape\": \"cross\", \"size\": 0.8, \"x\": 90}, {\"y\": 15.819349660634998, \"shape\": \"cross\", \"size\": 0.8, \"x\": 91}, {\"y\": 15.888446706140732, \"shape\": \"cross\", \"size\": 0.8, \"x\": 92}, {\"y\": 15.905719664749624, \"shape\": \"cross\", \"size\": 0.8, \"x\": 93}, {\"y\": 15.92784069444286, \"shape\": \"cross\", \"size\": 0.8, \"x\": 94}, {\"y\": 15.95544802159194, \"shape\": \"cross\", \"size\": 0.8, \"x\": 95}, {\"y\": 16.069641598831865, \"shape\": \"cross\", \"size\": 0.8, \"x\": 96}, {\"y\": 16.072084869309545, \"shape\": \"cross\", \"size\": 0.8, \"x\": 97}, {\"y\": 16.354804012206362, \"shape\": \"cross\", \"size\": 0.8, \"x\": 98}, {\"y\": 16.615873337398305, \"shape\": \"cross\", \"size\": 0.8, \"x\": 99}], \"yAxis\": \"1\"}, {\"key\": \"51\", \"values\": [{\"y\": 14.591432433591901, \"shape\": \"triangle-down\", \"size\": 0.8, \"x\": 90}, {\"y\": 14.6196390468143, \"shape\": \"triangle-down\", \"size\": 0.8, \"x\": 91}, {\"y\": 14.658604878053868, \"shape\": \"triangle-down\", \"size\": 0.8, \"x\": 92}, {\"y\": 14.742398037177876, \"shape\": \"triangle-down\", \"size\": 0.8, \"x\": 93}, {\"y\": 14.75239831024629, \"shape\": \"triangle-down\", \"size\": 0.8, \"x\": 94}, {\"y\": 14.806042372915119, \"shape\": \"triangle-down\", \"size\": 0.8, \"x\": 95}, {\"y\": 14.82360945507384, \"shape\": \"triangle-down\", \"size\": 0.8, \"x\": 96}, {\"y\": 14.872330056823692, \"shape\": \"triangle-down\", \"size\": 0.8, \"x\": 97}, {\"y\": 15.233774857114843, \"shape\": \"triangle-down\", \"size\": 0.8, \"x\": 98}, {\"y\": 15.754609693063086, \"shape\": \"triangle-down\", \"size\": 0.8, \"x\": 99}], \"yAxis\": \"1\"}, {\"key\": \"21\", \"values\": [{\"y\": 13.792879360413176, \"shape\": \"triangle-down\", \"size\": 0.8, \"x\": 90}, {\"y\": 13.815201652876523, \"shape\": \"triangle-down\", \"size\": 0.8, \"x\": 91}, {\"y\": 13.853227938651784, \"shape\": \"triangle-down\", \"size\": 0.8, \"x\": 92}, {\"y\": 13.963326310601518, \"shape\": \"triangle-down\", \"size\": 0.8, \"x\": 93}, {\"y\": 13.981811888457171, \"shape\": \"triangle-down\", \"size\": 0.8, \"x\": 94}, {\"y\": 13.985661837549323, \"shape\": \"triangle-down\", \"size\": 0.8, \"x\": 95}, {\"y\": 14.104125710320824, \"shape\": \"triangle-down\", \"size\": 0.8, \"x\": 96}, {\"y\": 14.163980287051038, \"shape\": \"triangle-down\", \"size\": 0.8, \"x\": 97}, {\"y\": 14.59393938953887, \"shape\": \"triangle-down\", \"size\": 0.8, \"x\": 98}, {\"y\": 14.906139231682651, \"shape\": \"triangle-down\", \"size\": 0.8, \"x\": 99}], \"yAxis\": \"1\"}, {\"key\": \"81\", \"values\": [{\"y\": 15.333731541237, \"shape\": \"triangle-down\", \"size\": 0.8, \"x\": 90}, {\"y\": 15.423838053463852, \"shape\": \"triangle-down\", \"size\": 0.8, \"x\": 91}, {\"y\": 15.446742769888601, \"shape\": \"triangle-down\", \"size\": 0.8, \"x\": 92}, {\"y\": 15.455319727973638, \"shape\": \"triangle-down\", \"size\": 0.8, \"x\": 93}, {\"y\": 15.503676225344671, \"shape\": \"triangle-down\", \"size\": 0.8, \"x\": 94}, {\"y\": 15.511458716705834, \"shape\": \"triangle-down\", \"size\": 0.8, \"x\": 95}, {\"y\": 15.53577088082378, \"shape\": \"triangle-down\", \"size\": 0.8, \"x\": 96}, {\"y\": 15.550224394287987, \"shape\": \"triangle-down\", \"size\": 0.8, \"x\": 97}, {\"y\": 15.888446706140732, \"shape\": \"triangle-down\", \"size\": 0.8, \"x\": 98}, {\"y\": 16.38042538944382, \"shape\": \"triangle-down\", \"size\": 0.8, \"x\": 99}], \"yAxis\": \"1\"}, {\"key\": \"71\", \"values\": [{\"y\": 15.092565296991342, \"shape\": \"square\", \"size\": 0.8, \"x\": 90}, {\"y\": 15.100315705318788, \"shape\": \"square\", \"size\": 0.8, \"x\": 91}, {\"y\": 15.118036329895062, \"shape\": \"square\", \"size\": 0.8, \"x\": 92}, {\"y\": 15.130974302469266, \"shape\": \"square\", \"size\": 0.8, \"x\": 93}, {\"y\": 15.194540082808498, \"shape\": \"square\", \"size\": 0.8, \"x\": 94}, {\"y\": 15.21211750950325, \"shape\": \"square\", \"size\": 0.8, \"x\": 95}, {\"y\": 15.237949862504625, \"shape\": \"square\", \"size\": 0.8, \"x\": 96}, {\"y\": 15.346926874765932, \"shape\": \"square\", \"size\": 0.8, \"x\": 97}, {\"y\": 15.607403819980043, \"shape\": \"square\", \"size\": 0.8, \"x\": 98}, {\"y\": 16.203602941853976, \"shape\": \"square\", \"size\": 0.8, \"x\": 99}], \"yAxis\": \"1\"}, {\"key\": \"41\", \"values\": [{\"y\": 14.401050409434728, \"shape\": \"square\", \"size\": 0.8, \"x\": 90}, {\"y\": 14.402016427591883, \"shape\": \"square\", \"size\": 0.8, \"x\": 91}, {\"y\": 14.40729513748193, \"shape\": \"square\", \"size\": 0.8, \"x\": 92}, {\"y\": 14.570129578420259, \"shape\": \"square\", \"size\": 0.8, \"x\": 93}, {\"y\": 14.592344129792611, \"shape\": \"square\", \"size\": 0.8, \"x\": 94}, {\"y\": 14.65038406734655, \"shape\": \"square\", \"size\": 0.8, \"x\": 95}, {\"y\": 14.658604878053868, \"shape\": \"square\", \"size\": 0.8, \"x\": 96}, {\"y\": 14.73263830878453, \"shape\": \"square\", \"size\": 0.8, \"x\": 97}, {\"y\": 15.057269421847883, \"shape\": \"square\", \"size\": 0.8, \"x\": 98}, {\"y\": 15.45756684188597, \"shape\": \"square\", \"size\": 0.8, \"x\": 99}], \"yAxis\": \"1\"}, {\"key\": \"11\", \"values\": [{\"y\": 13.44215895534007, \"shape\": \"square\", \"size\": 0.8, \"x\": 90}, {\"y\": 13.451860383632585, \"shape\": \"square\", \"size\": 0.8, \"x\": 91}, {\"y\": 13.473153185235923, \"shape\": \"square\", \"size\": 0.8, \"x\": 92}, {\"y\": 13.561439486808395, \"shape\": \"square\", \"size\": 0.8, \"x\": 93}, {\"y\": 13.587271121213336, \"shape\": \"square\", \"size\": 0.8, \"x\": 94}, {\"y\": 13.663953919749956, \"shape\": \"square\", \"size\": 0.8, \"x\": 95}, {\"y\": 13.68169970326565, \"shape\": \"square\", \"size\": 0.8, \"x\": 96}, {\"y\": 13.710606439080436, \"shape\": \"square\", \"size\": 0.8, \"x\": 97}, {\"y\": 14.291799849680533, \"shape\": \"square\", \"size\": 0.8, \"x\": 98}, {\"y\": 14.493390412508989, \"shape\": \"square\", \"size\": 0.8, \"x\": 99}], \"yAxis\": \"1\"}, {\"key\": \"61\", \"values\": [{\"y\": 14.832766637589476, \"shape\": \"cross\", \"size\": 0.8, \"x\": 90}, {\"y\": 14.849512074403913, \"shape\": \"cross\", \"size\": 0.8, \"x\": 91}, {\"y\": 14.87429221456877, \"shape\": \"cross\", \"size\": 0.8, \"x\": 92}, {\"y\": 14.885720689493217, \"shape\": \"cross\", \"size\": 0.8, \"x\": 93}, {\"y\": 14.994558987021078, \"shape\": \"cross\", \"size\": 0.8, \"x\": 94}, {\"y\": 14.998206330730758, \"shape\": \"cross\", \"size\": 0.8, \"x\": 95}, {\"y\": 15.017608699081515, \"shape\": \"cross\", \"size\": 0.8, \"x\": 96}, {\"y\": 15.040725125566679, \"shape\": \"cross\", \"size\": 0.8, \"x\": 97}, {\"y\": 15.48360545483769, \"shape\": \"cross\", \"size\": 0.8, \"x\": 98}, {\"y\": 15.919847696915507, \"shape\": \"cross\", \"size\": 0.8, \"x\": 99}], \"yAxis\": \"1\"}, {\"key\": \"31\", \"values\": [{\"y\": 14.0784314349494, \"shape\": \"cross\", \"size\": 0.8, \"x\": 90}, {\"y\": 14.163486848100789, \"shape\": \"cross\", \"size\": 0.8, \"x\": 91}, {\"y\": 14.179276034548126, \"shape\": \"cross\", \"size\": 0.8, \"x\": 92}, {\"y\": 14.191536871363434, \"shape\": \"cross\", \"size\": 0.8, \"x\": 93}, {\"y\": 14.1936596771418, \"shape\": \"cross\", \"size\": 0.8, \"x\": 94}, {\"y\": 14.249626133032406, \"shape\": \"cross\", \"size\": 0.8, \"x\": 95}, {\"y\": 14.372530402045786, \"shape\": \"cross\", \"size\": 0.8, \"x\": 96}, {\"y\": 14.504620782177897, \"shape\": \"cross\", \"size\": 0.8, \"x\": 97}, {\"y\": 14.8064177907432, \"shape\": \"cross\", \"size\": 0.8, \"x\": 98}, {\"y\": 15.133894123870288, \"shape\": \"cross\", \"size\": 0.8, \"x\": 99}], \"yAxis\": \"1\"}];\n",
        "\n",
        "\n",
        "        nv.addGraph(function() {\n",
        "        var chart = nv.models.lineChart();\n",
        "\n",
        "        chart.margin({top: 30, right: 60, bottom: 20, left: 60});\n",
        "\n",
        "        var datum = data_knn;\n",
        "\n",
        "\n",
        "\n",
        "                chart.xAxis\n",
        "                .tickFormat(d3.format(',r'));\n",
        "            chart.yAxis\n",
        "                .tickFormat(d3.format(',.02f'));\n",
        "\n",
        "\n",
        "\n",
        "          chart.showLegend(true);\n",
        "\n",
        "\n",
        "    \n",
        "\n",
        "        \n",
        "\n",
        "\n",
        "\n",
        "            d3.select('#knn svg')\n",
        "            .datum(datum)\n",
        "            .transition().duration(500)\n",
        "            .attr('width', 800)\n",
        "            .attr('height', 400)\n",
        "            .call(chart);\n",
        "\n",
        "\n",
        "        });\n",
        "\n",
        "\n",
        "\n",
        "    </script>\n",
        "\n",
        "    </body>\n",
        "</html>\n"
       ]
      },
      {
       "html": [
        "<!DOCTYPE html>\n",
        "<html lang=\"en\">\n",
        "    <head>\n",
        "        <meta charset=\"utf-8\" />\n",
        "        <link href=\"./bower_components/nvd3/src/nv.d3.css\" rel=\"stylesheet\" />\n",
        "        <script src=\"./bower_components/d3/d3.min.js\"></script>\n",
        "        <script src=\"./bower_components/nvd3/nv.d3.min.js\"></script>\n",
        "    </head>\n",
        "    <body>\n",
        "        \n",
        "    <div id=\"knn\"><svg style=\"width:800px;height:400px;\"></svg></div>\n",
        "\n",
        "\n",
        "    <script>\n",
        "\n",
        "\n",
        "\n",
        "            data_knn=[{\"key\": \"1\", \"values\": [{\"y\": 12.584349027265725, \"shape\": \"cross\", \"size\": 0.8, \"x\": 90}, {\"y\": 12.604876732027453, \"shape\": \"cross\", \"size\": 0.8, \"x\": 91}, {\"y\": 12.647074922987041, \"shape\": \"cross\", \"size\": 0.8, \"x\": 92}, {\"y\": 12.730935720078623, \"shape\": \"cross\", \"size\": 0.8, \"x\": 93}, {\"y\": 12.808920535537661, \"shape\": \"cross\", \"size\": 0.8, \"x\": 94}, {\"y\": 12.835959299824628, \"shape\": \"cross\", \"size\": 0.8, \"x\": 95}, {\"y\": 12.916723607204514, \"shape\": \"cross\", \"size\": 0.8, \"x\": 96}, {\"y\": 13.11496014771734, \"shape\": \"cross\", \"size\": 0.8, \"x\": 97}, {\"y\": 13.437197819926956, \"shape\": \"cross\", \"size\": 0.8, \"x\": 98}, {\"y\": 13.53611454603475, \"shape\": \"cross\", \"size\": 0.8, \"x\": 99}], \"yAxis\": \"1\"}, {\"key\": \"91\", \"values\": [{\"y\": 15.787824055921162, \"shape\": \"cross\", \"size\": 0.8, \"x\": 90}, {\"y\": 15.819349660634998, \"shape\": \"cross\", \"size\": 0.8, \"x\": 91}, {\"y\": 15.888446706140732, \"shape\": \"cross\", \"size\": 0.8, \"x\": 92}, {\"y\": 15.905719664749624, \"shape\": \"cross\", \"size\": 0.8, \"x\": 93}, {\"y\": 15.92784069444286, \"shape\": \"cross\", \"size\": 0.8, \"x\": 94}, {\"y\": 15.95544802159194, \"shape\": \"cross\", \"size\": 0.8, \"x\": 95}, {\"y\": 16.069641598831865, \"shape\": \"cross\", \"size\": 0.8, \"x\": 96}, {\"y\": 16.072084869309545, \"shape\": \"cross\", \"size\": 0.8, \"x\": 97}, {\"y\": 16.354804012206362, \"shape\": \"cross\", \"size\": 0.8, \"x\": 98}, {\"y\": 16.615873337398305, \"shape\": \"cross\", \"size\": 0.8, \"x\": 99}], \"yAxis\": \"1\"}, {\"key\": \"51\", \"values\": [{\"y\": 14.591432433591901, \"shape\": \"triangle-down\", \"size\": 0.8, \"x\": 90}, {\"y\": 14.6196390468143, \"shape\": \"triangle-down\", \"size\": 0.8, \"x\": 91}, {\"y\": 14.658604878053868, \"shape\": \"triangle-down\", \"size\": 0.8, \"x\": 92}, {\"y\": 14.742398037177876, \"shape\": \"triangle-down\", \"size\": 0.8, \"x\": 93}, {\"y\": 14.75239831024629, \"shape\": \"triangle-down\", \"size\": 0.8, \"x\": 94}, {\"y\": 14.806042372915119, \"shape\": \"triangle-down\", \"size\": 0.8, \"x\": 95}, {\"y\": 14.82360945507384, \"shape\": \"triangle-down\", \"size\": 0.8, \"x\": 96}, {\"y\": 14.872330056823692, \"shape\": \"triangle-down\", \"size\": 0.8, \"x\": 97}, {\"y\": 15.233774857114843, \"shape\": \"triangle-down\", \"size\": 0.8, \"x\": 98}, {\"y\": 15.754609693063086, \"shape\": \"triangle-down\", \"size\": 0.8, \"x\": 99}], \"yAxis\": \"1\"}, {\"key\": \"21\", \"values\": [{\"y\": 13.792879360413176, \"shape\": \"triangle-down\", \"size\": 0.8, \"x\": 90}, {\"y\": 13.815201652876523, \"shape\": \"triangle-down\", \"size\": 0.8, \"x\": 91}, {\"y\": 13.853227938651784, \"shape\": \"triangle-down\", \"size\": 0.8, \"x\": 92}, {\"y\": 13.963326310601518, \"shape\": \"triangle-down\", \"size\": 0.8, \"x\": 93}, {\"y\": 13.981811888457171, \"shape\": \"triangle-down\", \"size\": 0.8, \"x\": 94}, {\"y\": 13.985661837549323, \"shape\": \"triangle-down\", \"size\": 0.8, \"x\": 95}, {\"y\": 14.104125710320824, \"shape\": \"triangle-down\", \"size\": 0.8, \"x\": 96}, {\"y\": 14.163980287051038, \"shape\": \"triangle-down\", \"size\": 0.8, \"x\": 97}, {\"y\": 14.59393938953887, \"shape\": \"triangle-down\", \"size\": 0.8, \"x\": 98}, {\"y\": 14.906139231682651, \"shape\": \"triangle-down\", \"size\": 0.8, \"x\": 99}], \"yAxis\": \"1\"}, {\"key\": \"81\", \"values\": [{\"y\": 15.333731541237, \"shape\": \"triangle-down\", \"size\": 0.8, \"x\": 90}, {\"y\": 15.423838053463852, \"shape\": \"triangle-down\", \"size\": 0.8, \"x\": 91}, {\"y\": 15.446742769888601, \"shape\": \"triangle-down\", \"size\": 0.8, \"x\": 92}, {\"y\": 15.455319727973638, \"shape\": \"triangle-down\", \"size\": 0.8, \"x\": 93}, {\"y\": 15.503676225344671, \"shape\": \"triangle-down\", \"size\": 0.8, \"x\": 94}, {\"y\": 15.511458716705834, \"shape\": \"triangle-down\", \"size\": 0.8, \"x\": 95}, {\"y\": 15.53577088082378, \"shape\": \"triangle-down\", \"size\": 0.8, \"x\": 96}, {\"y\": 15.550224394287987, \"shape\": \"triangle-down\", \"size\": 0.8, \"x\": 97}, {\"y\": 15.888446706140732, \"shape\": \"triangle-down\", \"size\": 0.8, \"x\": 98}, {\"y\": 16.38042538944382, \"shape\": \"triangle-down\", \"size\": 0.8, \"x\": 99}], \"yAxis\": \"1\"}, {\"key\": \"71\", \"values\": [{\"y\": 15.092565296991342, \"shape\": \"square\", \"size\": 0.8, \"x\": 90}, {\"y\": 15.100315705318788, \"shape\": \"square\", \"size\": 0.8, \"x\": 91}, {\"y\": 15.118036329895062, \"shape\": \"square\", \"size\": 0.8, \"x\": 92}, {\"y\": 15.130974302469266, \"shape\": \"square\", \"size\": 0.8, \"x\": 93}, {\"y\": 15.194540082808498, \"shape\": \"square\", \"size\": 0.8, \"x\": 94}, {\"y\": 15.21211750950325, \"shape\": \"square\", \"size\": 0.8, \"x\": 95}, {\"y\": 15.237949862504625, \"shape\": \"square\", \"size\": 0.8, \"x\": 96}, {\"y\": 15.346926874765932, \"shape\": \"square\", \"size\": 0.8, \"x\": 97}, {\"y\": 15.607403819980043, \"shape\": \"square\", \"size\": 0.8, \"x\": 98}, {\"y\": 16.203602941853976, \"shape\": \"square\", \"size\": 0.8, \"x\": 99}], \"yAxis\": \"1\"}, {\"key\": \"41\", \"values\": [{\"y\": 14.401050409434728, \"shape\": \"square\", \"size\": 0.8, \"x\": 90}, {\"y\": 14.402016427591883, \"shape\": \"square\", \"size\": 0.8, \"x\": 91}, {\"y\": 14.40729513748193, \"shape\": \"square\", \"size\": 0.8, \"x\": 92}, {\"y\": 14.570129578420259, \"shape\": \"square\", \"size\": 0.8, \"x\": 93}, {\"y\": 14.592344129792611, \"shape\": \"square\", \"size\": 0.8, \"x\": 94}, {\"y\": 14.65038406734655, \"shape\": \"square\", \"size\": 0.8, \"x\": 95}, {\"y\": 14.658604878053868, \"shape\": \"square\", \"size\": 0.8, \"x\": 96}, {\"y\": 14.73263830878453, \"shape\": \"square\", \"size\": 0.8, \"x\": 97}, {\"y\": 15.057269421847883, \"shape\": \"square\", \"size\": 0.8, \"x\": 98}, {\"y\": 15.45756684188597, \"shape\": \"square\", \"size\": 0.8, \"x\": 99}], \"yAxis\": \"1\"}, {\"key\": \"11\", \"values\": [{\"y\": 13.44215895534007, \"shape\": \"square\", \"size\": 0.8, \"x\": 90}, {\"y\": 13.451860383632585, \"shape\": \"square\", \"size\": 0.8, \"x\": 91}, {\"y\": 13.473153185235923, \"shape\": \"square\", \"size\": 0.8, \"x\": 92}, {\"y\": 13.561439486808395, \"shape\": \"square\", \"size\": 0.8, \"x\": 93}, {\"y\": 13.587271121213336, \"shape\": \"square\", \"size\": 0.8, \"x\": 94}, {\"y\": 13.663953919749956, \"shape\": \"square\", \"size\": 0.8, \"x\": 95}, {\"y\": 13.68169970326565, \"shape\": \"square\", \"size\": 0.8, \"x\": 96}, {\"y\": 13.710606439080436, \"shape\": \"square\", \"size\": 0.8, \"x\": 97}, {\"y\": 14.291799849680533, \"shape\": \"square\", \"size\": 0.8, \"x\": 98}, {\"y\": 14.493390412508989, \"shape\": \"square\", \"size\": 0.8, \"x\": 99}], \"yAxis\": \"1\"}, {\"key\": \"61\", \"values\": [{\"y\": 14.832766637589476, \"shape\": \"cross\", \"size\": 0.8, \"x\": 90}, {\"y\": 14.849512074403913, \"shape\": \"cross\", \"size\": 0.8, \"x\": 91}, {\"y\": 14.87429221456877, \"shape\": \"cross\", \"size\": 0.8, \"x\": 92}, {\"y\": 14.885720689493217, \"shape\": \"cross\", \"size\": 0.8, \"x\": 93}, {\"y\": 14.994558987021078, \"shape\": \"cross\", \"size\": 0.8, \"x\": 94}, {\"y\": 14.998206330730758, \"shape\": \"cross\", \"size\": 0.8, \"x\": 95}, {\"y\": 15.017608699081515, \"shape\": \"cross\", \"size\": 0.8, \"x\": 96}, {\"y\": 15.040725125566679, \"shape\": \"cross\", \"size\": 0.8, \"x\": 97}, {\"y\": 15.48360545483769, \"shape\": \"cross\", \"size\": 0.8, \"x\": 98}, {\"y\": 15.919847696915507, \"shape\": \"cross\", \"size\": 0.8, \"x\": 99}], \"yAxis\": \"1\"}, {\"key\": \"31\", \"values\": [{\"y\": 14.0784314349494, \"shape\": \"cross\", \"size\": 0.8, \"x\": 90}, {\"y\": 14.163486848100789, \"shape\": \"cross\", \"size\": 0.8, \"x\": 91}, {\"y\": 14.179276034548126, \"shape\": \"cross\", \"size\": 0.8, \"x\": 92}, {\"y\": 14.191536871363434, \"shape\": \"cross\", \"size\": 0.8, \"x\": 93}, {\"y\": 14.1936596771418, \"shape\": \"cross\", \"size\": 0.8, \"x\": 94}, {\"y\": 14.249626133032406, \"shape\": \"cross\", \"size\": 0.8, \"x\": 95}, {\"y\": 14.372530402045786, \"shape\": \"cross\", \"size\": 0.8, \"x\": 96}, {\"y\": 14.504620782177897, \"shape\": \"cross\", \"size\": 0.8, \"x\": 97}, {\"y\": 14.8064177907432, \"shape\": \"cross\", \"size\": 0.8, \"x\": 98}, {\"y\": 15.133894123870288, \"shape\": \"cross\", \"size\": 0.8, \"x\": 99}], \"yAxis\": \"1\"}];\n",
        "\n",
        "\n",
        "        nv.addGraph(function() {\n",
        "        var chart = nv.models.lineChart();\n",
        "\n",
        "        chart.margin({top: 30, right: 60, bottom: 20, left: 60});\n",
        "\n",
        "        var datum = data_knn;\n",
        "\n",
        "\n",
        "\n",
        "                chart.xAxis\n",
        "                .tickFormat(d3.format(',r'));\n",
        "            chart.yAxis\n",
        "                .tickFormat(d3.format(',.02f'));\n",
        "\n",
        "\n",
        "\n",
        "          chart.showLegend(true);\n",
        "\n",
        "\n",
        "    \n",
        "\n",
        "        \n",
        "\n",
        "\n",
        "\n",
        "            d3.select('#knn svg')\n",
        "            .datum(datum)\n",
        "            .transition().duration(500)\n",
        "            .attr('width', 800)\n",
        "            .attr('height', 400)\n",
        "            .call(chart);\n",
        "\n",
        "\n",
        "        });\n",
        "\n",
        "\n",
        "\n",
        "    </script>\n",
        "\n",
        "    </body>\n",
        "</html>"
       ],
       "metadata": {},
       "output_type": "display_data",
       "text": [
        "<IPython.core.display.HTML at 0x10a1914a8>"
       ]
      },
      {
       "metadata": {},
       "output_type": "pyout",
       "prompt_number": 4,
       "text": [
        "<function __main__.draw_scatter>"
       ]
      }
     ],
     "prompt_number": 4
    }
   ],
   "metadata": {}
  }
 ]
}