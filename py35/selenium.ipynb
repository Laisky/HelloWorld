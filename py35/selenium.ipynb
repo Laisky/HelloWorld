{
 "cells": [
  {
   "cell_type": "code",
   "execution_count": 6,
   "metadata": {
    "collapsed": false
   },
   "outputs": [],
   "source": [
    "from selenium import webdriver\n",
    "from selenium.webdriver.common.keys import Keys\n",
    " \n",
    "    \n",
    "browser = webdriver.Chrome()\n",
    "browser.get('http://www.baidu.com/')\n",
    "\n",
    "elem = browser.find_element_by_css_selector('input.s_ipt')\n",
    "elem.send_keys('python')\n",
    "elem.send_keys(Keys.RETURN)"
   ]
  },
  {
   "cell_type": "code",
   "execution_count": 23,
   "metadata": {
    "collapsed": false
   },
   "outputs": [
    {
     "data": {
      "text/plain": [
       "[{'domain': '.baidu.com',\n",
       "  'httpOnly': False,\n",
       "  'name': 'H_PS_PSSID',\n",
       "  'path': '/',\n",
       "  'secure': False,\n",
       "  'value': '1432_17943_18205_17000_15072_11464_10632'},\n",
       " {'domain': 'www.baidu.com',\n",
       "  'httpOnly': False,\n",
       "  'name': 'BDSVRTM',\n",
       "  'path': '/',\n",
       "  'secure': False,\n",
       "  'value': '112'},\n",
       " {'domain': 'www.baidu.com',\n",
       "  'httpOnly': False,\n",
       "  'name': 'BD_CK_SAM',\n",
       "  'path': '/',\n",
       "  'secure': False,\n",
       "  'value': '1'},\n",
       " {'domain': 'www.baidu.com',\n",
       "  'expiry': 1459752977,\n",
       "  'httpOnly': False,\n",
       "  'name': 'BD_UPN',\n",
       "  'path': '/',\n",
       "  'secure': False,\n",
       "  'value': '123253'},\n",
       " {'domain': 'www.baidu.com',\n",
       "  'httpOnly': False,\n",
       "  'name': 'BD_HOME',\n",
       "  'path': '/',\n",
       "  'secure': False,\n",
       "  'value': '0'},\n",
       " {'domain': '.baidu.com',\n",
       "  'expiry': 3606372623.270806,\n",
       "  'httpOnly': False,\n",
       "  'name': 'PSTM',\n",
       "  'path': '/',\n",
       "  'secure': False,\n",
       "  'value': '1458888976'},\n",
       " {'domain': '.baidu.com',\n",
       "  'expiry': 3606372623.270763,\n",
       "  'httpOnly': False,\n",
       "  'name': 'BIDUPSID',\n",
       "  'path': '/',\n",
       "  'secure': False,\n",
       "  'value': 'C59BEC5C9120F8B65097FEADC7CF76A0'},\n",
       " {'domain': '.baidu.com',\n",
       "  'expiry': 3606372623.270504,\n",
       "  'httpOnly': False,\n",
       "  'name': 'BAIDUID',\n",
       "  'path': '/',\n",
       "  'secure': False,\n",
       "  'value': 'C59BEC5C9120F8B65097FEADC7CF76A0:FG=1'}]"
      ]
     },
     "execution_count": 23,
     "metadata": {},
     "output_type": "execute_result"
    }
   ],
   "source": [
    "browser.get_cookies()"
   ]
  },
  {
   "cell_type": "code",
   "execution_count": 12,
   "metadata": {
    "collapsed": false
   },
   "outputs": [
    {
     "ename": "TypeError",
     "evalue": "'SwitchTo' object is not callable",
     "output_type": "error",
     "traceback": [
      "\u001b[0;31m---------------------------------------------------------------------------\u001b[0m",
      "\u001b[0;31mTypeError\u001b[0m                                 Traceback (most recent call last)",
      "\u001b[0;32m<ipython-input-12-572b5cf7871b>\u001b[0m in \u001b[0;36m<module>\u001b[0;34m()\u001b[0m\n\u001b[0;32m----> 1\u001b[0;31m \u001b[0mbrowser\u001b[0m\u001b[0;34m.\u001b[0m\u001b[0mswitch_to\u001b[0m\u001b[0;34m(\u001b[0m\u001b[0mbrowser\u001b[0m\u001b[0;34m.\u001b[0m\u001b[0mwindow_handles\u001b[0m\u001b[0;34m[\u001b[0m\u001b[0;36m0\u001b[0m\u001b[0;34m]\u001b[0m\u001b[0;34m)\u001b[0m\u001b[0;34m\u001b[0m\u001b[0m\n\u001b[0m",
      "\u001b[0;31mTypeError\u001b[0m: 'SwitchTo' object is not callable"
     ]
    }
   ],
   "source": [
    "browser.switch_to(browser.window_handles[0])"
   ]
  },
  {
   "cell_type": "code",
   "execution_count": 8,
   "metadata": {
    "collapsed": false
   },
   "outputs": [],
   "source": [
    "from selenium.webdriver.support.ui import Select\n",
    "\n",
    "Select.de[]"
   ]
  }
 ],
 "metadata": {
  "kernelspec": {
   "display_name": "Python 3",
   "language": "python",
   "name": "python3"
  },
  "language_info": {
   "codemirror_mode": {
    "name": "ipython",
    "version": 3
   },
   "file_extension": ".py",
   "mimetype": "text/x-python",
   "name": "python",
   "nbconvert_exporter": "python",
   "pygments_lexer": "ipython3",
   "version": "3.5.1"
  }
 },
 "nbformat": 4,
 "nbformat_minor": 0
}
