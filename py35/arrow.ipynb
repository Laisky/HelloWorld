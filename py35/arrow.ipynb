{
 "cells": [
  {
   "cell_type": "code",
   "execution_count": 1,
   "metadata": {
    "collapsed": true
   },
   "outputs": [],
   "source": [
    "# https://github.com/crsmithdev/arrow\n",
    "# human-friendly datetime library"
   ]
  },
  {
   "cell_type": "code",
   "execution_count": 10,
   "metadata": {
    "collapsed": true
   },
   "outputs": [],
   "source": [
    "import arrow\n",
    "import pytz"
   ]
  },
  {
   "cell_type": "code",
   "execution_count": 24,
   "metadata": {
    "collapsed": false
   },
   "outputs": [
    {
     "name": "stdout",
     "output_type": "stream",
     "text": [
      "2016-12-23 01:23:42.346967+00:00\n",
      "2016-12-23 09:23:42.346967+08:00\n",
      "2016-12-23T01:23:42.346967+08:06\n"
     ]
    }
   ],
   "source": [
    "dt = arrow.utcnow()\n",
    "print(dt.datetime)\n",
    "\n",
    "tz = pytz.timezone('Asia/Shanghai')\n",
    "print(dt.astimezone(tz))\n",
    "\n",
    "print(dt.replace(tzinfo=tz))"
   ]
  }
 ],
 "metadata": {
  "kernelspec": {
   "display_name": "Python 3",
   "language": "python",
   "name": "python3"
  },
  "language_info": {
   "codemirror_mode": {
    "name": "ipython",
    "version": 3
   },
   "file_extension": ".py",
   "mimetype": "text/x-python",
   "name": "python",
   "nbconvert_exporter": "python",
   "pygments_lexer": "ipython3",
   "version": "3.5.1"
  }
 },
 "nbformat": 4,
 "nbformat_minor": 0
}
