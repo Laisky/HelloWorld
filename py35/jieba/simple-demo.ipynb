{
 "cells": [
  {
   "cell_type": "code",
   "execution_count": 41,
   "metadata": {
    "collapsed": true
   },
   "outputs": [],
   "source": [
    "# jieba 分词\n",
    "# https://github.com/fxsjy/jieba\n",
    "\n",
    "from collections import defaultdict\n",
    "from heapq import nlargest\n",
    "\n",
    "import jieba\n",
    "from jieba import analyse as jieba_analyse\n",
    "import pymongo\n",
    "\n",
    "\n",
    "jieba.enable_parallel(4)"
   ]
  },
  {
   "cell_type": "code",
   "execution_count": 7,
   "metadata": {
    "collapsed": true
   },
   "outputs": [],
   "source": [
    "conn = pymongo.MongoClient()\n",
    "db = conn['blog']\n",
    "col = db['posts']"
   ]
  },
  {
   "cell_type": "code",
   "execution_count": 5,
   "metadata": {
    "collapsed": false
   },
   "outputs": [
    {
     "name": "stderr",
     "output_type": "stream",
     "text": [
      "Building prefix dict from the default dictionary ...\n",
      "Dumping model to file cache /var/folders/v0/02b7gzrx6cq8b66pbk00byf00000gp/T/jieba.cache\n",
      "Loading model cost 1.419 seconds.\n",
      "Prefix dict has been built succesfully.\n"
     ]
    },
    {
     "data": {
      "text/plain": [
       "['我', '来到', '北京', '清华大学']"
      ]
     },
     "execution_count": 5,
     "metadata": {},
     "output_type": "execute_result"
    }
   ],
   "source": [
    "seg_list = jieba.cut(\"我来到北京清华大学\", cut_all=False)\n",
    "list(seg_list)"
   ]
  },
  {
   "cell_type": "code",
   "execution_count": 44,
   "metadata": {
    "collapsed": false
   },
   "outputs": [
    {
     "data": {
      "text/plain": [
       "['习惯性',\n",
       " '辐条',\n",
       " '轨道',\n",
       " '程序',\n",
       " '原理图',\n",
       " '情况',\n",
       " '新人',\n",
       " '国神',\n",
       " '画布',\n",
       " '数据格式',\n",
       " '奴役',\n",
       " '技巧',\n",
       " '模式',\n",
       " '中央集权',\n",
       " '集权',\n",
       " '美学',\n",
       " '项目',\n",
       " '亮度',\n",
       " '兴趣',\n",
       " '文章']"
      ]
     },
     "execution_count": 44,
     "metadata": {},
     "output_type": "execute_result"
    }
   ],
   "source": [
    "tags = defaultdict(int)\n",
    "\n",
    "n = 0\n",
    "for docu in col.find({}, {'post_content': 1}).sort('_id', pymongo.DESCENDING):\n",
    "    n += 1\n",
    "    if n > 500:\n",
    "        break\n",
    "        \n",
    "    content = docu['post_content']\n",
    "    keys = jieba_analyse.extract_tags(content.encode('utf8'), allowPOS=('ns'))\n",
    "    [tags[k] + 1 for k in keys if k]\n",
    "    \n",
    "\n",
    "nlargest(20, tags, key=lambda k: tags[k])"
   ]
  }
 ],
 "metadata": {
  "kernelspec": {
   "display_name": "Python 3",
   "language": "python",
   "name": "python3"
  },
  "language_info": {
   "codemirror_mode": {
    "name": "ipython",
    "version": 3
   },
   "file_extension": ".py",
   "mimetype": "text/x-python",
   "name": "python",
   "nbconvert_exporter": "python",
   "pygments_lexer": "ipython3",
   "version": "3.5.1"
  }
 },
 "nbformat": 4,
 "nbformat_minor": 0
}
