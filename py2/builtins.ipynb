{
 "cells": [
  {
   "cell_type": "code",
   "execution_count": 12,
   "metadata": {
    "collapsed": false
   },
   "outputs": [
    {
     "name": "stdout",
     "output_type": "stream",
     "text": [
      "defaultdict(<type 'list'>, {1: [P(a=1, b=2), P(a=2, b=3)]})\n"
     ]
    }
   ],
   "source": [
    "# pickle\n",
    "\n",
    "from collections import namedtuple, defaultdict\n",
    "import cPickle as pickle\n",
    "\n",
    "\n",
    "P = namedtuple('P', ['a', 'b'])\n",
    "\n",
    "def setup():\n",
    "    p1 = P(1, 2)\n",
    "    p2 = P(2, 3)\n",
    "\n",
    "    data = defaultdict(list)\n",
    "    data[1] = [p1, p2]\n",
    "\n",
    "    \n",
    "    return data\n",
    "\n",
    "def test(data):\n",
    "    with open('/tmp/test.pkl', 'wb') as f:\n",
    "        pickle.dump(data, f)\n",
    "        \n",
    "        \n",
    "\n",
    "data = setup()\n",
    "test(data)\n",
    "\n",
    "\n",
    "with open('/tmp/test.pkl', 'rb') as f:\n",
    "    print(pickle.load(f))"
   ]
  }
 ],
 "metadata": {
  "kernelspec": {
   "display_name": "Python 2",
   "language": "python",
   "name": "python2"
  },
  "language_info": {
   "codemirror_mode": {
    "name": "ipython",
    "version": 2
   },
   "file_extension": ".py",
   "mimetype": "text/x-python",
   "name": "python",
   "nbconvert_exporter": "python",
   "pygments_lexer": "ipython2",
   "version": "2.7.9"
  }
 },
 "nbformat": 4,
 "nbformat_minor": 2
}
