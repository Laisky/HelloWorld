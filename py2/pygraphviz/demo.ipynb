{
 "cells": [
  {
   "cell_type": "code",
   "execution_count": 18,
   "metadata": {
    "collapsed": true
   },
   "outputs": [],
   "source": [
    "from __future__ import unicode_literals\n",
    "from IPython.display import Image\n",
    "\n",
    "\n",
    "import pygraphviz"
   ]
  },
  {
   "cell_type": "code",
   "execution_count": 24,
   "metadata": {
    "collapsed": false
   },
   "outputs": [
    {
     "data": {
      "image/jpeg": "[encoded data removed]",
      "text/plain": [
       "<IPython.core.display.Image object>"
      ]
     },
     "execution_count": 24,
     "metadata": {},
     "output_type": "execute_result"
    }
   ],
   "source": [
    "g = pygraphviz.AGraph(\n",
    "    encoding='UTF-8',   # 为了可以显示中文\n",
    "    rankdir='LR',       # 从左到右，默认为 TB\n",
    "    directed=True       # 有向图\n",
    ")\n",
    "\n",
    "g.add_node('node0')\n",
    "g.add_node('node1')\n",
    "g.add_node('node2')\n",
    "\n",
    "g.add_edge('node0', 'node1')\n",
    "g.add_edge('node1', 'node2')\n",
    "\n",
    "g.layout('dot')\n",
    "g.draw('demo.jpg', format='jpg')\n",
    "Image('demo.jpg')"
   ]
  }
 ],
 "metadata": {
  "kernelspec": {
   "display_name": "Python 2",
   "language": "python",
   "name": "python2"
  },
  "language_info": {
   "codemirror_mode": {
    "name": "ipython",
    "version": 2
   },
   "file_extension": ".py",
   "mimetype": "text/x-python",
   "name": "python",
   "nbconvert_exporter": "python",
   "pygments_lexer": "ipython2",
   "version": "2.7.9"
  }
 },
 "nbformat": 4,
 "nbformat_minor": 0
}
