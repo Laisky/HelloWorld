{
 "cells": [
  {
   "cell_type": "markdown",
   "metadata": {},
   "source": [
    "### [The Stack Abstract Data Type 栈的抽象数据类型](http://blog.csdn.net/python2014/article/details/21232011)\n",
    "\n",
    "- Stack() creates a new stack thatis empty. It needs no parameters and returns an emptystack.\n",
    "- Stack(),构造方法，创建一个空栈，无参数，返回值是空栈。\n",
    "- push(item) adds a new item to thetop of the stack. It needs the item and returnsnothing.\n",
    "- Push(item)向栈顶压入一个新数据项，需要一个数据项参数，无返回值。\n",
    "- pop() removes the top item from thestack. It needs no parameters and returns the item. The stack ismodified.\n",
    "- pop()抛出栈顶数据项，无参数，返回被抛出的数据项，栈本身发生变化。\n",
    "- peek() returns the top item fromthe stack but does not remove it. It needs no parameters. The stackis not modified.\n",
    "- Peek()返回栈顶数据项，但不删除。不需要参数，栈不变。\n",
    "- isEmpty() tests to see whether the stackis empty. It needs no parameters and returns a booleanvalue.\n",
    "- isEmpty()测试栈是否空栈。不需要参数，返回布尔值。\n",
    "- size() returns the number of items onthe stack. It needs no parameters and returns aninteger.\n",
    "- size()返回栈内数据项的数目，不需要参数，返回值是整数。"
   ]
  },
  {
   "cell_type": "code",
   "execution_count": 2,
   "metadata": {
    "collapsed": true
   },
   "outputs": [],
   "source": [
    "class Stack:\n",
    "\n",
    "    def __init__(self):\n",
    "        self.items = []\n",
    "\n",
    "    def isEmpty(self):\n",
    "        return self.items == []\n",
    "\n",
    "    def push(self, item):\n",
    "        self.items.append(item)\n",
    " \n",
    "    def pop(self):\n",
    "        return self.items.pop()\n",
    "\n",
    "    def peek(self):\n",
    "        return self.items[len(self.items)-1]\n",
    "\n",
    "    def size(self):\n",
    "        return len(self.items)"
   ]
  },
  {
   "cell_type": "code",
   "execution_count": 6,
   "metadata": {
    "collapsed": false
   },
   "outputs": [
    {
     "name": "stdout",
     "output_type": "stream",
     "text": [
      "3\n"
     ]
    },
    {
     "data": {
      "text/plain": [
       "'v'"
      ]
     },
     "execution_count": 6,
     "metadata": {},
     "output_type": "execute_result"
    }
   ],
   "source": [
    "s = Stack()\n",
    "list(map(s.push, ('a', 'b', 'v')))\n",
    "\n",
    "print(s.size())\n",
    "s.pop()"
   ]
  },
  {
   "cell_type": "code",
   "execution_count": 32,
   "metadata": {
    "collapsed": false
   },
   "outputs": [
    {
     "name": "stdout",
     "output_type": "stream",
     "text": [
      "100000000\n"
     ]
    }
   ],
   "source": [
    "def digi2bina(number, result=[]):\n",
    "    if number < 2:\n",
    "        result.insert(0, number)\n",
    "        return ''.join([str(n) for n in result])\n",
    "    \n",
    "    result.insert(0, number % 2)\n",
    "    return digi2bina(number // 2, result)\n",
    "    \n",
    "    \n",
    "print(digi2bina(256))"
   ]
  }
 ],
 "metadata": {
  "kernelspec": {
   "display_name": "Python 3",
   "language": "python",
   "name": "python3"
  },
  "language_info": {
   "codemirror_mode": {
    "name": "ipython",
    "version": 3
   },
   "file_extension": ".py",
   "mimetype": "text/x-python",
   "name": "python",
   "nbconvert_exporter": "python",
   "pygments_lexer": "ipython3",
   "version": "3.4.2"
  }
 },
 "nbformat": 4,
 "nbformat_minor": 0
}
