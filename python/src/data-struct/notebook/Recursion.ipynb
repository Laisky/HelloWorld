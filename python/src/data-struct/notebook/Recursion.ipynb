{
 "cells": [
  {
   "cell_type": "markdown",
   "metadata": {},
   "source": [
    "Recursion\n",
    "===\n",
    "\n",
    "http://blog.csdn.net/python2014/article/details/22187531"
   ]
  },
  {
   "cell_type": "code",
   "execution_count": 1,
   "metadata": {
    "collapsed": true
   },
   "outputs": [],
   "source": [
    "import turtle\n",
    "\n",
    "\n",
    "def tree(branch_len, t):\n",
    "    if branch_len > 6:\n",
    "        t.forward(branch_len)\n",
    "        t.right(20)\n",
    "        tree(branch_len / 2, t)\n",
    "        t.left(40)\n",
    "        tree(branch_len / 2, t)\n",
    "        t.right(20)\n",
    "        t.backward(branch_len)\n",
    "        \n",
    "        \n",
    "def main():\n",
    "    t = turtle.Turtle()\n",
    "    win = turtle.Screen()\n",
    "    current_ang = 0\n",
    "    ang = 30\n",
    "    while current_ang < 360:\n",
    "        t.left(ang)\n",
    "        t.color('black')\n",
    "        tree(75, t)\n",
    "        current_ang += ang\n",
    "\n",
    "    win.exitonclick()\n",
    "    \n",
    "    \n",
    "main()"
   ]
  },
  {
   "cell_type": "markdown",
   "metadata": {},
   "source": [
    "![](http://7xjvpy.dl1.z0.glb.clouddn.com/turtle.gif)"
   ]
  },
  {
   "cell_type": "markdown",
   "metadata": {},
   "source": [
    "## Triangle\n",
    "\n",
    "http://blog.csdn.net/python2014/article/details/22604367"
   ]
  },
  {
   "cell_type": "code",
   "execution_count": 8,
   "metadata": {
    "collapsed": false
   },
   "outputs": [],
   "source": [
    "import turtle\n",
    "\n",
    "\n",
    "t = turtle.Turtle()\n",
    "win = turtle.Screen()\n",
    "\n",
    "INIT_POINTS = ((-500, -250), (0, 500), (500, -250))\n",
    "COLOR_MAP = ('blue','red','green','white','yellow','violet','orange')\n",
    "\n",
    "\n",
    "def draw_triangle(points, color):\n",
    "    \"\"\"绘制三角形\n",
    "    points: 三角形的顶点\n",
    "    color: 填充色\n",
    "    \"\"\"\n",
    "    t.fillcolor(color)\n",
    "    t.up()\n",
    "    t.goto(*points[0])\n",
    "    t.down()\n",
    "    t.begin_fill()\n",
    "    t.goto(*points[1])\n",
    "    t.goto(*points[2])\n",
    "    t.goto(*points[0])\n",
    "    t.end_fill()\n",
    "   \n",
    "\n",
    "def get_middle(p1, p2):\n",
    "    return (p1[0]+p2[0]) / 2, (p1[1]+p2[1]) / 2\n",
    "\n",
    "\n",
    "def draw_sierpinski_triangle(points, degree=5):\n",
    "    \"\"\"绘制谢尔宾斯基三角\n",
    "    init_points: 初始的三角形\n",
    "    degree: 递归度\n",
    "    \"\"\"\n",
    "    draw_triangle(points, COLOR_MAP[degree % len(COLOR_MAP)])\n",
    "    if degree > 0:\n",
    "        draw_sierpinski_triangle(\n",
    "            (points[0], \n",
    "             get_middle(points[0], points[1]), \n",
    "             get_middle(points[0], points[2])),\n",
    "            degree=degree-1\n",
    "        )\n",
    "        draw_sierpinski_triangle(\n",
    "            (points[1], \n",
    "             get_middle(points[0], points[1]), \n",
    "             get_middle(points[1], points[2])),\n",
    "            degree=degree-1\n",
    "        )\n",
    "        draw_sierpinski_triangle(\n",
    "            (points[2], \n",
    "             get_middle(points[2], points[1]), \n",
    "             get_middle(points[0], points[2])),\n",
    "            degree=degree-1\n",
    "        )\n",
    "        \n",
    "        \n",
    "def main():\n",
    "    draw_sierpinski_triangle(INIT_POINTS)\n",
    "    win.exitonclick()\n",
    "\n",
    "main()"
   ]
  },
  {
   "cell_type": "markdown",
   "metadata": {},
   "source": [
    "![](http://7xjvpy.dl1.z0.glb.clouddn.com/triangle.gif)"
   ]
  }
 ],
 "metadata": {
  "kernelspec": {
   "display_name": "Python 3",
   "language": "python",
   "name": "python3"
  },
  "language_info": {
   "codemirror_mode": {
    "name": "ipython",
    "version": 3
   },
   "file_extension": ".py",
   "mimetype": "text/x-python",
   "name": "python",
   "nbconvert_exporter": "python",
   "pygments_lexer": "ipython3",
   "version": "3.4.2"
  }
 },
 "nbformat": 4,
 "nbformat_minor": 0
}
