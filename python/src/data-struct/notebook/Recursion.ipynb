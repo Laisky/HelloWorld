{
 "cells": [
  {
   "cell_type": "markdown",
   "metadata": {},
   "source": [
    "## Recursion\n",
    "\n",
    "http://blog.csdn.net/python2014/article/details/22187531"
   ]
  },
  {
   "cell_type": "code",
   "execution_count": 1,
   "metadata": {
    "collapsed": true
   },
   "outputs": [],
   "source": [
    "import turtle\n",
    "\n",
    "\n",
    "def tree(branch_len, t):\n",
    "    if branch_len > 6:\n",
    "        t.forward(branch_len)\n",
    "        t.right(20)\n",
    "        tree(branch_len / 2, t)\n",
    "        t.left(40)\n",
    "        tree(branch_len / 2, t)\n",
    "        t.right(20)\n",
    "        t.backward(branch_len)\n",
    "        \n",
    "        \n",
    "def main():\n",
    "    t = turtle.Turtle()\n",
    "    win = turtle.Screen()\n",
    "    current_ang = 0\n",
    "    ang = 30\n",
    "    while current_ang < 360:\n",
    "        t.left(ang)\n",
    "        t.color('black')\n",
    "        tree(75, t)\n",
    "        current_ang += ang\n",
    "\n",
    "    win.exitonclick()"
   ]
  },
  {
   "cell_type": "code",
   "execution_count": null,
   "metadata": {
    "collapsed": true
   },
   "outputs": [],
   "source": [
    "main()"
   ]
  },
  {
   "cell_type": "markdown",
   "metadata": {},
   "source": [
    "![](http://7xjvpy.dl1.z0.glb.clouddn.com/turtle.gif)"
   ]
  }
 ],
 "metadata": {
  "kernelspec": {
   "display_name": "Python 3",
   "language": "python",
   "name": "python3"
  },
  "language_info": {
   "codemirror_mode": {
    "name": "ipython",
    "version": 3
   },
   "file_extension": ".py",
   "mimetype": "text/x-python",
   "name": "python",
   "nbconvert_exporter": "python",
   "pygments_lexer": "ipython3",
   "version": "3.4.2"
  }
 },
 "nbformat": 4,
 "nbformat_minor": 0
}
