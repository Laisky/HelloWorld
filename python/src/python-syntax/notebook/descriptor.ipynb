{
 "metadata": {
  "name": "",
  "signature": "sha256:f0004571f89a81ed72ad117f9bcedc0df4defd0b67c46808bb0991c610a03fbb"
 },
 "nbformat": 3,
 "nbformat_minor": 0,
 "worksheets": [
  {
   "cells": [
    {
     "cell_type": "code",
     "collapsed": false,
     "input": [
      "# property \u7684\u5b9e\u73b01\n",
      "class A():\n",
      "    def __init__(self):\n",
      "        self._attr = 2\n",
      "    \n",
      "    @property\n",
      "    def attr(self):\n",
      "        return self._attr\n",
      "    \n",
      "    @attr.setter\n",
      "    def attr(self, val):\n",
      "        print('try to set attr =', val)\n",
      "        self._attr = val\n",
      "        \n",
      "    @attr.deleter\n",
      "    def attr(self):\n",
      "        print('try to delete attr')\n",
      "        del self._attr\n",
      "\n",
      "\n",
      "a = A()\n",
      "print(a.attr)\n",
      "a.attr = 3\n",
      "print(a.attr)\n",
      "del a.attr"
     ],
     "language": "python",
     "metadata": {},
     "outputs": [
      {
       "output_type": "stream",
       "stream": "stdout",
       "text": [
        "2\n",
        "try to set attr = 3\n",
        "3\n",
        "try to delete attr\n"
       ]
      }
     ],
     "prompt_number": 3
    },
    {
     "cell_type": "code",
     "collapsed": false,
     "input": [
      "# property \u7684\u5b9e\u73b02\n",
      "class B():\n",
      "    def __init__(self):\n",
      "        self._attr = 1\n",
      "        \n",
      "    def getattr(self):\n",
      "        print('get attr')\n",
      "        return self._attr\n",
      "    \n",
      "    def setattr(self, val):\n",
      "        print('set attr by val', val)\n",
      "        self._attr = val\n",
      "        \n",
      "    attr = property(fget=getattr, fset=setattr)\n",
      "        \n",
      "b = B()\n",
      "print(b.attr)\n",
      "b.attr = 2\n",
      "print(b.attr)"
     ],
     "language": "python",
     "metadata": {},
     "outputs": [
      {
       "output_type": "stream",
       "stream": "stdout",
       "text": [
        "get attr\n",
        "1\n",
        "set attr by val 2\n",
        "get attr\n",
        "2\n"
       ]
      }
     ],
     "prompt_number": 4
    },
    {
     "cell_type": "code",
     "collapsed": false,
     "input": [
      "# \u7c7b\u7684\u5b9e\u73b0\n",
      "class AttrDescriptor():\n",
      "    def __init__(self, init_val):\n",
      "        self._val = init_val\n",
      "        \n",
      "    def __get__(self, obj, obj_type):\n",
      "        print('get attr by obj {}, obj_type {}'.format(obj, obj_type))\n",
      "        return self._val\n",
      "    \n",
      "    def __set__(self ,obj, val):\n",
      "        print('set attr by obj {}, val {}'.format(obj, val))\n",
      "        self._val = val\n",
      "     \n",
      "        \n",
      "class C():\n",
      "    attr = AttrDescriptor(10)\n",
      "    \n",
      "c = C()\n",
      "print(c.attr)\n",
      "c.attr = 2"
     ],
     "language": "python",
     "metadata": {},
     "outputs": [
      {
       "output_type": "stream",
       "stream": "stdout",
       "text": [
        "get attr by obj <__main__.C object at 0x10caff8d0>, obj_type <class '__main__.C'>\n",
        "10\n",
        "set attr by obj <__main__.C object at 0x10caff8d0>, val 2\n"
       ]
      }
     ],
     "prompt_number": 6
    },
    {
     "cell_type": "code",
     "collapsed": false,
     "input": [
      "# __getattr__ & __getattribute__\n",
      "class D():\n",
      "    attr = 1\n",
      "    def __getattr__(self, item):\n",
      "        print('get item {} by __getattr__'.format(item))\n",
      "        return super(D, self).__getattribute__(item)\n",
      "    \n",
      "    def __getattribute__(self, item):\n",
      "        print('get item {} by __getattribute__'.format(item))\n",
      "        raise AttributeError  # __getattribute__'s AttributeError will invoke __getattr__\n",
      "        \n",
      "\n",
      "d = D()\n",
      "d.attr"
     ],
     "language": "python",
     "metadata": {},
     "outputs": [
      {
       "output_type": "stream",
       "stream": "stdout",
       "text": [
        "get item attr by __getattribute__\n",
        "get item attr by __getattr__\n"
       ]
      },
      {
       "metadata": {},
       "output_type": "pyout",
       "prompt_number": 2,
       "text": [
        "1"
       ]
      }
     ],
     "prompt_number": 2
    },
    {
     "cell_type": "code",
     "collapsed": false,
     "input": [
      "class cached_property(object):\n",
      "\n",
      "    '''A property that is only computed once per instance and then replaces\n",
      "    itself with an ordinary attribute. Deleting the attribute reset the\n",
      "    property.\n",
      "    Credit to Marcel Hellkamp, author of bottle.py.\n",
      "    copy from https://github.com/bottlepy/bottle/blob/master/bottle.py#L183\n",
      "    '''\n",
      "\n",
      "    def __init__(self, func):\n",
      "        self.__doc__ = getattr(func, '__doc__')\n",
      "        self.func = func\n",
      "\n",
      "    def __get__(self, obj, cls):\n",
      "        if obj is None:\n",
      "            return self\n",
      "        value = obj.__dict__[self.func.__name__] = self.func(obj)\n",
      "        return value\n",
      "    \n",
      "\n",
      "class E():\n",
      "    def __init__(self, val):\n",
      "        self.var = val\n",
      "        \n",
      "    @cached_property\n",
      "    def calc(self):\n",
      "        print('calculate')\n",
      "        return self.var\n",
      "    \n",
      "e = E(10)\n",
      "e.calc\n",
      "e.calc\n",
      "delattr(e, 'calc')\n",
      "e.calc"
     ],
     "language": "python",
     "metadata": {},
     "outputs": [
      {
       "output_type": "stream",
       "stream": "stdout",
       "text": [
        "calculate\n",
        "calculate\n"
       ]
      },
      {
       "metadata": {},
       "output_type": "pyout",
       "prompt_number": 12,
       "text": [
        "10"
       ]
      }
     ],
     "prompt_number": 12
    }
   ],
   "metadata": {}
  }
 ]
}