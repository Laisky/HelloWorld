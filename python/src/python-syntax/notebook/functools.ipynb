{
 "cells": [
  {
   "cell_type": "code",
   "execution_count": 1,
   "metadata": {
    "collapsed": false
   },
   "outputs": [
    {
     "name": "stdout",
     "output_type": "stream",
     "text": [
      "[60, 60, 60, 60, 60, 60, 60, 60, 60, 60]\n",
      "[94, 49, 41, 41, 1, 53, 63, 100, 13, 100]\n"
     ]
    }
   ],
   "source": [
    "# lru_cache 缓存\n",
    "\n",
    "import random\n",
    "from functools import lru_cache\n",
    "\n",
    "\n",
    "@lru_cache()\n",
    "def io_oper(n=None):\n",
    "    return random.randint(1, 100)\n",
    "\n",
    "\n",
    "print([io_oper() for _ in range(10)]) \n",
    "print([io_oper(_) for _ in range(10)])  # 缓存根据函数签名来"
   ]
  },
  {
   "cell_type": "code",
   "execution_count": 2,
   "metadata": {
    "collapsed": false
   },
   "outputs": [
    {
     "data": {
      "text/plain": [
       "False"
      ]
     },
     "execution_count": 2,
     "metadata": {},
     "output_type": "execute_result"
    }
   ],
   "source": [
    "# total_ordering\n",
    "\n",
    "# The class must define one of __lt__(), __le__(), __gt__(), or __ge__(). \n",
    "# In addition, the class should supply an __eq__() method.\n",
    "\n",
    "from functools import total_ordering\n",
    "\n",
    "\n",
    "@total_ordering\n",
    "class MyClass():\n",
    "    \n",
    "    def __init__(self, val):\n",
    "        self.val = val\n",
    "        \n",
    "    def __eq__(self, other):\n",
    "        return self.val == other.val\n",
    "    \n",
    "    def __lt__(self, other):\n",
    "        return self.val < other.val\n",
    "    \n",
    "    \n",
    "o1 = MyClass(1)\n",
    "o2 = MyClass(2)\n",
    "\n",
    "o1 > o2"
   ]
  },
  {
   "cell_type": "code",
   "execution_count": 3,
   "metadata": {
    "collapsed": false
   },
   "outputs": [
    {
     "data": {
      "text/plain": [
       "3"
      ]
     },
     "execution_count": 3,
     "metadata": {},
     "output_type": "execute_result"
    }
   ],
   "source": [
    "# partial\n",
    "\n",
    "from functools import partial\n",
    "\n",
    "\n",
    "my_random = partial(random.randint, 1)\n",
    "\n",
    "my_random(10)"
   ]
  },
  {
   "cell_type": "code",
   "execution_count": 4,
   "metadata": {
    "collapsed": false
   },
   "outputs": [
    {
     "data": {
      "text/plain": [
       "17"
      ]
     },
     "execution_count": 4,
     "metadata": {},
     "output_type": "execute_result"
    }
   ],
   "source": [
    "# partialmethod 和 partial 类似，不过用于类方法\n",
    "\n",
    "from functools import partialmethod\n",
    "\n",
    "\n",
    "class MyClass2():\n",
    "    \n",
    "    def __init__(self, val):\n",
    "        self.val = val\n",
    "        \n",
    "    def my_add(self, a, b):\n",
    "        return self.val + a + b\n",
    "    \n",
    "    simple_add = partialmethod(my_add, 10)\n",
    "    \n",
    "    \n",
    "o3 = MyClass2(2)\n",
    "o3.simple_add(5)"
   ]
  },
  {
   "cell_type": "code",
   "execution_count": 5,
   "metadata": {
    "collapsed": false
   },
   "outputs": [
    {
     "data": {
      "text/plain": [
       "15"
      ]
     },
     "execution_count": 5,
     "metadata": {},
     "output_type": "execute_result"
    }
   ],
   "source": [
    "# reduce\n",
    "\n",
    "from functools import reduce\n",
    "\n",
    "# reduce(function, iterable[, initializer])\n",
    "reduce(lambda x, y: x + y, [1,2,3,4,5])"
   ]
  },
  {
   "cell_type": "code",
   "execution_count": 6,
   "metadata": {
    "collapsed": false
   },
   "outputs": [
    {
     "name": "stdout",
     "output_type": "stream",
     "text": [
      "middle\n",
      "None\n",
      "-----\n",
      "int 123\n",
      "list [1, 2, 3]\n",
      "None\n"
     ]
    }
   ],
   "source": [
    "# singledispatch\n",
    "\n",
    "# 用于装饰函数，根据签名调用不同的函数\n",
    "\n",
    "from functools import singledispatch\n",
    "\n",
    "\n",
    "@singledispatch\n",
    "def func(arg):\n",
    "    print('middle')\n",
    "    \n",
    "    \n",
    "print(func(123))\n",
    "\n",
    "\n",
    "@func.register(int)\n",
    "def _(arg):\n",
    "    print(\"int\", arg)\n",
    "    \n",
    "@func.register(list)\n",
    "def _(arg):\n",
    "    print(\"list\", arg)\n",
    "    \n",
    "@func.register(type(None))\n",
    "def _(arg):\n",
    "    print(\"None\")\n",
    "    \n",
    "    \n",
    "print('-----')\n",
    "func(123)\n",
    "func([1,2,3])\n",
    "func(None)"
   ]
  },
  {
   "cell_type": "code",
   "execution_count": 21,
   "metadata": {
    "collapsed": false
   },
   "outputs": [
    {
     "name": "stdout",
     "output_type": "stream",
     "text": [
      "origin 1\n",
      "origin 1\n",
      "-----------------------old------------------------\n",
      "None\n",
      "wrapper\n",
      "-----------------------new------------------------\n",
      "origin doc\n",
      "new_origin\n"
     ]
    }
   ],
   "source": [
    "# wraps 用来保存原始函数的信息\n",
    "from functools import wraps\n",
    "\n",
    "\n",
    "def my_old_decorator(f):\n",
    "    def wrapper(*args, **kw):\n",
    "        return f(*args, **kw)\n",
    "    return wrapper\n",
    "\n",
    "\n",
    "def my_new_decorator(f):\n",
    "    @wraps(f)\n",
    "    def wrapper(*args, **kw):\n",
    "        return f(*args, **kw)\n",
    "    return wrapper\n",
    "\n",
    "\n",
    "@my_old_decorator\n",
    "def old_origin(arg):\n",
    "    \"\"\"origin doc\"\"\"\n",
    "    return \"origin {}\".format(arg)\n",
    "    \n",
    "    \n",
    "@my_new_decorator\n",
    "def new_origin(arg):\n",
    "    \"\"\"origin doc\"\"\"\n",
    "    return \"origin {}\".format(arg)\n",
    "    \n",
    "    \n",
    "\n",
    "print(old_origin(1))\n",
    "print(new_origin(1))\n",
    "\n",
    "# 关键的不一样\n",
    "print('old'.center(50, '-'))\n",
    "print(old_origin.__doc__)\n",
    "print(old_origin.__name__)\n",
    "print('new'.center(50, '-'))\n",
    "print(new_origin.__doc__)\n",
    "print(new_origin.__name__)"
   ]
  }
 ],
 "metadata": {
  "kernelspec": {
   "display_name": "Python 3",
   "language": "python",
   "name": "python3"
  },
  "language_info": {
   "codemirror_mode": {
    "name": "ipython",
    "version": 3
   },
   "file_extension": ".py",
   "mimetype": "text/x-python",
   "name": "python",
   "nbconvert_exporter": "python",
   "pygments_lexer": "ipython3",
   "version": "3.4.1"
  }
 },
 "nbformat": 4,
 "nbformat_minor": 0
}
