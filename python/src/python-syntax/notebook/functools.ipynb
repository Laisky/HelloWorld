{
 "cells": [
  {
   "cell_type": "code",
   "execution_count": 7,
   "metadata": {
    "collapsed": false
   },
   "outputs": [
    {
     "name": "stdout",
     "output_type": "stream",
     "text": [
      "[86, 86, 86, 86, 86, 86, 86, 86, 86, 86]\n",
      "[8, 45, 65, 9, 46, 19, 82, 69, 31, 35]\n"
     ]
    }
   ],
   "source": [
    "# lru_cache 缓存\n",
    "\n",
    "import random\n",
    "from functools import lru_cache\n",
    "\n",
    "\n",
    "@lru_cache()\n",
    "def io_oper(n=None):\n",
    "    return random.randint(1, 100)\n",
    "\n",
    "\n",
    "print([io_oper() for _ in range(10)]) \n",
    "print([io_oper(_) for _ in range(10)])  # 缓存根据函数签名来"
   ]
  },
  {
   "cell_type": "code",
   "execution_count": 9,
   "metadata": {
    "collapsed": false
   },
   "outputs": [
    {
     "data": {
      "text/plain": [
       "False"
      ]
     },
     "execution_count": 9,
     "metadata": {},
     "output_type": "execute_result"
    }
   ],
   "source": [
    "# total_ordering\n",
    "\n",
    "# The class must define one of __lt__(), __le__(), __gt__(), or __ge__(). \n",
    "# In addition, the class should supply an __eq__() method.\n",
    "\n",
    "from functools import total_ordering\n",
    "\n",
    "\n",
    "@total_ordering\n",
    "class MyClass():\n",
    "    \n",
    "    def __init__(self, val):\n",
    "        self.val = val\n",
    "        \n",
    "    def __eq__(self, other):\n",
    "        return self.val == other.val\n",
    "    \n",
    "    def __lt__(self, other):\n",
    "        return self.val < other.val\n",
    "    \n",
    "    \n",
    "o1 = MyClass(1)\n",
    "o2 = MyClass(2)\n",
    "\n",
    "o1 > o2"
   ]
  },
  {
   "cell_type": "code",
   "execution_count": 11,
   "metadata": {
    "collapsed": false
   },
   "outputs": [
    {
     "data": {
      "text/plain": [
       "6"
      ]
     },
     "execution_count": 11,
     "metadata": {},
     "output_type": "execute_result"
    }
   ],
   "source": [
    "# partial\n",
    "\n",
    "from functools import partial\n",
    "\n",
    "\n",
    "my_random = partial(random.randint, 1)\n",
    "\n",
    "my_random(10)"
   ]
  },
  {
   "cell_type": "code",
   "execution_count": 13,
   "metadata": {
    "collapsed": false
   },
   "outputs": [
    {
     "data": {
      "text/plain": [
       "17"
      ]
     },
     "execution_count": 13,
     "metadata": {},
     "output_type": "execute_result"
    }
   ],
   "source": [
    "# partialmethod 和 partial 类似，不过用于类方法\n",
    "\n",
    "from functools import partialmethod\n",
    "\n",
    "\n",
    "class MyClass2():\n",
    "    \n",
    "    def __init__(self, val):\n",
    "        self.val = val\n",
    "        \n",
    "    def my_add(self, a, b):\n",
    "        return self.val + a + b\n",
    "    \n",
    "    simple_add = partialmethod(my_add, 10)\n",
    "    \n",
    "    \n",
    "o3 = MyClass2(2)\n",
    "o3.simple_add(5)"
   ]
  },
  {
   "cell_type": "code",
   "execution_count": 15,
   "metadata": {
    "collapsed": false
   },
   "outputs": [
    {
     "data": {
      "text/plain": [
       "15"
      ]
     },
     "execution_count": 15,
     "metadata": {},
     "output_type": "execute_result"
    }
   ],
   "source": [
    "# reduce\n",
    "\n",
    "from functools import reduce\n",
    "\n",
    "# reduce(function, iterable[, initializer])\n",
    "reduce(lambda x, y: x + y, [1,2,3,4,5])"
   ]
  },
  {
   "cell_type": "code",
   "execution_count": 25,
   "metadata": {
    "collapsed": false
   },
   "outputs": [
    {
     "name": "stdout",
     "output_type": "stream",
     "text": [
      "middle\n",
      "None\n",
      "-----\n",
      "int 123\n",
      "list [1, 2, 3]\n",
      "None\n"
     ]
    }
   ],
   "source": [
    "# singledispatch\n",
    "\n",
    "# 用于装饰函数，根据签名调用不同的函数\n",
    "\n",
    "from functools import singledispatch\n",
    "\n",
    "\n",
    "@singledispatch\n",
    "def func(arg):\n",
    "    print('middle')\n",
    "    \n",
    "    \n",
    "print(func(123))\n",
    "\n",
    "\n",
    "@func.register(int)\n",
    "def _(arg):\n",
    "    print(\"int\", arg)\n",
    "    \n",
    "@func.register(list)\n",
    "def _(arg):\n",
    "    print(\"list\", arg)\n",
    "    \n",
    "@func.register(type(None))\n",
    "def _(arg):\n",
    "    print(\"None\")\n",
    "    \n",
    "    \n",
    "print('-----')\n",
    "func(123)\n",
    "func([1,2,3])\n",
    "func(None)"
   ]
  }
 ],
 "metadata": {
  "kernelspec": {
   "display_name": "Python 3",
   "language": "python",
   "name": "python3"
  },
  "language_info": {
   "codemirror_mode": {
    "name": "ipython",
    "version": 3
   },
   "file_extension": ".py",
   "mimetype": "text/x-python",
   "name": "python",
   "nbconvert_exporter": "python",
   "pygments_lexer": "ipython3",
   "version": "3.4.1"
  }
 },
 "nbformat": 4,
 "nbformat_minor": 0
}
