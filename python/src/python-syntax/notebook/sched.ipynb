{
 "cells": [
  {
   "cell_type": "markdown",
   "metadata": {},
   "source": [
    "用来做调度，按 delay 执行函数"
   ]
  },
  {
   "cell_type": "code",
   "execution_count": 6,
   "metadata": {
    "collapsed": false
   },
   "outputs": [
    {
     "name": "stdout",
     "output_type": "stream",
     "text": [
      "START: 1431311672.631451\n",
      "EVENT: 1431311674.631789  first\n",
      "EVENT: 1431311675.633806  second\n"
     ]
    }
   ],
   "source": [
    "import sched\n",
    "import time\n",
    "\n",
    "\n",
    "scheduler = sched.scheduler(time.time, time.sleep)\n",
    "\n",
    "\n",
    "def print_event(name):\n",
    "    print('EVENT: {}  {}'.format(time.time(), name))\n",
    "\n",
    "    \n",
    "print('START: {}'.format(time.time()))\n",
    "\n",
    "# scheduler.enter(delay, priority, action, argument=(), kwargs={})\n",
    "scheduler.enter(2, 1, print_event, ('first',))\n",
    "scheduler.enter(3, 1, print_event, ('second',))\n",
    "\n",
    "\n",
    "# blocks until all of the events have been processed\n",
    "scheduler.run()"
   ]
  },
  {
   "cell_type": "markdown",
   "metadata": {},
   "source": [
    "- `enter` 的第一个参数是延迟的秒数\n",
    "- `enterabs` 的第一个参数是绝对的执行时间\n"
   ]
  },
  {
   "cell_type": "code",
   "execution_count": 12,
   "metadata": {
    "collapsed": false
   },
   "outputs": [
    {
     "name": "stdout",
     "output_type": "stream",
     "text": [
      "EVENT: 1431312374.413038  second\n",
      "EVENT: 1431312374.413117  first\n"
     ]
    }
   ],
   "source": [
    "scheduler = sched.scheduler(time.time, time.sleep)\n",
    "now = time.time()\n",
    "e1 = scheduler.enterabs(now+2, 2, print_event, ('first',))\n",
    "e2 = scheduler.enterabs(now+2, 1, print_event, ('second',))\n",
    "scheduler.run()"
   ]
  },
  {
   "cell_type": "markdown",
   "metadata": {},
   "source": [
    "`enter` 和 `enterabs` 会返回事件的引用，可以调用 `scheduler.cacel(e1)` 来清除事件"
   ]
  },
  {
   "cell_type": "code",
   "execution_count": 15,
   "metadata": {
    "collapsed": false
   },
   "outputs": [
    {
     "name": "stdout",
     "output_type": "stream",
     "text": [
      "EVENT: 1431312828.490763  second\n"
     ]
    }
   ],
   "source": [
    "scheduler = sched.scheduler(time.time, time.sleep)\n",
    "now = time.time()\n",
    "e1 = scheduler.enterabs(now+2, 2, print_event, ('first',))\n",
    "e2 = scheduler.enterabs(now+2, 1, print_event, ('second',))\n",
    "\n",
    "scheduler.cancel(e1)  # 取消 e1\n",
    "scheduler.run()"
   ]
  }
 ],
 "metadata": {
  "kernelspec": {
   "display_name": "Python 3",
   "language": "python",
   "name": "python3"
  },
  "language_info": {
   "codemirror_mode": {
    "name": "ipython",
    "version": 3
   },
   "file_extension": ".py",
   "mimetype": "text/x-python",
   "name": "python",
   "nbconvert_exporter": "python",
   "pygments_lexer": "ipython3",
   "version": "3.4.1"
  }
 },
 "nbformat": 4,
 "nbformat_minor": 0
}
