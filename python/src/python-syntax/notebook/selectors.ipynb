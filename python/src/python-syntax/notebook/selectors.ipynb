{
 "cells": [
  {
   "cell_type": "code",
   "execution_count": 1,
   "metadata": {
    "collapsed": true
   },
   "outputs": [],
   "source": [
    "import selectors\n",
    "import socket"
   ]
  },
  {
   "cell_type": "code",
   "execution_count": 10,
   "metadata": {
    "collapsed": false
   },
   "outputs": [
    {
     "ename": "OSError",
     "evalue": "[Errno 48] Address already in use",
     "output_type": "error",
     "traceback": [
      "\u001b[0;31m---------------------------------------------------------------------------\u001b[0m",
      "\u001b[0;31mOSError\u001b[0m                                   Traceback (most recent call last)",
      "\u001b[0;32m<ipython-input-10-d380f0316df2>\u001b[0m in \u001b[0;36m<module>\u001b[0;34m()\u001b[0m\n\u001b[1;32m     19\u001b[0m \u001b[0;34m\u001b[0m\u001b[0m\n\u001b[1;32m     20\u001b[0m \u001b[0mserv\u001b[0m \u001b[0;34m=\u001b[0m \u001b[0msocket\u001b[0m\u001b[0;34m.\u001b[0m\u001b[0msocket\u001b[0m\u001b[0;34m(\u001b[0m\u001b[0msocket\u001b[0m\u001b[0;34m.\u001b[0m\u001b[0mAF_INET\u001b[0m\u001b[0;34m,\u001b[0m \u001b[0msocket\u001b[0m\u001b[0;34m.\u001b[0m\u001b[0mSOCK_STREAM\u001b[0m\u001b[0;34m)\u001b[0m\u001b[0;34m\u001b[0m\u001b[0m\n\u001b[0;32m---> 21\u001b[0;31m \u001b[0mserv\u001b[0m\u001b[0;34m.\u001b[0m\u001b[0mbind\u001b[0m\u001b[0;34m(\u001b[0m\u001b[0;34m(\u001b[0m\u001b[0;34m'localhost'\u001b[0m\u001b[0;34m,\u001b[0m \u001b[0;36m27002\u001b[0m\u001b[0;34m)\u001b[0m\u001b[0;34m)\u001b[0m\u001b[0;34m\u001b[0m\u001b[0m\n\u001b[0m\u001b[1;32m     22\u001b[0m \u001b[0mserv\u001b[0m\u001b[0;34m.\u001b[0m\u001b[0mlisten\u001b[0m\u001b[0;34m(\u001b[0m\u001b[0;36m100\u001b[0m\u001b[0;34m)\u001b[0m\u001b[0;34m\u001b[0m\u001b[0m\n\u001b[1;32m     23\u001b[0m \u001b[0mserv\u001b[0m\u001b[0;34m.\u001b[0m\u001b[0msetblocking\u001b[0m\u001b[0;34m(\u001b[0m\u001b[0;32mFalse\u001b[0m\u001b[0;34m)\u001b[0m\u001b[0;34m\u001b[0m\u001b[0m\n",
      "\u001b[0;31mOSError\u001b[0m: [Errno 48] Address already in use"
     ]
    }
   ],
   "source": [
    "\n",
    "sel = selectors.DefaultSelector()\n",
    "\n",
    "def accept(sock, mask):\n",
    "    conn, addr = sock.accept()  # Should be ready\n",
    "    print('accepted', conn, 'from', addr)\n",
    "    conn.setblocking(False)\n",
    "    sel.register(conn, selectors.EVENT_READ, read)\n",
    "\n",
    "def read(conn, mask):\n",
    "    data = conn.recv(1000)  # Should be ready\n",
    "    if data:\n",
    "        print('echoing', repr(data), 'to', conn)\n",
    "        conn.send(data)  # Hope it won't block\n",
    "    else:\n",
    "        print('closing', conn)\n",
    "        sel.unregister(conn)\n",
    "        conn.close()\n",
    "\n",
    "serv = socket.socket(socket.AF_INET, socket.SOCK_STREAM)\n",
    "serv.bind(('localhost', 27002))\n",
    "serv.listen(100)\n",
    "serv.setblocking(False)\n",
    "sel.register(serv, selectors.EVENT_READ, accept)\n",
    "\n",
    "cli = socket.socket(socket.AF_INET, socket.SOCK_STREAM)\n",
    "cli.connect(('localhost', 27002))\n",
    "cli.send(b'test')\n",
    "\n",
    "# while True:\n",
    "events = sel.select()\n",
    "for key, mask in events:\n",
    "    callback = key.data\n",
    "    callback(key.fileobj, mask)\n",
    "    \n",
    "serv.close()\n",
    "cli.close()"
   ]
  }
 ],
 "metadata": {
  "kernelspec": {
   "display_name": "Python 3",
   "language": "python",
   "name": "python3"
  },
  "language_info": {
   "codemirror_mode": {
    "name": "ipython",
    "version": 3
   },
   "file_extension": ".py",
   "mimetype": "text/x-python",
   "name": "python",
   "nbconvert_exporter": "python",
   "pygments_lexer": "ipython3",
   "version": "3.4.2"
  }
 },
 "nbformat": 4,
 "nbformat_minor": 0
}
