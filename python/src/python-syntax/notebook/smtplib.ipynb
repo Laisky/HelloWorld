{
 "cells": [
  {
   "cell_type": "code",
   "execution_count": null,
   "metadata": {
    "collapsed": true
   },
   "outputs": [],
   "source": [
    "import smtplib\n",
    "import sys\n",
    "\n",
    "from email.mime.multipart import MIMEMultipart\n",
    "from email.mime.text import MIMEText"
   ]
  },
  {
   "cell_type": "code",
   "execution_count": null,
   "metadata": {
    "collapsed": true
   },
   "outputs": [],
   "source": [
    "mail_username = 'ppcelery@gmail.com'\n",
    "mail_password = 'yanagi0706'\n",
    "from_addr = mail_username\n",
    "to_addrs = (mail_username,)\n",
    "\n",
    "host = 'smtp.gmail.com'\n",
    "port = 587"
   ]
  },
  {
   "cell_type": "code",
   "execution_count": null,
   "metadata": {
    "collapsed": false
   },
   "outputs": [],
   "source": [
    "smtp = smtplib.SMTP(host=\"smtp.gmail.com\", port=587)\n",
    "smtp.set_debuglevel(1)"
   ]
  },
  {
   "cell_type": "code",
   "execution_count": null,
   "metadata": {
    "collapsed": true
   },
   "outputs": [],
   "source": [
    "content = '<h1>Hello</h1><p>Google</p><p>laisky</p>'"
   ]
  },
  {
   "cell_type": "code",
   "execution_count": null,
   "metadata": {
    "collapsed": false
   },
   "outputs": [],
   "source": [
    "# smtp.connect(host, port)\n",
    "smtp.starttls()\n",
    "recv = smtp.login(mail_username, mail_password)\n",
    "print('login: {}'.format(recv))\n",
    "\n",
    "msg = MIMEMultipart('alternative')\n",
    "msg['From'] = from_addr\n",
    "msg['To'] = ';'.join(to_addrs)\n",
    "msg['Subject'] = 'Hi, Google'\n",
    "msg.attach(MIMEText(content, 'html'))\n",
    "\n",
    "print('send: {}'.format(msg.as_string()))\n",
    "smtp.sendmail(from_addr, to_addrs, msg.as_string())\n",
    "smtp.quit()"
   ]
  }
 ],
 "metadata": {
  "kernelspec": {
   "display_name": "Python 3",
   "language": "python",
   "name": "python3"
  },
  "language_info": {
   "codemirror_mode": {
    "name": "ipython",
    "version": 3
   },
   "file_extension": ".py",
   "mimetype": "text/x-python",
   "name": "python",
   "nbconvert_exporter": "python",
   "pygments_lexer": "ipython3",
   "version": "3.4.2"
  }
 },
 "nbformat": 4,
 "nbformat_minor": 0
}
