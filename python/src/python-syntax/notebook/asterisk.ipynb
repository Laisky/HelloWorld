{
 "cells": [
  {
   "cell_type": "markdown",
   "metadata": {},
   "source": [
    "PEP 3132 - Extended Iterable Unpacking\n",
    "===\n",
    "\n",
    "https://www.python.org/dev/peps/pep-3132/\n",
    "\n",
    "使用 `*` 展开迭代器"
   ]
  },
  {
   "cell_type": "code",
   "execution_count": 2,
   "metadata": {
    "collapsed": false
   },
   "outputs": [
    {
     "name": "stdout",
     "output_type": "stream",
     "text": [
      "0\n",
      "[1, 2, 3, 4, 5, 6, 7, 8]\n",
      "9\n",
      "0\n",
      "[1, 2, 3, 4, 5, 6, 7, 8, 9]\n"
     ]
    }
   ],
   "source": [
    "# 展开迭代器\n",
    "# 自动匹配所有『剩余部分』，可以是头部、尾部或中间\n",
    "a, *b, c = range(10)\n",
    "\n",
    "print(a)\n",
    "print(b)\n",
    "print(c)\n",
    "\n",
    "a, *b = range(10)\n",
    "print(a)\n",
    "print(b)"
   ]
  },
  {
   "cell_type": "code",
   "execution_count": 8,
   "metadata": {
    "collapsed": false
   },
   "outputs": [
    {
     "name": "stdout",
     "output_type": "stream",
     "text": [
      "[0, 1, 2, 3, 4, 5, 6, 7, 8, 9]\n",
      "[0, 1, 2, 3, 4, 5, 6, 7, 8, 9]\n"
     ]
    }
   ],
   "source": [
    "# 单独使用 astrisk 展开迭代器时要包装成 list 或 tuple，否则 throw SyntaxError\n",
    "*a, = range(10)\n",
    "print(a)\n",
    "\n",
    "[*a] = range(10)\n",
    "print(a)"
   ]
  },
  {
   "cell_type": "markdown",
   "metadata": {},
   "source": [
    "PEP 3107 -- Function Annotations\n",
    "===\n",
    "\n",
    "https://www.python.org/dev/peps/pep-3107/\n",
    "\n",
    "Python3 函数新特性：\n",
    "\n",
    "  - 函数参数注释\n",
    "  - 使用 `*` 强制传递命名的函数参数\n",
    "  "
   ]
  },
  {
   "cell_type": "code",
   "execution_count": 33,
   "metadata": {
    "collapsed": false
   },
   "outputs": [
    {
     "name": "stdout",
     "output_type": "stream",
     "text": [
      "{'first_arg': '第一个参数', 'sec_arg': 6, 'third_arg': <class 'list'>, 'return': 3}\n"
     ]
    }
   ],
   "source": [
    "# 函数注释可以用字符串、表达式和类型\n",
    "def anno_demo(\n",
    "    first_arg: '第一个参数',\n",
    "    sec_arg: 3+3=2,\n",
    "    *third_arg: list\n",
    ") -> max(1, 3):\n",
    "    pass\n",
    "\n",
    "\n",
    "anno_demo(123)\n",
    "print(anno_demo.__annotations__)  # 获取函数注释"
   ]
  },
  {
   "cell_type": "code",
   "execution_count": 36,
   "metadata": {
    "collapsed": false
   },
   "outputs": [
    {
     "ename": "TypeError",
     "evalue": "named_func() takes 0 positional arguments but 2 were given",
     "output_type": "error",
     "traceback": [
      "\u001b[0;31m---------------------------------------------------------------------------\u001b[0m",
      "\u001b[0;31mTypeError\u001b[0m                                 Traceback (most recent call last)",
      "\u001b[0;32m<ipython-input-36-653eae8b1ddc>\u001b[0m in \u001b[0;36m<module>\u001b[0;34m()\u001b[0m\n\u001b[1;32m     14\u001b[0m \u001b[0mnamed_func\u001b[0m\u001b[0;34m(\u001b[0m\u001b[0marg1\u001b[0m\u001b[0;34m=\u001b[0m\u001b[0;36m1\u001b[0m\u001b[0;34m,\u001b[0m \u001b[0marg2\u001b[0m\u001b[0;34m=\u001b[0m\u001b[0;36m2\u001b[0m\u001b[0;34m)\u001b[0m\u001b[0;34m\u001b[0m\u001b[0m\n\u001b[1;32m     15\u001b[0m \u001b[0;34m\u001b[0m\u001b[0m\n\u001b[0;32m---> 16\u001b[0;31m \u001b[0mnamed_func\u001b[0m\u001b[0;34m(\u001b[0m\u001b[0;36m1\u001b[0m\u001b[0;34m,\u001b[0m \u001b[0;36m2\u001b[0m\u001b[0;34m)\u001b[0m\u001b[0;34m\u001b[0m\u001b[0m\n\u001b[0m\u001b[1;32m     17\u001b[0m \u001b[0;31m# throw TypeError\u001b[0m\u001b[0;34m\u001b[0m\u001b[0;34m\u001b[0m\u001b[0m\n",
      "\u001b[0;31mTypeError\u001b[0m: named_func() takes 0 positional arguments but 2 were given"
     ]
    }
   ],
   "source": [
    "# 强制参数命名\n",
    "\n",
    "def traditional_func(arg1, args):\n",
    "    pass\n",
    "\n",
    "# 可以按照顺序传参，无序命名\n",
    "traditional_func(1, 2)\n",
    "\n",
    "# 可以使用 * 强制参数命名\n",
    "def named_func(*, arg1, arg2):\n",
    "    pass\n",
    "\n",
    "# 显示命名传递\n",
    "named_func(arg1=1, arg2=2)\n",
    "\n",
    "named_func(1, 2)\n",
    "# throw TypeError"
   ]
  }
 ],
 "metadata": {
  "kernelspec": {
   "display_name": "Python 3",
   "language": "python",
   "name": "python3"
  },
  "language_info": {
   "codemirror_mode": {
    "name": "ipython",
    "version": 3
   },
   "file_extension": ".py",
   "mimetype": "text/x-python",
   "name": "python",
   "nbconvert_exporter": "python",
   "pygments_lexer": "ipython3",
   "version": "3.4.2"
  }
 },
 "nbformat": 4,
 "nbformat_minor": 0
}
