{
 "metadata": {
  "name": "",
  "signature": "sha256:2deac98b64f3742bdd958cadf840fda4bd22268b99a45f2ce8e43c5756f3e366"
 },
 "nbformat": 3,
 "nbformat_minor": 0,
 "worksheets": [
  {
   "cells": [
    {
     "cell_type": "code",
     "collapsed": false,
     "input": [
      "test = list(range(10))\n",
      "\n",
      "class Iterator():\n",
      "    def __init__(self, data):\n",
      "        self.data = data\n",
      "        \n",
      "    def __iter__(self):\n",
      "        return self\n",
      "    \n",
      "    def next(self):\n",
      "        while self.data:\n",
      "            yield self.data.pop()\n",
      "    \n",
      "it = Iterator(test)\n",
      "for i in it:\n",
      "    print(i)"
     ],
     "language": "python",
     "metadata": {},
     "outputs": [
      {
       "ename": "TypeError",
       "evalue": "iter() returned non-iterator of type 'Iterator'",
       "output_type": "pyerr",
       "traceback": [
        "\u001b[0;31m---------------------------------------------------------------------------\u001b[0m\n\u001b[0;31mTypeError\u001b[0m                                 Traceback (most recent call last)",
        "\u001b[0;32m<ipython-input-12-70ea9e21472b>\u001b[0m in \u001b[0;36m<module>\u001b[0;34m()\u001b[0m\n\u001b[1;32m     13\u001b[0m \u001b[0;34m\u001b[0m\u001b[0m\n\u001b[1;32m     14\u001b[0m \u001b[0mit\u001b[0m \u001b[0;34m=\u001b[0m \u001b[0mIterator\u001b[0m\u001b[0;34m(\u001b[0m\u001b[0mtest\u001b[0m\u001b[0;34m)\u001b[0m\u001b[0;34m\u001b[0m\u001b[0m\n\u001b[0;32m---> 15\u001b[0;31m \u001b[0;32mfor\u001b[0m \u001b[0mi\u001b[0m \u001b[0;32min\u001b[0m \u001b[0mit\u001b[0m\u001b[0;34m:\u001b[0m\u001b[0;34m\u001b[0m\u001b[0m\n\u001b[0m\u001b[1;32m     16\u001b[0m     \u001b[0mprint\u001b[0m\u001b[0;34m(\u001b[0m\u001b[0mi\u001b[0m\u001b[0;34m)\u001b[0m\u001b[0;34m\u001b[0m\u001b[0m\n",
        "\u001b[0;31mTypeError\u001b[0m: iter() returned non-iterator of type 'Iterator'"
       ]
      }
     ],
     "prompt_number": 12
    },
    {
     "cell_type": "code",
     "collapsed": false,
     "input": [
      "# traditional yield\n",
      "def my_yield():\n",
      "    fibo = [0, 1]\n",
      "    yield 0\n",
      "    while True:\n",
      "        yield fibo[-1]\n",
      "        fibo.append(fibo[-1] + fibo.pop(0))\n",
      "\n",
      "    \n",
      "    \n",
      "generator = my_yield()\n",
      "ls = [next(generator) for _ in range(20)]\n",
      "print(ls)"
     ],
     "language": "python",
     "metadata": {},
     "outputs": [
      {
       "output_type": "stream",
       "stream": "stdout",
       "text": [
        "[0, 1, 1, 2, 3, 5, 8, 13, 21, 34, 55, 89, 144, 233, 377, 610, 987, 1597, 2584, 4181]\n"
       ]
      }
     ],
     "prompt_number": 16
    },
    {
     "cell_type": "code",
     "collapsed": false,
     "input": [
      "def test_inner():\n",
      "    n = 0\n",
      "    while True:\n",
      "        n += 1\n",
      "        if n > 10:\n",
      "            break\n",
      "            \n",
      "        yield n\n",
      "        \n",
      "        \n",
      "def test_outer():\n",
      "    yield from test_inner()\n",
      "    print('outer')\n",
      "    \n",
      "    \n",
      "for i, ch in enumerate(test_outer()):\n",
      "    print(i, ch)\n",
      "        "
     ],
     "language": "python",
     "metadata": {},
     "outputs": [
      {
       "output_type": "stream",
       "stream": "stdout",
       "text": [
        "0 1\n",
        "1 2\n",
        "2 3\n",
        "3 4\n",
        "4 5\n",
        "5 6\n",
        "6 7\n",
        "7 8\n",
        "8 9\n",
        "9 10\n",
        "outer\n"
       ]
      }
     ],
     "prompt_number": 4
    }
   ],
   "metadata": {}
  }
 ]
}