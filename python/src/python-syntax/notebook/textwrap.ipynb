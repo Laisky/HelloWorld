{
 "cells": [
  {
   "cell_type": "markdown",
   "metadata": {},
   "source": [
    "一个实用的字符处理模块，用于裁剪、换行、缩进字符串"
   ]
  },
  {
   "cell_type": "code",
   "execution_count": 1,
   "metadata": {
    "collapsed": true
   },
   "outputs": [],
   "source": [
    "import textwrap"
   ]
  },
  {
   "cell_type": "code",
   "execution_count": 6,
   "metadata": {
    "collapsed": false
   },
   "outputs": [],
   "source": [
    "sample_text = \"I'm a very very lone string\""
   ]
  },
  {
   "cell_type": "code",
   "execution_count": 5,
   "metadata": {
    "collapsed": false
   },
   "outputs": [
    {
     "name": "stdout",
     "output_type": "stream",
     "text": [
      "I'm [...]\n",
      "I'm a..\n"
     ]
    }
   ],
   "source": [
    "# Collapse and truncate the given text to fit in the given width.\n",
    "\n",
    "print(textwrap.shorten(sample_text, width=10))\n",
    "print(textwrap.shorten(sample_text, width=10, placeholder=\"..\"))"
   ]
  },
  {
   "cell_type": "code",
   "execution_count": 24,
   "metadata": {
    "collapsed": false
   },
   "outputs": [
    {
     "name": "stdout",
     "output_type": "stream",
     "text": [
      "dfs\n",
      "dfs\n",
      "dfs\n",
      "fsdf\n",
      "  aaa\n",
      "  bbb\n"
     ]
    }
   ],
   "source": [
    "# dedent & indent\n",
    "\n",
    "print(textwrap.dedent('    dfs'))\n",
    "print(textwrap.dedent('\\tdfs'))\n",
    "print(textwrap.dedent('  \\tdfs\\n  \\tfsdf'))  # remove same indent for each line\n",
    "\n",
    "print(textwrap.indent('aaa\\nbbb', '  '))  # insert same indent for each line"
   ]
  },
  {
   "cell_type": "code",
   "execution_count": 25,
   "metadata": {
    "collapsed": false
   },
   "outputs": [
    {
     "name": "stdout",
     "output_type": "stream",
     "text": [
      "I'm a\n",
      "very\n",
      "very\n",
      "lone \n",
      "strin\n",
      "g\n"
     ]
    }
   ],
   "source": [
    "print(textwrap.fill(sample_text, width=5))"
   ]
  }
 ],
 "metadata": {
  "kernelspec": {
   "display_name": "Python 3",
   "language": "python",
   "name": "python3"
  },
  "language_info": {
   "codemirror_mode": {
    "name": "ipython",
    "version": 3
   },
   "file_extension": ".py",
   "mimetype": "text/x-python",
   "name": "python",
   "nbconvert_exporter": "python",
   "pygments_lexer": "ipython3",
   "version": "3.4.2"
  }
 },
 "nbformat": 4,
 "nbformat_minor": 0
}
