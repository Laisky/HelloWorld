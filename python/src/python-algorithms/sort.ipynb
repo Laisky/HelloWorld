{
 "cells": [
  {
   "cell_type": "markdown",
   "metadata": {},
   "source": [
    "排序\n",
    "==="
   ]
  },
  {
   "cell_type": "code",
   "execution_count": 40,
   "metadata": {
    "collapsed": false
   },
   "outputs": [],
   "source": [
    "import random\n",
    "\n",
    "\n",
    "def generate_random_numbers():\n",
    "    nums = range(100)\n",
    "    ret = [random.choice(nums) for _ in range(10)]\n",
    "    print(ret)\n",
    "    return ret"
   ]
  },
  {
   "cell_type": "code",
   "execution_count": 41,
   "metadata": {
    "collapsed": false
   },
   "outputs": [
    {
     "name": "stdout",
     "output_type": "stream",
     "text": [
      "[26, 26, 58, 33, 35, 54, 74, 94, 56, 34]\n"
     ]
    },
    {
     "data": {
      "text/plain": [
       "[26, 26, 33, 34, 35, 54, 56, 58, 74, 94]"
      ]
     },
     "execution_count": 41,
     "metadata": {},
     "output_type": "execute_result"
    }
   ],
   "source": [
    "# 插入排序\n",
    "\n",
    "def insert_sort(numbers):\n",
    "    for i, key in enumerate(numbers):\n",
    "        for j in range(i-1, -1, -1):\n",
    "            tmp = numbers[j]\n",
    "            if tmp > key:\n",
    "                numbers[j+1] = tmp\n",
    "                numbers[j] = key\n",
    "    \n",
    "    return numbers\n",
    "                \n",
    "numbers = generate_random_numbers()\n",
    "insert_sort(numbers)"
   ]
  },
  {
   "cell_type": "code",
   "execution_count": 42,
   "metadata": {
    "collapsed": false
   },
   "outputs": [
    {
     "name": "stdout",
     "output_type": "stream",
     "text": [
      "[23, 2, 72, 21, 72, 72, 19, 77, 37, 10]\n"
     ]
    },
    {
     "data": {
      "text/plain": [
       "[2, 10, 19, 21, 23, 37, 72, 72, 72, 77]"
      ]
     },
     "execution_count": 42,
     "metadata": {},
     "output_type": "execute_result"
    }
   ],
   "source": [
    "# 希尔排序\n",
    "from math import floor\n",
    "\n",
    "\n",
    "def shell_sort(numbers):\n",
    "    step = 2\n",
    "    n_numbers = len(numbers)\n",
    "    n_group = floor(n_numbers / 2)\n",
    "    while n_group > 0:\n",
    "        for i in range(n_group):\n",
    "            for j in range(i + n_group, n_numbers):\n",
    "                key = numbers[j]\n",
    "                for k in range(j - n_group, -1, -n_group):\n",
    "                    tmp = numbers[k]\n",
    "                    if tmp > key:\n",
    "                        numbers[k + n_group] = tmp\n",
    "                        numbers[k] = key\n",
    "                        \n",
    "        n_group = floor(n_group / step)\n",
    "                        \n",
    "    return numbers\n",
    "                        \n",
    "                        \n",
    "numbers = generate_random_numbers()\n",
    "shell_sort(numbers)"
   ]
  },
  {
   "cell_type": "code",
   "execution_count": null,
   "metadata": {
    "collapsed": true
   },
   "outputs": [],
   "source": [
    "# 冒泡排序\n",
    "\n"
   ]
  }
 ],
 "metadata": {
  "kernelspec": {
   "display_name": "Python 3",
   "language": "python",
   "name": "python3"
  },
  "language_info": {
   "codemirror_mode": {
    "name": "ipython",
    "version": 3
   },
   "file_extension": ".py",
   "mimetype": "text/x-python",
   "name": "python",
   "nbconvert_exporter": "python",
   "pygments_lexer": "ipython3",
   "version": "3.4.2"
  }
 },
 "nbformat": 4,
 "nbformat_minor": 0
}
