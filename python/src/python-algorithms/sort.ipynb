{
 "cells": [
  {
   "cell_type": "markdown",
   "metadata": {},
   "source": [
    "排序\n",
    "==="
   ]
  },
  {
   "cell_type": "code",
   "execution_count": 1,
   "metadata": {
    "collapsed": false
   },
   "outputs": [],
   "source": [
    "import random\n",
    "\n",
    "\n",
    "def generate_random_numbers():\n",
    "    nums = range(100)\n",
    "    ret = [random.choice(nums) for _ in range(10)]\n",
    "    print(ret)\n",
    "    return ret"
   ]
  },
  {
   "cell_type": "code",
   "execution_count": 2,
   "metadata": {
    "collapsed": false
   },
   "outputs": [
    {
     "name": "stdout",
     "output_type": "stream",
     "text": [
      "[62, 62, 59, 34, 69, 57, 24, 87, 22, 60]\n"
     ]
    },
    {
     "data": {
      "text/plain": [
       "[22, 24, 34, 57, 59, 60, 62, 62, 69, 87]"
      ]
     },
     "execution_count": 2,
     "metadata": {},
     "output_type": "execute_result"
    }
   ],
   "source": [
    "# 插入排序\n",
    "\n",
    "def insert_sort(numbers):\n",
    "    for i, key in enumerate(numbers):\n",
    "        for j in range(i-1, -1, -1):\n",
    "            tmp = numbers[j]\n",
    "            if tmp > key:\n",
    "                numbers[j+1] = tmp\n",
    "                numbers[j] = key\n",
    "    \n",
    "    return numbers\n",
    "                \n",
    "numbers = generate_random_numbers()\n",
    "insert_sort(numbers)"
   ]
  },
  {
   "cell_type": "code",
   "execution_count": 3,
   "metadata": {
    "collapsed": false
   },
   "outputs": [
    {
     "name": "stdout",
     "output_type": "stream",
     "text": [
      "[56, 79, 81, 70, 19, 51, 47, 25, 4, 36]\n"
     ]
    },
    {
     "data": {
      "text/plain": [
       "[4, 19, 25, 36, 47, 51, 56, 70, 79, 81]"
      ]
     },
     "execution_count": 3,
     "metadata": {},
     "output_type": "execute_result"
    }
   ],
   "source": [
    "# 希尔排序\n",
    "from math import floor\n",
    "\n",
    "\n",
    "def shell_sort(numbers):\n",
    "    step = 2\n",
    "    n_numbers = len(numbers)\n",
    "    n_group = floor(n_numbers / 2)\n",
    "    while n_group > 0:\n",
    "        for i in range(n_group):\n",
    "            for j in range(i + n_group, n_numbers):\n",
    "                key = numbers[j]\n",
    "                for k in range(j - n_group, -1, -n_group):\n",
    "                    tmp = numbers[k]\n",
    "                    if tmp > key:\n",
    "                        numbers[k + n_group] = tmp\n",
    "                        numbers[k] = key\n",
    "                        \n",
    "        n_group = floor(n_group / step)\n",
    "                        \n",
    "    return numbers\n",
    "                        \n",
    "                        \n",
    "numbers = generate_random_numbers()\n",
    "shell_sort(numbers)"
   ]
  },
  {
   "cell_type": "code",
   "execution_count": 4,
   "metadata": {
    "collapsed": false
   },
   "outputs": [
    {
     "name": "stdout",
     "output_type": "stream",
     "text": [
      "[32, 80, 88, 32, 32, 59, 66, 53, 52, 13]\n"
     ]
    },
    {
     "data": {
      "text/plain": [
       "[13, 32, 32, 32, 52, 53, 59, 66, 80, 88]"
      ]
     },
     "execution_count": 4,
     "metadata": {},
     "output_type": "execute_result"
    }
   ],
   "source": [
    "# 冒泡排序\n",
    "\n",
    "def bubble_sort(numbers):\n",
    "    for i, tmp1 in enumerate(numbers):\n",
    "        for j in range(i + 1, len(numbers)):\n",
    "            tmp2 = numbers[j]\n",
    "            if tmp1 > tmp2:\n",
    "                numbers[i] = tmp2\n",
    "                numbers[j] = tmp1\n",
    "                tmp1 = tmp2\n",
    "                \n",
    "    return numbers\n",
    "\n",
    "\n",
    "numbers = generate_random_numbers()\n",
    "bubble_sort(numbers)"
   ]
  },
  {
   "cell_type": "code",
   "execution_count": 5,
   "metadata": {
    "collapsed": false
   },
   "outputs": [
    {
     "name": "stdout",
     "output_type": "stream",
     "text": [
      "[7, 94, 10, 30, 19, 42, 94, 22, 18, 91]\n"
     ]
    },
    {
     "data": {
      "text/plain": [
       "[7, 10, 18, 19, 22, 30, 42, 91, 94, 94]"
      ]
     },
     "execution_count": 5,
     "metadata": {},
     "output_type": "execute_result"
    }
   ],
   "source": [
    "# 快排\n",
    "from random import choice\n",
    "\n",
    "\n",
    "def choice_key(numbers):\n",
    "    return choice(numbers)\n",
    "\n",
    "\n",
    "def quick_sort(numbers):\n",
    "    if len(numbers) <= 1:\n",
    "        return numbers\n",
    "    \n",
    "    if max(numbers) == min(numbers):\n",
    "        return numbers\n",
    "    \n",
    "    left = []\n",
    "    right = []\n",
    "    key = choice_key(numbers)\n",
    "    for num in numbers:\n",
    "        if num <= key:\n",
    "            left.append(num)\n",
    "        else:\n",
    "            right.append(num)\n",
    "            \n",
    "    left = quick_sort(left)\n",
    "    right = quick_sort(right)\n",
    "    return left + right\n",
    "\n",
    "\n",
    "numbers = generate_random_numbers()\n",
    "quick_sort(numbers)"
   ]
  },
  {
   "cell_type": "code",
   "execution_count": null,
   "metadata": {
    "collapsed": true
   },
   "outputs": [],
   "source": []
  }
 ],
 "metadata": {
  "kernelspec": {
   "display_name": "Python 3",
   "language": "python",
   "name": "python3"
  },
  "language_info": {
   "codemirror_mode": {
    "name": "ipython",
    "version": 3
   },
   "file_extension": ".py",
   "mimetype": "text/x-python",
   "name": "python",
   "nbconvert_exporter": "python",
   "pygments_lexer": "ipython3",
   "version": "3.4.2"
  }
 },
 "nbformat": 4,
 "nbformat_minor": 0
}
