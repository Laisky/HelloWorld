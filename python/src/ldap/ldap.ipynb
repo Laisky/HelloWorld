{
 "cells": [
  {
   "cell_type": "code",
   "execution_count": 13,
   "metadata": {
    "collapsed": false
   },
   "outputs": [
    {
     "data": {
      "text/plain": [
       "True"
      ]
     },
     "execution_count": 13,
     "metadata": {},
     "output_type": "execute_result"
    }
   ],
   "source": [
    "from ldap3 import Server, Connection, SUBTREE\n",
    "\n",
    "\n",
    "total_entries = 0\n",
    "server = Server('ldap://10.47.12.70:3268')\n",
    "# c = Connection(server, user='darthadmin', password='tuNbWgcdgF8IkQjZ')\n",
    "c = Connection(server, user='dds\\\\caizhonghua', password='8THnVjFx2UvNj')\n",
    "c.bind()"
   ]
  },
  {
   "cell_type": "code",
   "execution_count": 12,
   "metadata": {
    "collapsed": true
   },
   "outputs": [],
   "source": [
    "c.bind?"
   ]
  },
  {
   "cell_type": "code",
   "execution_count": 9,
   "metadata": {
    "collapsed": false
   },
   "outputs": [
    {
     "data": {
      "text/plain": [
       "[DN: CN=Huang Junqing 黄俊清,OU=Disable Account,OU=赛可电商,DC=dds,DC=com\n",
       "     givenName: 黄俊清\n",
       "     sAMAccountName: huangjunqing\n",
       "     sn: Huang junqing,\n",
       " DN: CN=Gu Fengchao 顾丰超,OU=商品开发部,OU=整车事业部,OU=赛可电商,DC=dds,DC=com\n",
       "     givenName: 顾丰超\n",
       "     sAMAccountName: gufengchao\n",
       "     sn: Gu Fengchao,\n",
       " DN: CN=Ma Ruixiao 马瑞晓,OU=2S平台开发部,OU=养车事业部,OU=赛可电商,DC=dds,DC=com\n",
       "     givenName: 马瑞晓\n",
       "     sAMAccountName: maruixiao\n",
       "     sn: Ma Ruixiao,\n",
       " DN: CN=Xie Chengchao 谢成超,OU=Disable Account,OU=赛可电商,DC=dds,DC=com\n",
       "     givenName: 谢成超\n",
       "     sAMAccountName: xiechengchao\n",
       "     sn: Xie Chengchao,\n",
       " DN: CN=Marshal Liu 柳欣,OU=供应商,OU=赛可电商,DC=dds,DC=com\n",
       "     givenName: 柳欣\n",
       "     sAMAccountName: v_liuxinsh\n",
       "     sn: Marshal Liu]"
      ]
     },
     "execution_count": 9,
     "metadata": {},
     "output_type": "execute_result"
    }
   ],
   "source": [
    "c.search(search_base = 'dc=dds,dc=com',\n",
    "         search_filter = '(&(memberOf=CN=JiraUsers,ou=JIRA,ou=DDS_Group,dc=dds,dc=com))',\n",
    "         search_scope = SUBTREE,\n",
    "         attributes = ['sAMAccountName', 'givenName', 'sn'],\n",
    "         paged_size = 5)\n",
    "c.entries"
   ]
  }
 ],
 "metadata": {
  "kernelspec": {
   "display_name": "Python 3",
   "language": "python",
   "name": "python3"
  },
  "language_info": {
   "codemirror_mode": {
    "name": "ipython",
    "version": 3
   },
   "file_extension": ".py",
   "mimetype": "text/x-python",
   "name": "python",
   "nbconvert_exporter": "python",
   "pygments_lexer": "ipython3",
   "version": "3.4.2"
  }
 },
 "nbformat": 4,
 "nbformat_minor": 0
}
