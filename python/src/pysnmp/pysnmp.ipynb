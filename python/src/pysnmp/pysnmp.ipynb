{
 "cells": [
  {
   "cell_type": "code",
   "execution_count": 1,
   "metadata": {
    "collapsed": true
   },
   "outputs": [],
   "source": [
    "from pysnmp.entity.rfc3413.oneliner import cmdgen\n",
    "\n",
    "cmd = cmdgen.CommandGenerator()"
   ]
  },
  {
   "cell_type": "code",
   "execution_count": 2,
   "metadata": {
    "collapsed": false
   },
   "outputs": [
    {
     "name": "stdout",
     "output_type": "stream",
     "text": [
      "errorIndication: None\n",
      "errorStatus: 0\n",
      "errorIndex: 0\n",
      "varBinds: [ObjectType(ObjectIdentity(ObjectName('1.3.6.1.2.1.1.1.0')), DisplayString(b'Linux li744-109 4.1.5-x86_64-linode61 #7 SMP Mon Aug 24 13:46:31 EDT 2015 x86_64', subtypeSpec=ConstraintsIntersection(ConstraintsIntersection(ConstraintsIntersection(ConstraintsIntersection(), ValueSizeConstraint(0, 65535)), ValueSizeConstraint(0, 255)), ValueSizeConstraint(0, 255))))]\n"
     ]
    }
   ],
   "source": [
    "errorIndication, errorStatus, errorIndex, varBinds = cmd.getCmd(\n",
    "    # v1\n",
    "    # cmdgen.CommunityData('public', 0),\n",
    "    # v2\n",
    "    # cmdgen.CommunityData('public'),\n",
    "    # v3\n",
    "    cmdgen.UsmUserData(\n",
    "        'demo', 'my_new_password', 'my_new_password', \n",
    "        cmdgen.usmHMACMD5AuthProtocol,\n",
    "        cmdgen.usmDESPrivProtocol\n",
    "    ),\n",
    "    cmdgen.UdpTransportTarget(('ss.laisky.com', 161)),\n",
    "    cmdgen.MibVariable('1.3.6.1.2.1.1.1.0')\n",
    ")\n",
    "\n",
    "print(\n",
    "    'errorIndication: {}\\n'\n",
    "    'errorStatus: {}\\n'\n",
    "    'errorIndex: {}\\n'\n",
    "    'varBinds: {}'\n",
    "    .format(errorIndication, errorStatus, errorIndex, varBinds)\n",
    ")"
   ]
  },
  {
   "cell_type": "markdown",
   "metadata": {},
   "source": [
    "chexiang\n",
    "===\n",
    "\n",
    "- system = 1.3.6.1.2.1.1\n",
    "- sysName = 1.3.6.1.2.1.1.5\n",
    "- ifEntry = 1.3.6.1.2.1.2.2.1\n",
    "- ifDescr = 1.3.6.1.2.1.2.2.1.2\n",
    "- ifSpeed = 1.3.6.1.2.1.2.2.1.5"
   ]
  },
  {
   "cell_type": "markdown",
   "metadata": {},
   "source": [
    "## 同步"
   ]
  },
  {
   "cell_type": "code",
   "execution_count": 9,
   "metadata": {
    "collapsed": false,
    "scrolled": true
   },
   "outputs": [
    {
     "name": "stdout",
     "output_type": "stream",
     "text": [
      "No SNMP response received before timeout\n",
      "0\n",
      "0\n",
      "**************************************************\n"
     ]
    },
    {
     "ename": "ValueError",
     "evalue": "too many values to unpack (expected 2)",
     "output_type": "error",
     "traceback": [
      "\u001b[0;31m---------------------------------------------------------------------------\u001b[0m",
      "\u001b[0;31mValueError\u001b[0m                                Traceback (most recent call last)",
      "\u001b[0;32m<ipython-input-9-d51ea92dd6dd>\u001b[0m in \u001b[0;36m<module>\u001b[0;34m()\u001b[0m\n\u001b[1;32m     28\u001b[0m \u001b[0;34m\u001b[0m\u001b[0m\n\u001b[1;32m     29\u001b[0m \u001b[0;32mfor\u001b[0m \u001b[0mrow\u001b[0m \u001b[0;32min\u001b[0m \u001b[0mvarBinds\u001b[0m\u001b[0;34m:\u001b[0m\u001b[0;34m\u001b[0m\u001b[0m\n\u001b[0;32m---> 30\u001b[0;31m     \u001b[0;32mfor\u001b[0m \u001b[0moid\u001b[0m\u001b[0;34m,\u001b[0m \u001b[0mval\u001b[0m \u001b[0;32min\u001b[0m \u001b[0mrow\u001b[0m\u001b[0;34m:\u001b[0m\u001b[0;34m\u001b[0m\u001b[0m\n\u001b[0m\u001b[1;32m     31\u001b[0m         \u001b[0mprint\u001b[0m\u001b[0;34m(\u001b[0m\u001b[0moid\u001b[0m\u001b[0;34m.\u001b[0m\u001b[0mgetMibSymbol\u001b[0m\u001b[0;34m(\u001b[0m\u001b[0;34m)\u001b[0m\u001b[0;34m[\u001b[0m\u001b[0;34m-\u001b[0m\u001b[0;36m1\u001b[0m\u001b[0;34m]\u001b[0m\u001b[0;34m[\u001b[0m\u001b[0;36m0\u001b[0m\u001b[0;34m]\u001b[0m\u001b[0;34m,\u001b[0m \u001b[0mval\u001b[0m\u001b[0;34m.\u001b[0m\u001b[0mprettyPrint\u001b[0m\u001b[0;34m(\u001b[0m\u001b[0;34m)\u001b[0m\u001b[0;34m)\u001b[0m\u001b[0;34m\u001b[0m\u001b[0m\n",
      "\u001b[0;31mValueError\u001b[0m: too many values to unpack (expected 2)"
     ]
    }
   ],
   "source": [
    "import string\n",
    "from pysnmp.smi import builder, view, error\n",
    "from pysnmp.entity.rfc3413.oneliner import cmdgen\n",
    "\n",
    "\n",
    "# 创建 cmd generator\n",
    "cmdGen = cmdgen.CommandGenerator()  # 同步\n",
    "\n",
    "mibBuilder = builder.MibBuilder()\n",
    "mibBuilder.loadModules(\n",
    "    'RFC-1213', 'RFC-3413'\n",
    ")\n",
    "mibView = view.MibViewController(mibBuilder)\n",
    "\n",
    "\n",
    "\n",
    "errorIndication, errorStatus, errorIndex, varBinds = cmdGen.nextCmd(\n",
    "    cmdgen.CommunityData('Huawei@123'),\n",
    "    cmdgen.UdpTransportTarget(('10.33.131.2', 161)),\n",
    "    cmdgen.MibVariable('IF-MIB', 'ifOperStatus')\n",
    ")\n",
    "\n",
    "\n",
    "print(errorIndication)\n",
    "print(errorStatus)\n",
    "print(errorIndex)\n",
    "print('*' * 50)\n",
    "\n",
    "for row in varBinds:\n",
    "    for oid, val in row:\n",
    "        print(oid.getMibSymbol()[-1][0], val.prettyPrint())"
   ]
  },
  {
   "cell_type": "markdown",
   "metadata": {},
   "source": [
    "## 异步"
   ]
  },
  {
   "cell_type": "code",
   "execution_count": 10,
   "metadata": {
    "collapsed": false,
    "scrolled": true
   },
   "outputs": [
    {
     "name": "stdout",
     "output_type": "stream",
     "text": [
      "IF-MIB::ifOperStatus b''\n",
      "SNMPv2-MIB::sysUpTime b''\n"
     ]
    }
   ],
   "source": [
    "import string\n",
    "# from pysnmp.smi import builder, view, error\n",
    "from pysnmp.entity.rfc3413.oneliner import cmdgen\n",
    "\n",
    "\n",
    "# 创建 cmd generator\n",
    "# cmdGen = cmdgen.CommandGenerator()  # 同步\n",
    "cmdGen = cmdgen.AsynCommandGenerator()  # 异步\n",
    "\n",
    "# mibBuilder = builder.MibBuilder()\n",
    "# mibBuilder.loadModules(\n",
    "#     'RFC-1213', 'RFC-3413'\n",
    "# )\n",
    "# mibView = view.MibViewController(mibBuilder)\n",
    "\n",
    "\n",
    "mib_vars = (\n",
    "    {'desc': 'ifOperStatus', 'mib': cmdgen.MibVariable('IF-MIB', 'ifOperStatus')},  # 端口状态\n",
    "#     {'desc': 'ifSpeed', 'mib': cmdgen.MibVariable('IF-MIB', 'ifSpeed')},  # 端口速度 bits/s\n",
    "\n",
    ")\n",
    "\n",
    "ttt = []\n",
    "def callback(sendRequestHandle, errorIndication, errorStatus, errorIndex, varBinds, cbCtx):\n",
    "    \n",
    "    for row in varBinds:\n",
    "        for oid, val in row:\n",
    "#             if cbCtx['object_name'] not in oid.prettyPrint():\n",
    "#                 return 0\n",
    "            \n",
    "            print(oid.prettyPrint(), val.prettyPrint())\n",
    "            ttt.append(oid)\n",
    "#             return\n",
    "            \n",
    "    return 1  # 告诉 walk 继续运行\n",
    "            \n",
    "\n",
    "\n",
    "for mib_var in mib_vars:\n",
    "    cbCtx = {'object_name': mib_var['desc']}\n",
    "    cmdGen.nextCmd(\n",
    "        cmdgen.CommunityData('huawei@123'),\n",
    "        cmdgen.UdpTransportTarget(('10.32.33.6', 161)),\n",
    "        (mib_var['mib'], cmdgen.MibVariable('.1.3.6.1.2.1.1.3')),\n",
    "        (callback, cbCtx),\n",
    "        True, True\n",
    "    )\n",
    "\n",
    "    \n",
    "# 启动\n",
    "cmdGen.snmpEngine.transportDispatcher.runDispatcher()"
   ]
  },
  {
   "cell_type": "code",
   "execution_count": 39,
   "metadata": {
    "collapsed": false
   },
   "outputs": [
    {
     "data": {
      "text/plain": [
       "2"
      ]
     },
     "execution_count": 39,
     "metadata": {},
     "output_type": "execute_result"
    }
   ],
   "source": [
    "t = ttt[2]\n",
    "int(t.getMibSymbol()[-1][0])"
   ]
  }
 ],
 "metadata": {
  "kernelspec": {
   "display_name": "Python 3",
   "language": "python",
   "name": "python3"
  },
  "language_info": {
   "codemirror_mode": {
    "name": "ipython",
    "version": 3
   },
   "file_extension": ".py",
   "mimetype": "text/x-python",
   "name": "python",
   "nbconvert_exporter": "python",
   "pygments_lexer": "ipython3",
   "version": "3.4.2"
  }
 },
 "nbformat": 4,
 "nbformat_minor": 0
}
