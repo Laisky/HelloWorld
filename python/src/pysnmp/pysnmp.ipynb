{
 "cells": [
  {
   "cell_type": "code",
   "execution_count": 2,
   "metadata": {
    "collapsed": true
   },
   "outputs": [],
   "source": [
    "from pysnmp.entity.rfc3413.oneliner import cmdgen"
   ]
  },
  {
   "cell_type": "code",
   "execution_count": 3,
   "metadata": {
    "collapsed": true
   },
   "outputs": [],
   "source": [
    "cmd = cmdgen.CommandGenerator()"
   ]
  },
  {
   "cell_type": "code",
   "execution_count": 4,
   "metadata": {
    "collapsed": false
   },
   "outputs": [
    {
     "name": "stdout",
     "output_type": "stream",
     "text": [
      "errorIndication: None\n",
      "errorStatus: 0\n",
      "errorIndex: 0\n",
      "varBinds: [(ObjectName(1.3.6.1.2.1.1.1.0), OctetString('b'Linux li744-109 4.1.5-x86_64-linode61 #7 SMP Mon Aug 24 13:46:31 EDT 2015 x86_64''))]\n"
     ]
    }
   ],
   "source": [
    "errorIndication, errorStatus, errorIndex, varBinds = cmd.getCmd(\n",
    "    # v1\n",
    "    # cmdgen.CommunityData('public', 0),\n",
    "    # v2\n",
    "    # cmdgen.CommunityData('public'),\n",
    "    # v3\n",
    "    cmdgen.UsmUserData(\n",
    "        'demo', 'my_new_password', 'my_new_password', \n",
    "        cmdgen.usmHMACMD5AuthProtocol,\n",
    "        cmdgen.usmDESPrivProtocol\n",
    "    ),\n",
    "    cmdgen.UdpTransportTarget(('ss.laisky.com', 161)),\n",
    "    cmdgen.MibVariable('1.3.6.1.2.1.1.1.0')\n",
    ")\n",
    "\n",
    "print(\n",
    "    'errorIndication: {}\\n'\n",
    "    'errorStatus: {}\\n'\n",
    "    'errorIndex: {}\\n'\n",
    "    'varBinds: {}'\n",
    "    .format(errorIndication, errorStatus, errorIndex, varBinds)\n",
    ")"
   ]
  },
  {
   "cell_type": "markdown",
   "metadata": {},
   "source": [
    "chexiang\n",
    "===\n",
    "\n",
    "- system = 1.3.6.1.2.1.1\n",
    "- sysName = 1.3.6.1.2.1.1.5\n",
    "- ifEntry = 1.3.6.1.2.1.2.2.1\n",
    "- ifDescr = 1.3.6.1.2.1.2.2.1.2\n",
    "- ifSpeed = 1.3.6.1.2.1.2.2.1.5"
   ]
  },
  {
   "cell_type": "code",
   "execution_count": 95,
   "metadata": {
    "collapsed": false
   },
   "outputs": [
    {
     "name": "stdout",
     "output_type": "stream",
     "text": [
      "1.3.6.1.2.1.2.2.1.2.1 NULL0\n",
      "1.3.6.1.2.1.2.2.1.2.2 InLoopBack0\n",
      "1.3.6.1.2.1.2.2.1.2.3 MEth0/0/0\n",
      "1.3.6.1.2.1.2.2.1.2.5 GE1/0/1\n",
      "1.3.6.1.2.1.2.2.1.2.6 GE1/0/2\n",
      "1.3.6.1.2.1.2.2.1.2.7 GE1/0/3\n",
      "1.3.6.1.2.1.2.2.1.2.8 GE1/0/4\n",
      "1.3.6.1.2.1.2.2.1.2.9 GE1/0/5\n",
      "1.3.6.1.2.1.2.2.1.2.10 GE1/0/6\n",
      "1.3.6.1.2.1.2.2.1.2.11 GE1/0/7\n",
      "1.3.6.1.2.1.2.2.1.2.12 GE1/0/8\n",
      "1.3.6.1.2.1.2.2.1.2.13 GE1/0/9\n",
      "1.3.6.1.2.1.2.2.1.2.14 GE1/0/10\n",
      "1.3.6.1.2.1.2.2.1.2.15 GE1/0/11\n",
      "1.3.6.1.2.1.2.2.1.2.16 GE1/0/12\n",
      "1.3.6.1.2.1.2.2.1.2.17 GE1/0/13\n",
      "1.3.6.1.2.1.2.2.1.2.18 GE1/0/14\n",
      "1.3.6.1.2.1.2.2.1.2.19 GE1/0/15\n",
      "1.3.6.1.2.1.2.2.1.2.20 GE1/0/16\n",
      "1.3.6.1.2.1.2.2.1.2.21 GE1/0/17\n",
      "1.3.6.1.2.1.2.2.1.2.22 GE1/0/18\n",
      "1.3.6.1.2.1.2.2.1.2.23 GE1/0/19\n",
      "1.3.6.1.2.1.2.2.1.2.24 GE1/0/20\n",
      "1.3.6.1.2.1.2.2.1.2.25 GE1/0/21\n",
      "1.3.6.1.2.1.2.2.1.2.26 GE1/0/22\n",
      "1.3.6.1.2.1.2.2.1.2.27 GE1/0/23\n",
      "1.3.6.1.2.1.2.2.1.2.28 GE1/0/24\n",
      "1.3.6.1.2.1.2.2.1.2.29 GE1/0/25\n",
      "1.3.6.1.2.1.2.2.1.2.30 GE1/0/26\n",
      "1.3.6.1.2.1.2.2.1.2.31 GE1/0/27\n",
      "1.3.6.1.2.1.2.2.1.2.32 GE1/0/28\n",
      "1.3.6.1.2.1.2.2.1.2.33 GE1/0/29\n",
      "1.3.6.1.2.1.2.2.1.2.34 GE1/0/30\n",
      "1.3.6.1.2.1.2.2.1.2.35 GE1/0/31\n",
      "1.3.6.1.2.1.2.2.1.2.36 GE1/0/32\n",
      "1.3.6.1.2.1.2.2.1.2.37 GE1/0/33\n",
      "1.3.6.1.2.1.2.2.1.2.38 GE1/0/34\n",
      "1.3.6.1.2.1.2.2.1.2.39 GE1/0/35\n",
      "1.3.6.1.2.1.2.2.1.2.40 GE1/0/36\n",
      "1.3.6.1.2.1.2.2.1.2.41 GE1/0/37\n",
      "1.3.6.1.2.1.2.2.1.2.42 GE1/0/38\n",
      "1.3.6.1.2.1.2.2.1.2.43 GE1/0/39\n",
      "1.3.6.1.2.1.2.2.1.2.44 GE1/0/40\n",
      "1.3.6.1.2.1.2.2.1.2.45 GE1/0/41\n",
      "1.3.6.1.2.1.2.2.1.2.46 GE1/0/42\n",
      "1.3.6.1.2.1.2.2.1.2.47 GE1/0/43\n",
      "1.3.6.1.2.1.2.2.1.2.48 GE1/0/44\n",
      "1.3.6.1.2.1.2.2.1.2.49 GE1/0/45\n",
      "1.3.6.1.2.1.2.2.1.2.50 GE1/0/46\n",
      "1.3.6.1.2.1.2.2.1.2.51 GE1/0/47\n",
      "1.3.6.1.2.1.2.2.1.2.52 GE1/0/48\n",
      "1.3.6.1.2.1.2.2.1.2.53 10GE1/0/1\n",
      "1.3.6.1.2.1.2.2.1.2.54 10GE1/0/2\n",
      "1.3.6.1.2.1.2.2.1.2.55 10GE1/0/3\n",
      "1.3.6.1.2.1.2.2.1.2.56 10GE1/0/4\n",
      "1.3.6.1.2.1.2.2.1.2.57 40GE1/0/1\n",
      "1.3.6.1.2.1.2.2.1.2.58 40GE1/0/2\n",
      "1.3.6.1.2.1.2.2.1.2.59 Vlanif111\n",
      "1.3.6.1.2.1.2.2.1.2.60 Eth-Trunk0\n"
     ]
    }
   ],
   "source": [
    "import string\n",
    "from pysnmp.smi import builder, view, error\n",
    "from pysnmp.entity.rfc3413.oneliner import cmdgen\n",
    "from collections import namedtuple as NT\n",
    "\n",
    "cmdGen = cmdgen.CommandGenerator()\n",
    "mibBuilder = builder.MibBuilder()\n",
    "mibBuilder.loadModules(\n",
    "    'RFC-1213', 'RFC-3413'\n",
    "    )\n",
    "mibView = view.MibViewController(mibBuilder)\n",
    "errorIndication, errorStatus, errorIndex, \\\n",
    "                 varBindTable = cmdGen.nextCmd(\n",
    "    # SNMP v2\n",
    "    cmdgen.CommunityData('huawei@123'),\n",
    "    # Transport\n",
    "    cmdgen.UdpTransportTarget(('10.32.33.10', 161)),\n",
    "#     cmdgen.MibVariable('IF-MIB', 'ifInOctets'),\n",
    "    cmdgen.MibVariable('IF-MIB', 'ifDescr'),\n",
    ")\n",
    "\n",
    "\n",
    "for row in varBindTable:\n",
    "    for oid, val in row:\n",
    "#         print(repr(oid))\n",
    "        print(oid, val.prettyPrint())"
   ]
  },
  {
   "cell_type": "code",
   "execution_count": 85,
   "metadata": {
    "collapsed": false
   },
   "outputs": [
    {
     "data": {
      "text/plain": [
       "ObjectIdentity('IF-MIB', 'ifInOctets', 1)"
      ]
     },
     "execution_count": 85,
     "metadata": {},
     "output_type": "execute_result"
    }
   ],
   "source": [
    "o = cmdgen.MibVariable('IF-MIB', 'ifInOctets', 1)\n",
    "o.loadMibs()"
   ]
  }
 ],
 "metadata": {
  "kernelspec": {
   "display_name": "Python 3",
   "language": "python",
   "name": "python3"
  },
  "language_info": {
   "codemirror_mode": {
    "name": "ipython",
    "version": 3
   },
   "file_extension": ".py",
   "mimetype": "text/x-python",
   "name": "python",
   "nbconvert_exporter": "python",
   "pygments_lexer": "ipython3",
   "version": "3.4.2"
  }
 },
 "nbformat": 4,
 "nbformat_minor": 0
}
