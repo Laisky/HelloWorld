{
 "cells": [
  {
   "cell_type": "code",
   "execution_count": 3,
   "metadata": {
    "collapsed": true
   },
   "outputs": [],
   "source": [
    "from pysnmp.entity.rfc3413.oneliner import cmdgen\n",
    "\n",
    "cmd = cmdgen.CommandGenerator()"
   ]
  },
  {
   "cell_type": "code",
   "execution_count": 11,
   "metadata": {
    "collapsed": false
   },
   "outputs": [
    {
     "name": "stdout",
     "output_type": "stream",
     "text": [
      "errorIndication: None\n",
      "errorStatus: 0\n",
      "errorIndex: 0\n",
      "varBinds: [ObjectType(ObjectIdentity(ObjectName('1.3.6.1.2.1.1.1.0')), DisplayString(b'Linux li744-109 4.1.5-x86_64-linode61 #7 SMP Mon Aug 24 13:46:31 EDT 2015 x86_64', subtypeSpec=ConstraintsIntersection(ConstraintsIntersection(ConstraintsIntersection(ConstraintsIntersection(), ValueSizeConstraint(0, 65535)), ValueSizeConstraint(0, 255)), ValueSizeConstraint(0, 255))))]\n"
     ]
    }
   ],
   "source": [
    "errorIndication, errorStatus, errorIndex, varBinds = cmd.getCmd(\n",
    "    # v1\n",
    "    # cmdgen.CommunityData('public', 0),\n",
    "    # v2\n",
    "    # cmdgen.CommunityData('public'),\n",
    "    # v3\n",
    "    cmdgen.UsmUserData(\n",
    "        'demo', 'my_new_password', 'my_new_password', \n",
    "        cmdgen.usmHMACMD5AuthProtocol,\n",
    "        cmdgen.usmDESPrivProtocol\n",
    "    ),\n",
    "    cmdgen.UdpTransportTarget(('ss.laisky.com', 161)),\n",
    "    cmdgen.MibVariable('1.3.6.1.2.1.1.1.0')\n",
    ")\n",
    "\n",
    "print(\n",
    "    'errorIndication: {}\\n'\n",
    "    'errorStatus: {}\\n'\n",
    "    'errorIndex: {}\\n'\n",
    "    'varBinds: {}'\n",
    "    .format(errorIndication, errorStatus, errorIndex, varBinds)\n",
    ")"
   ]
  },
  {
   "cell_type": "markdown",
   "metadata": {},
   "source": [
    "chexiang\n",
    "===\n",
    "\n",
    "- system = 1.3.6.1.2.1.1\n",
    "- sysName = 1.3.6.1.2.1.1.5\n",
    "- ifEntry = 1.3.6.1.2.1.2.2.1\n",
    "- ifDescr = 1.3.6.1.2.1.2.2.1.2\n",
    "- ifSpeed = 1.3.6.1.2.1.2.2.1.5"
   ]
  },
  {
   "cell_type": "code",
   "execution_count": 15,
   "metadata": {
    "collapsed": false
   },
   "outputs": [
    {
     "name": "stdout",
     "output_type": "stream",
     "text": [
      "None\n",
      "0\n",
      "0\n",
      "**************************************************\n",
      "1 0\n",
      "2 0\n",
      "3 27370\n",
      "5 677095921\n",
      "6 662419672\n",
      "7 661712657\n",
      "8 303363872\n",
      "9 659786839\n",
      "10 1013002893\n",
      "11 645175091\n",
      "12 675785726\n",
      "13 643100720\n",
      "14 1475313986\n",
      "15 1004680347\n",
      "16 1010004827\n",
      "17 282956583\n",
      "18 283184569\n",
      "19 296412774\n",
      "20 2663611664\n",
      "21 3647534609\n",
      "22 1967238514\n",
      "23 4285917384\n",
      "24 2743781138\n",
      "25 969838713\n",
      "26 474340758\n",
      "27 3818671621\n",
      "28 97924068\n",
      "29 1840288398\n",
      "30 1424314283\n",
      "31 1549512079\n",
      "32 1500687573\n",
      "33 1894781206\n",
      "34 690128012\n",
      "35 1379100984\n",
      "36 1383782654\n",
      "37 1575579371\n",
      "38 1515670661\n",
      "39 1558856185\n",
      "40 3374178554\n",
      "41 3295492557\n",
      "42 2316269418\n",
      "43 3991249265\n",
      "44 1480662140\n",
      "45 108262007\n",
      "46 1398462092\n",
      "47 1883561856\n",
      "48 2908494113\n",
      "49 487581795\n",
      "50 2303653936\n",
      "51 78080134\n",
      "52 3862043673\n",
      "53 2909986333\n",
      "54 0\n",
      "55 0\n",
      "56 0\n",
      "57 0\n",
      "58 0\n",
      "59 0\n",
      "60 2909986333\n"
     ]
    }
   ],
   "source": [
    "import string\n",
    "from pysnmp.smi import builder, view, error\n",
    "from pysnmp.entity.rfc3413.oneliner import cmdgen\n",
    "from collections import namedtuple as NT\n",
    "\n",
    "cmdGen = cmdgen.CommandGenerator()\n",
    "mibBuilder = builder.MibBuilder()\n",
    "mibBuilder.loadModules(\n",
    "    'RFC-1213', 'RFC-3413'\n",
    "    )\n",
    "mibView = view.MibViewController(mibBuilder)\n",
    "errorIndication, errorStatus, errorIndex, \\\n",
    "                 varBindTable = cmdGen.nextCmd(\n",
    "    # SNMP v2\n",
    "    cmdgen.CommunityData('huawei@123'),\n",
    "    # Transport\n",
    "    cmdgen.UdpTransportTarget(('10.32.33.10', 161)),\n",
    "    cmdgen.MibVariable(*('IF-MIB', 'ifOutOctets')),\n",
    "#     cmdgen.MibVariable('IF-MIB', 'ifDescr'),\n",
    ")\n",
    "\n",
    "\n",
    "print(errorIndication)\n",
    "print(errorStatus)\n",
    "print(errorIndex)\n",
    "print('*' * 50)\n",
    "\n",
    "    \n",
    "for row in varBindTable:\n",
    "    for oid, val in row:\n",
    "#         print(repr(oid))\n",
    "        print(oid.getMibSymbol()[-1][0], val.prettyPrint())"
   ]
  },
  {
   "cell_type": "code",
   "execution_count": 21,
   "metadata": {
    "collapsed": false
   },
   "outputs": [
    {
     "data": {
      "text/plain": [
       "'2909986333'"
      ]
     },
     "execution_count": 21,
     "metadata": {},
     "output_type": "execute_result"
    }
   ],
   "source": [
    "a = val.prettyPrint()\n",
    "a"
   ]
  },
  {
   "cell_type": "code",
   "execution_count": 30,
   "metadata": {
    "collapsed": false
   },
   "outputs": [
    {
     "data": {
      "text/plain": [
       "('IF-MIB', 'ifInOctets', (InterfaceIndex(60),))"
      ]
     },
     "execution_count": 30,
     "metadata": {},
     "output_type": "execute_result"
    }
   ],
   "source": [
    "d = oid.getMibSymbol()\n",
    "d"
   ]
  },
  {
   "cell_type": "code",
   "execution_count": 3,
   "metadata": {
    "collapsed": false
   },
   "outputs": [
    {
     "data": {
      "text/plain": [
       "ObjectIdentity('IF-MIB', 'ifInOctets', 1)"
      ]
     },
     "execution_count": 3,
     "metadata": {},
     "output_type": "execute_result"
    }
   ],
   "source": [
    "o = cmdgen.MibVariable('IF-MIB', 'ifInOctets', 1)\n",
    "o.loadMibs()"
   ]
  }
 ],
 "metadata": {
  "kernelspec": {
   "display_name": "Python 3",
   "language": "python",
   "name": "python3"
  },
  "language_info": {
   "codemirror_mode": {
    "name": "ipython",
    "version": 3
   },
   "file_extension": ".py",
   "mimetype": "text/x-python",
   "name": "python",
   "nbconvert_exporter": "python",
   "pygments_lexer": "ipython3",
   "version": "3.4.2"
  }
 },
 "nbformat": 4,
 "nbformat_minor": 0
}
