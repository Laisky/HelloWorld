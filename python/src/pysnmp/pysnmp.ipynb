{
 "cells": [
  {
   "cell_type": "code",
   "execution_count": null,
   "metadata": {
    "collapsed": true
   },
   "outputs": [],
   "source": [
    "from pysnmp.entity.rfc3413.oneliner import cmdgen\n",
    "\n",
    "cmd = cmdgen.CommandGenerator()"
   ]
  },
  {
   "cell_type": "code",
   "execution_count": null,
   "metadata": {
    "collapsed": false
   },
   "outputs": [],
   "source": [
    "errorIndication, errorStatus, errorIndex, varBinds = cmd.getCmd(\n",
    "    # v1\n",
    "    # cmdgen.CommunityData('public', 0),\n",
    "    # v2\n",
    "    # cmdgen.CommunityData('public'),\n",
    "    # v3\n",
    "    cmdgen.UsmUserData(\n",
    "        'demo', 'my_new_password', 'my_new_password', \n",
    "        cmdgen.usmHMACMD5AuthProtocol,\n",
    "        cmdgen.usmDESPrivProtocol\n",
    "    ),\n",
    "    cmdgen.UdpTransportTarget(('ss.laisky.com', 161)),\n",
    "    cmdgen.MibVariable('1.3.6.1.2.1.1.1.0')\n",
    ")\n",
    "\n",
    "print(\n",
    "    'errorIndication: {}\\n'\n",
    "    'errorStatus: {}\\n'\n",
    "    'errorIndex: {}\\n'\n",
    "    'varBinds: {}'\n",
    "    .format(errorIndication, errorStatus, errorIndex, varBinds)\n",
    ")"
   ]
  },
  {
   "cell_type": "markdown",
   "metadata": {},
   "source": [
    "chexiang\n",
    "===\n",
    "\n",
    "- system = 1.3.6.1.2.1.1\n",
    "- sysName = 1.3.6.1.2.1.1.5\n",
    "- ifEntry = 1.3.6.1.2.1.2.2.1\n",
    "- ifDescr = 1.3.6.1.2.1.2.2.1.2\n",
    "- ifSpeed = 1.3.6.1.2.1.2.2.1.5"
   ]
  },
  {
   "cell_type": "markdown",
   "metadata": {},
   "source": [
    "## 同步"
   ]
  },
  {
   "cell_type": "code",
   "execution_count": null,
   "metadata": {
    "collapsed": false,
    "scrolled": true
   },
   "outputs": [],
   "source": [
    "import string\n",
    "from pysnmp.smi import builder, view, error\n",
    "from pysnmp.entity.rfc3413.oneliner import cmdgen\n",
    "\n",
    "\n",
    "# 创建 cmd generator\n",
    "cmdGen = cmdgen.CommandGenerator()  # 同步\n",
    "\n",
    "mibBuilder = builder.MibBuilder()\n",
    "mibBuilder.loadModules(\n",
    "    'RFC-1213', 'RFC-3413'\n",
    ")\n",
    "mibView = view.MibViewController(mibBuilder)\n",
    "\n",
    "\n",
    "\n",
    "errorIndication, errorStatus, errorIndex, varBinds = cmdGen.nextCmd(\n",
    "    cmdgen.CommunityData('huawei@123'),\n",
    "    cmdgen.UdpTransportTarget(('10.32.33.16', 161)),\n",
    "    cmdgen.MibVariable('IF-MIB', 'ifOperStatus')\n",
    ")\n",
    "\n",
    "\n",
    "print(errorIndication)\n",
    "print(errorStatus)\n",
    "print(errorIndex)\n",
    "print('*' * 50)\n",
    "\n",
    "for row in varBinds:\n",
    "    for oid, val in row:\n",
    "        print(oid.getMibSymbol()[-1][0], val.prettyPrint())"
   ]
  },
  {
   "cell_type": "markdown",
   "metadata": {},
   "source": [
    "## 异步"
   ]
  },
  {
   "cell_type": "code",
   "execution_count": null,
   "metadata": {
    "collapsed": false,
    "scrolled": true
   },
   "outputs": [],
   "source": [
    "import string\n",
    "import time\n",
    "# from pysnmp.smi import builder, view, error\n",
    "from pysnmp.entity.rfc3413.oneliner import cmdgen\n",
    "\n",
    "\n",
    "# 创建 cmd generator\n",
    "# cmdGen = cmdgen.CommandGenerator()  # 同步\n",
    "cmdGen = cmdgen.AsynCommandGenerator()  # 异步\n",
    "\n",
    "# mibBuilder = builder.MibBuilder()\n",
    "# mibBuilder.loadModules(\n",
    "#     'RFC-1213', 'RFC-3413'\n",
    "# )\n",
    "# mibView = view.MibViewController(mibBuilder)\n",
    "\n",
    "\n",
    "mib_vars = (\n",
    "#     {'desc': 'ifOperStatus', 'mib': cmdgen.MibVariable('IF-MIB', 'ifOperStatus')},  # 端口状态\n",
    "#     {'desc': 'ifSpeed', 'mib': cmdgen.MibVariable('IF-MIB', 'ifSpeed')},  # 端口速度 bits/s\n",
    "#     {'desc': 'ifDescr', 'mib': cmdgen.MibVariable('IF-MIB', 'ifDescr')},\n",
    "#     {'desc': 'ifInOctets', 'mib': cmdgen.MibVariable('IF-MIB', 'ifInOctets')},\n",
    "#     {'desc': 'ifOutOctets', 'mib': cmdgen.MibVariable('IF-MIB', 'ifOutOctets')},\n",
    "    {'desc': 'multi', 'mibs': (cmdgen.MibVariable('IF-MIB', 'ifDescr'), cmdgen.MibVariable('IF-MIB', 'ifSpeed'))},\n",
    "\n",
    ")\n",
    "\n",
    "\n",
    "def callback(sendRequestHandle, errorIndication, errorStatus, errorIndex, varBinds, cbCtx):\n",
    "    if errorIndication:\n",
    "        print(errorIndication)\n",
    "        print(errorStatus)\n",
    "        print(errorIndex)\n",
    "        return 1\n",
    "        \n",
    "    for row in varBinds:\n",
    "        for oid, val in row:\n",
    "            c = 0\n",
    "            if cbCtx['object_name'] not in oid.prettyPrint():\n",
    "#                 print(oid.prettyPrint())\n",
    "                c+=1\n",
    "                if c > 200:\n",
    "                    return\n",
    "#                 return\n",
    "            \n",
    "            print(oid.getLabel()[-1], str(int(oid.getMibSymbol()[-1][0])), val.prettyPrint())\n",
    "            \n",
    "    return 1  # 告诉 walk 继续运行\n",
    "            \n",
    "\n",
    "\n",
    "for mib_var in mib_vars:\n",
    "    cbCtx = {'object_name': mib_var['desc']}\n",
    "    cmdGen.nextCmd(\n",
    "        cmdgen.CommunityData('huawei@123'),\n",
    "        cmdgen.UdpTransportTarget(('10.32.33.16', 161), timeout=1, retries=3),\n",
    "#         0, 25,\n",
    "#         (mib_var['mib'],),\n",
    "        mib_var['mibs'],\n",
    "        (callback, cbCtx),\n",
    "        True, True\n",
    "    )\n",
    "\n",
    "    \n",
    "# 启动\n",
    "print('start job')\n",
    "# cmdGen.snmpEngine.transportDispatcher.jobStarted(1)\n",
    "print('run dispatcher')\n",
    "cmdGen.snmpEngine.transportDispatcher.runDispatcher()\n",
    "print('close dispatcher')\n",
    "# cmdGen.snmpEngine.transportDispatcher.closeDispatcher()\n",
    "print('job finished')\n",
    "# cmdGen.snmpEngine.transportDispatcher.\n",
    "# cmdGen.snmpEngine.transportDispatcher.jobFinished(1)\n"
   ]
  }
 ],
 "metadata": {
  "kernelspec": {
   "display_name": "Python 3",
   "language": "python",
   "name": "python3"
  },
  "language_info": {
   "codemirror_mode": {
    "name": "ipython",
    "version": 3
   },
   "file_extension": ".py",
   "mimetype": "text/x-python",
   "name": "python",
   "nbconvert_exporter": "python",
   "pygments_lexer": "ipython3",
   "version": "3.4.2"
  }
 },
 "nbformat": 4,
 "nbformat_minor": 0
}
