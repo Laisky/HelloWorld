{
 "cells": [
  {
   "cell_type": "code",
   "execution_count": 1,
   "metadata": {
    "collapsed": true
   },
   "outputs": [],
   "source": [
    "from pysnmp.entity.rfc3413.oneliner import cmdgen\n",
    "\n",
    "cmd = cmdgen.CommandGenerator()"
   ]
  },
  {
   "cell_type": "code",
   "execution_count": 2,
   "metadata": {
    "collapsed": false
   },
   "outputs": [
    {
     "name": "stdout",
     "output_type": "stream",
     "text": [
      "errorIndication: No SNMP response received before timeout\n",
      "errorStatus: 0\n",
      "errorIndex: 0\n",
      "varBinds: []\n"
     ]
    }
   ],
   "source": [
    "errorIndication, errorStatus, errorIndex, varBinds = cmd.getCmd(\n",
    "    # v1\n",
    "    # cmdgen.CommunityData('public', 0),\n",
    "    # v2\n",
    "    # cmdgen.CommunityData('public'),\n",
    "    # v3\n",
    "    cmdgen.UsmUserData(\n",
    "        'demo', 'my_new_password', 'my_new_password', \n",
    "        cmdgen.usmHMACMD5AuthProtocol,\n",
    "        cmdgen.usmDESPrivProtocol\n",
    "    ),\n",
    "    cmdgen.UdpTransportTarget(('ss.laisky.com', 161)),\n",
    "    cmdgen.MibVariable('1.3.6.1.2.1.1.1.0')\n",
    ")\n",
    "\n",
    "print(\n",
    "    'errorIndication: {}\\n'\n",
    "    'errorStatus: {}\\n'\n",
    "    'errorIndex: {}\\n'\n",
    "    'varBinds: {}'\n",
    "    .format(errorIndication, errorStatus, errorIndex, varBinds)\n",
    ")"
   ]
  },
  {
   "cell_type": "markdown",
   "metadata": {},
   "source": [
    "chexiang\n",
    "===\n",
    "\n",
    "- system = 1.3.6.1.2.1.1\n",
    "- sysName = 1.3.6.1.2.1.1.5\n",
    "- ifEntry = 1.3.6.1.2.1.2.2.1\n",
    "- ifDescr = 1.3.6.1.2.1.2.2.1.2\n",
    "- ifSpeed = 1.3.6.1.2.1.2.2.1.5"
   ]
  },
  {
   "cell_type": "code",
   "execution_count": 73,
   "metadata": {
    "collapsed": false,
    "scrolled": false
   },
   "outputs": [
    {
     "name": "stdout",
     "output_type": "stream",
     "text": [
      "**************************************************\n",
      "None\n",
      "0\n",
      "0\n",
      "abc\n",
      "[[ObjectType(ObjectIdentity(ObjectName('1.3.6.1.2.1.2.2.1.8.1')), Integer32('up', subtypeSpec=ConstraintsIntersection(ConstraintsIntersection(ConstraintsIntersection(), ValueRangeConstraint(-2147483648, 2147483647)), SingleValueConstraint(1, 2, 3, 4, 5, 6, 7)), NamedValues(('up', 1), ('down', 2), ('testing', 3), ('unknown', 4), ('dormant', 5), ('notPresent', 6), ('lowerLayerDown', 7))))]]\n",
      "IF-MIB::ifOperStatus.\"1\" 'up'\n",
      "**************************************************\n",
      "None\n",
      "0\n",
      "0\n",
      "abc\n",
      "[[ObjectType(ObjectIdentity(ObjectName('1.3.6.1.2.1.2.2.1.5.1')), Gauge32(0))]]\n",
      "IF-MIB::ifSpeed.\"1\" 0\n",
      "**************************************************\n",
      "None\n",
      "0\n",
      "0\n",
      "abc\n",
      "[[ObjectType(ObjectIdentity(ObjectName('1.3.6.1.2.1.2.2.1.14.1')), Counter32(0))]]\n",
      "IF-MIB::ifInErrors.\"1\" 0\n"
     ]
    }
   ],
   "source": [
    "import string\n",
    "from pysnmp.smi import builder, view, error\n",
    "from pysnmp.entity.rfc3413.oneliner import cmdgen\n",
    "\n",
    "\n",
    "# 创建 cmd generator\n",
    "cmdGen = cmdgen.CommandGenerator()  # 同步\n",
    "cmdGen = cmdgen.AsynCommandGenerator()  # 异步\n",
    "\n",
    "mibBuilder = builder.MibBuilder()\n",
    "mibBuilder.loadModules(\n",
    "    'RFC-1213', 'RFC-3413'\n",
    ")\n",
    "mibView = view.MibViewController(mibBuilder)\n",
    "\n",
    "\n",
    "mib_vars = (\n",
    "    cmdgen.MibVariable('IF-MIB', 'ifOperStatus'),\n",
    "    cmdgen.MibVariable('IF-MIB', 'ifSpeed'),\n",
    "    cmdgen.MibVariable('IF-MIB', 'ifInErrors'),\n",
    ")\n",
    "\n",
    "\n",
    "def callback(sendRequestHandle, errorIndication, errorStatus, errorIndex, varBinds, cbCtx):\n",
    "    print('*'*50)\n",
    "    print(errorIndication)\n",
    "    print(errorStatus)\n",
    "    print(errorIndex)\n",
    "    print(cbCtx)\n",
    "    print(varBinds)\n",
    "    for row in varBinds:\n",
    "        for oid, val in row:\n",
    "            print(oid.prettyPrint(), val.prettyPrint())\n",
    "#             print(oid.getMibSymbol()[-1][0], val.prettyPrint())\n",
    "            \n",
    "\n",
    "# def callback(*args, **kw):\n",
    "#     for a in args:\n",
    "#         print(a)\n",
    "#     print(kw)\n",
    "\n",
    "for mib_var in mib_vars:\n",
    "    cmdGen.nextCmd(\n",
    "        cmdgen.CommunityData('huawei@123'),\n",
    "        cmdgen.UdpTransportTarget(('10.32.33.6', 161)),\n",
    "        (mib_var,),\n",
    "#         (cmdgen.MibVariable('IF-MIB', 'ifOperStatus'),),\n",
    "        (callback, 'abc'),\n",
    "        True, True\n",
    "    )\n",
    "\n",
    "    \n",
    "# 启动\n",
    "cmdGen.snmpEngine.transportDispatcher.runDispatcher()\n",
    "\n",
    "\n",
    "# print(errorIndication)\n",
    "# print(errorStatus)\n",
    "# print(errorIndex)\n",
    "# print('*' * 50)\n",
    "\n",
    "\n",
    "# # print(varBindTable)\n",
    "# for row in varBindTable:\n",
    "#     for oid, val in row:\n",
    "#         #         print(repr(oid))\n",
    "#         print(oid.getMibSymbol()[-1][0], val.prettyPrint())\n"
   ]
  },
  {
   "cell_type": "code",
   "execution_count": 69,
   "metadata": {
    "collapsed": false
   },
   "outputs": [],
   "source": [
    "cmdGen.nextCmd??"
   ]
  }
 ],
 "metadata": {
  "kernelspec": {
   "display_name": "Python 3",
   "language": "python",
   "name": "python3"
  },
  "language_info": {
   "codemirror_mode": {
    "name": "ipython",
    "version": 3
   },
   "file_extension": ".py",
   "mimetype": "text/x-python",
   "name": "python",
   "nbconvert_exporter": "python",
   "pygments_lexer": "ipython3",
   "version": "3.4.2"
  }
 },
 "nbformat": 4,
 "nbformat_minor": 0
}
