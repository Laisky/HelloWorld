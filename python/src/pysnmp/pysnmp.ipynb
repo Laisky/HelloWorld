{
 "cells": [
  {
   "cell_type": "code",
   "execution_count": 1,
   "metadata": {
    "collapsed": true
   },
   "outputs": [],
   "source": [
    "from pysnmp.entity.rfc3413.oneliner import cmdgen"
   ]
  },
  {
   "cell_type": "code",
   "execution_count": 2,
   "metadata": {
    "collapsed": true
   },
   "outputs": [],
   "source": [
    "cmd = cmdgen.CommandGenerator()"
   ]
  },
  {
   "cell_type": "code",
   "execution_count": 4,
   "metadata": {
    "collapsed": false
   },
   "outputs": [
    {
     "name": "stdout",
     "output_type": "stream",
     "text": [
      "errorIndication: None\n",
      "errorStatus: 0\n",
      "errorIndex: 0\n",
      "varBinds: [(ObjectName(1.3.6.1.2.1.1.1.0), OctetString('b'Linux li744-109 4.1.5-x86_64-linode61 #7 SMP Mon Aug 24 13:46:31 EDT 2015 x86_64''))]\n"
     ]
    }
   ],
   "source": [
    "errorIndication, errorStatus, errorIndex, varBinds = cmd.getCmd(\n",
    "    # v1\n",
    "    # cmdgen.CommunityData('public', 0),\n",
    "    # v2\n",
    "    # cmdgen.CommunityData('public'),\n",
    "    # v3\n",
    "    cmdgen.UsmUserData(\n",
    "        'demo', 'my_new_password', 'my_new_password', \n",
    "        cmdgen.usmHMACMD5AuthProtocol,\n",
    "        cmdgen.usmDESPrivProtocol\n",
    "    ),\n",
    "    cmdgen.UdpTransportTarget(('ss.laisky.com', 161)),\n",
    "    cmdgen.MibVariable('1.3.6.1.2.1.1.1.0')\n",
    ")\n",
    "\n",
    "print(\n",
    "    'errorIndication: {}\\n'\n",
    "    'errorStatus: {}\\n'\n",
    "    'errorIndex: {}\\n'\n",
    "    'varBinds: {}'\n",
    "    .format(errorIndication, errorStatus, errorIndex, varBinds)\n",
    ")"
   ]
  }
 ],
 "metadata": {
  "kernelspec": {
   "display_name": "Python 3",
   "language": "python",
   "name": "python3"
  },
  "language_info": {
   "codemirror_mode": {
    "name": "ipython",
    "version": 3
   },
   "file_extension": ".py",
   "mimetype": "text/x-python",
   "name": "python",
   "nbconvert_exporter": "python",
   "pygments_lexer": "ipython3",
   "version": "3.4.2"
  }
 },
 "nbformat": 4,
 "nbformat_minor": 0
}
