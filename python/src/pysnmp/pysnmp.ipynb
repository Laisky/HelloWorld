{
 "cells": [
  {
   "cell_type": "code",
   "execution_count": 1,
   "metadata": {
    "collapsed": true
   },
   "outputs": [],
   "source": [
    "from pysnmp.entity.rfc3413.oneliner import cmdgen\n",
    "\n",
    "cmd = cmdgen.CommandGenerator()"
   ]
  },
  {
   "cell_type": "code",
   "execution_count": 2,
   "metadata": {
    "collapsed": false
   },
   "outputs": [
    {
     "name": "stdout",
     "output_type": "stream",
     "text": [
      "errorIndication: None\n",
      "errorStatus: 0\n",
      "errorIndex: 0\n",
      "varBinds: [ObjectType(ObjectIdentity(ObjectName('1.3.6.1.2.1.1.1.0')), DisplayString(b'Linux li744-109 4.1.5-x86_64-linode61 #7 SMP Mon Aug 24 13:46:31 EDT 2015 x86_64', subtypeSpec=ConstraintsIntersection(ConstraintsIntersection(ConstraintsIntersection(ConstraintsIntersection(), ValueSizeConstraint(0, 65535)), ValueSizeConstraint(0, 255)), ValueSizeConstraint(0, 255))))]\n"
     ]
    }
   ],
   "source": [
    "errorIndication, errorStatus, errorIndex, varBinds = cmd.getCmd(\n",
    "    # v1\n",
    "    # cmdgen.CommunityData('public', 0),\n",
    "    # v2\n",
    "    # cmdgen.CommunityData('public'),\n",
    "    # v3\n",
    "    cmdgen.UsmUserData(\n",
    "        'demo', 'my_new_password', 'my_new_password', \n",
    "        cmdgen.usmHMACMD5AuthProtocol,\n",
    "        cmdgen.usmDESPrivProtocol\n",
    "    ),\n",
    "    cmdgen.UdpTransportTarget(('ss.laisky.com', 161)),\n",
    "    cmdgen.MibVariable('1.3.6.1.2.1.1.1.0')\n",
    ")\n",
    "\n",
    "print(\n",
    "    'errorIndication: {}\\n'\n",
    "    'errorStatus: {}\\n'\n",
    "    'errorIndex: {}\\n'\n",
    "    'varBinds: {}'\n",
    "    .format(errorIndication, errorStatus, errorIndex, varBinds)\n",
    ")"
   ]
  },
  {
   "cell_type": "markdown",
   "metadata": {},
   "source": [
    "chexiang\n",
    "===\n",
    "\n",
    "- system = 1.3.6.1.2.1.1\n",
    "- sysName = 1.3.6.1.2.1.1.5\n",
    "- ifEntry = 1.3.6.1.2.1.2.2.1\n",
    "- ifDescr = 1.3.6.1.2.1.2.2.1.2\n",
    "- ifSpeed = 1.3.6.1.2.1.2.2.1.5"
   ]
  },
  {
   "cell_type": "markdown",
   "metadata": {},
   "source": [
    "## 同步"
   ]
  },
  {
   "cell_type": "code",
   "execution_count": 88,
   "metadata": {
    "collapsed": false,
    "scrolled": true
   },
   "outputs": [
    {
     "name": "stdout",
     "output_type": "stream",
     "text": [
      "None\n",
      "0\n",
      "0\n",
      "**************************************************\n",
      "1 'up'\n",
      "2 'up'\n",
      "3 'down'\n",
      "5 'up'\n",
      "6 'up'\n",
      "7 'up'\n",
      "8 'up'\n",
      "9 'up'\n",
      "10 'up'\n",
      "11 'up'\n",
      "12 'up'\n",
      "13 'up'\n",
      "14 'up'\n",
      "15 'up'\n",
      "16 'up'\n",
      "17 'up'\n",
      "18 'up'\n",
      "19 'up'\n",
      "20 'up'\n",
      "21 'up'\n",
      "22 'up'\n",
      "23 'up'\n",
      "24 'up'\n",
      "25 'up'\n",
      "26 'up'\n",
      "27 'up'\n",
      "28 'up'\n",
      "29 'up'\n",
      "30 'up'\n",
      "31 'up'\n",
      "32 'up'\n",
      "33 'up'\n",
      "34 'up'\n",
      "35 'down'\n",
      "36 'down'\n",
      "37 'down'\n",
      "38 'up'\n",
      "39 'up'\n",
      "40 'up'\n",
      "41 'up'\n",
      "42 'up'\n",
      "43 'up'\n",
      "44 'up'\n",
      "45 'up'\n",
      "46 'up'\n",
      "47 'up'\n",
      "48 'up'\n",
      "49 'up'\n",
      "50 'up'\n",
      "51 'down'\n",
      "52 'up'\n",
      "53 'up'\n",
      "54 'down'\n",
      "55 'down'\n",
      "56 'down'\n",
      "57 'down'\n",
      "58 'down'\n",
      "59 'up'\n",
      "60 'up'\n"
     ]
    }
   ],
   "source": [
    "import string\n",
    "from pysnmp.smi import builder, view, error\n",
    "from pysnmp.entity.rfc3413.oneliner import cmdgen\n",
    "\n",
    "\n",
    "# 创建 cmd generator\n",
    "cmdGen = cmdgen.CommandGenerator()  # 同步\n",
    "\n",
    "mibBuilder = builder.MibBuilder()\n",
    "mibBuilder.loadModules(\n",
    "    'RFC-1213', 'RFC-3413'\n",
    ")\n",
    "mibView = view.MibViewController(mibBuilder)\n",
    "\n",
    "\n",
    "\n",
    "errorIndication, errorStatus, errorIndex, varBinds = cmdGen.nextCmd(\n",
    "    cmdgen.CommunityData('huawei@123'),\n",
    "    cmdgen.UdpTransportTarget(('10.32.33.6', 161)),\n",
    "    cmdgen.MibVariable('IF-MIB', 'ifOperStatus')\n",
    ")\n",
    "\n",
    "\n",
    "print(errorIndication)\n",
    "print(errorStatus)\n",
    "print(errorIndex)\n",
    "print('*' * 50)\n",
    "\n",
    "for row in varBinds:\n",
    "    for oid, val in row:\n",
    "        print(oid.getMibSymbol()[-1][0], val.prettyPrint())"
   ]
  },
  {
   "cell_type": "markdown",
   "metadata": {},
   "source": [
    "## 异步"
   ]
  },
  {
   "cell_type": "code",
   "execution_count": 10,
   "metadata": {
    "collapsed": false,
    "scrolled": true
   },
   "outputs": [
    {
     "name": "stdout",
     "output_type": "stream",
     "text": [
      "IF-MIB::ifOperStatus b''\n",
      "SNMPv2-MIB::sysUpTime b''\n"
     ]
    }
   ],
   "source": [
    "import string\n",
    "# from pysnmp.smi import builder, view, error\n",
    "from pysnmp.entity.rfc3413.oneliner import cmdgen\n",
    "\n",
    "\n",
    "# 创建 cmd generator\n",
    "# cmdGen = cmdgen.CommandGenerator()  # 同步\n",
    "cmdGen = cmdgen.AsynCommandGenerator()  # 异步\n",
    "\n",
    "# mibBuilder = builder.MibBuilder()\n",
    "# mibBuilder.loadModules(\n",
    "#     'RFC-1213', 'RFC-3413'\n",
    "# )\n",
    "# mibView = view.MibViewController(mibBuilder)\n",
    "\n",
    "\n",
    "mib_vars = (\n",
    "    {'desc': 'ifOperStatus', 'mib': cmdgen.MibVariable('IF-MIB', 'ifOperStatus')},  # 端口状态\n",
    "#     {'desc': 'ifSpeed', 'mib': cmdgen.MibVariable('IF-MIB', 'ifSpeed')},  # 端口速度 bits/s\n",
    "\n",
    ")\n",
    "\n",
    "ttt = []\n",
    "def callback(sendRequestHandle, errorIndication, errorStatus, errorIndex, varBinds, cbCtx):\n",
    "    \n",
    "    for row in varBinds:\n",
    "        for oid, val in row:\n",
    "#             if cbCtx['object_name'] not in oid.prettyPrint():\n",
    "#                 return 0\n",
    "            \n",
    "            print(oid.prettyPrint(), val.prettyPrint())\n",
    "            ttt.append(oid)\n",
    "#             return\n",
    "            \n",
    "    return 1  # 告诉 walk 继续运行\n",
    "            \n",
    "\n",
    "\n",
    "for mib_var in mib_vars:\n",
    "    cbCtx = {'object_name': mib_var['desc']}\n",
    "    cmdGen.nextCmd(\n",
    "        cmdgen.CommunityData('huawei@123'),\n",
    "        cmdgen.UdpTransportTarget(('10.32.33.6', 161)),\n",
    "        (mib_var['mib'], cmdgen.MibVariable('.1.3.6.1.2.1.1.3')),\n",
    "        (callback, cbCtx),\n",
    "        True, True\n",
    "    )\n",
    "\n",
    "    \n",
    "# 启动\n",
    "cmdGen.snmpEngine.transportDispatcher.runDispatcher()"
   ]
  },
  {
   "cell_type": "code",
   "execution_count": 39,
   "metadata": {
    "collapsed": false
   },
   "outputs": [
    {
     "data": {
      "text/plain": [
       "2"
      ]
     },
     "execution_count": 39,
     "metadata": {},
     "output_type": "execute_result"
    }
   ],
   "source": [
    "t = ttt[2]\n",
    "int(t.getMibSymbol()[-1][0])"
   ]
  }
 ],
 "metadata": {
  "kernelspec": {
   "display_name": "Python 3",
   "language": "python",
   "name": "python3"
  },
  "language_info": {
   "codemirror_mode": {
    "name": "ipython",
    "version": 3
   },
   "file_extension": ".py",
   "mimetype": "text/x-python",
   "name": "python",
   "nbconvert_exporter": "python",
   "pygments_lexer": "ipython3",
   "version": "3.4.2"
  }
 },
 "nbformat": 4,
 "nbformat_minor": 0
}
