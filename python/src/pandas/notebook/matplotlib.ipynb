{
 "metadata": {
  "name": "",
  "signature": "sha256:a5fe45bf710dc125c655202ef407167d055e05def4efe9cd49bab1e20c7215b9"
 },
 "nbformat": 3,
 "nbformat_minor": 0,
 "worksheets": [
  {
   "cells": [
    {
     "cell_type": "code",
     "collapsed": false,
     "input": [
      "%matplotlib inline\n",
      "%pylab inline\n",
      "\n",
      "import pandas as pd\n",
      "# import seaborn as sns\n",
      "from pipe import as_list"
     ],
     "language": "python",
     "metadata": {},
     "outputs": [
      {
       "output_type": "stream",
       "stream": "stdout",
       "text": [
        "Populating the interactive namespace from numpy and matplotlib\n"
       ]
      }
     ],
     "prompt_number": 1
    },
    {
     "cell_type": "code",
     "collapsed": false,
     "input": [
      "data1 = np.random.laplace(size=10000)\n",
      "data2 = np.random.normal(100, 24, 10000)"
     ],
     "language": "python",
     "metadata": {},
     "outputs": [],
     "prompt_number": 2
    },
    {
     "cell_type": "code",
     "collapsed": false,
     "input": [
      "# multi figure\n",
      "plot(data1)\n",
      "plot(data2)\n",
      "\n",
      "figure()\n",
      "plot(data1)\n",
      "\n",
      "figure()\n",
      "plot(data2)"
     ],
     "language": "python",
     "metadata": {},
     "outputs": [],
     "prompt_number": 3
    },
    {
     "cell_type": "code",
     "collapsed": false,
     "input": [
      "# subplot\n",
      "subplot(121)\n",
      "title('data1')\n",
      "r = hist(data1, bins=20, label='14')\n",
      "legend(loc='lower left', bbox_to_anchor=(0.4, -0.2)) \n",
      "\n",
      "subplot(122)\n",
      "title('data2')\n",
      "r = hist(data2, bins=20, label='24')\n",
      "legend(loc='center left', bbox_to_anchor=(1, 0.5)) \n",
      "\n",
      "\n",
      "# pandas\n",
      "figure()\n",
      "df1, df2 = map(pd.DataFrame, (data1, data2))\n",
      "\n",
      "# subplot 1\n",
      "ax = subplot(121)    # fig, axes = subplots(1, 2)\n",
      "df1[0].hist(ax=ax)   # ax=axes[0]\n",
      "ax.set_title('data1')\n",
      "\n",
      "# subplot 2\n",
      "ax = subplot(122)\n",
      "ax.set_title('data2')\n",
      "df1[0].hist(ax=ax)   # ax=axex[1]"
     ],
     "language": "python",
     "metadata": {},
     "outputs": [],
     "prompt_number": 4
    },
    {
     "cell_type": "code",
     "collapsed": false,
     "input": [
      "# hist with line\n",
      "for data in (data1, data2, np.hstack([data1, data2])):\n",
      "    figure()\n",
      "    n, bins, patches = hist(data, alpha=0.5, normed=1, bins=40, color='y', histtype='stepfilled')\n",
      "    plot(bins, mlab.normpdf(bins, 100, 14), 'r--', linewidth=2, label='pdf')\n",
      "\n",
      "    # kernel density evaluate\n",
      "    from scipy.stats import gaussian_kde\n",
      "    \n",
      "    X = np.array([data])\n",
      "    kernel = gaussian_kde(X)\n",
      "    z = kernel(bins)\n",
      "    plot(bins, z, 'b--', linewidth=2, label='kde')\n",
      "    legend()"
     ],
     "language": "python",
     "metadata": {},
     "outputs": [],
     "prompt_number": 5
    },
    {
     "cell_type": "code",
     "collapsed": false,
     "input": [
      "dataset = map( pd.DataFrame, ( np.random.normal(100, 24, 300), np.random.exponential(10, 300) ) ) | as_list\n",
      "df = pd.concat(dataset, axis=1)\n",
      "df.columns = ['a', 'b']\n",
      "\n",
      "\n",
      "sns.jointplot('a', 'b', df, kind='reg')\n",
      "\n",
      "figure()\n",
      "title('boxplot')\n",
      "sns.boxplot(df)\n",
      "\n",
      "figure()\n",
      "title('violinplot')\n",
      "sns.violinplot(df)\n"
     ],
     "language": "python",
     "metadata": {},
     "outputs": [],
     "prompt_number": 6
    },
    {
     "cell_type": "code",
     "collapsed": false,
     "input": [
      "from mpl_toolkits.mplot3d import Axes3D\n",
      "import matplotlib.animation as animation\n",
      "\n",
      "n_grid = 50\n",
      "\n",
      "data3 = []\n",
      "for i in range(250, 0, -10):\n",
      "    data3.append(np.random.normal(100, 24, size=i * 1000))\n",
      "data3 = np.hstack([data3[::-1], data3])\n",
      "\n",
      "data3 = np.array(data3)\n",
      "X = np.arange(n_grid)\n",
      "Y = np.arange(n_grid)\n",
      "X, Y = np.meshgrid(X, Y)\n",
      "Z = []\n",
      "for d in data3:\n",
      "    _z, bins = np.histogram(d, bins=n_grid)\n",
      "    Z.append(_z)\n",
      "    \n",
      "Z = np.array(Z)\n",
      "\n",
      "my_cmap = matplotlib.cm.get_cmap('summer')\n",
      "# my_cmap.set_under('w')\n",
      "\n",
      "fig = plt.figure()\n",
      "ax = fig.gca(projection='3d')\n",
      "ax.set_axis_off()\n",
      "surf = ax.plot_surface(X, Y, Z, rstride=1, cstride=1, cmap=my_cmap, linewidth=0)\n",
      "fig.colorbar(surf, shrink=0.5, aspect=5)\n"
     ],
     "language": "python",
     "metadata": {},
     "outputs": [],
     "prompt_number": 7
    },
    {
     "cell_type": "code",
     "collapsed": false,
     "input": [
      "sizes = _z\n",
      "labels = bins[1:] + np.diff(bins) / 2\n",
      "\n",
      "figure()\n",
      "r = pie(sizes, labels=labels, autopct='%1.0f%%', shadow=True)"
     ],
     "language": "python",
     "metadata": {},
     "outputs": [],
     "prompt_number": 8
    }
   ],
   "metadata": {}
  }
 ]
}