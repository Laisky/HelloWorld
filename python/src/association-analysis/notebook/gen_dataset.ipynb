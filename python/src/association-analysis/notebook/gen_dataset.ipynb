{
 "metadata": {
  "name": "",
  "signature": "sha256:2fd9b401b824c692bfdc5c3b90e808978e2ca1a2f5cda9556dfd4355de057a24"
 },
 "nbformat": 3,
 "nbformat_minor": 0,
 "worksheets": [
  {
   "cells": [
    {
     "cell_type": "code",
     "collapsed": false,
     "input": [
      "%pylab inline\n",
      "%matplotlib inline\n",
      "\n",
      "import pandas as pd\n",
      "import nvd3\n",
      "\n",
      "from nvd3 import scatterChart\n",
      "from IPython.display import HTML, display\n",
      "\n",
      "\n",
      "pd.options.display.max_columns = 50\n",
      "\n",
      "nvd3.ipynb.initialize_javascript(use_remote=True)\n",
      "matplotlib.rc('font', family='Arial Unicode MS',)"
     ],
     "language": "python",
     "metadata": {},
     "outputs": [
      {
       "output_type": "stream",
       "stream": "stdout",
       "text": [
        "Populating the interactive namespace from numpy and matplotlib\n",
        "loaded nvd3 IPython extension\n",
        "run nvd3.IPython_wrapper.initialize_javascript() to set up the notebook\n",
        "help(nvd3.IPython_wrapper.initialize_javascript) for options"
       ]
      },
      {
       "output_type": "stream",
       "stream": "stdout",
       "text": [
        "\n"
       ]
      },
      {
       "html": [
        "<link media=\"all\" href=\"http://nvd3.org/assets/css/nv.d3.css\" type=\"text/css\"\n",
        "                        rel=\"stylesheet\"/>"
       ],
       "metadata": {},
       "output_type": "display_data",
       "text": [
        "<IPython.core.display.HTML at 0x103b03668>"
       ]
      },
      {
       "javascript": [
        "$.getScript(\"http://nvd3.org/assets/js/nv.d3.js\")"
       ],
       "metadata": {},
       "output_type": "display_data",
       "text": [
        "<IPython.core.display.Javascript at 0x103b03668>"
       ]
      },
      {
       "javascript": [
        "$.getScript(\"http://nvd3.org/assets/lib/d3.v3.js\", function() {\n",
        "                              $.getScript(\"http://nvd3.org/assets/js/nv.d3.js\", function() {})});"
       ],
       "metadata": {},
       "output_type": "display_data",
       "text": [
        "<IPython.core.display.Javascript at 0x103b03668>"
       ]
      },
      {
       "html": [
        "<script src=\"http://nvd3.org/assets/lib/d3.v3.js\"></script>"
       ],
       "metadata": {},
       "output_type": "display_data",
       "text": [
        "<IPython.core.display.HTML at 0x103b03668>"
       ]
      },
      {
       "html": [
        "<script src=\"http://nvd3.org/assets/js/nv.d3.js\"></script>"
       ],
       "metadata": {},
       "output_type": "display_data",
       "text": [
        "<IPython.core.display.HTML at 0x103b03668>"
       ]
      }
     ],
     "prompt_number": 1
    },
    {
     "cell_type": "code",
     "collapsed": false,
     "input": [
      "import os\n",
      "import random\n",
      "import time\n",
      "from datetime import datetime\n",
      "from copy import deepcopy\n",
      "from itertools import product\n",
      "import concurrent.futures\n",
      "from multiprocessing import Process, Value\n",
      "\n",
      "import fim\n",
      "import pandas as pd"
     ],
     "language": "python",
     "metadata": {},
     "outputs": [],
     "prompt_number": 2
    },
    {
     "cell_type": "code",
     "collapsed": false,
     "input": [
      "def gene_tracts(length, width, overlap, is_copy_head=True, total_width=None):\n",
      "    tracts = []\n",
      "    n_overlap = overlap * width // 100\n",
      "    if not total_width:\n",
      "        if overlap == 0:\n",
      "            total_width = length * width\n",
      "        else:\n",
      "            total_width = length * width // overlap\n",
      "\n",
      "    for i in range(length):\n",
      "        if i == 0:\n",
      "            behavior = [random.randint(0, total_width) for _ in range(width)]\n",
      "        else:\n",
      "            if is_copy_head:\n",
      "                index = 0\n",
      "            else:\n",
      "                index = random.randint(0, len(dataset[-1]) - n_overlap)\n",
      "            behavior = tracts[-1][index: index+n_overlap] + [random.randint(0, total_width) for _ in range(width)]\n",
      "\n",
      "        tracts.append(sorted(set(behavior)))\n",
      "\n",
      "    return tracts\n"
     ],
     "language": "python",
     "metadata": {},
     "outputs": [],
     "prompt_number": 3
    },
    {
     "cell_type": "code",
     "collapsed": false,
     "input": [
      "dataset = np.random.exponential(scale=10, size=(10000, 10)).astype(np.int64)\n",
      "hist(dataset.ravel())\n",
      "# dataset"
     ],
     "language": "python",
     "metadata": {},
     "outputs": [
      {
       "metadata": {},
       "output_type": "pyout",
       "prompt_number": 9,
       "text": [
        "(array([  6.96960000e+04,   2.10910000e+04,   6.47800000e+03,\n",
        "          1.94200000e+03,   5.38000000e+02,   1.76000000e+02,\n",
        "          6.10000000e+01,   1.20000000e+01,   4.00000000e+00,\n",
        "          2.00000000e+00]),\n",
        " array([   0. ,   11.9,   23.8,   35.7,   47.6,   59.5,   71.4,   83.3,\n",
        "          95.2,  107.1,  119. ]),\n",
        " <a list of 10 Patch objects>)"
       ]
      },
      {
       "metadata": {},
       "output_type": "display_data",
       "png": "[encoded data removed]",
       "text": [
        "<matplotlib.figure.Figure at 0x1086f2cf8>"
       ]
      }
     ],
     "prompt_number": 9
    }
   ],
   "metadata": {}
  }
 ]
}