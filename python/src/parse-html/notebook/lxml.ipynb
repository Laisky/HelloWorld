{
 "metadata": {
  "name": "",
  "signature": "sha256:b89ad360704213d02669b1a673d58486877ce2adeeaf55fa77c082d08aa90c50"
 },
 "nbformat": 3,
 "nbformat_minor": 0,
 "worksheets": [
  {
   "cells": [
    {
     "cell_type": "code",
     "collapsed": false,
     "input": [
      "from lxml import etree"
     ],
     "language": "python",
     "metadata": {},
     "outputs": [],
     "prompt_number": 1
    },
    {
     "cell_type": "code",
     "collapsed": false,
     "input": [
      "# create xml nodes\n",
      "root = etree.Element('root')\n",
      "root.append( etree.Element(\"child1\") )\n",
      "child2 = etree.SubElement(root, \"child2\")\n",
      "child3 = etree.SubElement(root, \"child3\")\n",
      "\n",
      "# return is bytes\n",
      "print(etree.tostring(root, pretty_print=True).decode('utf-8'))"
     ],
     "language": "python",
     "metadata": {},
     "outputs": [
      {
       "output_type": "stream",
       "stream": "stdout",
       "text": [
        "<root>\n",
        "  <child1/>\n",
        "  <child2/>\n",
        "  <child3/>\n",
        "</root>\n",
        "\n"
       ]
      }
     ],
     "prompt_number": 24
    },
    {
     "cell_type": "code",
     "collapsed": false,
     "input": [
      "# parse html by XPATH\n",
      "# create html DOM tree\n",
      "html = etree.Element(\"html\")\n",
      "body = etree.SubElement(html, \"body\")\n",
      "head = etree.SubElement(body, \"h1\")\n",
      "head.text = \"HEAD\"\n",
      "head.tail = \"tail\"\n",
      "\n",
      "# output\n",
      "print( etree.tostring(html) )\n",
      "print( etree.tostring(html, with_tail=False) )\n",
      "print( etree.tostring(html, method='text') )\n",
      "print(html.xpath('string()'))\n",
      "print(html.xpath(\"//text()\"))"
     ],
     "language": "python",
     "metadata": {},
     "outputs": [
      {
       "output_type": "stream",
       "stream": "stdout",
       "text": [
        "b'<html><body><h1>HEAD</h1>tail</body></html>'\n",
        "b'<html><body><h1>HEAD</h1>tail</body></html>'\n",
        "b'HEADtail'\n",
        "HEADtail\n",
        "['HEAD', 'tail']\n"
       ]
      }
     ],
     "prompt_number": 41
    },
    {
     "cell_type": "code",
     "collapsed": false,
     "input": [
      "import requests\n",
      "\n",
      "html = requests.get('http://www.w3school.com.cn/xpath/xpath_axes.asp')\n",
      "html = html.content.decode('gbk')"
     ],
     "language": "python",
     "metadata": {},
     "outputs": [],
     "prompt_number": 55
    },
    {
     "cell_type": "code",
     "collapsed": false,
     "input": [
      "tree = etree.HTML(html)\n",
      "tables = tree.xpath('//table[@class=\"dataintable\"]')\n",
      "tables[0].xpath('//th/text()')"
     ],
     "language": "python",
     "metadata": {},
     "outputs": [
      {
       "metadata": {},
       "output_type": "pyout",
       "prompt_number": 79,
       "text": [
        "['\u8f74\u540d\u79f0', '\u7ed3\u679c', '\u4f8b\u5b50', '\u7ed3\u679c']"
       ]
      }
     ],
     "prompt_number": 79
    }
   ],
   "metadata": {}
  }
 ]
}