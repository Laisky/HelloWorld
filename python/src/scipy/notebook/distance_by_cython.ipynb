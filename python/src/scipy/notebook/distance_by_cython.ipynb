{
 "metadata": {
  "name": "",
  "signature": "sha256:17917a4391e5819f09be0e97983dd2c4e60afe0d1a9f60d2c894cbcbe154d13b"
 },
 "nbformat": 3,
 "nbformat_minor": 0,
 "worksheets": [
  {
   "cells": [
    {
     "cell_type": "code",
     "collapsed": false,
     "input": [
      "%load_ext cythonmagic\n",
      "%pylab inline\n",
      "\n",
      "from scipy import sparse"
     ],
     "language": "python",
     "metadata": {},
     "outputs": [
      {
       "output_type": "stream",
       "stream": "stdout",
       "text": [
        "The cythonmagic extension is already loaded. To reload it, use:\n",
        "  %reload_ext cythonmagic\n",
        "Populating the interactive namespace from numpy and matplotlib\n"
       ]
      }
     ],
     "prompt_number": 11
    },
    {
     "cell_type": "code",
     "collapsed": false,
     "input": [
      "%%cython\n",
      "cimport cython\n",
      "from libc.stdlib cimport malloc, free\n",
      "import numpy as np\n",
      "cimport numpy as np\n",
      "from libc.math cimport sqrt\n",
      "\n",
      "\n",
      "def get_length(int n, int length=1):\n",
      "    if n == 1:\n",
      "        return length\n",
      "    \n",
      "    return get_length(n-1, length * n)\n",
      "\n",
      "\n",
      "def sparse_distance(x, y):\n",
      "    cdef:\n",
      "        int n_samples = x.shape[0]\n",
      "        float *distance\n",
      "        int idis = 0, ix, iy, n_distance\n",
      "        \n",
      "    n_distance = get_length(n_samples)\n",
      "    distance = <float *>malloc(n_distance*cython.sizeof(float))\n",
      "    \n",
      "    for ix in range(n_samples):\n",
      "        for iy in range(ix, n_samples):\n",
      "            distance[idis] = sqrt((np.array((x - y).data) ** 2).sum())\n",
      "            idis += 1\n",
      "            \n",
      "    values = np.array(distance[0, n_distance])\n",
      "    free(distance)\n",
      "    \n",
      "    return values\n",
      "            \n"
     ],
     "language": "python",
     "metadata": {},
     "outputs": [],
     "prompt_number": 12
    },
    {
     "cell_type": "code",
     "collapsed": false,
     "input": [
      "\n",
      "print(sparse_distance(np.array([1,2]), np.array([0, 0])))"
     ],
     "language": "python",
     "metadata": {},
     "outputs": [
      {
       "ename": "TypeError",
       "evalue": "'tuple' object cannot be interpreted as an integer",
       "output_type": "pyerr",
       "traceback": [
        "\u001b[0;31m---------------------------------------------------------------------------\u001b[0m\n\u001b[0;31mTypeError\u001b[0m                                 Traceback (most recent call last)",
        "\u001b[0;32m<ipython-input-13-f9db5fe029c8>\u001b[0m in \u001b[0;36m<module>\u001b[0;34m()\u001b[0m\n\u001b[1;32m      1\u001b[0m \u001b[0;34m\u001b[0m\u001b[0m\n\u001b[0;32m----> 2\u001b[0;31m \u001b[0mprint\u001b[0m\u001b[0;34m(\u001b[0m\u001b[0msparse_distance\u001b[0m\u001b[0;34m(\u001b[0m\u001b[0mnp\u001b[0m\u001b[0;34m.\u001b[0m\u001b[0marray\u001b[0m\u001b[0;34m(\u001b[0m\u001b[0;34m[\u001b[0m\u001b[0;36m1\u001b[0m\u001b[0;34m,\u001b[0m\u001b[0;36m2\u001b[0m\u001b[0;34m]\u001b[0m\u001b[0;34m)\u001b[0m\u001b[0;34m,\u001b[0m \u001b[0mnp\u001b[0m\u001b[0;34m.\u001b[0m\u001b[0marray\u001b[0m\u001b[0;34m(\u001b[0m\u001b[0;34m[\u001b[0m\u001b[0;36m0\u001b[0m\u001b[0;34m,\u001b[0m \u001b[0;36m0\u001b[0m\u001b[0;34m]\u001b[0m\u001b[0;34m)\u001b[0m\u001b[0;34m)\u001b[0m\u001b[0;34m)\u001b[0m\u001b[0;34m\u001b[0m\u001b[0m\n\u001b[0m",
        "\u001b[0;32m/Users/laisky/.ipython/cython/_cython_magic_733b1ed0d11ff26438e600508135da6d.so\u001b[0m in \u001b[0;36m_cython_magic_733b1ed0d11ff26438e600508135da6d.sparse_distance (/Users/laisky/.ipython/cython/_cython_magic_733b1ed0d11ff26438e600508135da6d.c:1596)\u001b[0;34m()\u001b[0m\n",
        "\u001b[0;31mTypeError\u001b[0m: 'tuple' object cannot be interpreted as an integer"
       ]
      }
     ],
     "prompt_number": 13
    },
    {
     "cell_type": "code",
     "collapsed": false,
     "input": [
      "# benchmark\n",
      "from sklearn.metrics import pairwise_distances\n",
      "\n",
      "\n",
      "shape = (50, 1000)\n",
      "normal_a = np.random.randn(*shape)\n",
      "normal_b = np.random.randn(*shape)\n",
      "sparse_a = sparse.rand(*shape, density=0.1, format='csr')\n",
      "sparse_b = sparse.rand(*shape, density=0.1, format='csr')\n",
      "\n",
      "%timeit pairwise_distances(sparse_a, sparse_b)\n",
      "%timeit sparse_distance(sparse_a, sparse_b)"
     ],
     "language": "python",
     "metadata": {},
     "outputs": []
    }
   ],
   "metadata": {}
  }
 ]
}