{
 "cells": [
  {
   "cell_type": "markdown",
   "metadata": {},
   "source": [
    "### [Two Sum](https://leetcode.com/problems/two-sum/)\n",
    "\n",
    "Given an array of integers, find two numbers such that they add up to a specific target number.\n",
    "\n",
    "The function twoSum should return indices of the two numbers such that they add up to the target, where index1 must be less than index2. Please note that your returned answers (both index1 and index2) are not zero-based.\n",
    "\n",
    "You may assume that each input would have exactly one solution.\n",
    "\n",
    "> Input: numbers={2, 7, 11, 15}, target=9\n",
    "\n",
    "> Output: index1=1, index2=2"
   ]
  },
  {
   "cell_type": "code",
   "execution_count": 1,
   "metadata": {
    "collapsed": true
   },
   "outputs": [],
   "source": [
    "class Solution:\n",
    "    # @return a tuple, (index1, index2)\n",
    "    # 8:42\n",
    "    def twoSum(self, num, target):\n",
    "        map = {}\n",
    "        for i in range(len(num)):\n",
    "            if num[i] not in map:\n",
    "                map[target - num[i]] = i + 1\n",
    "            else:\n",
    "                return map[num[i]], i + 1\n",
    "\n",
    "        return -1, -1"
   ]
  },
  {
   "cell_type": "code",
   "execution_count": null,
   "metadata": {
    "collapsed": true
   },
   "outputs": [],
   "source": []
  }
 ],
 "metadata": {
  "kernelspec": {
   "display_name": "Python 3",
   "language": "python",
   "name": "python3"
  },
  "language_info": {
   "codemirror_mode": {
    "name": "ipython",
    "version": 3
   },
   "file_extension": ".py",
   "mimetype": "text/x-python",
   "name": "python",
   "nbconvert_exporter": "python",
   "pygments_lexer": "ipython3",
   "version": "3.4.2"
  }
 },
 "nbformat": 4,
 "nbformat_minor": 0
}
