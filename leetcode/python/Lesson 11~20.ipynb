{
 "cells": [
  {
   "cell_type": "code",
   "execution_count": 25,
   "metadata": {},
   "outputs": [
    {
     "data": {
      "text/plain": [
       "3"
      ]
     },
     "execution_count": 25,
     "metadata": {},
     "output_type": "execute_result"
    }
   ],
   "source": [
    "# https://leetcode.com/problems/container-with-most-water/description/\n",
    "\n",
    "class Solution(object):\n",
    "    def maxArea(self, height):\n",
    "        \"\"\"\n",
    "        :type height: List[int]\n",
    "        :rtype: int\n",
    "        \"\"\"\n",
    "        # i 从头部开始，j 从尾部开始\n",
    "        area = i = 0\n",
    "        len_h = len(height)\n",
    "        if len_h <= 1:\n",
    "            return 0\n",
    "        \n",
    "        j = len_h - 1  \n",
    "        while i < j:  # 当 i 追上 j 后，遍历停止 \n",
    "            area = max(area, abs((j-i)*min(height[i], height[j])))  # 计算最短板的面积\n",
    "            if height[i] > height[j]:  # 判断 i 和 j，谁短移动谁\n",
    "                j -= 1\n",
    "            else:\n",
    "                i += 1\n",
    "                \n",
    "        return area\n",
    "        \n",
    "        \n",
    "s = Solution()\n",
    "s.maxArea([12, 3])"
   ]
  },
  {
   "cell_type": "code",
   "execution_count": 41,
   "metadata": {},
   "outputs": [
    {
     "data": {
      "text/plain": [
       "'XVIII'"
      ]
     },
     "execution_count": 41,
     "metadata": {},
     "output_type": "execute_result"
    }
   ],
   "source": [
    "# https://leetcode.com/problems/integer-to-roman/description/\n",
    "\n",
    "# 考虑了一下，觉得这题没什么意义，简单粗暴的方法其实挺好的\n",
    "class Solution(object):\n",
    "    def intToRoman(self, num):\n",
    "        \"\"\"\n",
    "        :type num: int\n",
    "        :rtype: str\n",
    "        \"\"\"\n",
    "        M = [\"\", \"M\", \"MM\", \"MMM\"]\n",
    "        C = [\"\", \"C\", \"CC\", \"CCC\", \"CD\", \"D\", \"DC\", \"DCC\", \"DCCC\", \"CM\"]\n",
    "        X = [\"\", \"X\", \"XX\", \"XXX\", \"XL\", \"L\", \"LX\", \"LXX\", \"LXXX\", \"XC\"]\n",
    "        I = [\"\", \"I\", \"II\", \"III\", \"IV\", \"V\", \"VI\", \"VII\", \"VIII\", \"IX\"]\n",
    "        return M[int(num/1000)] + C[int((num%1000)/100)] + X[int((num%100)/10)] + I[int(num%10)]\n",
    "    \n",
    "    \n",
    "s = Solution()\n",
    "s.intToRoman(18)"
   ]
  },
  {
   "cell_type": "code",
   "execution_count": 49,
   "metadata": {},
   "outputs": [
    {
     "data": {
      "text/plain": [
       "9"
      ]
     },
     "execution_count": 49,
     "metadata": {},
     "output_type": "execute_result"
    }
   ],
   "source": [
    "# https://leetcode.com/problems/roman-to-integer/description/\n",
    "\n",
    "nmap = {\n",
    "    'M': 1000,\n",
    "    'D': 500,\n",
    "    'C': 100,\n",
    "    'L': 50,\n",
    "    'X': 10,\n",
    "    'V': 5,\n",
    "    'I': 1\n",
    "}\n",
    "\n",
    "# 罗马写法有一个规律，就是做减法运算时，左侧肯定只有一个字符\n",
    "class Solution(object):\n",
    "    def romanToInt(self, s):\n",
    "        \"\"\"\n",
    "        :type s: str\n",
    "        :rtype: int\n",
    "        \"\"\"\n",
    "        res = last_n = 0\n",
    "        for char in s:  # 遍历字符\n",
    "            val = nmap[char]\n",
    "            if last_n:\n",
    "                if val > last_n:  # 如果上一个字母比当前字母小，那么做减法\n",
    "                    res -= 2*last_n\n",
    "\n",
    "            res += val\n",
    "            last_n = val\n",
    "                    \n",
    "        return res\n",
    "            \n",
    "    \n",
    "s = Solution()\n",
    "s.romanToInt('IX')"
   ]
  },
  {
   "cell_type": "code",
   "execution_count": 58,
   "metadata": {},
   "outputs": [
    {
     "data": {
      "text/plain": [
       "'a'"
      ]
     },
     "execution_count": 58,
     "metadata": {},
     "output_type": "execute_result"
    }
   ],
   "source": [
    "# https://leetcode.com/problems/longest-common-prefix/description/\n",
    "\n",
    "# 求最长前缀\n",
    "class Solution(object):\n",
    "    def longestCommonPrefix(self, strs):\n",
    "        \"\"\"\n",
    "        :type strs: List[str]\n",
    "        :rtype: str\n",
    "        \"\"\"\n",
    "        if not strs:\n",
    "            return ''\n",
    "        elif len(strs) == 1:\n",
    "            return strs[0]\n",
    "        \n",
    "        result = ''\n",
    "        for i, ch in enumerate(strs[0]):  # 随便遍历一个字符串\n",
    "            for s in strs[1:]:\n",
    "                try:\n",
    "                    if s[i] != ch:  # 遇到不匹配了，退出匹配\n",
    "                        return result\n",
    "                except Exception:  # 遇到更短的串了，退出匹配\n",
    "                    return result\n",
    "                \n",
    "            result += ch  # 依然匹配\n",
    "            \n",
    "        return result\n",
    "                \n",
    "        \n",
    "s = Solution()\n",
    "s.longestCommonPrefix(['aa', 'a'])"
   ]
  },
  {
   "cell_type": "code",
   "execution_count": null,
   "metadata": {},
   "outputs": [],
   "source": [
    "# https://leetcode.com/problems/3sum/description/\n",
    "\n"
   ]
  }
 ],
 "metadata": {
  "kernelspec": {
   "display_name": "Python 3",
   "language": "python",
   "name": "python3"
  },
  "language_info": {
   "codemirror_mode": {
    "name": "ipython",
    "version": 3
   },
   "file_extension": ".py",
   "mimetype": "text/x-python",
   "name": "python",
   "nbconvert_exporter": "python",
   "pygments_lexer": "ipython3",
   "version": "3.6.2"
  }
 },
 "nbformat": 4,
 "nbformat_minor": 2
}
