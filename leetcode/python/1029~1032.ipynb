{
 "cells": [
  {
   "cell_type": "code",
   "execution_count": 9,
   "metadata": {},
   "outputs": [],
   "source": [
    "from typing import *"
   ]
  },
  {
   "cell_type": "markdown",
   "metadata": {},
   "source": [
    "## 1029. Two City Scheduling\n",
    "\n",
    "<https://leetcode.com/problems/two-city-scheduling/>"
   ]
  },
  {
   "cell_type": "code",
   "execution_count": 10,
   "metadata": {},
   "outputs": [
    {
     "data": {
      "text/plain": [
       "110"
      ]
     },
     "execution_count": 10,
     "metadata": {},
     "output_type": "execute_result"
    }
   ],
   "source": [
    "class Solution:\n",
    "    def twoCitySchedCost(self, costs) -> int:\n",
    "        l = len(costs)/2\n",
    "        costs = sorted(costs, key=lambda item: item[0] - item[1])\n",
    "        total = 0\n",
    "        for i, it in enumerate(costs):\n",
    "            if i < l:\n",
    "                total += it[0]\n",
    "            else:\n",
    "                total += it[1]\n",
    "\n",
    "        return total\n",
    "\n",
    "    \n",
    "s = Solution()\n",
    "s.twoCitySchedCost([[10,20],[30,200],[400,50],[30,20]])"
   ]
  },
  {
   "cell_type": "markdown",
   "metadata": {},
   "source": [
    "## 1030. Matrix Cells in Distance Order\n",
    "\n",
    "<https://leetcode.com/problems/matrix-cells-in-distance-order/>"
   ]
  },
  {
   "cell_type": "code",
   "execution_count": 11,
   "metadata": {},
   "outputs": [
    {
     "data": {
      "text/plain": [
       "[(0, 1), (0, 0), (1, 1), (1, 0)]"
      ]
     },
     "execution_count": 11,
     "metadata": {},
     "output_type": "execute_result"
    }
   ],
   "source": [
    "class Solution:\n",
    "    r0 = c0 = 0\n",
    "\n",
    "    def allCellsDistOrder(self, R: int, C: int, r0: int, c0: int) -> List[List[int]]:\n",
    "        self.r0 = r0\n",
    "        self.c0 = c0\n",
    "        results = []\n",
    "        for c in range(0, C):\n",
    "            for r in range(0, R):\n",
    "                results.append((self.getD(r, c), (r, c)))\n",
    "\n",
    "        return [v[1] for v in sorted(results, key=lambda v: v[0])]\n",
    "\n",
    "    def getD(self, r, c):\n",
    "        return abs(r - self.r0) + abs(c - self.c0)\n",
    "\n",
    "    \n",
    "s = Solution()\n",
    "s.allCellsDistOrder(2, 2, 0, 1)"
   ]
  },
  {
   "cell_type": "markdown",
   "metadata": {},
   "source": [
    "## 1031. Maximum Sum of Two Non-Overlapping Subarrays\n",
    "\n",
    "<https://leetcode.com/problems/maximum-sum-of-two-non-overlapping-subarrays/>"
   ]
  },
  {
   "cell_type": "code",
   "execution_count": 12,
   "metadata": {},
   "outputs": [
    {
     "data": {
      "text/plain": [
       "20"
      ]
     },
     "execution_count": 12,
     "metadata": {},
     "output_type": "execute_result"
    }
   ],
   "source": [
    "class Solution:\n",
    "\n",
    "    def maxSumTwoNoOverlap(self, A, L: int, M: int) -> int:\n",
    "        return max(self.find_each_max(A, L, M), self.find_each_max(A, M, L))\n",
    "\n",
    "    def find_each_max(self, A, l, r):\n",
    "        # print(\">>\", len(A), l, r)\n",
    "        maxl = left = sum(A[:l])\n",
    "        right = sum(A[l:l+r])\n",
    "        total = left + right\n",
    "        for i in range(l, len(A)-r):\n",
    "            left += A[i] - A[i-l]\n",
    "            maxl = max(left, maxl)\n",
    "            right += A[i+r] - A[i]\n",
    "            total = max(total, maxl+right)\n",
    "\n",
    "        # print('total', total)\n",
    "        return total\n",
    "\n",
    "\n",
    "\n",
    "s = Solution()\n",
    "s.maxSumTwoNoOverlap([0,6,5,2,2,5,1,9,4], 1, 2)"
   ]
  },
  {
   "cell_type": "markdown",
   "metadata": {},
   "source": [
    "## 1032. Stream of Characters\n",
    "\n",
    "<https://leetcode.com/problems/stream-of-characters/>"
   ]
  },
  {
   "cell_type": "code",
   "execution_count": 13,
   "metadata": {},
   "outputs": [
    {
     "name": "stdout",
     "output_type": "stream",
     "text": [
      "{'a': {'b': {'is_leaf': True, 'a': {'b': {'is_leaf': True}}}, 'a': {'a': {'b': {'is_leaf': True}}}}, 'b': {'a': {'is_leaf': True, 'a': {'is_leaf': True}}}}\n",
      "--------------------\n",
      "{}\n",
      "False\n",
      "--------------------\n",
      "{1: {'b': {'is_leaf': True, 'a': {'b': {'is_leaf': True}}}, 'a': {'a': {'b': {'is_leaf': True}}}}}\n",
      "False\n",
      "--------------------\n",
      "{1: {'a': {'b': {'is_leaf': True}}}, 2: {'b': {'is_leaf': True, 'a': {'b': {'is_leaf': True}}}, 'a': {'a': {'b': {'is_leaf': True}}}}}\n",
      "False\n",
      "--------------------\n",
      "{1: {'b': {'is_leaf': True}}, 2: {'a': {'b': {'is_leaf': True}}}, 3: {'b': {'is_leaf': True, 'a': {'b': {'is_leaf': True}}}, 'a': {'a': {'b': {'is_leaf': True}}}}}\n",
      "False\n",
      "--------------------\n",
      "{2: {'b': {'is_leaf': True}}, 3: {'a': {'b': {'is_leaf': True}}}, 4: {'b': {'is_leaf': True, 'a': {'b': {'is_leaf': True}}}, 'a': {'a': {'b': {'is_leaf': True}}}}}\n",
      "False\n",
      "--------------------\n",
      "{3: {'b': {'is_leaf': True}}, 4: {'a': {'b': {'is_leaf': True}}}, 5: {'b': {'is_leaf': True, 'a': {'b': {'is_leaf': True}}}, 'a': {'a': {'b': {'is_leaf': True}}}}}\n",
      "True\n",
      "--------------------\n",
      "{5: {'is_leaf': True, 'a': {'b': {'is_leaf': True}}}, 6: {'a': {'is_leaf': True, 'a': {'is_leaf': True}}}}\n",
      "True\n",
      "--------------------\n",
      "{5: {'b': {'is_leaf': True}}, 6: {'is_leaf': True, 'a': {'is_leaf': True}}, 7: {'b': {'is_leaf': True, 'a': {'b': {'is_leaf': True}}}, 'a': {'a': {'b': {'is_leaf': True}}}}}\n",
      "True\n",
      "--------------------\n",
      "{7: {'is_leaf': True, 'a': {'b': {'is_leaf': True}}}, 8: {'a': {'is_leaf': True, 'a': {'is_leaf': True}}}}\n",
      "True\n",
      "--------------------\n",
      "{7: {'b': {'is_leaf': True}}, 8: {'is_leaf': True, 'a': {'is_leaf': True}}, 9: {'b': {'is_leaf': True, 'a': {'b': {'is_leaf': True}}}, 'a': {'a': {'b': {'is_leaf': True}}}}}\n",
      "True\n",
      "--------------------\n",
      "{9: {'is_leaf': True, 'a': {'b': {'is_leaf': True}}}, 10: {'a': {'is_leaf': True, 'a': {'is_leaf': True}}}}\n",
      "False\n",
      "--------------------\n",
      "{11: {'a': {'is_leaf': True, 'a': {'is_leaf': True}}}}\n",
      "False\n",
      "--------------------\n",
      "{12: {'a': {'is_leaf': True, 'a': {'is_leaf': True}}}}\n",
      "True\n",
      "--------------------\n",
      "{12: {'is_leaf': True, 'a': {'is_leaf': True}}, 13: {'b': {'is_leaf': True, 'a': {'b': {'is_leaf': True}}}, 'a': {'a': {'b': {'is_leaf': True}}}}}\n",
      "True\n",
      "--------------------\n",
      "{13: {'is_leaf': True, 'a': {'b': {'is_leaf': True}}}, 14: {'a': {'is_leaf': True, 'a': {'is_leaf': True}}}}\n",
      "True\n",
      "--------------------\n",
      "{13: {'b': {'is_leaf': True}}, 14: {'is_leaf': True, 'a': {'is_leaf': True}}, 15: {'b': {'is_leaf': True, 'a': {'b': {'is_leaf': True}}}, 'a': {'a': {'b': {'is_leaf': True}}}}}\n",
      "True\n",
      "--------------------\n",
      "{15: {'is_leaf': True, 'a': {'b': {'is_leaf': True}}}, 16: {'a': {'is_leaf': True, 'a': {'is_leaf': True}}}}\n",
      "False\n",
      "--------------------\n",
      "{17: {'a': {'is_leaf': True, 'a': {'is_leaf': True}}}}\n",
      "False\n",
      "--------------------\n",
      "{18: {'a': {'is_leaf': True, 'a': {'is_leaf': True}}}}\n",
      "False\n",
      "--------------------\n",
      "{19: {'a': {'is_leaf': True, 'a': {'is_leaf': True}}}}\n",
      "True\n",
      "--------------------\n",
      "{19: {'is_leaf': True, 'a': {'is_leaf': True}}, 20: {'b': {'is_leaf': True, 'a': {'b': {'is_leaf': True}}}, 'a': {'a': {'b': {'is_leaf': True}}}}}\n",
      "True\n",
      "--------------------\n",
      "{20: {'is_leaf': True, 'a': {'b': {'is_leaf': True}}}, 21: {'a': {'is_leaf': True, 'a': {'is_leaf': True}}}}\n",
      "True\n",
      "--------------------\n",
      "{20: {'b': {'is_leaf': True}}, 21: {'is_leaf': True, 'a': {'is_leaf': True}}, 22: {'b': {'is_leaf': True, 'a': {'b': {'is_leaf': True}}}, 'a': {'a': {'b': {'is_leaf': True}}}}}\n",
      "True\n",
      "--------------------\n",
      "{22: {'is_leaf': True, 'a': {'b': {'is_leaf': True}}}, 23: {'a': {'is_leaf': True, 'a': {'is_leaf': True}}}}\n",
      "True\n",
      "--------------------\n",
      "{22: {'b': {'is_leaf': True}}, 23: {'is_leaf': True, 'a': {'is_leaf': True}}, 24: {'b': {'is_leaf': True, 'a': {'b': {'is_leaf': True}}}, 'a': {'a': {'b': {'is_leaf': True}}}}}\n",
      "True\n",
      "--------------------\n",
      "{24: {'a': {'b': {'is_leaf': True}}}, 25: {'b': {'is_leaf': True, 'a': {'b': {'is_leaf': True}}}, 'a': {'a': {'b': {'is_leaf': True}}}}}\n",
      "False\n",
      "--------------------\n",
      "{24: {'b': {'is_leaf': True}}, 25: {'a': {'b': {'is_leaf': True}}}, 26: {'b': {'is_leaf': True, 'a': {'b': {'is_leaf': True}}}, 'a': {'a': {'b': {'is_leaf': True}}}}}\n",
      "True\n",
      "--------------------\n",
      "{26: {'is_leaf': True, 'a': {'b': {'is_leaf': True}}}, 27: {'a': {'is_leaf': True, 'a': {'is_leaf': True}}}}\n",
      "True\n",
      "--------------------\n",
      "{26: {'b': {'is_leaf': True}}, 27: {'is_leaf': True, 'a': {'is_leaf': True}}, 28: {'b': {'is_leaf': True, 'a': {'b': {'is_leaf': True}}}, 'a': {'a': {'b': {'is_leaf': True}}}}}\n",
      "True\n",
      "--------------------\n",
      "{28: {'a': {'b': {'is_leaf': True}}}, 29: {'b': {'is_leaf': True, 'a': {'b': {'is_leaf': True}}}, 'a': {'a': {'b': {'is_leaf': True}}}}}\n",
      "False\n"
     ]
    }
   ],
   "source": [
    "\n",
    "\n",
    "class StreamChecker:\n",
    "\n",
    "    def __init__(self, words):\n",
    "        self.id = 0\n",
    "        self.data = {}\n",
    "        self.pendings = {}\n",
    "        for i,w in enumerate(words):\n",
    "            node = self.data\n",
    "            for c in w:\n",
    "                if c not in node:\n",
    "                    node[c] = {}\n",
    "\n",
    "                node = node[c]\n",
    "\n",
    "            node[\"is_leaf\"] = True\n",
    "\n",
    "        # print(\">> data\", self.data)\n",
    "\n",
    "\n",
    "    def query(self, letter: str) -> bool:\n",
    "        # print(\">> letter\", letter)\n",
    "        result = False\n",
    "\n",
    "        for id_ in list(self.pendings.keys()):\n",
    "            node = self.pendings[id_]\n",
    "            # print(\"node\", node)\n",
    "            if letter not in node:\n",
    "                del self.pendings[id_]\n",
    "            else:\n",
    "                self.pendings[id_] = node[letter]\n",
    "                if \"is_leaf\" in self.pendings[id_]:\n",
    "                    if len(self.pendings[id_]) == 1:  # no children\n",
    "                        del self.pendings[id_]\n",
    "                        \n",
    "                    result = True\n",
    "\n",
    "        if letter in self.data:\n",
    "            if \"is_leaf\" in self.data[letter]:\n",
    "                return True\n",
    "\n",
    "            self.id += 1\n",
    "            self.pendings[self.id] = self.data[letter]\n",
    "\n",
    "        return result\n",
    "\n",
    "s = StreamChecker([\"ab\",\"ba\",\"aaab\",\"abab\",\"baa\"])\n",
    "print(s.data)\n",
    "for arg in [[\"a\"],[\"a\"],[\"a\"],[\"a\"],[\"a\"],[\"b\"],[\"a\"],[\"b\"],[\"a\"],[\"b\"],[\"b\"],[\"b\"],[\"a\"],[\"b\"],[\"a\"],[\"b\"],[\"b\"],[\"b\"],[\"b\"],[\"a\"],[\"b\"],[\"a\"],[\"b\"],[\"a\"],[\"a\"],[\"a\"],[\"b\"],[\"a\"],[\"a\"],[\"a\"]]:\n",
    "    print(\"-\"*20)\n",
    "    print(s.pendings)\n",
    "    print(s.query(arg[0]),)\n"
   ]
  }
 ],
 "metadata": {
  "kernelspec": {
   "display_name": "Python 3",
   "language": "python",
   "name": "python3"
  },
  "language_info": {
   "codemirror_mode": {
    "name": "ipython",
    "version": 3
   },
   "file_extension": ".py",
   "mimetype": "text/x-python",
   "name": "python",
   "nbconvert_exporter": "python",
   "pygments_lexer": "ipython3",
   "version": "3.6.2"
  }
 },
 "nbformat": 4,
 "nbformat_minor": 2
}
