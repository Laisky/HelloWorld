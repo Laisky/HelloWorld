{
 "cells": [
  {
   "cell_type": "code",
   "execution_count": 2,
   "metadata": {},
   "outputs": [
    {
     "data": {
      "text/plain": [
       "(2, 3)"
      ]
     },
     "execution_count": 2,
     "metadata": {},
     "output_type": "execute_result"
    }
   ],
   "source": [
    "# https://leetcode.com/problems/two-sum/\n",
    "\n",
    "class Solution(object):\n",
    "    def twoSum(self, nums, target):\n",
    "        \"\"\"\n",
    "        :type nums: List[int]\n",
    "        :type target: int\n",
    "        :rtype: List[int]\n",
    "        \"\"\"\n",
    "        map = {}  # 存储 {target - val: index}，也就是 key 为满足 target 剩余的那个值\n",
    "        for i, ch in enumerate(nums):\n",
    "            if ch not in map:  # 如果 val 不存在，存储剩余值\n",
    "                map[target - ch] = i  \n",
    "            else:  # 一旦匹配，说明 target 已经被满足了，返回两个 index\n",
    "                return map[ch], i  \n",
    "\n",
    "        return -1, -1\n",
    "    \n",
    "    \n",
    "s = Solution()\n",
    "s.twoSum([1,2,4,8,16], 12)"
   ]
  },
  {
   "cell_type": "code",
   "execution_count": 16,
   "metadata": {},
   "outputs": [
    {
     "name": "stdout",
     "output_type": "stream",
     "text": [
      "start to calculate\n",
      "357, 913, 5, 46, 412, 591, 942, 55, 783, 0, \n",
      "234, 900, 683, 513, 588, 770, 101, 84, 71, 0, \n",
      "1, 2, 5, 6, 4, 7, 9, 7, 9, 7, 8, \n"
     ]
    }
   ],
   "source": [
    "# https://leetcode.com/problems/add-two-numbers/\n",
    "\n",
    "# Definition for singly-linked list.\n",
    "class ListNode:\n",
    "    def __init__(self, x):\n",
    "        self.val = x\n",
    "        self.next = None\n",
    "        \n",
    "\n",
    "class Solution(object):\n",
    "    def addTwoNumbers(self, l1, l2):\n",
    "        \"\"\"\n",
    "        :type l1: ListNode\n",
    "        :type l2: ListNode\n",
    "        :rtype: ListNode\n",
    "        \"\"\"\n",
    "        new_p = root = ListNode(0)\n",
    "        sof = 0  # 保存上一个结点的余数\n",
    "        while l1 or l2 or sof:  # 遍历停止条件\n",
    "            l1_val = l1 and l1.val or 0\n",
    "            l2_val = l2 and l2.val or 0\n",
    "            val = l1_val + l2_val + sof\n",
    "            sof = val // 10  # 计算余数，传递给下一个结点\n",
    "            val %= 10  # 当前结点的值\n",
    "\n",
    "            new_p.next = ListNode(val)  # 保存当前结点的值\n",
    "            new_p = new_p.next  # 指向下一个结点\n",
    "\n",
    "            l1 = l1 and l1.next\n",
    "            l2 = l2 and l2.next\n",
    "            \n",
    "        return root.next\n",
    "            \n",
    "            \n",
    "def generate_ll():\n",
    "    import random\n",
    "    \n",
    "    head = ListNode(0)\n",
    "    for _ in range(1, 10):\n",
    "        node = ListNode(random.randint(1, 1000))\n",
    "        node.next = head\n",
    "        head = node\n",
    "    \n",
    "    return head\n",
    "        \n",
    "\n",
    "def print_ll(head):\n",
    "    next_ = True\n",
    "    node = head\n",
    "    while node:\n",
    "        print(node.val, end=', ')\n",
    "        node = node.next\n",
    "        \n",
    "    print('')\n",
    "\n",
    "        \n",
    "l1 = generate_ll()\n",
    "l2 = generate_ll()\n",
    "s = Solution()\n",
    "print('start to calculate')\n",
    "ll = s.addTwoNumbers(l1, l2)\n",
    "print_ll(l1)\n",
    "print_ll(l2)\n",
    "print_ll(ll)"
   ]
  },
  {
   "cell_type": "code",
   "execution_count": 18,
   "metadata": {},
   "outputs": [
    {
     "data": {
      "text/plain": [
       "2"
      ]
     },
     "execution_count": 18,
     "metadata": {},
     "output_type": "execute_result"
    }
   ],
   "source": [
    "# https://leetcode.com/problems/longest-substring-without-repeating-characters/description/\n",
    "\n",
    "class Solution:\n",
    "    def lengthOfLongestSubstring(self, s):\n",
    "        start = maxLength = 0\n",
    "        usedChar = {}\n",
    "\n",
    "        for i, ch in enumerate(s):  # 遍历字符串\n",
    "            if ch in usedChar and start <= usedChar[ch]:  # 遇到了重复的字符，且这个重复字符位于 start:i 之间\n",
    "                start = usedChar[ch] + 1  # 本次匹配尝试失败，start 后移一位\n",
    "            else:\n",
    "                maxLength = max(maxLength, i - start + 1)  # 遇到一个未重复的字符，本次长度 + 1，更新 maxLength\n",
    "                \n",
    "            usedChar[ch] = i  # 更新字符表的 index\n",
    "\n",
    "        return maxLength\n",
    "\n",
    "\n",
    "s = Solution()\n",
    "# r = s.lengthOfLongestSubstring(\"abcabcdbb\")\n",
    "s.lengthOfLongestSubstring(\"aab\")"
   ]
  },
  {
   "cell_type": "code",
   "execution_count": null,
   "metadata": {},
   "outputs": [],
   "source": [
    "# https://leetcode.com/problems/median-of-two-sorted-arrays/description/\n",
    "\n",
    "\n",
    "# 一个生成器\n",
    "# 分别从两个 sorted list 里取值\n",
    "# 然后 yield 较小的那个值\n",
    "# 相当于一个包含了所有元素的 sorted list\n",
    "def get_smaller_one(len1, len2, t_len, lst1, lst2):\n",
    "    t_len = len1 + len2\n",
    "    i1 = i2 = 0\n",
    "    while 1:\n",
    "        if i1!=len1 and (i2==len2 or lst1[i1] < lst2[i2]):\n",
    "            yield lst1[i1]\n",
    "            i1 += 1\n",
    "        else:\n",
    "            yield lst2[i2]\n",
    "            i2 += 1\n",
    "            \n",
    "        if i1 + i2 == t_len:\n",
    "            break\n",
    "        \n",
    "    \n",
    "class Solution(object):\n",
    "    def findMedianSortedArrays(self, nums1, nums2):\n",
    "        \"\"\"\n",
    "        :type nums1: List[int]\n",
    "        :type nums2: List[int]\n",
    "        :rtype: float\n",
    "        \"\"\"\n",
    "        # 先计算 list 的长度\n",
    "        # 因为是 sorted list，那么可以知道，中位值一定处在中间的位置\n",
    "        # 所以通过计算长度，就可以计算出中位值的 index\n",
    "        len1 = len(nums1)\n",
    "        len2 = len(nums2)\n",
    "        t_len = len1 + len2\n",
    "        med_idx = t_len / 2.\n",
    "        odd_idx = int(med_idx)\n",
    "        # 如果列表长度是偶数\n",
    "        # 那么中位值需要计算中间的两个值得到\n",
    "        # 如果列表长度是基数，那么直接取中间的 index 就行\n",
    "        is_odd = med_idx != odd_idx\n",
    "        odd_idx -= 1\n",
    "        a = b = 0\n",
    "        for i,ch in enumerate(get_smaller_one(len1, len2, t_len, nums1, nums2)):  # 遍历生成器\n",
    "            if i < odd_idx:\n",
    "                continue\n",
    "            elif not is_odd and i == odd_idx:  # 对于长度为偶数，需要多取出一个 a 的值\n",
    "                a = ch\n",
    "                continue\n",
    "            elif i > odd_idx:  # 无论奇偶，b 值都要取\n",
    "                b = ch\n",
    "                break\n",
    "                \n",
    "        # 基数长度的话直接返回 b，否则计算两数的平均值\n",
    "        return b if is_odd else (a+b)/2.\n",
    "            \n",
    "            \n",
    "            \n",
    "s = Solution()\n",
    "s.findMedianSortedArrays([], [3,4])"
   ]
  },
  {
   "cell_type": "code",
   "execution_count": 106,
   "metadata": {},
   "outputs": [
    {
     "data": {
      "text/plain": [
       "'ccc'"
      ]
     },
     "execution_count": 106,
     "metadata": {},
     "output_type": "execute_result"
    }
   ],
   "source": [
    "# https://leetcode.com/problems/longest-palindromic-substring/description/\n",
    "    \n",
    "    \n",
    "# 使用分治法求解\n",
    "# 对于任何一个字符\n",
    "# 分别向左和向右遍历进行对比\n",
    "# 然后返回符合条件的最长子串和长度\n",
    "def get_logest_s(s, len_s, ia, ib):\n",
    "    result = len_r = 0\n",
    "    while ia>0 and ib<len_s-1:\n",
    "        ia -= 1\n",
    "        ib += 1\n",
    "        if s[ia] != s[ib]:\n",
    "            result = s[ia+1: ib]\n",
    "            len_r = ib - ia -1\n",
    "            break\n",
    "\n",
    "    if 0<=ia<=ib<=len_s and s[ia] == s[ib]:\n",
    "        result = s[ia: ib+1]\n",
    "        len_r = ib - ia + 1\n",
    "        \n",
    "    return result, len_r\n",
    "    \n",
    "    \n",
    "# 有两种回文的格式\n",
    "# 123a321 或 123321\n",
    "# 前者有个中间值，后者没有\n",
    "# 所以分别有两种启动回文遍历函数的情形\n",
    "class Solution(object):\n",
    "    def longestPalindrome(self, s):\n",
    "        \"\"\"\n",
    "        :type s: str\n",
    "        :rtype: str\n",
    "        \"\"\"\n",
    "        len_s = len(s)\n",
    "        result = len_r = l = r = 0\n",
    "        for i, ch in enumerate(s):  # 遍历字符串\n",
    "            if i+1<len_s:  # 只要当前还没有到字符串的尾部\n",
    "                if s[i+1] == ch:  # 如果当前字符等于下一个字符，那么就从当前字符和下一个字符为起点，启动遍历\n",
    "                    r,l = get_logest_s(s, len_s, i, i+1)\n",
    "                    if l and l>len_r:\n",
    "                        result = r\n",
    "                        len_r = l\n",
    "                        \n",
    "                if s[i+1] == s[i-1]:  # 如果是上一个字符和下一个字符相等，启动遍历\n",
    "                    r,l = get_logest_s(s, len_s, i-1, i+1)\n",
    "                    if l and l>len_r:\n",
    "                        result = r\n",
    "                        len_r = l\n",
    "                    \n",
    "        return result or s and s[0]  # 如果没有任何回文，那么就返回第一个字符\n",
    "                            \n",
    "                \n",
    "s = Solution()\n",
    "s.longestPalindrome('ccc')"
   ]
  },
  {
   "cell_type": "code",
   "execution_count": 129,
   "metadata": {},
   "outputs": [
    {
     "name": "stdout",
     "output_type": "stream",
     "text": [
      "i 0\n",
      "i 0\n",
      "i 0\n"
     ]
    },
    {
     "data": {
      "text/plain": [
       "'ABC'"
      ]
     },
     "execution_count": 129,
     "metadata": {},
     "output_type": "execute_result"
    }
   ],
   "source": [
    "# https://leetcode.com/problems/zigzag-conversion/description/\n",
    "\n",
    "# 要求输出“蛇形文字”\n",
    "# 比如形如\n",
    "# 1     7\n",
    "# 2   6 8\n",
    "# 3 5   9\n",
    "# 4     10\n",
    "# 解决办法就是利用一个列表，每一个元素就是一行\n",
    "# 然后遍历字符串，逐一的添加到不同的元素里\n",
    "class Solution(object):\n",
    "    def convert(self, s, numRows):\n",
    "        \"\"\"\n",
    "        :type s: str\n",
    "        :type numRows: int\n",
    "        :rtype: str\n",
    "        \"\"\"\n",
    "        result = [''] * numRows  # 为每一行都生成一个空串\n",
    "        i = 0  # 添加到的元素的 index\n",
    "        step = 1\n",
    "        max_i = numRows - 1\n",
    "        for v in s:  # 遍历字符串\n",
    "            result[i] += v  # 添加到列表的元素里\n",
    "            if i == max_i:\n",
    "                step = 0 if numRows == 1 else -1  # 如果到了最后一个元素，那就开始回溯（step=-1）\n",
    "                                                  # 有一种特殊情况时，总行数为 1，此时需要令 step=0\n",
    "            elif i == 0:  # 倒了第一个元素，令 step=1\n",
    "                step = 1\n",
    "\n",
    "            i += step  # 逐渐移动 index，给不同的元素添加字符\n",
    "            \n",
    "        return ''.join(result)\n",
    "        \n",
    "        \n",
    "    \n",
    "s = Solution()\n",
    "s.convert('ABC', 1)\n",
    "# s.convert(\"PAYPALISHIRING\", 3)\n",
    "# PAHNAPLSIIGYIR"
   ]
  },
  {
   "cell_type": "code",
   "execution_count": 135,
   "metadata": {},
   "outputs": [
    {
     "data": {
      "text/plain": [
       "3100321"
      ]
     },
     "execution_count": 135,
     "metadata": {},
     "output_type": "execute_result"
    }
   ],
   "source": [
    "# https://leetcode.com/problems/reverse-integer/description/\n",
    "\n",
    "\n",
    "# 反转整数\n",
    "# 简单粗暴…\n",
    "class Solution(object):\n",
    "    def reverse(self, x):\n",
    "        \"\"\"\n",
    "        :type x: int\n",
    "        :rtype: int\n",
    "        \"\"\"\n",
    "        is_negative = x < 0\n",
    "        x = int(str(abs(x))[::-1])\n",
    "        x = -x if is_negative else x\n",
    "        return x if -2147483648 < x < 2147483648 else 0  # 如果超过 32 位有符号整数范围，就返回 0\n",
    "        \n",
    "        \n",
    "s = Solution()\n",
    "s.reverse(1230013)      "
   ]
  },
  {
   "cell_type": "code",
   "execution_count": 155,
   "metadata": {},
   "outputs": [
    {
     "data": {
      "text/plain": [
       "False"
      ]
     },
     "execution_count": 155,
     "metadata": {},
     "output_type": "execute_result"
    }
   ],
   "source": [
    "# https://leetcode.com/problems/palindrome-number/description/\n",
    "\n",
    "\n",
    "# 判断是否是回文\n",
    "# 简单粗暴…\n",
    "class Solution(object):\n",
    "    def isPalindrome(self, x):\n",
    "        \"\"\"\n",
    "        :type x: int\n",
    "        :rtype: bool\n",
    "        \"\"\"\n",
    "        # leetcode 认为负数都不是回文\n",
    "        return x == int(str(x)[::-1]) if x > 0 else x == 0\n",
    "    \n",
    "    \n",
    "s = Solution()\n",
    "s.isPalindrome(123221)"
   ]
  },
  {
   "cell_type": "code",
   "execution_count": 151,
   "metadata": {},
   "outputs": [
    {
     "name": "stdout",
     "output_type": "stream",
     "text": [
      "isMatch for ab , .*c\n",
      "isMatch for ab , c\n",
      "isMatch for b , .*c\n",
      "isMatch for b , c\n",
      "isMatch for  , .*c\n",
      "isMatch for  , c\n"
     ]
    },
    {
     "data": {
      "text/plain": [
       "False"
      ]
     },
     "execution_count": 151,
     "metadata": {},
     "output_type": "execute_result"
    }
   ],
   "source": [
    "# https://leetcode.com/problems/regular-expression-matching/description/\n",
    "\n",
    "    \n",
    "# 分治法\n",
    "# 将问题拆解为：\n",
    "#   * pattern 的首字母匹配成功，且第二位是 *\n",
    "#   * pattern 首字母匹配成功，且第二位不是 *\n",
    "class Solution(object):\n",
    "    def isMatch(self, text, pattern):\n",
    "        if not pattern:\n",
    "            return not text\n",
    "\n",
    "        first_match = bool(text) and pattern[0] in {text[0], '.'}\n",
    "        if len(pattern) >= 2 and pattern[1] == '*':  # 处理 pattern 首字符就接着 * 的特殊情况\n",
    "            return (self.isMatch(text, pattern[2:])  # 假设 pattern 的首字母不存在\n",
    "                    or first_match and self.isMatch(text[1:], pattern))  # 假设 pattern 的首字母匹配成功\n",
    "        else:\n",
    "            return first_match and self.isMatch(text[1:], pattern[1:])  # pattern 首字符没有跟着 *\n",
    "        \n",
    "        \n",
    "# -------------------------------------------------------------------------\n",
    "\n",
    "# 动态规划法\n",
    "class Solution(object):\n",
    "    def isMatch(self, text, pattern):\n",
    "        memo = {}\n",
    "        def dp(i, j):\n",
    "            if (i, j) not in memo:\n",
    "                if j == len(pattern):\n",
    "                    ans = i == len(text)\n",
    "                else:\n",
    "                    first_match = i < len(text) and pattern[j] in {text[i], '.'}\n",
    "                    if j+1 < len(pattern) and pattern[j+1] == '*':\n",
    "                        ans = dp(i, j+2) or first_match and dp(i+1, j)\n",
    "                    else:\n",
    "                        ans = first_match and dp(i+1, j+1)\n",
    "\n",
    "                memo[i, j] = ans\n",
    "            return memo[i, j]\n",
    "\n",
    "        return dp(0, 0)\n",
    "\n",
    "        \n",
    "s = Solution()\n",
    "s.isMatch('ab', '.*c')"
   ]
  }
 ],
 "metadata": {
  "kernelspec": {
   "display_name": "Python 3",
   "language": "python",
   "name": "python3"
  },
  "language_info": {
   "codemirror_mode": {
    "name": "ipython",
    "version": 3
   },
   "file_extension": ".py",
   "mimetype": "text/x-python",
   "name": "python",
   "nbconvert_exporter": "python",
   "pygments_lexer": "ipython3",
   "version": "3.7.4"
  }
 },
 "nbformat": 4,
 "nbformat_minor": 1
}
