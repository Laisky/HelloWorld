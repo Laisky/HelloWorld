{
 "cells": [
  {
   "cell_type": "markdown",
   "metadata": {
    "slideshow": {
     "slide_type": "slide"
    }
   },
   "source": [
    "# Go v1.10\n",
    "\n",
    "![](https://s2.laisky.com/images/golang-logo.jpg)"
   ]
  },
  {
   "cell_type": "markdown",
   "metadata": {
    "slideshow": {
     "slide_type": "subslide"
    }
   },
   "source": [
    "## 提纲\n",
    "\n",
    "本系列课程面向 golang 的初学者，分为四个部分：\n",
    "\n",
    "- [2 hr] Golang 语法接触\n",
    "- [1 hr] Web 编程简介\n",
    "- [1 hr] 测试与性能分析\n",
    "- [1 hr] 深入理解 Golang\n",
    "\n"
   ]
  },
  {
   "cell_type": "markdown",
   "metadata": {
    "slideshow": {
     "slide_type": "subslide"
    }
   },
   "source": [
    "## AboutMe\n",
    "\n",
    "\n",
    "CaiZhonghua（Laisky）\n",
    "云平台部架构师\n",
    "\n",
    "Email: \n",
    "\n",
    "- `me@laisky.com`\n",
    "- `zhonghuacai@pateo.com.cn`\n",
    "\n",
    "课件放在：\n",
    "\n",
    "![go-lesson-slides-1](https://s2.laisky.com/images/go-lesson-slides-1.jpg)\n",
    "\n",
    "**https://s3.laisky.com/public/slides**"
   ]
  },
  {
   "cell_type": "markdown",
   "metadata": {
    "slideshow": {
     "slide_type": "subslide"
    }
   },
   "source": [
    "我不是 golang 的专家，只是作为一个平时也喜欢用 golang 的开发者，来抛砖引玉的分享一下我对 golang 的理解。\n",
    "\n",
    "也欢迎各位在后续的使用中，分享自己的心得。"
   ]
  },
  {
   "cell_type": "markdown",
   "metadata": {
    "slideshow": {
     "slide_type": "slide"
    }
   },
   "source": [
    "## 提纲\n",
    "\n",
    "本系列课程面向 golang 的初学者，分为四个部分：\n",
    "\n",
    "- [2 hr] Golang 语法接触\n",
    "- [1 hr] Web 编程简介\n",
    "- [1 hr] 测试与性能分析\n",
    "- [1 hr] Dive into Golang\n",
    "\n"
   ]
  },
  {
   "cell_type": "markdown",
   "metadata": {
    "slideshow": {
     "slide_type": "subslide"
    }
   },
   "source": [
    "## 概述\n",
    "\n",
    "> http://blog.csdn.net/baobeijuzi/article/details/43418993\n",
    "\n",
    "Go语言的前身是Limbo，Limbo是用于开发运行在小型计算机上的分布式应用的编程语言，他支持模块化编程，编译期和运行时的强类型检查，进程内基于具有类型的通信通，原子性垃圾收集和简单的抽象数据类型。他被设计为：即便是在没有硬件内存保护的小型设备上，也能安全运行。\n",
    "\n",
    "贝尔实验室从20世纪80年代开始了一个名为Plan 9的操作系统研究项目，目的是为了解决Unix中的一些问题，发展出一个Unix的后续替代系统。在之后的十几年中，该研究项目又演变出了另外一个叫Inferno的项目分支，以及一个名为Limbo的编程语言。\n",
    "\n",
    "贝尔实验室后来经历了多次动荡，Plan 9项目原班人马加入了Google，在Google，他们创造了Go语言。\n",
    "\n",
    "早在2007年9月，Go语言还是这帮大牛20%的自由时间的实验项目。2008年5月，Google发现了Go语言的巨大潜力，开始全力支持这个项目，这批人全身心投入Go语言的设计和开发工作中。2009年11月，Go语言的第一个版本正式对外发布。2012年3月28日，Go语言第一个正式版本正式发布。Go语言迎来了第一个引人注目的里程碑。\n",
    "\n",
    "!"
   ]
  },
  {
   "cell_type": "markdown",
   "metadata": {
    "slideshow": {
     "slide_type": "subslide"
    }
   },
   "source": [
    "### 主要的优点\n",
    "\n",
    "- 静态类型\n",
    "- 快速编译\n",
    "- 高效 GC\n",
    "- 部署简易\n",
    "- goroutine\n",
    "- 实力雄厚的爹\n"
   ]
  },
  {
   "cell_type": "markdown",
   "metadata": {
    "slideshow": {
     "slide_type": "fragment"
    }
   },
   "source": [
    "Go 的哲学是“少即是多”，用像 Python 一样的语法写出 c++ 的性能。\n",
    "\n",
    "比起其他很多静态语言花哨的特性，Go 最大的特点就是高度工程化，一切的设计都是以现实工程为导向的，尽可能的解决实际的工程问题。并且 Go 高度重视性能，追求高并发低延迟，是一款非常强力的语言。\n",
    "\n",
    "这也是为什么 Go 在知乎 PL 大佬眼中一文不值，但却在工业界迅速蔓延的原因。"
   ]
  },
  {
   "cell_type": "markdown",
   "metadata": {
    "slideshow": {
     "slide_type": "subslide"
    }
   },
   "source": [
    "### Golang 从 2013 年至今的趋势\n",
    "\n",
    "![](https://s2.laisky.com/images/golang-trends.jpg)\n"
   ]
  },
  {
   "cell_type": "markdown",
   "metadata": {
    "slideshow": {
     "slide_type": "subslide"
    }
   },
   "source": [
    "再加上 Java\n",
    "\n",
    "![](https://s1.laisky.com/images/golang-trends-with-java.jpg)"
   ]
  },
  {
   "cell_type": "markdown",
   "metadata": {
    "slideshow": {
     "slide_type": "slide"
    }
   },
   "source": [
    "### 安装配置 go\n",
    "\n",
    "具体的安装很简单，到官网下载相应的安装包即可，不再累述。\n",
    "\n",
    "安装前需要配置一下环境变量\n",
    "\n",
    "```sh\n",
    "export GOROOT=/usr/local/opt/go/libexec/\n",
    "export GOPATH=/Users/laisky/Projects/go\n",
    "export PATH=$PATH:$GOPATH/bin:$GOROOT/bin\n",
    "```\n",
    "\n",
    "GOROOT：go 安装的位置（v 1.10 后该变量有默认值了，可以不用设置）\n",
    "\n",
    "GOPATH：go 项目放置的地方，同时记得把 `$GOPATH/bin` 添加进 PATH\n"
   ]
  },
  {
   "cell_type": "markdown",
   "metadata": {
    "slideshow": {
     "slide_type": "subslide"
    }
   },
   "source": [
    "具体的包结构在稍后的会更详细的介绍。\n",
    "\n",
    "目前在学习语法时，可以简单的在 `$GOPATH/src` 内建立任意一个 `xxx.go` 文件，在其中写上\n",
    "\n",
    "```go\n",
    "package main\n",
    "\n",
    "func main() {\n",
    "    // xxx\n",
    "}\n",
    "```\n",
    "\n",
    "就可以测试运行代码了，运行时只需要执行\n",
    "\n",
    "```sh\n",
    "go run xxx.go\n",
    "```"
   ]
  },
  {
   "cell_type": "markdown",
   "metadata": {
    "slideshow": {
     "slide_type": "slide"
    }
   },
   "source": [
    "## Golang 语法简介\n",
    "\n",
    "\n",
    "下面就来过一遍 go 的语法，各个编程语言间大同小异，这里简单过一遍，有一个大致的印象，建议各位回去后自己写几段小代码，熟悉熟悉 go 的用法，我们下周开始会讲一些框架、调试相关的，如果有一点实际经验的话，效果会更好。\n",
    "\n",
    "分为以下几个步骤来介绍：\n",
    "\n",
    "- 变量\n",
    "- 数据结构\n",
    "- 流程\n",
    "- interface"
   ]
  },
  {
   "cell_type": "markdown",
   "metadata": {
    "slideshow": {
     "slide_type": "subslide"
    }
   },
   "source": [
    "### 变量\n",
    "\n",
    "变量类型有：\n",
    "\n",
    "* 整数（包含有符号和无符号类型）\n",
    "    * int\n",
    "    * int8 / byte（alias）\n",
    "    * int16\n",
    "    * int32 / rune（alias）\n",
    "    * int64\n",
    "    * uint / uint8 / uint6 / uint32 / uint64\n",
    "* 浮点型\n",
    "    * float32\n",
    "    * float64\n",
    "* complex\n",
    "    * complex64\n",
    "    * complex128\n",
    "* 字符串，都采用 UTF-8 编码，用 \"\" 或 `` 表示\n",
    "    * string\n",
    "* bool\n",
    "    * true\n",
    "    * false\n",
    "* pointer \n",
    "* error"
   ]
  },
  {
   "cell_type": "markdown",
   "metadata": {
    "slideshow": {
     "slide_type": "subslide"
    }
   },
   "source": [
    "变量的声明与使用\n",
    "\n",
    "```go\n",
    "// 定义变量，类型放在最后\n",
    "// 变量声明时会被默认赋予零值\n",
    "// 分别为：false, 0, \"\"\n",
    "var c, python, java bool\n",
    "\n",
    "// 也可以包含初始化的值\n",
    "var a, b int = 3, 4\n",
    "\n",
    "// 可以使用简洁赋值 :=\n",
    "// 可以不用写 var，自动进行类型推导\n",
    "k := 3\n",
    "i := k\n",
    "f := float64(i)\n",
    "u := uint(f)\n",
    "\n",
    "// 可以放在一起写\n",
    "var (\n",
    "    ToBe   bool       = false                  // 布尔数\n",
    "    MaxInt uint64     = 1<<64 - 1              // 整型\n",
    "    z      complex128 = cmplx.Sqrt(-5 + 12i)   // 复数\n",
    ")\n",
    "```"
   ]
  },
  {
   "cell_type": "markdown",
   "metadata": {
    "slideshow": {
     "slide_type": "subslide"
    }
   },
   "source": [
    "常量：\n",
    "\n",
    "```go\n",
    "// 使用 const 定义常量\n",
    "// 常量必需指明类型，不能使用 :=\n",
    "const a int = 2\n",
    "\n",
    "const (\n",
    "    x int = 2\n",
    "    y = x\n",
    ")\n",
    "```"
   ]
  },
  {
   "cell_type": "markdown",
   "metadata": {
    "slideshow": {
     "slide_type": "subslide"
    }
   },
   "source": [
    "#### 指针\n",
    "\n",
    "使用 `&` 取地址，`*` 取值：\n",
    "\n",
    "```go\n",
    "var (\n",
    "    a int = 2\n",
    "    p = &a  // 取地址\n",
    ")\n",
    "\n",
    "*p = 3  // 取值并赋值，a 的值被改掉\n",
    "```\n",
    "\n",
    "_这里只简单的介绍下指针的用法，稍候会更详细的说一说_"
   ]
  },
  {
   "cell_type": "markdown",
   "metadata": {
    "slideshow": {
     "slide_type": "subslide"
    }
   },
   "source": [
    "### 作用域\n",
    "\n",
    "go 的作用域从小到大来排序有：\n",
    "\n",
    "- block\n",
    "- 文件\n",
    "- 包\n",
    "- builtin"
   ]
  },
  {
   "cell_type": "markdown",
   "metadata": {
    "slideshow": {
     "slide_type": "subslide"
    }
   },
   "source": [
    "#### block\n",
    "\n",
    "block 可以简单的理解为所有被大括号包裹起来的区域：`{...}`。\n",
    "\n",
    "```go\n",
    "v := \"outer\"\n",
    "fmt.Println(v)  // outer\n",
    "{\n",
    "    // 注意这里是声明（declaration）而不是赋值（assignment）\n",
    "    v := \"inner\"\n",
    "    fmt.Println(v)  // inner\n",
    "    {\n",
    "        fmt.Println(v)  // inner\n",
    "    }\n",
    "}\n",
    "{\n",
    "    fmt.Println(v)  // outer\n",
    "}\n",
    "fmt.Println(v)  // outer\n",
    "```\n"
   ]
  },
  {
   "cell_type": "markdown",
   "metadata": {
    "slideshow": {
     "slide_type": "subslide"
    }
   },
   "source": [
    "文件作用域仅仅对 `import` 语句有效，也就是说 import 的包仅在当前文件内可见。"
   ]
  },
  {
   "cell_type": "markdown",
   "metadata": {
    "slideshow": {
     "slide_type": "fragment"
    }
   },
   "source": [
    "package scope 就是我们最经常遇到的 scope，也就是说，同一个 package 内的所有变量都存在于同一个 scope 内，同一 package 内的不同文件可以直接互相使用各自的变量。"
   ]
  },
  {
   "cell_type": "markdown",
   "metadata": {
    "slideshow": {
     "slide_type": "fragment"
    }
   },
   "source": [
    "builtin 就是各种内建的 keyword，包括类型、取值和内建函数，可以在任意地方使用。"
   ]
  },
  {
   "cell_type": "markdown",
   "metadata": {
    "slideshow": {
     "slide_type": "subslide"
    }
   },
   "source": [
    "### Builtins 内建函数\n",
    "\n",
    "- `close`：关闭 channel；\n",
    "- `delete`：删除 map 中的项；\n",
    "- `len`：返回长度；\n",
    "- `cap`：获取 slice 的最大容量，对于 array 和 字符串等效于 len；\n",
    "- `new`：分配内存并初始化类型，返回一个 pointer；\n",
    "- `make`：分配内存并初始化一个 slice、map、channel，可以设置长度；\n",
    "- `copy`：复制 slice；\n",
    "- `append`：给 slice 增加元素；\n",
    "- `panic`：抛出 panic；\n",
    "- `recover`：捕获 panic；\n",
    "- `print`：输出字符串；\n",
    "- `println`：输出行；\n",
    "- `complex`：复数；\n",
    "- `real`：实部；\n",
    "- `imag`：虚部。"
   ]
  },
  {
   "cell_type": "markdown",
   "metadata": {
    "slideshow": {
     "slide_type": "subslide"
    }
   },
   "source": [
    "### 数据结构\n",
    "\n",
    "包含：\n",
    "\n",
    "* struct\n",
    "* map\n",
    "* array：长度不可改变\n",
    "* slice：长度可变"
   ]
  },
  {
   "cell_type": "markdown",
   "metadata": {
    "slideshow": {
     "slide_type": "subslide"
    }
   },
   "source": [
    "#### struct\n",
    "\n",
    "```go\n",
    "// 声明结构体\n",
    "type Vertex struct {\n",
    "    X int\n",
    "    Y int\n",
    "}\n",
    "\n",
    "// 创建结构体\n",
    "var (\n",
    "    v1 = Vertex{1, 2}\n",
    "    v2 = Vertex{}  // X, Y = 0\n",
    "    v3 = Vertex{X: 1}  // 显式赋值\n",
    "    p = &Vertex{1, 2}  // 取指针\n",
    ")\n",
    "\n",
    "\n",
    "// struct 还可以隐式声明\n",
    "// 有一点点像 OOP 的 mixin\n",
    "type Human struct {\n",
    "    Age int\n",
    "    sex string\n",
    "}\n",
    "\n",
    "type Student struct {\n",
    "    Human  // 默认会包含 Human 的全部字段\n",
    "    Class string\n",
    "}\n",
    "\n",
    "```"
   ]
  },
  {
   "cell_type": "markdown",
   "metadata": {
    "slideshow": {
     "slide_type": "subslide"
    }
   },
   "source": [
    "#### Array\n",
    "\n",
    "数组的长度不可改变，在声明时就要确定数组成员的类型和数组长度：\n",
    "\n",
    "```go\n",
    "// 声明数组\n",
    "var arr [n]type\n",
    "\n",
    "// demo\n",
    "var a [2]string\n",
    "a[0] = \"Hello\"\n",
    "a[1] = \"World\"\n",
    "fmt.Println(a[0], a[1])\n",
    "\n",
    "// 创建数组的时候可以省略个数，自动根据后面的元素来计数\n",
    "c := [...]int{1, 2, 3}\n",
    "\n",
    "// 数组可以嵌套\n",
    "doubleArray := [2][4]int{[4]int{1, 2, 3, 4}, [4]int{5, 6, 7, 8}}\n",
    "easyArray := [2][4]int{{1, 2, 3, 4}, {5, 6, 7, 8}}  // 简写\n",
    "```"
   ]
  },
  {
   "cell_type": "markdown",
   "metadata": {
    "slideshow": {
     "slide_type": "subslide"
    }
   },
   "source": [
    "#### Slice\n",
    "\n",
    "这是一种可变长的队列\n",
    "\n",
    "```go\n",
    "// 创建切片\n",
    "// 切片长度不确定，可以像数组一样赋值\n",
    "p := []int{2, 3, 5, 7, 11, 13}\n",
    "\n",
    "// 构建切片\n",
    "// 其中 len 和 cap 可以省略，默认为 0\n",
    "b := make([]int, 0, 5) // len(b)=0, cap(b)=5\n",
    "\n",
    "// 取单一值\n",
    "fmt.Println(p[1])\n",
    "\n",
    "// 取切片\n",
    "// 和 py 一样是前闭后开\n",
    "fmt.Println(\"p[1:4] ==\", p[1:4])  // 取 1,2,3\n",
    "// p[1:4] == [3 5 7]\n",
    "fmt.Println(\"p[:3] ==\", p[:3])  // 取 0,1,2\n",
    "// p[:3] == [2 3 5]\n",
    "fmt.Println(\"p[4:] ==\", p[4:])  // 取 4,...\n",
    "// p[4:] == [11 13]\n",
    "```"
   ]
  },
  {
   "cell_type": "markdown",
   "metadata": {
    "slideshow": {
     "slide_type": "subslide"
    }
   },
   "source": [
    "#### Map\n",
    "\n",
    "```go\n",
    "// 声明 map\n",
    "// string -> Vertex 的映射\n",
    "// 使用 make 创建 map 对象\n",
    "// 等效于 map[string]string{}\n",
    "var m map[string]string = make(map[string]string)\n",
    "\n",
    "// 赋值\n",
    "m[\"a\"] = \"2\"\n",
    "\n",
    "// 批量赋值\n",
    "var m = map[string]string{\n",
    "    \"a\": \"b\",\n",
    "    \"c\": \"d\",\n",
    "}\n",
    "\n",
    "// 在 map m 中插入或修改一个元素\n",
    "m[key] = elem\n",
    "\n",
    "// 获得元素\n",
    "elem = m[key]\n",
    "\n",
    "// 删除元素\n",
    "delete(m, key)\n",
    "\n",
    "// 通过双赋值检测某个键存在\n",
    "// ok = false | true\n",
    "elem, ok = m[key]\n",
    "```"
   ]
  },
  {
   "cell_type": "markdown",
   "metadata": {
    "slideshow": {
     "slide_type": "subslide"
    }
   },
   "source": [
    "### 流程\n",
    "\n",
    "包括：\n",
    "\n",
    "- func 函数\n",
    "- method 方法\n",
    "- for 循环\n",
    "- switch 分支选择"
   ]
  },
  {
   "cell_type": "markdown",
   "metadata": {
    "slideshow": {
     "slide_type": "subslide"
    }
   },
   "source": [
    "#### func 函数\n",
    "\n",
    "定义函数：\n",
    "\n",
    "```go\n",
    "// 需要定义参数的类型和返回的类型\n",
    "func add(x int, y int) int {\n",
    "    return x + y\n",
    "}\n",
    "\n",
    "// 参数的类型可以简写\n",
    "func add(x, y int) int {\n",
    "    return x + y\n",
    "}\n",
    "\n",
    "// 可以返回任意多个值\n",
    "func swap(x, y int) (int, int) {\n",
    "    return y, x\n",
    "}\n",
    "\n",
    "// 返回值命名\n",
    "// 命名的返回值可以直接在函数里像变量一样的使用\n",
    "func sum(x, y int) (total int) {\n",
    "    total = x + y\n",
    "    // 直接返回（不推荐）\n",
    "    // 最好显示的写出返回的变量\n",
    "    return\n",
    "}\n",
    "```"
   ]
  },
  {
   "cell_type": "markdown",
   "metadata": {
    "slideshow": {
     "slide_type": "subslide"
    }
   },
   "source": [
    "Go 内的函数不支持默认参数，开发组认为你应该严格的区别不同功能的函数，而不是把它们揉在一起。\n",
    "\n",
    "不过很多时候默认参数还是很有用的，你可以考虑用 struct 来作为参数传递。使用 slice 来实现可变长参数"
   ]
  },
  {
   "cell_type": "markdown",
   "metadata": {
    "slideshow": {
     "slide_type": "subslide"
    }
   },
   "source": [
    "#### defer\n",
    "\n",
    "控制程序调用顺序，可以令语句在父函数返回后再执行。\n",
    "当函数内有多个 defer 时，defer 会维护一个栈，当父函数返回后，按照 LIFO 原则出栈调用。\n",
    "\n",
    "```go\n",
    "func main() {\n",
    "    // defer 会在 main 函数执行完成后再执行\n",
    "    defer fmt.Println(\"world\")\n",
    "\n",
    "    fmt.Println(\"hello\")\n",
    "}\n",
    "```\n",
    "\n",
    "输出：\n",
    "hello\n",
    "world"
   ]
  },
  {
   "cell_type": "markdown",
   "metadata": {
    "slideshow": {
     "slide_type": "subslide"
    }
   },
   "source": [
    "再看一个例子\n",
    "\n",
    "```go\n",
    "func deferDemo() {\n",
    "\tdefer println()\n",
    "\tfor i := 0; i < 5; i++ {\n",
    "\t\tdefer func() {\n",
    "\t\t\tprint(i, \" \")\n",
    "\t\t}()\n",
    "\t}\n",
    "}\n",
    "```"
   ]
  },
  {
   "cell_type": "markdown",
   "metadata": {
    "slideshow": {
     "slide_type": "fragment"
    }
   },
   "source": [
    "这个函数将会输出：5 5 5 5 5"
   ]
  },
  {
   "cell_type": "markdown",
   "metadata": {
    "slideshow": {
     "slide_type": "subslide"
    }
   },
   "source": [
    "#### Method 方法\n",
    "\n",
    "方法，指的是绑定在任意 type 上的函数，是 go 提供的一种面向对象的方法\n",
    "\n",
    "```go\n",
    "//   0. 首先声明一个类型\n",
    "//   0. 然后给这个类型定义方法\n",
    "\n",
    "\n",
    "type Demo struct {\n",
    "\tX, Y int\n",
    "}\n",
    "\n",
    "// 给指定的 type 绑定方法\n",
    "func (d *Demo) Sum() int {\n",
    "\treturn d.X + d.Y\n",
    "}\n",
    "\n",
    "func main() {\n",
    "\td := Demo{4, 4}\n",
    "\tfmt.Println(d.Sum())  // 8\n",
    "}\n",
    "```"
   ]
  },
  {
   "cell_type": "markdown",
   "metadata": {
    "slideshow": {
     "slide_type": "subslide"
    }
   },
   "source": [
    "method 可以分为两种：\n",
    "\n",
    "- pointer methods\n",
    "- value methods\n",
    "\n",
    "区别就在于，绑定的时候传入的是 value 还是 pointer：\n",
    "\n",
    "```go\n",
    "type MyStruct struct {\n",
    "    X int\n",
    "}\n",
    "\n",
    "// 绑定一个 pointer method\n",
    "func (s *MyStruct) Abs() float64 {}\n",
    "\n",
    "// 绑定一个 value method\n",
    "func (s MyStruct) Abs() float64 {}\n",
    "```"
   ]
  },
  {
   "cell_type": "markdown",
   "metadata": {
    "slideshow": {
     "slide_type": "subslide"
    }
   },
   "source": [
    "需要注意的是：变量的指针可以调用 pointer methods 和 value methods，而变量的值只能调用 value methods。\n",
    "\n",
    "这是因为 pointer methods 可以改变指针所指向的变量，使用值来调用 pointer methods 会非常危险。所以 go 干脆禁止了这种行为。\n",
    "\n",
    "这也是对 slice 执行 append 时，需要返回一个新 slice 的原因。"
   ]
  },
  {
   "cell_type": "markdown",
   "metadata": {
    "slideshow": {
     "slide_type": "subslide"
    }
   },
   "source": [
    "#### for 循环\n",
    "\n",
    "go 只有 for 循环\n",
    "\n",
    "```go\n",
    "// 定义 初始值，目标和步长的完整 for 循环\n",
    "for i := 0; i < 10; i++ {\n",
    "    sum += i\n",
    "}\n",
    "\n",
    "// 也可以简写\n",
    "// 默认初始值为 0，步长为 1\n",
    "for ; sum < 1000; {}\n",
    "\n",
    "// 其实连分号都可以省略，用 while 一样的语法\n",
    "for sum < 1000 {}\n",
    "\n",
    "// 死循环\n",
    "for {}\n",
    "```\n",
    "\n",
    "for 中还可以使用 `continue` 和 `break`"
   ]
  },
  {
   "cell_type": "markdown",
   "metadata": {
    "slideshow": {
     "slide_type": "subslide"
    }
   },
   "source": [
    "go 中还提供了 range 关键词可以用于遍历列表和映射\n",
    "\n",
    "```go\n",
    "a := []string{\"a\", \"b\", \"c\", \"d\"}\n",
    "for idx, val := range a {  // idx 是索引，val 是值\n",
    "    fmt.Println(idx, val)\n",
    "}\n",
    "\n",
    "d := map[string]int{}\n",
    "for key, val := range d {\n",
    "    // ...\n",
    "}\n",
    "\n",
    "```"
   ]
  },
  {
   "cell_type": "markdown",
   "metadata": {
    "slideshow": {
     "slide_type": "subslide"
    }
   },
   "source": [
    "#### switch\n",
    "\n",
    "```go\n",
    "// switch\n",
    "// switch 默认不会穿透，除非显式指定 fallthrough\n",
    "// 不过 fallthrough 只会穿透一次，连续穿透需要定义多个 fallthrough\n",
    "switch a {\n",
    "    case 1:\n",
    "        // ...\n",
    "        fallthrough  // 会穿透，执行下面的匹配\n",
    "    case 2:\n",
    "        // ...\n",
    "    default:\n",
    "        // ...\n",
    "}\n",
    "\n",
    "// 不设 switch 条件时相当于 switch true\n",
    "// 也就是会判断 case 是否为 true\n",
    "// 相当于 if - else - if 的另一种写法\n",
    "switch {\n",
    "    case x == 2:\n",
    "        fmt.Println(\"1\")\n",
    "        fallthrough\n",
    "    case x < 3:\n",
    "        fmt.Println(\"2\")\n",
    "        fallthrough\n",
    "    default:\n",
    "        fmt.Println(\"default\")\n",
    "}\n",
    "```"
   ]
  },
  {
   "cell_type": "markdown",
   "metadata": {
    "slideshow": {
     "slide_type": "subslide"
    }
   },
   "source": [
    "switch 还可以用来判断类型：\n",
    "\n",
    "```go\n",
    "// 判断类型\n",
    "var ia interface{} // 只能判断 interface 的类型\n",
    "ia = a\n",
    "\n",
    "switch ia.(type) {\n",
    "case int:\n",
    "    fmt.Println(\"int\")\n",
    "case float32:\n",
    "    fmt.Println(\"float\")\n",
    "case string:\n",
    "    fmt.Println(\"string\")\n",
    "case bool:\n",
    "    fmt.Println(\"bool\")\n",
    "default:\n",
    "    fmt.Println(\"default\")\n",
    "}\n",
    "```"
   ]
  },
  {
   "cell_type": "markdown",
   "metadata": {
    "slideshow": {
     "slide_type": "subslide"
    }
   },
   "source": [
    "### interface\n",
    "\n",
    "接口类型用于接收“任意类型”，可以给借口类型声明方法，则该接口只接收有指定方法的类型：\n",
    "\n",
    "```go\n",
    "type Polygon struct {\n",
    "    height int\n",
    "    width  int\n",
    "}\n",
    "\n",
    "// 为结构 Polygon 定义具体的方法\n",
    "func (this *Polygon) GetPerimeter() int {\n",
    "    return (this.height + this.width) * 2\n",
    "}\n",
    "\n",
    "// 定义接口\n",
    "// 这个接口上有一个名为 GetPerimeter 的抽象方法，返回一个 int\n",
    "// 实现了 GetPerimeter 方法的对象，就可以被赋值给这个接口\n",
    "type graph interface {\n",
    "    GetPerimeter() int\n",
    "}\n",
    "\n",
    "func main() {\n",
    "    var g graph\n",
    "    pa := Polygon{height 10, width 10}\n",
    "    g = &pa  // 可以将 Polygon 类型赋值给 graph interface，接口都是指针\n",
    "\n",
    "}\n",
    "\n",
    "```"
   ]
  },
  {
   "cell_type": "markdown",
   "metadata": {
    "slideshow": {
     "slide_type": "subslide"
    }
   },
   "source": [
    "不声明任何方法的接口称为空接口，可以接收任何类型的变量：\n",
    "\n",
    "```go\n",
    "func demo(val interface{}) {\n",
    "    // 这个 val 参数可以接受任意类型\n",
    "}\n",
    "```"
   ]
  },
  {
   "cell_type": "markdown",
   "metadata": {
    "slideshow": {
     "slide_type": "subslide"
    }
   },
   "source": [
    "可以对 interface 进行类型转换，转换为具体的类型：\n",
    "\n",
    "```go\n",
    "if val, ok := i.(int); ok {\n",
    "    // success converted interface to int\n",
    "}\n",
    "```"
   ]
  },
  {
   "cell_type": "markdown",
   "metadata": {
    "slideshow": {
     "slide_type": "subslide"
    }
   },
   "source": [
    "interface 是 go 中非常强大的一个特性，妥善的用好 interface 可以实现 OOP 中的 duck typing。\n",
    "\n",
    "比如任何实现了 `Write` 方法的类型，都可以被 `Fprintf` 输出。\n",
    "\n",
    "不过尤其是要小心不要滥用空接口，不要因为空指针方便就在所有的地方滥用空接口。"
   ]
  },
  {
   "cell_type": "markdown",
   "metadata": {
    "slideshow": {
     "slide_type": "slide"
    }
   },
   "source": [
    "## 语法深入\n",
    "\n",
    "下面介绍稍微复杂一些的语法，可以提供一些更高级的功能"
   ]
  },
  {
   "cell_type": "markdown",
   "metadata": {
    "slideshow": {
     "slide_type": "subslide"
    }
   },
   "source": [
    "### comma-ok 断言\n",
    "\n",
    "Go 提供了一种用来判断变量类型的语法：\n",
    "\n",
    "```go\n",
    "// 判断 element 是一个 interface\n",
    "// T 是断言的类型\n",
    "// ok 会返回一个 bool，判断 element 是否是 T 类型\n",
    "// value 会返回 element 的值\n",
    "value, ok = element.(T)\n",
    "```\n",
    "\n",
    "一个简单的例子：\n",
    "\n",
    "```go\n",
    "// 判断类型\n",
    "var va interface{} // 定义 va 为 interface\n",
    "va = &pa\n",
    "\n",
    "if t, ok := va.(*PolygonA); ok {\n",
    "    fmt.Printf(\"The type is: %T\\n\", t)\n",
    "} else if t, ok := va.(*PolygonB); ok {\n",
    "    fmt.Printf(\"The type is: %T\\n\", t)\n",
    "}\n",
    "```\n",
    "\n",
    "这个语法常被用于将 interface 转换为具体的数据类型"
   ]
  },
  {
   "cell_type": "markdown",
   "metadata": {
    "slideshow": {
     "slide_type": "subslide"
    }
   },
   "source": [
    "这种返回 ok 的语法非常普遍，判断字典中是否存在某个 key 也是这么写的\n",
    "\n",
    "```go\n",
    "if val, ok := m[\"key\"]; ok {\n",
    "    // do sth with val\n",
    "}\n",
    "```"
   ]
  },
  {
   "cell_type": "markdown",
   "metadata": {
    "slideshow": {
     "slide_type": "subslide"
    }
   },
   "source": [
    "### 反射\n",
    "\n",
    "\n",
    "go 提供了两个反射类型：`reflect.Type` 和 `reflect.Value`。对应两个方法：`reflect.TypeOf` 和 `reflect.ValueOf`，可以获取到任意变量（interface{}）的类型和取值。\n",
    "\n",
    "所以 reflect 主要用于和 interface{} 相配合，可以实现相当动态的特性。\n",
    "\n",
    "```go\n",
    "var (\n",
    "    x float64 = 3.4\n",
    "    vx interface{}\n",
    ")\n",
    "\n",
    "// 给 vx 赋值，vx 是一个接口，并不知道原始数据的类型\n",
    "vx = x\n",
    "\n",
    "// 利用反射获取原始数据的类型和值\n",
    "fmt.Println(\"type:\", reflect.TypeOf(vx))  // type: float64\n",
    "fmt.Println(\"value:\", reflect.ValueOf(vx))  // value: 3.4\n",
    "```"
   ]
  },
  {
   "cell_type": "markdown",
   "metadata": {
    "slideshow": {
     "slide_type": "subslide"
    }
   },
   "source": [
    "\n",
    "```go\n",
    "v := reflect.ValueOf(vx)  // 获得 reflect.Value 类型\n",
    "\n",
    "fmt.Println(\"value:\", v)\n",
    "fmt.Println(\"type:\", v.Type())         // float64\n",
    "fmt.Println(\"kind:\", v.Kind())         // float64\n",
    "fmt.Println(\"float value:\", v.Float()) // 3.4\n",
    "fmt.Println(v.Interface())\n",
    "fmt.Printf(\"value is %5.2e\\n\", v.Interface())\n",
    "y := v.Interface().(float64)\n",
    "fmt.Println(y)\n",
    "```"
   ]
  },
  {
   "cell_type": "markdown",
   "metadata": {
    "slideshow": {
     "slide_type": "subslide"
    }
   },
   "source": [
    "### 引用类型\n",
    "\n",
    "这个章节题目其实并不准确的，因为 Go 中所有的赋值都是值传递（浅拷贝）。\n",
    "\n",
    "不过我们经常会看到一句话：\n",
    "\n",
    "> slice, map, channel, func, interface 是引用类型，其他都是值类型。\n",
    "\n",
    "这句话严格地说也是错的，因为 go 里只有 value，顶多区分为 pointer value 和 nonpointer value，并不存在什么值类型和引用类型。前面说了，所有的赋值都是拷贝，不过有时候拷贝的是指针，所以看上去就像是引用类型了。"
   ]
  },
  {
   "cell_type": "markdown",
   "metadata": {
    "slideshow": {
     "slide_type": "subslide"
    }
   },
   "source": [
    "上述提到的几个类型，只是因为它们的 struct 里存放了指向数据的指针，而不是直接在栈里存放数据，所以我们在传参的时候，可以直接的传递：\n",
    "\n",
    "```go\n",
    "func changeSlice(sli []int) {\n",
    "    sli[1] = 2\n",
    "}\n",
    "\n",
    "func main() {\n",
    "    sli := []int{1, 1, 1}\n",
    "    changeSlice(sli)\n",
    "    fmt.Println(sli) // {1, 2, 1}\n",
    "}\n",
    "```"
   ]
  },
  {
   "cell_type": "markdown",
   "metadata": {
    "slideshow": {
     "slide_type": "subslide"
    }
   },
   "source": [
    "但是需要注意的是，像 slice 这样的类型，会随着数据量变化而动态重新分配内存的，所以如果只是修改元素的值的话，确实可以 change-inplace，但如果改变了 slice 的长度，可能会导致重新生成一个新的 slice 长度：\n",
    "\n",
    "```go\n",
    "func changeSlice(sli []int) {\n",
    "    sli[1] = 2\n",
    "    // type Slice struct {\n",
    "    // \t   Array\n",
    "    // \t   Capacity uint64\n",
    "    // }\n",
    "    // append 很可能会导致 slice 重新分配内存\n",
    "    // 所以 append 只能返回一个新的 head\n",
    "    sli = append(sli, 3) // 这句话不一定会对原始 slice 生效\n",
    "}\n",
    "\n",
    "func main() {\n",
    "    sli := []int{1, 1, 1}\n",
    "    changeSlice(sli) // 不会被改变\n",
    "    fmt.Println(sli) // {1, 1, 1}\n",
    "}\n",
    "```"
   ]
  },
  {
   "cell_type": "markdown",
   "metadata": {
    "slideshow": {
     "slide_type": "fragment"
    }
   },
   "source": [
    "这时候就需要传递 slice 的指针了"
   ]
  },
  {
   "cell_type": "markdown",
   "metadata": {
    "slideshow": {
     "slide_type": "slide"
    }
   },
   "source": [
    "## 异常\n",
    "\n",
    "go 中的异常处理和 Java 等语言有较大的差异，需要特别的留意。"
   ]
  },
  {
   "cell_type": "markdown",
   "metadata": {
    "slideshow": {
     "slide_type": "fragment"
    }
   },
   "source": [
    "其异常处理最大的特点，大概就是：没有 try-catch"
   ]
  },
  {
   "cell_type": "markdown",
   "metadata": {
    "slideshow": {
     "slide_type": "subslide"
    }
   },
   "source": [
    "在 go 的哲学中，将错误从概念上区分为两类：\n",
    "\n",
    "- error：代码逻辑可处理的异常，通过日志等方式处理掉；\n",
    "- panic：未曾预期的异常，会导致程序惊恐（panic），一般还会导致程序退出。"
   ]
  },
  {
   "cell_type": "markdown",
   "metadata": {
    "slideshow": {
     "slide_type": "subslide"
    }
   },
   "source": [
    "### error\n",
    "\n",
    "这也导致了 go 中广受争议的一种写法，好不好我就不评价了。\n",
    "\n",
    "go 建议函数返回值的最后一个都是 error\n",
    "\n",
    "```go\n",
    "func demo() (err error) {\n",
    "    return_val, err := some_func()\n",
    "    if err != nil {\n",
    "        // deal with err\n",
    "        // ...\n",
    "    \n",
    "        // 向上一级返回 err\n",
    "        return errors.Wrap(err, \"some message\")\n",
    "    }\n",
    "    \n",
    "    // 然后才是正常的逻辑代码\n",
    "    // ...\n",
    "\n",
    "}\n",
    "```"
   ]
  },
  {
   "cell_type": "markdown",
   "metadata": {
    "slideshow": {
     "slide_type": "subslide"
    }
   },
   "source": [
    "### panic\n",
    "\n",
    "当程序遇到一个 panic 异常，会中止当前程序，并且在程序返回时将 panic 抛给上一层调用者，最终 panic 会上浮到 main 函数，并最终导致程序退出。\n",
    "\n",
    "\n",
    "你也可以使用 recover 来捕获 panic（不要轻易使用 recover！）。而且我们前面提到过 defer 的调用是在函数返回之前，所以我们可以结合使用这两者来在函数内捕获 panic\n",
    "\n",
    "```go\n",
    "func demo() {\n",
    "    defer func() {\n",
    "        if err:=recover(); err!=nil {\n",
    "            // deal with panic\n",
    "        }\n",
    "    }()\n",
    "    \n",
    "    // 正常的代码\n",
    "    // ...\n",
    "    \n",
    "    // 抛出一个 fatal\n",
    "    panic(\"some message\")\n",
    "\n",
    "}\n",
    "\n",
    "```"
   ]
  },
  {
   "cell_type": "markdown",
   "metadata": {
    "slideshow": {
     "slide_type": "slide"
    }
   },
   "source": [
    "## 项目结构\n",
    "\n",
    "\n",
    "包括：\n",
    "\n",
    "- 安装 golang\n",
    "- 包结构\n",
    "- 依赖管理"
   ]
  },
  {
   "cell_type": "markdown",
   "metadata": {
    "slideshow": {
     "slide_type": "subslide"
    }
   },
   "source": [
    "### 包结构\n",
    "\n",
    "go 的包结构是被业界广为争论的一点，因为 google 内部使用单一 repo，所以 golang 也在设计上认为所有的项目都会放在一起，并且全部保持在主干。\n",
    "\n",
    "`$GOPATH/src` 内应该包含所有的源代码，其结构是：`$GOPATH/src/<repositray>/<user>/<project_name>`，比如，拿我举个例子，我在使用 github，我的名字是 Laisky，我打算开一个名为 demo 的项目练练手，那么我应该在这么做：\n",
    "\n",
    "```sh\n",
    "mkdir -p $GOPATH/src/github.com/Laisky/demo\n",
    "cd $GOPATH/src/github.com/Laisky/demo\n",
    "vi main.go  // 开始编码\n",
    "```"
   ]
  },
  {
   "cell_type": "markdown",
   "metadata": {
    "slideshow": {
     "slide_type": "subslide"
    }
   },
   "source": [
    "\n",
    "main.go 形如：\n",
    "\n",
    "```\n",
    "package main  // 包名\n",
    "\n",
    "\n",
    "// 必须有一个 main 函数\n",
    "func main() {\n",
    "\n",
    "}\n",
    "```"
   ]
  },
  {
   "cell_type": "markdown",
   "metadata": {
    "slideshow": {
     "slide_type": "subslide"
    }
   },
   "source": [
    "任何人想要使用这个包，只需要 import 即可，import 有几种不同的写法：\n",
    "\n",
    "```go\n",
    "// 导入 package，可以使用 package name\n",
    "// demo.xxx\n",
    "\"github.com/Laisky/demo\"  \n",
    "\n",
    "// 重命名 package name\n",
    "// demo2.xxx\n",
    "demo2 \"github.com/Laisky/demo\"\n",
    "\n",
    "// 初始化，但是不导入\n",
    "_ \"github.com/Laisky/demo\"\n",
    "\n",
    "// 将 package 内的变量导入当前文件\n",
    "// xxx\n",
    ". \"github.com/Laisky/demo\"\n",
    "```"
   ]
  },
  {
   "cell_type": "markdown",
   "metadata": {
    "slideshow": {
     "slide_type": "subslide"
    }
   },
   "source": [
    "项目内也可以创建自文件夹作为子包，比如\n",
    "\n",
    "```\n",
    "├── tasks\n",
    "│   ├── default.go\n",
    "│   ├── elasticsearch.go\n",
    "│   └── heartbeat.go\n",
    "├── main.go\n",
    "```\n",
    "\n",
    "我有一个 tasks 自文件夹，里面放了三个文件，那么这三个文件的内的 package 声明都应该是：\n",
    "\n",
    "```go\n",
    "package tasks\n",
    "```\n",
    "\n",
    "同一个 package 内共享同一个 scope，所以 package 内的公共变量不能重名，同 package 的所有公共变量都可以直接使用"
   ]
  },
  {
   "cell_type": "markdown",
   "metadata": {
    "slideshow": {
     "slide_type": "subslide"
    }
   },
   "source": [
    "go 中对公共私有的区分相当简单，首字母大写的都是公共。\n",
    "\n",
    "这一规定适用于 package 内的变量名以及 struct 中的 field 名。\n",
    "\n",
    "```go\n",
    "var exampleVar int // 私有变量\n",
    "var ExampleVar int // 公共变量\n",
    "```"
   ]
  },
  {
   "cell_type": "markdown",
   "metadata": {
    "slideshow": {
     "slide_type": "slide"
    }
   },
   "source": [
    "### 依赖管理\n",
    "\n",
    "因为在谷歌内部，所有代码都在一个 repo，并且只有 master branch，所以 go 语言在面世之初根本没有考虑版本管理和依赖管理的问题。\n",
    "\n",
    "比如全局唯一 GOPATH，因为依赖都是放在 `$GOPATH/src` 下，所以导致所有项目共享依赖。依赖直接就是代码包的 master，所以几乎完全没有版本管理。"
   ]
  },
  {
   "cell_type": "markdown",
   "metadata": {
    "slideshow": {
     "slide_type": "fragment"
    }
   },
   "source": [
    "不过业界还是需要版本管理的，所以现在也有了一系列的最佳实践。\n",
    "\n",
    "主要的分歧就是：`GOPATH` 是否唯一？\n",
    "\n"
   ]
  },
  {
   "cell_type": "markdown",
   "metadata": {
    "slideshow": {
     "slide_type": "subslide"
    }
   },
   "source": [
    "#### 多个 GOPATH\n",
    "\n",
    "这个很好理解，因为代码都是放在 `$GOPATH/src` 的，所以只要每一个项目都用一个不同的 GOPATH，就能实现资源隔离了。\n",
    "\n",
    "一般可以用 autoenv 来实现自动的切换环境变量"
   ]
  },
  {
   "cell_type": "markdown",
   "metadata": {
    "slideshow": {
     "slide_type": "subslide"
    }
   },
   "source": [
    "#### 全局 GOPATH\n",
    "\n",
    "所有的项目还是放在全局的 GOPATH 下，不过每一个项目的依赖都放在项目路径内的 vendor 文件夹内，如 `$GOPATH/src/github.com/Laisky/demo/vendor`，在 build 的时候，go 会优先的在 vendor 里寻找依赖。\n",
    "\n",
    "不过这样做的话，就不能用 `go get` 安装依赖了，而是要借助第三方包，比如 `glide`。"
   ]
  },
  {
   "cell_type": "markdown",
   "metadata": {
    "slideshow": {
     "slide_type": "subslide"
    }
   },
   "source": [
    "一些常用命令\n",
    "\n",
    "```sh\n",
    "cd $GOPATH/src/github.com/Laisky/demo\n",
    "\n",
    "# 初始化项目\n",
    "glide init\n",
    "\n",
    "# 安装依赖\n",
    "glide install xxx\n",
    "\n",
    "# 运行\n",
    "go run main.go\n",
    "\n",
    "## 编译\n",
    "go build .  # 编译为二进制文件后，放进 $GOPATH/bin\n",
    "go build main.go  # 编译成二进制文件 main\n",
    "\n",
    "```"
   ]
  },
  {
   "cell_type": "markdown",
   "metadata": {
    "slideshow": {
     "slide_type": "slide"
    }
   },
   "source": [
    "## 并发\n",
    "\n",
    "goroutine 是 golang 中最为出彩的特性，这里做一个简单的介绍。"
   ]
  },
  {
   "cell_type": "markdown",
   "metadata": {
    "slideshow": {
     "slide_type": "fragment"
    }
   },
   "source": [
    "过去在做并行编程的时候，我们需要考虑采用线程、进程或是协程。\n",
    "\n",
    "在编程的时候还要考虑复杂的回调，小心翼翼的避免阻塞，具有相当的难度。而 go 将这一切调度都封装进了 runtime scheduler，对外提供统一简单的 goroutine，让你可以用几乎完全同步的代码，来编写并发程序。\n",
    "\n",
    "而且每一个 goroutine 仅需要 2KB 的初始栈空间（JAVA 是 1 MB），在每台机器上启动数十万的 goroutine 也不算奇怪。\n",
    "\n",
    "开发人员可以更加专注于逻辑的实现，而不是运行资源的调度。"
   ]
  },
  {
   "cell_type": "markdown",
   "metadata": {
    "slideshow": {
     "slide_type": "subslide"
    }
   },
   "source": [
    "### goroutine\n",
    "\n",
    "启动一个 goroutine 非常简单，在调用任何函数的时候，使用 `go` 关键词即可：\n",
    "\n",
    "```go\n",
    "// 一个普通的阻塞函数\n",
    "func say(s string) {\n",
    "    time.Sleep(time.Second * 1)\n",
    "    fmt.Println(s)\n",
    "}\n",
    "\n",
    "\n",
    "// 最终会输出 \"hello bob\"\n",
    "func main() {\n",
    "    go say(\"bob\") // 启动 goroutine，此句会立刻返回\n",
    "    go say(\"bob\")\n",
    "    go say(\"bob\")  // 并发😄\n",
    "    fmt.Printf(\"hello \")\n",
    "    \n",
    "    time.Sleep(time.Second * 2) // 等待 goroutine 结束\n",
    "}\n",
    "\n",
    "```"
   ]
  },
  {
   "cell_type": "markdown",
   "metadata": {
    "slideshow": {
     "slide_type": "subslide"
    }
   },
   "source": [
    "所以你现在可以在把所有阻塞的操作全部扔到一起，然后在主逻辑简单轻松的 go 启动 goroutine，就可以立刻去着手处理其他的逻辑了，而完全不用再考虑阻塞问题。\n",
    "\n",
    "就像用线程一样的简单，然后还比线程轻量。"
   ]
  },
  {
   "cell_type": "markdown",
   "metadata": {
    "slideshow": {
     "slide_type": "subslide"
    }
   },
   "source": [
    "不过 goroutine 的使用需要特别小心，不要滥用 goroutine 的并发，要时刻关注并发中的资源使用率，以及 goroutine 的回收情况。\n",
    "\n",
    "因为 goroutine 实在是太容易被滥用，现在社区都开玩笑说下一版可以考虑加一个 goroutine GC 了……"
   ]
  },
  {
   "cell_type": "markdown",
   "metadata": {
    "slideshow": {
     "slide_type": "fragment"
    }
   },
   "source": [
    "关于 goroutine 的实现细节，在后续的分享中会有详细介绍。\n",
    "\n",
    "这里只介绍用法，用起来就是这么的简单！"
   ]
  },
  {
   "cell_type": "markdown",
   "metadata": {
    "slideshow": {
     "slide_type": "subslide"
    }
   },
   "source": [
    "### channel\n",
    "\n",
    "python、javascript、c# 等语言采用 Promise（async/await） 这种形式来做同步，而 go 采用了阻塞消息队列来实现同步。\n",
    "\n",
    "channel 用来实现 goroutine 间的通信，是一个 FIFO 的队列，通过入队阻塞和出队等待，来实现 goroutine 间的同步。\n",
    "\n"
   ]
  },
  {
   "cell_type": "markdown",
   "metadata": {
    "slideshow": {
     "slide_type": "subslide"
    }
   },
   "source": [
    "```go\n",
    "// 通过 make 创建 channel\n",
    "c := make(chan int)\n",
    "\n",
    "\n",
    "// 下面这两行是伪代码\n",
    "// 这两行并不能写在一起，而应该写在不同的 goroutine 中，否则这样会阻塞的\n",
    "ch <- v    // 发送 v 到channel ch.\n",
    "v := <-ch  // 从 ch 中接收数据，并赋值给 v\n",
    "\n",
    "\n",
    "v, ok := <- ch  // 如果 ok==false，说明 ch 已关闭\n",
    "\n",
    "// 关闭 channel\n",
    "ch.Close()\n",
    "```"
   ]
  },
  {
   "cell_type": "markdown",
   "metadata": {
    "slideshow": {
     "slide_type": "subslide"
    }
   },
   "source": [
    "也可以通过给 channel 设置 buffer，来部分的解除入队操作的阻塞\n",
    "\n",
    "```go\n",
    "// 创造一个带 buffer 的 channel\n",
    "// value 是 buffer 大小\n",
    "// 当 value == 0 时，相当于是一个阻塞的 channel\n",
    "ch := make(chan type, value)\n",
    "\n",
    "// push 时，若还有 buffer，则为非阻塞操作\n",
    "// 若 buffer 已用完，则为阻塞操作\n",
    "// pull 同理\n",
    "ch <- 1\n",
    "```"
   ]
  },
  {
   "cell_type": "markdown",
   "metadata": {
    "slideshow": {
     "slide_type": "subslide"
    }
   },
   "source": [
    "一些方便的用法：\n",
    "\n",
    "可以使用 range 来遍历 channel\n",
    "\n",
    "```go\n",
    "// 可以用 range 监听 channel\n",
    "// 每当 channel 里被 push 了消息，就执行一次循环\n",
    "// 直到 channel 关闭才会退出循环\n",
    "for i := range c {\n",
    "    fmt.Println(i)\n",
    "}\n",
    "```"
   ]
  },
  {
   "cell_type": "markdown",
   "metadata": {
    "slideshow": {
     "slide_type": "subslide"
    }
   },
   "source": [
    "可以用 select 来监听多个 channel\n",
    "```go\n",
    "// 哪个 channel 先返回就执行谁\n",
    "// 也可以通过设置 default 来让 pull 操作变为非阻塞（相当于 q.get_nowait）\n",
    "select {\n",
    "    case i := <-c:\n",
    "        // use i...\n",
    "    case <- time.After(5 * time.Second):\n",
    "        // 设置 timeout...\n",
    "    default:\n",
    "        // 当 c 阻塞的时候就会执行这里\n",
    "        // 设定 default 让 select 变成非阻塞操作\n",
    "}\n",
    "```"
   ]
  },
  {
   "cell_type": "markdown",
   "metadata": {
    "slideshow": {
     "slide_type": "subslide"
    }
   },
   "source": [
    "我们可以用 channel 来改写前面的函数，利用 channel 来做同步：\n",
    "\n",
    "```go\n",
    "var ch = make(chan int)\n",
    "\n",
    "func say(v string) {\n",
    "\ttime.Sleep(time.Second * 1)\n",
    "\tfmt.Println(v)\n",
    "\tch <- 0\n",
    "}\n",
    "\n",
    "func main() {\n",
    "\tgo say(\"bob\") // 启动 goroutine\n",
    "\tfmt.Printf(\"hello \")\n",
    "\t// 最终会输出 \"hello bob\"\n",
    "\n",
    "\t// 等待 goroutine 执行完成\n",
    "\t<-ch\n",
    "}\n",
    "```"
   ]
  },
  {
   "cell_type": "markdown",
   "metadata": {
    "slideshow": {
     "slide_type": "subslide"
    }
   },
   "source": [
    "#### 单向 channel\n",
    "\n",
    "顺带一提，channel 还可以是单向的（只读或只写）\n",
    "\n",
    "```go\n",
    "// 声明只读的 channel\n",
    "make(<-chan string)\n",
    "\n",
    "// 声明只写的 channel\n",
    "make(chan<- string)\n",
    "```"
   ]
  },
  {
   "cell_type": "markdown",
   "metadata": {
    "slideshow": {
     "slide_type": "subslide"
    }
   },
   "source": [
    "单向 channel 一般用户函数参数，限定函数对 channel 的使用：\n",
    "\n",
    "```go\n",
    "// 只允许函数内写入 channel\n",
    "func ping(pings chan<- string, msg string) {\n",
    "    pings <- msg\n",
    "}\n",
    "\n",
    "\n",
    "// 只允许读取 channel\n",
    "func pong(pings <-chan string, pongs chan<- string) {\n",
    "    msg := <-pings\n",
    "    pongs <- msg\n",
    "}\n",
    "```"
   ]
  },
  {
   "cell_type": "markdown",
   "metadata": {
    "slideshow": {
     "slide_type": "subslide"
    }
   },
   "source": [
    "### 锁\n",
    "\n",
    "sync 包提供了一系列并发同步的工具：\n",
    "\n",
    "* Mutex\n",
    "* RWMutex\n",
    "* Once\n",
    "* WaitGroup\n",
    "* Cond\n",
    "* Map\n",
    "* Pool"
   ]
  },
  {
   "cell_type": "markdown",
   "metadata": {
    "slideshow": {
     "slide_type": "fragment"
    }
   },
   "source": [
    "因为是面向初学者，我就简单介绍其中的一部分工具了"
   ]
  },
  {
   "cell_type": "markdown",
   "metadata": {
    "slideshow": {
     "slide_type": "subslide"
    }
   },
   "source": [
    "#### Mutex\n",
    "\n",
    "互斥锁 sync.Mutex\n",
    "\n",
    "既然是并发，就绕不开资源竞争（race condition）和敏感区（critical section），所以需要使用锁来进行访问控制。\n",
    "\n",
    "```go\n",
    "// 互斥锁的基本操作\n",
    "l := sync.Mutex{}\n",
    "\n",
    "l.Lock()\n",
    "l.UnLock()\n",
    "```\n",
    "\n",
    "比较简单，就不多说了，可以嵌套在其他类型里做访问控制\n",
    "\n",
    "```go\n",
    "type struct Demo {\n",
    "    sync.Mutex\n",
    "    Field string\n",
    "}\n",
    "```"
   ]
  },
  {
   "cell_type": "markdown",
   "metadata": {
    "slideshow": {
     "slide_type": "subslide"
    }
   },
   "source": [
    "#### Cond 条件锁\n",
    "\n",
    "一种基于等待和通知的同步机制，常用的方法有：\n",
    "\n",
    "- .Wait()：等待唤醒\n",
    "- .Signal()：唤醒一个 Wait\n",
    "- .Broadcase()：唤醒所有 Wait\n",
    "- .L：获取到内部的互斥锁\n",
    "\n",
    "\n",
    "```go\n",
    "func runWithCond(cond *sync.Cond, f func()) {\n",
    "    defer cond.Signal()  // 唤醒一个 cond.Wait\n",
    "    f()\n",
    "}\n",
    "\n",
    "// 创建 condition 需要传入一个锁住的互斥锁\n",
    "lock := &sync.Mutex{}\n",
    "lock.Lock()\n",
    "cond := sync.NewCond( lock)  // 返回一个 *cond 指针\n",
    "go runWithCond(cond, output1)\n",
    "cond.Wait()\n",
    "```\n"
   ]
  },
  {
   "cell_type": "markdown",
   "metadata": {
    "slideshow": {
     "slide_type": "subslide"
    }
   },
   "source": [
    "#### WaitGroup\n",
    "\n",
    "专门用于同步多个 goroutine 的工具\n",
    "\n",
    "用于同步 goroutine 的工具\n",
    "\n",
    "```go\n",
    "func goroutineDemo(wg *sync.WaitGroup) {\n",
    "    defer wg.Done()  // Done 会使 wg 的计数减一\n",
    "}\n",
    "\n",
    "func main() {\n",
    "    wg := &sync.WaitGroup{}\n",
    "    wg.Add(2)  // 给 wg 的计数增加 2\n",
    "    go goroutineDemo(wg)\n",
    "    go goroutineDemo(wg)\n",
    "    wg.Wait()  // 等待 wg 的计数清零\n",
    "}\n",
    "```"
   ]
  },
  {
   "cell_type": "markdown",
   "metadata": {
    "slideshow": {
     "slide_type": "subslide"
    }
   },
   "source": [
    "#### sync.Map\n",
    "\n",
    "go 中的 map 并不是 thread-safe 的，所以在多个 goroutine 进行并发写入的时候，go 会直接报错。\n",
    "\n",
    "在 goroutine 中，应使用 `sync.Map`\n",
    "\n",
    "```go\n",
    "\n",
    "var m = &sync.Map{}\n",
    "\n",
    "// 存数据\n",
    "m.Load(key)\n",
    "\n",
    "// 取数据\n",
    "m.Store(key, valg)\n",
    "\n",
    "// 删数据\n",
    "m.Delete(key)\n",
    "\n",
    "// 遍历\n",
    "func (m *Map) Range(f func(key, value interface{}) bool)\n",
    "\n",
    "```\n"
   ]
  },
  {
   "cell_type": "markdown",
   "metadata": {
    "slideshow": {
     "slide_type": "subslide"
    }
   },
   "source": [
    "回头再看一下这个列表，简单一句话过一遍，就不细讲了：\n",
    "\n",
    "* Mutex：互斥锁\n",
    "* RWMutex：读写锁，允许多读\n",
    "* Once：单次运行\n",
    "* WaitGroup：等待一组 goroutine\n",
    "* Cond：Condition 锁\n",
    "* Map：goutine 安全的 map\n",
    "* Pool：内存池，用来缓存类型，高频创建类型时提高性能"
   ]
  },
  {
   "cell_type": "markdown",
   "metadata": {
    "slideshow": {
     "slide_type": "subslide"
    }
   },
   "source": [
    "### runtime\n",
    "\n",
    "v1.5 以前，goroutine 默认只会使用一个 CPU，使用多核的话，需要调整 runtime 的参数。\n",
    "\n",
    "runtime 的几个常用方法：\n",
    "\n",
    "全局设定，一般在 main 函数内调用：\n",
    "\n",
    "* `runtime.NumCPU()`  // 返回当前系统的 CPU 数\n",
    "* `runtime.GOMAXPROCS(n)`  // 设置可用的 CPU 数（v1.5 后不用再设置了）\n",
    "\n",
    "goroutine 内的操作：\n",
    "\n",
    "* `runtime.Gosched()`  // 让出 CPU\n",
    "* `runtime.Goexit()`  // 退出当前 goroutine"
   ]
  },
  {
   "cell_type": "markdown",
   "metadata": {
    "slideshow": {
     "slide_type": "slide"
    }
   },
   "source": [
    "## GC\n",
    "\n",
    "GC 是 go 早期版本（1.6 以前）饱受诟病的地方，1.2 版本中，stop-the-world pause 经常高达数秒。\n",
    "\n",
    "从 1.5 开始采用 concurrent gc，并在后续的几个版本里着重优化 gc，在 1.9 及以后的版本中，中断时间基本可以维持在 1 ms 以下（和堆中的数据数量相关）。\n",
    "\n",
    "我们可以直观的感受下 go 的开发团队对 gc 的优化是多么的富有成效"
   ]
  },
  {
   "cell_type": "markdown",
   "metadata": {
    "slideshow": {
     "slide_type": "subslide"
    }
   },
   "source": [
    "### 1.5\n",
    "\n",
    "![](https://s1.laisky.com/images/golang-1.5.png)"
   ]
  },
  {
   "cell_type": "markdown",
   "metadata": {
    "slideshow": {
     "slide_type": "subslide"
    }
   },
   "source": [
    "### 1.6\n",
    "\n",
    "![](https://s1.laisky.com/images/golang-1.6.jpg)"
   ]
  },
  {
   "cell_type": "markdown",
   "metadata": {
    "slideshow": {
     "slide_type": "subslide"
    }
   },
   "source": [
    "### 1.8\n",
    "\n",
    "![](https://s1.laisky.com/images/golang-1.8.jpg)"
   ]
  },
  {
   "cell_type": "markdown",
   "metadata": {
    "slideshow": {
     "slide_type": "subslide"
    }
   },
   "source": [
    "### 简介\n",
    "\n",
    "Go 的 GC 是 concurrent GC，使用了三色标识法就行回收，所以只有在最终的回收阶段会出现 stop-the-world pause。\n",
    "\n",
    "这种做法的优点是暂定时间短，可以实现相当低的延迟（low latency）。缺点是因为并发运行，会牺牲掉一些性能（throughput）。不过因为 goroutine 的效率相当高，所以整体性能也非常可观。"
   ]
  },
  {
   "cell_type": "markdown",
   "metadata": {
    "slideshow": {
     "slide_type": "slide"
    }
   },
   "source": [
    "## 发布\n",
    "\n",
    "Go 的发布非常简单，只需要使用 `$go build .` 打包成二进制文件后，就可以直接发布到服务器上运行"
   ]
  },
  {
   "cell_type": "markdown",
   "metadata": {
    "slideshow": {
     "slide_type": "subslide"
    }
   },
   "source": [
    "可以使用 docker 的 multi stage build，先编译 go 二进制文件，然后再把二进制文件拷贝进一个干净的新容器发布，极大的节省空间：\n",
    "\n",
    "```\n",
    "FROM golang:1.9.4-alpine3.6 AS gobin\n",
    "RUN mkdir -p /go/src/pateo.com/go-ramjet\n",
    "RUN apk update && apk upgrade && \\\n",
    "    apk add --no-cache bash git openssh\n",
    "ADD . /go/src/pateo.com/go-ramjet\n",
    "WORKDIR /go/src/pateo.com/go-ramjet\n",
    "RUN go build main.go\n",
    "\n",
    "FROM alpine:3.6\n",
    "COPY --from=gobin /go/src/pateo.com/go-ramjet/main .\n",
    "CMD [\"./main\"]\n",
    "```\n",
    "\n",
    "比如我目前在做一个程序，二进制文件 15M，打包成镜像后仅 20M，压缩后发布，仅需要传输 7MB 即可直接运行。"
   ]
  },
  {
   "cell_type": "markdown",
   "metadata": {
    "slideshow": {
     "slide_type": "slide"
    }
   },
   "source": [
    "## 编码规范\n",
    "\n",
    "最后来简单的总结一下 golang 的编码规范"
   ]
  },
  {
   "cell_type": "markdown",
   "metadata": {
    "slideshow": {
     "slide_type": "subslide"
    }
   },
   "source": [
    "## 注释 \n",
    "\n",
    "### 包\n",
    "\n",
    "每个包都应该有一个包注释，包如果有多个go文件，就只需要在入口文件写包注释。\n",
    "第一行以 Package 开头。\n",
    "\n",
    "```go\n",
    "// Copyright 2009 The Go Authors. All rights reserved.\n",
    "// Use of this source code is Governed by a BSD-style\n",
    "// license that can be found in the LICENSE file.\n",
    " \n",
    "// Package strings implements simple functions to manipulate strings.\n",
    "package strings\n",
    "```"
   ]
  },
  {
   "cell_type": "markdown",
   "metadata": {
    "slideshow": {
     "slide_type": "subslide"
    }
   },
   "source": [
    "### 函数\n",
    "\n",
    "可导出函数必须要有注释，第一行以函数名开头\n",
    "\n",
    "可导出的函数以大写字母开头\n",
    "\n",
    "```go\n",
    "// Compile parses a regular expression and returns, if successful, a Regexp\n",
    "// object that can be used to match against text.\n",
    "func Compile(str string) (regexp *Regexp, err error) {\n",
    "\n",
    "// Request represents a request to run a command.\n",
    "type Request struct { ...\n",
    "```"
   ]
  },
  {
   "cell_type": "markdown",
   "metadata": {
    "slideshow": {
     "slide_type": "subslide"
    }
   },
   "source": [
    "### 生成文档\n",
    "\n",
    "go 可以非常简单的生成网页版的文档，仅仅需要执行\n",
    "\n",
    "```sh\n",
    "godoc <package_name> --http=:12800\n",
    "\n",
    "\n",
    "# 或者直接进入项目根目录\n",
    "godoc --http=:12800\n",
    "```"
   ]
  },
  {
   "cell_type": "markdown",
   "metadata": {
    "slideshow": {
     "slide_type": "subslide"
    }
   },
   "source": [
    "![document](https://s3.laisky.com/images/go-document.png)"
   ]
  },
  {
   "cell_type": "markdown",
   "metadata": {
    "slideshow": {
     "slide_type": "subslide"
    }
   },
   "source": [
    "### 命名\n",
    "\n",
    "- 全局变量：驼峰式，可导出的使用大写字母开头\n",
    "- 参数传递：驼峰式，小写字母开头\n",
    "- 局部变量：下划线风格命名"
   ]
  },
  {
   "cell_type": "markdown",
   "metadata": {
    "slideshow": {
     "slide_type": "subslide"
    }
   },
   "source": [
    "### import\n",
    "\n",
    "```go\n",
    "import (\n",
    "    \"encoding/json\"         //标准包\n",
    "    \"strings\"\n",
    "\n",
    "    \"myproject/models\"      //内部包\n",
    "    \"myproject/utils\"\n",
    "\n",
    "    \"github.com/go-sql-driver/mysql\"    //第三方包\n",
    ")\n",
    "```"
   ]
  },
  {
   "cell_type": "markdown",
   "metadata": {
    "slideshow": {
     "slide_type": "subslide"
    }
   },
   "source": [
    "不要使用相对路径\n",
    "\n",
    "```go\n",
    "// 这是不好的导入\n",
    "import \"../net\"\n",
    " \n",
    "// 这是正确的做法\n",
    "import \"github.com/repo/proj/src/net\"\n",
    "```"
   ]
  },
  {
   "cell_type": "markdown",
   "metadata": {
    "slideshow": {
     "slide_type": "slide"
    }
   },
   "source": [
    "今天的基础介绍就到这里。\n",
    "\n",
    "谢谢各位的参与和倾听。\n",
    "\n",
    "中国作为 Golang 社区最活跃的国家，网上有大量的 golang 中文资料，建议各位都回去搜一搜，找到本自己喜欢的材料，认真阅读。（不用太挑教材，入门阶段都大同小异）"
   ]
  }
 ],
 "metadata": {
  "celltoolbar": "Slideshow",
  "kernelspec": {
   "display_name": "Python 3",
   "language": "python",
   "name": "python3"
  },
  "language_info": {
   "codemirror_mode": {
    "name": "ipython",
    "version": 3
   },
   "file_extension": ".py",
   "mimetype": "text/x-python",
   "name": "python",
   "nbconvert_exporter": "python",
   "pygments_lexer": "ipython3",
   "version": "3.6.2"
  }
 },
 "nbformat": 4,
 "nbformat_minor": 2
}
