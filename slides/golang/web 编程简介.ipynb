{
 "cells": [
  {
   "cell_type": "markdown",
   "metadata": {
    "slideshow": {
     "slide_type": "slide"
    }
   },
   "source": [
    "# Web 编程"
   ]
  },
  {
   "cell_type": "markdown",
   "metadata": {
    "slideshow": {
     "slide_type": "subslide"
    }
   },
   "source": [
    "## 概述\n",
    "\n",
    "经过了上周的\n",
    "\n",
    "简单介绍一下使用 golang 进行 web 开发的方方面面。"
   ]
  },
  {
   "cell_type": "markdown",
   "metadata": {
    "slideshow": {
     "slide_type": "subslide"
    }
   },
   "source": [
    "![slides](https://s2.laisky.com/images/go-lesson-slides-2.jpg)\n",
    "\n",
    "**https://s3.laisky.com/public/slides/**"
   ]
  },
  {
   "cell_type": "markdown",
   "metadata": {
    "slideshow": {
     "slide_type": "subslide"
    }
   },
   "source": [
    "## 框架\n",
    "\n",
    "beego 是一款国人开发的网络框架，连续数年被评为 golang 最热门的框架，而且有大量的中文资料。本文就以 beego 为例，来介绍如何使用 golang 进行 web 开发。\n",
    "\n",
    "![frameworks](https://s2.laisky.com/images/go-webframeworks-2017.jpg)"
   ]
  },
  {
   "cell_type": "markdown",
   "metadata": {},
   "source": [
    "### 架构\n",
    "\n",
    "网络服务器的基本结构图：\n",
    "\n"
   ]
  },
  {
   "cell_type": "markdown",
   "metadata": {},
   "source": [
    "## 建立项目\n",
    "\n"
   ]
  }
 ],
 "metadata": {
  "celltoolbar": "Slideshow",
  "kernelspec": {
   "display_name": "Python 3",
   "language": "python",
   "name": "python3"
  },
  "language_info": {
   "codemirror_mode": {
    "name": "ipython",
    "version": 3
   },
   "file_extension": ".py",
   "mimetype": "text/x-python",
   "name": "python",
   "nbconvert_exporter": "python",
   "pygments_lexer": "ipython3",
   "version": "3.6.2"
  }
 },
 "nbformat": 4,
 "nbformat_minor": 2
}
