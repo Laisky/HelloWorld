{
 "cells": [
  {
   "cell_type": "markdown",
   "metadata": {},
   "source": []
  },
  {
   "cell_type": "markdown",
   "metadata": {},
   "source": [
    "![slides](https://s2.laisky.com/images/go-lesson-slides-3.jpg)\n",
    "\n",
    "**https://s3.laisky.com/public/slides/**"
   ]
  },
  {
   "cell_type": "markdown",
   "metadata": {},
   "source": [
    "## 测试\n",
    "\n",
    "创建以 `_test.go` 结尾的测试文件，在其中编写以 `Test` 开头的测试函数，以 `t *testing.T` 为参数，该参数提供了 `.Errorf` 和 `.Fatal` 函数，可以输出测试失败的提示。\n",
    "\n",
    "* `t.Errorf`：输出错误信息，但是会继续测试\n",
    "* `t.Fatal`：输出错误信息，并停止测试"
   ]
  },
  {
   "cell_type": "markdown",
   "metadata": {},
   "source": [
    "```go\n",
    "// stringutil_test.go\n",
    "package stringutil\n",
    "\n",
    "import \"testing\"\n",
    "\n",
    "// 测试函数以 Test 开头\n",
    "func TestReverse(t *testing.T) {\n",
    "    cases := []struct {\n",
    "        in, want string\n",
    "    }{\n",
    "        {\"Hello, world\", \"dlrow ,olleH\"},\n",
    "        {\"Hello, 世界\", \"界世 ,olleH\"},\n",
    "        {\"\", \"\"},\n",
    "    }\n",
    "    for _, c := range cases {\n",
    "        got := Reverse(c.in)  // 调用原函数，获取输出结果\n",
    "        if got != c.want {\n",
    "            // 测试未通过，输出错误信息\n",
    "            t.Errorf(\"Reverse(%q) == %q, want %q\", c.in, got, c.want)\n",
    "        }\n",
    "    }\n",
    "}\n",
    "```\n",
    "\n",
    "运行 `go test .` 即可"
   ]
  },
  {
   "cell_type": "markdown",
   "metadata": {},
   "source": [
    "### Benckmark\n",
    "\n",
    "利用 testing 模块，还可以很简单的写 benchmark：\n",
    "\n",
    "```go\n",
    "func Fib(n int) int {\n",
    "    if n < 2 {\n",
    "        return n\n",
    "    }\n",
    "    return Fib(n-1) + Fib(n-2)\n",
    "}\n",
    "\n",
    "// 文件名也必须以 _test.go 结尾\n",
    "// 函数名以 Benchmark 开头\n",
    "// 参数使用 *testing.B\n",
    "func BenchmarkFib10(b *testing.B) {\n",
    "    // run the Fib function b.N times\n",
    "    for n := 0; n < b.N; n++ {\n",
    "        Fib(10)\n",
    "    }\n",
    "}\n",
    "\n",
    "```"
   ]
  },
  {
   "cell_type": "markdown",
   "metadata": {},
   "source": [
    "然后运行：\n",
    "\n",
    "```sh\n",
    "go test -bench=. go_test.go\n",
    "\n",
    "\n",
    "\n",
    "➜  golang git:(master) ✗ go test -bench=. go_test.go\n",
    "goos: darwin\n",
    "goarch: amd64\n",
    "BenchmarkFib10-4         3000000               453 ns/op\n",
    "PASS\n",
    "ok      command-line-arguments  1.839s\n",
    "```"
   ]
  }
 ],
 "metadata": {
  "celltoolbar": "Slideshow",
  "kernelspec": {
   "display_name": "Python 3",
   "language": "python",
   "name": "python3"
  },
  "language_info": {
   "codemirror_mode": {
    "name": "ipython",
    "version": 3
   },
   "file_extension": ".py",
   "mimetype": "text/x-python",
   "name": "python",
   "nbconvert_exporter": "python",
   "pygments_lexer": "ipython3",
   "version": "3.6.2"
  }
 },
 "nbformat": 4,
 "nbformat_minor": 2
}
