{
 "cells": [
  {
   "cell_type": "markdown",
   "metadata": {
    "slideshow": {
     "slide_type": "slide"
    }
   },
   "source": [
    "常见加密技术介绍\n",
    "===\n",
    "\n",
    "言简意赅的介绍一些常见的加密结束，并简要介绍其优缺点。\n",
    "\n",
    "过程中有疑问欢迎提问。"
   ]
  },
  {
   "cell_type": "markdown",
   "metadata": {
    "slideshow": {
     "slide_type": "subslide"
    }
   },
   "source": [
    "为什么需要加密\n",
    "===\n",
    "\n",
    "这个我就不介绍了"
   ]
  },
  {
   "cell_type": "markdown",
   "metadata": {
    "slideshow": {
     "slide_type": "slide"
    }
   },
   "source": [
    "凯撒密码\n",
    "===\n",
    "\n",
    "最早有记载的密码大概就是凯撒密码。\n",
    "\n",
    "军事情报是很重要的信息，为了保密，凯撒想出了一种办法来加密他与将军间的通信。"
   ]
  },
  {
   "cell_type": "markdown",
   "metadata": {
    "slideshow": {
     "slide_type": "subslide"
    }
   },
   "source": [
    "![](http://laisky-blog.qiniudn.com/srceen_shot%202016-09-19%20at%2010.29.27.jpg)\n",
    "\n",
    "其实原理很简单，每个字母都被其后几位的字母替换（就是顺位移动）"
   ]
  },
  {
   "cell_type": "markdown",
   "metadata": {
    "slideshow": {
     "slide_type": "subslide"
    }
   },
   "source": [
    "但是这个密码很容易就被破解了，因为他没有改变字母顺序和频率。\n",
    "\n",
    "![](http://laisky-blog.qiniudn.com/Histogramme_fre%CC%81quence_texte_francais.png)\n",
    "\n",
    "通过词频分析，很容易破解凯撒密码的移动位数"
   ]
  },
  {
   "cell_type": "markdown",
   "metadata": {
    "slideshow": {
     "slide_type": "slide"
    }
   },
   "source": [
    "维吉尼亚密码\n",
    "===\n",
    "\n",
    "凯撒密码的位移很容易被推敲出来，所以我们需要更好的能够隐藏词频的加密方法，于是有了 凯撒密码v2.0 —— 维吉尼亚密码。\n",
    "\n",
    "这个密码在历史上被重复发明了多次，也被称作维热纳尔方阵（Vigenère square）"
   ]
  },
  {
   "cell_type": "markdown",
   "metadata": {
    "slideshow": {
     "slide_type": "subslide"
    }
   },
   "source": [
    "维吉尼亚密码就是就是把 26 个凯撒密码排列起来\n",
    "\n",
    "![](http://laisky-blog.qiniudn.com/864px-Vigene%CC%80re_square.svg.png)\n",
    "\n",
    "维吉尼亚密码解决了字母序的问题，因为一个字母可能会被替换为不同的字母。\n",
    "\n",
    "但是其核心本质仍然是一系列替换密码的重复，所以可以通过分享重续“字母片段”的平均间隔长度，计算出秘钥长度，然后再进行分析。"
   ]
  },
  {
   "cell_type": "markdown",
   "metadata": {
    "slideshow": {
     "slide_type": "slide"
    }
   },
   "source": [
    "恩格码 Enigma\n",
    "===\n",
    "\n",
    "上面提到的所有替换式密码都有个致命的弱点：很容易被词频分析破解。\n",
    "\n",
    "除非有一种“每加密一个字母就更换一次密码表并且永不重复”的加密方法，才能彻底的打乱词频。\n",
    "\n",
    "于是二战时逆天的德国佬就折腾出了这玩意儿。"
   ]
  },
  {
   "cell_type": "markdown",
   "metadata": {
    "slideshow": {
     "slide_type": "subslide"
    }
   },
   "source": [
    "恩格码由三个错位的转子所组成，每个转子上印着 26 个字母，前一个转子的字母会被后一个转子上错位的字母所替换。\n",
    "\n",
    "每一个字母会被替换三次。"
   ]
  },
  {
   "cell_type": "markdown",
   "metadata": {
    "slideshow": {
     "slide_type": "subslide"
    }
   },
   "source": [
    "![](http://laisky-blog.qiniudn.com/c5a95796c74f1d76c93c5139de6feaf5_b.jpg)"
   ]
  },
  {
   "cell_type": "markdown",
   "metadata": {
    "slideshow": {
     "slide_type": "subslide"
    }
   },
   "source": [
    "如果只是这样的话，每个字母依然只有唯一的替换方案。所以…\n",
    "\n",
    "德国人制作的这个转子，每转一圈就会多转一格，改变替换序列，所以三个转字的恩格码提供的密码表达到了 26 * 26 * 26 = 17576 个。\n",
    "\n",
    "而且变态的德国人还将这三个转自设计成可交换的，一共有 6所以密码表达到了 17576 * 6 = 105456\n",
    "\n",
    "后期甚至还加入了插线板，将密码表的数目提高到了 10^16 量级。\n",
    "\n",
    "当然后来还是被阿兰图灵破掉了，细节可以观看电影《模仿游戏》"
   ]
  },
  {
   "cell_type": "markdown",
   "metadata": {
    "slideshow": {
     "slide_type": "slide"
    }
   },
   "source": [
    "移位式密码\n",
    "===\n",
    "\n",
    "前面介绍了几种都属于替换式密码，都将源码进行了替换。除此之外，还有移位式密码。\n",
    "\n"
   ]
  },
  {
   "cell_type": "markdown",
   "metadata": {
    "slideshow": {
     "slide_type": "subslide"
    }
   },
   "source": [
    "![](http://laisky-blog.qiniudn.com/srceen_shot%202016-09-19%20at%2010.49.00.jpg)\n",
    "\n",
    "按照秘钥（CAT）的字母序进行重排\n",
    "\n",
    "THE SKY IS BLUE -> HKSU TSIL EYBE"
   ]
  },
  {
   "cell_type": "markdown",
   "metadata": {
    "slideshow": {
     "slide_type": "slide"
    }
   },
   "source": [
    "DES & AES\n",
    "===\n",
    "\n",
    "DES(Data Encryption Standard)使用 64 位长的密码块，其中有 8 位校验码，所以实际秘钥长度为 56 位，这么短的秘钥很容易被暴力破解，所以这已经是不安全的加密方式。同样不安全的还有 RC4。\n",
    "\n",
    "现在推荐使用的是 AES-256"
   ]
  },
  {
   "cell_type": "markdown",
   "metadata": {
    "slideshow": {
     "slide_type": "subslide"
    }
   },
   "source": [
    "上面提到的所有的加密方式，都是“对称加密”，也就是，加密和解密使用同一份秘钥。\n",
    "\n",
    "对称加密的优点是假解密速度较快，只要有密码表，基本都是 O(n) 的操作。\n",
    "\n",
    "然后也有一个很容易致命的缺点，那就是秘钥的传输必须安全可靠，发送者和接收者必须能安全的传输秘钥，并同样安全的定期更新。"
   ]
  },
  {
   "cell_type": "markdown",
   "metadata": {
    "slideshow": {
     "slide_type": "slide"
    }
   },
   "source": [
    "哈希\n",
    "===\n",
    "\n",
    "讲完对称加密，这里穿插讲一下哈希。"
   ]
  },
  {
   "cell_type": "markdown",
   "metadata": {
    "slideshow": {
     "slide_type": "subslide"
    }
   },
   "source": [
    "哈希算法也叫做摘要算法，是一种可以把任意长字符串计算为定长字符串的算法，具备以下特性：\n",
    "\n",
    "  - 不可逆性：不可能根据结果反算输入；\n",
    "  - 雪崩效应：输入文本的微小改变也会导致结果的大幅变化；\n",
    "  - 强抗碰撞性：已知一个输入文本，很难找出另一个具有相同输出结果的文本。\n",
    "  \n"
   ]
  },
  {
   "cell_type": "markdown",
   "metadata": {
    "slideshow": {
     "slide_type": "subslide"
    }
   },
   "source": [
    "因为哈希算法的特性，哈希被广泛的用于签名（signature）。\n",
    "\n",
    "签名可以用来校验元数据的完整性和可靠性，也可以用于只需要校验不需要取值的场合（如保存密码）。"
   ]
  },
  {
   "cell_type": "markdown",
   "metadata": {
    "slideshow": {
     "slide_type": "subslide"
    }
   },
   "source": [
    "常见的哈希算法有：\n",
    "\n",
    "  - MD5\n",
    "  - SHA1 \n",
    "  - SHA2(SHA-126, SHA-384, SHA-512)"
   ]
  },
  {
   "cell_type": "markdown",
   "metadata": {
    "slideshow": {
     "slide_type": "fragment"
    }
   },
   "source": [
    "其中 MD5 和 SHA1 都是不安全的。"
   ]
  },
  {
   "cell_type": "markdown",
   "metadata": {
    "slideshow": {
     "slide_type": "subslide"
    }
   },
   "source": [
    "说到破解哈希算法，就不得不提酷炫的“彩虹表”了。\n",
    "\n",
    "简单的说就是暴力破解。\n",
    "\n",
    "攻击者可以事先计算十亿个常用密码的哈希值，然后一一对比即可。\n",
    "\n",
    "所以呢，对应的办法就是 ———— 加盐。"
   ]
  },
  {
   "cell_type": "markdown",
   "metadata": {
    "slideshow": {
     "slide_type": "fragment"
    }
   },
   "source": [
    "本来是 ABCDDHFDFH#HF#HF#FHJKEHFKJE -> QWER\n",
    "\n",
    "现在是 ABCDDHFDFH#HF#HF#FHJKEHFKJE.1234567 -> PONE.1234567\n",
    "\n",
    "极大的增加了取值范围，基本杜绝了彩虹表"
   ]
  },
  {
   "cell_type": "markdown",
   "metadata": {
    "slideshow": {
     "slide_type": "slide"
    }
   },
   "source": [
    "非对称加密\n",
    "===\n",
    "\n",
    "为了解决秘钥传输的问题，所以出现了非堆成加密。\n",
    "\n",
    "非对称加密指的是：加密和解密使用不同的秘钥。所以信息发送者可以藏好私钥，再公开的传播公钥，就可以和任何想要通讯的人建立安全的连接。"
   ]
  },
  {
   "cell_type": "markdown",
   "metadata": {
    "slideshow": {
     "slide_type": "slide"
    }
   },
   "source": [
    "RSA\n",
    "===\n",
    "\n",
    "非对称加密中最出名的就算是 RSA 了，RSA是1977年由罗纳德·李维斯特（Ron Rivest）、阿迪·萨莫尔（Adi Shamir）和伦纳德·阿德曼（Leonard Adleman）一起提出的\n",
    "\n",
    "\n",
    "RSA 的可靠性依赖于大质数分解这一 NP 问题。假设有两个大质数 A 和 B，我可以轻易的计算 C = A * B，但是却很难从 C 逆运算得出 A 和 B。"
   ]
  },
  {
   "cell_type": "markdown",
   "metadata": {
    "slideshow": {
     "slide_type": "subslide"
    }
   },
   "source": [
    "一个简单的应用场景\n",
    "\n",
    "    - Alice 生成了共钥和私钥\n",
    "    - Bob 想要和 Alice 通话，于是请求 Alice 的公钥\n",
    "    - Bob 用公钥加密信息，传输给 Alice\n",
    "    - 只有 Alice 的私钥可以解密信息"
   ]
  },
  {
   "cell_type": "markdown",
   "metadata": {
    "slideshow": {
     "slide_type": "fragment"
    }
   },
   "source": [
    "但是这个简单的场景无法解决 MITM 攻击（Man In The Middle）。\n",
    "\n",
    "窃听者 Carol 可能也生成了一对公私钥，请求 Alice 的公钥，然后将自己的公钥传给 Bob"
   ]
  },
  {
   "cell_type": "markdown",
   "metadata": {
    "slideshow": {
     "slide_type": "subslide"
    }
   },
   "source": [
    "所以人们又发明了 数字证书 CA，\n",
    "\n",
    "  - Alice 向 CA 申请一份签名的公钥；\n",
    "  - Bob 内置一份 CA 公钥\n",
    "  - Bob 向 Alice 申请公钥\n",
    "  - Bob 用 CA 的公钥验证 Alice 的公钥\n",
    "  - Bob 用 Alice 的公钥加密信息并发送给 Alice"
   ]
  },
  {
   "cell_type": "markdown",
   "metadata": {
    "slideshow": {
     "slide_type": "subslide"
    }
   },
   "source": [
    "但是 CA 偶尔会误发，或者某些国家出于不可描述的原因控制签名机构，所以我们又有了 HTTP Public Key Pinning"
   ]
  },
  {
   "cell_type": "markdown",
   "metadata": {
    "slideshow": {
     "slide_type": "slide"
    }
   },
   "source": [
    "ECDH\n",
    "===\n",
    "\n",
    "关键词：前向安全性(Forward Secrecy)\n"
   ]
  },
  {
   "cell_type": "markdown",
   "metadata": {
    "slideshow": {
     "slide_type": "subslide"
    }
   },
   "source": [
    "再回忆一下 HTTPS RSA 秘钥交换的过程\n",
    "\n",
    "  - Bob 获取 Alice 的证书和公钥\n",
    "  - 验证后，Bob 生成随机数 A，用公钥加密后发送给 Alice\n",
    "  - Alice 生成随机数 B 返回给 Bob\n",
    "  - 双方根据 A 和 B，生成随机数 C\n",
    "  - 使用随机数 C 作为对称秘钥传输加密数据"
   ]
  },
  {
   "cell_type": "markdown",
   "metadata": {
    "slideshow": {
     "slide_type": "fragment"
    }
   },
   "source": [
    "其中，随机数 A 和 B 都是需要交换的，虽然只有 B 是公开传递的。\n",
    "\n",
    "一旦 Alice 的私钥泄漏，攻击者就可以获取随机数 A。\n",
    "\n",
    "所以攻击者可以长期保存所有的传输数据，直到有一天获取了 Alice 的私钥后，就可以解开过去全部的数据。"
   ]
  },
  {
   "cell_type": "markdown",
   "metadata": {
    "slideshow": {
     "slide_type": "subslide"
    }
   },
   "source": [
    "我们无法保证我们的服务器永不被破解，所以我们需要新的工具\n",
    "\n",
    "于是我们有了 ECDH，椭圆曲线算法。"
   ]
  },
  {
   "cell_type": "markdown",
   "metadata": {
    "slideshow": {
     "slide_type": "subslide"
    }
   },
   "source": [
    "## ECDH\n",
    "\n",
    "\n",
    "涉及到四个数：公开的计算标准 G 和 p，以及沟通双方的私钥：a 和 b\n",
    "\n",
    "![](http://laisky-blog.qiniudn.com/srceen_shot%202016-09-19%20at%2013.30.36.jpg)"
   ]
  },
  {
   "cell_type": "markdown",
   "metadata": {
    "slideshow": {
     "slide_type": "subslide"
    }
   },
   "source": [
    "在整个磋商过程中，双方的私钥 a 和 b 完全没有传输。\n",
    "\n",
    "而且每一次的会话，双方都会重新生成全新的 a 和 b。确保“会话”的绝对安全性。\n",
    "\n",
    "打引号是因为目前仍然有人质疑 ECDH 的安全性，换言之，其 NP 特性尚未证明。\n",
    "\n",
    "同等长度的 ECDH 秘钥的计算难度约等于十倍长度的 RSA，所以 ECDH 是一种更高效的加密方法，用更少的计算时间实现同等级别的加密。"
   ]
  }
 ],
 "metadata": {
  "celltoolbar": "Slideshow",
  "kernelspec": {
   "display_name": "Python 3",
   "language": "python",
   "name": "python3"
  },
  "language_info": {
   "codemirror_mode": {
    "name": "ipython",
    "version": 3
   },
   "file_extension": ".py",
   "mimetype": "text/x-python",
   "name": "python",
   "nbconvert_exporter": "python",
   "pygments_lexer": "ipython3",
   "version": "3.5.1"
  }
 },
 "nbformat": 4,
 "nbformat_minor": 0
}
