{
 "cells": [
  {
   "cell_type": "markdown",
   "id": "d73516f5",
   "metadata": {
    "slideshow": {
     "slide_type": "slide"
    }
   },
   "source": [
    "# TEE - 数据安全新范式\n",
    "\n",
    "Laisky Cai"
   ]
  },
  {
   "cell_type": "markdown",
   "id": "e4840aef",
   "metadata": {
    "slideshow": {
     "slide_type": "fragment"
    }
   },
   "source": [
    "本次分享主要想介绍一下基于硬件的机密计算 TEE 领域，这很可能代表着下一个时代的标准安全基座。\n",
    "\n",
    "本次主要是概念普及和基础原理介绍，不需要相关背景知识。"
   ]
  },
  {
   "cell_type": "markdown",
   "id": "1c61327c",
   "metadata": {
    "slideshow": {
     "slide_type": "subslide"
    }
   },
   "source": [
    "* 本 slide 的在线浏览地址：<https://s3.laisky.com/public/slides/TEE-101.slides.html>\n",
    "    \n",
    "* 相关术语表: <https://wiki.laisky.com/terms/>\n",
    "\n",
    "![](https://s3.laisky.com/uploads/2023/06/tee-101-qr.png)"
   ]
  },
  {
   "cell_type": "markdown",
   "id": "b24d0629",
   "metadata": {
    "slideshow": {
     "slide_type": "slide"
    }
   },
   "source": [
    "## Background\n",
    "\n",
    "本次课程的大纲会按照 What、Why、How 来组织。\n",
    "\n",
    "首先先通过 What 来熟悉一些概念。"
   ]
  },
  {
   "cell_type": "markdown",
   "id": "ab333527",
   "metadata": {
    "slideshow": {
     "slide_type": "subslide"
    }
   },
   "source": [
    "### What is CC/TEE\n",
    "\n",
    "> Confidential Computing(CC) is the protection of data in use using hardware-based Trusted Execution Environments (TEE). \n",
    "\n",
    "一般将基于硬件实现的可信执行环境（TEE）称为机密计算（CC）。"
   ]
  },
  {
   "cell_type": "markdown",
   "id": "ebea1194",
   "metadata": {
    "slideshow": {
     "slide_type": "subslide"
    }
   },
   "source": [
    "### What is TEE\n",
    "\n",
    "> A trusted execution environment (TEE) is a secure area of a main processor. It helps code and data loaded inside be protected with respect to confidentiality and integrity. \n",
    "\n",
    "可信执行环境（TEE）是一种旨在为处理器上运行的数据提供完整性和机密性的保障。"
   ]
  },
  {
   "cell_type": "markdown",
   "id": "4f2d5e55",
   "metadata": {
    "slideshow": {
     "slide_type": "subslide"
    }
   },
   "source": [
    "### What is integrity\n",
    "\n",
    "> data integrity means maintaining and assuring the accuracy and completeness of data over its entire lifecycle. This means that data cannot be modified in an unauthorized or undetected manner.\n",
    "\n",
    "数据完整性指的是在数据的整个生命周期（lifecycle）中，都不会被恶意篡改。\n",
    "\n",
    "我们这里对数据采用广义的定义，即包括程序代码（算子）和处理和传输的数据。"
   ]
  },
  {
   "cell_type": "markdown",
   "id": "913f5ab7",
   "metadata": {
    "slideshow": {
     "slide_type": "subslide"
    }
   },
   "source": [
    "### Measure\n",
    "\n",
    "确保数据完整的方式，就称为“度量（Measurement）”，一般来说最常见的度量方式，就是计算比对数据的哈希摘要。"
   ]
  },
  {
   "cell_type": "markdown",
   "id": "ccaf8637",
   "metadata": {
    "slideshow": {
     "slide_type": "subslide"
    }
   },
   "source": [
    "### CIA Traid\n",
    "\n",
    "既然提到了完整性，就不能不提到设计一个安全系统时，不得不考虑的 CIA 不可能三角。\n",
    "\n",
    "在数据的完整生命周期中，同时保有如下三个特性的成本是非常高昂的，往往只能三者取其二。\n",
    "\n",
    "`Integrity & Confidentiality & Availability`\n",
    "\n",
    "一般来说 Integrity 是必要的，主要是在 Confidentiality 和 Availability 间做 tradeoff。越安全的就越难用，越好用的就越不安全。"
   ]
  },
  {
   "cell_type": "markdown",
   "id": "329ce018",
   "metadata": {
    "slideshow": {
     "slide_type": "subslide"
    }
   },
   "source": [
    "![](https://s3.laisky.com/uploads/twitter/FpsZwNmaQAQFhBI.png)"
   ]
  },
  {
   "cell_type": "markdown",
   "id": "088b6f50",
   "metadata": {
    "slideshow": {
     "slide_type": "subslide"
    }
   },
   "source": [
    "### What is Data Lifecycle\n",
    "\n",
    "前文多次提到数据生命周期。在安全领域，根据不同的防护设计理念，一般将数据的生命周期拆分为三个阶段：\n",
    "\n",
    "- at-rest: 数据的存储安全\n",
    "- in-transit: 数据的传输安全\n",
    "- in-use: 数据的运行时安全\n",
    "\n"
   ]
  },
  {
   "cell_type": "markdown",
   "id": "49f95734",
   "metadata": {
    "slideshow": {
     "slide_type": "subslide"
    }
   },
   "source": [
    "要介绍这三者的差异，就需要介绍为什么我们需要 TEE 了（WHY）\n",
    "\n",
    "![](https://s3.laisky.com/uploads/2022/09/three-states-of-data.png)"
   ]
  },
  {
   "cell_type": "markdown",
   "id": "45e04799",
   "metadata": {
    "slideshow": {
     "slide_type": "slide"
    }
   },
   "source": [
    "## 为什么需要机密计算\n",
    "\n",
    "本次分享的主题是“数据安全新范式”，在展开以前，先简单回顾一下过去的数据安全理念和挑战\n"
   ]
  },
  {
   "cell_type": "markdown",
   "id": "ce184861",
   "metadata": {
    "slideshow": {
     "slide_type": "subslide"
    }
   },
   "source": [
    "### 数据处理环境的变化：云时代\n",
    "\n",
    "<table border=\"0\" style=\"background-color: inherit\">\n",
    " <tr>\n",
    "    <td><img src=\"https://s3.laisky.com/uploads/2023/06/idc.png\"></td>\n",
    "    <td>\n",
    "        <p>过去，人们在自己维护的物理机器上运行程序。</p>\n",
    "        <p>物理机器、网络基础设施、操作系统和程序都是自己管理的， </p>\n",
    "        <p>主要的风险暴露面是外部网络或第三方程序。</p>\n",
    "     </td>\n",
    " </tr>\n",
    "</table>"
   ]
  },
  {
   "cell_type": "markdown",
   "id": "122d58bf",
   "metadata": {
    "slideshow": {
     "slide_type": "subslide"
    }
   },
   "source": [
    "对于第三方程序，我们可以只从可信的发布者那里获取程序，并且小心地度量程序的完整性。\n",
    "\n",
    "对于无法确认可信的程序，我们可以在虚拟机或沙箱（sandbox）中运行，以隔离其对物理机的影响。\n",
    "\n",
    "对于外部网络，我们可以小心地设置网络程序，尽量避免漏洞，\n",
    "同时设置防火墙，限制网络访问，以及使用加密协议，避免数据在公网上传输时被窃取。"
   ]
  },
  {
   "cell_type": "markdown",
   "id": "8667817a",
   "metadata": {
    "slideshow": {
     "slide_type": "subslide"
    }
   },
   "source": [
    "进入云时代以后，人们延续了过去的做法：小心翼翼地管理好自己的应用程序， 并且设置复杂的防火墙和安全组。\n",
    "\n",
    "以前做过的事情，我们在云上都做到了，\n",
    "甚至配合云上各类功能强大的 SaaS，看上去武器库更加丰富了，但这样真的就足够保护数据安全了吗？"
   ]
  },
  {
   "cell_type": "markdown",
   "id": "639d4a32",
   "metadata": {
    "slideshow": {
     "slide_type": "subslide"
    }
   },
   "source": [
    "从数据生命周期来分析：\n",
    "\n",
    "- at-rest: 通过 AES-XTS 等方式对持久化数据加密\n",
    "- in-transit: 通过 TLS 对数据传输进行加密\n",
    "- in-use: ？？"
   ]
  },
  {
   "cell_type": "markdown",
   "id": "c8e6aaaa",
   "metadata": {
    "slideshow": {
     "slide_type": "subslide"
    }
   },
   "source": [
    "很容易看出，在过去，人们对 in-use 运行时安全的防护是比较欠缺的。\n",
    "毕竟机器和操作系统都在我们自己的手中，除了内贼外很难被外人窥探。\n",
    "\n",
    "但是进入云时代后，最大的变化就是**物理机器和操作系统都不再完全仅处于我们的掌握之中**了。\n",
    "\n",
    "云厂商`（CSP, Cloud Service, Provider）`控制着物理机器、宿主机操作系统和虚拟机操作系统。\n",
    "你其实只是虚拟机操作系统上的一个特权用户而已。\n",
    "\n",
    "虚拟机上的一切数据，对于虚拟机操作系统、宿主机操作系统而言，都形同明文。"
   ]
  },
  {
   "cell_type": "markdown",
   "id": "69cd05a1",
   "metadata": {
    "slideshow": {
     "slide_type": "subslide"
    }
   },
   "source": [
    "### 数据流通的变化：新法规\n",
    "\n",
    "在互联网的野蛮生长阶段，对数据隐私的保护是很漠视的，基本上只要任何双方谈妥了，就可以进行数据交换。\n",
    "\n",
    "但是随着世界各国数据安全法的出炉，数据的跨境、跨域（法人域）流通的渠道逐步被法规堵死。\n",
    "如今甚至连同一个集团下的各个分公司数据，都不能轻易地再进行汇聚。"
   ]
  },
  {
   "cell_type": "markdown",
   "id": "8ae9a291",
   "metadata": {
    "slideshow": {
     "slide_type": "subslide"
    }
   },
   "source": [
    "不仅仅是法规要求，随着大数据时代和 AI 大模型时代的相继到来，数据的价值日益凸显，各个数据源对核心数据的保护也日益重视。\n",
    "\n",
    "这就为数据的隐私流通提出了新的挑战和机遇，这也是 MPC、FL、HE 等隐私计算算法蓬勃发展的根本动力。"
   ]
  },
  {
   "cell_type": "markdown",
   "id": "11e7bae7",
   "metadata": {
    "slideshow": {
     "slide_type": "subslide"
    }
   },
   "source": [
    "### 隐私数据流通的场景\n",
    "\n",
    "考虑到可能有对隐私计算不了解的同学，这里通过两个简单的例子，来试图形象地说明需要数据隐私流通的场景。\n",
    "\n",
    "从数据流通的角度来说，主要就两种场景：\n",
    "\n",
    "1. 你需要数据，如何使用他人的数据？\n",
    "2. 你拥有数据，如何将数据给他人使用？\n",
    "\n",
    "再提炼一下，其实是同一个核心需求：如何在不共享原始明文数据的前提下，实现数据价值"
   ]
  },
  {
   "cell_type": "markdown",
   "id": "a996f659",
   "metadata": {
    "slideshow": {
     "slide_type": "subslide"
    }
   },
   "source": [
    "#### 场景: 隐私求交\n",
    "\n",
    "你使用了一款社交 App，这款 App 可以根据通讯录帮你推荐好友。\n",
    "\n",
    "但是你不希望上传自己的通讯录（保护自己的数据），同时又希望 App 给你推荐你通讯录内的好友。\n",
    "\n",
    "隐私计算的目的，正是实现这类**数据可用不可见**的需求。"
   ]
  },
  {
   "cell_type": "markdown",
   "id": "7b91d3fe",
   "metadata": {
    "slideshow": {
     "slide_type": "subslide"
    }
   },
   "source": [
    "机密计算 TEE，则是在基于算法的隐私计算之外，提出了一条基于硬件的新的解决途径。\n",
    "\n",
    "TEE 和传统隐私计算相比最大的差异在于：\n",
    "\n",
    "1. 高性能，媲美原生应用\n",
    "2. 易用性，支持通用计算"
   ]
  },
  {
   "cell_type": "markdown",
   "id": "a3110ef9",
   "metadata": {
    "slideshow": {
     "slide_type": "fragment"
    }
   },
   "source": [
    "我个人认为，TEE 的实用路径比隐私计算还要更宽一些。\n",
    "TEE 不仅能解决隐私计算试图解决的数据共享问题，更是解决了数据全生命周期安全的问题。"
   ]
  },
  {
   "cell_type": "markdown",
   "id": "c28d24d2",
   "metadata": {
    "slideshow": {
     "slide_type": "slide"
    }
   },
   "source": [
    "## What is TEE\n",
    "\n",
    "这一章我会试图简要地介绍 TEE 的相关概念和方法论，不会做太细节的分析。"
   ]
  },
  {
   "cell_type": "markdown",
   "id": "60e4a1bd",
   "metadata": {
    "slideshow": {
     "slide_type": "subslide"
    }
   },
   "source": [
    "### SFI\n",
    "\n",
    "提到 TEE 时，我们都会强调一下 Hardwared-based TEE。这是因为理论上，\n",
    "也是存在 software-based TEE 的，如沙盒（sandbox）技术等。\n",
    "\n",
    "\n",
    "![](https://s3.laisky.com/uploads/2023/06/sandbox.jpg)"
   ]
  },
  {
   "cell_type": "markdown",
   "id": "809b30fe",
   "metadata": {
    "slideshow": {
     "slide_type": "subslide"
    }
   },
   "source": [
    "沙盒有时候又称为 `SFI, Software-based Fault Isolation`，顾名思义，这是一种依赖于软件实现的隔离技术。\n",
    "\n",
    "一般都依赖于操作系统内核提供的一系列功能来实现，如 cgroup、selinux 等，我们可以称 docker 就是一种沙盒。\n",
    "\n",
    "但是的一般认为基于软件的 TEE 不如基于硬件的 TEE 安全，这就需要介绍下如何大致地估量一个安全系统的安全性。"
   ]
  },
  {
   "cell_type": "markdown",
   "id": "641c1284",
   "metadata": {
    "slideshow": {
     "slide_type": "subslide"
    }
   },
   "source": [
    "### RoT\n",
    "\n",
    "信任根（RoT, Root of Trust），是一个安全系统的根基，是一个安全系统的最小可信计算单元。\n",
    "\n",
    "就像是你要证明一个数理系统以前，首先需要确立一系列的公理，这些公理是不需要证明的，你需要无条件的相信它们。\n",
    "\n",
    "RoT 就是安全系统里的公理，是你无条件相信的最小可信计算单元。\n",
    "当我们评估一个安全系统的设计的时候，首先要考虑的就是这个系统的 RoT 是什么，可信度怎么样。\n",
    "\n",
    "\n",
    "![](https://s3.laisky.com/uploads/2023/04/tee-101/tcb-base.jpeg)"
   ]
  },
  {
   "cell_type": "markdown",
   "id": "229c79fe",
   "metadata": {
    "slideshow": {
     "slide_type": "subslide"
    }
   },
   "source": [
    "### TCB\n",
    "\n",
    "可信计算基（TCB, Trusted Computing Base），是指实现的这个安全系统中，你需要相信的所有计算单元。是 RoT 的超集。\n",
    "\n",
    "习惯上用 TCB 指代你围绕 RoT 所构建的整个安全系统本身，包含各类固件、软件等。\n",
    "TCB 也是一个安全系统的重要指标，一旦 TCB 出现任何漏洞，整个安全系统的可信度都会受到影响。"
   ]
  },
  {
   "cell_type": "markdown",
   "id": "9c6ef663",
   "metadata": {
    "slideshow": {
     "slide_type": "subslide"
    }
   },
   "source": [
    "### Threat Modeling\n",
    "\n",
    "分析一个系统的安全性的这种系统性分析方法，就称为威胁建模（Threat Modeling）。\n",
    "\n",
    "最常见的方法，就是绘制出整个系统的实现设计图，从最底层的 RoT 开始，绘制出 TCB 的每一个组成部分，然后从内部和外部的攻击者的角度，分析每一个组件的安全性。"
   ]
  },
  {
   "cell_type": "markdown",
   "id": "eedbc4bc",
   "metadata": {
    "slideshow": {
     "slide_type": "subslide"
    }
   },
   "source": [
    "这是 docker 的威胁模型示意，画出架构图，并列举所有的威胁面\n",
    "\n",
    "![](https://s3.laisky.com/uploads/2023/06/docker-tm.png)"
   ]
  },
  {
   "cell_type": "markdown",
   "id": "33f00969",
   "metadata": {
    "slideshow": {
     "slide_type": "subslide"
    }
   },
   "source": [
    "软件 TEE 的安全性依赖于操作系统，仅能防范应用由内至外的攻击，对于由外至内，如来自操作系统向应用的攻击，软件 TEE 无能为力。\n",
    "\n",
    "换句话说，沙盒技术更多的用来保护平台不被应用攻击，而无法保护应用不被平台攻击。\n",
    "\n",
    "![](https://s3.laisky.com/uploads/2023/04/tee-101/csp-current.drawio.png)"
   ]
  },
  {
   "cell_type": "markdown",
   "id": "a5c3337c",
   "metadata": {
    "slideshow": {
     "slide_type": "subslide"
    }
   },
   "source": [
    "### Hardware-based RoT\n",
    "\n",
    "软件 TEE 的安全性依赖于操作系统，仅能防范应用由内至外的攻击，对于由外至内，如来自操作系统向应用的攻击，软件 TEE 无能为力。\n",
    "\n",
    "为了获取尽可能小的 TCB 和尽可能少的暴露面，我们需要将 RoT 放在硬件层面，即`硬件信任根（hardware-based RoT）`"
   ]
  },
  {
   "cell_type": "markdown",
   "id": "0bc8e389",
   "metadata": {
    "slideshow": {
     "slide_type": "subslide"
    }
   },
   "source": [
    "无论是 AMD、ARM 还是 Intel 的硬件 TEE 实现，其核心理念是一致的。\n",
    "\n",
    "在 CPU 上实现数据隔离和加密，软件通过和 CPU 的指令交互，来实现对敏感数据的加解密和访问。\n",
    "软件的完整性和机密性都通过 CPU 硬件/固件 来保证，从而实现了一个硬件信任根，尽可能地减少了 TCB 的大小。\n",
    "\n",
    "这些方案主要的区别，主要在于 TCB 的粒度：\n",
    "\n",
    "- 进程级：Intel SGX、ARM TrustZone\n",
    "- 虚拟机级：AMD SEV、Intel TDX、ARM CCA\n",
    "\n",
    "后文中，主要选择 Intel SGX 和 AMD SEV 进行简要介绍，这两者正好各自作为进程级和虚拟机级硬件 TEE 的代表。\n",
    "\n",
    "本次分享主要涉及通识概念，不会深入介绍细节，之后可能会有其他老师会具体介绍一些实现方案。"
   ]
  },
  {
   "cell_type": "markdown",
   "id": "9d4a9599",
   "metadata": {
    "slideshow": {
     "slide_type": "subslide"
    }
   },
   "source": [
    "### TEE 四要素\n",
    "\n",
    "无论如何实现，TEE 一般都应该实现如下几个通用功能：\n",
    "\n",
    "1. verifiable launch and remote attestation: 可信启动与远程证明\n",
    "2. runtime isolation / memory curtaining: 运行时隔离\n",
    "3. trusted I/O: 端到端加密、特权设备等\n",
    "4. secure storage / sealing: 持久化数据加解密\n",
    "\n",
    "> arXiv:2205.12742v1 - SoK: Hardware-supported Trusted Execution Environments"
   ]
  },
  {
   "cell_type": "markdown",
   "id": "b1d5c7ab",
   "metadata": {
    "slideshow": {
     "slide_type": "subslide"
    }
   },
   "source": [
    "用更通俗的话来表述，TEE 硬件应该能够提供如下功能\n",
    "\n",
    "1. 加载软件时，对软件进行度量，并能够向远程校验者（verifier）提供硬件签名的证明报告（QUOTE/REPORT）\n",
    "2. 通过隔离和加密，保护数据运行时（in-use）安全，\n",
    "3. 能够让 TEE 内的软件和外部设备间建立可信的通信\n",
    "4. 提供基于软件度量值的硬件派生密钥，让软件可以对数据进行加密持久化"
   ]
  },
  {
   "cell_type": "markdown",
   "id": "5bb686e0",
   "metadata": {
    "slideshow": {
     "slide_type": "subslide"
    }
   },
   "source": [
    "### SP & tamper-proof NVRAM\n",
    "\n",
    "一般来说，大部分硬件安全设备，最核心的部分都是一个加密处理器（SP, secure processor）和一个防破坏的非易失性存储器（tamper-proof NVRAM）。\n",
    "\n",
    "SP 提供密钥生成、密钥派生、加解密等计算功能，NVRAM 提供持久化存储功能。而且这个 NVRAM 是具有防御物理攻击的能力的，\n",
    "比如能够检测到外部的物理攻击，或者在物理攻击发生后，能够自动擦除数据。\n",
    "\n",
    "TEE 的硬件芯片也是这样，无论是 Intel 还是 AMD 的 CPU，出厂前，都会在 CPU 的 NVRAM 里生成一个硬件私钥，\n",
    "然后设备制造商给这个私钥签发一个证书，这个证书就是设备的唯一标识。\n",
    "\n",
    "而且这个证书就将 CPU 日后签发的证书和设备制造商的 RootCA 关联起来，\n",
    "日后你可以用设备制造商的 RootCA 来校验 CPU 签发的证书的合法性。\n"
   ]
  },
  {
   "cell_type": "markdown",
   "id": "0be40633",
   "metadata": {
    "slideshow": {
     "slide_type": "subslide"
    }
   },
   "source": [
    "### RA-TLS\n",
    "\n",
    "在远程证明（remote attestation）这个场景下，我们将运行于 TEE 内的程序称为 tester，将外部的校验者称为 verifier。\n",
    "\n",
    "一般来说 tester 拥有算力，而 verifier 拥有数据。\n",
    "\n",
    "verifier 信任某种 TEE 技术的安全性，也信任某个程序的行为。\n",
    "他愿意将自己的数据传输给运行于 TEE 之中的某个程序，并且确认这个程序不会泄露自己的数据。\n",
    "\n",
    "所以，tester 需要向 verifier 证明 TEE 环境的真实有效性以及自己程序的完整性。\n",
    "\n",
    "这一证明流程，就称为远程证明（remote attestation）。"
   ]
  },
  {
   "cell_type": "markdown",
   "id": "5f58fed9",
   "metadata": {
    "slideshow": {
     "slide_type": "subslide"
    }
   },
   "source": [
    "前面提到，TEE 在加载执行软件时，会对其进行度量，并记录软件的度量值（一般是哈希值）。\n",
    "\n",
    "TEE 硬件也会提供接口，让 TEE 程序可以生成一个由硬件私钥签名的报告（REPORT/QUOTE），这个报告会包含 TEE 环境和 tester 软件的度量值。\n",
    "\n",
    "为了防止 reply attack，生成报告时会允许注入一段限定长度的用户数据（chanllenge/nonce），\n",
    "这个数据也会被加到报告里并且一并被硬件签名，这样 verifier 就可以确认这个报告是实时生成的。\n",
    "\n",
    "```go\n",
    "// 一个伪代码的接口示意\n",
    "func GetReport(userData []byte) Report\n",
    "```\n",
    "\n",
    "verifier 通过设备制造商的 RootCA 就可以校验这份 Report 的真实性，然后就可以确认 TEE 环境的真实有效性和 tester 软件的完整性。"
   ]
  },
  {
   "cell_type": "markdown",
   "id": "9ebf6bc1",
   "metadata": {
    "slideshow": {
     "slide_type": "subslide"
    }
   },
   "source": [
    "根据上述特性，人们找到了一种在 verifier 和 tester 间建立 TLS 端对端加密通信的方法。\n",
    "\n",
    "#### verifier as Server\n",
    "\n",
    "如果 tester 是服务端，那么 tester 可以在 TEE 内启动后，生成一对公私钥和数字证书，然后用这个数字证书创建一个 TLS 服务端接口。\n",
    "\n",
    "当 verifier 发送一个 nonce 要求生成证书时，tester 可以通过如下方式生成证书\n",
    "\n",
    "```go\n",
    "// 将 verifier 发送的 nonce 拼接 tester 的 TLS 证书，取哈希后，生成一个证书\n",
    "report = GetReport(SHA256(cert + nonce))\n",
    "```\n",
    "\n",
    "verifier 可以执行相同的操作，将 tls peer certificate 和自己发送的 nonce 拼接后再校验报告。\n",
    "如果校验成功，说明当前的 tls 确实是和 TEE 内的 tester 建立了端对端的加密通信，杜绝了中间人攻击。"
   ]
  },
  {
   "cell_type": "markdown",
   "id": "df98a8b9",
   "metadata": {
    "slideshow": {
     "slide_type": "subslide"
    }
   },
   "source": [
    "这其中的几个要点在于：\n",
    "\n",
    "1. tester 的公私钥和数字证书一定要在 TEE 环境内动态生成，通过 TEE 保护其机密性\n",
    "2. tester 的证书摘要也要放进 REPORT，从而利用 RA 流程证明了证书的有效性\n",
    "\n",
    "因为是利用 RA 来实现 TLS，所以这一流程也被称为 RA-TLS。"
   ]
  },
  {
   "cell_type": "markdown",
   "id": "d14b338f",
   "metadata": {
    "slideshow": {
     "slide_type": "subslide"
    }
   },
   "source": [
    "但是需要注意的是，RA-TLS 和传统 TLS 并不完全兼容：\n",
    "\n",
    "1. 传统 TLS，客户端利用预先准备好的 RootCA 先校验对端证书，再建立 TLS 连接。\n",
    "2. RA-TLS，先建立 TLS 连接，然后再用 Report 校验对端证书。\n",
    "\n",
    "对证书的校验从先验变成了后验，你需要先 skip 证书校验建立 TLS 连接，然后再手动去校验 tls conn 的 peer 证书。\n"
   ]
  },
  {
   "cell_type": "markdown",
   "id": "546bab14",
   "metadata": {
    "slideshow": {
     "slide_type": "subslide"
    }
   },
   "source": [
    "#### verifier as client\n",
    "\n",
    "再来看看 RA-TLS 中 TEE 应用作为客户端的流程：\n",
    "\n",
    "1. tester 在 TEE 内动态生成一对公私钥和数字证书\n",
    "2. 使用证书作为 client certificate 向服务端发起 TLS 连接\n",
    "3. 客户端发送 REPORT，服务端校验 REPORT 和客户端证书，将该连接标记为可信\n",
    "\n",
    "可以看出，客户端模式采用的是 mTLS 流程，即客户端证书的方式去建立端到端加密通信。而且和服务端模式一样，对客户端证书也得采用后验的模式。"
   ]
  },
  {
   "cell_type": "markdown",
   "id": "6ec26251",
   "metadata": {
    "slideshow": {
     "slide_type": "subslide"
    }
   },
   "source": [
    "### Sealing\n",
    "\n",
    "前文已经介绍了 TEE 实现数据 in-use 和 in-transit 安全，接下来介绍一下数据 at-rest 安全。\n",
    "\n",
    "TEE 的硬件芯片都会提供密钥派生（key derive）的功能，可以根据软件度量值，从硬件根密钥派生出一个 Sealing Key。\n",
    "\n",
    "TEE 应用可以将这个 Sealing Key 用于对称加密，从而实现数据 at-rest 安全。\n",
    "\n",
    "因为 TEE 硬件的根密钥不会变，只要软件的度量值没有变，那么 Sealing Key 就不会变，这样就可以保证数据的可解密性。"
   ]
  },
  {
   "cell_type": "markdown",
   "id": "f8b8a2d0",
   "metadata": {
    "slideshow": {
     "slide_type": "subslide"
    }
   },
   "source": [
    "#### Fragility / Brittleness\n",
    "\n",
    "基于 Sealing Key 做持久化加密存在一个问题，就是这个密钥和软件的度量值是绑定的，一旦软件升级，度量值就会变，密钥也会变，从而导致无法解密旧数据。\n",
    "\n",
    "所以主流的硬件密钥派生接口，都会提供两种不同的派生方式：\n",
    "\n",
    "1. 基于软件度量值进行派生\n",
    "2. 基于软件的公钥进行派生\n",
    "\n",
    "软件开发商（ISV, Independent Software Vendor）可以用自己的私钥为 TEE 软件进行签名，然后将签名和公钥一起打包进 TEE 软件。\n",
    "TEE 硬件可以根据公钥派生密钥。这样，可以实现让持有相同公钥的不同软件，都可以派生出相同的密钥，从而实现加密数据的共享。"
   ]
  },
  {
   "cell_type": "markdown",
   "id": "25fa1166",
   "metadata": {
    "slideshow": {
     "slide_type": "subslide"
    }
   },
   "source": [
    "Sealing Key 的派生密钥除了受到软件度量值和 ISV 公钥的影响，还受到了硬件根密钥的影响，\n",
    "这使得 Sealing Key 实际上是绑定到生成它的 CPU 的。\n",
    "\n",
    "一旦应用换了个 CPU 运行，那么 Sealing Key 就会跟着变，从而导致无法解密旧数据。\n",
    "\n",
    "Ps. 在同一台物理机上切换不同 CPU 是不会导致 sealing key 变化的，只有切换物理机时才会导致发生变化。\n",
    "拿 intel SGX 来说，如果一个主板上有多个 CPU（Socket），那么 BIOS 会为这些 CPU 协商出一个共享的 platform key 作为根密钥，\n",
    "从而让多个 CPU 的行为表现得和一个 CPU 完全一致。"
   ]
  },
  {
   "cell_type": "markdown",
   "id": "1b2f18c1",
   "metadata": {
    "slideshow": {
     "slide_type": "subslide"
    }
   },
   "source": [
    "对于 Sealing Key 绑定到物理机的情况，没有简单的解决办法，只能通过上层软件设计，实现密钥分发和迁移功能。\n",
    "\n",
    "就如同前文提到的 CIA 不可能三角。这里其实就是 availability 和 confidentiality 之间的权衡。\n",
    "\n",
    "- 选 confidentiality：密钥完全不出域，安全性极高，但牺牲了可用性，机器一坏就完蛋\n",
    "- 选 availability：密钥出域，牺牲了安全性，但是可以承受机器损坏"
   ]
  },
  {
   "cell_type": "markdown",
   "id": "b844ca68",
   "metadata": {
    "slideshow": {
     "slide_type": "subslide"
    }
   },
   "source": [
    "密钥出域不是说直接把加密用的密钥导出 TEE 环境，这样做就完全破坏了 TEE 的机密性。\n",
    "\n",
    "任何端对端加密系统，要想保证可用性，一定会有一个 Recover Key。这个 RK 保证了即使硬件密钥丢失，但是你仍然能恢复原始数据。\n",
    "\n",
    "至于 recover key、sealing key 和真实加密数据所用的 master key 间是个什么样的映射和派生关系，这就见仁见智，各有各的实现了。"
   ]
  },
  {
   "cell_type": "markdown",
   "id": "ff566dd0",
   "metadata": {
    "slideshow": {
     "slide_type": "subslide"
    }
   },
   "source": [
    "这是我目前主导的一个零信任 TEE 项目的密钥设计图，既让服务器能够基于 sealing key 自动恢复，\n",
    "也让管理员可以在机器坏掉时手动恢复，还确保了没有任何管理员可以绕过系统，独立解密数据，而且不存在任何可导出的明文密码。\n",
    "\n",
    "具体细节就不展开了\n",
    "\n",
    "![](https://s3.laisky.com/uploads/2023/03/keys.drawio.png)"
   ]
  },
  {
   "cell_type": "markdown",
   "id": "f28ec775",
   "metadata": {
    "slideshow": {
     "slide_type": "slide"
    }
   },
   "source": [
    "## 进程级的 TEE: SGX\n",
    "\n",
    "![](https://s3.laisky.com/uploads/2023/06/sgx-logo.jpeg)"
   ]
  },
  {
   "cell_type": "markdown",
   "id": "972be3bf",
   "metadata": {
    "slideshow": {
     "slide_type": "subslide"
    }
   },
   "source": [
    "SGX 是 Intel 于 2015 年左右推出的进程级硬件 TEE 技术，其核心理念是：\n",
    "\n",
    "1. 为 SGX 编写的程序称为 Enclave，CPU 保证其完整性和机密性\n",
    "1. BIOS 启动时，将物理内存分为普通内存和 EPC 内存。EPC 内存由 CPU 加密，仅允许 Enclave 应用访问属于自己的 EPC 内存页。\n",
    "2. Enclave 通过实现定义好的 EDL 接口文件和外界交互，外部任何系统或特权用户都无法访问 Enclave 的数据。"
   ]
  },
  {
   "cell_type": "markdown",
   "id": "4fcca4ff",
   "metadata": {
    "slideshow": {
     "slide_type": "subslide"
    }
   },
   "source": [
    "### 最小的 TCB 和暴露面\n",
    "\n",
    "![](https://s3.laisky.com/uploads/2022/06/sgx-tcb.png)"
   ]
  },
  {
   "cell_type": "markdown",
   "id": "87016e27",
   "metadata": {
    "slideshow": {
     "slide_type": "subslide"
    }
   },
   "source": [
    "### SGX 的困境\n",
    "\n",
    "虽然 SGX 拥有最小的 TCB 为其带来了极高的安全性，但是也带来了极大的不便利性。\n",
    "\n",
    "SGX 将软件程序拆分为两部分：\n",
    "\n",
    "1. 运行于 EPC 之中的 Trust Runtimes（tRTS）\n",
    "2. 运行于 OS 之中的 Untrusted Runtimes（uRTS）\n",
    "\n",
    "tRTS 作为被严密保护的部分，只能调用 CPU 进行纯计算，唯一能调用的外部接口就是 EDL 文件定义的 OCall/ECall。"
   ]
  },
  {
   "cell_type": "markdown",
   "id": "ece44dad",
   "metadata": {
    "slideshow": {
     "slide_type": "subslide"
    }
   },
   "source": [
    "![](https://s3.laisky.com/uploads/2022/08/sgx-runtime-commu.png)"
   ]
  },
  {
   "cell_type": "markdown",
   "id": "8d735d9f",
   "metadata": {
    "slideshow": {
     "slide_type": "subslide"
    }
   },
   "source": [
    "Enclave 要想调用 OS 提供的功能，就必须通过 OCall 调用 uRTS，然后 uRTS 再调用 OS。\n",
    "uRTS 拿到 OS 的返回值后，再通过 ECall 将结果返回给 tRTS。\n",
    "\n",
    "uRTS 就扮演了一个代理的角色，不仅可以做转发，还可以做审计和过滤，以提高安全性。\n",
    "\n",
    "![](https://s3.laisky.com/uploads/2022/08/sgx-syscall-no.drawio.png)"
   ]
  },
  {
   "cell_type": "markdown",
   "id": "8e511295",
   "metadata": {
    "slideshow": {
     "slide_type": "subslide"
    }
   },
   "source": [
    "### syscall\n",
    "\n",
    "简要介绍一下 system call（简称 syscall）。\n",
    "\n",
    "为了更好的支持权限管理，CPU 提供了 RING 0 ～ 3 四个不同的保护域，不同域有不同的指令执行权限。 这也被称为分级保护域，Hierarchical Protection Domains。\n",
    "\n",
    "Linux 只使用了其中的两个态，OS 运行于 Ring 0（有时候也称为 CPL-0），拥有操作设备的权限。 用户程序运行于 Ring 3（CPL-3），仅有使用 CPU 进行计算的权限。 我们也习惯将其称之为 内核/用户 态。"
   ]
  },
  {
   "cell_type": "markdown",
   "id": "e7b8cde8",
   "metadata": {
    "slideshow": {
     "slide_type": "subslide"
    }
   },
   "source": [
    "![](https://s3.laisky.com/uploads/2022/08/hpd.jpeg)"
   ]
  },
  {
   "cell_type": "markdown",
   "id": "1ce065ce",
   "metadata": {
    "slideshow": {
     "slide_type": "subslide"
    }
   },
   "source": [
    "用户态的应用程序没有操作设备指令的权限，那么当这些程序需要调用底层设备的时候（如读写文件、网络 I/O 等）怎么办呢？ \n",
    "\n",
    "此时就由操作系统提供一系列封装好的接口，用户可以通过 CPU 提供的指令将控制权交给内核， \n",
    "内核提权后根据用户的需要去调用执行相应的 syscall 函数，执行完成后再通过 CPU 指令降权， 控制权交回用户态。"
   ]
  },
  {
   "cell_type": "markdown",
   "id": "1a2815f3",
   "metadata": {
    "slideshow": {
     "slide_type": "subslide"
    }
   },
   "source": [
    "但是实际上用户程序一般并不会直接和 kernel 交互（因为除了 syscall 外，还有大量其他相关工作）， 这些“幕后的相关工作”，一般由 libc 来完成。\n",
    "\n",
    "不过需要注意的是，并不是所有的应用程序都会通过 libc 去发起系统调用， 毕竟如果高级语言支持汇编的话，那也是可以直接发起 CPU 指令的。\n",
    "就目前来说，用户程序和 kernel 的边界究竟是 syscall 还是 libc 尚无定论。\n",
    "\n",
    "![](https://s3.laisky.com/uploads/2022/08/syscall-ring.jpg)"
   ]
  },
  {
   "cell_type": "markdown",
   "id": "a0ba5b50",
   "metadata": {
    "slideshow": {
     "slide_type": "subslide"
    }
   },
   "source": [
    "### Library OS\n",
    "\n",
    "以 syscall 隔离开 user 和 kernel，导致了大量的上下文切换和数据拷贝开销。\n",
    "\n",
    "最早的 LibOS 正是一种试验性的探索方向，试图简化 kernel 的职责，\n",
    "kernel 只负责最基础的硬件保护， 而将对设备的操作直接放到用户态里，以 library 的形式提供给应用程序。\n",
    "应用程序可以在用户态直接调用 libOS。\n",
    "\n",
    "但是该领域随着 VMM 的崛起而被人遗忘。"
   ]
  },
  {
   "cell_type": "markdown",
   "id": "4968abb8",
   "metadata": {
    "slideshow": {
     "slide_type": "subslide"
    }
   },
   "source": [
    "### VMM & VMX\n",
    "\n",
    "VMM 和 VM 也就是我们俗称的虚拟机管理器和虚拟机\n",
    "\n",
    "![](https://s3.laisky.com/uploads/2022/08/intel_vmm.png)"
   ]
  },
  {
   "cell_type": "markdown",
   "id": "760f41e4",
   "metadata": {
    "slideshow": {
     "slide_type": "subslide"
    }
   },
   "source": [
    "VMM 有时候也称为 hypervisor，根据其是运行于 Host OS 之上还是 Bare Metal 之上可以区分为两个类型\n",
    "\n",
    "![](https://s3.laisky.com/uploads/2022/08/Hyperviseur.svg.png)"
   ]
  },
  {
   "cell_type": "markdown",
   "id": "9a6e0a50",
   "metadata": {
    "slideshow": {
     "slide_type": "subslide"
    }
   },
   "source": [
    "简而言之，最早的 VMM 就是试图用用户进程运行一整个操作系统。这有很大的难度，原因之一就是对指令权限的控制非常繁琐和困难。\n",
    "\n",
    "后来各家芯片厂商提出了硬件虚拟化方案，Intel-VMX（或叫 VT-x）和 AMD-V。"
   ]
  },
  {
   "cell_type": "markdown",
   "id": "590e5ac7",
   "metadata": {
    "slideshow": {
     "slide_type": "subslide"
    }
   },
   "source": [
    "VMX 为 CPU 新增了两种状态：root/non-root。 和原有的 user/kernel 组合后可得四种状态:\n",
    "\n",
    "1. root/user: Intel VMM 运行于用户态\n",
    "2. root/kernel: Intel VMM 运行于内核态\n",
    "3. non-root/user: VM 运行于用户态\n",
    "4. non-root/kernel: VM 运行于内核态（guest OS）"
   ]
  },
  {
   "cell_type": "markdown",
   "id": "afc67c98",
   "metadata": {
    "slideshow": {
     "slide_type": "subslide"
    }
   },
   "source": [
    "硬件支持 VMM 对 Ring0 的虚拟化操作。\n",
    "\n",
    "可以设定让 VM CPU 在遇到指定指令时触发 `VM EXIT`， 将控制权切换给 VMM，从而得以实现对任意指令的拦截。\n",
    "让 VM 完全意识不到自己运行于虚拟环境之中，有时候也被称为 `blue pill`。\n",
    "\n",
    "一句话总结就是，硬件虚拟化极大地降低了 VMM 的实现难度，也提高了 VM 的性能。"
   ]
  },
  {
   "cell_type": "markdown",
   "id": "8b578bf2",
   "metadata": {
    "slideshow": {
     "slide_type": "subslide"
    }
   },
   "source": [
    "再回过头来看 LibOS，实际上它和 VM 的分野也不是那么的清晰。\n",
    "\n",
    "共同点：都是将 App 封装于一个独立的“沙箱”中\n",
    "\n",
    "不同点：\n",
    "\n",
    "- VM 会提供一个完整的 OS，仍然有 user/kernel 的权限区别\n",
    "- LibOS 完全运行于用户空间，提供部分 OS 的功能\n",
    "\n",
    "双方也并没有那么泾渭分明，可以笼统地将 libos 认为是轻量级的 VM。"
   ]
  },
  {
   "cell_type": "markdown",
   "id": "b0d5f509",
   "metadata": {
    "slideshow": {
     "slide_type": "subslide"
    }
   },
   "source": [
    "### LibOS 在 SGX 领域的应用\n",
    "\n",
    "前文提到 Enclave 没有调用 syscall 的能力，都得重新修改代码，改为通过 EDL 接口转发，这样对用户的开发成本实在过于高昂。\n",
    "\n",
    "所以人们将目光投向了 LibOS，这种在用户态实现 OS 的方式，正好可以和 Enclave 内的代码无缝对接。\n",
    "这样实际上就把 tRTS 再次拆分成了两部分：\n",
    "\n",
    "1. App 业务代码，无需改动\n",
    "2. LibOS 底座，负责劫持 App 的所有系统调用，转发给 uRTS"
   ]
  },
  {
   "cell_type": "markdown",
   "id": "f99b739e",
   "metadata": {
    "slideshow": {
     "slide_type": "subslide"
    }
   },
   "source": [
    "一顿操作猛如虎后，最终架构就成了这样\n",
    "\n",
    "![](https://s3.laisky.com/uploads/2022/07/sgx-libos.drawio.png)"
   ]
  },
  {
   "cell_type": "markdown",
   "id": "19b8df8f",
   "metadata": {
    "slideshow": {
     "slide_type": "subslide"
    }
   },
   "source": [
    "### trap and emulate\n",
    "\n",
    "这里补充一下基础知识，如果 App 代码无需改动，直接发起 syscall，那么 LibOS 是如何拦截到用户的 syscall 的？\n",
    "\n",
    "在这种应用场景下，libos 的能力基础，全都建立于于对应用程序 syscall 的拦截上。\n",
    "\n",
    "这种拦截并模拟 syscall 的操作，也称为 `Trap And Emulate`。"
   ]
  },
  {
   "cell_type": "markdown",
   "id": "7c309791",
   "metadata": {
    "slideshow": {
     "slide_type": "subslide"
    }
   },
   "source": [
    "主流的应用程序，大多都是靠 libc 来调用 syscall，而且都能够编译为动态链接到 libc 的可执行程序。\n",
    "\n",
    "即使是 python 脚本，它也能够通过一个动态链接到 libc 的解释器来执行。\n",
    "\n",
    "```sh\n",
    "➜  bin git:(master) ldd python                          \n",
    "        linux-vdso.so.1 (0x00007ffca03f4000)\n",
    "        libpthread.so.0 => /lib/x86_64-linux-gnu/libpthread.so.0 (0x00007f09cf57b000)\n",
    "        libdl.so.2 => /lib/x86_64-linux-gnu/libdl.so.2 (0x00007f09cf576000)\n",
    "        libutil.so.1 => /lib/x86_64-linux-gnu/libutil.so.1 (0x00007f09cf571000)\n",
    "        libm.so.6 => /lib/x86_64-linux-gnu/libm.so.6 (0x00007f09cf48a000)\n",
    "        libc.so.6 => /lib/x86_64-linux-gnu/libc.so.6 (0x00007f09cec00000)\n",
    "        /lib64/ld-linux-x86-64.so.2 (0x00007f09cf597000)\n",
    "```"
   ]
  },
  {
   "cell_type": "markdown",
   "id": "eb7d8dad",
   "metadata": {
    "slideshow": {
     "slide_type": "subslide"
    }
   },
   "source": [
    "那么 libos 只需要在装载阶段，将 libc 劫持为自己修改过的兼容 libc API 的库就行了。\n",
    "然后在这些自定义的 libc 兼容库里，对 syscall 想做什么都可以。\n",
    "\n",
    "![](https://s3.laisky.com/uploads/2022/08/sgx-libos-libc.drawio.png)"
   ]
  },
  {
   "cell_type": "markdown",
   "id": "5327aedc",
   "metadata": {
    "slideshow": {
     "slide_type": "subslide"
    }
   },
   "source": [
    "但是前文我们提到，application 和 kernel 的边界并不明确，并不是所有的程序都会调用 LibC。\n",
    "\n",
    "比如 Golang 就不会调用 libc，而是直接发起 syscall 指令。\n",
    "目前看到的 LibC 最常见做法是，改 Go 的源码，让它用 libc …\n",
    "\n",
    "![](https://s3.laisky.com/uploads/2022/08/go-syscall-diff.png)"
   ]
  },
  {
   "cell_type": "markdown",
   "id": "062d6d1c",
   "metadata": {
    "slideshow": {
     "slide_type": "subslide"
    }
   },
   "source": [
    "### 拦截后能做什么？\n",
    "\n",
    "\n",
    "最直接的好处是，即使 libos 什么也不做，仅仅是转发 syscall 给 kernel，\n",
    "也让 enclave 程序拥有了 syscall 的能力，\n",
    "这就让 enclave 程序可以读写文件，可以通过 socket 发起网络请求，\n",
    "或者运行网络服务器。"
   ]
  },
  {
   "cell_type": "markdown",
   "id": "0058465e",
   "metadata": {
    "slideshow": {
     "slide_type": "subslide"
    }
   },
   "source": [
    "#### Defense-in-Depth\n",
    "\n",
    "其次，libOS 可以对 syscall 进行限制和监督，仅允许最小限度的 syscall，\n",
    "\n",
    "减少暴露面，实现加固。"
   ]
  },
  {
   "cell_type": "markdown",
   "id": "58f48f35",
   "metadata": {
    "slideshow": {
     "slide_type": "subslide"
    }
   },
   "source": [
    "\n",
    "#### transparent encryption\n",
    "\n",
    "除此之外还可以干很多增强安全性或功能的能力。\n",
    "\n",
    "比如，通过改写 socket 的 `listen, connect, recv, write` syscall，可以实现透明 TLS（TTLS），\n",
    "即在 syscall 这一层对连接启用 TLS 加密，应用程序完全无感知。\n",
    "\n",
    "类似的，也可以通过改写 file 的 `read, write`，实现对文件系统的透明加密。"
   ]
  },
  {
   "cell_type": "markdown",
   "id": "797ee41c",
   "metadata": {
    "slideshow": {
     "slide_type": "subslide"
    }
   },
   "source": [
    "### SGX 开源生态\n",
    "\n",
    "目前 SGX 最常用的 LibOS 包括：\n",
    "\n",
    "1. Gramine: 资深老牌 LibOS 项目，syscall 支持最全\n",
    "2. openenclave: MicroSoft 的开源项目，支持多种硬件平台\n",
    "3. Occlum: 蚂蚁的 LibOS，支持多进程\n",
    "\n",
    "我估计后面会有其他老师深入介绍其中的实现细节和用法，我这里就不展开了。"
   ]
  },
  {
   "cell_type": "markdown",
   "id": "93dbd649",
   "metadata": {
    "slideshow": {
     "slide_type": "slide"
    }
   },
   "source": [
    "## 虚拟机级的 TEE: SEV\n",
    "\n",
    "TEE 的应用场景已经从早年的数据产权保护，转向了更为广阔的通用计算。\n",
    "\n",
    "面对通用计算的复杂场景需求，以及为了能够给软件开发者实现尽可能低的开发成本。面向 VM 的 TEE 技术显然具有比进程级的 TEE 更大的优势。\n",
    "\n",
    "AMD 在 2019 年发布了 SEV 技术，这是一种面向 VM 的 TEE 技术。\n",
    "此后 Intel 也发布了类似的技术，称为 Intel TDX，此外还有 ARM CCA，可以看出 VM 显然是目前 TEE 技术的发展方向。"
   ]
  },
  {
   "cell_type": "markdown",
   "id": "7afdc9dd",
   "metadata": {
    "slideshow": {
     "slide_type": "subslide"
    }
   },
   "source": [
    "SEV 也经历了三代发展（SEV、SEV-ES、SEV-SNP）\n",
    "\n",
    "![](https://s3.laisky.com/uploads/2023/06/amd-sev.png)"
   ]
  },
  {
   "cell_type": "markdown",
   "id": "6819db12",
   "metadata": {
    "slideshow": {
     "slide_type": "subslide"
    }
   },
   "source": [
    "拿 Milan 架构支持的 SNP 来说，其已经具备了前文所述的全部 TEE 四要素。\n",
    "\n",
    "|  | SGX | SEV |\n",
    "| --- | --- | --- |\n",
    "| 适用场景 | 通用计算 | 通用计算 |\n",
    "| 适用范围 | 进程级 | 虚拟机级 |\n",
    "| RoT | CPU | CPU |\n",
    "| TCB | CPU | CPU + guest OS |\n",
    "| 易用性 | 难 | 易 |\n",
    "| 远程认证 | 支持 | 支持 |\n",
    "| 基于度量的 Sealing | 支持 | 支持 |\n",
    "| 基于签名的 Sealing | 支持 | 支持 |\n",
    "\n",
    "SEV-SNP 和 SGX 最大的区别就在于，TCB 的大小和易用性的权衡。"
   ]
  },
  {
   "cell_type": "markdown",
   "id": "09b5c2dd",
   "metadata": {
    "slideshow": {
     "slide_type": "subslide"
    }
   },
   "source": [
    "![](https://s3.laisky.com/uploads/2023/05/sgx-sev.png)"
   ]
  },
  {
   "cell_type": "markdown",
   "id": "bacf710f",
   "metadata": {
    "slideshow": {
     "slide_type": "subslide"
    }
   },
   "source": [
    "### SME\n",
    "\n",
    "2016 年，AMD 推出了 SME，以实现对内存的透明加密。 同一时间 AMD 也推出了 SEV，这是以 SME 为基础实现的加密虚拟机。\n",
    "\n",
    "SEV 硬件借助 SME，为每一个 CVM 提供一个独立的对称密钥， 对所有内存数据进行加密。\n",
    "\n",
    "CVM 需要和外界进行 I/O 通信时，需要使用未加密的 shared memory。\n",
    "借助 Memory Access Control 技术的思路，利用 GPA 内存地址中称为 `C-bit` 的一位作为 flag， 标记当前内存页是否需要加密。\n",
    "\n",
    "（Intel 上类似技术称为 Intel TMK 和 MKTME）"
   ]
  },
  {
   "cell_type": "markdown",
   "id": "bc6a331e",
   "metadata": {
    "slideshow": {
     "slide_type": "subslide"
    }
   },
   "source": [
    "![](https://s3.laisky.com/uploads/2022/10/amd-cbit.png)"
   ]
  },
  {
   "cell_type": "markdown",
   "id": "816510f1",
   "metadata": {
    "slideshow": {
     "slide_type": "subslide"
    }
   },
   "source": [
    "### SEV\n",
    "\n",
    "SEV 其实就是将 SME 应用到 CPU 的 VM 虚拟化之上，为每一个 VM 都分配一个唯一的内存加密密钥，实现 VM 级的 TEE。\n",
    "\n",
    "![](https://s3.laisky.com/uploads/2023/05/Amd_sme_vs_sev.png)"
   ]
  },
  {
   "cell_type": "markdown",
   "id": "241ab5e4",
   "metadata": {
    "slideshow": {
     "slide_type": "subslide"
    }
   },
   "source": [
    "![](https://s3.laisky.com/uploads/2022/10/amd-thread-model.png)"
   ]
  },
  {
   "cell_type": "markdown",
   "id": "25e0f258",
   "metadata": {
    "slideshow": {
     "slide_type": "subslide"
    }
   },
   "source": [
    "本文中的 SEV 如无特殊说明，都指代最新一代的 SEV-SNP，各代差异此处不具体介绍了\n",
    "\n",
    "![](https://s3.laisky.com/uploads/2022/09/amd-sev-matrix.png)"
   ]
  },
  {
   "cell_type": "markdown",
   "id": "fc272019",
   "metadata": {
    "slideshow": {
     "slide_type": "subslide"
    }
   },
   "source": [
    "### vSGX / HyperEnclave\n",
    "\n",
    "即然提到 AMD SME/SEV 了，稍微跑个题，有个研究方向是基于 AMD SME/SEV 的基础内存加密能力，在上层通过软件（操作系统）构建进程级 TEE。\n",
    "\n",
    "类似的研究有：\n",
    "\n",
    "- vSGX- Virtualizing SGX Enclaves on AMD SEV\n",
    "- 蚂蚁金服的 HyperEnclave"
   ]
  },
  {
   "cell_type": "markdown",
   "id": "1219531f",
   "metadata": {
    "slideshow": {
     "slide_type": "subslide"
    }
   },
   "source": [
    "蚂蚁进入基于 AMD SME，通过将 host os （rust monitor）纳入 TCB，来实现进程级 TEE\n",
    "\n",
    "![](https://s3.laisky.com/uploads/2022/08/hyperenclave-overview.png)"
   ]
  },
  {
   "cell_type": "markdown",
   "id": "a31014c3",
   "metadata": {
    "slideshow": {
     "slide_type": "subslide"
    }
   },
   "source": [
    "OSU 基于 AMD SEV，构筑进程级 TEE\n",
    "\n",
    "![](https://s3.laisky.com/uploads/2022/09/osu-vsgx.png)"
   ]
  },
  {
   "cell_type": "markdown",
   "id": "44b76c76",
   "metadata": {
    "slideshow": {
     "slide_type": "subslide"
    }
   },
   "source": [
    "这些 vSGX 方案，本质上就是将之前由 Intel SGX CPU / Intel PSW 实现的功能，转移到了操作系统。\n",
    "然后将操作系统也纳入 TCB，从而实现了进程级 TEE。\n",
    "\n",
    "这种做法的优点可能是能够在更廉价的硬件上，实现上层对多种 TEE 方案的兼容。"
   ]
  },
  {
   "cell_type": "markdown",
   "id": "5dd1e39e",
   "metadata": {
    "slideshow": {
     "slide_type": "subslide"
    }
   },
   "source": [
    "### Workflow\n",
    "\n",
    "![](https://s3.laisky.com/uploads/2023/06/snp-workflow.png)"
   ]
  },
  {
   "cell_type": "markdown",
   "id": "e1536230",
   "metadata": {
    "slideshow": {
     "slide_type": "subslide"
    }
   },
   "source": [
    "1. 在可信的环境里 build 好 guest os image，生成并记录 guest os 的 measurement\n",
    "2. 将 guest os 部署到具有 SEV-SNP 硬件的机器上\n",
    "3. guest os 启动后自动启动应用程序，程序作为 tester 和外部的 verifier\n",
    "4. verifier 对 tester 进行远程认证，验证 SEV-SNP 硬件的真实性和 guest os 的完整性\n",
    "5. 和前文所述相类似的方法，通过 RA-TLS 建立加密通道"
   ]
  },
  {
   "cell_type": "markdown",
   "id": "769781cf",
   "metadata": {
    "slideshow": {
     "slide_type": "subslide"
    }
   },
   "source": [
    "### SWIOTLB / SWIOMMU\n",
    "\n",
    "进入 64-bit 时代以后，主存的寻址方式变成了 64-bit，而这些 32-bit 的设备无法和主存进行对齐， 使得 DMA 的访问遇到了问题。\n",
    "\n",
    "这时候出现了 IOMMU(I/O Memory Management Unit) 设备， 这是 AMD-Vi、Intel VT-d、ARM SMMU 等一系列具体实现的统称， 代表一种能够将零散的物理内存映射为一块连续的虚拟地址空间中的设备。"
   ]
  },
  {
   "cell_type": "markdown",
   "id": "43f35088",
   "metadata": {
    "slideshow": {
     "slide_type": "subslide"
    }
   },
   "source": [
    "利用 IOMMU 的地址映射支持，就解决了各类外设的地址映射问题。 CPU 可以在一块统一的虚拟地址空间内实现对所有设备内存的访问。\n",
    "\n",
    "IOMMU 这个名字发源于内存管理模块 MMU（Memory Management Unit）， \n",
    "MMU 是 CPU 内部的一个模块，用于将虚拟地址映射为物理地址。 IOMMU 则是用于将外设的物理地址映射为虚拟地址。\n",
    "\n",
    "![](https://s3.laisky.com/uploads/2022/09/iommu-mmu.png)"
   ]
  },
  {
   "cell_type": "markdown",
   "id": "4412db00",
   "metadata": {
    "slideshow": {
     "slide_type": "subslide"
    }
   },
   "source": [
    "不过 IOMMU 最早是由 AMD 提出的，Intel 最早在适配 x86-64 时，并没有采纳 IOMMU 的设计。 \n",
    "\n",
    "Intel 在 2001 年推出它的第一个 x86-64 处理器架构 Itanium 时，采用了一种软件上实现 IOMMU 的做法， \n",
    "这个软件就称为 `SWIOTLB（Software Input Output Translation Lookaside Buffer）`， \n",
    "有时候更直白地被称为 `SWIOMMU（software IOMMU）`。\n",
    "\n",
    "![](https://s3.laisky.com/uploads/twitter/4e/ef/FweRs9DakAAKMh5.png)"
   ]
  },
  {
   "cell_type": "markdown",
   "id": "1ddb561a",
   "metadata": {
    "slideshow": {
     "slide_type": "subslide"
    }
   },
   "source": [
    "SWIOTLB 的实现方式是，预留一块连续的物理内存区域，作为一个缓冲区，用于存放 I/O 设备的数据。 当 I/O 设备需要访问内存时，先由 CPU 将数据写入 SWIOTLB，然后再由 DMA 将 SWIOTLB 中的数据拷贝到目标设备的内存地址中。\n",
    "\n",
    "这种方式的缺点是，需要预留额外的内存空间，而且需要 CPU 的参与，性能不高。\n",
    "\n",
    "随着 32-bit 设备迅速退出历史舞台，IOMMU 和 SWIOTLB 的作用也就不大了。 甚至很多人建议禁用这两个机制，以提高性能。"
   ]
  },
  {
   "cell_type": "markdown",
   "id": "0feaf137",
   "metadata": {
    "slideshow": {
     "slide_type": "subslide"
    }
   },
   "source": [
    "#### 虚拟化的新机遇\n",
    "\n",
    "随着虚拟化技术的发展，IOMMU 和 SWIOTLB 又重新回到了人们的视野中。 在虚拟环境中，所有内存地址都由虚拟机软件重新映射，这会导致DMA设备失败。IOMMU处理此重新映射，允许在客户操作系统中使用本地设备驱动程序。\n",
    "\n",
    "从 vmware 的文档看上去，无论是支持 SR-IOV 虚拟化的设备，还是 passthrough 的设备，都需要 IOMMU 的支持。"
   ]
  },
  {
   "cell_type": "markdown",
   "id": "f3fdfc85",
   "metadata": {
    "slideshow": {
     "slide_type": "subslide"
    }
   },
   "source": [
    "#### 内存加密时代的新挑战\n",
    "\n",
    "SWIOTLB/SWIOMMU 最初是为了用软件实现 IOMMU 的功能。它会在 OS 启动前，在物理内存上保留一块 32 位寻址的区域（称为 aperture），\n",
    " 一般为 4～64 MB。\n",
    " \n",
    " 每当 DMA 因为地址不匹配而出错时，CPU 就会把数据拷贝到 aperture 内（bounce buffer），然后再让 DMA 传递。\n",
    "\n",
    " 随着 AMD SME、Intel TME 等全局内存加密技术的出现，给 DMA 带来了非常大挑战。\n",
    " \n",
    " 因为主存数据是加密的， DMA 不能再直接将其传输给设备。\n",
    "  于是 AMD 发现 SWIOTLB 指令刚好可以拿来干这事儿。 \n",
    "  先将内存解密后放进 SWIOTLB 的 bounce buffer 内，然后再让 DMA 发送给设备。"
   ]
  },
  {
   "cell_type": "markdown",
   "id": "d104b5b5",
   "metadata": {
    "slideshow": {
     "slide_type": "subslide"
    }
   },
   "source": [
    "这张图本来是讲 IOMMU 解决 bounce buffer 问题的，\n",
    "我们反着来看，bounce buffer 解决了加密内存和未加密的设备间拷贝的问题。\n",
    "\n",
    "![](https://s3.laisky.com/uploads/twitter/50/81/FwekjChaMAAZ_El.jpg)"
   ]
  },
  {
   "cell_type": "markdown",
   "id": "8f702c4f",
   "metadata": {
    "slideshow": {
     "slide_type": "subslide"
    }
   },
   "source": [
    "SWIOTLB 是为了低速外设而设计的，它根本无力负担一台 SME/SEV 加密机器全部的 I/O 压力， \n",
    "很快就会出现 buffer overflow 或者死锁导致 I/O 性能急剧（-80%）下降。 \n",
    "\n",
    "目前 AMD、Intel、Kernel 各家都有各自的解决方案 patch，尝试优化 SWIOTLB 的性能问题。"
   ]
  },
  {
   "cell_type": "markdown",
   "id": "14f2d127",
   "metadata": {
    "slideshow": {
     "slide_type": "subslide"
    }
   },
   "source": [
    "AMD SEV 官方 Repo 和 GCP CVM 都建议改大 SWIOTLB 来缓解性能问题。\n",
    "\n",
    "- [AMD: How to increase SWIOTLB limit ?](https://github.com/AMDESE/AMDSEV#faq-4)\n",
    "- [GCP: SWIOTLB buffer is full error](https://cloud.google.com/compute/confidential-vm/docs/error-messages#:~:text=SWIOTLB%20buffer%20is%20full%20error,-For%20disk%20and&text=To%20resolve%20this%20issue%2C%20you%20can%20try%20increasing%20the%20SWIOTLB,SWIOTLB%20and%20the%20operating%20system.)\n",
    "\n",
    "但是光修改 SWIOTLB 大小并不够。Intel TDX 也遇到了完全一样的问题，试图通过优化锁来缓解问题。\n",
    "Intel TDX 组关于 split swiotlb lock 的 patch 已经进了 6.0 的内核。\n",
    "\n",
    "- https://github.com/intel/tdx/commit/4529b5784c141782c72ec9bd9a92df2b68cb7d45\n",
    "- https://github.com/torvalds/linux/commit/20347fca71a387a3751f7bb270062616ddc5317a\n",
    "\n",
    "阿里也曾提出过另行实现一个动态分配空间的 SWIOTLB 方案，不过似乎没有被社区接受。\n",
    "\n",
    "- [swiotlb: Add a new cc-swiotlb implementation for Confidential VMs](https://lore.kernel.org/lkml/20230128083254.86012-1-GuoRui.Yu@linux.alibaba.com/T/#mb14364647ac1a7652a8d886b2c85e3e6d5cfac37)\n"
   ]
  },
  {
   "cell_type": "markdown",
   "id": "61866589",
   "metadata": {
    "slideshow": {
     "slide_type": "slide"
    }
   },
   "source": [
    "## 可信计算\n",
    "\n",
    "虽然各家的硬件 TEE 方案，其 TCB 理论上都不包含 host os。\n",
    "\n",
    "但是基于 host os 特权用户的侧信道攻击（side channel attack）仍然是一个很大的威胁。\n",
    "\n",
    "而且本着纵深防御的原则，增加对 host os 的防护，也是很有必要的。"
   ]
  },
  {
   "cell_type": "markdown",
   "id": "2ea1c168",
   "metadata": {
    "slideshow": {
     "slide_type": "subslide"
    }
   },
   "source": [
    "### Secure Boot\n",
    "\n",
    "UEFI 在启动 OS 以前，会通过固件中的公钥校验 OS 的签名。 OS 必须是由可信的 CA 签名过的，才能被启动。 这一流程被称为 Secure Boot。\n",
    "\n",
    "![](https://s3.laisky.com/uploads/2023/05/secure-boot.jpeg)"
   ]
  },
  {
   "cell_type": "markdown",
   "id": "75c99fae",
   "metadata": {
    "slideshow": {
     "slide_type": "subslide"
    }
   },
   "source": [
    "### Measured Boot\n",
    "\n",
    "OS 在 secure boot 后被启动，OS 会在之后的启动过程中的数个关键环节， \n",
    "对每一个关键组件进行校验，确保组件的完整性，这一流程被称为 Measured Boot。\n",
    "\n",
    "![](https://s3.laisky.com/uploads/2023/06/12-The-trusted-boot-process.png)"
   ]
  },
  {
   "cell_type": "markdown",
   "id": "44cf0140",
   "metadata": {
    "slideshow": {
     "slide_type": "subslide"
    }
   },
   "source": [
    "### TPM\n",
    "\n",
    "为了确保系统启动过程的全流程可信，就需要这个小小的 TPM（Trusted Platform Module） 硬件模块了。\n",
    "\n",
    "![](https://s3.laisky.com/uploads/2023/04/tee-101/tpm2.0.jpg)"
   ]
  },
  {
   "cell_type": "markdown",
   "id": "c1ad40c2",
   "metadata": {
    "slideshow": {
     "slide_type": "subslide"
    }
   },
   "source": [
    "### 系统如何启动\n",
    "\n",
    "要想确保运行的系统是可信的，需要先了解一下系统的启动过程\n",
    "\n",
    "1. 系统加电加载 BIOS Boot Block\n",
    "2. BIOS/UEFI 开始运行，激活各个协处理器、硬件\n",
    "3. BIOS 执行 kernel loader，加载 OS\n",
    "4. OS 启动后运行 init 进程，该进程按照配置启动各个 App 进程"
   ]
  },
  {
   "cell_type": "markdown",
   "id": "b96957dc",
   "metadata": {
    "slideshow": {
     "slide_type": "subslide"
    }
   },
   "source": [
    "### Measurement\n",
    "\n",
    "![](https://s3.laisky.com/uploads/2023/04/tee-101/pcr.png)\n",
    "\n",
    "TPM 中包含了数个只读寄存器，称为 PCRs（Platform Configuration Registers）。\n",
    "\n",
    "每当系统重启时，所有的 PCR 都会被清空。然后在系统启动过程的不同阶段，\n",
    "各个 PCR 按照预设的程序会对系统当前的状态进行度量（Measurement），\n",
    "并且将度量值写入到对应的 PCR 之中。"
   ]
  },
  {
   "cell_type": "markdown",
   "id": "747b6419",
   "metadata": {
    "slideshow": {
     "slide_type": "subslide"
    }
   },
   "source": [
    "可以用一段伪代码来描述 tpm 的行为\n",
    "\n",
    "```go\n",
    "// TPM PCR 的行为几乎和 hash 函数一模一样\n",
    "hasher := sha256.New()\n",
    "\n",
    "<- bootblock.Ready()\n",
    "hasher.Write(bootblock.Measure())\n",
    "tpm.SetPCR(1, hasher.Sum(nil))\n",
    "\n",
    "<- bios.Ready()\n",
    "hasher.Write(bios.Measure())\n",
    "tpm.SetPCR(2, hasher.Sum(nil))\n",
    "\n",
    "<- os.Ready()\n",
    "hasher.Write(os.Measure())\n",
    "tpm.SetPCR(3, hasher.Sum(nil))\n",
    "\n",
    "...\n",
    "```\n",
    "\n",
    "`PCR[N] = HASHalg( PCR[N] || ArgumentOfExtend)`"
   ]
  },
  {
   "cell_type": "markdown",
   "id": "82af83bf",
   "metadata": {
    "slideshow": {
     "slide_type": "subslide"
    }
   },
   "source": [
    "[TCG PC Client Platform TPM Profile Specification for TPM 2.0.pdf] 规范要求 TPM 2.0 硬件应该至少支持 24 个 PCRs，\n",
    "且支持 SHA256 和 SHA384 算法。\n",
    "\n",
    "![](https://s3.laisky.com/uploads/2023/04/tee-101/pcrs.png)"
   ]
  },
  {
   "cell_type": "markdown",
   "id": "286ef291",
   "metadata": {
    "slideshow": {
     "slide_type": "subslide"
    }
   },
   "source": [
    "前面提到 PCRs 是只读寄存器，所以在系统启动过程中生成的 PCR 值是不可篡改的。\n",
    "在制作系统之时，我们可以将 PCR 的值记录下来，然后在日后系统启动时进行校验，所有的 PCRs 都不应发生任何变化。"
   ]
  },
  {
   "cell_type": "markdown",
   "id": "f9cd3cda",
   "metadata": {
    "slideshow": {
     "slide_type": "subslide"
    }
   },
   "source": [
    "### BitLocker\n",
    "\n",
    "顺带一提，Windows BitLocker 就是利用 TPM PCR 来进行磁盘加密。\n",
    "\n",
    "原理和我们此前提到过的 TEE Sealing Key 如出一辙。利用 TPM 硬件根密钥，由 PCR 值派生出 Sealing Key 对硬件加密。\n",
    "\n",
    "设计密钥的时候，可以参考一下 bitlocker 的设计思路。\n",
    "\n",
    "![](https://s3.laisky.com/uploads/twitter/FuhUH8KakAAbJdU.png)"
   ]
  },
  {
   "cell_type": "markdown",
   "id": "6f3dc9d4",
   "metadata": {
    "slideshow": {
     "slide_type": "subslide"
    }
   },
   "source": [
    "### vTPM\n",
    "\n",
    "前文讨论的 TPM 都是插在主板上的硬件模块，这个硬件有一个致命的缺点，就是不支持虚拟化。\n",
    "\n",
    "为了让虚拟机也能用上 TPM，人们发明了 vTPM。但是这不是常见的硬件虚拟化，\n",
    "而是在 Host OS 上运行的一个软件，模拟出了 TPM 的设备接口。"
   ]
  },
  {
   "cell_type": "markdown",
   "id": "198c3d69",
   "metadata": {
    "slideshow": {
     "slide_type": "slide"
    }
   },
   "source": [
    "## GPU CC"
   ]
  },
  {
   "cell_type": "markdown",
   "id": "68ce2d7a",
   "metadata": {
    "slideshow": {
     "slide_type": "subslide"
    }
   },
   "source": []
  },
  {
   "cell_type": "markdown",
   "id": "43d2f3a7",
   "metadata": {
    "slideshow": {
     "slide_type": "subslide"
    }
   },
   "source": []
  },
  {
   "cell_type": "markdown",
   "id": "1e0b160e",
   "metadata": {
    "slideshow": {
     "slide_type": "subslide"
    }
   },
   "source": []
  },
  {
   "cell_type": "markdown",
   "id": "74aa4f33",
   "metadata": {
    "slideshow": {
     "slide_type": "subslide"
    }
   },
   "source": []
  },
  {
   "cell_type": "markdown",
   "id": "3b8c1ad9",
   "metadata": {
    "slideshow": {
     "slide_type": "subslide"
    }
   },
   "source": []
  },
  {
   "cell_type": "markdown",
   "id": "e45f711b",
   "metadata": {
    "slideshow": {
     "slide_type": "subslide"
    }
   },
   "source": []
  },
  {
   "cell_type": "markdown",
   "id": "1267d55d",
   "metadata": {
    "slideshow": {
     "slide_type": "subslide"
    }
   },
   "source": []
  },
  {
   "cell_type": "markdown",
   "id": "bf6e23db",
   "metadata": {
    "slideshow": {
     "slide_type": "slide"
    }
   },
   "source": [
    "## 安全新范式\n",
    "\n",
    "随着硬件机密计算的逐步普及，机密计算必然成为未来计算的标准基座，可以说“将来所有的运算都会是机密计算”。\n",
    "\n",
    "这会带来非常深远的影响，在这里做一些简单的展望。"
   ]
  },
  {
   "cell_type": "markdown",
   "id": "6bcfead4",
   "metadata": {
    "slideshow": {
     "slide_type": "subslide"
    }
   },
   "source": [
    "### Software-Hardware-Security Codesign\n",
    "\n",
    "![](https://s3.laisky.com/uploads/2023/06/Software-Hardware-Security-Codesign.png)"
   ]
  },
  {
   "cell_type": "markdown",
   "id": "aa331add",
   "metadata": {
    "slideshow": {
     "slide_type": "subslide"
    }
   },
   "source": [
    "### Zerotrust Infrastrature"
   ]
  },
  {
   "cell_type": "markdown",
   "id": "d9d69ee9",
   "metadata": {
    "slideshow": {
     "slide_type": "subslide"
    }
   },
   "source": [
    "### Real Virualize TPM"
   ]
  },
  {
   "cell_type": "markdown",
   "id": "64125d32",
   "metadata": {
    "slideshow": {
     "slide_type": "subslide"
    }
   },
   "source": [
    "### OpenSource Firmware"
   ]
  },
  {
   "cell_type": "markdown",
   "id": "a6b72c8b",
   "metadata": {},
   "source": [
    "### Secure Joint Cloud\n",
    "\n",
    "> [Towards A Secure Joint Cloud With Confidential Computing - doi 10.1109/JCC56315.2022.00019](https://s3.laisky.com/public/papers/security/TEE%2FTowards_A_Secure_Joint_Cloud_With_Confidential_Computing.pdf#page=3)\n",
    "\n",
    "\n",
    "![](https://s3.laisky.com/uploads/2023/06/join-cloud.png)\n"
   ]
  },
  {
   "cell_type": "markdown",
   "id": "0830ce60",
   "metadata": {},
   "source": [
    "### Cluster\n",
    "\n",
    "* key distribution\n",
    "* auto recover\n",
    "* attestation chain\n"
   ]
  }
 ],
 "metadata": {
  "celltoolbar": "Slideshow",
  "kernelspec": {
   "display_name": "Python 3 (ipykernel)",
   "language": "python",
   "name": "python3"
  },
  "language_info": {
   "codemirror_mode": {
    "name": "ipython",
    "version": 3
   },
   "file_extension": ".py",
   "mimetype": "text/x-python",
   "name": "python",
   "nbconvert_exporter": "python",
   "pygments_lexer": "ipython3",
   "version": "3.9.7"
  }
 },
 "nbformat": 4,
 "nbformat_minor": 5
}
