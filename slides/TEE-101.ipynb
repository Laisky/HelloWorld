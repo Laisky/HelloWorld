{
 "cells": [
  {
   "cell_type": "markdown",
   "id": "d73516f5",
   "metadata": {
    "slideshow": {
     "slide_type": "slide"
    }
   },
   "source": [
    "# TEE - 数据安全新范式\n",
    "\n",
    "Laisky Cai"
   ]
  },
  {
   "cell_type": "code",
   "execution_count": null,
   "id": "e4840aef",
   "metadata": {
    "slideshow": {
     "slide_type": "fragment"
    }
   },
   "outputs": [],
   "source": [
    "本次分享主要想介绍一下基于硬件的机密计算 TEE 领域，这很可能代表着下一个时代的标准安全基座。\n",
    "\n",
    "本次主要是概念普及和基础原理介绍，不需要相关背景知识。"
   ]
  },
  {
   "cell_type": "markdown",
   "id": "1c61327c",
   "metadata": {
    "slideshow": {
     "slide_type": "subslide"
    }
   },
   "source": [
    "* 本 slide 的在线浏览地址：<https://s3.laisky.com/public/slides/TEE-101.slides.html>\n",
    "    \n",
    "* 相关术语表: <https://wiki.laisky.com/terms/>\n",
    "\n",
    "![](https://s3.laisky.com/uploads/2023/04/tee-101/qrcode.png)"
   ]
  },
  {
   "cell_type": "markdown",
   "id": "227c4a08",
   "metadata": {
    "slideshow": {
     "slide_type": "subslide"
    }
   },
   "source": [
    "## 数据\n",
    "\n",
    "机密计算（CC, Confidential Computing）是一种能够依托硬件安全能力，保护用户数据的技术统称。\n",
    "\n",
    "在讲解机密计算以前，先了解一下数据。"
   ]
  },
  {
   "cell_type": "markdown",
   "id": "979a9e72",
   "metadata": {},
   "source": [
    "## 运行环境的变迁"
   ]
  },
  {
   "cell_type": "markdown",
   "id": "f25ababd",
   "metadata": {
    "slideshow": {
     "slide_type": "subslide"
    }
   },
   "source": [
    "### 场景 1：数据加密"
   ]
  },
  {
   "cell_type": "markdown",
   "id": "7262b9ee",
   "metadata": {},
   "source": [
    "### 场景 2：密钥生成"
   ]
  },
  {
   "cell_type": "markdown",
   "id": "d8d853ad",
   "metadata": {},
   "source": [
    "### 场景 3：隐私数据出域"
   ]
  },
  {
   "cell_type": "markdown",
   "id": "b350cc08",
   "metadata": {},
   "source": []
  },
  {
   "cell_type": "markdown",
   "id": "5e34803f",
   "metadata": {
    "slideshow": {
     "slide_type": "slide"
    }
   },
   "source": [
    "## 可信计算\n",
    "\n",
    "假设你有一台电脑，无论是个人 PC 还是服务器，你在上面运行一个操作系统，然后在操作系统上运行一个软件。\n",
    "\n",
    "你该如何确保你的系统和软件没有被入侵？"
   ]
  },
  {
   "cell_type": "markdown",
   "id": "52298f3e",
   "metadata": {
    "slideshow": {
     "slide_type": "subslide"
    }
   },
   "source": [
    "注：我们不讨论和黑客实时攻防等很酷炫的招数。而是从更普遍的运维和开发的角度出发，你肯定没精力去和黑客搞对抗的。\n",
    "\n",
    "你更希望的是：正确安装和运行一个没有已知漏洞的系统，运行一个精心编写的应用程序。\n",
    "\n",
    "而可信计算所关注的问题正是：向你保证你所运行的操作系统是可以信赖的。"
   ]
  },
  {
   "cell_type": "markdown",
   "id": "44cf0140",
   "metadata": {
    "slideshow": {
     "slide_type": "subslide"
    }
   },
   "source": [
    "## TPM\n",
    "\n",
    "为了确保系统启动过程的全流程可信，就需要这个小小的 TPM（Trusted Platform Module） 硬件模块了。\n",
    "\n",
    "![](https://s3.laisky.com/uploads/2023/04/tee-101/tpm2.0.jpg)"
   ]
  },
  {
   "cell_type": "markdown",
   "id": "c1ad40c2",
   "metadata": {
    "slideshow": {
     "slide_type": "subslide"
    }
   },
   "source": [
    "### 系统如何启动\n",
    "\n",
    "要想确保运行的系统是可信的，需要先了解一下系统的启动过程\n",
    "\n",
    "1. 系统加电、加载 BIOS Boot Block\n",
    "2. BIOS/UEFI 开始运行，激活各个协处理器、硬件\n",
    "3. BIOS 执行 kernel loader，加载 OS\n",
    "4. OS 启动后运行 init 进程，该进程按照配置启动各个 App 进程"
   ]
  },
  {
   "cell_type": "markdown",
   "id": "b96957dc",
   "metadata": {
    "slideshow": {
     "slide_type": "subslide"
    }
   },
   "source": [
    "### Measurement\n",
    "\n",
    "![](https://s3.laisky.com/uploads/2023/04/tee-101/pcr.png)\n",
    "\n",
    "TPM 中包含了数个只读寄存器，称为 PCRs（Platform Configuration Registers）。\n",
    "\n",
    "每当系统重启时，所有的 PCR 都会被清空。然后在系统启动过程的不同阶段，\n",
    "各个 PCR 按照预设的程序会对系统当前的状态进行度量（Measurement），\n",
    "并且将度量值写入到对应的 PCR 之中。"
   ]
  },
  {
   "cell_type": "markdown",
   "id": "747b6419",
   "metadata": {
    "slideshow": {
     "slide_type": "subslide"
    }
   },
   "source": [
    "可以用一段伪代码来描述 tpm 的行为\n",
    "\n",
    "```go\n",
    "// TPM PCR 的行为几乎和 hash 函数一模一样\n",
    "hasher := sha256.New()\n",
    "\n",
    "<- bootblock.Ready()\n",
    "hasher.Write(bootblock.Measure())\n",
    "tpm.SetPCR(1, hasher.Sum(nil))\n",
    "\n",
    "<- bios.Ready()\n",
    "hasher.Write(bios.Measure())\n",
    "tpm.SetPCR(2, hasher.Sum(nil))\n",
    "\n",
    "<- os.Ready()\n",
    "hasher.Write(os.Measure())\n",
    "tpm.SetPCR(3, hasher.Sum(nil))\n",
    "\n",
    "...\n",
    "```\n",
    "\n",
    "`PCR[N] = HASHalg( PCR[N] || ArgumentOfExtend)`"
   ]
  },
  {
   "cell_type": "markdown",
   "id": "82af83bf",
   "metadata": {
    "slideshow": {
     "slide_type": "subslide"
    }
   },
   "source": [
    "[TCG PC Client Platform TPM Profile Specification for TPM 2.0.pdf] 规范要求 TPM 2.0 硬件应该至少支持 24 个 PCRs，\n",
    "且支持 SHA256 和 SHA384 算法。\n",
    "\n",
    "![](https://s3.laisky.com/uploads/2023/04/tee-101/pcrs.png)"
   ]
  },
  {
   "cell_type": "markdown",
   "id": "286ef291",
   "metadata": {
    "slideshow": {
     "slide_type": "subslide"
    }
   },
   "source": [
    "前面提到 PCRs 是只读寄存器，所以在系统启动过程中生成的 PCR 值是不可篡改的。\n",
    "在制作系统之时，我们可以将 PCR 的值记录下来，然后在日后系统启动时进行校验，所有的 PCRs 都不应发生任何变化。\n",
    "\n",
    "实际上我们并不需要手动去记录和校验 PCR 的值。TPM 除了度量外还内置了密钥生成的功能，\n",
    "它可以根据利用设备的硬件私钥和当前 PCR 值派生一个用户密钥。\n",
    "只要是同一台 TPM 设备，只要系统的 PCR 值没有发生变化，那么派生出来的密钥也是一样的。\n",
    "\n",
    "Windows 磁盘加密工具 BitLocker 就利用了 TPM 的这一功能。\n",
    "它会在系统启动时，根据当前的 PCR 值派生一个密钥，然后用这个密钥对磁盘进行加密。\n",
    "一旦系统被篡改，就会导致 PCR 发生变化，那么就无法再次派生出相同的密钥，从而无法解密磁盘。"
   ]
  },
  {
   "cell_type": "markdown",
   "id": "f9cd3cda",
   "metadata": {},
   "source": []
  },
  {
   "cell_type": "markdown",
   "id": "6f3dc9d4",
   "metadata": {},
   "source": []
  },
  {
   "cell_type": "markdown",
   "id": "bf6e23db",
   "metadata": {},
   "source": []
  },
  {
   "cell_type": "markdown",
   "id": "6bcfead4",
   "metadata": {},
   "source": []
  },
  {
   "cell_type": "markdown",
   "id": "e234cc9d",
   "metadata": {
    "slideshow": {
     "slide_type": "subslide"
    }
   },
   "source": [
    "### 系统安全的范畴\n",
    "\n",
    "![](https://s3.laisky.com/uploads/2023/04/tee-101/tcb-base.jpeg)"
   ]
  },
  {
   "cell_type": "markdown",
   "id": "aa331add",
   "metadata": {},
   "source": []
  },
  {
   "cell_type": "markdown",
   "id": "d9d69ee9",
   "metadata": {},
   "source": []
  },
  {
   "cell_type": "markdown",
   "id": "64125d32",
   "metadata": {},
   "source": []
  },
  {
   "cell_type": "markdown",
   "id": "81b9f51c",
   "metadata": {
    "slideshow": {
     "slide_type": "slide"
    }
   },
   "source": [
    "## 云时代的安全新需求\n",
    "\n",
    "过去人们在自己的机器上处理数据，机器和局域网完全在自己的掌控之中，\n",
    "理论上只要做好外围安全防护，就不用担心数据安全问题。"
   ]
  },
  {
   "cell_type": "markdown",
   "id": "231c9d3a",
   "metadata": {
    "slideshow": {
     "slide_type": "fragment"
    }
   },
   "source": [
    "但是随着进入云时代，数据量和计算量越来越大，人们需要利用云上的可扩展性计算资源来处理海量数据。\n",
    "这就导致人们需要将自己的程序和数据传输到云上，涉及到了传输安全、存储安全和计算安全的问题。"
   ]
  },
  {
   "cell_type": "markdown",
   "id": "c42f88de",
   "metadata": {
    "slideshow": {
     "slide_type": "subslide"
    }
   },
   "source": [
    "在系统安全的范畴下，侧重考虑安全的两层含义：\n",
    "\n",
    "* 完整性 Integrity\n",
    "* 保密性 Confidential"
   ]
  },
  {
   "cell_type": "markdown",
   "id": "16b91123",
   "metadata": {
    "slideshow": {
     "slide_type": "subslide"
    }
   },
   "source": [
    "**完整性**用于监测数据不被篡改。如代码完整性意味着在云上运行的应用确实是自己构建的应用，\n",
    "应用没有被任何程度的篡改，程序运行行为符合预期。\n",
    "\n",
    "操作系统完整性则表明操作系统没有被篡改，程序运行于正确、安全的操作系统之中。\n",
    "\n",
    "**机密性**意味着数据明文不为外人所窥视，仅有持有密钥的参与者可以解密读取明文。\n",
    "\n",
    "在云场景下，完整性确保云上运行的确实是自己的应用，输入的确实是自己的数据。\n",
    "而保密性则确保程序所处理的数据以及程序本身（算子）不被外人窥探。"
   ]
  },
  {
   "cell_type": "markdown",
   "id": "6de9cbe0",
   "metadata": {
    "slideshow": {
     "slide_type": "subslide"
    }
   },
   "source": [
    "### 云的安全现状\n",
    "\n",
    "现代的云服务提供商（CSP）一般利用 虚拟机（VM）/runC 等技术提供多租户支持，\n",
    "租户的运行环境被限制于沙盒（Sandbox、SFI）之中，无法访问沙盒外的宿主机资源，租户与租户之间也相互隔离。\n",
    "\n",
    "但是就算我们认为这套沙盒隔离机制是有效的，实际上也丝毫没有提高租户的安全性，\n",
    "更多的只是提高了 CSP 平台自身的安全性。"
   ]
  },
  {
   "cell_type": "markdown",
   "id": "7db3ad70",
   "metadata": {
    "slideshow": {
     "slide_type": "subslide"
    }
   },
   "source": [
    "![](https://s3.laisky.com/uploads/2023/04/tee-101/csp-current.drawio.png)\n",
    "\n",
    "沙盒内的租户难以从沙盒中逃逸，但是沙盒本身对于宿主机 OS 而言就是一个普通的进程，\n",
    "其运行时数据完全是明文的，宿主机 OS 也可以随意访问沙盒内的数据。\n",
    "\n",
    "简而言之，**云上应用可谓毫无安全性可言**。"
   ]
  },
  {
   "cell_type": "markdown",
   "id": "9c72febe",
   "metadata": {
    "slideshow": {
     "slide_type": "fragment"
    }
   },
   "source": [
    "Ps. 至于有些 CSP 声称提供了所谓的可信计算环境，在后续文章中会进行批判😂。"
   ]
  },
  {
   "cell_type": "markdown",
   "id": "a6b72c8b",
   "metadata": {},
   "source": []
  },
  {
   "cell_type": "markdown",
   "id": "0830ce60",
   "metadata": {},
   "source": []
  },
  {
   "cell_type": "markdown",
   "id": "f99f3315",
   "metadata": {},
   "source": []
  },
  {
   "cell_type": "markdown",
   "id": "f699daf9",
   "metadata": {},
   "source": []
  },
  {
   "cell_type": "markdown",
   "id": "4bf35df8",
   "metadata": {},
   "source": []
  },
  {
   "cell_type": "markdown",
   "id": "07df1e5b",
   "metadata": {},
   "source": []
  },
  {
   "cell_type": "markdown",
   "id": "7658fb91",
   "metadata": {},
   "source": []
  },
  {
   "cell_type": "markdown",
   "id": "0a285c1f",
   "metadata": {},
   "source": []
  },
  {
   "cell_type": "markdown",
   "id": "6dfac6cc",
   "metadata": {},
   "source": []
  }
 ],
 "metadata": {
  "celltoolbar": "Slideshow",
  "kernelspec": {
   "display_name": "Python 3 (ipykernel)",
   "language": "python",
   "name": "python3"
  },
  "language_info": {
   "codemirror_mode": {
    "name": "ipython",
    "version": 3
   },
   "file_extension": ".py",
   "mimetype": "text/x-python",
   "name": "python",
   "nbconvert_exporter": "python",
   "pygments_lexer": "ipython3",
   "version": "3.9.7"
  }
 },
 "nbformat": 4,
 "nbformat_minor": 5
}
