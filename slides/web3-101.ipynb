{
 "cells": [
  {
   "cell_type": "markdown",
   "id": "9b5f60e0",
   "metadata": {
    "slideshow": {
     "slide_type": "slide"
    }
   },
   "source": [
    "# 面向 Web2 工程师的 Web3 入门"
   ]
  },
  {
   "cell_type": "markdown",
   "id": "10dd0fb9",
   "metadata": {
    "slideshow": {
     "slide_type": "subslide"
    }
   },
   "source": [
    "此文面向 Web2 工程师，介绍以区块链技术为核心的 Web3 相关知识。\n",
    "\n",
    "主要围绕 blockchain 的基本概念，不涉及具体的币，也不提供任何投资建议。"
   ]
  },
  {
   "cell_type": "markdown",
   "id": "dc67f941",
   "metadata": {
    "slideshow": {
     "slide_type": "slide"
    }
   },
   "source": [
    "## 区块链矿工\n",
    "\n",
    "Web3 世界言必称“去中心化、分布式、防篡改、抗审查”，其技术核心就是区块链（Blockchain）。\n",
    "\n",
    "区块链本身的技术原理很简单，身为技术人员，只需要掌握如下知识点：\n",
    "\n",
    "1. 单向链表: 每一个节点都有一个指向下一个节点的指针，新的节点会被加到链表的尾部。\n",
    "2. Hash: 一种将任意长度的数据映射为固定长度的数据的方法，可用于数据的校验。"
   ]
  },
  {
   "cell_type": "markdown",
   "id": "78779b3f",
   "metadata": {
    "slideshow": {
     "slide_type": "subslide"
    }
   },
   "source": [
    "#### Merkle Tree\n",
    "\n",
    "Hash 虽然已经足以保证数据的完整性，但是当原始数据量较大时，任何更新和校验都需要重算整个数据的 Hash 值，这样效率很低。\n",
    "\n",
    "而 Merkle Tree 通过将原始数据切片，从而实现高效的部分校验和更新。\n",
    "\n",
    "![](https://s3.laisky.com/uploads/2024/06/Merkle%20tree.png)"
   ]
  },
  {
   "cell_type": "markdown",
   "id": "5a3f7586",
   "metadata": {
    "slideshow": {
     "slide_type": "subslide"
    }
   },
   "source": [
    "好了，你已经足够了解区块链了😂\n",
    "\n",
    "![](https://s3.laisky.com/uploads/2024/05/What-Is-Blockchain-Infographic.jpg)"
   ]
  },
  {
   "cell_type": "markdown",
   "id": "fa8a4df4",
   "metadata": {
    "slideshow": {
     "slide_type": "subslide"
    }
   },
   "source": [
    "### inside BTC\n",
    "\n",
    "说起取款链很多人第一反应都是 Bitcoin。Bitcoin 是一种数字货币，而数字货币的具体实现就是：交易。\n",
    "\n",
    "而这也正是区块链上每一个区块的核心：存储交易记录。"
   ]
  },
  {
   "cell_type": "markdown",
   "id": "c15d8fa9",
   "metadata": {
    "slideshow": {
     "slide_type": "subslide"
    }
   },
   "source": [
    "![](https://s3.laisky.com/uploads/2024/05/bitcoin_block_overview.jpeg)"
   ]
  },
  {
   "cell_type": "markdown",
   "id": "cf4a7306",
   "metadata": {
    "slideshow": {
     "slide_type": "subslide"
    }
   },
   "source": [
    "### 矿工与交易者\n",
    "\n",
    "Web3 和 Web2 世界最大的区别，就是 Web3 中并不会有一个中心化的服务器负责运行整个网络。\n",
    "\n",
    "Web3 的网络，以区中心分布式节点的方式，运行于世界各地。负责运行这些节点的，就是矿工。\n",
    "\n",
    "矿工的核心职责，除了维持网络的正常运行和通讯外，最重要的就是尽快响应交易者发来的交易请求，将其打包为新的区块，添加到区块链头部。"
   ]
  },
  {
   "cell_type": "markdown",
   "id": "09323eaa",
   "metadata": {
    "slideshow": {
     "slide_type": "subslide"
    }
   },
   "source": [
    "### Network Protocol\n",
    "\n",
    "每一个矿工运行的都是相同的代码，他们互相间是完全对等的（此处暂不考虑质押的情形）。\n",
    "矿工们所运行的同质化的代码，也就是这个区块链网络的 Protocol。\n",
    "\n",
    "这个 Protocol 中会详细地定义如何处理交易、如何将交易打包为区块、如何广播区块、如何校验区块、以及如何激励矿工。\n",
    "\n",
    "比如 BTC 的 protocol 定义，矿工可以在新生成的区块中，通过创建 coinbase trasaction 为自己的账户凭空转入一笔 BTC，这也就是人们俗称的“挖到矿了”。"
   ]
  },
  {
   "cell_type": "markdown",
   "id": "d3a2cf3b",
   "metadata": {
    "slideshow": {
     "slide_type": "subslide"
    },
    "vscode": {
     "languageId": "plaintext"
    }
   },
   "source": [
    "![](https://s3.laisky.com/uploads/2024/06/coinbase.png)"
   ]
  },
  {
   "cell_type": "markdown",
   "id": "c5ab46e4",
   "metadata": {
    "slideshow": {
     "slide_type": "subslide"
    }
   },
   "source": [
    "### 矿工们的竞争\n",
    "\n",
    "为了尽可能获取更多的利益，矿工们都希望区块链网络能够接受自己的区块作为新的区块链头部。\n",
    "\n",
    "所以矿工尽可能快和多的打包交易，生成新的区块，然后将这个区块尽可能广的散播出去，如果这个区块被广为接受成为取款链头部的新区块，这名矿工就可以获取挖出新区块所附带的奖励。\n",
    "\n",
    "当某一个矿工接收到其他矿工发来的区块时，它会根据 Protocol 的规则校验这个区块，如果校验通过，那么它知道自己在本轮竞争中已经落后了。它最明智的选择就是立即停止当前的工作，将收到的区块添加到头部，同时尽最大可能将这个区块广播出去，然后开始新一轮的竞争。"
   ]
  },
  {
   "cell_type": "markdown",
   "id": "abc91313",
   "metadata": {
    "slideshow": {
     "slide_type": "subslide"
    }
   },
   "source": [
    "### 分叉\n",
    "\n",
    "每个矿工都在自顾自的生成自己的区块，然后将其广播出去。即时所有的矿工都是诚实的，由于网络的延迟，还是有可能在不同的区域，有不同的区块都被各自隔阂的矿工们接受成为了新的区块链头部。此时，我们就称网络出现了分叉（Fork）。\n",
    "\n",
    "这种情况类似于分布式系统中的脑裂（Split Brain）。这种情况不会持续太久，对区块链历史存在歧义的矿工终将相遇，根据 BTC Protocol 的规定，历史最长的链将被认为是正确的链，其他的分叉会被抛弃。那些不幸选择了错误分叉的矿工，相当于白白浪费了自己的算力。"
   ]
  },
  {
   "cell_type": "markdown",
   "id": "6edcf427",
   "metadata": {
    "slideshow": {
     "slide_type": "subslide"
    }
   },
   "source": [
    "### PoW\n",
    "\n",
    "既然每生成一个新区块都可以给自己发奖励，那么矿工们肯定会倾向于疯狂生成新的区块。\n",
    "\n",
    "在 BTC 的协议中也考虑到了这一点，它通过调整挖矿 PoW 的难度，来让区块的生成速率保持在 10 分钟一个。"
   ]
  },
  {
   "cell_type": "markdown",
   "id": "a85657ca",
   "metadata": {
    "slideshow": {
     "slide_type": "subslide"
    }
   },
   "source": [
    "1992 年的论文 'Pricing via Processing or Combatting Junk Mail' 最早提及了 PoW 的思想。\n",
    "\n",
    "PoW 的想法最早被应用于反垃圾邮件领域，简而言之，要想保持匿名性的同时防止滥用，最简单的方式就提高发送者的成本。\n",
    "\n",
    "比如我要求每个发信者，必须在邮件正文以外，再提供一个 nonce 值。且这个 nonce 值需要满足，hash(content + nonce) 的前缀有 N 个 0。\n",
    "\n",
    "这样，通过约定 N 的大小，就可以控制发送邮件的成本，从而防止滥用。"
   ]
  },
  {
   "cell_type": "markdown",
   "id": "593d7e3b",
   "metadata": {
    "slideshow": {
     "slide_type": "subslide"
    }
   },
   "source": [
    "在 BTC 的每一个区块的 header 中，就存在这么一个 nonce 值。矿工们通过生成这个 nonce 值，使得整个区块的 hash 值满足一定的条件，从而使这个区块能够通过其他节点的校验。\n",
    "\n",
    "所以 BTC 中的每一个区块，都是在当时历史条件下，一定量算力（十分钟）的证明。前文提到遇到分叉时会选择历史最长的链，这句话其实不正确，准确的说，是选择历史算力最大的链。"
   ]
  },
  {
   "cell_type": "markdown",
   "id": "69e7af86",
   "metadata": {
    "slideshow": {
     "slide_type": "subslide"
    },
    "vscode": {
     "languageId": "plaintext"
    }
   },
   "source": [
    "#### 51% Attack\n",
    "\n",
    "通过 PoW 和基于哈希的链表，区块链提供了一种去中心化的信任机制。\n",
    "\n",
    "但其也不是完全可靠的，如果有人控制了超过全网 51% 的算力，那么他就可以生成任意的区块，并且让这个区块成为网络中的最长链，从而迫使其他节点接受这个链。"
   ]
  },
  {
   "cell_type": "markdown",
   "id": "61a57c83",
   "metadata": {
    "slideshow": {
     "slide_type": "subslide"
    },
    "vscode": {
     "languageId": "plaintext"
    }
   },
   "source": [
    "### 共识与拜占庭问题\n",
    "\n",
    "在 Web2 领域，可以使用 RAFT 协议可以用来解决分布式共识。RAFT 的核心在于选主，只有 leader 可以写入数据。而各个节点参与选主的依据，就是自己所持有的数据长度和 term 的大小。\n",
    "\n",
    "但是 Web2 领域面临的是非拜占庭问题，主要的问题来自于网络的不可靠。而 Web3 领域面临的是拜占庭问题，即每一个节点都可能是恶意的，会提供假数据。\n",
    "\n",
    "所以无论是 BTC 还是 Ethereum，生成新区块前不需要选主，而是每个节点各自生成新区块，然后通过竞争去抢占合并入链的机会。"
   ]
  },
  {
   "cell_type": "markdown",
   "id": "d5b76808",
   "metadata": {
    "slideshow": {
     "slide_type": "subslide"
    }
   },
   "source": [
    "### 虚假的分布式与吞吐瓶颈\n",
    "\n",
    "虽然区块链到处吹嘘去中心化分布式，尤其 Ethereum 还经常自称世界计算机。但实际上，从技术的角度来说，目前的主流区块链的计算能力是很原始和低下的。\n",
    "\n",
    "虽然每一个节点都是分布式的并行运算，但是它们都是在竞争唯一一个区块上链的份额。所以从最终的链的角度来看，根本不存在任何的并行，有的只是完全串行化的交易记录。\n",
    "\n",
    "也就是说，目前的区块链网络，无论有多少节点在运行，其真实的计算能力，只有一个独占的线程。而且这个线程没有任何并发，没有任何形式的资源竞争，只有完全序列化的计算。"
   ]
  },
  {
   "cell_type": "markdown",
   "id": "39bedaca",
   "metadata": {
    "slideshow": {
     "slide_type": "subslide"
    }
   },
   "source": [
    "<video width=\"960\" height=\"540\" controls>\n",
    "  <source src=\"https://s3.laisky.com/uploads/2024/06/The%20hyper%20parallel%20computer%20launches%20right%20now.mp4\" type=\"video/mp4\">\n",
    "Your browser does not support the video tag.\n",
    "</video>"
   ]
  },
  {
   "cell_type": "markdown",
   "id": "da376b6a",
   "metadata": {
    "slideshow": {
     "slide_type": "slide"
    },
    "vscode": {
     "languageId": "plaintext"
    }
   },
   "source": [
    "## 钱包与交易者\n",
    "\n",
    "前文谈论的都是较为底层的 blockchain network protocol 和矿工。\n",
    "\n",
    "而大部分用户实际上是不需要和这些底层的东西打交道的。每一个 blockchain network，我们称之为 Layer-1 chain，都会定义至少一种 coin，用户设立激励机制，维持网络的运转。比如 Bitcoin 网络的 BTC，Ethereum 网络的 ETH。\n",
    "\n",
    "交易者在 Layer-1 chain 上的任何操作，都需要支付一定量的 coin 作为手续费。这颗手续费的去向由 Protocol 规定，可能一部分归矿工，一部分焚毁（burn），一部分收归基建基金。"
   ]
  },
  {
   "cell_type": "markdown",
   "id": "34e4fc0e",
   "metadata": {
    "slideshow": {
     "slide_type": "subslide"
    }
   },
   "source": [
    "### 钱包\n",
    "\n",
    "前文提到，区块链上的每一个区块都是存储交易记录的。而这些交易记录，就是用户在 Layer-1 chain 上的操作。所有的这些操作，如果涉及到资产，那么都需要这个资产的所有者使用自己的私钥签名。\n",
    "\n",
    "所谓的钱包，其实就是一个管理用户私钥的工具。通过私钥可以生成公钥，而钱包地址，往往就是公钥的哈希值。\n",
    "\n",
    "所以这些虚拟货币实际上并没有“保存”在钱包里，而是以交易记录的形式存在于区块链的历史记录之中，交易者通过钱包内的私钥，来行使对这些资产的所有权。"
   ]
  },
  {
   "cell_type": "markdown",
   "id": "0175c7b9",
   "metadata": {},
   "source": [
    "![](https://s3.laisky.com/uploads/2024/06/btc-privkey.png)"
   ]
  },
  {
   "cell_type": "markdown",
   "id": "d353de55",
   "metadata": {},
   "source": [
    "### 冷钱包与热钱包\n",
    "\n",
    "每一个私钥，就对应一个钱包地址，也就是区块链上的一个账户。\n",
    "\n",
    "可以利用简单的几行代码批量生成大量的随机私钥，一般来说一个链上总共允许有 2^256 个账户，远远多于宇宙中离子的数量，基本是无需担心别人恰好碰撞出了你的私钥地址。\n",
    "\n",
    "私钥决定了所有资产的所有权，所以一定要妥善保管。但是链上的一切操作都需要使用私钥签名，越频繁使用的东西越难保密。所以为了增强安全性，我们会将私钥分类为冷钱包和热钱包。\n",
    "\n",
    "大量的核心资产，存放在冷钱包中，冷钱包的私钥一般离线存储于安全的地方，如保险箱里的手抄纸，或者固件加密的硬件钱包。而少量频繁操作的资产存放在热钱包中，热钱包的私钥暴露风险会更高一些，但是因为资产量少，损失也会更小。"
   ]
  },
  {
   "cell_type": "markdown",
   "id": "2b8522bc",
   "metadata": {},
   "source": [
    "### 地址与隐私\n",
    "\n",
    "虽然区块链号称去中心化和匿名，但其实追查资金的流向和身份是一件比传统金融系统更容易的事情，也很难保护用户隐私。\n",
    "\n",
    "链上的每一笔交易都是公开透明的，可以轻易地追查每一笔资金的流向。所以用户最好常备多个地址，避免让交易地址和提币地址间产生明显的关联。\n",
    "\n",
    "解除资金关联的的方式一般是通过交易所或混币所。利用交易所提币可以让交易对外人不可见，仅有交易所能够关联你的地址。利用混币所则是可以对所有人都不可见，但是需要支付更高的手续费。\n",
    "\n",
    "混币所和交易所的核心原理是一致的，就是将很多人的资产汇合进一个地址，再分别转给各自的收款地址，让外人难以追踪每一笔资金的具体流向。"
   ]
  },
  {
   "cell_type": "markdown",
   "id": "46be9863",
   "metadata": {},
   "source": [
    "### 账本与交易\n",
    "\n",
    "虽然交易都记录在区块上，但是不同的协议，记载交易的具体形式仍然存在很大区别。目前最主流的两种交易形式就是 UTXO 和 Account。"
   ]
  },
  {
   "cell_type": "markdown",
   "id": "dea8182d",
   "metadata": {},
   "source": [
    "#### Account Model\n",
    "\n",
    "Ethereum 和传统金融（如银行）都采用账户模式，也就是在持久化的数据中，存储账户和余额。这样做的优点是实现简单，但是要追踪每一笔钱的去向就变得比较困难。\n",
    "\n",
    "比如如果一个内鬼悄悄篡改了某个账户的余额，那么这个账户的所有者是很难察觉的。只能通过频繁和繁复的对账，去监控金额的不一致性。"
   ]
  },
  {
   "cell_type": "markdown",
   "id": "4afc4859",
   "metadata": {},
   "source": [
    "#### UTXO Model\n",
    "\n",
    "BTC 采用的是 Unspent Transaction Outputs（UTXOs）模式，每个地址下记录的是尚未消费的入账记录（UTXO），每一个 UTXO 都包含一个金额和其源自的交易（Transaction ID）。\n",
    "\n",
    "每一个交易都由若干个 inputs 和 outputs 组成，其中 inputs 就是付款方支付的 UTXOs，outputs 就是收款方收到的 UTXOs。\n",
    "每一笔交易都会销毁输入的 UTXOs 同时诞生一些新的输出的 UTXOs。通过回溯交易历史，每个 UTXO 最终可以追溯到其由矿工挖出时产生的 coinbase 交易（coinbase transaction）。"
   ]
  },
  {
   "cell_type": "markdown",
   "id": "f2cd211a",
   "metadata": {},
   "source": [
    "![](https://s3.laisky.com/uploads/2024/06/btc-utxo.png)"
   ]
  },
  {
   "cell_type": "markdown",
   "id": "44c29e3c",
   "metadata": {},
   "source": [
    "BTC 的每一笔交易的转账费用也通过其中所包含的 UTXO 数量来确定。\n",
    "\n",
    "因此，作为私人钱包管理者，应该尽量避免持有大量小额 UTXO。\n",
    "在网络转账费较低的时候，可以通过将小额 UTXO 批量转账给自己的方式，以较低成本将其融合成一个大额的 UTXO。\n",
    "\n",
    "如果一个 UTXO 的面额小于转账所需的费用，那么这个 UTXO 实际上已经失去了价值，被称为比特币尘埃（bitcoin dust）。"
   ]
  },
  {
   "cell_type": "markdown",
   "metadata": {},
   "source": [
    "#### Ordinals & Rare Sats\n",
    "\n",
    "正因为 BTC 采用了 UTXO 而非账本模式，所以实际上 BTC 并不是严格意义上的 FT（Fungible Token）。\n",
    "每一个 BTC 之间实际上是有区别的，每一个 BTC 都可以回溯到最初的被挖出矿时的 coinbase transaction 的第 n 笔 output。\n",
    "\n",
    "BTC 的最小单位被称为 Satoshi，1 BTC = 100,000,000 Satoshi，简称为 Sats。通过 UTXO，每一个 Sats 都是独一无二的来源。\n",
    "\n",
    "根据其来源，可以将 Sats 按照稀有度分类:"
   ]
  },
  {
   "cell_type": "markdown",
   "id": "335dac75",
   "metadata": {},
   "source": [
    "![](https://s3.laisky.com/uploads/2024/06/btc-sats-rare.png)"
   ]
  },
  {
   "cell_type": "markdown",
   "metadata": {},
   "source": [
    "#### Runes & Inscription\n",
    "\n",
    "BTC 除了可以通过 UTXO 来建议唯一性外，还可以通过其他的一些技术手段来为 BTC 增加一些特殊的属性。\n",
    "BTC 允许在交易中携带一些和交易无关的自定义数据，根据这些数据不同的存放位置，可将其称为 Runes（符文） 和 Inscription（铭文）。\n",
    "\n",
    "* Runes: 将自定义数据通过 OP_CODE 存放在交易的 output 中，数据量较小。\n",
    "* Inscription: 将自定义数据存放在 SegWit 存放在交易的 witness 中，完整性由 segwit 保证，不影响 merkel root，数据量较大。"
   ]
  },
  {
   "cell_type": "markdown",
   "id": "d7096c35",
   "metadata": {},
   "source": [
    "![](https://s3.laisky.com/uploads/2024/06/ad66bc64-ordinals-12.png)\n",
    "\n",
    "*Inscription 是 BRC-20 的技术基础*"
   ]
  },
  {
   "cell_type": "markdown",
   "id": "5a7b7181",
   "metadata": {},
   "source": [
    "## Smart Contract\n",
    "\n",
    "前文介绍了 Layer-1 chain 的基本概念，以及用户如何在链上进行交易。但是光这些是不足以支撑起币圈繁荣的生态的。\n",
    "\n",
    "本章以 Ethereum 的智能合约为例，介绍以 token 为核心的 layer-2 生态。"
   ]
  },
  {
   "cell_type": "markdown",
   "id": "6c76df33",
   "metadata": {},
   "source": [
    "### EVM\n",
    "\n",
    "根据前文的描述，我们知道 blockchain 实际上是一个分布式的链表，可以用来永久存储信息。而且这个链由矿工所运行的计算节点来维护。\n",
    "\n",
    "那么，给这个链在存储之外，增加一点点的计算功能，使得矿工在打包交易时，也能顺带运行一些代码，这些代码可以修改和存储链上的数据，这就是智能合约。\n",
    "\n",
    "Smart Contract 这个概念最早由 Nick Szabo 在 1970 年提出，所以也别觉得 Ethereum 是什么伟大的创造。"
   ]
  },
  {
   "cell_type": "markdown",
   "metadata": {},
   "source": [
    "Ethereum 上，每个矿工节点都会运行一个 EVM（Ethereum Virtual Machine），这个虚拟机可以运行一种叫做 Solidity 的高级语言编写的智能合约。\n",
    "\n",
    "部署智能合约，就像是一次交易，其代码将会永久存储在链上，并且会生成一个地址，其他的用户可以通过这个地址来调用这个智能合约。\n",
    "\n",
    "智能合约就是一个函数方法（methods），可以理解为面向对象的一个 class。它可以声明一些内部变量，这些变量会存储于链上，用户可以通过调用方法来修改这些变量。"
   ]
  },
  {
   "cell_type": "markdown",
   "id": "89bfe389",
   "metadata": {},
   "source": [
    "### ERC-20 FT\n",
    "\n",
    "基于智能合约，我们就可以发行自己的币了， 为了和 layer-1 的 coin 相区分，利用智能合约发行的币我们称为 layer-2 的 token。\n",
    "\n",
    "其实原理非常简单，你声明一个 class，然后声明一些内部变量，其中一个变量是 mapping，用来保存 `user address -> balance` 的账本。\n",
    "然后再设计一些方法，比如用于转账的 `transfer`，用户创造货币的 `mint`，用户查询余额的 `balanceOf` 等，这个 smart contract 就相当于定义了一种全新的 token。"
   ]
  },
  {
   "cell_type": "markdown",
   "id": "5959a040",
   "metadata": {},
   "source": [
    "为了方便交互，Ethereum 基金会定义了 ERC-20 标准，只要你的合约包含如下 methods，那么你的 token 就可以作为一种标准 ERC-20 FT 被其他的钱包和交易所所支持。\n",
    "\n",
    "```js\n",
    "totalSupply()\n",
    "balanceOf(account)\n",
    "transfer(to, amount)\n",
    "allowance(owner, spender)\n",
    "approve(spender, amount)\n",
    "transferFrom(from, to, amount)\n",
    "```"
   ]
  },
  {
   "cell_type": "markdown",
   "id": "cba393f7",
   "metadata": {},
   "source": [
    "```js\n",
    "contract ERC20 {\n",
    "    mapping(address => uint256) public balanceOf;\n",
    "    mapping(address => mapping(address => uint256)) public allowance;\n",
    "\n",
    "    function mint(address _to, uint256 _value) public onlyOwner {\n",
    "        balanceOf[_to] += _value;\n",
    "        totalSupply += _value;\n",
    "        emit Transfer(address(0), _to, _value);\n",
    "    }\n",
    "\n",
    "    function transfer(\n",
    "        address _to,\n",
    "        uint256 _value\n",
    "    ) public returns (bool success) {\n",
    "        require(balanceOf[msg.sender] >= _value, \"Insufficient balance\");\n",
    "        balanceOf[msg.sender] -= _value;\n",
    "        balanceOf[_to] += _value;\n",
    "        emit Transfer(msg.sender, _to, _value);\n",
    "        return true;\n",
    "    }\n",
    "\n",
    "    function balance() external view returns (uint256) {\n",
    "        return balanceOf[msg.sender];\n",
    "    }\n",
    "}\n",
    "\n",
    "```"
   ]
  },
  {
   "cell_type": "markdown",
   "id": "236a0139",
   "metadata": {},
   "source": [
    "我发行了一种名为 laisky 的 ERC-20 token\n",
    "\n",
    "![](https://s3.laisky.com/uploads/2024/06/erc-20-laisky.png)"
   ]
  },
  {
   "cell_type": "markdown",
   "id": "b454a1e1",
   "metadata": {},
   "source": [
    "### ERC-721 NFT\n",
    "\n",
    "所以 ERC-20 说白了就只是一个 mapping，记录每一个地址的余额，仅此而已。\n",
    "\n",
    "它的缺点是，每一个 token 都是一样的，没有任何区别。为了能更好的和独特的资产建立联系，Ethereum 基金会定义了 ERC-721 标准，用来定义一种独特的 token，也就是 NFT（Non-Fungible Token）。"
   ]
  },
  {
   "cell_type": "markdown",
   "id": "6a2e33be",
   "metadata": {},
   "source": [
    "ERC-721 实际上就是比 ERC-20 增加了一个 `_tokenId`，现在每一个 token 都是唯一的了。而且每一个 token 都会存储一份 metadata，用来保存一个 JSON 格式的数据，这个数据可以包含 token 的名字、描述、图片等信息。\n",
    "\n",
    "```js\n",
    "{\n",
    "    \"name\": \"NFT Laisky 01\",\n",
    "    \"description\": \"This is an example NFT URI pointing to a resource.\",\n",
    "    \"image\": \"https://s3.laisky.com/public/head.png\",\n",
    "    \"external_url\": \"https://blog.laisky.com/about/?lang=en\",\n",
    "    \"attributes\": [\n",
    "        {\n",
    "            \"trait_type\": \"Color\",\n",
    "            \"value\": \"Blue\"\n",
    "        },\n",
    "        {\n",
    "            \"trait_type\": \"Size\",\n",
    "            \"value\": \"Medium\"\n",
    "        }\n",
    "    ]\n",
    "}\n",
    "```"
   ]
  },
  {
   "cell_type": "markdown",
   "metadata": {},
   "source": [
    "![](https://s3.laisky.com/uploads/2024/06/nft-laisky.png)"
   ]
  },
  {
   "cell_type": "markdown",
   "id": "c28d2197",
   "metadata": {},
   "source": [
    "### ERC-1155 & ERC-3525\n",
    "\n",
    "ERC-20/ERC-721 的每一次交易只能涉及一个 token，而且每一个合约也只能发行一种 token，这在 GameFi 这种需要大量不同类型的 token 的场景下是不够的。\n",
    "所以人们提出了 ERC-1155 标准，它可以同时发行多种 token，每一种 token 都是独立的，但是可以通过一个合约来管理。\n",
    "而且可以在一次交易中同时转账不同数目且不同类型的 tokens。\n",
    "\n",
    "ERC-721 虽然具有了唯一性，但是它不可拆分。这一特性对于数字藏品而言是合理的，但是在金融领域，比如为了实现分红或共同所有权，我们需要一种可以拆分的 NFT token。\n",
    "所以人们提出了 ERC-3525 标准，这一标准定义的 token 也称为 SFT，它的 Token 既有唯一的 `_tokenId`，又可以被无限拆分。"
   ]
  },
  {
   "cell_type": "markdown",
   "id": "51b4923e",
   "metadata": {},
   "source": [
    "### Upgradable\n",
    "\n",
    "智能合约一旦部署，就无法修改。如果重新部署一个新合约，既会导致旧合约所有内部数据的丢失，也会导致合约地址的变更，这对于用户来说是不可接受的。\n",
    "\n",
    "为了解决这个问题，人们提出了基于 Proxy 的合约升级方案。这种方案的核心思想是，将合约的代码和数据分离，面向客户的是负责保存数据的 Proxy 合约，\n",
    "但是 Proxy 中不包含任何逻辑代码，只是想所有的请求，都转发给实现业务代码的 Implementation 合约。\n",
    "\n",
    "当需要升级时，只需要部署一个新的 Implementation 合约，然后将 Proxy 合约的指针更新为新的 Implementation 合约地址即可。"
   ]
  },
  {
   "cell_type": "markdown",
   "id": "6da0cffd",
   "metadata": {},
   "source": [
    "![](https://s3.laisky.com/uploads/2024/06/smartcontract-upgradable.png)"
   ]
  },
  {
   "cell_type": "markdown",
   "id": "80ec6d9c",
   "metadata": {},
   "source": []
  },
  {
   "cell_type": "markdown",
   "id": "8843e07f",
   "metadata": {},
   "source": []
  },
  {
   "cell_type": "markdown",
   "metadata": {},
   "source": []
  }
 ],
 "metadata": {
  "celltoolbar": "Slideshow",
  "kernelspec": {
   "display_name": "Python 3 (ipykernel)",
   "language": "python",
   "name": "python3"
  },
  "language_info": {
   "codemirror_mode": {
    "name": "ipython",
    "version": 3
   },
   "file_extension": ".py",
   "mimetype": "text/x-python",
   "name": "python",
   "nbconvert_exporter": "python",
   "pygments_lexer": "ipython3",
   "version": "3.10.12"
  }
 },
 "nbformat": 4,
 "nbformat_minor": 5
}
