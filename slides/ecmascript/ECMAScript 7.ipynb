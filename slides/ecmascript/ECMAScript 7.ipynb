{
 "cells": [
  {
   "cell_type": "markdown",
   "metadata": {
    "slideshow": {
     "slide_type": "slide"
    }
   },
   "source": [
    "ECMAScript 7 简介\n",
    "==="
   ]
  },
  {
   "cell_type": "markdown",
   "metadata": {
    "slideshow": {
     "slide_type": "slide"
    }
   },
   "source": [
    "## 什么是 ECMAScript\n",
    "\n",
    "JavaScript 于 1996 年 3 月 由 Netscape 公司发布。\n",
    "\n",
    "之后由 Netscape、Firefox 和 ECMA 参与制定标准，2010 年 JavaScript 1.8.5 后，Firefox 不再发布标准，统一使用 ECMA 的标准。\n",
    "\n",
    "ECMA 全称是`欧洲信息与通信系统标准化协会`，准确的说其实是该协会推出的 `ECMA-262` 标准，该标准也被 ISO 批准为 `ISO-16262` 标准。\n"
   ]
  },
  {
   "cell_type": "markdown",
   "metadata": {
    "slideshow": {
     "slide_type": "subslide"
    }
   },
   "source": [
    "### 现在有哪些主要版本\n",
    "\n",
    "你们现在常写的 js 就是 2010 年推出的 JavaScript 1.8.5，也就是俗称的 ECMAScript 5。\n",
    "\n",
    "2015 年发布了重大改版的 ECMAScript 2015（ES 6）。\n",
    "\n",
    "几天前发布了 ECMAScript 2016（ES 7），预计今后数年内每年都会有新的一版 ES 标准问世。\n",
    "\n",
    "当然还有一些奇门遁甲的 CoffeeScript、TypeScript 另辟蹊径。"
   ]
  },
  {
   "cell_type": "markdown",
   "metadata": {
    "slideshow": {
     "slide_type": "subslide"
    }
   },
   "source": [
    "### 新标准是如何制定的\n",
    "\n",
    "```\n",
    "Strawman(TC39) \n",
    "  -> Proposal(Step 1) \n",
    "    -> Draft(Step 2) \n",
    "      -> Candidate(Step 3) \n",
    "        -> Finished(Step 4)\n",
    "\n",
    "```\n",
    "\n",
    "只有进入 Step 4 的新特性，才能被叫做 ESxx 版的特性。"
   ]
  },
  {
   "cell_type": "markdown",
   "metadata": {
    "slideshow": {
     "slide_type": "slide"
    }
   },
   "source": [
    "## ECMAScript 2016 新特性\n",
    "\n",
    "文档太长，我也没看完，所以仅列举我知道的特性\n",
    "\n",
    "从 ES 6 的大更新以后，包括 ES 7 的之后的诸多更新都会比较简短，不会有太多的功能性变化。"
   ]
  },
  {
   "cell_type": "markdown",
   "metadata": {
    "slideshow": {
     "slide_type": "subslide"
    }
   },
   "source": [
    "先抨击一下，ECMA 现在已经在抄袭 Python 的道路上越走越远……"
   ]
  },
  {
   "cell_type": "markdown",
   "metadata": {
    "slideshow": {
     "slide_type": "subslide"
    }
   },
   "source": [
    "### Array.prototype.includes\n",
    "\n",
    "以前只能用 indexOf 判断元素是否存在，“现在”可以直接用 includes 了\n",
    "\n",
    "```js\n",
    "var boolean = array.includes(searchElement[, fromIndex])\n",
    "\n",
    "let s = [1, 2, 3];\n",
    "\n",
    "s.includes(1)\n",
    "// true\n",
    "```"
   ]
  },
  {
   "cell_type": "markdown",
   "metadata": {
    "slideshow": {
     "slide_type": "subslide"
    }
   },
   "source": [
    "### 指数运算\n",
    "\n",
    "```js\n",
    "3 ** 2\n",
    "// 9\n",
    "```"
   ]
  },
  {
   "cell_type": "markdown",
   "metadata": {
    "slideshow": {
     "slide_type": "subslide"
    }
   },
   "source": [
    "### SIMD\n",
    "\n",
    "支持 SIMD 运算（目前没有任何浏览器支持……）\n",
    "\n",
    "![](./images/simd.png)"
   ]
  },
  {
   "cell_type": "markdown",
   "metadata": {
    "slideshow": {
     "slide_type": "subslide"
    }
   },
   "source": [
    "### 异步函数 async/await\n",
    "\n",
    "js 实现异步有几种办法？"
   ]
  },
  {
   "cell_type": "markdown",
   "metadata": {
    "slideshow": {
     "slide_type": "fragment"
    }
   },
   "source": [
    "```js\n",
    "// 定义异步函数的四种方法\n",
    "async function foo() {\n",
    "    // pass\n",
    "}\n",
    "\n",
    "const foo = async function() {\n",
    "    // pass\n",
    "};\n",
    "\n",
    "class A {\n",
    "    async foo() {\n",
    "        // pass\n",
    "    };\n",
    "}\n",
    "\n",
    "const foo = async () => {\n",
    "    // pass\n",
    "};\n",
    "```"
   ]
  },
  {
   "cell_type": "markdown",
   "metadata": {
    "slideshow": {
     "slide_type": "subslide"
    }
   },
   "source": [
    "```js\n",
    "// 创建一个 Promise 对象\n",
    "const f = () => {\n",
    "    return new Promise((resolve, reject) => {\n",
    "        setTimeout(() => {\n",
    "            resolve(123);\n",
    "        }, 2000);\n",
    "    });\n",
    "};\n",
    "\n",
    "// 创建一个 async 函数\n",
    "const testAsync = async () => {\n",
    "    // 在 async 函数内可以使用 await 等待 Promise 对象\n",
    "    const t = await f();\n",
    "    console.log(t);\n",
    "};\n",
    "\n",
    "testAsync();\n",
    "```\n",
    "\n",
    "有效的解决了 callback hell，所以 co 这个效仿 tornado 的库也就面临一样的命运。"
   ]
  }
 ],
 "metadata": {
  "celltoolbar": "Slideshow",
  "kernelspec": {
   "display_name": "Python 3",
   "language": "python",
   "name": "python3"
  },
  "language_info": {
   "codemirror_mode": {
    "name": "ipython",
    "version": 3
   },
   "file_extension": ".py",
   "mimetype": "text/x-python",
   "name": "python",
   "nbconvert_exporter": "python",
   "pygments_lexer": "ipython3",
   "version": "3.4.2"
  }
 },
 "nbformat": 4,
 "nbformat_minor": 0
}
