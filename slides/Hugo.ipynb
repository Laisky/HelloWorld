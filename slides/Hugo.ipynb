{
 "cells": [
  {
   "cell_type": "markdown",
   "id": "4f02c4dd",
   "metadata": {
    "slideshow": {
     "slide_type": "slide"
    }
   },
   "source": [
    "# 使用 Hugo 制作文档网站\n",
    "\n",
    "v20220601-1\n",
    "\n",
    "![url](https://s3.laisky.com/uploads/2022/05/hugo.png)"
   ]
  },
  {
   "cell_type": "markdown",
   "id": "4513b5b9",
   "metadata": {
    "slideshow": {
     "slide_type": "subslide"
    }
   },
   "source": [
    "简单介绍一下使用 Hugo 搭建网站的基础用法。\n",
    "\n",
    "以及 XSS 现阶段的实践。\n",
    "\n",
    "我也是第一次使用 Hugo，所以还算不上“最佳实践”，只能算抛砖引玉，方便快速上手。"
   ]
  },
  {
   "cell_type": "markdown",
   "id": "95fe092e",
   "metadata": {
    "slideshow": {
     "slide_type": "subslide"
    }
   },
   "source": [
    "## Changelog\n",
    "\n",
    "| Version | Description |\n",
    "| :-- | :-- |\n",
    "| v20220601-1 | 第一版 |"
   ]
  },
  {
   "cell_type": "markdown",
   "id": "89d39923",
   "metadata": {
    "slideshow": {
     "slide_type": "slide"
    }
   },
   "source": [
    "## 体验\n",
    "\n",
    "先有个直观的感受，可以打开 XSS 目前的站点体验下。\n",
    "\n",
    "<http://basebit.laisky.com/>\n",
    "\n",
    "（域名还没申请下来， 暂时先用我的个人域名）"
   ]
  },
  {
   "cell_type": "markdown",
   "id": "b0714828",
   "metadata": {
    "slideshow": {
     "slide_type": "subslide"
    }
   },
   "source": [
    "### 安装\n",
    "\n",
    "可以参考文档中的 【工具集 -> Hugo -> 安装】，这里不再赘述\n",
    "\n",
    "<http://basebit.laisky.com/doc/xss/2022/05/hugo/#install>"
   ]
  },
  {
   "cell_type": "markdown",
   "id": "b3ae6326",
   "metadata": {
    "slideshow": {
     "slide_type": "slide"
    }
   },
   "source": [
    "## QuickStart\n",
    "\n",
    "完成安装、初始化、选择主题后，会得到如下的目录结构：\n",
    "\n",
    "![url](https://s3.laisky.com/uploads/2022/05/hugo-dir.png)"
   ]
  },
  {
   "cell_type": "markdown",
   "id": "84339017",
   "metadata": {
    "slideshow": {
     "slide_type": "subslide"
    }
   },
   "source": [
    "需要关心的就三个：\n",
    "\n",
    "1. `content/`：防止 markdown 文件的地方\n",
    "1. `public/`：自动生成的，可供发布的站点静态文件\n",
    "1. `config.toml`：配置文件\n",
    "\n",
    "其他一些可能用的：\n",
    "\n",
    "1. `static/`：防止自定义静态文件\n",
    "1. `themes/`：样式源码，魔改的话可以改这里"
   ]
  },
  {
   "cell_type": "markdown",
   "id": "f9e061ae",
   "metadata": {
    "slideshow": {
     "slide_type": "slide"
    }
   },
   "source": [
    "### Theme\n",
    "\n",
    "`config.toml`\n",
    "\n",
    "![config](https://s3.laisky.com/uploads/2022/05/hugo-config.png)"
   ]
  },
  {
   "cell_type": "markdown",
   "id": "df8d6da2",
   "metadata": {
    "slideshow": {
     "slide_type": "subslide"
    }
   },
   "source": [
    "实际上 theme 就是从 `/themes` 下面找相对应的文件夹。\n",
    "\n",
    "\n",
    "初始化时安装 theme：\n",
    "\n",
    "```sh\n",
    "git submodule add https://github.com/Laisky/hugo-book themes/hugo-book\n",
    "```"
   ]
  },
  {
   "cell_type": "markdown",
   "id": "01a3d982",
   "metadata": {
    "slideshow": {
     "slide_type": "subslide"
    }
   },
   "source": [
    "我 fork 了 `alex-shpak/hugo-book`，增加了对 `custom_css` 和 `custom_js` 的支持。\n",
    "\n",
    "```toml\n",
    "[params]\n",
    "  custom_css = [\"css/custom.css\"]\n",
    "  custom_js = [\"js/custom.js\"]\n",
    "```\n",
    "\n",
    "相对应的文件在：\n",
    "\n",
    "- `/static/css/custom.css`\n",
    "- `/static/js/custom.js`\n"
   ]
  },
  {
   "cell_type": "markdown",
   "id": "1af1b52a",
   "metadata": {
    "slideshow": {
     "slide_type": "subslide"
    }
   },
   "source": [
    "### Samples\n",
    "\n",
    "可以在文档中找到很多样式的例子：<https://hugo-book-demo.netlify.app/docs/shortcodes/details/>\n",
    "\n",
    "\n",
    "![sample](https://s3.laisky.com/uploads/2022/06/hugo-sample.png)"
   ]
  },
  {
   "cell_type": "markdown",
   "id": "9187a3e6",
   "metadata": {
    "slideshow": {
     "slide_type": "slide"
    }
   },
   "source": [
    "### Content\n",
    "\n",
    "```\n",
    "content\n",
    "├── _index.md\n",
    "├── research\n",
    "│   ├── _index.md\n",
    "│   ├── papers\n",
    "│   ├── secure_vm\n",
    "│   └── sgx\n",
    "├── terms.md\n",
    "├── tools\n",
    "│   ├── _index.md\n",
    "│   └── hugo.md\n",
    "└── xss\n",
    "    ├── _index.md\n",
    "    └── tee.md\n",
    "```\n",
    "\n",
    "`_index.md` 相当于 `index.html`，扮演着主页的角色。\n",
    "\n",
    "因为设置了默认 Menu，所以文件结构就是目录结构。"
   ]
  },
  {
   "cell_type": "markdown",
   "id": "ad7dbc62",
   "metadata": {
    "slideshow": {
     "slide_type": "subslide"
    }
   },
   "source": [
    "因为默认 URL 是通过文件路径来生成的，这个可能会经常变动，\n",
    "做外链的话会很不方便。\n",
    "所以最好在页面属性中，手动指定一个不变的固定 URL。"
   ]
  },
  {
   "cell_type": "markdown",
   "id": "e4cd0bdf",
   "metadata": {
    "slideshow": {
     "slide_type": "subslide"
    }
   },
   "source": [
    "![page](https://s3.laisky.com/uploads/2022/05/hugo-page.png)"
   ]
  },
  {
   "cell_type": "markdown",
   "id": "4cb098bc",
   "metadata": {
    "slideshow": {
     "slide_type": "subslide"
    }
   },
   "source": [
    "可以看到最终生效的就是手动指定的 URL，而且自动加上了 `url prefix`\n",
    "\n",
    "![page-url](https://s3.laisky.com/uploads/2022/06/hugo-page-url.png)\n"
   ]
  },
  {
   "cell_type": "markdown",
   "id": "3c414971",
   "metadata": {
    "slideshow": {
     "slide_type": "subslide"
    }
   },
   "source": [
    "### Link\n",
    "\n",
    "站内连接需要用模版语法 \n",
    "\n",
    "`{{% ref \"<页面绝对路径>\" %}}`\n",
    "\n",
    "这个页面地址指的是 markdown 文件的路径，而不是手动在页面属性中指定的固定 URL。\n",
    "这点确实很不方便，如果调换文件路径的话，需要记得批量修改一下。\n",
    "\n",
    "```markdown\n",
    "[QE]({{% ref \"/terms#intel-sgx-qe\" %}}) 用来对 [QUOTE]({{% ref \"/terms#intel-sgx-quote\" %}}) 签名的非对称密钥。\n",
    "```"
   ]
  },
  {
   "cell_type": "markdown",
   "id": "0d997740",
   "metadata": {
    "slideshow": {
     "slide_type": "subslide"
    }
   },
   "source": [
    "我写了个 python 小脚本，可以扫描检查 link 的指向和描述是否统一\n",
    "\n",
    "```markdown\n",
    "make lint\n",
    "```"
   ]
  },
  {
   "cell_type": "markdown",
   "id": "e0220303",
   "metadata": {
    "slideshow": {
     "slide_type": "subslide"
    }
   },
   "source": [
    "![hugo-lint](https://s3.laisky.com/uploads/2022/06/hugo-lint.png)"
   ]
  },
  {
   "cell_type": "markdown",
   "id": "07954459",
   "metadata": {
    "slideshow": {
     "slide_type": "fragment"
    }
   },
   "source": [
    "如果是不同的文字关联到相同的 URL，就不会报错，而只是打一行 warning"
   ]
  },
  {
   "cell_type": "markdown",
   "id": "3ccc5226",
   "metadata": {
    "slideshow": {
     "slide_type": "subslide"
    }
   },
   "source": [
    "### Sitemap\n",
    "\n",
    "```toml\n",
    "[sitemap]\n",
    "  changefreq = 'daily'\n",
    "  filename = 'sitemap.xml'\n",
    "```\n",
    "\n",
    "就可以在 `/sitemap.xml` 生成 sitemap 文件，日后做全文索引的话，通过 sitemap 可以较为方便的爬取所有页面。"
   ]
  },
  {
   "cell_type": "markdown",
   "id": "d98cae60",
   "metadata": {
    "slideshow": {
     "slide_type": "subslide"
    }
   },
   "source": [
    "#### autolinker\n",
    "\n",
    "本来想写一个自动生成链接的脚本，但是比预想的复杂，需要考虑标题行、括号、代码块、超链接等太多因素，目前只有一个很简单的实现，而且存在较多 BUG。\n",
    "原以为简单搞个正则就行，目前看来还是得用 AST。\n",
    "\n"
   ]
  },
  {
   "cell_type": "markdown",
   "id": "22be7680",
   "metadata": {
    "slideshow": {
     "slide_type": "fragment"
    }
   },
   "source": [
    "日后有空再写吧……"
   ]
  },
  {
   "cell_type": "markdown",
   "id": "6270230e",
   "metadata": {
    "slideshow": {
     "slide_type": "fragment"
    }
   },
   "source": [
    "![pigeon](https://s3.laisky.com/uploads/2022/06/pigeon.jpg)"
   ]
  },
  {
   "cell_type": "markdown",
   "id": "e8c3199f",
   "metadata": {
    "slideshow": {
     "slide_type": "slide"
    }
   },
   "source": [
    "## 静态文件\n",
    "\n",
    "如何存放静态文件，有三个方案：\n",
    "\n",
    "1. 放在 hugo 项目文件夹的 `/static` 内\n",
    "2. 放在文档服务器的 `/var/www/static` 内\n",
    "3. 放在内网的 S3 服务器内"
   ]
  },
  {
   "cell_type": "markdown",
   "id": "0d69cc02",
   "metadata": {
    "slideshow": {
     "slide_type": "subslide"
    }
   },
   "source": [
    "### Hugo Static\n",
    "\n",
    "Hugo 项目文件夹的 `/static` 文件夹就是用来放静态文件的。\n",
    "\n",
    "这个方案的缺点是会用 git 去追踪静态文件，这样比较重。\n",
    "\n",
    "一般来说 `/static` 里还是只放一些静态的 css、js、icon 之类的小文件。"
   ]
  },
  {
   "cell_type": "markdown",
   "id": "205e96ad",
   "metadata": {
    "slideshow": {
     "slide_type": "subslide"
    }
   },
   "source": [
    "### Nginx\n",
    "\n",
    "自行把文件通过 `scp/rsync` 上传到服务器指定目录，然后通过 Nginx 对外暴露。\n",
    "\n",
    "![static](https://s1.laisky.com/uploads/2022/06/doc-static.png)\n"
   ]
  },
  {
   "cell_type": "markdown",
   "id": "4ea0805e",
   "metadata": {
    "slideshow": {
     "slide_type": "fragment"
    }
   },
   "source": [
    "\n",
    "推荐用 rsync，可以防止文件被覆盖 `rsync --ignore-existing -raz --progress <FROM> <TO>`\n",
    "\n",
    "文件夹按照 `/<year>/<month>` 的形式拆分"
   ]
  },
  {
   "cell_type": "markdown",
   "id": "edd8061f",
   "metadata": {
    "slideshow": {
     "slide_type": "subslide"
    }
   },
   "source": [
    "### S3\n",
    "\n",
    "在服务器上用 seaweedfs 搭了一个 S3，通过浏览器插件可以实现很方便的查阅和上传功能\n",
    "\n",
    "<http://s3.basebit.laisky.com/>\n",
    "\n",
    "![s3](https://s3.laisky.com/uploads/2022/06/doc-s3.png)\n",
    "\n",
    "缺点是权限不太好控制，一旦放开，任何人都可以编辑。\n",
    "配置个 basic auth 的话，目前的 S3 client 都支持不太好。"
   ]
  },
  {
   "cell_type": "markdown",
   "id": "0a195972",
   "metadata": {
    "slideshow": {
     "slide_type": "slide"
    }
   },
   "source": [
    "## 愿景\n",
    "\n",
    "主站（目前暂时是 `http://basebbit.laisky.com`）作为 XEGO 的总门户，制作一个索引功能的 landing page，包含指向各个主要 repo、文档、工具集的链接。\n",
    "\n",
    "目前 XSS Doc 仅占用了 `/doc/xss/` 这个子路径。其他组的文档站在部署好后，也可以加入到相对应的子路径里。"
   ]
  },
  {
   "cell_type": "markdown",
   "id": "d06d3365",
   "metadata": {
    "slideshow": {
     "slide_type": "subslide"
    }
   },
   "source": [
    "TODO List：\n",
    "\n",
    "1. 一个简单的 landing page\n",
    "1. 全文索引和搜索"
   ]
  },
  {
   "cell_type": "markdown",
   "id": "e61d2c72",
   "metadata": {
    "slideshow": {
     "slide_type": "subslide"
    }
   },
   "source": [
    "关于文档的一些其他补充\n",
    "\n",
    "这次仅介绍了脱离于代码文件的独立文档。\n",
    "这种文档一般用于维护一些综述性质的文档。\n",
    "\n",
    "其他一些和代码具有强关联的文档，建议还是放在代码所在的地方，然后按照所选语言的常见规范来直接从代码注释生成文档。\n",
    "\n",
    "比如 python 可以用 readthedoc 等，go 可以用 godoc 等。\n",
    "\n",
    "我个人认为文档的具体形式不重要，重要的是要通过链接和搜索关联到一个统一的站点网络内。"
   ]
  },
  {
   "cell_type": "markdown",
   "id": "fba52971",
   "metadata": {
    "slideshow": {
     "slide_type": "slide"
    }
   },
   "source": [
    "# THANKS"
   ]
  }
 ],
 "metadata": {
  "celltoolbar": "Slideshow",
  "kernelspec": {
   "display_name": "Python 3 (ipykernel)",
   "language": "python",
   "name": "python3"
  },
  "language_info": {
   "codemirror_mode": {
    "name": "ipython",
    "version": 3
   },
   "file_extension": ".py",
   "mimetype": "text/x-python",
   "name": "python",
   "nbconvert_exporter": "python",
   "pygments_lexer": "ipython3",
   "version": "3.9.7"
  }
 },
 "nbformat": 4,
 "nbformat_minor": 5
}
