{
 "cells": [
  {
   "cell_type": "markdown",
   "id": "6e562d35",
   "metadata": {
    "slideshow": {
     "slide_type": "slide"
    }
   },
   "source": [
    "# Kubernetes Auth\n",
    "\n",
    "![](https://s3.laisky.com/uploads/2021/07/k8s.jpg)\n",
    "\n",
    "Kubernetes 如何管理用户和权限"
   ]
  },
  {
   "cell_type": "markdown",
   "id": "64d5b13e",
   "metadata": {
    "slideshow": {
     "slide_type": "slide"
    }
   },
   "source": [
    "## RBAC\n",
    "\n",
    "提到 k8s 的用户和权限离不开 RBAC。\n",
    "\n",
    "先简单介绍下 RBAC 是什么"
   ]
  },
  {
   "cell_type": "markdown",
   "id": "232a0e98",
   "metadata": {
    "slideshow": {
     "slide_type": "subslide"
    }
   },
   "source": [
    "RBAC 就是 Role-based access control，基于角色的访问控制\n",
    "\n"
   ]
  },
  {
   "cell_type": "markdown",
   "id": "270915a4",
   "metadata": {
    "slideshow": {
     "slide_type": "fragment"
    }
   },
   "source": [
    "k8s 中的 RBAC 的核心就两个资源 Role 和 Binding：\n",
    "\n",
    "- 同命名空间：Role、RoleBinding\n",
    "- 跨命名空间：ClusterRole、ClusterRoleBinding\n",
    "\n",
    "Role 定义权限，Binding 将 Role 绑定到身份账户（username、usergroup、sa）。\n",
    "\n",
    "![https://s3.laisky.com/uploads/2021/12/role.jpg](https://s3.laisky.com/uploads/2021/12/role.jpg)"
   ]
  },
  {
   "cell_type": "markdown",
   "id": "4de56dc7",
   "metadata": {
    "slideshow": {
     "slide_type": "subslide"
    }
   },
   "source": [
    "Role 定义具体资源的具体权限：\n",
    "\n",
    "```yaml\n",
    "apiVersion: rbac.authorization.k8s.io/v1\n",
    "kind: Role\n",
    "metadata:\n",
    "  namespace: default\n",
    "  name: pod-reader\n",
    "rules:\n",
    "- apiGroups: [\"\"] # \"\" indicates the core API group\n",
    "  resources: [\"pods\"]\n",
    "  verbs: [\"get\", \"watch\", \"list\"]\n",
    "```"
   ]
  },
  {
   "cell_type": "markdown",
   "id": "b1331b81",
   "metadata": {
    "slideshow": {
     "slide_type": "subslide"
    }
   },
   "source": [
    "然后用 RoleBinding 绑定到用户或者 sa：\n",
    "\n",
    "```yaml\n",
    "apiVersion: rbac.authorization.k8s.io/v1\n",
    "# This role binding allows \"jane\" to read pods in the \"default\" namespace.\n",
    "# You need to already have a Role named \"pod-reader\" in that namespace.\n",
    "kind: RoleBinding\n",
    "metadata:\n",
    "  name: read-pods\n",
    "  namespace: default\n",
    "subjects:\n",
    "# You can specify more than one \"subject\"\n",
    "- kind: User\n",
    "  name: jane # \"name\" is case sensitive\n",
    "  apiGroup: rbac.authorization.k8s.io\n",
    "roleRef:\n",
    "  # \"roleRef\" specifies the binding to a Role / ClusterRole\n",
    "  kind: Role #this must be Role or ClusterRole\n",
    "  name: pod-reader # this must match the name of the Role or ClusterRole you wish to bind to\n",
    "  apiGroup: rbac.authorization.k8s.io\n",
    "```"
   ]
  },
  {
   "cell_type": "markdown",
   "id": "4c6c0948",
   "metadata": {
    "slideshow": {
     "slide_type": "subslide"
    }
   },
   "source": [
    "资源（pods 等）通过和 sa 关联来获取权限。\n",
    "\n",
    "Role 和 RoleBinding 都仅限于某个 namespace，如果要跨 namespace 或者绑定一些集群的非资源（如接口），则需要使用 ClusterRole，ClusterRoleBinding。"
   ]
  },
  {
   "cell_type": "markdown",
   "id": "0ade50ef",
   "metadata": {
    "slideshow": {
     "slide_type": "fragment"
    }
   },
   "source": [
    "看上去除了一些 clusterRole 之类的新概念外并不难。\n",
    "\n",
    "问题在于，用户在哪？从哪来？"
   ]
  },
  {
   "cell_type": "markdown",
   "id": "f2939251",
   "metadata": {
    "slideshow": {
     "slide_type": "slide"
    }
   },
   "source": [
    "## User\n",
    "\n",
    "k8s 的用户体系是一个很有意思的东西，很多人用了很多年可能都没认真想过"
   ]
  },
  {
   "cell_type": "markdown",
   "id": "32aeb637",
   "metadata": {
    "slideshow": {
     "slide_type": "fragment"
    }
   },
   "source": [
    "虽然 RBAC 的认证对象是用户，但是 k8s 并没有用户体系😂"
   ]
  },
  {
   "cell_type": "markdown",
   "id": "1cf91d44",
   "metadata": {
    "slideshow": {
     "slide_type": "subslide"
    }
   },
   "source": [
    "k8s 的用户体系比较奇特，它内部不存储任何用户信息，一切的身份校验都是围绕以 kube-ca 这个根 CA 为核心的证书签发来实现的。"
   ]
  },
  {
   "cell_type": "markdown",
   "id": "98d9644b",
   "metadata": {
    "slideshow": {
     "slide_type": "subslide"
    }
   },
   "source": [
    "先来简单回顾下 k8s 的 CA\n",
    "\n",
    "主要的几个 CA：\n",
    "\n",
    "- kubernetes-ca：root ca\n",
    "- etcd-ca：和 etcd 相关功能所需的 CA\n",
    "- kubernetes-front-proxy-ca（可选）：apiserver aggregator 的 CA\n",
    "- sa.pub/key：服务账户管理的密钥对\n",
    "\n"
   ]
  },
  {
   "cell_type": "markdown",
   "id": "64fe38ee",
   "metadata": {
    "slideshow": {
     "slide_type": "subslide"
    }
   },
   "source": [
    "![https://s3.laisky.com/uploads/2021/11/certs.png](https://s3.laisky.com/uploads/2021/11/certs.png)"
   ]
  },
  {
   "cell_type": "markdown",
   "id": "5949366c",
   "metadata": {
    "slideshow": {
     "slide_type": "subslide"
    }
   },
   "source": [
    "k8s 里所谓的用户，实际上就是用核心根证书 kubernetes-ca 签发的一个客户端证书"
   ]
  },
  {
   "cell_type": "markdown",
   "id": "0e76e8c3",
   "metadata": {
    "slideshow": {
     "slide_type": "fragment"
    }
   },
   "source": [
    "创建一个用户：\n",
    "\n",
    "```bash\n",
    "# 生成用户私钥\n",
    "openssl genrsa -out hello.key 2048\n",
    "\n",
    "# 创建用户的 CSR，指定用户名和 group\n",
    "openssl req -new -key hello.key -out hello.csr -subj \"/CN=hello/O=app1/O=app2\"\n",
    "\n",
    "# 用 kube-ca 这个集群根 CA 签发用户证书\n",
    "openssl x509 -req -in hello.csr -CA /etc/kubernetes/pki/ca.crt -CAkey /etc/kubernetes/pki/ca.key -CAcreateserial -out hello.crt -days 500\n",
    "\n",
    "# 为 kubectl 设置用户\n",
    "kubectl config set-credentials hello --client-certificate=hello.crt  --client-key=hello.key\n",
    "kubectl config set-context employee-context --cluster=minikube --namespace=office --user=employee\n",
    "```\n",
    "\n",
    "上述 CSR 就是申请创建一个名为 hello，用户组为 app1 和 app2 的用户。"
   ]
  },
  {
   "cell_type": "markdown",
   "id": "6e075eaa",
   "metadata": {
    "slideshow": {
     "slide_type": "subslide"
    }
   },
   "source": [
    "前面提到过，RBAC 需要用过 RoleBiding 将 Role 绑定到 username/group。\n",
    "\n",
    "k8s 本身不存储用户，当请求到达 apiserver 时，从证书或 token 中获取 username，然后根据 username 查询相关联的 ClusterRole 和 Role，再根据这些 roles 获取用户的全部权限。\n",
    "\n",
    "可以通过 kubectl 查询当前用户是否有某个权限 `kubectl auth can-i xxx`。"
   ]
  },
  {
   "cell_type": "markdown",
   "id": "af8dd378",
   "metadata": {
    "slideshow": {
     "slide_type": "subslide"
    }
   },
   "source": [
    "没有存储用户信息带来一个恶果就是没法维护用户状态，比如你没法吊销用户身份。\n",
    "\n",
    "一个曲线的方法是吊销某个用户的 RoleBinding 来解除其权限（虽然能 authenticated 但是无法 authorizated）。这样做的前提是你的 RoleBing 都是绑定到用户而不是绑定到用户组。\n",
    "\n",
    "要想支持吊销等用户操作，就不能使用默认方案，而要使用外部的 OpenID Connect/webhook 方案。"
   ]
  },
  {
   "cell_type": "markdown",
   "id": "7741402d",
   "metadata": {
    "slideshow": {
     "slide_type": "subslide"
    }
   },
   "source": [
    "OpenID Connect/webhook 方案的原理实际上很简单，因为 k8s 不存储用户，所以 k8s 其实只需要知道“用户名”就够了。\n",
    "\n",
    "如 oidc 方案中，用户通过 oauth2 登陆后，通过 jwt token 告知 k8s 用户的关键信息（username/group）即可。\n",
    "\n",
    "至于权限，仍然通过 Role/RoleBinding 的形式设置和绑定。"
   ]
  },
  {
   "cell_type": "markdown",
   "id": "c7267359",
   "metadata": {
    "slideshow": {
     "slide_type": "subslide"
    }
   },
   "source": [
    "![https://s3.laisky.com/uploads/2021/12/openid.png](https://s3.laisky.com/uploads/2021/12/openid.png)"
   ]
  },
  {
   "cell_type": "markdown",
   "id": "0239e575",
   "metadata": {
    "slideshow": {
     "slide_type": "slide"
    }
   },
   "source": [
    "## Authentication & Authorization\n",
    "\n",
    "术语：\n",
    "\n",
    "- Authentication：身份校验，确认你确实是一个合法的用户。\n",
    "- Authorization（ACL）：权限校验，虽然你是合法用户，但是也需要检查你是否有某项操作的权限。"
   ]
  },
  {
   "cell_type": "markdown",
   "id": "869b0c38",
   "metadata": {
    "slideshow": {
     "slide_type": "fragment"
    }
   },
   "source": [
    "![https://s2.laisky.com/uploads/2021/12/api-flow.jpg](https://s2.laisky.com/uploads/2021/12/api-flow.jpg)"
   ]
  },
  {
   "cell_type": "markdown",
   "id": "2f390aae",
   "metadata": {
    "slideshow": {
     "slide_type": "subslide"
    }
   },
   "source": [
    "可以看到 Authentication 排在最前面，请求到达 apiserver 后，首先需要验明身份。\n",
    "\n",
    "然后才是一系列准入控制器（admission controllers），可以将其理解为一系列的中间件 MiddleWares。\n",
    "\n",
    "最后才会触达数据层，也就是 ETCD。"
   ]
  },
  {
   "cell_type": "markdown",
   "id": "257d9925",
   "metadata": {
    "slideshow": {
     "slide_type": "subslide"
    }
   },
   "source": [
    "## Authorization\n",
    "\n",
    "Authorization 就是指对已经验明身份的用户进行权限校验。\n",
    "\n",
    "k8s 的权限校验就是 RBAC，前面已经提到过，核心就是这张图\n",
    "\n",
    "![https://s3.laisky.com/uploads/2021/12/role.jpg](https://s3.laisky.com/uploads/2021/12/role.jpg)"
   ]
  },
  {
   "cell_type": "markdown",
   "id": "bc4d900a",
   "metadata": {
    "slideshow": {
     "slide_type": "slide"
    }
   },
   "source": [
    "## Admission Controllers 准入控制器\n",
    "\n",
    "当到达 apiserver 的请求已经通过身份认证和 ACL 后，还会经过一系列的准入控制器（中间件）。\n",
    "\n",
    "这些准入控制器是编译在 apiserver 的二进制文件中，系统管理员可配置其开启。\n",
    "\n",
    "![https://s3.laisky.com/uploads/2021/12/ac.png](https://s3.laisky.com/uploads/2021/12/ac.png)"
   ]
  },
  {
   "cell_type": "markdown",
   "id": "d407da9f",
   "metadata": {
    "slideshow": {
     "slide_type": "subslide"
    }
   },
   "source": [
    "默认开启的准入控制器有：`CertificateApproval, CertificateSigning, CertificateSubjectRestriction, DefaultIngressClass, DefaultStorageClass, DefaultTolerationSeconds, LimitRanger, MutatingAdmissionWebhook, NamespaceLifecycle, PersistentVolumeClaimResize, Priority, ResourceQuota, RuntimeClass, ServiceAccount, StorageObjectInUseProtection, TaintNodesByCondition, ValidatingAdmissionWebhook`。\n",
    "\n",
    "其中有两个特殊的控制器：\n",
    "\n",
    "- `MutatingAdmissionWebhook`：是第一个执行的控制器，可以修改请求\n",
    "- `ValidatingAdmissionWebhook`：是最末执行的控制器\n",
    "\n",
    "上述两个 webhook 控制器可以动态调用用户配置的远端第三方 webhook server 实现动态的准入控制。"
   ]
  }
 ],
 "metadata": {
  "celltoolbar": "Slideshow",
  "kernelspec": {
   "display_name": "Python 3 (ipykernel)",
   "language": "python",
   "name": "python3"
  },
  "language_info": {
   "codemirror_mode": {
    "name": "ipython",
    "version": 3
   },
   "file_extension": ".py",
   "mimetype": "text/x-python",
   "name": "python",
   "nbconvert_exporter": "python",
   "pygments_lexer": "ipython3",
   "version": "3.9.7"
  }
 },
 "nbformat": 4,
 "nbformat_minor": 5
}
