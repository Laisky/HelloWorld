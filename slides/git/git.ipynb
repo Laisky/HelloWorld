{
 "cells": [
  {
   "cell_type": "markdown",
   "metadata": {
    "slideshow": {
     "slide_type": "slide"
    }
   },
   "source": [
    "Git & Gitflow & Github\n",
    "===\n",
    "\n",
    "![](images/git.jpg)"
   ]
  },
  {
   "cell_type": "markdown",
   "metadata": {
    "slideshow": {
     "slide_type": "slide"
    }
   },
   "source": [
    "Git 简史\n",
    "===\n",
    "\n",
    "众所周知以 linus torvalds 为首的开源团队一直维护着 Linux 这个庞大的开源项目。\n",
    "\n",
    "虽然传说 linux 只使用 `diff` 和 `patch` 来管理代码😄，Linux 开源组倒是从 2002 年起就使用 `BitKeeper` 来作为代码版本管理工具。"
   ]
  },
  {
   "cell_type": "markdown",
   "metadata": {
    "slideshow": {
     "slide_type": "fragment"
    }
   },
   "source": [
    "不过在 2005 年的时候，BitKeeper 终止了免费授权，开始转变为一个商业产品。迫于压力以及对于 svn 的厌恶，linus torvalds 最终决定亲手实现一个全新的版本管理工具。\n",
    "\n",
    "也就有了我们今天所热爱的 git！"
   ]
  },
  {
   "cell_type": "markdown",
   "metadata": {
    "slideshow": {
     "slide_type": "slide"
    }
   },
   "source": [
    "Git 的一些原理\n",
    "===\n",
    "\n",
    "长话短说，让我们来领略一下 git 的魅力"
   ]
  },
  {
   "cell_type": "markdown",
   "metadata": {
    "slideshow": {
     "slide_type": "fragment"
    }
   },
   "source": [
    "## Git 的基本概念\n",
    "\n",
    "首先我们需要理解 Git 的三个最重要的基本概念：\n",
    "\n",
    "  - `Working Directory`（工作空间）\n",
    "  - `Git index`（暂存区）\n",
    "  - `Git Directory`（Git 库，已提交的历史）\n",
    "  \n",
    "![](images/space.png)"
   ]
  },
  {
   "cell_type": "markdown",
   "metadata": {
    "slideshow": {
     "slide_type": "subslide"
    }
   },
   "source": [
    "## add & commit\n",
    "\n",
    "这里就可以提到 git 最常用的几个命令\n",
    "\n",
    "![](images/add.jpg)"
   ]
  },
  {
   "cell_type": "markdown",
   "metadata": {
    "slideshow": {
     "slide_type": "subslide"
    }
   },
   "source": [
    "当我们输入 `git status` 时，可以显示当前的状态，状态码为两位，第一位是 index 状态，第二位是 working directory 状态，具体为：\n",
    "\n",
    "  - `??`：未跟踪也未忽略文件\n",
    "  - `🈳M`：已跟踪，且有未 add 的修改\n",
    "  - `M🈳`：修改已 add，尚未提交\n",
    "  - `MM`：有已 add 的修改，但是在 add 后又有修改\n",
    "  - `A`：新增文件（和 M 一样也有两位，省略）\n",
    "  - `D`：删除的文件（和 A、M 一样也有两位，省略）\n",
    "  \n",
    "![](images/add2.jpg)"
   ]
  },
  {
   "cell_type": "markdown",
   "metadata": {
    "slideshow": {
     "slide_type": "subslide"
    }
   },
   "source": [
    "修改被提交到 index 后，我们就可以使用 commit 将其提交到 git directory 了\n",
    "\n",
    "```sh\n",
    "$ git commit \n",
    "$ git commit -m \"<comment>\"\n",
    "```\n",
    "\n",
    "如果你想要将当前工作区全部直接提交到 git 目录，也就是跳过 add，可以直接执行\n",
    "\n",
    "```sh\n",
    "$ git commit -am \"<comment>\"\n",
    "```\n",
    "\n",
    "![](images/commit.jpg)"
   ]
  },
  {
   "cell_type": "markdown",
   "metadata": {
    "slideshow": {
     "slide_type": "slide"
    }
   },
   "source": [
    "## Git Branch\n",
    "\n",
    "有时候我们需要进行一些多人合作开发，或者是我们要同时开发好几个功能（feature），需要对同一个目录同时进行各不相同的更改，又不希望它们搅在一起难以区分，这时候我们就应该使用 git branch 了。\n"
   ]
  },
  {
   "cell_type": "markdown",
   "metadata": {
    "slideshow": {
     "slide_type": "fragment"
    }
   },
   "source": [
    "![](images/branch.jpg)"
   ]
  },
  {
   "cell_type": "markdown",
   "metadata": {
    "slideshow": {
     "slide_type": "subslide"
    }
   },
   "source": [
    "不同分之间的 git directory 是完全独立的，也就说在不同的分支上的提交也是互相隔离的。\n",
    "\n",
    "\n",
    "![](images/branch2.png)"
   ]
  },
  {
   "cell_type": "markdown",
   "metadata": {
    "slideshow": {
     "slide_type": "subslide"
    }
   },
   "source": [
    "但是需要注意的是，工作空间和 index 的修改是跟着 HEAD 走的，可以简单的理解为会随着你的 checkout 而同步移动的，具体分为两种情况：\n",
    "\n",
    "  - 如果 checkout 的目的不与当前 index 和工作区冲突，会将其『携带过去』\n",
    "  - 如果目的地会与未提交修改冲突，那么就会 checkout 不过去\n",
    "  \n",
    "举个例子，我们已经在 develop 分支里创建了一个 branch_demo.txt 文件，如果我们在 master 的工作区里也创建一个这个文件，再试图 checkout 到 develop，就会引发冲突：\n",
    "\n",
    "![](images/branch3.jpg)\n",
    "\n",
    "**据我观察，很多所谓『诡异的』『我怎么切不过去』大多都是这个原因**"
   ]
  },
  {
   "cell_type": "markdown",
   "metadata": {
    "slideshow": {
     "slide_type": "slide"
    }
   },
   "source": [
    "Git HEAD & Branch\n",
    "===\n",
    "\n",
    "既然讲到了分支，也提到了 checkout，继续深入讲下去前，我们需要回过头来深入了解一下 git 的分支机制。\n",
    "\n"
   ]
  }
 ],
 "metadata": {
  "celltoolbar": "Slideshow",
  "kernelspec": {
   "display_name": "Python 3",
   "language": "python",
   "name": "python3"
  },
  "language_info": {
   "codemirror_mode": {
    "name": "ipython",
    "version": 3
   },
   "file_extension": ".py",
   "mimetype": "text/x-python",
   "name": "python",
   "nbconvert_exporter": "python",
   "pygments_lexer": "ipython3",
   "version": "3.4.2"
  }
 },
 "nbformat": 4,
 "nbformat_minor": 0
}
