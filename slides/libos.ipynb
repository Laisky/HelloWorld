{
 "cells": [
  {
   "cell_type": "markdown",
   "id": "4b6e3864",
   "metadata": {
    "slideshow": {
     "slide_type": "slide"
    }
   },
   "source": [
    "# Library OS"
   ]
  },
  {
   "cell_type": "markdown",
   "id": "94b18b4d",
   "metadata": {
    "slideshow": {
     "slide_type": "subslide"
    }
   },
   "source": [
    "**TOC**\n",
    "\n",
    "1. 先介绍一些 OS 相关知识\n",
    "2. LibOS 的起源\n",
    "3. 当代 LibOS 的技术介绍\n",
    "4. LibOS 在 SGX 领域的应用"
   ]
  },
  {
   "cell_type": "markdown",
   "id": "d2fa8287",
   "metadata": {
    "slideshow": {
     "slide_type": "slide"
    }
   },
   "source": [
    "## OS Background\n",
    "\n",
    "在座的都是大佬，我来班门弄斧了\n",
    "\n",
    "![dalao](https://s3.laisky.com/uploads/2022/08/dalao.jpeg)"
   ]
  },
  {
   "cell_type": "markdown",
   "id": "f3165a43",
   "metadata": {
    "slideshow": {
     "slide_type": "subslide"
    }
   },
   "source": [
    "### HPD\n",
    "\n",
    "分级保护域，Hierarchical Protection Domains\n",
    "\n",
    "CPU 提供了 RING 0～3 四个不同的保护域，不同域有不同的指令执行权限。\n",
    "\n",
    "一般来说，OS 运行于 Ring 0，拥有操作设备的权限。\n",
    "用户程序运行于 Ring 3，仅有使用 CPU 进行计算的权限。\n",
    "通俗称为 内核/用户 态。"
   ]
  },
  {
   "cell_type": "markdown",
   "id": "89bcb8ae",
   "metadata": {
    "slideshow": {
     "slide_type": "subslide"
    }
   },
   "source": [
    "（HPD 有时候也称为 CPL(Current Privilege Level)、Protect Ring）\n",
    "\n",
    "![](https://s3.laisky.com/uploads/2022/08/hpd.jpeg)"
   ]
  },
  {
   "cell_type": "markdown",
   "id": "1973d892",
   "metadata": {
    "slideshow": {
     "slide_type": "subslide"
    }
   },
   "source": [
    "### System Call\n",
    "\n",
    "当用户程序需要调用硬件资源等特权操作时，需要通过 kernel 提供的接口来完成。\n",
    "这些接口就称为 system call。\n",
    "\n",
    "1. 将相关 syscall 号分别存入 %rax 和 %orig_rax。\n",
    "2. 把最多六个参数存入 %rdi, %rsi, %rdx, %r10, %r8, %r9\n",
    "3. 保存用户线程上下文\n",
    "3. 切换到内核态，kernel 查找并执行相应的 syscall 函数\n",
    "4. 执行结果存入 %rax，内核切换回用户态，恢复用户线程上下文"
   ]
  },
  {
   "cell_type": "markdown",
   "id": "dc5d2494",
   "metadata": {
    "slideshow": {
     "slide_type": "subslide"
    }
   },
   "source": [
    "user/kernel 的切换可以通过 软中断 0x80 或 sysenter/sysexit、syscall/sysret 等指令进行切换\n",
    "\n",
    "\n",
    "- x86-32：\n",
    "    - Intel: 0x80、sysenter/sysexit\n",
    "    - AMD: 0x80、syscall/sysret\n",
    "\n",
    "- x86-64: syscall"
   ]
  },
  {
   "cell_type": "markdown",
   "id": "50604600",
   "metadata": {
    "slideshow": {
     "slide_type": "subslide"
    }
   },
   "source": [
    "### LibC\n",
    "\n",
    "但是实际上用户程序一般并不会直接和 kernel 交互（因为除了 syscall 外，还有大量其他相关工作），\n",
    "这些“幕后的相关工作”，一般由 libc 来完成。\n",
    "\n",
    "常用的 libc 包括 glibc、musl"
   ]
  },
  {
   "cell_type": "markdown",
   "id": "791919be",
   "metadata": {
    "slideshow": {
     "slide_type": "subslide"
    }
   },
   "source": [
    "用户程序和 kernel 的边界究竟是 syscall 还是 libc 尚无定论\n",
    "\n",
    "![](https://s3.laisky.com/uploads/2022/08/syscall-ring.jpg)"
   ]
  },
  {
   "cell_type": "markdown",
   "id": "58009e8c",
   "metadata": {
    "slideshow": {
     "slide_type": "subslide"
    }
   },
   "source": [
    "题外话，为什么 Go 不用 libc？"
   ]
  },
  {
   "cell_type": "markdown",
   "id": "68ddcee4",
   "metadata": {
    "slideshow": {
     "slide_type": "slide"
    }
   },
   "source": [
    "## LibOS\n",
    "\n",
    "以 syscall 隔离开 user 和 kernel，导致了大量的上下文切换和数据拷贝开销。\n",
    "\n",
    "最早的 LibOS 正是一种试验性的探索方向，试图简化 kernel 的职责，kernel 只负责最基础的硬件保护， 而将对设备的操作直接放到用户态里，以 lib 的形式提供给应用程序。"
   ]
  },
  {
   "cell_type": "markdown",
   "id": "f4b331e2",
   "metadata": {
    "slideshow": {
     "slide_type": "fragment"
    }
   },
   "source": [
    "但是该领域随着 VMM 的崛起而被人遗忘。"
   ]
  },
  {
   "cell_type": "markdown",
   "id": "a58c3d76",
   "metadata": {
    "slideshow": {
     "slide_type": "subslide"
    }
   },
   "source": [
    "后来随着云时代的到来，传统虚拟机方案对性能的损耗引起人们的重视， LibOS 重新作为一种对 VM 的高性能替代方案再次被重视。"
   ]
  },
  {
   "cell_type": "markdown",
   "id": "cd7e6a94",
   "metadata": {
    "slideshow": {
     "slide_type": "subslide"
    }
   },
   "source": [
    "### VMM & VMX\n",
    "\n",
    "补充介绍一下 VMM 和 VMX。\n"
   ]
  },
  {
   "cell_type": "markdown",
   "id": "3e08b633",
   "metadata": {
    "slideshow": {
     "slide_type": "subslide"
    }
   },
   "source": [
    "VMM 和 VM 也就是我们俗称的虚拟机管理器和虚拟机\n",
    "\n",
    "![](https://s3.laisky.com/uploads/2022/08/intel_vmm.png)"
   ]
  },
  {
   "cell_type": "markdown",
   "id": "0d30f82b",
   "metadata": {
    "slideshow": {
     "slide_type": "subslide"
    }
   },
   "source": [
    "VMM 有时候也称为 hypervisor，根据其是运行于 Host OS 之上还是 Bare Metal 之上可以区分为两个类型\n",
    "\n",
    "![](https://s3.laisky.com/uploads/2022/08/Hyperviseur.svg.png)"
   ]
  },
  {
   "cell_type": "markdown",
   "id": "94f77e4b",
   "metadata": {
    "slideshow": {
     "slide_type": "subslide"
    }
   },
   "source": [
    "简而言之，最早的 VMM 就是试图用用户进程运行一整个操作系统。这有很大的难度，原因之一就是对指令权限的控制非常繁琐和困难。\n",
    "\n",
    "后来各家芯片厂商提出了硬件虚拟化方案，Intel-VMX（或叫 VT-x）和 AMD-V。"
   ]
  },
  {
   "cell_type": "markdown",
   "id": "70ce09d0",
   "metadata": {
    "slideshow": {
     "slide_type": "subslide"
    }
   },
   "source": [
    "VMX 为 CPU 新增了两种状态：root/non-root。 和原有的 user/kernel 组合后可得四种状态:\n",
    "\n",
    "1. root/user: Intel VMM 运行于用户态\n",
    "2. root/kernel: Intel VMM 运行于内核态\n",
    "3. non-root/user: VM 运行于用户态\n",
    "4. non-root/kernel: VM 运行于内核态（guest OS）"
   ]
  },
  {
   "cell_type": "markdown",
   "id": "3a92a064",
   "metadata": {
    "slideshow": {
     "slide_type": "subslide"
    }
   },
   "source": [
    "硬件支持 VMM 对 Ring0 的虚拟化操作。\n",
    "\n",
    "可以设定让 VM CPU 在遇到指定指令时触发 `VM EXIT`， 将控制权切换给 VMM，从而得以实现对任意指令的拦截。\n",
    "让 VM 完全意识不到自己运行于虚拟环境之中，有时候也被称为 `blue pill`。"
   ]
  },
  {
   "cell_type": "markdown",
   "id": "f3fa10dc",
   "metadata": {
    "slideshow": {
     "slide_type": "subslide"
    }
   },
   "source": [
    "一句话总结就是，硬件虚拟化极大地降低了 VMM 的实现难度，也提高了 VM 的性能。"
   ]
  },
  {
   "cell_type": "markdown",
   "id": "f3e41b91",
   "metadata": {
    "slideshow": {
     "slide_type": "subslide"
    }
   },
   "source": [
    "### LibOS & hypervisor\n",
    "\n",
    "再回过头来看 LibOS，实际上它和 VM 的分野也不是那么的清晰。\n",
    "\n",
    "共同点：都是将 App 封装于一个独立的“沙箱”中\n",
    "\n",
    "不同点：\n",
    "\n",
    "- VM 会提供一个完整的 OS，仍然有 user/kernel 的权限区别\n",
    "- LibOS 完全运行于用户空间，提供部分 OS 的功能\n",
    "\n",
    "双方也并没有那么泾渭分明，可以笼统地将 libos 认为是轻量级的 VM。"
   ]
  },
  {
   "cell_type": "markdown",
   "id": "e95ad10b",
   "metadata": {
    "slideshow": {
     "slide_type": "subslide"
    }
   },
   "source": [
    "有些 libos 可能会直接和 OS 交互，有些 OS 可能会依托于 VMM。\n",
    "\n",
    "![](https://s3.laisky.com/uploads/2022/08/libos-vmm.png)"
   ]
  },
  {
   "cell_type": "markdown",
   "id": "6fd838a2",
   "metadata": {
    "slideshow": {
     "slide_type": "subslide"
    }
   },
   "source": [
    "### LibOS & OS\n",
    "\n",
    "LibOS 的发展方向非常多元，其不同的需求也导致了其非常多样化的实现路径\n",
    "\n",
    "- 性能优先\n",
    "  \n",
    "  为了降低 user/kernel 的切换开销，在 libos 中重新实现 OS 的设备功能（如 tcp 协议栈），\n",
    "  让所有的数据处理都在用户空间完成，再基于零拷贝等技术直接和设备交互。"
   ]
  },
  {
   "cell_type": "markdown",
   "id": "e48ac543",
   "metadata": {
    "slideshow": {
     "slide_type": "fragment"
    }
   },
   "source": [
    "- 兼容性优先\n",
    "\n",
    "   兼容主流 OS 接口，用最小功能集封装 App，实现 App 的运行时迁移。\n",
    "   可以保存 App 任意时刻的运行状态，将 App 连同 libos 一起打包迁移。"
   ]
  },
  {
   "cell_type": "markdown",
   "id": "2a72fc49",
   "metadata": {
    "slideshow": {
     "slide_type": "fragment"
    }
   },
   "source": [
    "- 安全加固\n",
    "\n",
    "   libos 通过拦截 app syscall 实现对 app 的沙箱，\n",
    "   对 syscall 进行监听和修改以实现安全加固的需求。"
   ]
  },
  {
   "cell_type": "markdown",
   "id": "14047b02",
   "metadata": {
    "slideshow": {
     "slide_type": "slide"
    }
   },
   "source": [
    "## LibOS 在 SGX 领域的应用\n",
    "\n",
    "我近期主要关注 LibOS 在 SGX 领域的应用"
   ]
  },
  {
   "cell_type": "markdown",
   "id": "3ebbba01",
   "metadata": {
    "slideshow": {
     "slide_type": "subslide"
    }
   },
   "source": [
    "### SGX 为什么需要 LibOS？\n",
    "\n",
    "这要从 SGX 的运行时限制讲起。\n",
    "\n",
    "SGX 将一个进程的内存分为可信区和不可信区。要进入不可信区需要通过专门的指令（ECall）启用专属的 SGX 线程。"
   ]
  },
  {
   "cell_type": "markdown",
   "id": "a61d1dc4",
   "metadata": {
    "slideshow": {
     "slide_type": "subslide"
    }
   },
   "source": [
    "这些线程能够执行的 CPU 指令被严格限制，比如 syscall 就被禁止，会触发 #UD exception。\n",
    "\n",
    "虽然 SGX 允许 Enclave 程序自定义 Exception Handler 去捕获 #UD 异常，\n",
    "但是这些 Handler 并不允许发起 OCall 调用。\n",
    "\n",
    "换句话说，仍然不能离开 enclave 区域，还是无法触及 kernel 的 syscall ABI。"
   ]
  },
  {
   "cell_type": "markdown",
   "id": "31998726",
   "metadata": {
    "slideshow": {
     "slide_type": "subslide"
    }
   },
   "source": [
    "SGX 最初是为计算型程序所设计，这些程序仅需要内存中的数据和用户态的 CPU 就可完成计算任务。\n",
    "\n",
    "但是随着人们对通用型 TEE 的需求，会希望运行于可信区的程序同样能够完成如磁盘读取、网络 I/O 等业务，\n",
    "而这些任务都需要 kernel syscall。\n",
    "\n",
    "![](https://s3.laisky.com/uploads/2022/08/sgx-syscall-no.drawio.png)"
   ]
  },
  {
   "cell_type": "markdown",
   "id": "86a32ed7",
   "metadata": {
    "slideshow": {
     "slide_type": "subslide"
    }
   },
   "source": [
    "既然 SGX 原生无法满足 syscall 的需求，那么人们就将眼光转向拦截 syscall 的能手 LibOS\n",
    "\n",
    "![](https://s3.laisky.com/uploads/2022/07/libos.drawio.png)"
   ]
  },
  {
   "cell_type": "markdown",
   "id": "e13e9677",
   "metadata": {
    "slideshow": {
     "slide_type": "subslide"
    }
   },
   "source": [
    "总结一下\n",
    "\n",
    "SGX Enclave 不支持 syscall，但是应用程序需要 syscall。\n",
    "\n",
    "所以用 LibOS 为应用程序提供 syscall，然后 LibOS 再自己想办法处理这些 syscall"
   ]
  },
  {
   "cell_type": "markdown",
   "id": "aa97bdbb",
   "metadata": {
    "slideshow": {
     "slide_type": "subslide"
    }
   },
   "source": [
    "一顿操作猛如虎后，最终架构就成了这样\n",
    "\n",
    "![](https://s3.laisky.com/uploads/2022/07/sgx-libos.drawio.png)"
   ]
  },
  {
   "cell_type": "markdown",
   "id": "ceda8a5d",
   "metadata": {
    "slideshow": {
     "slide_type": "subslide"
    }
   },
   "source": [
    "### trap and emulate\n",
    "\n",
    "实际上，在 SGX 这种应用场景中，libos 的能力基础，全都建立于于对应用程序 syscall 的拦截上。\n",
    "\n",
    "这种拦截并模拟 syscall 的操作，也称为 `Trap And Emulate`。"
   ]
  },
  {
   "cell_type": "markdown",
   "id": "4bd4c3dc",
   "metadata": {
    "slideshow": {
     "slide_type": "subslide"
    }
   },
   "source": [
    "回顾一下用户程序发起 syscall 的几种方法：\n",
    "\n",
    "- interrupt 0x80\n",
    "- syscall/sysenter instructions\n",
    "- libc API"
   ]
  },
  {
   "cell_type": "markdown",
   "id": "a8f2dc7d",
   "metadata": {
    "slideshow": {
     "slide_type": "subslide"
    }
   },
   "source": [
    "主流的应用程序，大多都是靠 libc 来调用 syscall，而且都能够编译为动态链接到 libc 的可执行程序。\n",
    "\n",
    "即使是 python 脚本，它也能够通过一个动态链接到 libc 的解释器来执行。\n",
    "\n",
    "那么 libos 只需要在装载阶段，将 libc 劫持为自己修改过的兼容 libc API 的库就行了。\n",
    "\n",
    "然后在这些自定义的 libc 兼容库里，对 syscall 想做什么都可以。"
   ]
  },
  {
   "cell_type": "markdown",
   "id": "b3f5aac6",
   "metadata": {
    "slideshow": {
     "slide_type": "subslide"
    }
   },
   "source": [
    "![](https://s3.laisky.com/uploads/2022/08/sgx-libos-libc.drawio.png)"
   ]
  },
  {
   "cell_type": "markdown",
   "id": "afe7baa2",
   "metadata": {
    "slideshow": {
     "slide_type": "subslide"
    }
   },
   "source": [
    "那对于 Golang 这种不走寻常路，直接汇编调用 syscall 指令的怎么办？"
   ]
  },
  {
   "cell_type": "markdown",
   "id": "6a2a2827",
   "metadata": {
    "slideshow": {
     "slide_type": "fragment"
    }
   },
   "source": [
    "目前看到的常见做法是，改 Go 的源码，让它用 libc …\n",
    "\n",
    "![](https://s3.laisky.com/uploads/2022/08/go-syscall-diff.png)"
   ]
  },
  {
   "cell_type": "markdown",
   "id": "8f863d94",
   "metadata": {
    "slideshow": {
     "slide_type": "subslide"
    }
   },
   "source": [
    "### 拦截后能做什么？\n",
    "\n",
    "\n",
    "最直接的好处是，即使 libos 什么也不做，仅仅是转发 syscall 给 kernel，\n",
    "也让 enclave 程序拥有了 syscall 的能力，\n",
    "这就让 enclave 程序可以读写文件，可以通过 socket 发起网络请求，\n",
    "或者运行网络服务器。"
   ]
  },
  {
   "cell_type": "markdown",
   "id": "4185a39c",
   "metadata": {
    "slideshow": {
     "slide_type": "subslide"
    }
   },
   "source": [
    "**Defense-in-Depth** 其次，libOS 可以对 syscall 进行限制和监督，仅允许最小限度的 syscall，\n",
    "减少暴露面，实现加固。"
   ]
  },
  {
   "cell_type": "markdown",
   "id": "0385005f",
   "metadata": {
    "slideshow": {
     "slide_type": "fragment"
    }
   },
   "source": [
    "除此之外还可以干很多增强安全性或功能的能力。\n",
    "\n",
    "比如，通过改写 socket 的 `listen, connect, recv, write` syscall，可以实现 TTLS，即在 syscall 这一层对连接启用 TLS 加密，应用程序完全无感知。\n",
    "\n",
    "类似的，也可以通过改写 file 的 `read, write`，实现对文件系统的透明加密。"
   ]
  },
  {
   "cell_type": "markdown",
   "id": "a1e741d5",
   "metadata": {
    "slideshow": {
     "slide_type": "slide"
    }
   },
   "source": [
    "## Trap And Emulate\n",
    "\n",
    "前文介绍的 syscall 拦截都基于拦截动态链接的 libc。\n",
    "\n",
    "那如果是没法改源码的静态编译可执行程序呢？\n",
    "\n",
    "对于 SGX Enclave 程序而言，目前看来是没办法了。\n",
    "\n",
    "那抛开 SGX，在 OS 领域，有其他拦截方式吗？"
   ]
  },
  {
   "cell_type": "markdown",
   "id": "e0db5061",
   "metadata": {
    "slideshow": {
     "slide_type": "subslide"
    }
   },
   "source": [
    "### ptrace 大法好\n",
    "\n",
    "syscall 在 kernel 中有两个 hook 点：\n",
    "\n",
    "- `syscall-enter-stop`: 进入 syscall 前\n",
    "- `syscall-exit-stop`: syscall 结束以后。"
   ]
  },
  {
   "cell_type": "markdown",
   "id": "7afed7ab",
   "metadata": {
    "slideshow": {
     "slide_type": "subslide"
    }
   },
   "source": [
    "拦截 syscall 的技巧是，在 `syscall-enter-stop` 后，\n",
    "把记录 syscall 编号的 `%orig_rax` 改写为一个不存在的值（如 -1 或 MAX_UINT64）。\n",
    "\n",
    "这样通过 PTRACE_SYSCALL/PTRACE_SYSEMU 恢复 tracee 运行后，\n",
    "kernel 无法查找到合法的 syscall handler。"
   ]
  },
  {
   "cell_type": "markdown",
   "id": "12d01b5e",
   "metadata": {
    "slideshow": {
     "slide_type": "fragment"
    }
   },
   "source": [
    "tracee 就会进入 syscall-exit-stop 再次触发 tracer。\n",
    "\n",
    "此处可以通过 `%rax` 设置 syscall 的返回值。\n",
    "\n",
    "同理，一些返回参数可以通过 `%rdi %rsi %rdx` 等寄存器来设置。这样就实现了一次 syscall 的劫持/模拟。"
   ]
  },
  {
   "cell_type": "markdown",
   "id": "d703afbd",
   "metadata": {
    "slideshow": {
     "slide_type": "subslide"
    }
   },
   "source": [
    "```c\n",
    "for (;;) {\n",
    "    /* Enter next system call */\n",
    "    ptrace(PTRACE_SYSCALL, pid, 0, 0);\n",
    "    waitpid(pid, 0, 0);  // <- tracee 被切出，返回给 tracer\n",
    "\n",
    "    struct user_regs_struct regs;\n",
    "    ptrace(PTRACE_GETREGS, pid, 0, &regs);  // <- 获取 tracee 的寄存器\n",
    "\n",
    "    // 此处模拟的是 syscall 黑名单\n",
    "    // 如果判断一个 syscall 不被允许，就将其标记为 blocked\n",
    "    int blocked = 0;\n",
    "    if (is_syscall_blocked(regs.orig_rax)) { // <- 通过 %orig_rax 获取系统调用号\n",
    "        blocked = 1;\n",
    "        regs.orig_rax = -1; // 将 %orig_rax 设置为一个非法的数来拒绝改次 syscall\n",
    "        ptrace(PTRACE_SETREGS, pid, 0, &regs);\n",
    "    }\n",
    "\n",
    "    ptrace(PTRACE_SYSCALL, pid, 0, 0);  // <- 恢复 tracee 执行\n",
    "                                        // 因为 %orig_rax 是非法的，所以 tracee 会跳过 syscall，\n",
    "                                        // 直接进入 `syscall-exit-stop`\n",
    "    waitpid(pid, 0, 0);  // <- 触发 syscall-exit-stop，回到 tracer\n",
    "\n",
    "    if (blocked)\n",
    "        regs.rax = -EPERM; // 通过 %rax 将 sycall 返回设置为错误\n",
    "        ptrace(PTRACE_SETREGS, pid, 0, &regs);\n",
    "    }\n",
    "}\n",
    "```"
   ]
  },
  {
   "cell_type": "markdown",
   "id": "41ef966e",
   "metadata": {
    "slideshow": {
     "slide_type": "subslide"
    }
   },
   "source": [
    "Ps. 为减少 context switch，`PTRACE_SYSEMU` 方式恢复的 tracee 会忽略 syscall-exit-stop。"
   ]
  },
  {
   "cell_type": "markdown",
   "id": "39201756",
   "metadata": {
    "slideshow": {
     "slide_type": "subslide"
    }
   },
   "source": [
    "### LibOS? VMM?\n",
    "\n",
    "除了 ptrace 外，另一条路径就是依赖 VMX 硬件虚拟化提供的指令拦截能力。\n",
    "\n",
    "如 gVisor 就提供了两个实现方式，ptrace 或 KVM。\n",
    "\n",
    "这也是为什么前面会说，LibOS 和 VM 的区分实际上并不很明确。笼统地说，LibOS 就是种轻量级 VM。\n",
    "\n",
    "比如 LibOS + KVM 的用户空间负载应该远小于 QEMU + KVM。"
   ]
  },
  {
   "cell_type": "markdown",
   "id": "ec5a0ea4",
   "metadata": {
    "slideshow": {
     "slide_type": "slide"
    }
   },
   "source": [
    "## Thanks"
   ]
  }
 ],
 "metadata": {
  "celltoolbar": "Slideshow",
  "kernelspec": {
   "display_name": "Python 3 (ipykernel)",
   "language": "python",
   "name": "python3"
  },
  "language_info": {
   "codemirror_mode": {
    "name": "ipython",
    "version": 3
   },
   "file_extension": ".py",
   "mimetype": "text/x-python",
   "name": "python",
   "nbconvert_exporter": "python",
   "pygments_lexer": "ipython3",
   "version": "3.9.7"
  }
 },
 "nbformat": 4,
 "nbformat_minor": 5
}
