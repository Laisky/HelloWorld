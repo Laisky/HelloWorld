{
 "cells": [
  {
   "cell_type": "markdown",
   "metadata": {},
   "source": [
    "## 子串匹配算法\n",
    "\n",
    "朴素串匹配：遍历主串和子串，发现不匹配就主串+1，这过程中会发生数次回溯\n",
    "\n",
    "无回溯匹配算法（KMP）\n",
    "\n",
    "预先计算子串相对于主串的每一个字母的回溯距离，当发现不匹配时，不回溯主串，只回溯子串。\n",
    "\n",
    "![kmp](https://s1.laisky.com/uploads/2019/04/kmp-1.jpg)\n",
    "\n",
    "由于，当 $p_k$ 匹配失败时，说明所有的 $p_i(i<k)$ 都已经匹配成功。所以，不需要分析母串，只需要分析子串自己，就可以得出针对子串中每一个字母的回溯距离。\n",
    "\n",
    "![kmp](https://s2.laisky.com/uploads/2019/04/kmp-2.jpg)\n",
    "\n",
    "如果 $p_i=p_k$，则更新 `pnext[i]=k`，否则，则令 `k=pnext[k]`。\n",
    "\n",
    "因为，当 $p_i$ 不等于 $p_k$ 时，相当于在 $p_0 ～ p_k$ 中寻找一个回溯距离，那直接取用事先已经计算过的 `pnext[k]` 即可。"
   ]
  },
  {
   "cell_type": "code",
   "execution_count": 10,
   "metadata": {},
   "outputs": [
    {
     "data": {
      "text/plain": [
       "[-1, 0, 0, 1, 2, 3, 4, 0, 1, 2]"
      ]
     },
     "execution_count": 10,
     "metadata": {},
     "output_type": "execute_result"
    }
   ],
   "source": [
    "from typing import *\n",
    "\n",
    "def gen_pnext(p: str) -> List[str]:\n",
    "    \"\"\"生成用于 KMP 的 pnext 查询表\n",
    "    \n",
    "    根据字串 p，计算 p 中每一项的回溯位置\n",
    "    \"\"\"\n",
    "    i, k, m = 0, -1, len(p)\n",
    "    pnext = [-1] * m          # 初始化为 -1，-1 表示没有任何前缀匹配，只能从头开始\n",
    "    while i < m-1:\n",
    "        if k == -1 or p[i] == p[k]:  # 无匹配或匹配，都往前一步\n",
    "            i, k = i+1, k+1\n",
    "            pnext[i] = k             # 因为假设 p_k-1 已经匹配 ，所以现在认为 p_k 也匹配\n",
    "        else:\n",
    "            k = pnext[k]             # 不匹配，因为字串已经到了位置 k，所以回溯位置刚好为 pnext[k]\n",
    "            \n",
    "    return pnext\n",
    "\n",
    "\n",
    "gen_pnext(\"abababcabc\")"
   ]
  },
  {
   "cell_type": "code",
   "execution_count": 18,
   "metadata": {},
   "outputs": [
    {
     "data": {
      "text/plain": [
       "1"
      ]
     },
     "execution_count": 18,
     "metadata": {},
     "output_type": "execute_result"
    }
   ],
   "source": [
    "def matching_KMP(raw, substr, pnext):\n",
    "    \"\"\"\n",
    "    Args:\n",
    "        raw (str): 母串\n",
    "        substr (str): 子串\n",
    "        pnext (list): 子串回溯表\n",
    "    \"\"\"\n",
    "    raw_i, sub_i = 0, 0\n",
    "    raw_len, sub_len = len(raw), len(substr)\n",
    "    while raw_i<raw_len and sub_i<sub_len:\n",
    "        if sub_i==-1 or raw[raw_i]==substr[sub_i]:\n",
    "            sub_i, raw_i = sub_i+1, raw_i+1\n",
    "        else:\n",
    "            sub_i = pnext[sub_i]\n",
    "            \n",
    "    if sub_i == sub_len:\n",
    "        return raw_i - sub_i\n",
    "    \n",
    "    return -1\n",
    "\n",
    "\n",
    "matching_KMP(\"abcabcabcababcccc\", 'bca', pnext=gen_pnext(\"bca\"))"
   ]
  }
 ],
 "metadata": {
  "kernelspec": {
   "display_name": "Python 3",
   "language": "python",
   "name": "python3"
  },
  "language_info": {
   "codemirror_mode": {
    "name": "ipython",
    "version": 3
   },
   "file_extension": ".py",
   "mimetype": "text/x-python",
   "name": "python",
   "nbconvert_exporter": "python",
   "pygments_lexer": "ipython3",
   "version": "3.6.2"
  }
 },
 "nbformat": 4,
 "nbformat_minor": 2
}
