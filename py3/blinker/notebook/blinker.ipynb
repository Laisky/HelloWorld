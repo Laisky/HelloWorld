{
 "metadata": {
  "name": "",
  "signature": "sha256:98067d94e29f8f4ffcf54f6b80ca39409ae850f57839570955bd393254237760"
 },
 "nbformat": 3,
 "nbformat_minor": 0,
 "worksheets": [
  {
   "cells": [
    {
     "cell_type": "code",
     "collapsed": false,
     "input": [
      "# Sub & Pub\n",
      "from blinker import signal\n",
      "\n",
      "\n",
      "# Listener 1\n",
      "def subscriber1(sender):\n",
      "    print(\"1: Got a signal sent by %r\" % sender)\n",
      "    \n",
      "    return '1'\n",
      "    \n",
      "\n",
      "signal_test = signal('signal_test')\n",
      "signal_test.connect(subscriber1)\n",
      "\n",
      "# Listener 2\n",
      "def subscriber2(sender):\n",
      "    print(\"2: Got a signal sent by %r\" % sender)\n",
      "    \n",
      "    return '2'\n",
      "    \n",
      "\n",
      "signal_test = signal('signal_test')\n",
      "signal_test.connect(subscriber2)\n",
      "\n",
      "\n",
      "# Dispatcher\n",
      "\n",
      "class MyObj():\n",
      "    pass\n",
      "\n",
      "\n",
      "signal_test = signal('signal_test')\n",
      "r = signal_test.send(1)\n",
      "r = signal_test.send(2)\n",
      "\n"
     ],
     "language": "python",
     "metadata": {},
     "outputs": [
      {
       "output_type": "stream",
       "stream": "stdout",
       "text": [
        "1: Got a signal sent by 1\n",
        "2: Got a signal sent by 1\n",
        "1: Got a signal sent by 2\n",
        "2: Got a signal sent by 2\n"
       ]
      }
     ],
     "prompt_number": 1
    },
    {
     "cell_type": "code",
     "collapsed": false,
     "input": [
      "# Send Data\n",
      "\n",
      "send_signal = signal('send_data')\n",
      "\n",
      "@send_signal.connect\n",
      "def recv_data(sender, **kw):\n",
      "    print('revice data from {} with data {}'.format(sender, kw))\n",
      "    \n",
      "    \n",
      "r = send_signal.send('anomalies', arg=[123])"
     ],
     "language": "python",
     "metadata": {},
     "outputs": [
      {
       "output_type": "stream",
       "stream": "stdout",
       "text": [
        "revice data from anomalies with data {'arg': [123]}\n"
       ]
      }
     ],
     "prompt_number": 2
    },
    {
     "cell_type": "code",
     "collapsed": false,
     "input": [
      "# Decorator\n",
      "from blinker import Signal\n",
      "\n",
      "\n",
      "class Worker():\n",
      "    on_start = Signal()\n",
      "    on_complete = Signal()\n",
      "    \n",
      "    def __init__(self, name):\n",
      "        self.name = name\n",
      "        \n",
      "    def run(self):\n",
      "        self.on_start.send(self)\n",
      "        # processing\n",
      "        self.on_complete.send(self)\n",
      "        \n",
      "    def __repr__(self):\n",
      "        return self.name\n",
      "        \n",
      "        \n",
      "# Main\n",
      "worker = Worker('worker_instance')\n",
      "\n",
      "# Listener\n",
      "@worker.on_complete.connect\n",
      "def completed(sender):\n",
      "    print('{} is completed'.format(sender))\n",
      "    \n",
      "\n",
      "# Starting\n",
      "worker.run()"
     ],
     "language": "python",
     "metadata": {},
     "outputs": [
      {
       "output_type": "stream",
       "stream": "stdout",
       "text": [
        "worker_instance is completed\n"
       ]
      }
     ],
     "prompt_number": 3
    }
   ],
   "metadata": {}
  }
 ]
}