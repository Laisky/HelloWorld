{
 "cells": [
  {
   "cell_type": "code",
   "execution_count": 4,
   "id": "a7fa39d0",
   "metadata": {},
   "outputs": [],
   "source": [
    "import base64\n",
    "import os\n",
    "import re\n",
    "import tempfile\n",
    "from concurrent.futures import Future\n",
    "from textwrap import dedent\n",
    "from typing import List, Optional\n",
    "\n",
    "from langchain_openai import ChatOpenAI\n",
    "from langchain_community.document_loaders import (\n",
    "    BSHTMLLoader,\n",
    "    PyPDFLoader,\n",
    "    UnstructuredPowerPointLoader,\n",
    "    UnstructuredWordDocumentLoader,\n",
    ")\n",
    "from langchain.schema.document import Document\n",
    "from langchain_community.document_loaders.base import BaseLoader\n",
    "from langchain.text_splitter import TokenTextSplitter"
   ]
  },
  {
   "cell_type": "code",
   "execution_count": 5,
   "id": "975a12ee",
   "metadata": {},
   "outputs": [],
   "source": [
    "text_splitter = TokenTextSplitter(\n",
    "    chunk_size=1024,\n",
    "    chunk_overlap=20,\n",
    ")\n",
    "\n",
    "loader = PyPDFLoader(\"/home/laisky/download/1706.03762.pdf\")\n",
    "docus = loader.load_and_split(text_splitter=text_splitter)"
   ]
  },
  {
   "cell_type": "code",
   "execution_count": 6,
   "id": "80d03e89",
   "metadata": {},
   "outputs": [
    {
     "name": "stdout",
     "output_type": "stream",
     "text": [
      "%PDF-1.5\r\n",
      "%�\r\n",
      "137 0 obj\r\n",
      "<< /Filter /FlateDecode /Length 4011 >>\r\n",
      "stream\r\n",
      "xڵZK�䶑��W��\u0015��%^|hc\u000f�C+{#4�zO�>���U���\u0016\u001fj�~�3�\t\u0012`qf���� ��#�_&�=\\\u001e",
      "��\u001f������7���e� DZ\u0019#\u001f�^\u001fDV>\u0014\"K3U<<�\u001f>&�p\u0014Y�%�� ʤ?ϧ���������J�\\���4�0o� �4yiRe���\r",
      "���=��`��p��N:;\u000fu����AdI?|\u001a\u001f��Jھ���x��8��F�7{�����{��hI%s8���\u0015�h֝)\u0005d\"�ɞiº;S�r0I=Y~\u001b���jY����|�vU�dZdjw�/���!����N�64A��W:O��ajNs[\u000f\u0007U%��y�\u000f�J~=\b�X�y��?�k����\"\u001fu��q�_�f��\u0003�p=�\u0013�'��%���\u001d",
      "�$7�ކ�>]-D�*���2�����l��I\u0015�\u0001Fo8�\u000e��Ԩ�\u000e7\r",
      "u7ze;�J&��Kko�N%�q>]��m\u0017�m�]��bi<X\u0011i�h�q��6��\u0017�F[O�A$~��x�TVE�5e��\u000b",
      "dyL�\u0018O�LZ�:&�w��,-��'�y*��I�7dD*������Qk�|�ov�gҰ,��P\u0006F��,�\u0003�z�y\u0002�\u0007�\f",
      "\u0013�\u0019<\u0000(��P�r�X�dcCr��S�MM7;M�ש���<^���\u001f��sw����N��\u0019Z\u001b�\u0006B�7'T��D\r\n",
      "3��A�p�\"9�-�C��ci�\u0016��c�\u0003��dO�<��M�|T�#���0��=-�`ò��k^�G6��oͩn�ʐ�`��i�\u0007\u001a>���\u0019\f",
      "��\u001b���\u001e",
      "4����>�^����\u001f\u001b����\"��\"�\u000e�1b\r",
      "��<a'�\"��1\u0004x\u0012I��:��(��wms��v�\u0011�B\u0015�\u0000�{�\u001e",
      "'��]d���pH����:\u001d",
      "8��Dy��\u001d",
      "���X�3��\u0003:�Urm�g�y��³d��B�a�k�\u0014�@����\u0000g��<���\u001f@wZ\u0015��\u000f�b��Q���\u0014\f",
      "���\u0017n\u0005�,�\u0010\u0014N�N��I\u0019�N\b��s�=\u001bt�\u0013B/qڠ��\u0007i�_\u001b�R7ćw�䗿|@\u0010aZI�? h�J�@q���\u0000\"G�4*�\u0001�$\u000b",
      "O#��%\u0005�/M\u0011�46d�Wgd��\u0019d\u000b",
      "+�WΎ~V\u0014\u001b\u0019�\u000frӪL�B��8SP�ӵa\t4�բ��A��MS���\"{�\u001a\u0017�\r",
      "��\u001a]\r",
      "�A��v>���\u0018��G@��}�\u0016��7ӵ�6Ĩ�ۢN���V��Z��\u0012\u0012_\u001b\u0017\t��\u0002���g>\r",
      "����B=�\u0013�\f",
      "�G�@�-L\t�[��%�鵶�Lב-��A��1g���:�`�ܚ��/��A�Bo�i�G�\u0017�8\u0010�0ʴ�`/$з�c�\u0012���\u0013�\u001d",
      "`0'Kq8�+�\u0002bjɘkDǆ��T��e�47\u0000\u0016�9�q�5\u0001^��b�&#��8\r\n",
      "]\u0014\u001c",
      "q.���\u0001ny�\u0006��\u0015\"��J/��_Ō4Cs�4R{\u000b",
      ";�T\u0016��K�=\u001e",
      "*��\"&{�\tɢ�ֻs�\u001b��2⏩Ҳ`H��Jf�/���\u0014y�����\u0002L5���\u0019���:9��7��\u0014\u000b",
      "B��#]1\u0014O9��\u0001���f�4\u000b",
      "�=�#�lB�\u0001�0A�p\u0000�G��\f",
      "X3��\"�@Q{��\f",
      "�%x��3��u\u0010��\u0019�x\u00162���ڣb�\u0007�9\u001c",
      "t���`o0�.����\"�Q��&M�@�;8G�Ƌ�=]�\u0019o\u001c",
      "T\u0016HFX\u001f�\u0015y\u0002\u000e9������\u000b",
      "�\u001b�O\t�\u0003=\u001d",
      "K�cؖq3�� \u0012�\u0010ScH#�-\u0017�~�\u0005\u001aF�[�\u0019zy�\r\n",
      "�\u001c",
      "�}��+�\r\n",
      "0!E=\u0018�ꑒBh��$��v�QR�\u0000\u0012�g�f;��'��0-�Ӟ�\u0011�K�\u0003���3����j\u001bFg�\u0006�,���ߞc�0[\u0018\u0006��sz�a:!�g<\r\n"
     ]
    }
   ],
   "source": [
    "!head /home/laisky/download/1706.03762.pdf"
   ]
  }
 ],
 "metadata": {
  "kernelspec": {
   "display_name": "Python 3 (ipykernel)",
   "language": "python",
   "name": "python3"
  },
  "language_info": {
   "codemirror_mode": {
    "name": "ipython",
    "version": 3
   },
   "file_extension": ".py",
   "mimetype": "text/x-python",
   "name": "python",
   "nbconvert_exporter": "python",
   "pygments_lexer": "ipython3",
   "version": "3.9.7"
  }
 },
 "nbformat": 4,
 "nbformat_minor": 5
}
