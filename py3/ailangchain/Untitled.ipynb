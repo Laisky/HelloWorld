{
 "cells": [
  {
   "cell_type": "code",
   "execution_count": 8,
   "id": "9fa0db0e",
   "metadata": {},
   "outputs": [],
   "source": [
    "# ====================================\n",
    "# prepare docs.index & faiss_store.pkl\n",
    "# ====================================\n",
    "\n",
    "import glob\n",
    "import codecs\n",
    "import pickle\n",
    "\n",
    "import faiss\n",
    "from langchain.embeddings import OpenAIEmbeddings\n",
    "from langchain.text_splitter import CharacterTextSplitter, MarkdownTextSplitter\n",
    "from langchain.vectorstores import FAISS\n",
    "\n",
    "data = []\n",
    "sources = []\n",
    "for f in glob.iglob(\"/home/laisky/download/doc/content/*.md\"):\n",
    "    sources.append(f)\n",
    "    with codecs.open(f, \"r\", \"utf8\") as fp:\n",
    "        data.append(fp.read())\n",
    "        \n",
    "        \n",
    "# Here we split the documents, as needed, into smaller chunks.\n",
    "# We do this due to the context limits of the LLMs.\n",
    "text_splitter = CharacterTextSplitter(chunk_size=1500, separator=\"\\n\")\n",
    "docs = []\n",
    "metadatas = []\n",
    "for i, d in enumerate(data):\n",
    "    splits = text_splitter.split_text(d)\n",
    "    docs.extend(splits)\n",
    "    metadatas.extend([{\"source\": sources[i]}] * len(splits))\n",
    "    \n",
    "    \n",
    "# Here we create a vector store from the documents and save it to disk.\n",
    "store = FAISS.from_texts(docs, OpenAIEmbeddings(), metadatas=metadatas)\n",
    "faiss.write_index(store.index, \"/home/laisky/download/langchain/docs.index\")\n",
    "store.index = None\n",
    "with open(\"/home/laisky/download/langchain/doc_faiss_store.pkl\", \"wb\") as f:\n",
    "    pickle.dump(store, f)"
   ]
  },
  {
   "cell_type": "code",
   "execution_count": 1,
   "id": "bad577ad",
   "metadata": {},
   "outputs": [],
   "source": [
    "# ====================================\n",
    "# load docs.index & faiss_store.pkl\n",
    "# ====================================\n",
    "\n",
    "import os\n",
    "import textwrap\n",
    "from sys import path\n",
    "\n",
    "path.append(\"/opt/configs/ramjet\")\n",
    "import prd\n",
    "os.environ[\"OPENAI_API_KEY\"] = prd.OPENAI_TOEN\n",
    "\n",
    "import faiss\n",
    "from langchain import OpenAI\n",
    "from langchain.chains import VectorDBQAWithSourcesChain\n",
    "import pickle\n",
    "import argparse\n",
    "\n",
    "\n",
    "index = faiss.read_index(\"/home/laisky/download/langchain/docs.index\")\n",
    "with open(\"/home/laisky/download/langchain/doc_faiss_store.pkl\", \"rb\") as f:\n",
    "    store = pickle.load(f)\n",
    "    \n",
    "store.index = index\n",
    "chain = VectorDBQAWithSourcesChain.from_llm(llm=OpenAI(temperature=0), vectorstore=store)\n",
    "\n",
    "def pretty_print(text: str) -> str:\n",
    "    text = text.strip()\n",
    "    return textwrap.fill(text, width=80, subsequent_indent='    ')"
   ]
  },
  {
   "cell_type": "code",
   "execution_count": 9,
   "id": "b26b1ae2",
   "metadata": {},
   "outputs": [
    {
     "name": "stdout",
     "output_type": "stream",
     "text": [
      "🤔️: 啥是 TEE，整点例子展开讲讲？\n",
      "\n",
      "🤖️: TEE (Trusted Execution Environment) is a form of trusted computing that provides\n",
      "    a secure environment to run trusted applications. Examples of such\n",
      "    applications include encryption/decryption, digital signing, authentication,\n",
      "    etc. TEE can protect the data and code of applications from being accessed\n",
      "    by unauthorized third parties.\n",
      "\n",
      "📖: /home/laisky/download/doc/content/terms.md\n"
     ]
    }
   ],
   "source": [
    "# ====================================\n",
    "# chatbot as service\n",
    "# ====================================\n",
    "\n",
    "question = \"啥是 TEE，整点例子展开讲讲？\"\n",
    "result = chain({\"question\": question})\n",
    "\n",
    "print(f\"🤔️: {question}\\n\")\n",
    "print(f\"🤖️: {pretty_print(result['answer'])}\\n\")\n",
    "print(f\"📖: {pretty_print(result['sources'])}\")"
   ]
  }
 ],
 "metadata": {
  "kernelspec": {
   "display_name": "Python 3 (ipykernel)",
   "language": "python",
   "name": "python3"
  },
  "language_info": {
   "codemirror_mode": {
    "name": "ipython",
    "version": 3
   },
   "file_extension": ".py",
   "mimetype": "text/x-python",
   "name": "python",
   "nbconvert_exporter": "python",
   "pygments_lexer": "ipython3",
   "version": "3.9.7"
  }
 },
 "nbformat": 4,
 "nbformat_minor": 5
}
