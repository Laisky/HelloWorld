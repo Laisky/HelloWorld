{
 "cells": [
  {
   "cell_type": "code",
   "execution_count": 1,
   "metadata": {},
   "outputs": [],
   "source": [
    "import re\n",
    "import codecs\n",
    "import json\n",
    "import traceback\n",
    "from urllib.parse import quote, unquote\n",
    "from collections import defaultdict\n",
    "from operator import itemgetter\n",
    "\n",
    "from pyquery import PyQuery as pq\n",
    "import requests\n",
    "\n",
    "\n",
    "index_regex = re.compile(r'[^{]+(.*)\\)')"
   ]
  },
  {
   "cell_type": "code",
   "execution_count": 17,
   "metadata": {},
   "outputs": [],
   "source": [
    "# get brand image\n",
    "\n",
    "resp = requests.get('https://item.tuhu.cn/Car/GetCarBrands2?callback=__GetCarBrands__&_=1565141557927')\n",
    "index = json.loads(index_regex.findall(resp.text)[0])"
   ]
  },
  {
   "cell_type": "code",
   "execution_count": 21,
   "metadata": {},
   "outputs": [],
   "source": [
    "# download logo image\n",
    "for _, l1 in index.items():\n",
    "    for brand_dict in l1:\n",
    "        bname = brand_dict['Brand']\n",
    "        bimg = requests.get(f\"https://img3.tuhu.org/{brand_dict['Url']}\").content\n",
    "        with open(f'{bname}.png', 'wb') as f:\n",
    "            f.write(bimg)\n",
    "        "
   ]
  },
  {
   "cell_type": "code",
   "execution_count": 46,
   "metadata": {
    "scrolled": true
   },
   "outputs": [],
   "source": [
    "# get child tier\n",
    "\n",
    "def get_child_brand_url(brand):\n",
    "    return f\"https://item.tuhu.cn/Car/SelOneBrand?callback=__GetCarBrands__&Brand={quote(brand)}&_=1565143202617\"\n",
    "\n",
    "\n",
    "result = defaultdict(list)\n",
    "for _, l1 in index.items():\n",
    "    for brand_dict in l1:\n",
    "        bname = brand_dict['Brand']\n",
    "        for cbrand_d in json.loads(index_regex.findall(requests.get(get_child_brand_url(bname)).text)[0])['OneBrand']:\n",
    "            result[bname].append(cbrand_d)\n",
    "                   "
   ]
  },
  {
   "cell_type": "code",
   "execution_count": 47,
   "metadata": {},
   "outputs": [],
   "source": [
    "# write result\n",
    "\n",
    "with open('./车胎/child-tires-utf8.txt', 'rb') as f:\n",
    "    f.write(json.dumps(result, indent=4, sort_keys=True, ensure_ascii=False).encode('utf8'))\n",
    "    \n",
    "with open('./车胎/child-tires-gbk.txt', 'rb') as f:\n",
    "    f.write(json.dumps(result, indent=4, sort_keys=True, ensure_ascii=False).encode('gbk')) "
   ]
  },
  {
   "cell_type": "code",
   "execution_count": 3,
   "metadata": {},
   "outputs": [],
   "source": [
    "# load result\n",
    "with open('./车胎/child-tires-utf8.txt', 'rb') as f:\n",
    "    result = json.loads(f.read().decode('utf8'))"
   ]
  },
  {
   "cell_type": "code",
   "execution_count": 48,
   "metadata": {},
   "outputs": [
    {
     "data": {
      "text/plain": [
       "{'A': [{'Brand': 'A - 阿尔法·罗米欧',\n",
       "   'Url': '/Images/Logo/aerfa%C2%B7luomiou.png',\n",
       "   'ImageUrl': None},\n",
       "  {'Brand': 'A - 安驰', 'Url': '/Images/Logo/anchi.png', 'ImageUrl': None},\n",
       "  {'Brand': 'A - ARCFOX', 'Url': '/Images/Logo/arcfox.png', 'ImageUrl': None},\n",
       "  {'Brand': 'A - 阿斯顿·马丁',\n",
       "   'Url': '/Images/Logo/asidun%C2%B7mading.png',\n",
       "   'ImageUrl': None},\n",
       "  {'Brand': 'A - 奥迪', 'Url': '/Images/Logo/aodi.png', 'ImageUrl': None}],\n",
       " 'B': [{'Brand': 'B - 别克', 'Url': '/Images/Logo/bieke.png', 'ImageUrl': None},\n",
       "  {'Brand': 'B - 奔驰', 'Url': '/Images/Logo/benchi.png', 'ImageUrl': None},\n",
       "  {'Brand': 'B - 保时捷', 'Url': '/Images/Logo/baoshijie.png', 'ImageUrl': None},\n",
       "  {'Brand': 'B - 宝龙', 'Url': '/Images/Logo/baolong.png', 'ImageUrl': None},\n",
       "  {'Brand': 'B - 比亚迪', 'Url': '/Images/Logo/biyadi.png', 'ImageUrl': None},\n",
       "  {'Brand': 'B - 宝马', 'Url': '/Images/Logo/baoma.png', 'ImageUrl': None},\n",
       "  {'Brand': 'B - 标致', 'Url': '/Images/Logo/biaozhi.png', 'ImageUrl': None},\n",
       "  {'Brand': 'B - 宾利', 'Url': '/Images/Logo/binli.png', 'ImageUrl': None},\n",
       "  {'Brand': 'B - 北汽制造',\n",
       "   'Url': '/Images/Logo/beiqizhizao.png',\n",
       "   'ImageUrl': None},\n",
       "  {'Brand': 'B - 北京汽车',\n",
       "   'Url': '/Images/Logo/beijingqiche.png',\n",
       "   'ImageUrl': None},\n",
       "  {'Brand': 'B - 宝骏', 'Url': '/Images/Logo/baojun.png', 'ImageUrl': None},\n",
       "  {'Brand': 'B - 巴博斯', 'Url': '/Images/Logo/babosi.png', 'ImageUrl': None},\n",
       "  {'Brand': 'B - 宝沃', 'Url': '/Images/Logo/baowo.png', 'ImageUrl': None},\n",
       "  {'Brand': 'B - 比速汽车', 'Url': '/Images/Logo/bisuqiche.png', 'ImageUrl': None},\n",
       "  {'Brand': 'B - 北汽瑞丽',\n",
       "   'Url': '/Images/Logo/beiqiruili.png',\n",
       "   'ImageUrl': None},\n",
       "  {'Brand': 'B - 本田', 'Url': '/Images/Logo/bentian.png', 'ImageUrl': None},\n",
       "  {'Brand': 'B - 北汽新能源',\n",
       "   'Url': '/Images/Logo/beiqixinnengyuan.png',\n",
       "   'ImageUrl': None}],\n",
       " 'C': [{'Brand': 'C - 成功',\n",
       "   'Url': '/Images/Logo/chenggong.png',\n",
       "   'ImageUrl': None},\n",
       "  {'Brand': 'C - 长安', 'Url': '/Images/Logo/changan.png', 'ImageUrl': None},\n",
       "  {'Brand': 'C - 昌河', 'Url': '/Images/Logo/changhe.png', 'ImageUrl': None},\n",
       "  {'Brand': 'C - 长安商用',\n",
       "   'Url': '/Images/Logo/changanshangyong.png',\n",
       "   'ImageUrl': None},\n",
       "  {'Brand': 'C - 长城', 'Url': '/Images/Logo/changcheng.png', 'ImageUrl': None},\n",
       "  {'Brand': 'C - 传祺', 'Url': '/Images/Logo/chuanzuo.png', 'ImageUrl': None}],\n",
       " 'D': [{'Brand': 'D - 大众',\n",
       "   'Url': '/Images/Logo/dazhong.png',\n",
       "   'ImageUrl': None},\n",
       "  {'Brand': 'D - 大迪', 'Url': '/Images/Logo/dadi.png', 'ImageUrl': None},\n",
       "  {'Brand': 'D - 大发', 'Url': '/Images/Logo/dafa.png', 'ImageUrl': None},\n",
       "  {'Brand': 'D - 大宇', 'Url': '/Images/Logo/dayu.png', 'ImageUrl': None},\n",
       "  {'Brand': 'D - 道奇', 'Url': '/Images/Logo/daoqi.png', 'ImageUrl': None},\n",
       "  {'Brand': 'D - 东风汽车',\n",
       "   'Url': '/Images/Logo/dongfengqiche.png',\n",
       "   'ImageUrl': None},\n",
       "  {'Brand': 'D - 东风风神',\n",
       "   'Url': '/Images/Logo/dongfengfengshen.png',\n",
       "   'ImageUrl': None},\n",
       "  {'Brand': 'D - DS', 'Url': '/Images/Logo/ds.png', 'ImageUrl': None},\n",
       "  {'Brand': 'D - 电咖', 'Url': '/Images/Logo/dianka.png', 'ImageUrl': None},\n",
       "  {'Brand': 'D - 大乘汽车',\n",
       "   'Url': '/Images/Logo/dachengqiche.png',\n",
       "   'ImageUrl': None},\n",
       "  {'Brand': 'D - 东南', 'Url': '/Images/Logo/dongnan.png', 'ImageUrl': None},\n",
       "  {'Brand': 'D - 东风风度',\n",
       "   'Url': '/Images/Logo/dongfengfengdu.png',\n",
       "   'ImageUrl': None},\n",
       "  {'Brand': 'D - 大通', 'Url': '/Images/Logo/datong.png', 'ImageUrl': None},\n",
       "  {'Brand': 'D - 东风小康',\n",
       "   'Url': '/Images/Logo/dongfengxiaokang.png',\n",
       "   'ImageUrl': None},\n",
       "  {'Brand': 'D - 东风富康',\n",
       "   'Url': '/Images/Logo/dongfengfukang.png',\n",
       "   'ImageUrl': None},\n",
       "  {'Brand': 'D - 东风风行',\n",
       "   'Url': '/Images/Logo/dongfengfengxing.png',\n",
       "   'ImageUrl': None},\n",
       "  {'Brand': 'D - 东风俊风',\n",
       "   'Url': '/Images/Logo/dongfengjunfeng.png',\n",
       "   'ImageUrl': None}],\n",
       " 'F': [{'Brand': 'F - 菲亚特',\n",
       "   'Url': '/Images/Logo/feiyate.png',\n",
       "   'ImageUrl': None},\n",
       "  {'Brand': 'F - 丰田', 'Url': '/Images/Logo/fengtian.png', 'ImageUrl': None},\n",
       "  {'Brand': 'F - 福迪', 'Url': '/Images/Logo/fudi.png', 'ImageUrl': None},\n",
       "  {'Brand': 'F - 富奇', 'Url': '/Images/Logo/fuqi.png', 'ImageUrl': None},\n",
       "  {'Brand': 'F - 福田', 'Url': '/Images/Logo/futian.png', 'ImageUrl': None},\n",
       "  {'Brand': 'F - 法拉利', 'Url': '/Images/Logo/falali.png', 'ImageUrl': None},\n",
       "  {'Brand': 'F - 福特', 'Url': '/Images/Logo/fute.png', 'ImageUrl': None}],\n",
       " 'G': [{'Brand': 'G - 观致',\n",
       "   'Url': '/Images/Logo/guanzhi.png',\n",
       "   'ImageUrl': None},\n",
       "  {'Brand': 'G - GMC', 'Url': '/Images/Logo/gmc.png', 'ImageUrl': None},\n",
       "  {'Brand': 'G - 光冈', 'Url': '/Images/Logo/guanggang.png', 'ImageUrl': None},\n",
       "  {'Brand': 'G - 国金', 'Url': '/Images/Logo/guojin.png', 'ImageUrl': None},\n",
       "  {'Brand': 'G - 广汽新能源',\n",
       "   'Url': '/Images/Logo/guangqixinnengyuan.png',\n",
       "   'ImageUrl': None}],\n",
       " 'H': [{'Brand': 'H - 哈飞', 'Url': '/Images/Logo/hafei.png', 'ImageUrl': None},\n",
       "  {'Brand': 'H - 华普', 'Url': '/Images/Logo/huapu.png', 'ImageUrl': None},\n",
       "  {'Brand': 'H - 华泰', 'Url': '/Images/Logo/huatai.png', 'ImageUrl': None},\n",
       "  {'Brand': 'H - 黄海', 'Url': '/Images/Logo/huanghai.png', 'ImageUrl': None},\n",
       "  {'Brand': 'H - 红旗', 'Url': '/Images/Logo/hongqi.png', 'ImageUrl': None},\n",
       "  {'Brand': 'H - 汇众', 'Url': '/Images/Logo/huizhong.png', 'ImageUrl': None},\n",
       "  {'Brand': 'H - 海格', 'Url': '/Images/Logo/haige.png', 'ImageUrl': None},\n",
       "  {'Brand': 'H - 黑豹', 'Url': '/Images/Logo/heibao.png', 'ImageUrl': None},\n",
       "  {'Brand': 'H - 恒天', 'Url': '/Images/Logo/hengtian.png', 'ImageUrl': None},\n",
       "  {'Brand': 'H - 华北', 'Url': '/Images/Logo/huabei.png', 'ImageUrl': None},\n",
       "  {'Brand': 'H - 幻速', 'Url': '/Images/Logo/huansu.png', 'ImageUrl': None},\n",
       "  {'Brand': 'H - 华颂', 'Url': '/Images/Logo/huasong.png', 'ImageUrl': None},\n",
       "  {'Brand': 'H - 汉腾汽车',\n",
       "   'Url': '/Images/Logo/hantengqiche.png',\n",
       "   'ImageUrl': None},\n",
       "  {'Brand': 'H - 华骐', 'Url': '/Images/Logo/huazuo.png', 'ImageUrl': None},\n",
       "  {'Brand': 'H - 红星汽车',\n",
       "   'Url': '/Images/Logo/hongxingqiche.png',\n",
       "   'ImageUrl': None},\n",
       "  {'Brand': 'H - 海马', 'Url': '/Images/Logo/haima.png', 'ImageUrl': None},\n",
       "  {'Brand': 'H - 哈弗', 'Url': '/Images/Logo/hafu.png', 'ImageUrl': None}],\n",
       " 'J': [{'Brand': 'J - 吉奥', 'Url': '/Images/Logo/jiao.png', 'ImageUrl': None},\n",
       "  {'Brand': 'J - 吉普', 'Url': '/Images/Logo/jipu.png', 'ImageUrl': None},\n",
       "  {'Brand': 'J - 江南', 'Url': '/Images/Logo/jiangnan.png', 'ImageUrl': None},\n",
       "  {'Brand': 'J - 江苏南亚',\n",
       "   'Url': '/Images/Logo/jiangsunanya.png',\n",
       "   'ImageUrl': None},\n",
       "  {'Brand': 'J - 捷豹', 'Url': '/Images/Logo/jiebao.png', 'ImageUrl': None},\n",
       "  {'Brand': 'J - 金程', 'Url': '/Images/Logo/jincheng.png', 'ImageUrl': None},\n",
       "  {'Brand': 'J - 江铃', 'Url': '/Images/Logo/jiangling.png', 'ImageUrl': None},\n",
       "  {'Brand': 'J - 九龙', 'Url': '/Images/Logo/jiulong.png', 'ImageUrl': None},\n",
       "  {'Brand': 'J - 解放', 'Url': '/Images/Logo/jiefang.png', 'ImageUrl': None},\n",
       "  {'Brand': 'J - 金旅', 'Url': '/Images/Logo/jinlv.png', 'ImageUrl': None},\n",
       "  {'Brand': 'J - 君马', 'Url': '/Images/Logo/junma.png', 'ImageUrl': None},\n",
       "  {'Brand': 'J - 吉利', 'Url': '/Images/Logo/jili.png', 'ImageUrl': None},\n",
       "  {'Brand': 'J - 几何汽车', 'Url': '/Images/Logo/jiheqiche.png', 'ImageUrl': None},\n",
       "  {'Brand': 'J - 江淮', 'Url': '/Images/Logo/jianghuai.png', 'ImageUrl': None},\n",
       "  {'Brand': 'J - 金杯', 'Url': '/Images/Logo/jinbei.png', 'ImageUrl': None},\n",
       "  {'Brand': 'J - 江铃新能源',\n",
       "   'Url': '/Images/Logo/jianglingxinnengyuan.png',\n",
       "   'ImageUrl': None},\n",
       "  {'Brand': 'J - 捷途', 'Url': '/Images/Logo/jietu.png', 'ImageUrl': None}],\n",
       " 'K': [{'Brand': 'K - 开瑞', 'Url': '/Images/Logo/kairui.png', 'ImageUrl': None},\n",
       "  {'Brand': 'K - 凯迪拉克', 'Url': '/Images/Logo/kaidilake.png', 'ImageUrl': None},\n",
       "  {'Brand': 'K - 克莱斯勒', 'Url': '/Images/Logo/kelaisile.png', 'ImageUrl': None},\n",
       "  {'Brand': 'K - 卡尔森', 'Url': '/Images/Logo/kaersen.png', 'ImageUrl': None},\n",
       "  {'Brand': 'K - 科尼赛克', 'Url': '/Images/Logo/kenisaike.png', 'ImageUrl': None},\n",
       "  {'Brand': 'K - 凯翼', 'Url': '/Images/Logo/kaiyi.png', 'ImageUrl': None},\n",
       "  {'Brand': 'K - 卡威', 'Url': '/Images/Logo/kawei.png', 'ImageUrl': None}],\n",
       " 'L': [{'Brand': 'L - 铃木', 'Url': '/Images/Logo/lingmu.png', 'ImageUrl': None},\n",
       "  {'Brand': 'L - 路虎', 'Url': '/Images/Logo/luhu.png', 'ImageUrl': None},\n",
       "  {'Brand': 'L - 猎豹', 'Url': '/Images/Logo/liebao.png', 'ImageUrl': None},\n",
       "  {'Brand': 'L - 兰博基尼', 'Url': '/Images/Logo/lanbojini.png', 'ImageUrl': None},\n",
       "  {'Brand': 'L - 雷诺', 'Url': '/Images/Logo/leinuo.png', 'ImageUrl': None},\n",
       "  {'Brand': 'L - 路特斯', 'Url': '/Images/Logo/lutesi.png', 'ImageUrl': None},\n",
       "  {'Brand': 'L - 莲花', 'Url': '/Images/Logo/lianhua.png', 'ImageUrl': None},\n",
       "  {'Brand': 'L - 陆风', 'Url': '/Images/Logo/lufeng.png', 'ImageUrl': None},\n",
       "  {'Brand': 'L - 罗孚', 'Url': '/Images/Logo/luozuo.png', 'ImageUrl': None},\n",
       "  {'Brand': 'L - 劳伦士', 'Url': '/Images/Logo/laolunshi.png', 'ImageUrl': None},\n",
       "  {'Brand': 'L - 陆地方舟',\n",
       "   'Url': '/Images/Logo/ludifangzhou.png',\n",
       "   'ImageUrl': None},\n",
       "  {'Brand': 'L - 理念', 'Url': '/Images/Logo/linian.png', 'ImageUrl': None},\n",
       "  {'Brand': 'L - 领克', 'Url': '/Images/Logo/lingke.png', 'ImageUrl': None},\n",
       "  {'Brand': 'L - 罗夫哈特', 'Url': '/Images/Logo/luofuhate.png', 'ImageUrl': None},\n",
       "  {'Brand': 'L - 力帆', 'Url': '/Images/Logo/lifan.png', 'ImageUrl': None},\n",
       "  {'Brand': 'L - 领途汽车',\n",
       "   'Url': '/Images/Logo/lingtuqiche.png',\n",
       "   'ImageUrl': None},\n",
       "  {'Brand': 'L - 劳斯莱斯',\n",
       "   'Url': '/Images/Logo/laosilaisi.png',\n",
       "   'ImageUrl': None},\n",
       "  {'Brand': 'L - 雷克萨斯', 'Url': '/Images/Logo/leikesasi.png', 'ImageUrl': None},\n",
       "  {'Brand': 'L - 林肯', 'Url': '/Images/Logo/linken.png', 'ImageUrl': None},\n",
       "  {'Brand': 'L - 零跑汽车',\n",
       "   'Url': '/Images/Logo/lingpaoqiche.png',\n",
       "   'ImageUrl': None},\n",
       "  {'Brand': 'L - 洛克汽车',\n",
       "   'Url': '/Images/Logo/luokeqiche.png',\n",
       "   'ImageUrl': None},\n",
       "  {'Brand': 'L - 理想', 'Url': '/Images/Logo/lixiang.png', 'ImageUrl': None},\n",
       "  {'Brand': 'L - 雷丁', 'Url': '/Images/Logo/leiding.png', 'ImageUrl': None}],\n",
       " 'M': [{'Brand': 'M - MINI', 'Url': '/Images/Logo/mini.png', 'ImageUrl': None},\n",
       "  {'Brand': 'M - MG', 'Url': '/Images/Logo/mg.png', 'ImageUrl': None},\n",
       "  {'Brand': 'M - 玛莎拉蒂', 'Url': '/Images/Logo/mashaladi.png', 'ImageUrl': None},\n",
       "  {'Brand': 'M - 迈巴赫', 'Url': '/Images/Logo/maibahe.png', 'ImageUrl': None},\n",
       "  {'Brand': 'M - 美亚', 'Url': '/Images/Logo/meiya.png', 'ImageUrl': None},\n",
       "  {'Brand': 'M - 马自达', 'Url': '/Images/Logo/mazida.png', 'ImageUrl': None},\n",
       "  {'Brand': 'M - 迈凯伦', 'Url': '/Images/Logo/maikailun.png', 'ImageUrl': None}],\n",
       " 'N': [{'Brand': 'N - 纳智捷',\n",
       "   'Url': '/Images/Logo/nazhijie.png',\n",
       "   'ImageUrl': None},\n",
       "  {'Brand': 'N - 哪吒汽车',\n",
       "   'Url': '/Images/Logo/nazuoqiche.png',\n",
       "   'ImageUrl': None}],\n",
       " 'O': [{'Brand': 'O - 欧宝', 'Url': '/Images/Logo/oubao.png', 'ImageUrl': None},\n",
       "  {'Brand': 'O - 欧朗', 'Url': '/Images/Logo/oulang.png', 'ImageUrl': None},\n",
       "  {'Brand': 'O - 讴歌', 'Url': '/Images/Logo/zuoge.png', 'ImageUrl': None},\n",
       "  {'Brand': 'O - 欧拉', 'Url': '/Images/Logo/oula.png', 'ImageUrl': None},\n",
       "  {'Brand': 'O - 欧尚汽车',\n",
       "   'Url': '/Images/Logo/oushangqiche.png',\n",
       "   'ImageUrl': None}],\n",
       " 'P': [{'Brand': 'P - Polestar',\n",
       "   'Url': '/Images/Logo/polestar.png',\n",
       "   'ImageUrl': None},\n",
       "  {'Brand': 'P - 帕加尼', 'Url': '/Images/Logo/pajiani.png', 'ImageUrl': None}],\n",
       " 'Q': [{'Brand': 'Q - 奇瑞', 'Url': '/Images/Logo/qirui.png', 'ImageUrl': None},\n",
       "  {'Brand': 'Q - 起亚', 'Url': '/Images/Logo/qiya.png', 'ImageUrl': None},\n",
       "  {'Brand': 'Q - 庆铃', 'Url': '/Images/Logo/qingling.png', 'ImageUrl': None},\n",
       "  {'Brand': 'Q - 启腾', 'Url': '/Images/Logo/qiteng.png', 'ImageUrl': None},\n",
       "  {'Brand': 'Q - 乔治·巴顿',\n",
       "   'Url': '/Images/Logo/qiaozhi%C2%B7badun.png',\n",
       "   'ImageUrl': None},\n",
       "  {'Brand': 'Q - 前途汽车',\n",
       "   'Url': '/Images/Logo/qiantuqiche.png',\n",
       "   'ImageUrl': None},\n",
       "  {'Brand': 'Q - 启辰', 'Url': '/Images/Logo/qichen.png', 'ImageUrl': None}],\n",
       " 'R': [{'Brand': 'R - 日产', 'Url': '/Images/Logo/richan.png', 'ImageUrl': None},\n",
       "  {'Brand': 'R - 瑞麒', 'Url': '/Images/Logo/ruizuo.png', 'ImageUrl': None},\n",
       "  {'Brand': 'R - RUF', 'Url': '/Images/Logo/ruf.png', 'ImageUrl': None},\n",
       "  {'Brand': 'R - 荣威', 'Url': '/Images/Logo/rongwei.png', 'ImageUrl': None}],\n",
       " 'S': [{'Brand': 'S - Smart',\n",
       "   'Url': '/Images/Logo/smart.png',\n",
       "   'ImageUrl': None},\n",
       "  {'Brand': 'S - 思铭', 'Url': '/Images/Logo/siming.png', 'ImageUrl': None},\n",
       "  {'Brand': 'S - 斯巴鲁', 'Url': '/Images/Logo/sibalu.png', 'ImageUrl': None},\n",
       "  {'Brand': 'S - 萨博', 'Url': '/Images/Logo/sabo.png', 'ImageUrl': None},\n",
       "  {'Brand': 'S - 赛宝', 'Url': '/Images/Logo/saibao.png', 'ImageUrl': None},\n",
       "  {'Brand': 'S - 双环', 'Url': '/Images/Logo/shuanghuan.png', 'ImageUrl': None},\n",
       "  {'Brand': 'S - 双龙', 'Url': '/Images/Logo/shuanglong.png', 'ImageUrl': None},\n",
       "  {'Brand': 'S - 世爵', 'Url': '/Images/Logo/shijue.png', 'ImageUrl': None},\n",
       "  {'Brand': 'S - 陕汽通家',\n",
       "   'Url': '/Images/Logo/shanqitongjia.png',\n",
       "   'ImageUrl': None},\n",
       "  {'Brand': 'S - 斯威汽车',\n",
       "   'Url': '/Images/Logo/siweiqiche.png',\n",
       "   'ImageUrl': None},\n",
       "  {'Brand': 'S - 三菱', 'Url': '/Images/Logo/sanling.png', 'ImageUrl': None},\n",
       "  {'Brand': 'S - 斯柯达', 'Url': '/Images/Logo/sikeda.png', 'ImageUrl': None},\n",
       "  {'Brand': 'S - 绅宝', 'Url': '/Images/Logo/shenbao.png', 'ImageUrl': None}],\n",
       " 'T': [{'Brand': 'T - 天马', 'Url': '/Images/Logo/tianma.png', 'ImageUrl': None},\n",
       "  {'Brand': 'T - 通田', 'Url': '/Images/Logo/tongtian.png', 'ImageUrl': None},\n",
       "  {'Brand': 'T - 腾势', 'Url': '/Images/Logo/tengshi.png', 'ImageUrl': None},\n",
       "  {'Brand': 'T - 天津一汽',\n",
       "   'Url': '/Images/Logo/tianjinyiqi.png',\n",
       "   'ImageUrl': None},\n",
       "  {'Brand': 'T - 特斯拉', 'Url': '/Images/Logo/tesila.png', 'ImageUrl': None}],\n",
       " 'W': [{'Brand': 'W - 万丰',\n",
       "   'Url': '/Images/Logo/wanfeng.png',\n",
       "   'ImageUrl': None},\n",
       "  {'Brand': 'W - 威麟', 'Url': '/Images/Logo/weizuo.png', 'ImageUrl': None},\n",
       "  {'Brand': 'W - 沃尔沃', 'Url': '/Images/Logo/woerwo.png', 'ImageUrl': None},\n",
       "  {'Brand': 'W - 五菱', 'Url': '/Images/Logo/wuling.png', 'ImageUrl': None},\n",
       "  {'Brand': 'W - 威旺', 'Url': '/Images/Logo/weiwang.png', 'ImageUrl': None},\n",
       "  {'Brand': 'W - 威兹曼', 'Url': '/Images/Logo/weiziman.png', 'ImageUrl': None},\n",
       "  {'Brand': 'W - 五十铃', 'Url': '/Images/Logo/wushiling.png', 'ImageUrl': None},\n",
       "  {'Brand': 'W - WEY', 'Url': '/Images/Logo/wey.png', 'ImageUrl': None},\n",
       "  {'Brand': 'W - 威马', 'Url': '/Images/Logo/weima.png', 'ImageUrl': None},\n",
       "  {'Brand': 'W - 蔚来', 'Url': '/Images/Logo/weilai.png', 'ImageUrl': None}],\n",
       " 'X': [{'Brand': 'X - 新雅途',\n",
       "   'Url': '/Images/Logo/xinyatu.png',\n",
       "   'ImageUrl': None},\n",
       "  {'Brand': 'X - 厦门金龙',\n",
       "   'Url': '/Images/Logo/xiamenjinlong.png',\n",
       "   'ImageUrl': None},\n",
       "  {'Brand': 'X - 雪佛兰', 'Url': '/Images/Logo/xuefolan.png', 'ImageUrl': None},\n",
       "  {'Brand': 'X - 雪铁龙', 'Url': '/Images/Logo/xuetielong.png', 'ImageUrl': None},\n",
       "  {'Brand': 'X - 西雅特', 'Url': '/Images/Logo/xiyate.png', 'ImageUrl': None},\n",
       "  {'Brand': 'X - 新凯', 'Url': '/Images/Logo/xinkai.png', 'ImageUrl': None},\n",
       "  {'Brand': 'X - 新特汽车',\n",
       "   'Url': '/Images/Logo/xinteqiche.png',\n",
       "   'ImageUrl': None},\n",
       "  {'Brand': 'X - 现代', 'Url': '/Images/Logo/xiandai.png', 'ImageUrl': None},\n",
       "  {'Brand': 'X - 小鹏汽车',\n",
       "   'Url': '/Images/Logo/xiaopengqiche.png',\n",
       "   'ImageUrl': None},\n",
       "  {'Brand': 'X - 星途', 'Url': '/Images/Logo/xingtu.png', 'ImageUrl': None}],\n",
       " 'Y': [{'Brand': 'Y - 英菲尼迪',\n",
       "   'Url': '/Images/Logo/yingfeinidi.png',\n",
       "   'ImageUrl': None},\n",
       "  {'Brand': 'Y - 永源', 'Url': '/Images/Logo/yongyuan.png', 'ImageUrl': None},\n",
       "  {'Brand': 'Y - 云雀', 'Url': '/Images/Logo/yunque.png', 'ImageUrl': None},\n",
       "  {'Brand': 'Y - 一汽吉林', 'Url': '/Images/Logo/yiqijilin.png', 'ImageUrl': None},\n",
       "  {'Brand': 'Y - 一汽华利', 'Url': '/Images/Logo/yiqihuali.png', 'ImageUrl': None},\n",
       "  {'Brand': 'Y - 依维柯', 'Url': '/Images/Logo/yiweike.png', 'ImageUrl': None},\n",
       "  {'Brand': 'Y - 一汽通用',\n",
       "   'Url': '/Images/Logo/yiqitongyong.png',\n",
       "   'ImageUrl': None},\n",
       "  {'Brand': 'Y - 云度汽车',\n",
       "   'Url': '/Images/Logo/yunduqiche.png',\n",
       "   'ImageUrl': None},\n",
       "  {'Brand': 'Y - 裕路', 'Url': '/Images/Logo/yulu.png', 'ImageUrl': None},\n",
       "  {'Brand': 'Y - 御捷新能源',\n",
       "   'Url': '/Images/Logo/yujiexinnengyuan.png',\n",
       "   'ImageUrl': None},\n",
       "  {'Brand': 'Y - 一汽奔腾',\n",
       "   'Url': '/Images/Logo/yiqibenteng.png',\n",
       "   'ImageUrl': None},\n",
       "  {'Brand': 'Y - 野马', 'Url': '/Images/Logo/yema.png', 'ImageUrl': None},\n",
       "  {'Brand': 'Y - 英致', 'Url': '/Images/Logo/yingzhi.png', 'ImageUrl': None},\n",
       "  {'Brand': 'Y - 易至汽车',\n",
       "   'Url': '/Images/Logo/yizhiqiche.png',\n",
       "   'ImageUrl': None},\n",
       "  {'Brand': 'Y - 银隆新能源',\n",
       "   'Url': '/Images/Logo/yinlongxinnengyuan.png',\n",
       "   'ImageUrl': None}],\n",
       " 'Z': [{'Brand': 'Z - 中华',\n",
       "   'Url': '/Images/Logo/zhonghua.png',\n",
       "   'ImageUrl': None},\n",
       "  {'Brand': 'Z - 中顺', 'Url': '/Images/Logo/zhongshun.png', 'ImageUrl': None},\n",
       "  {'Brand': 'Z - 中兴', 'Url': '/Images/Logo/zhongxing.png', 'ImageUrl': None},\n",
       "  {'Brand': 'Z - 众泰', 'Url': '/Images/Logo/zhongtai.png', 'ImageUrl': None},\n",
       "  {'Brand': 'Z - 中欧', 'Url': '/Images/Logo/zhongou.png', 'ImageUrl': None},\n",
       "  {'Brand': 'Z - 知豆', 'Url': '/Images/Logo/zhidou.png', 'ImageUrl': None},\n",
       "  {'Brand': 'Z - 浙江卡尔森',\n",
       "   'Url': '/Images/Logo/zhejiangkaersen.png',\n",
       "   'ImageUrl': None},\n",
       "  {'Brand': 'Z - 之诺', 'Url': '/Images/Logo/zhinuo.png', 'ImageUrl': None}],\n",
       " 'hot': [{'Brand': 'A - 奥迪', 'Url': '/Images/Logo/aodi.png', 'ImageUrl': None},\n",
       "  {'Brand': 'B - 别克', 'Url': '/Images/Logo/bieke.png', 'ImageUrl': None},\n",
       "  {'Brand': 'B - 奔驰', 'Url': '/Images/Logo/benchi.png', 'ImageUrl': None},\n",
       "  {'Brand': 'B - 宝马', 'Url': '/Images/Logo/baoma.png', 'ImageUrl': None},\n",
       "  {'Brand': 'D - 大众', 'Url': '/Images/Logo/dazhong.png', 'ImageUrl': None},\n",
       "  {'Brand': 'F - 丰田', 'Url': '/Images/Logo/fengtian.png', 'ImageUrl': None},\n",
       "  {'Brand': 'F - 福特', 'Url': '/Images/Logo/fute.png', 'ImageUrl': None},\n",
       "  {'Brand': 'B - 本田', 'Url': '/Images/Logo/bentian.png', 'ImageUrl': None},\n",
       "  {'Brand': 'R - 日产', 'Url': '/Images/Logo/richan.png', 'ImageUrl': None},\n",
       "  {'Brand': 'S - 斯柯达', 'Url': '/Images/Logo/sikeda.png', 'ImageUrl': None},\n",
       "  {'Brand': 'B - 标致', 'Url': '/Images/Logo/biaozhi.png', 'ImageUrl': None},\n",
       "  {'Brand': 'M - 马自达', 'Url': '/Images/Logo/mazida.png', 'ImageUrl': None},\n",
       "  {'Brand': 'X - 现代', 'Url': '/Images/Logo/xiandai.png', 'ImageUrl': None},\n",
       "  {'Brand': 'B - 比亚迪', 'Url': '/Images/Logo/biyadi.png', 'ImageUrl': None},\n",
       "  {'Brand': 'X - 雪铁龙', 'Url': '/Images/Logo/xuetielong.png', 'ImageUrl': None},\n",
       "  {'Brand': 'X - 雪佛兰', 'Url': '/Images/Logo/xuefolan.png', 'ImageUrl': None},\n",
       "  {'Brand': 'Q - 起亚', 'Url': '/Images/Logo/qiya.png', 'ImageUrl': None},\n",
       "  {'Brand': 'L - 铃木', 'Url': '/Images/Logo/lingmu.png', 'ImageUrl': None},\n",
       "  {'Brand': 'M - MG', 'Url': '/Images/Logo/mg.png', 'ImageUrl': None},\n",
       "  {'Brand': 'R - 荣威', 'Url': '/Images/Logo/rongwei.png', 'ImageUrl': None}]}"
      ]
     },
     "execution_count": 48,
     "metadata": {},
     "output_type": "execute_result"
    }
   ],
   "source": [
    "index"
   ]
  },
  {
   "cell_type": "code",
   "execution_count": 74,
   "metadata": {
    "scrolled": true
   },
   "outputs": [
    {
     "name": "stdout",
     "output_type": "stream",
     "text": [
      "A - 阿尔法·罗米欧 done\n",
      "A - 安驰 done\n",
      "A - ARCFOX done\n",
      "A - 阿斯顿·马丁 done\n",
      "A - 奥迪 done\n",
      "B - 别克 done\n",
      "B - 奔驰 done\n",
      "B - 保时捷 done\n",
      "B - 宝龙 done\n",
      "B - 比亚迪 done\n",
      "B - 宝马 done\n",
      "B - 标致 done\n",
      ">> B - 标致 - VE-GPEUG505 - {'Vehicle': '505-广州标致', 'ProductID': 'VE-GPEUG505', 'BrandType': '广州标致', 'Brand': 'B - 标致', 'Url': '/Images/Logo/biaozhi.png', 'Src': 'https://img3.tuhu.org/Images/type/VE-GPEUG505.png@163w_163h_100Q.png', 'IsBaoYang': 'True', 'CarName': '505', 'appSrc': None, 'Image': 'https://img3.tuhu.org/Images/type/VE-GPEUG505.png@100Q.png', 'ImageUrl': 'https://img3.tuhu.org/Images/Logo/BiaoZhi.png', 'Tires': '185/80R14', 'SpecialTireSize': None, 'OriginalIsBaoyang': 1, 'Priority2': 2, 'Priority3': 1, 'VehicleSeries': None}\n"
     ]
    },
    {
     "name": "stderr",
     "output_type": "stream",
     "text": [
      "Traceback (most recent call last):\n",
      "  File \"<ipython-input-74-a1bbc79ad05d>\", line 60, in <module>\n",
      "    for pailiang in load_pailiang(vid):\n",
      "  File \"<ipython-input-74-a1bbc79ad05d>\", line 11, in load_pailiang\n",
      "    return requests.get(url, headers=headers).json()['PaiLiang']\n",
      "KeyError: 'PaiLiang'\n"
     ]
    },
    {
     "name": "stdout",
     "output_type": "stream",
     "text": [
      "B - 宾利 done\n",
      ">> B - 宾利 - VE-BENT07AB - {'Vehicle': '雅骏-宾利汽车', 'ProductID': 'VE-BENT07AB', 'BrandType': '宾利汽车', 'Brand': 'B - 宾利', 'Url': '/Images/Logo/binli.png', 'Src': 'https://img3.tuhu.org/Images/type/VE-BENT07AB.png@163w_163h_100Q.png', 'IsBaoYang': 'True', 'CarName': '雅骏', 'appSrc': None, 'Image': 'https://img3.tuhu.org/Images/type/VE-BENT07AB.png@100Q.png', 'ImageUrl': 'https://img3.tuhu.org/Images/Logo/BinLi.png', 'Tires': '255/55R17', 'SpecialTireSize': None, 'OriginalIsBaoyang': 1, 'Priority2': 1, 'Priority3': 5, 'VehicleSeries': None}\n"
     ]
    },
    {
     "name": "stderr",
     "output_type": "stream",
     "text": [
      "Traceback (most recent call last):\n",
      "  File \"<ipython-input-74-a1bbc79ad05d>\", line 60, in <module>\n",
      "    for pailiang in load_pailiang(vid):\n",
      "  File \"<ipython-input-74-a1bbc79ad05d>\", line 11, in load_pailiang\n",
      "    return requests.get(url, headers=headers).json()['PaiLiang']\n",
      "KeyError: 'PaiLiang'\n"
     ]
    },
    {
     "name": "stdout",
     "output_type": "stream",
     "text": [
      "B - 北汽制造 done\n",
      ">> B - 北汽制造 - VE-LNB-LULING - {'Vehicle': '陆铃-北汽制造', 'ProductID': 'VE-LNB-LULING', 'BrandType': '北汽制造', 'Brand': 'B - 北汽制造', 'Url': '/Images/Logo/beiqizhizao.png', 'Src': 'https://img3.tuhu.org/Images/type/VE-LNB-LULING.png@163w_163h_100Q.png', 'IsBaoYang': 'True', 'CarName': '陆铃', 'appSrc': None, 'Image': 'https://img3.tuhu.org/Images/type/VE-LNB-LULING.png@100Q.png', 'ImageUrl': 'https://img3.tuhu.org/Images/Logo/BeiQiZhiZao.png', 'Tires': '225/70R16', 'SpecialTireSize': None, 'OriginalIsBaoyang': 1, 'Priority2': 1, 'Priority3': 4, 'VehicleSeries': None}\n"
     ]
    },
    {
     "name": "stderr",
     "output_type": "stream",
     "text": [
      "Traceback (most recent call last):\n",
      "  File \"<ipython-input-74-a1bbc79ad05d>\", line 60, in <module>\n",
      "    for pailiang in load_pailiang(vid):\n",
      "  File \"<ipython-input-74-a1bbc79ad05d>\", line 11, in load_pailiang\n",
      "    return requests.get(url, headers=headers).json()['PaiLiang']\n",
      "KeyError: 'PaiLiang'\n"
     ]
    },
    {
     "name": "stdout",
     "output_type": "stream",
     "text": [
      ">> B - 北汽制造 - VE-LNB-LEICHI - {'Vehicle': '雷驰-北汽制造', 'ProductID': 'VE-LNB-LEICHI', 'BrandType': '北汽制造', 'Brand': 'B - 北汽制造', 'Url': '/Images/Logo/beiqizhizao.png', 'Src': 'https://img3.tuhu.org/Images/type/VE-LNB-LEICHI.png@163w_163h_100Q.png', 'IsBaoYang': 'True', 'CarName': '雷驰', 'appSrc': None, 'Image': 'https://img3.tuhu.org/Images/type/VE-LNB-LEICHI.png@100Q.png', 'ImageUrl': 'https://img3.tuhu.org/Images/Logo/BeiQiZhiZao.png', 'Tires': '225/75R15', 'SpecialTireSize': None, 'OriginalIsBaoyang': 1, 'Priority2': 1, 'Priority3': 3, 'VehicleSeries': None}\n"
     ]
    },
    {
     "name": "stderr",
     "output_type": "stream",
     "text": [
      "Traceback (most recent call last):\n",
      "  File \"<ipython-input-74-a1bbc79ad05d>\", line 60, in <module>\n",
      "    for pailiang in load_pailiang(vid):\n",
      "  File \"<ipython-input-74-a1bbc79ad05d>\", line 11, in load_pailiang\n",
      "    return requests.get(url, headers=headers).json()['PaiLiang']\n",
      "KeyError: 'PaiLiang'\n"
     ]
    },
    {
     "name": "stdout",
     "output_type": "stream",
     "text": [
      "B - 北京汽车 done\n",
      "B - 宝骏 done\n",
      "B - 巴博斯 done\n",
      "B - 宝沃 done\n",
      "B - 比速汽车 done\n",
      "B - 北汽瑞丽 done\n",
      "B - 本田 done\n",
      "B - 北汽新能源 done\n",
      "C - 成功 done\n",
      "C - 长安 done\n",
      ">> C - 长安 - VE-CACS35 - {'Vehicle': 'CS35-乘用车', 'ProductID': 'VE-CACS35', 'BrandType': '乘用车', 'Brand': 'C - 长安', 'Url': '/Images/Logo/changan.png', 'Src': 'https://img3.tuhu.org/Images/type/VE-CACS35.png@163w_163h_100Q.png', 'IsBaoYang': 'True', 'CarName': 'CS35', 'appSrc': None, 'Image': 'https://img3.tuhu.org/Images/type/VE-CACS35.png@100Q.png', 'ImageUrl': 'https://img3.tuhu.org/Images/Logo/ChangAn.png', 'Tires': '215/50R17;205/60R16', 'SpecialTireSize': None, 'OriginalIsBaoyang': 1, 'Priority2': 1, 'Priority3': 27, 'VehicleSeries': None}\n"
     ]
    },
    {
     "name": "stderr",
     "output_type": "stream",
     "text": [
      "Traceback (most recent call last):\n",
      "  File \"<ipython-input-74-a1bbc79ad05d>\", line 65, in <module>\n",
      "    gbk_fp.write(ij.encode('gbk'))\n",
      "UnicodeEncodeError: 'gbk' codec can't encode character '\\xa0' in position 55: illegal multibyte sequence\n"
     ]
    },
    {
     "name": "stdout",
     "output_type": "stream",
     "text": [
      "C - 昌河 done\n",
      "C - 长安商用 done\n",
      ">> C - 长安商用 - VE-CHAN05AU - {'Vehicle': '长安星韵-商用车', 'ProductID': 'VE-CHAN05AU', 'BrandType': '商用车', 'Brand': 'C - 长安商用', 'Url': '/Images/Logo/changanshangyong.png', 'Src': 'https://img4.tuhu.org/Images/type/VE-CHAN05AU.png@163w_163h_100Q.png', 'IsBaoYang': 'True', 'CarName': '长安星韵', 'appSrc': None, 'Image': 'https://img4.tuhu.org/Images/type/VE-CHAN05AU.png@100Q.png', 'ImageUrl': 'https://img3.tuhu.org/Images/Logo/ChangAnShangYong.png', 'Tires': '165/70R13', 'SpecialTireSize': None, 'OriginalIsBaoyang': 1, 'Priority2': 5, 'Priority3': 15, 'VehicleSeries': None}\n"
     ]
    },
    {
     "name": "stderr",
     "output_type": "stream",
     "text": [
      "Traceback (most recent call last):\n",
      "  File \"<ipython-input-74-a1bbc79ad05d>\", line 60, in <module>\n",
      "    for pailiang in load_pailiang(vid):\n",
      "  File \"<ipython-input-74-a1bbc79ad05d>\", line 11, in load_pailiang\n",
      "    return requests.get(url, headers=headers).json()['PaiLiang']\n",
      "KeyError: 'PaiLiang'\n"
     ]
    },
    {
     "name": "stdout",
     "output_type": "stream",
     "text": [
      "C - 长城 done\n",
      ">> C - 长城 - VE-GREA04BD - {'Vehicle': '迪尔-长城汽车', 'ProductID': 'VE-GREA04BD', 'BrandType': '长城汽车', 'Brand': 'C - 长城', 'Url': '/Images/Logo/changcheng.png', 'Src': 'https://img3.tuhu.org/Images/type/VE-GREA04BD.png@163w_163h_100Q.png', 'IsBaoYang': 'True', 'CarName': '迪尔', 'appSrc': None, 'Image': 'https://img3.tuhu.org/Images/type/VE-GREA04BD.png@100Q.png', 'ImageUrl': 'https://img3.tuhu.org/Images/Logo/ChangCheng.png', 'Tires': '205/70R14', 'SpecialTireSize': None, 'OriginalIsBaoyang': 1, 'Priority2': 1, 'Priority3': 25, 'VehicleSeries': None}\n"
     ]
    },
    {
     "name": "stderr",
     "output_type": "stream",
     "text": [
      "Traceback (most recent call last):\n",
      "  File \"<ipython-input-74-a1bbc79ad05d>\", line 60, in <module>\n",
      "    for pailiang in load_pailiang(vid):\n",
      "  File \"<ipython-input-74-a1bbc79ad05d>\", line 11, in load_pailiang\n",
      "    return requests.get(url, headers=headers).json()['PaiLiang']\n",
      "KeyError: 'PaiLiang'\n"
     ]
    },
    {
     "name": "stdout",
     "output_type": "stream",
     "text": [
      "C - 传祺 done\n",
      "D - 大众 done\n",
      "D - 大迪 done\n",
      "D - 大发 done\n",
      "D - 大宇 done\n",
      ">> D - 大宇 - VE-DAEW05AB - {'Vehicle': '典雅-大宇汽车', 'ProductID': 'VE-DAEW05AB', 'BrandType': '大宇汽车', 'Brand': 'D - 大宇', 'Url': '/Images/Logo/dayu.png', 'Src': 'https://img3.tuhu.org/Images/type/VE-DAEW05AB.png@163w_163h_100Q.png', 'IsBaoYang': 'True', 'CarName': '典雅', 'appSrc': None, 'Image': 'https://img3.tuhu.org/Images/type/VE-DAEW05AB.png@100Q.png', 'ImageUrl': 'https://img3.tuhu.org/Images/Logo/DaYu.png', 'Tires': '205/60R15', 'SpecialTireSize': None, 'OriginalIsBaoyang': 1, 'Priority2': 1, 'Priority3': 4, 'VehicleSeries': None}\n"
     ]
    },
    {
     "name": "stderr",
     "output_type": "stream",
     "text": [
      "Traceback (most recent call last):\n",
      "  File \"<ipython-input-74-a1bbc79ad05d>\", line 60, in <module>\n",
      "    for pailiang in load_pailiang(vid):\n",
      "  File \"<ipython-input-74-a1bbc79ad05d>\", line 11, in load_pailiang\n",
      "    return requests.get(url, headers=headers).json()['PaiLiang']\n",
      "KeyError: 'PaiLiang'\n"
     ]
    },
    {
     "name": "stdout",
     "output_type": "stream",
     "text": [
      ">> D - 大宇 - VE-DAEW99AB - {'Vehicle': '蓝天-大宇汽车', 'ProductID': 'VE-DAEW99AB', 'BrandType': '大宇汽车', 'Brand': 'D - 大宇', 'Url': '/Images/Logo/dayu.png', 'Src': 'https://img3.tuhu.org/Images/type/VE-DAEW99AB.png@163w_163h_100Q.png', 'IsBaoYang': 'True', 'CarName': '蓝天', 'appSrc': None, 'Image': 'https://img3.tuhu.org/Images/type/VE-DAEW99AB.png@100Q.png', 'ImageUrl': 'https://img3.tuhu.org/Images/Logo/DaYu.png', 'Tires': '155/80R13', 'SpecialTireSize': '155R13', 'OriginalIsBaoyang': 1, 'Priority2': 1, 'Priority3': 2, 'VehicleSeries': None}\n"
     ]
    },
    {
     "name": "stderr",
     "output_type": "stream",
     "text": [
      "Traceback (most recent call last):\n",
      "  File \"<ipython-input-74-a1bbc79ad05d>\", line 60, in <module>\n",
      "    for pailiang in load_pailiang(vid):\n",
      "  File \"<ipython-input-74-a1bbc79ad05d>\", line 11, in load_pailiang\n",
      "    return requests.get(url, headers=headers).json()['PaiLiang']\n",
      "KeyError: 'PaiLiang'\n"
     ]
    },
    {
     "name": "stdout",
     "output_type": "stream",
     "text": [
      ">> D - 大宇 - VE-DAEW05AC - {'Vehicle': '旅行家-大宇汽车', 'ProductID': 'VE-DAEW05AC', 'BrandType': '大宇汽车', 'Brand': 'D - 大宇', 'Url': '/Images/Logo/dayu.png', 'Src': 'https://img3.tuhu.org/Images/type/VE-DAEW05AC.png@163w_163h_100Q.png', 'IsBaoYang': 'True', 'CarName': '旅行家', 'appSrc': None, 'Image': 'https://img3.tuhu.org/Images/type/VE-DAEW05AC.png@100Q.png', 'ImageUrl': 'https://img3.tuhu.org/Images/Logo/DaYu.png', 'Tires': '185/65R14', 'SpecialTireSize': None, 'OriginalIsBaoyang': 1, 'Priority2': 1, 'Priority3': 1, 'VehicleSeries': None}\n",
      "D - 道奇 done\n"
     ]
    },
    {
     "name": "stderr",
     "output_type": "stream",
     "text": [
      "Traceback (most recent call last):\n",
      "  File \"<ipython-input-74-a1bbc79ad05d>\", line 60, in <module>\n",
      "    for pailiang in load_pailiang(vid):\n",
      "  File \"<ipython-input-74-a1bbc79ad05d>\", line 11, in load_pailiang\n",
      "    return requests.get(url, headers=headers).json()['PaiLiang']\n",
      "KeyError: 'PaiLiang'\n"
     ]
    },
    {
     "name": "stdout",
     "output_type": "stream",
     "text": [
      "D - 东风汽车 done\n",
      ">> D - 东风汽车 - VE-DDJJL - {'Vehicle': '汗马-东风汽车', 'ProductID': 'VE-DDJJL', 'BrandType': '东风汽车', 'Brand': 'D - 东风汽车', 'Url': '/Images/Logo/dongfengqiche.png', 'Src': 'https://img3.tuhu.org/Images/type/VE-DDJJL.png@163w_163h_100Q.png', 'IsBaoYang': 'True', 'CarName': '汗马', 'appSrc': None, 'Image': 'https://img3.tuhu.org/Images/type/VE-DDJJL.png@100Q.png', 'ImageUrl': 'https://img3.tuhu.org/Images/Logo/DongFengQiChe.png', 'Tires': '37/12.5R16.5', 'SpecialTireSize': None, 'OriginalIsBaoyang': 1, 'Priority2': 1, 'Priority3': 10, 'VehicleSeries': None}\n"
     ]
    },
    {
     "name": "stderr",
     "output_type": "stream",
     "text": [
      "Traceback (most recent call last):\n",
      "  File \"<ipython-input-74-a1bbc79ad05d>\", line 60, in <module>\n",
      "    for pailiang in load_pailiang(vid):\n",
      "  File \"<ipython-input-74-a1bbc79ad05d>\", line 11, in load_pailiang\n",
      "    return requests.get(url, headers=headers).json()['PaiLiang']\n",
      "KeyError: 'PaiLiang'\n"
     ]
    },
    {
     "name": "stdout",
     "output_type": "stream",
     "text": [
      ">> D - 东风汽车 - VE-DF-MENSHI - {'Vehicle': '猛士-东风汽车', 'ProductID': 'VE-DF-MENSHI', 'BrandType': '东风汽车', 'Brand': 'D - 东风汽车', 'Url': '/Images/Logo/dongfengqiche.png', 'Src': 'https://img4.tuhu.org/Images/type/VE-DF-MENSHI.png@163w_163h_100Q.png', 'IsBaoYang': 'True', 'CarName': '猛士', 'appSrc': None, 'Image': 'https://img4.tuhu.org/Images/type/VE-DF-MENSHI.png@100Q.png', 'ImageUrl': 'https://img3.tuhu.org/Images/Logo/DongFengQiChe.png', 'Tires': '315/70R17LT;215/75R16', 'SpecialTireSize': '37.5X12.5R16.5', 'OriginalIsBaoyang': 1, 'Priority2': 1, 'Priority3': 9, 'VehicleSeries': None}\n"
     ]
    },
    {
     "name": "stderr",
     "output_type": "stream",
     "text": [
      "Traceback (most recent call last):\n",
      "  File \"<ipython-input-74-a1bbc79ad05d>\", line 60, in <module>\n",
      "    for pailiang in load_pailiang(vid):\n",
      "  File \"<ipython-input-74-a1bbc79ad05d>\", line 11, in load_pailiang\n",
      "    return requests.get(url, headers=headers).json()['PaiLiang']\n",
      "KeyError: 'PaiLiang'\n"
     ]
    },
    {
     "name": "stdout",
     "output_type": "stream",
     "text": [
      ">> D - 东风汽车 - VE-LGG-A10 - {'Vehicle': '御风A100-东风汽车', 'ProductID': 'VE-LGG-A10', 'BrandType': '东风汽车', 'Brand': 'D - 东风汽车', 'Url': '/Images/Logo/dongfengqiche.png', 'Src': 'https://img3.tuhu.org/Images/type/VE-LGG-A10.png@163w_163h_100Q.png', 'IsBaoYang': 'True', 'CarName': '御风A100', 'appSrc': None, 'Image': 'https://img3.tuhu.org/Images/type/VE-LGG-A10.png@100Q.png', 'ImageUrl': 'https://img3.tuhu.org/Images/Logo/DongFengQiChe.png', 'Tires': '215/75R16', 'SpecialTireSize': None, 'OriginalIsBaoyang': 1, 'Priority2': 1, 'Priority3': 2, 'VehicleSeries': None}\n"
     ]
    },
    {
     "name": "stderr",
     "output_type": "stream",
     "text": [
      "Traceback (most recent call last):\n",
      "  File \"<ipython-input-74-a1bbc79ad05d>\", line 60, in <module>\n",
      "    for pailiang in load_pailiang(vid):\n",
      "  File \"<ipython-input-74-a1bbc79ad05d>\", line 11, in load_pailiang\n",
      "    return requests.get(url, headers=headers).json()['PaiLiang']\n",
      "KeyError: 'PaiLiang'\n"
     ]
    },
    {
     "name": "stdout",
     "output_type": "stream",
     "text": [
      ">> D - 东风汽车 - VE-LGG-AE100 - {'Vehicle': '御风EA100-东风汽车', 'ProductID': 'VE-LGG-AE100', 'BrandType': '东风汽车', 'Brand': 'D - 东风汽车', 'Url': '/Images/Logo/dongfengqiche.png', 'Src': 'https://img3.tuhu.org/Images/type/VE-LGG-AE100.png@163w_163h_100Q.png', 'IsBaoYang': 'True', 'CarName': '御风EA100', 'appSrc': None, 'Image': 'https://img3.tuhu.org/Images/type/VE-LGG-AE100.png@100Q.png', 'ImageUrl': 'https://img3.tuhu.org/Images/Logo/DongFengQiChe.png', 'Tires': '215/75R16', 'SpecialTireSize': None, 'OriginalIsBaoyang': 1, 'Priority2': 1, 'Priority3': 1, 'VehicleSeries': None}\n",
      "D - 东风风神 done\n"
     ]
    },
    {
     "name": "stderr",
     "output_type": "stream",
     "text": [
      "Traceback (most recent call last):\n",
      "  File \"<ipython-input-74-a1bbc79ad05d>\", line 60, in <module>\n",
      "    for pailiang in load_pailiang(vid):\n",
      "  File \"<ipython-input-74-a1bbc79ad05d>\", line 11, in load_pailiang\n",
      "    return requests.get(url, headers=headers).json()['PaiLiang']\n",
      "KeyError: 'PaiLiang'\n"
     ]
    },
    {
     "name": "stdout",
     "output_type": "stream",
     "text": [
      "D - DS done\n",
      "D - 电咖 done\n",
      "D - 大乘汽车 done\n",
      "D - 东南 done\n",
      "D - 东风风度 done\n",
      "D - 大通 done\n",
      ">> D - 大通 - VE-SQDTYSTN - {'Vehicle': '伊思坦纳-上海汽车', 'ProductID': 'VE-SQDTYSTN', 'BrandType': '上海汽车', 'Brand': 'D - 大通', 'Url': '/Images/Logo/datong.png', 'Src': 'https://img3.tuhu.org/Images/type/VE-SQDTYSTN.png@163w_163h_100Q.png', 'IsBaoYang': 'True', 'CarName': '伊思坦纳', 'appSrc': None, 'Image': 'https://img3.tuhu.org/Images/type/VE-SQDTYSTN.png@100Q.png', 'ImageUrl': 'https://img3.tuhu.org/Images/Logo/DaTong.png', 'Tires': '195/75R16;195/75R16C', 'SpecialTireSize': None, 'OriginalIsBaoyang': 1, 'Priority2': 1, 'Priority3': 2, 'VehicleSeries': None}\n"
     ]
    },
    {
     "name": "stderr",
     "output_type": "stream",
     "text": [
      "Traceback (most recent call last):\n",
      "  File \"<ipython-input-74-a1bbc79ad05d>\", line 65, in <module>\n",
      "    gbk_fp.write(ij.encode('gbk'))\n",
      "UnicodeEncodeError: 'gbk' codec can't encode character '\\xa0' in position 60: illegal multibyte sequence\n"
     ]
    },
    {
     "name": "stdout",
     "output_type": "stream",
     "text": [
      "D - 东风小康 done\n",
      "D - 东风富康 done\n",
      "D - 东风风行 done\n",
      "D - 东风俊风 done\n",
      "F - 菲亚特 done\n",
      ">> F - 菲亚特 - VE-FIAT05AA - {'Vehicle': '多宝-菲亚特进口', 'ProductID': 'VE-FIAT05AA', 'BrandType': '菲亚特进口', 'Brand': 'F - 菲亚特', 'Url': '/Images/Logo/feiyate.png', 'Src': 'https://img4.tuhu.org/Images/type/VE-FIAT05AA.png@163w_163h_100Q.png', 'IsBaoYang': 'True', 'CarName': '多宝', 'appSrc': None, 'Image': 'https://img4.tuhu.org/Images/type/VE-FIAT05AA.png@100Q.png', 'ImageUrl': 'https://img3.tuhu.org/Images/Logo/FeiYaTe.png', 'Tires': '175/70R14', 'SpecialTireSize': None, 'OriginalIsBaoyang': 1, 'Priority2': 1, 'Priority3': 7, 'VehicleSeries': None}\n"
     ]
    },
    {
     "name": "stderr",
     "output_type": "stream",
     "text": [
      "Traceback (most recent call last):\n",
      "  File \"<ipython-input-74-a1bbc79ad05d>\", line 60, in <module>\n",
      "    for pailiang in load_pailiang(vid):\n",
      "  File \"<ipython-input-74-a1bbc79ad05d>\", line 11, in load_pailiang\n",
      "    return requests.get(url, headers=headers).json()['PaiLiang']\n",
      "KeyError: 'PaiLiang'\n"
     ]
    },
    {
     "name": "stdout",
     "output_type": "stream",
     "text": [
      ">> F - 菲亚特 - VE-FIATMULTIPLA - {'Vehicle': '多能-菲亚特进口', 'ProductID': 'VE-FIATMULTIPLA', 'BrandType': '菲亚特进口', 'Brand': 'F - 菲亚特', 'Url': '/Images/Logo/feiyate.png', 'Src': 'https://img3.tuhu.org/Images/type/VE-FIATMULTIPLA.png@163w_163h_100Q.png', 'IsBaoYang': 'True', 'CarName': '多能', 'appSrc': None, 'Image': 'https://img3.tuhu.org/Images/type/VE-FIATMULTIPLA.png@100Q.png', 'ImageUrl': 'https://img3.tuhu.org/Images/Logo/FeiYaTe.png', 'Tires': '185/65R15', 'SpecialTireSize': None, 'OriginalIsBaoyang': 1, 'Priority2': 1, 'Priority3': 2, 'VehicleSeries': None}\n"
     ]
    },
    {
     "name": "stderr",
     "output_type": "stream",
     "text": [
      "Traceback (most recent call last):\n",
      "  File \"<ipython-input-74-a1bbc79ad05d>\", line 60, in <module>\n",
      "    for pailiang in load_pailiang(vid):\n",
      "  File \"<ipython-input-74-a1bbc79ad05d>\", line 11, in load_pailiang\n",
      "    return requests.get(url, headers=headers).json()['PaiLiang']\n",
      "KeyError: 'PaiLiang'\n"
     ]
    },
    {
     "name": "stdout",
     "output_type": "stream",
     "text": [
      ">> F - 菲亚特 - VE-FIATSTILO - {'Vehicle': '短剑-菲亚特进口', 'ProductID': 'VE-FIATSTILO', 'BrandType': '菲亚特进口', 'Brand': 'F - 菲亚特', 'Url': '/Images/Logo/feiyate.png', 'Src': 'https://img3.tuhu.org/Images/type/VE-FIATSTILO.png@163w_163h_100Q.png', 'IsBaoYang': 'True', 'CarName': '短剑', 'appSrc': None, 'Image': 'https://img3.tuhu.org/Images/type/VE-FIATSTILO.png@100Q.png', 'ImageUrl': 'https://img3.tuhu.org/Images/Logo/FeiYaTe.png', 'Tires': '215/75R16', 'SpecialTireSize': None, 'OriginalIsBaoyang': 1, 'Priority2': 1, 'Priority3': 1, 'VehicleSeries': None}\n",
      "F - 丰田 done\n"
     ]
    },
    {
     "name": "stderr",
     "output_type": "stream",
     "text": [
      "Traceback (most recent call last):\n",
      "  File \"<ipython-input-74-a1bbc79ad05d>\", line 60, in <module>\n",
      "    for pailiang in load_pailiang(vid):\n",
      "  File \"<ipython-input-74-a1bbc79ad05d>\", line 11, in load_pailiang\n",
      "    return requests.get(url, headers=headers).json()['PaiLiang']\n",
      "KeyError: 'PaiLiang'\n"
     ]
    },
    {
     "name": "stdout",
     "output_type": "stream",
     "text": [
      ">> F - 丰田 - VE-JCRAV4YSJT - {'Vehicle': 'RAV4-一汽丰田', 'ProductID': 'VE-JCRAV4YSJT', 'BrandType': '一汽丰田', 'Brand': 'F - 丰田', 'Url': '/Images/Logo/fengtian.png', 'Src': 'https://img3.tuhu.org/Images/type/VE-JCRAV4YSJT.png@163w_163h_100Q.png', 'IsBaoYang': 'True', 'CarName': 'RAV4', 'appSrc': None, 'Image': 'https://img3.tuhu.org/Images/type/VE-JCRAV4YSJT.png@100Q.png', 'ImageUrl': 'https://img3.tuhu.org/Images/Logo/FengTian.png', 'Tires': '225/65R17;235/55R18', 'SpecialTireSize': None, 'OriginalIsBaoyang': 1, 'Priority2': 2, 'Priority3': 15, 'VehicleSeries': None}\n",
      ">> F - 丰田 - VE-JCRONGFANGYSJT - {'Vehicle': 'RAV4荣放-一汽丰田', 'ProductID': 'VE-JCRONGFANGYSJT', 'BrandType': '一汽丰田', 'Brand': 'F - 丰田', 'Url': '/Images/Logo/fengtian.png', 'Src': 'https://img4.tuhu.org/Images/type/VE-JCRONGFANGYSJT.png@163w_163h_100Q.png', 'IsBaoYang': 'True', 'CarName': 'RAV4荣放', 'appSrc': None, 'Image': 'https://img4.tuhu.org/Images/type/VE-JCRONGFANGYSJT.png@100Q.png', 'ImageUrl': 'https://img3.tuhu.org/Images/Logo/FengTian.png', 'Tires': '225/65R17;235/55R18', 'SpecialTireSize': None, 'OriginalIsBaoyang': 1, 'Priority2': 2, 'Priority3': 14, 'VehicleSeries': None}\n"
     ]
    },
    {
     "name": "stderr",
     "output_type": "stream",
     "text": [
      "Traceback (most recent call last):\n",
      "  File \"<ipython-input-74-a1bbc79ad05d>\", line 62, in <module>\n",
      "    for b in load_child_brands(vid, pailiang, nian):\n",
      "  File \"<ipython-input-74-a1bbc79ad05d>\", line 38, in load_child_brands\n",
      "    return json.loads(index_regex.findall(requests.get(url).text)[0])['SalesName']\n",
      "IndexError: list index out of range\n",
      "Traceback (most recent call last):\n",
      "  File \"<ipython-input-74-a1bbc79ad05d>\", line 60, in <module>\n",
      "    for pailiang in load_pailiang(vid):\n",
      "  File \"<ipython-input-74-a1bbc79ad05d>\", line 11, in load_pailiang\n",
      "    return requests.get(url, headers=headers).json()['PaiLiang']\n",
      "  File \"/Users/laisky/.virtualenvs/37/lib/python3.7/site-packages/requests/models.py\", line 897, in json\n",
      "    return complexjson.loads(self.text, **kwargs)\n",
      "  File \"/Users/laisky/.virtualenvs/37/lib/python3.7/site-packages/simplejson/__init__.py\", line 518, in loads\n",
      "    return _default_decoder.decode(s)\n",
      "  File \"/Users/laisky/.virtualenvs/37/lib/python3.7/site-packages/simplejson/decoder.py\", line 370, in decode\n",
      "    obj, end = self.raw_decode(s)\n",
      "  File \"/Users/laisky/.virtualenvs/37/lib/python3.7/site-packages/simplejson/decoder.py\", line 400, in raw_decode\n",
      "    return self.scan_once(s, idx=_w(s, idx).end())\n",
      "simplejson.errors.JSONDecodeError: Expecting value: line 1 column 1 (char 0)\n"
     ]
    },
    {
     "name": "stdout",
     "output_type": "stream",
     "text": [
      ">> F - 丰田 - VE-TOYT07BD - {'Vehicle': '花冠-一汽丰田', 'ProductID': 'VE-TOYT07BD', 'BrandType': '一汽丰田', 'Brand': 'F - 丰田', 'Url': '/Images/Logo/fengtian.png', 'Src': 'https://img3.tuhu.org/Images/type/VE-TOYT07BD.png@163w_163h_100Q.png', 'IsBaoYang': 'True', 'CarName': '花冠', 'appSrc': None, 'Image': 'https://img3.tuhu.org/Images/type/VE-TOYT07BD.png@100Q.png', 'ImageUrl': 'https://img3.tuhu.org/Images/Logo/FengTian.png', 'Tires': '195/60R15', 'SpecialTireSize': None, 'OriginalIsBaoyang': 1, 'Priority2': 2, 'Priority3': 13, 'VehicleSeries': None}\n",
      ">> F - 丰田 - VE-FJTKLLYSJT - {'Vehicle': '卡罗拉-一汽丰田', 'ProductID': 'VE-FJTKLLYSJT', 'BrandType': '一汽丰田', 'Brand': 'F - 丰田', 'Url': '/Images/Logo/fengtian.png', 'Src': 'https://img4.tuhu.org/Images/type/VE-FJTKLLYSJT.png@163w_163h_100Q.png', 'IsBaoYang': 'True', 'CarName': '卡罗拉', 'appSrc': None, 'Image': 'https://img4.tuhu.org/Images/type/VE-FJTKLLYSJT.png@100Q.png', 'ImageUrl': 'https://img3.tuhu.org/Images/Logo/FengTian.png', 'Tires': '195/65R15;205/55R16', 'SpecialTireSize': None, 'OriginalIsBaoyang': 1, 'Priority2': 2, 'Priority3': 12, 'VehicleSeries': None}\n"
     ]
    },
    {
     "name": "stderr",
     "output_type": "stream",
     "text": [
      "Traceback (most recent call last):\n",
      "  File \"<ipython-input-74-a1bbc79ad05d>\", line 60, in <module>\n",
      "    for pailiang in load_pailiang(vid):\n",
      "  File \"<ipython-input-74-a1bbc79ad05d>\", line 11, in load_pailiang\n",
      "    return requests.get(url, headers=headers).json()['PaiLiang']\n",
      "  File \"/Users/laisky/.virtualenvs/37/lib/python3.7/site-packages/requests/models.py\", line 897, in json\n",
      "    return complexjson.loads(self.text, **kwargs)\n",
      "  File \"/Users/laisky/.virtualenvs/37/lib/python3.7/site-packages/simplejson/__init__.py\", line 518, in loads\n",
      "    return _default_decoder.decode(s)\n",
      "  File \"/Users/laisky/.virtualenvs/37/lib/python3.7/site-packages/simplejson/decoder.py\", line 370, in decode\n",
      "    obj, end = self.raw_decode(s)\n",
      "  File \"/Users/laisky/.virtualenvs/37/lib/python3.7/site-packages/simplejson/decoder.py\", line 400, in raw_decode\n",
      "    return self.scan_once(s, idx=_w(s, idx).end())\n",
      "simplejson.errors.JSONDecodeError: Expecting value: line 1 column 1 (char 0)\n",
      "Traceback (most recent call last):\n",
      "  File \"<ipython-input-74-a1bbc79ad05d>\", line 60, in <module>\n",
      "    for pailiang in load_pailiang(vid):\n",
      "  File \"<ipython-input-74-a1bbc79ad05d>\", line 11, in load_pailiang\n",
      "    return requests.get(url, headers=headers).json()['PaiLiang']\n",
      "  File \"/Users/laisky/.virtualenvs/37/lib/python3.7/site-packages/requests/models.py\", line 897, in json\n",
      "    return complexjson.loads(self.text, **kwargs)\n",
      "  File \"/Users/laisky/.virtualenvs/37/lib/python3.7/site-packages/simplejson/__init__.py\", line 518, in loads\n",
      "    return _default_decoder.decode(s)\n",
      "  File \"/Users/laisky/.virtualenvs/37/lib/python3.7/site-packages/simplejson/decoder.py\", line 370, in decode\n",
      "    obj, end = self.raw_decode(s)\n",
      "  File \"/Users/laisky/.virtualenvs/37/lib/python3.7/site-packages/simplejson/decoder.py\", line 400, in raw_decode\n",
      "    return self.scan_once(s, idx=_w(s, idx).end())\n",
      "simplejson.errors.JSONDecodeError: Expecting value: line 1 column 1 (char 0)\n"
     ]
    },
    {
     "name": "stdout",
     "output_type": "stream",
     "text": [
      ">> F - 丰田 - VE-TOSC07AF - {'Vehicle': '普拉多-一汽丰田', 'ProductID': 'VE-TOSC07AF', 'BrandType': '一汽丰田', 'Brand': 'F - 丰田', 'Url': '/Images/Logo/fengtian.png', 'Src': 'https://img3.tuhu.org/Images/type/VE-TOSC07AF.png@163w_163h_100Q.png', 'IsBaoYang': 'True', 'CarName': '普拉多', 'appSrc': None, 'Image': 'https://img3.tuhu.org/Images/type/VE-TOSC07AF.png@100Q.png', 'ImageUrl': 'https://img3.tuhu.org/Images/Logo/FengTian.png', 'Tires': '265/65R17;265/70R16;265/60R18', 'SpecialTireSize': None, 'OriginalIsBaoyang': 1, 'Priority2': 2, 'Priority3': 11, 'VehicleSeries': None}\n",
      ">> F - 丰田 - VE-TOYT07BE - {'Vehicle': '锐志-一汽丰田', 'ProductID': 'VE-TOYT07BE', 'BrandType': '一汽丰田', 'Brand': 'F - 丰田', 'Url': '/Images/Logo/fengtian.png', 'Src': 'https://img3.tuhu.org/Images/type/VE-TOYT07BE.png@163w_163h_100Q.png', 'IsBaoYang': 'True', 'CarName': '锐志', 'appSrc': None, 'Image': 'https://img3.tuhu.org/Images/type/VE-TOYT07BE.png@100Q.png', 'ImageUrl': 'https://img3.tuhu.org/Images/Logo/FengTian.png', 'Tires': '215/60R16;215/55R17;235/45R18', 'SpecialTireSize': None, 'OriginalIsBaoyang': 1, 'Priority2': 2, 'Priority3': 10, 'VehicleSeries': None}\n"
     ]
    },
    {
     "name": "stderr",
     "output_type": "stream",
     "text": [
      "Traceback (most recent call last):\n",
      "  File \"<ipython-input-74-a1bbc79ad05d>\", line 60, in <module>\n",
      "    for pailiang in load_pailiang(vid):\n",
      "  File \"<ipython-input-74-a1bbc79ad05d>\", line 11, in load_pailiang\n",
      "    return requests.get(url, headers=headers).json()['PaiLiang']\n",
      "  File \"/Users/laisky/.virtualenvs/37/lib/python3.7/site-packages/requests/models.py\", line 897, in json\n",
      "    return complexjson.loads(self.text, **kwargs)\n",
      "  File \"/Users/laisky/.virtualenvs/37/lib/python3.7/site-packages/simplejson/__init__.py\", line 518, in loads\n",
      "    return _default_decoder.decode(s)\n",
      "  File \"/Users/laisky/.virtualenvs/37/lib/python3.7/site-packages/simplejson/decoder.py\", line 370, in decode\n",
      "    obj, end = self.raw_decode(s)\n",
      "  File \"/Users/laisky/.virtualenvs/37/lib/python3.7/site-packages/simplejson/decoder.py\", line 400, in raw_decode\n",
      "    return self.scan_once(s, idx=_w(s, idx).end())\n",
      "simplejson.errors.JSONDecodeError: Expecting value: line 1 column 1 (char 0)\n",
      "Traceback (most recent call last):\n",
      "  File \"<ipython-input-74-a1bbc79ad05d>\", line 60, in <module>\n",
      "    for pailiang in load_pailiang(vid):\n",
      "  File \"<ipython-input-74-a1bbc79ad05d>\", line 11, in load_pailiang\n",
      "    return requests.get(url, headers=headers).json()['PaiLiang']\n",
      "  File \"/Users/laisky/.virtualenvs/37/lib/python3.7/site-packages/requests/models.py\", line 897, in json\n",
      "    return complexjson.loads(self.text, **kwargs)\n",
      "  File \"/Users/laisky/.virtualenvs/37/lib/python3.7/site-packages/simplejson/__init__.py\", line 518, in loads\n",
      "    return _default_decoder.decode(s)\n",
      "  File \"/Users/laisky/.virtualenvs/37/lib/python3.7/site-packages/simplejson/decoder.py\", line 370, in decode\n",
      "    obj, end = self.raw_decode(s)\n",
      "  File \"/Users/laisky/.virtualenvs/37/lib/python3.7/site-packages/simplejson/decoder.py\", line 400, in raw_decode\n",
      "    return self.scan_once(s, idx=_w(s, idx).end())\n",
      "simplejson.errors.JSONDecodeError: Expecting value: line 1 column 1 (char 0)\n"
     ]
    },
    {
     "name": "stdout",
     "output_type": "stream",
     "text": [
      ">> F - 丰田 - VE-TOYT07AL - {'Vehicle': '皇冠-一汽丰田', 'ProductID': 'VE-TOYT07AL', 'BrandType': '一汽丰田', 'Brand': 'F - 丰田', 'Url': '/Images/Logo/fengtian.png', 'Src': 'https://img3.tuhu.org/Images/type/VE-TOYT07AL.png@163w_163h_100Q.png', 'IsBaoYang': 'True', 'CarName': '皇冠', 'appSrc': None, 'Image': 'https://img3.tuhu.org/Images/type/VE-TOYT07AL.png@100Q.png', 'ImageUrl': 'https://img3.tuhu.org/Images/Logo/FengTian.png', 'Tires': '215/60R16;215/55R17;235/50R17;225/50R17;235/45R18', 'SpecialTireSize': None, 'OriginalIsBaoyang': 1, 'Priority2': 2, 'Priority3': 9, 'VehicleSeries': None}\n",
      ">> F - 丰田 - VE-LDKLZYSJT - {'Vehicle': '兰德酷路泽-一汽丰田', 'ProductID': 'VE-LDKLZYSJT', 'BrandType': '一汽丰田', 'Brand': 'F - 丰田', 'Url': '/Images/Logo/fengtian.png', 'Src': 'https://img4.tuhu.org/Images/type/VE-LDKLZYSJT.png@163w_163h_100Q.png', 'IsBaoYang': 'True', 'CarName': '兰德酷路泽', 'appSrc': None, 'Image': 'https://img4.tuhu.org/Images/type/VE-LDKLZYSJT.png@100Q.png', 'ImageUrl': 'https://img3.tuhu.org/Images/Logo/FengTian.png', 'Tires': '285/65R17;285/60R18;275/65R17', 'SpecialTireSize': None, 'OriginalIsBaoyang': 1, 'Priority2': 2, 'Priority3': 8, 'VehicleSeries': None}\n"
     ]
    },
    {
     "name": "stderr",
     "output_type": "stream",
     "text": [
      "Traceback (most recent call last):\n",
      "  File \"<ipython-input-74-a1bbc79ad05d>\", line 60, in <module>\n",
      "    for pailiang in load_pailiang(vid):\n",
      "  File \"<ipython-input-74-a1bbc79ad05d>\", line 11, in load_pailiang\n",
      "    return requests.get(url, headers=headers).json()['PaiLiang']\n",
      "  File \"/Users/laisky/.virtualenvs/37/lib/python3.7/site-packages/requests/models.py\", line 897, in json\n",
      "    return complexjson.loads(self.text, **kwargs)\n",
      "  File \"/Users/laisky/.virtualenvs/37/lib/python3.7/site-packages/simplejson/__init__.py\", line 518, in loads\n",
      "    return _default_decoder.decode(s)\n",
      "  File \"/Users/laisky/.virtualenvs/37/lib/python3.7/site-packages/simplejson/decoder.py\", line 370, in decode\n",
      "    obj, end = self.raw_decode(s)\n",
      "  File \"/Users/laisky/.virtualenvs/37/lib/python3.7/site-packages/simplejson/decoder.py\", line 400, in raw_decode\n",
      "    return self.scan_once(s, idx=_w(s, idx).end())\n",
      "simplejson.errors.JSONDecodeError: Expecting value: line 1 column 1 (char 0)\n",
      "Traceback (most recent call last):\n",
      "  File \"<ipython-input-74-a1bbc79ad05d>\", line 60, in <module>\n",
      "    for pailiang in load_pailiang(vid):\n",
      "  File \"<ipython-input-74-a1bbc79ad05d>\", line 11, in load_pailiang\n",
      "    return requests.get(url, headers=headers).json()['PaiLiang']\n",
      "  File \"/Users/laisky/.virtualenvs/37/lib/python3.7/site-packages/requests/models.py\", line 897, in json\n",
      "    return complexjson.loads(self.text, **kwargs)\n",
      "  File \"/Users/laisky/.virtualenvs/37/lib/python3.7/site-packages/simplejson/__init__.py\", line 518, in loads\n",
      "    return _default_decoder.decode(s)\n",
      "  File \"/Users/laisky/.virtualenvs/37/lib/python3.7/site-packages/simplejson/decoder.py\", line 370, in decode\n",
      "    obj, end = self.raw_decode(s)\n",
      "  File \"/Users/laisky/.virtualenvs/37/lib/python3.7/site-packages/simplejson/decoder.py\", line 400, in raw_decode\n",
      "    return self.scan_once(s, idx=_w(s, idx).end())\n",
      "simplejson.errors.JSONDecodeError: Expecting value: line 1 column 1 (char 0)\n"
     ]
    },
    {
     "name": "stdout",
     "output_type": "stream",
     "text": [
      ">> F - 丰田 - VE-FACC07AG - {'Vehicle': '陆地巡洋舰-一汽丰田', 'ProductID': 'VE-FACC07AG', 'BrandType': '一汽丰田', 'Brand': 'F - 丰田', 'Url': '/Images/Logo/fengtian.png', 'Src': 'https://img3.tuhu.org/Images/type/VE-FACC07AG.png@163w_163h_100Q.png', 'IsBaoYang': 'True', 'CarName': '陆地巡洋舰', 'appSrc': None, 'Image': 'https://img3.tuhu.org/Images/type/VE-FACC07AG.png@100Q.png', 'ImageUrl': 'https://img3.tuhu.org/Images/Logo/FengTian.png', 'Tires': '275/65R17', 'SpecialTireSize': None, 'OriginalIsBaoyang': 1, 'Priority2': 2, 'Priority3': 7, 'VehicleSeries': None}\n",
      ">> F - 丰田 - VE-FACC07AB - {'Vehicle': '普锐斯-一汽丰田', 'ProductID': 'VE-FACC07AB', 'BrandType': '一汽丰田', 'Brand': 'F - 丰田', 'Url': '/Images/Logo/fengtian.png', 'Src': 'https://img4.tuhu.org/Images/type/VE-FACC07AB.png@163w_163h_100Q.png', 'IsBaoYang': 'True', 'CarName': '普锐斯', 'appSrc': None, 'Image': 'https://img4.tuhu.org/Images/type/VE-FACC07AB.png@100Q.png', 'ImageUrl': 'https://img3.tuhu.org/Images/Logo/FengTian.png', 'Tires': '195/60R15;195/65R15;195/55R15', 'SpecialTireSize': None, 'OriginalIsBaoyang': 1, 'Priority2': 2, 'Priority3': 6, 'VehicleSeries': None}\n"
     ]
    },
    {
     "name": "stderr",
     "output_type": "stream",
     "text": [
      "Traceback (most recent call last):\n",
      "  File \"<ipython-input-74-a1bbc79ad05d>\", line 60, in <module>\n",
      "    for pailiang in load_pailiang(vid):\n",
      "  File \"<ipython-input-74-a1bbc79ad05d>\", line 11, in load_pailiang\n",
      "    return requests.get(url, headers=headers).json()['PaiLiang']\n",
      "  File \"/Users/laisky/.virtualenvs/37/lib/python3.7/site-packages/requests/models.py\", line 897, in json\n",
      "    return complexjson.loads(self.text, **kwargs)\n",
      "  File \"/Users/laisky/.virtualenvs/37/lib/python3.7/site-packages/simplejson/__init__.py\", line 518, in loads\n",
      "    return _default_decoder.decode(s)\n",
      "  File \"/Users/laisky/.virtualenvs/37/lib/python3.7/site-packages/simplejson/decoder.py\", line 370, in decode\n",
      "    obj, end = self.raw_decode(s)\n",
      "  File \"/Users/laisky/.virtualenvs/37/lib/python3.7/site-packages/simplejson/decoder.py\", line 400, in raw_decode\n",
      "    return self.scan_once(s, idx=_w(s, idx).end())\n",
      "simplejson.errors.JSONDecodeError: Expecting value: line 1 column 1 (char 0)\n",
      "Traceback (most recent call last):\n",
      "  File \"<ipython-input-74-a1bbc79ad05d>\", line 60, in <module>\n",
      "    for pailiang in load_pailiang(vid):\n",
      "  File \"<ipython-input-74-a1bbc79ad05d>\", line 11, in load_pailiang\n",
      "    return requests.get(url, headers=headers).json()['PaiLiang']\n",
      "  File \"/Users/laisky/.virtualenvs/37/lib/python3.7/site-packages/requests/models.py\", line 897, in json\n",
      "    return complexjson.loads(self.text, **kwargs)\n",
      "  File \"/Users/laisky/.virtualenvs/37/lib/python3.7/site-packages/simplejson/__init__.py\", line 518, in loads\n",
      "    return _default_decoder.decode(s)\n",
      "  File \"/Users/laisky/.virtualenvs/37/lib/python3.7/site-packages/simplejson/decoder.py\", line 370, in decode\n",
      "    obj, end = self.raw_decode(s)\n",
      "  File \"/Users/laisky/.virtualenvs/37/lib/python3.7/site-packages/simplejson/decoder.py\", line 400, in raw_decode\n",
      "    return self.scan_once(s, idx=_w(s, idx).end())\n",
      "simplejson.errors.JSONDecodeError: Expecting value: line 1 column 1 (char 0)\n"
     ]
    },
    {
     "name": "stdout",
     "output_type": "stream",
     "text": [
      ">> F - 丰田 - VE-TOYT07AF - {'Vehicle': '威驰-一汽丰田', 'ProductID': 'VE-TOYT07AF', 'BrandType': '一汽丰田', 'Brand': 'F - 丰田', 'Url': '/Images/Logo/fengtian.png', 'Src': 'https://img3.tuhu.org/Images/type/VE-TOYT07AF.png@163w_163h_100Q.png', 'IsBaoYang': 'True', 'CarName': '威驰', 'appSrc': None, 'Image': 'https://img3.tuhu.org/Images/type/VE-TOYT07AF.png@100Q.png', 'ImageUrl': 'https://img3.tuhu.org/Images/Logo/FengTian.png', 'Tires': '175/65R14;185/60R15;155/80R13', 'SpecialTireSize': None, 'OriginalIsBaoyang': 1, 'Priority2': 2, 'Priority3': 5, 'VehicleSeries': None}\n",
      ">> F - 丰田 - VE-LMF-VIOSFS - {'Vehicle': '威驰FS-一汽丰田', 'ProductID': 'VE-LMF-VIOSFS', 'BrandType': '一汽丰田', 'Brand': 'F - 丰田', 'Url': '/Images/Logo/fengtian.png', 'Src': 'https://img3.tuhu.org/Images/type/VE-LMF-VIOSFS.png@163w_163h_100Q.png', 'IsBaoYang': 'True', 'CarName': '威驰FS', 'appSrc': None, 'Image': 'https://img3.tuhu.org/Images/type/VE-LMF-VIOSFS.png@100Q.png', 'ImageUrl': 'https://img3.tuhu.org/Images/Logo/FengTian.png', 'Tires': '185/60R15;175/65R14', 'SpecialTireSize': None, 'OriginalIsBaoyang': 1, 'Priority2': 2, 'Priority3': 4, 'VehicleSeries': None}\n"
     ]
    },
    {
     "name": "stderr",
     "output_type": "stream",
     "text": [
      "Traceback (most recent call last):\n",
      "  File \"<ipython-input-74-a1bbc79ad05d>\", line 60, in <module>\n",
      "    for pailiang in load_pailiang(vid):\n",
      "  File \"<ipython-input-74-a1bbc79ad05d>\", line 11, in load_pailiang\n",
      "    return requests.get(url, headers=headers).json()['PaiLiang']\n",
      "  File \"/Users/laisky/.virtualenvs/37/lib/python3.7/site-packages/requests/models.py\", line 897, in json\n",
      "    return complexjson.loads(self.text, **kwargs)\n",
      "  File \"/Users/laisky/.virtualenvs/37/lib/python3.7/site-packages/simplejson/__init__.py\", line 518, in loads\n",
      "    return _default_decoder.decode(s)\n",
      "  File \"/Users/laisky/.virtualenvs/37/lib/python3.7/site-packages/simplejson/decoder.py\", line 370, in decode\n",
      "    obj, end = self.raw_decode(s)\n",
      "  File \"/Users/laisky/.virtualenvs/37/lib/python3.7/site-packages/simplejson/decoder.py\", line 400, in raw_decode\n",
      "    return self.scan_once(s, idx=_w(s, idx).end())\n",
      "simplejson.errors.JSONDecodeError: Expecting value: line 1 column 1 (char 0)\n",
      "Traceback (most recent call last):\n",
      "  File \"<ipython-input-74-a1bbc79ad05d>\", line 60, in <module>\n",
      "    for pailiang in load_pailiang(vid):\n",
      "  File \"<ipython-input-74-a1bbc79ad05d>\", line 11, in load_pailiang\n",
      "    return requests.get(url, headers=headers).json()['PaiLiang']\n",
      "  File \"/Users/laisky/.virtualenvs/37/lib/python3.7/site-packages/requests/models.py\", line 897, in json\n",
      "    return complexjson.loads(self.text, **kwargs)\n",
      "  File \"/Users/laisky/.virtualenvs/37/lib/python3.7/site-packages/simplejson/__init__.py\", line 518, in loads\n",
      "    return _default_decoder.decode(s)\n",
      "  File \"/Users/laisky/.virtualenvs/37/lib/python3.7/site-packages/simplejson/decoder.py\", line 370, in decode\n",
      "    obj, end = self.raw_decode(s)\n",
      "  File \"/Users/laisky/.virtualenvs/37/lib/python3.7/site-packages/simplejson/decoder.py\", line 400, in raw_decode\n",
      "    return self.scan_once(s, idx=_w(s, idx).end())\n",
      "simplejson.errors.JSONDecodeError: Expecting value: line 1 column 1 (char 0)\n"
     ]
    },
    {
     "name": "stdout",
     "output_type": "stream",
     "text": [
      ">> F - 丰田 - VE-TOYOTR - {'Vehicle': '特锐-一汽丰田', 'ProductID': 'VE-TOYOTR', 'BrandType': '一汽丰田', 'Brand': 'F - 丰田', 'Url': '/Images/Logo/fengtian.png', 'Src': 'https://img3.tuhu.org/Images/type/VE-TOYOTR.png@163w_163h_100Q.png', 'IsBaoYang': 'True', 'CarName': '特锐', 'appSrc': None, 'Image': 'https://img3.tuhu.org/Images/type/VE-TOYOTR.png@100Q.png', 'ImageUrl': 'https://img3.tuhu.org/Images/Logo/FengTian.png', 'Tires': '205/70R15', 'SpecialTireSize': None, 'OriginalIsBaoyang': 1, 'Priority2': 2, 'Priority3': 3, 'VehicleSeries': None}\n",
      ">> F - 丰田 - VE-LVG-IZOA - {'Vehicle': '奕泽-一汽丰田', 'ProductID': 'VE-LVG-IZOA', 'BrandType': '一汽丰田', 'Brand': 'F - 丰田', 'Url': '/Images/Logo/fengtian.png', 'Src': 'https://img4.tuhu.org/Images/type/VE-LVG-IZOA.png@163w_163h_100Q.png', 'IsBaoYang': 'True', 'CarName': '奕泽', 'appSrc': None, 'Image': 'https://img4.tuhu.org/Images/type/VE-LVG-IZOA.png@100Q.png', 'ImageUrl': 'https://img3.tuhu.org/Images/Logo/FengTian.png', 'Tires': '215/60R17', 'SpecialTireSize': None, 'OriginalIsBaoyang': 1, 'Priority2': 2, 'Priority3': 2, 'VehicleSeries': None}\n"
     ]
    },
    {
     "name": "stderr",
     "output_type": "stream",
     "text": [
      "Traceback (most recent call last):\n",
      "  File \"<ipython-input-74-a1bbc79ad05d>\", line 60, in <module>\n",
      "    for pailiang in load_pailiang(vid):\n",
      "  File \"<ipython-input-74-a1bbc79ad05d>\", line 11, in load_pailiang\n",
      "    return requests.get(url, headers=headers).json()['PaiLiang']\n",
      "  File \"/Users/laisky/.virtualenvs/37/lib/python3.7/site-packages/requests/models.py\", line 897, in json\n",
      "    return complexjson.loads(self.text, **kwargs)\n",
      "  File \"/Users/laisky/.virtualenvs/37/lib/python3.7/site-packages/simplejson/__init__.py\", line 518, in loads\n",
      "    return _default_decoder.decode(s)\n",
      "  File \"/Users/laisky/.virtualenvs/37/lib/python3.7/site-packages/simplejson/decoder.py\", line 370, in decode\n",
      "    obj, end = self.raw_decode(s)\n",
      "  File \"/Users/laisky/.virtualenvs/37/lib/python3.7/site-packages/simplejson/decoder.py\", line 400, in raw_decode\n",
      "    return self.scan_once(s, idx=_w(s, idx).end())\n",
      "simplejson.errors.JSONDecodeError: Expecting value: line 1 column 1 (char 0)\n",
      "Traceback (most recent call last):\n",
      "  File \"<ipython-input-74-a1bbc79ad05d>\", line 60, in <module>\n",
      "    for pailiang in load_pailiang(vid):\n",
      "  File \"<ipython-input-74-a1bbc79ad05d>\", line 11, in load_pailiang\n",
      "    return requests.get(url, headers=headers).json()['PaiLiang']\n",
      "  File \"/Users/laisky/.virtualenvs/37/lib/python3.7/site-packages/requests/models.py\", line 897, in json\n",
      "    return complexjson.loads(self.text, **kwargs)\n",
      "  File \"/Users/laisky/.virtualenvs/37/lib/python3.7/site-packages/simplejson/__init__.py\", line 518, in loads\n",
      "    return _default_decoder.decode(s)\n",
      "  File \"/Users/laisky/.virtualenvs/37/lib/python3.7/site-packages/simplejson/decoder.py\", line 370, in decode\n",
      "    obj, end = self.raw_decode(s)\n",
      "  File \"/Users/laisky/.virtualenvs/37/lib/python3.7/site-packages/simplejson/decoder.py\", line 400, in raw_decode\n",
      "    return self.scan_once(s, idx=_w(s, idx).end())\n",
      "simplejson.errors.JSONDecodeError: Expecting value: line 1 column 1 (char 0)\n"
     ]
    },
    {
     "name": "stdout",
     "output_type": "stream",
     "text": [
      ">> F - 丰田 - VE-LFM-AVALON - {'Vehicle': '亚洲龙-一汽丰田', 'ProductID': 'VE-LFM-AVALON', 'BrandType': '一汽丰田', 'Brand': 'F - 丰田', 'Url': '/Images/Logo/fengtian.png', 'Src': 'https://img4.tuhu.org/Images/type/VE-LFM-AVALON.png@163w_163h_100Q.png', 'IsBaoYang': 'True', 'CarName': '亚洲龙', 'appSrc': None, 'Image': 'https://img4.tuhu.org/Images/type/VE-LFM-AVALON.png@100Q.png', 'ImageUrl': 'https://img3.tuhu.org/Images/Logo/FengTian.png', 'Tires': '215/55R17;235/45R18', 'SpecialTireSize': None, 'OriginalIsBaoyang': 1, 'Priority2': 2, 'Priority3': 1, 'VehicleSeries': None}\n"
     ]
    },
    {
     "name": "stderr",
     "output_type": "stream",
     "text": [
      "Traceback (most recent call last):\n",
      "  File \"<ipython-input-74-a1bbc79ad05d>\", line 60, in <module>\n",
      "    for pailiang in load_pailiang(vid):\n",
      "  File \"<ipython-input-74-a1bbc79ad05d>\", line 11, in load_pailiang\n",
      "    return requests.get(url, headers=headers).json()['PaiLiang']\n",
      "  File \"/Users/laisky/.virtualenvs/37/lib/python3.7/site-packages/requests/models.py\", line 897, in json\n",
      "    return complexjson.loads(self.text, **kwargs)\n",
      "  File \"/Users/laisky/.virtualenvs/37/lib/python3.7/site-packages/simplejson/__init__.py\", line 518, in loads\n",
      "    return _default_decoder.decode(s)\n",
      "  File \"/Users/laisky/.virtualenvs/37/lib/python3.7/site-packages/simplejson/decoder.py\", line 370, in decode\n",
      "    obj, end = self.raw_decode(s)\n",
      "  File \"/Users/laisky/.virtualenvs/37/lib/python3.7/site-packages/simplejson/decoder.py\", line 400, in raw_decode\n",
      "    return self.scan_once(s, idx=_w(s, idx).end())\n",
      "simplejson.errors.JSONDecodeError: Expecting value: line 1 column 1 (char 0)\n"
     ]
    },
    {
     "name": "stdout",
     "output_type": "stream",
     "text": [
      ">> F - 丰田 - VE-TOYLFIOFBL - {'Vehicle': '86-丰田进口', 'ProductID': 'VE-TOYLFIOFBL', 'BrandType': '丰田进口', 'Brand': 'F - 丰田', 'Url': '/Images/Logo/fengtian.png', 'Src': 'https://img3.tuhu.org/Images/type/VE-TOYLFIOFBL.png@163w_163h_100Q.png', 'IsBaoYang': 'True', 'CarName': '86', 'appSrc': None, 'Image': 'https://img3.tuhu.org/Images/type/VE-TOYLFIOFBL.png@100Q.png', 'ImageUrl': 'https://img3.tuhu.org/Images/Logo/FengTian.png', 'Tires': '205/55R16', 'SpecialTireSize': None, 'OriginalIsBaoyang': 1, 'Priority2': 1, 'Priority3': 15, 'VehicleSeries': None}\n",
      ">> F - 丰田 - VE-FJLZJTJK - {'Vehicle': 'FJ酷路泽-丰田进口', 'ProductID': 'VE-FJLZJTJK', 'BrandType': '丰田进口', 'Brand': 'F - 丰田', 'Url': '/Images/Logo/fengtian.png', 'Src': 'https://img4.tuhu.org/Images/type/VE-FJLZJTJK.png@163w_163h_100Q.png', 'IsBaoYang': 'True', 'CarName': 'FJ酷路泽', 'appSrc': None, 'Image': 'https://img4.tuhu.org/Images/type/VE-FJLZJTJK.png@100Q.png', 'ImageUrl': 'https://img3.tuhu.org/Images/Logo/FengTian.png', 'Tires': '265/70R17;265/75R16', 'SpecialTireSize': None, 'OriginalIsBaoyang': 1, 'Priority2': 1, 'Priority3': 14, 'VehicleSeries': None}\n"
     ]
    },
    {
     "name": "stderr",
     "output_type": "stream",
     "text": [
      "Traceback (most recent call last):\n",
      "  File \"<ipython-input-74-a1bbc79ad05d>\", line 60, in <module>\n",
      "    for pailiang in load_pailiang(vid):\n",
      "  File \"<ipython-input-74-a1bbc79ad05d>\", line 11, in load_pailiang\n",
      "    return requests.get(url, headers=headers).json()['PaiLiang']\n",
      "  File \"/Users/laisky/.virtualenvs/37/lib/python3.7/site-packages/requests/models.py\", line 897, in json\n",
      "    return complexjson.loads(self.text, **kwargs)\n",
      "  File \"/Users/laisky/.virtualenvs/37/lib/python3.7/site-packages/simplejson/__init__.py\", line 518, in loads\n",
      "    return _default_decoder.decode(s)\n",
      "  File \"/Users/laisky/.virtualenvs/37/lib/python3.7/site-packages/simplejson/decoder.py\", line 370, in decode\n",
      "    obj, end = self.raw_decode(s)\n",
      "  File \"/Users/laisky/.virtualenvs/37/lib/python3.7/site-packages/simplejson/decoder.py\", line 400, in raw_decode\n",
      "    return self.scan_once(s, idx=_w(s, idx).end())\n",
      "simplejson.errors.JSONDecodeError: Expecting value: line 1 column 1 (char 0)\n",
      "Traceback (most recent call last):\n",
      "  File \"<ipython-input-74-a1bbc79ad05d>\", line 60, in <module>\n",
      "    for pailiang in load_pailiang(vid):\n",
      "  File \"<ipython-input-74-a1bbc79ad05d>\", line 11, in load_pailiang\n",
      "    return requests.get(url, headers=headers).json()['PaiLiang']\n",
      "  File \"/Users/laisky/.virtualenvs/37/lib/python3.7/site-packages/requests/models.py\", line 897, in json\n",
      "    return complexjson.loads(self.text, **kwargs)\n",
      "  File \"/Users/laisky/.virtualenvs/37/lib/python3.7/site-packages/simplejson/__init__.py\", line 518, in loads\n",
      "    return _default_decoder.decode(s)\n",
      "  File \"/Users/laisky/.virtualenvs/37/lib/python3.7/site-packages/simplejson/decoder.py\", line 370, in decode\n",
      "    obj, end = self.raw_decode(s)\n",
      "  File \"/Users/laisky/.virtualenvs/37/lib/python3.7/site-packages/simplejson/decoder.py\", line 400, in raw_decode\n",
      "    return self.scan_once(s, idx=_w(s, idx).end())\n",
      "simplejson.errors.JSONDecodeError: Expecting value: line 1 column 1 (char 0)\n"
     ]
    },
    {
     "name": "stdout",
     "output_type": "stream",
     "text": [
      ">> F - 丰田 - VE-TOYO07AB - {'Vehicle': 'RAV4-丰田进口', 'ProductID': 'VE-TOYO07AB', 'BrandType': '丰田进口', 'Brand': 'F - 丰田', 'Url': '/Images/Logo/fengtian.png', 'Src': 'https://img3.tuhu.org/Images/type/VE-TOYO07AB.png@163w_163h_100Q.png', 'IsBaoYang': 'True', 'CarName': 'RAV4', 'appSrc': None, 'Image': 'https://img3.tuhu.org/Images/type/VE-TOYO07AB.png@100Q.png', 'ImageUrl': 'https://img3.tuhu.org/Images/Logo/FengTian.png', 'Tires': '235/60R16;225/65R17;215/70R16', 'SpecialTireSize': None, 'OriginalIsBaoyang': 1, 'Priority2': 1, 'Priority3': 13, 'VehicleSeries': None}\n",
      ">> F - 丰田 - VE-TOYO07AF - {'Vehicle': '海狮-丰田进口', 'ProductID': 'VE-TOYO07AF', 'BrandType': '丰田进口', 'Brand': 'F - 丰田', 'Url': '/Images/Logo/fengtian.png', 'Src': 'https://img4.tuhu.org/Images/type/VE-TOYO07AF.png@163w_163h_100Q.png', 'IsBaoYang': 'True', 'CarName': '海狮', 'appSrc': None, 'Image': 'https://img4.tuhu.org/Images/type/VE-TOYO07AF.png@100Q.png', 'ImageUrl': 'https://img3.tuhu.org/Images/Logo/FengTian.png', 'Tires': None, 'SpecialTireSize': '195R15C', 'OriginalIsBaoyang': 1, 'Priority2': 1, 'Priority3': 12, 'VehicleSeries': None}\n"
     ]
    },
    {
     "name": "stderr",
     "output_type": "stream",
     "text": [
      "Traceback (most recent call last):\n",
      "  File \"<ipython-input-74-a1bbc79ad05d>\", line 60, in <module>\n",
      "    for pailiang in load_pailiang(vid):\n",
      "  File \"<ipython-input-74-a1bbc79ad05d>\", line 11, in load_pailiang\n",
      "    return requests.get(url, headers=headers).json()['PaiLiang']\n",
      "  File \"/Users/laisky/.virtualenvs/37/lib/python3.7/site-packages/requests/models.py\", line 897, in json\n",
      "    return complexjson.loads(self.text, **kwargs)\n",
      "  File \"/Users/laisky/.virtualenvs/37/lib/python3.7/site-packages/simplejson/__init__.py\", line 518, in loads\n",
      "    return _default_decoder.decode(s)\n",
      "  File \"/Users/laisky/.virtualenvs/37/lib/python3.7/site-packages/simplejson/decoder.py\", line 370, in decode\n",
      "    obj, end = self.raw_decode(s)\n",
      "  File \"/Users/laisky/.virtualenvs/37/lib/python3.7/site-packages/simplejson/decoder.py\", line 400, in raw_decode\n",
      "    return self.scan_once(s, idx=_w(s, idx).end())\n",
      "simplejson.errors.JSONDecodeError: Expecting value: line 1 column 1 (char 0)\n",
      "Traceback (most recent call last):\n",
      "  File \"<ipython-input-74-a1bbc79ad05d>\", line 60, in <module>\n",
      "    for pailiang in load_pailiang(vid):\n",
      "  File \"<ipython-input-74-a1bbc79ad05d>\", line 11, in load_pailiang\n",
      "    return requests.get(url, headers=headers).json()['PaiLiang']\n",
      "  File \"/Users/laisky/.virtualenvs/37/lib/python3.7/site-packages/requests/models.py\", line 897, in json\n",
      "    return complexjson.loads(self.text, **kwargs)\n",
      "  File \"/Users/laisky/.virtualenvs/37/lib/python3.7/site-packages/simplejson/__init__.py\", line 518, in loads\n",
      "    return _default_decoder.decode(s)\n",
      "  File \"/Users/laisky/.virtualenvs/37/lib/python3.7/site-packages/simplejson/decoder.py\", line 370, in decode\n",
      "    obj, end = self.raw_decode(s)\n",
      "  File \"/Users/laisky/.virtualenvs/37/lib/python3.7/site-packages/simplejson/decoder.py\", line 400, in raw_decode\n",
      "    return self.scan_once(s, idx=_w(s, idx).end())\n",
      "simplejson.errors.JSONDecodeError: Expecting value: line 1 column 1 (char 0)\n"
     ]
    },
    {
     "name": "stdout",
     "output_type": "stream",
     "text": [
      ">> F - 丰田 - VE-TOYO06AB - {'Vehicle': '佳美-丰田进口', 'ProductID': 'VE-TOYO06AB', 'BrandType': '丰田进口', 'Brand': 'F - 丰田', 'Url': '/Images/Logo/fengtian.png', 'Src': 'https://img3.tuhu.org/Images/type/VE-TOYO06AB.png@163w_163h_100Q.png', 'IsBaoYang': 'True', 'CarName': '佳美', 'appSrc': None, 'Image': 'https://img3.tuhu.org/Images/type/VE-TOYO06AB.png@100Q.png', 'ImageUrl': 'https://img3.tuhu.org/Images/Logo/FengTian.png', 'Tires': '215/60R16;205/65R15;215/55R17;215/65R16', 'SpecialTireSize': None, 'OriginalIsBaoyang': 1, 'Priority2': 1, 'Priority3': 11, 'VehicleSeries': None}\n",
      ">> F - 丰田 - VE-FJTSLDJTJK - {'Vehicle': '普拉多-丰田进口', 'ProductID': 'VE-FJTSLDJTJK', 'BrandType': '丰田进口', 'Brand': 'F - 丰田', 'Url': '/Images/Logo/fengtian.png', 'Src': 'https://img3.tuhu.org/Images/type/VE-FJTSLDJTJK.png@163w_163h_100Q.png', 'IsBaoYang': 'True', 'CarName': '普拉多', 'appSrc': None, 'Image': 'https://img3.tuhu.org/Images/type/VE-FJTSLDJTJK.png@100Q.png', 'ImageUrl': 'https://img3.tuhu.org/Images/Logo/FengTian.png', 'Tires': '265/65R17', 'SpecialTireSize': None, 'OriginalIsBaoyang': 1, 'Priority2': 1, 'Priority3': 10, 'VehicleSeries': None}\n"
     ]
    },
    {
     "name": "stderr",
     "output_type": "stream",
     "text": [
      "Traceback (most recent call last):\n",
      "  File \"<ipython-input-74-a1bbc79ad05d>\", line 60, in <module>\n",
      "    for pailiang in load_pailiang(vid):\n",
      "  File \"<ipython-input-74-a1bbc79ad05d>\", line 11, in load_pailiang\n",
      "    return requests.get(url, headers=headers).json()['PaiLiang']\n",
      "  File \"/Users/laisky/.virtualenvs/37/lib/python3.7/site-packages/requests/models.py\", line 897, in json\n",
      "    return complexjson.loads(self.text, **kwargs)\n",
      "  File \"/Users/laisky/.virtualenvs/37/lib/python3.7/site-packages/simplejson/__init__.py\", line 518, in loads\n",
      "    return _default_decoder.decode(s)\n",
      "  File \"/Users/laisky/.virtualenvs/37/lib/python3.7/site-packages/simplejson/decoder.py\", line 370, in decode\n",
      "    obj, end = self.raw_decode(s)\n",
      "  File \"/Users/laisky/.virtualenvs/37/lib/python3.7/site-packages/simplejson/decoder.py\", line 400, in raw_decode\n",
      "    return self.scan_once(s, idx=_w(s, idx).end())\n",
      "simplejson.errors.JSONDecodeError: Expecting value: line 1 column 1 (char 0)\n",
      "Traceback (most recent call last):\n",
      "  File \"<ipython-input-74-a1bbc79ad05d>\", line 60, in <module>\n",
      "    for pailiang in load_pailiang(vid):\n",
      "  File \"<ipython-input-74-a1bbc79ad05d>\", line 11, in load_pailiang\n",
      "    return requests.get(url, headers=headers).json()['PaiLiang']\n",
      "  File \"/Users/laisky/.virtualenvs/37/lib/python3.7/site-packages/requests/models.py\", line 897, in json\n",
      "    return complexjson.loads(self.text, **kwargs)\n",
      "  File \"/Users/laisky/.virtualenvs/37/lib/python3.7/site-packages/simplejson/__init__.py\", line 518, in loads\n",
      "    return _default_decoder.decode(s)\n",
      "  File \"/Users/laisky/.virtualenvs/37/lib/python3.7/site-packages/simplejson/decoder.py\", line 370, in decode\n",
      "    obj, end = self.raw_decode(s)\n",
      "  File \"/Users/laisky/.virtualenvs/37/lib/python3.7/site-packages/simplejson/decoder.py\", line 400, in raw_decode\n",
      "    return self.scan_once(s, idx=_w(s, idx).end())\n",
      "simplejson.errors.JSONDecodeError: Expecting value: line 1 column 1 (char 0)\n"
     ]
    },
    {
     "name": "stdout",
     "output_type": "stream",
     "text": [
      ">> F - 丰田 - VE-TOYO07AD - {'Vehicle': '普瑞维亚(大霸王)-丰田进口', 'ProductID': 'VE-TOYO07AD', 'BrandType': '丰田进口', 'Brand': 'F - 丰田', 'Url': '/Images/Logo/fengtian.png', 'Src': 'https://img4.tuhu.org/Images/type/VE-TOYO07AD.png@163w_163h_100Q.png', 'IsBaoYang': 'True', 'CarName': '普瑞维亚(大霸王)', 'appSrc': None, 'Image': 'https://img4.tuhu.org/Images/type/VE-TOYO07AD.png@100Q.png', 'ImageUrl': 'https://img3.tuhu.org/Images/Logo/FengTian.png', 'Tires': '215/55R17;215/60R16;205/65R16', 'SpecialTireSize': None, 'OriginalIsBaoyang': 1, 'Priority2': 1, 'Priority3': 9, 'VehicleSeries': None}\n",
      ">> F - 丰田 - VE-TOYLFIRXWS - {'Vehicle': '威飒-丰田进口', 'ProductID': 'VE-TOYLFIRXWS', 'BrandType': '丰田进口', 'Brand': 'F - 丰田', 'Url': '/Images/Logo/fengtian.png', 'Src': 'https://img4.tuhu.org/Images/type/VE-TOYLFIRXWS.png@163w_163h_100Q.png', 'IsBaoYang': 'True', 'CarName': '威飒', 'appSrc': None, 'Image': 'https://img4.tuhu.org/Images/type/VE-TOYLFIRXWS.png@100Q.png', 'ImageUrl': 'https://img3.tuhu.org/Images/Logo/FengTian.png', 'Tires': '245/55R19', 'SpecialTireSize': None, 'OriginalIsBaoyang': 1, 'Priority2': 1, 'Priority3': 8, 'VehicleSeries': None}\n"
     ]
    },
    {
     "name": "stderr",
     "output_type": "stream",
     "text": [
      "Traceback (most recent call last):\n",
      "  File \"<ipython-input-74-a1bbc79ad05d>\", line 60, in <module>\n",
      "    for pailiang in load_pailiang(vid):\n",
      "  File \"<ipython-input-74-a1bbc79ad05d>\", line 11, in load_pailiang\n",
      "    return requests.get(url, headers=headers).json()['PaiLiang']\n",
      "  File \"/Users/laisky/.virtualenvs/37/lib/python3.7/site-packages/requests/models.py\", line 897, in json\n",
      "    return complexjson.loads(self.text, **kwargs)\n",
      "  File \"/Users/laisky/.virtualenvs/37/lib/python3.7/site-packages/simplejson/__init__.py\", line 518, in loads\n",
      "    return _default_decoder.decode(s)\n",
      "  File \"/Users/laisky/.virtualenvs/37/lib/python3.7/site-packages/simplejson/decoder.py\", line 370, in decode\n",
      "    obj, end = self.raw_decode(s)\n",
      "  File \"/Users/laisky/.virtualenvs/37/lib/python3.7/site-packages/simplejson/decoder.py\", line 400, in raw_decode\n",
      "    return self.scan_once(s, idx=_w(s, idx).end())\n",
      "simplejson.errors.JSONDecodeError: Expecting value: line 1 column 1 (char 0)\n",
      "Traceback (most recent call last):\n",
      "  File \"<ipython-input-74-a1bbc79ad05d>\", line 60, in <module>\n",
      "    for pailiang in load_pailiang(vid):\n",
      "  File \"<ipython-input-74-a1bbc79ad05d>\", line 11, in load_pailiang\n",
      "    return requests.get(url, headers=headers).json()['PaiLiang']\n",
      "  File \"/Users/laisky/.virtualenvs/37/lib/python3.7/site-packages/requests/models.py\", line 897, in json\n",
      "    return complexjson.loads(self.text, **kwargs)\n",
      "  File \"/Users/laisky/.virtualenvs/37/lib/python3.7/site-packages/simplejson/__init__.py\", line 518, in loads\n",
      "    return _default_decoder.decode(s)\n",
      "  File \"/Users/laisky/.virtualenvs/37/lib/python3.7/site-packages/simplejson/decoder.py\", line 370, in decode\n",
      "    obj, end = self.raw_decode(s)\n",
      "  File \"/Users/laisky/.virtualenvs/37/lib/python3.7/site-packages/simplejson/decoder.py\", line 400, in raw_decode\n",
      "    return self.scan_once(s, idx=_w(s, idx).end())\n",
      "simplejson.errors.JSONDecodeError: Expecting value: line 1 column 1 (char 0)\n"
     ]
    },
    {
     "name": "stdout",
     "output_type": "stream",
     "text": [
      ">> F - 丰田 - VE-TOYLFIRAEF - {'Vehicle': '埃尔法-丰田进口', 'ProductID': 'VE-TOYLFIRAEF', 'BrandType': '丰田进口', 'Brand': 'F - 丰田', 'Url': '/Images/Logo/fengtian.png', 'Src': 'https://img4.tuhu.org/Images/type/VE-TOYLFIRAEF.png@163w_163h_100Q.png', 'IsBaoYang': 'True', 'CarName': '埃尔法', 'appSrc': None, 'Image': 'https://img4.tuhu.org/Images/type/VE-TOYLFIRAEF.png@100Q.png', 'ImageUrl': 'https://img3.tuhu.org/Images/Logo/FengTian.png', 'Tires': '235/50R18;215/65R16;225/60R17', 'SpecialTireSize': None, 'OriginalIsBaoyang': 1, 'Priority2': 1, 'Priority3': 7, 'VehicleSeries': None}\n",
      ">> F - 丰田 - VE-TOYLFIRJLC - {'Vehicle': '杰路驰-丰田进口', 'ProductID': 'VE-TOYLFIRJLC', 'BrandType': '丰田进口', 'Brand': 'F - 丰田', 'Url': '/Images/Logo/fengtian.png', 'Src': 'https://img3.tuhu.org/Images/type/VE-TOYLFIRJLC.png@163w_163h_100Q.png', 'IsBaoYang': 'True', 'CarName': '杰路驰', 'appSrc': None, 'Image': 'https://img3.tuhu.org/Images/type/VE-TOYLFIRJLC.png@100Q.png', 'ImageUrl': 'https://img3.tuhu.org/Images/Logo/FengTian.png', 'Tires': '205/55R16', 'SpecialTireSize': None, 'OriginalIsBaoyang': 1, 'Priority2': 1, 'Priority3': 6, 'VehicleSeries': None}\n"
     ]
    },
    {
     "name": "stderr",
     "output_type": "stream",
     "text": [
      "Traceback (most recent call last):\n",
      "  File \"<ipython-input-74-a1bbc79ad05d>\", line 60, in <module>\n",
      "    for pailiang in load_pailiang(vid):\n",
      "  File \"<ipython-input-74-a1bbc79ad05d>\", line 11, in load_pailiang\n",
      "    return requests.get(url, headers=headers).json()['PaiLiang']\n",
      "  File \"/Users/laisky/.virtualenvs/37/lib/python3.7/site-packages/requests/models.py\", line 897, in json\n",
      "    return complexjson.loads(self.text, **kwargs)\n",
      "  File \"/Users/laisky/.virtualenvs/37/lib/python3.7/site-packages/simplejson/__init__.py\", line 518, in loads\n",
      "    return _default_decoder.decode(s)\n",
      "  File \"/Users/laisky/.virtualenvs/37/lib/python3.7/site-packages/simplejson/decoder.py\", line 370, in decode\n",
      "    obj, end = self.raw_decode(s)\n",
      "  File \"/Users/laisky/.virtualenvs/37/lib/python3.7/site-packages/simplejson/decoder.py\", line 400, in raw_decode\n",
      "    return self.scan_once(s, idx=_w(s, idx).end())\n",
      "simplejson.errors.JSONDecodeError: Expecting value: line 1 column 1 (char 0)\n",
      "Traceback (most recent call last):\n",
      "  File \"<ipython-input-74-a1bbc79ad05d>\", line 60, in <module>\n",
      "    for pailiang in load_pailiang(vid):\n",
      "  File \"<ipython-input-74-a1bbc79ad05d>\", line 11, in load_pailiang\n",
      "    return requests.get(url, headers=headers).json()['PaiLiang']\n",
      "  File \"/Users/laisky/.virtualenvs/37/lib/python3.7/site-packages/requests/models.py\", line 897, in json\n",
      "    return complexjson.loads(self.text, **kwargs)\n",
      "  File \"/Users/laisky/.virtualenvs/37/lib/python3.7/site-packages/simplejson/__init__.py\", line 518, in loads\n",
      "    return _default_decoder.decode(s)\n",
      "  File \"/Users/laisky/.virtualenvs/37/lib/python3.7/site-packages/simplejson/decoder.py\", line 370, in decode\n",
      "    obj, end = self.raw_decode(s)\n",
      "  File \"/Users/laisky/.virtualenvs/37/lib/python3.7/site-packages/simplejson/decoder.py\", line 400, in raw_decode\n",
      "    return self.scan_once(s, idx=_w(s, idx).end())\n",
      "simplejson.errors.JSONDecodeError: Expecting value: line 1 column 1 (char 0)\n"
     ]
    },
    {
     "name": "stdout",
     "output_type": "stream",
     "text": [
      ">> F - 丰田 - VE-TOYLFIRXBW - {'Vehicle': '小霸王-丰田进口', 'ProductID': 'VE-TOYLFIRXBW', 'BrandType': '丰田进口', 'Brand': 'F - 丰田', 'Url': '/Images/Logo/fengtian.png', 'Src': 'https://img3.tuhu.org/Images/type/VE-TOYLFIRXBW.png@163w_163h_100Q.png', 'IsBaoYang': 'True', 'CarName': '小霸王', 'appSrc': None, 'Image': 'https://img3.tuhu.org/Images/type/VE-TOYLFIRXBW.png@100Q.png', 'ImageUrl': 'https://img3.tuhu.org/Images/Logo/FengTian.png', 'Tires': '195/60R16', 'SpecialTireSize': None, 'OriginalIsBaoyang': 1, 'Priority2': 1, 'Priority3': 5, 'VehicleSeries': None}\n",
      ">> F - 丰田 - VE-TOYOHLANDER - {'Vehicle': '汉兰达-丰田进口', 'ProductID': 'VE-TOYOHLANDER', 'BrandType': '丰田进口', 'Brand': 'F - 丰田', 'Url': '/Images/Logo/fengtian.png', 'Src': 'https://img3.tuhu.org/Images/type/VE-TOYOHLANDER.png@163w_163h_100Q.png', 'IsBaoYang': 'True', 'CarName': '汉兰达', 'appSrc': None, 'Image': 'https://img3.tuhu.org/Images/type/VE-TOYOHLANDER.png@100Q.png', 'ImageUrl': 'https://img3.tuhu.org/Images/Logo/FengTian.png', 'Tires': '245/55R19;225/70R16;245/65R17;245/60R18', 'SpecialTireSize': None, 'OriginalIsBaoyang': 1, 'Priority2': 1, 'Priority3': 4, 'VehicleSeries': None}\n"
     ]
    },
    {
     "name": "stderr",
     "output_type": "stream",
     "text": [
      "Traceback (most recent call last):\n",
      "  File \"<ipython-input-74-a1bbc79ad05d>\", line 60, in <module>\n",
      "    for pailiang in load_pailiang(vid):\n",
      "  File \"<ipython-input-74-a1bbc79ad05d>\", line 11, in load_pailiang\n",
      "    return requests.get(url, headers=headers).json()['PaiLiang']\n",
      "  File \"/Users/laisky/.virtualenvs/37/lib/python3.7/site-packages/requests/models.py\", line 897, in json\n",
      "    return complexjson.loads(self.text, **kwargs)\n",
      "  File \"/Users/laisky/.virtualenvs/37/lib/python3.7/site-packages/simplejson/__init__.py\", line 518, in loads\n",
      "    return _default_decoder.decode(s)\n",
      "  File \"/Users/laisky/.virtualenvs/37/lib/python3.7/site-packages/simplejson/decoder.py\", line 370, in decode\n",
      "    obj, end = self.raw_decode(s)\n",
      "  File \"/Users/laisky/.virtualenvs/37/lib/python3.7/site-packages/simplejson/decoder.py\", line 400, in raw_decode\n",
      "    return self.scan_once(s, idx=_w(s, idx).end())\n",
      "simplejson.errors.JSONDecodeError: Expecting value: line 1 column 1 (char 0)\n",
      "Traceback (most recent call last):\n",
      "  File \"<ipython-input-74-a1bbc79ad05d>\", line 60, in <module>\n",
      "    for pailiang in load_pailiang(vid):\n",
      "  File \"<ipython-input-74-a1bbc79ad05d>\", line 11, in load_pailiang\n",
      "    return requests.get(url, headers=headers).json()['PaiLiang']\n",
      "  File \"/Users/laisky/.virtualenvs/37/lib/python3.7/site-packages/requests/models.py\", line 897, in json\n",
      "    return complexjson.loads(self.text, **kwargs)\n",
      "  File \"/Users/laisky/.virtualenvs/37/lib/python3.7/site-packages/simplejson/__init__.py\", line 518, in loads\n",
      "    return _default_decoder.decode(s)\n",
      "  File \"/Users/laisky/.virtualenvs/37/lib/python3.7/site-packages/simplejson/decoder.py\", line 370, in decode\n",
      "    obj, end = self.raw_decode(s)\n",
      "  File \"/Users/laisky/.virtualenvs/37/lib/python3.7/site-packages/simplejson/decoder.py\", line 400, in raw_decode\n",
      "    return self.scan_once(s, idx=_w(s, idx).end())\n",
      "simplejson.errors.JSONDecodeError: Expecting value: line 1 column 1 (char 0)\n"
     ]
    },
    {
     "name": "stdout",
     "output_type": "stream",
     "text": [
      ">> F - 丰田 - VE-TOYOLCRUSER - {'Vehicle': '兰德酷路泽-丰田进口', 'ProductID': 'VE-TOYOLCRUSER', 'BrandType': '丰田进口', 'Brand': 'F - 丰田', 'Url': '/Images/Logo/fengtian.png', 'Src': 'https://img3.tuhu.org/Images/type/VE-TOYOLCRUSER.png@163w_163h_100Q.png', 'IsBaoYang': 'True', 'CarName': '兰德酷路泽', 'appSrc': None, 'Image': 'https://img3.tuhu.org/Images/type/VE-TOYOLCRUSER.png@100Q.png', 'ImageUrl': 'https://img3.tuhu.org/Images/Logo/FengTian.png', 'Tires': '285/65R17;285/60R18;275/65R17;245/75R17', 'SpecialTireSize': None, 'OriginalIsBaoyang': 1, 'Priority2': 1, 'Priority3': 3, 'VehicleSeries': None}\n",
      ">> F - 丰田 - VE-vellfire - {'Vehicle': '威尔法-丰田进口', 'ProductID': 'VE-vellfire', 'BrandType': '丰田进口', 'Brand': 'F - 丰田', 'Url': '/Images/Logo/fengtian.png', 'Src': 'https://img3.tuhu.org/Images/type/VE-vellfire.png@163w_163h_100Q.png', 'IsBaoYang': 'True', 'CarName': '威尔法', 'appSrc': None, 'Image': 'https://img3.tuhu.org/Images/type/VE-vellfire.png@100Q.png', 'ImageUrl': 'https://img3.tuhu.org/Images/Logo/FengTian.png', 'Tires': '225/60R17', 'SpecialTireSize': None, 'OriginalIsBaoyang': 1, 'Priority2': 1, 'Priority3': 2, 'VehicleSeries': None}\n"
     ]
    },
    {
     "name": "stderr",
     "output_type": "stream",
     "text": [
      "Traceback (most recent call last):\n",
      "  File \"<ipython-input-74-a1bbc79ad05d>\", line 60, in <module>\n",
      "    for pailiang in load_pailiang(vid):\n",
      "  File \"<ipython-input-74-a1bbc79ad05d>\", line 11, in load_pailiang\n",
      "    return requests.get(url, headers=headers).json()['PaiLiang']\n",
      "  File \"/Users/laisky/.virtualenvs/37/lib/python3.7/site-packages/requests/models.py\", line 897, in json\n",
      "    return complexjson.loads(self.text, **kwargs)\n",
      "  File \"/Users/laisky/.virtualenvs/37/lib/python3.7/site-packages/simplejson/__init__.py\", line 518, in loads\n",
      "    return _default_decoder.decode(s)\n",
      "  File \"/Users/laisky/.virtualenvs/37/lib/python3.7/site-packages/simplejson/decoder.py\", line 370, in decode\n",
      "    obj, end = self.raw_decode(s)\n",
      "  File \"/Users/laisky/.virtualenvs/37/lib/python3.7/site-packages/simplejson/decoder.py\", line 400, in raw_decode\n",
      "    return self.scan_once(s, idx=_w(s, idx).end())\n",
      "simplejson.errors.JSONDecodeError: Expecting value: line 1 column 1 (char 0)\n",
      "Traceback (most recent call last):\n",
      "  File \"<ipython-input-74-a1bbc79ad05d>\", line 60, in <module>\n",
      "    for pailiang in load_pailiang(vid):\n",
      "  File \"<ipython-input-74-a1bbc79ad05d>\", line 11, in load_pailiang\n",
      "    return requests.get(url, headers=headers).json()['PaiLiang']\n",
      "  File \"/Users/laisky/.virtualenvs/37/lib/python3.7/site-packages/requests/models.py\", line 897, in json\n",
      "    return complexjson.loads(self.text, **kwargs)\n",
      "  File \"/Users/laisky/.virtualenvs/37/lib/python3.7/site-packages/simplejson/__init__.py\", line 518, in loads\n",
      "    return _default_decoder.decode(s)\n",
      "  File \"/Users/laisky/.virtualenvs/37/lib/python3.7/site-packages/simplejson/decoder.py\", line 370, in decode\n",
      "    obj, end = self.raw_decode(s)\n",
      "  File \"/Users/laisky/.virtualenvs/37/lib/python3.7/site-packages/simplejson/decoder.py\", line 400, in raw_decode\n",
      "    return self.scan_once(s, idx=_w(s, idx).end())\n",
      "simplejson.errors.JSONDecodeError: Expecting value: line 1 column 1 (char 0)\n"
     ]
    },
    {
     "name": "stdout",
     "output_type": "stream",
     "text": [
      ">> F - 丰田 - VE-5TD-Sienna - {'Vehicle': '塞纳-丰田进口', 'ProductID': 'VE-5TD-Sienna', 'BrandType': '丰田进口', 'Brand': 'F - 丰田', 'Url': '/Images/Logo/fengtian.png', 'Src': 'https://img3.tuhu.org/Images/type/VE-5TD-Sienna.png@163w_163h_100Q.png', 'IsBaoYang': 'True', 'CarName': '塞纳', 'appSrc': None, 'Image': 'https://img3.tuhu.org/Images/type/VE-5TD-Sienna.png@100Q.png', 'ImageUrl': 'https://img3.tuhu.org/Images/Logo/FengTian.png', 'Tires': '225/60R17;235/60R17', 'SpecialTireSize': None, 'OriginalIsBaoyang': 1, 'Priority2': 1, 'Priority3': 1, 'VehicleSeries': None}\n",
      "F - 福迪 done\n",
      ">> F - 福迪 - VE-FUDI05AC - {'Vehicle': '探索者I-福迪汽车', 'ProductID': 'VE-FUDI05AC', 'BrandType': '福迪汽车', 'Brand': 'F - 福迪', 'Url': '/Images/Logo/fudi.png', 'Src': 'https://img3.tuhu.org/Images/type/VE-FUDI05AC.png@163w_163h_100Q.png', 'IsBaoYang': 'True', 'CarName': '探索者I', 'appSrc': None, 'Image': 'https://img3.tuhu.org/Images/type/VE-FUDI05AC.png@100Q.png', 'ImageUrl': 'https://img3.tuhu.org/Images/Logo/FuDi.png', 'Tires': '235/75R15', 'SpecialTireSize': None, 'OriginalIsBaoyang': 1, 'Priority2': 1, 'Priority3': 10, 'VehicleSeries': None}\n"
     ]
    },
    {
     "name": "stderr",
     "output_type": "stream",
     "text": [
      "Traceback (most recent call last):\n",
      "  File \"<ipython-input-74-a1bbc79ad05d>\", line 60, in <module>\n",
      "    for pailiang in load_pailiang(vid):\n",
      "  File \"<ipython-input-74-a1bbc79ad05d>\", line 11, in load_pailiang\n",
      "    return requests.get(url, headers=headers).json()['PaiLiang']\n",
      "  File \"/Users/laisky/.virtualenvs/37/lib/python3.7/site-packages/requests/models.py\", line 897, in json\n",
      "    return complexjson.loads(self.text, **kwargs)\n",
      "  File \"/Users/laisky/.virtualenvs/37/lib/python3.7/site-packages/simplejson/__init__.py\", line 518, in loads\n",
      "    return _default_decoder.decode(s)\n",
      "  File \"/Users/laisky/.virtualenvs/37/lib/python3.7/site-packages/simplejson/decoder.py\", line 370, in decode\n",
      "    obj, end = self.raw_decode(s)\n",
      "  File \"/Users/laisky/.virtualenvs/37/lib/python3.7/site-packages/simplejson/decoder.py\", line 400, in raw_decode\n",
      "    return self.scan_once(s, idx=_w(s, idx).end())\n",
      "simplejson.errors.JSONDecodeError: Expecting value: line 1 column 1 (char 0)\n",
      "Traceback (most recent call last):\n",
      "  File \"<ipython-input-74-a1bbc79ad05d>\", line 60, in <module>\n",
      "    for pailiang in load_pailiang(vid):\n",
      "  File \"<ipython-input-74-a1bbc79ad05d>\", line 11, in load_pailiang\n",
      "    return requests.get(url, headers=headers).json()['PaiLiang']\n",
      "  File \"/Users/laisky/.virtualenvs/37/lib/python3.7/site-packages/requests/models.py\", line 897, in json\n",
      "    return complexjson.loads(self.text, **kwargs)\n",
      "  File \"/Users/laisky/.virtualenvs/37/lib/python3.7/site-packages/simplejson/__init__.py\", line 518, in loads\n",
      "    return _default_decoder.decode(s)\n",
      "  File \"/Users/laisky/.virtualenvs/37/lib/python3.7/site-packages/simplejson/decoder.py\", line 370, in decode\n",
      "    obj, end = self.raw_decode(s)\n",
      "  File \"/Users/laisky/.virtualenvs/37/lib/python3.7/site-packages/simplejson/decoder.py\", line 400, in raw_decode\n",
      "    return self.scan_once(s, idx=_w(s, idx).end())\n",
      "simplejson.errors.JSONDecodeError: Expecting value: line 1 column 1 (char 0)\n"
     ]
    },
    {
     "name": "stdout",
     "output_type": "stream",
     "text": [
      ">> F - 福迪 - VE-FUDI06AC - {'Vehicle': '探索者Ⅱ-福迪汽车', 'ProductID': 'VE-FUDI06AC', 'BrandType': '福迪汽车', 'Brand': 'F - 福迪', 'Url': '/Images/Logo/fudi.png', 'Src': 'https://img3.tuhu.org/Images/type/VE-FUDI06AC.png@163w_163h_100Q.png', 'IsBaoYang': 'True', 'CarName': '探索者Ⅱ', 'appSrc': None, 'Image': 'https://img3.tuhu.org/Images/type/VE-FUDI06AC.png@100Q.png', 'ImageUrl': 'https://img3.tuhu.org/Images/Logo/FuDi.png', 'Tires': '235/75R15', 'SpecialTireSize': None, 'OriginalIsBaoyang': 1, 'Priority2': 1, 'Priority3': 9, 'VehicleSeries': None}\n",
      ">> F - 福迪 - VE-FUDI07AH - {'Vehicle': '探索者Ⅲ-福迪汽车', 'ProductID': 'VE-FUDI07AH', 'BrandType': '福迪汽车', 'Brand': 'F - 福迪', 'Url': '/Images/Logo/fudi.png', 'Src': 'https://img3.tuhu.org/Images/type/VE-FUDI07AH.png@163w_163h_100Q.png', 'IsBaoYang': 'True', 'CarName': '探索者Ⅲ', 'appSrc': None, 'Image': 'https://img3.tuhu.org/Images/type/VE-FUDI07AH.png@100Q.png', 'ImageUrl': 'https://img3.tuhu.org/Images/Logo/FuDi.png', 'Tires': '235/75R15;215/75R15;235/70R16', 'SpecialTireSize': None, 'OriginalIsBaoyang': 1, 'Priority2': 1, 'Priority3': 8, 'VehicleSeries': None}\n"
     ]
    },
    {
     "name": "stderr",
     "output_type": "stream",
     "text": [
      "Traceback (most recent call last):\n",
      "  File \"<ipython-input-74-a1bbc79ad05d>\", line 60, in <module>\n",
      "    for pailiang in load_pailiang(vid):\n",
      "  File \"<ipython-input-74-a1bbc79ad05d>\", line 11, in load_pailiang\n",
      "    return requests.get(url, headers=headers).json()['PaiLiang']\n",
      "  File \"/Users/laisky/.virtualenvs/37/lib/python3.7/site-packages/requests/models.py\", line 897, in json\n",
      "    return complexjson.loads(self.text, **kwargs)\n",
      "  File \"/Users/laisky/.virtualenvs/37/lib/python3.7/site-packages/simplejson/__init__.py\", line 518, in loads\n",
      "    return _default_decoder.decode(s)\n",
      "  File \"/Users/laisky/.virtualenvs/37/lib/python3.7/site-packages/simplejson/decoder.py\", line 370, in decode\n",
      "    obj, end = self.raw_decode(s)\n",
      "  File \"/Users/laisky/.virtualenvs/37/lib/python3.7/site-packages/simplejson/decoder.py\", line 400, in raw_decode\n",
      "    return self.scan_once(s, idx=_w(s, idx).end())\n",
      "simplejson.errors.JSONDecodeError: Expecting value: line 1 column 1 (char 0)\n",
      "Traceback (most recent call last):\n",
      "  File \"<ipython-input-74-a1bbc79ad05d>\", line 60, in <module>\n",
      "    for pailiang in load_pailiang(vid):\n",
      "  File \"<ipython-input-74-a1bbc79ad05d>\", line 11, in load_pailiang\n",
      "    return requests.get(url, headers=headers).json()['PaiLiang']\n",
      "  File \"/Users/laisky/.virtualenvs/37/lib/python3.7/site-packages/requests/models.py\", line 897, in json\n",
      "    return complexjson.loads(self.text, **kwargs)\n",
      "  File \"/Users/laisky/.virtualenvs/37/lib/python3.7/site-packages/simplejson/__init__.py\", line 518, in loads\n",
      "    return _default_decoder.decode(s)\n",
      "  File \"/Users/laisky/.virtualenvs/37/lib/python3.7/site-packages/simplejson/decoder.py\", line 370, in decode\n",
      "    obj, end = self.raw_decode(s)\n",
      "  File \"/Users/laisky/.virtualenvs/37/lib/python3.7/site-packages/simplejson/decoder.py\", line 400, in raw_decode\n",
      "    return self.scan_once(s, idx=_w(s, idx).end())\n",
      "simplejson.errors.JSONDecodeError: Expecting value: line 1 column 1 (char 0)\n"
     ]
    },
    {
     "name": "stdout",
     "output_type": "stream",
     "text": [
      ">> F - 福迪 - VE-FUDLFIRXCT - {'Vehicle': '探索者6-福迪汽车', 'ProductID': 'VE-FUDLFIRXCT', 'BrandType': '福迪汽车', 'Brand': 'F - 福迪', 'Url': '/Images/Logo/fudi.png', 'Src': 'https://img4.tuhu.org/Images/type/VE-FUDLFIRXCT.png@163w_163h_100Q.png', 'IsBaoYang': 'True', 'CarName': '探索者6', 'appSrc': None, 'Image': 'https://img4.tuhu.org/Images/type/VE-FUDLFIRXCT.png@100Q.png', 'ImageUrl': 'https://img3.tuhu.org/Images/Logo/FuDi.png', 'Tires': '235/75R16;245/70R17', 'SpecialTireSize': None, 'OriginalIsBaoyang': 1, 'Priority2': 1, 'Priority3': 7, 'VehicleSeries': None}\n",
      ">> F - 福迪 - VE-FUDLFIRXXS - {'Vehicle': '雄狮-福迪汽车', 'ProductID': 'VE-FUDLFIRXXS', 'BrandType': '福迪汽车', 'Brand': 'F - 福迪', 'Url': '/Images/Logo/fudi.png', 'Src': 'https://img3.tuhu.org/Images/type/VE-FUDLFIRXXS.png@163w_163h_100Q.png', 'IsBaoYang': 'True', 'CarName': '雄狮', 'appSrc': None, 'Image': 'https://img3.tuhu.org/Images/type/VE-FUDLFIRXXS.png@100Q.png', 'ImageUrl': 'https://img3.tuhu.org/Images/Logo/FuDi.png', 'Tires': '215/75R15;235/70R16', 'SpecialTireSize': None, 'OriginalIsBaoyang': 1, 'Priority2': 1, 'Priority3': 6, 'VehicleSeries': None}\n"
     ]
    },
    {
     "name": "stderr",
     "output_type": "stream",
     "text": [
      "Traceback (most recent call last):\n",
      "  File \"<ipython-input-74-a1bbc79ad05d>\", line 60, in <module>\n",
      "    for pailiang in load_pailiang(vid):\n",
      "  File \"<ipython-input-74-a1bbc79ad05d>\", line 11, in load_pailiang\n",
      "    return requests.get(url, headers=headers).json()['PaiLiang']\n",
      "  File \"/Users/laisky/.virtualenvs/37/lib/python3.7/site-packages/requests/models.py\", line 897, in json\n",
      "    return complexjson.loads(self.text, **kwargs)\n",
      "  File \"/Users/laisky/.virtualenvs/37/lib/python3.7/site-packages/simplejson/__init__.py\", line 518, in loads\n",
      "    return _default_decoder.decode(s)\n",
      "  File \"/Users/laisky/.virtualenvs/37/lib/python3.7/site-packages/simplejson/decoder.py\", line 370, in decode\n",
      "    obj, end = self.raw_decode(s)\n",
      "  File \"/Users/laisky/.virtualenvs/37/lib/python3.7/site-packages/simplejson/decoder.py\", line 400, in raw_decode\n",
      "    return self.scan_once(s, idx=_w(s, idx).end())\n",
      "simplejson.errors.JSONDecodeError: Expecting value: line 1 column 1 (char 0)\n",
      "Traceback (most recent call last):\n",
      "  File \"<ipython-input-74-a1bbc79ad05d>\", line 60, in <module>\n",
      "    for pailiang in load_pailiang(vid):\n",
      "  File \"<ipython-input-74-a1bbc79ad05d>\", line 11, in load_pailiang\n",
      "    return requests.get(url, headers=headers).json()['PaiLiang']\n",
      "  File \"/Users/laisky/.virtualenvs/37/lib/python3.7/site-packages/requests/models.py\", line 897, in json\n",
      "    return complexjson.loads(self.text, **kwargs)\n",
      "  File \"/Users/laisky/.virtualenvs/37/lib/python3.7/site-packages/simplejson/__init__.py\", line 518, in loads\n",
      "    return _default_decoder.decode(s)\n",
      "  File \"/Users/laisky/.virtualenvs/37/lib/python3.7/site-packages/simplejson/decoder.py\", line 370, in decode\n",
      "    obj, end = self.raw_decode(s)\n",
      "  File \"/Users/laisky/.virtualenvs/37/lib/python3.7/site-packages/simplejson/decoder.py\", line 400, in raw_decode\n",
      "    return self.scan_once(s, idx=_w(s, idx).end())\n",
      "simplejson.errors.JSONDecodeError: Expecting value: line 1 column 1 (char 0)\n"
     ]
    },
    {
     "name": "stdout",
     "output_type": "stream",
     "text": [
      ">> F - 福迪 - VE-FUDLFIRXXF - {'Vehicle': '雄狮F16-福迪汽车', 'ProductID': 'VE-FUDLFIRXXF', 'BrandType': '福迪汽车', 'Brand': 'F - 福迪', 'Url': '/Images/Logo/fudi.png', 'Src': 'https://img3.tuhu.org/Images/type/VE-FUDLFIRXXF.png@163w_163h_100Q.png', 'IsBaoYang': 'True', 'CarName': '雄狮F16', 'appSrc': None, 'Image': 'https://img3.tuhu.org/Images/type/VE-FUDLFIRXXF.png@100Q.png', 'ImageUrl': 'https://img3.tuhu.org/Images/Logo/FuDi.png', 'Tires': '235/70R16;215/75R15', 'SpecialTireSize': None, 'OriginalIsBaoyang': 1, 'Priority2': 1, 'Priority3': 5, 'VehicleSeries': None}\n",
      ">> F - 福迪 - VE-FUDIXSHIF22 - {'Vehicle': '雄狮F22-福迪汽车', 'ProductID': 'VE-FUDIXSHIF22', 'BrandType': '福迪汽车', 'Brand': 'F - 福迪', 'Url': '/Images/Logo/fudi.png', 'Src': 'https://img3.tuhu.org/Images/type/VE-FUDIXSHIF22.png@163w_163h_100Q.png', 'IsBaoYang': 'True', 'CarName': '雄狮F22', 'appSrc': None, 'Image': 'https://img3.tuhu.org/Images/type/VE-FUDIXSHIF22.png@100Q.png', 'ImageUrl': 'https://img3.tuhu.org/Images/Logo/FuDi.png', 'Tires': '235/70R17;235/70R16;245/70R17', 'SpecialTireSize': None, 'OriginalIsBaoyang': 1, 'Priority2': 1, 'Priority3': 4, 'VehicleSeries': None}\n"
     ]
    },
    {
     "name": "stderr",
     "output_type": "stream",
     "text": [
      "Traceback (most recent call last):\n",
      "  File \"<ipython-input-74-a1bbc79ad05d>\", line 60, in <module>\n",
      "    for pailiang in load_pailiang(vid):\n",
      "  File \"<ipython-input-74-a1bbc79ad05d>\", line 11, in load_pailiang\n",
      "    return requests.get(url, headers=headers).json()['PaiLiang']\n",
      "  File \"/Users/laisky/.virtualenvs/37/lib/python3.7/site-packages/requests/models.py\", line 897, in json\n",
      "    return complexjson.loads(self.text, **kwargs)\n",
      "  File \"/Users/laisky/.virtualenvs/37/lib/python3.7/site-packages/simplejson/__init__.py\", line 518, in loads\n",
      "    return _default_decoder.decode(s)\n",
      "  File \"/Users/laisky/.virtualenvs/37/lib/python3.7/site-packages/simplejson/decoder.py\", line 370, in decode\n",
      "    obj, end = self.raw_decode(s)\n",
      "  File \"/Users/laisky/.virtualenvs/37/lib/python3.7/site-packages/simplejson/decoder.py\", line 400, in raw_decode\n",
      "    return self.scan_once(s, idx=_w(s, idx).end())\n",
      "simplejson.errors.JSONDecodeError: Expecting value: line 1 column 1 (char 0)\n",
      "Traceback (most recent call last):\n",
      "  File \"<ipython-input-74-a1bbc79ad05d>\", line 60, in <module>\n",
      "    for pailiang in load_pailiang(vid):\n",
      "  File \"<ipython-input-74-a1bbc79ad05d>\", line 11, in load_pailiang\n",
      "    return requests.get(url, headers=headers).json()['PaiLiang']\n",
      "  File \"/Users/laisky/.virtualenvs/37/lib/python3.7/site-packages/requests/models.py\", line 897, in json\n",
      "    return complexjson.loads(self.text, **kwargs)\n",
      "  File \"/Users/laisky/.virtualenvs/37/lib/python3.7/site-packages/simplejson/__init__.py\", line 518, in loads\n",
      "    return _default_decoder.decode(s)\n",
      "  File \"/Users/laisky/.virtualenvs/37/lib/python3.7/site-packages/simplejson/decoder.py\", line 370, in decode\n",
      "    obj, end = self.raw_decode(s)\n",
      "  File \"/Users/laisky/.virtualenvs/37/lib/python3.7/site-packages/simplejson/decoder.py\", line 400, in raw_decode\n",
      "    return self.scan_once(s, idx=_w(s, idx).end())\n",
      "simplejson.errors.JSONDecodeError: Expecting value: line 1 column 1 (char 0)\n"
     ]
    },
    {
     "name": "stdout",
     "output_type": "stream",
     "text": [
      ">> F - 福迪 - VE-FUDI07AD - {'Vehicle': '飞越-福迪汽车', 'ProductID': 'VE-FUDI07AD', 'BrandType': '福迪汽车', 'Brand': 'F - 福迪', 'Url': '/Images/Logo/fudi.png', 'Src': 'https://img3.tuhu.org/Images/type/VE-FUDI07AD.png@163w_163h_100Q.png', 'IsBaoYang': 'True', 'CarName': '飞越', 'appSrc': None, 'Image': 'https://img3.tuhu.org/Images/type/VE-FUDI07AD.png@100Q.png', 'ImageUrl': 'https://img3.tuhu.org/Images/Logo/FuDi.png', 'Tires': '235/75R15;215/75R15', 'SpecialTireSize': None, 'OriginalIsBaoyang': 1, 'Priority2': 1, 'Priority3': 3, 'VehicleSeries': None}\n",
      ">> F - 福迪 - VE-FUDLFIRXCR - {'Vehicle': '小超人-福迪汽车', 'ProductID': 'VE-FUDLFIRXCR', 'BrandType': '福迪汽车', 'Brand': 'F - 福迪', 'Url': '/Images/Logo/fudi.png', 'Src': 'https://img4.tuhu.org/Images/type/VE-FUDLFIRXCR.png@163w_163h_100Q.png', 'IsBaoYang': 'True', 'CarName': '小超人', 'appSrc': None, 'Image': 'https://img4.tuhu.org/Images/type/VE-FUDLFIRXCR.png@100Q.png', 'ImageUrl': 'https://img3.tuhu.org/Images/Logo/FuDi.png', 'Tires': '235/70R16;215/75R15', 'SpecialTireSize': None, 'OriginalIsBaoyang': 1, 'Priority2': 1, 'Priority3': 2, 'VehicleSeries': None}\n"
     ]
    },
    {
     "name": "stderr",
     "output_type": "stream",
     "text": [
      "Traceback (most recent call last):\n",
      "  File \"<ipython-input-74-a1bbc79ad05d>\", line 60, in <module>\n",
      "    for pailiang in load_pailiang(vid):\n",
      "  File \"<ipython-input-74-a1bbc79ad05d>\", line 11, in load_pailiang\n",
      "    return requests.get(url, headers=headers).json()['PaiLiang']\n",
      "  File \"/Users/laisky/.virtualenvs/37/lib/python3.7/site-packages/requests/models.py\", line 897, in json\n",
      "    return complexjson.loads(self.text, **kwargs)\n",
      "  File \"/Users/laisky/.virtualenvs/37/lib/python3.7/site-packages/simplejson/__init__.py\", line 518, in loads\n",
      "    return _default_decoder.decode(s)\n",
      "  File \"/Users/laisky/.virtualenvs/37/lib/python3.7/site-packages/simplejson/decoder.py\", line 370, in decode\n",
      "    obj, end = self.raw_decode(s)\n",
      "  File \"/Users/laisky/.virtualenvs/37/lib/python3.7/site-packages/simplejson/decoder.py\", line 400, in raw_decode\n",
      "    return self.scan_once(s, idx=_w(s, idx).end())\n",
      "simplejson.errors.JSONDecodeError: Expecting value: line 1 column 1 (char 0)\n",
      "Traceback (most recent call last):\n",
      "  File \"<ipython-input-74-a1bbc79ad05d>\", line 60, in <module>\n",
      "    for pailiang in load_pailiang(vid):\n",
      "  File \"<ipython-input-74-a1bbc79ad05d>\", line 11, in load_pailiang\n",
      "    return requests.get(url, headers=headers).json()['PaiLiang']\n",
      "  File \"/Users/laisky/.virtualenvs/37/lib/python3.7/site-packages/requests/models.py\", line 897, in json\n",
      "    return complexjson.loads(self.text, **kwargs)\n",
      "  File \"/Users/laisky/.virtualenvs/37/lib/python3.7/site-packages/simplejson/__init__.py\", line 518, in loads\n",
      "    return _default_decoder.decode(s)\n",
      "  File \"/Users/laisky/.virtualenvs/37/lib/python3.7/site-packages/simplejson/decoder.py\", line 370, in decode\n",
      "    obj, end = self.raw_decode(s)\n",
      "  File \"/Users/laisky/.virtualenvs/37/lib/python3.7/site-packages/simplejson/decoder.py\", line 400, in raw_decode\n",
      "    return self.scan_once(s, idx=_w(s, idx).end())\n",
      "simplejson.errors.JSONDecodeError: Expecting value: line 1 column 1 (char 0)\n"
     ]
    },
    {
     "name": "stdout",
     "output_type": "stream",
     "text": [
      ">> F - 福迪 - VE-FUDILANFU - {'Vehicle': '揽福-福迪汽车', 'ProductID': 'VE-FUDILANFU', 'BrandType': '福迪汽车', 'Brand': 'F - 福迪', 'Url': '/Images/Logo/fudi.png', 'Src': 'https://img3.tuhu.org/Images/type/VE-FUDILANFU.png@163w_163h_100Q.png', 'IsBaoYang': 'True', 'CarName': '揽福', 'appSrc': None, 'Image': 'https://img3.tuhu.org/Images/type/VE-FUDILANFU.png@100Q.png', 'ImageUrl': 'https://img3.tuhu.org/Images/Logo/FuDi.png', 'Tires': '245/70R17', 'SpecialTireSize': None, 'OriginalIsBaoyang': 1, 'Priority2': 1, 'Priority3': 1, 'VehicleSeries': None}\n",
      "F - 富奇 done\n",
      ">> F - 富奇 - VE-FUQI06AB - {'Vehicle': '富奇-华翔汽车', 'ProductID': 'VE-FUQI06AB', 'BrandType': '华翔汽车', 'Brand': 'F - 富奇', 'Url': '/Images/Logo/fuqi.png', 'Src': 'https://img3.tuhu.org/Images/type/VE-FUQI06AB.png@163w_163h_100Q.png', 'IsBaoYang': 'True', 'CarName': '富奇', 'appSrc': None, 'Image': 'https://img3.tuhu.org/Images/type/VE-FUQI06AB.png@100Q.png', 'ImageUrl': 'https://img3.tuhu.org/Images/Logo/FuQi.png', 'Tires': '275/70R16', 'SpecialTireSize': None, 'OriginalIsBaoyang': 1, 'Priority2': 1, 'Priority3': 2, 'VehicleSeries': None}\n"
     ]
    },
    {
     "name": "stderr",
     "output_type": "stream",
     "text": [
      "Traceback (most recent call last):\n",
      "  File \"<ipython-input-74-a1bbc79ad05d>\", line 60, in <module>\n",
      "    for pailiang in load_pailiang(vid):\n",
      "  File \"<ipython-input-74-a1bbc79ad05d>\", line 11, in load_pailiang\n",
      "    return requests.get(url, headers=headers).json()['PaiLiang']\n",
      "  File \"/Users/laisky/.virtualenvs/37/lib/python3.7/site-packages/requests/models.py\", line 897, in json\n",
      "    return complexjson.loads(self.text, **kwargs)\n",
      "  File \"/Users/laisky/.virtualenvs/37/lib/python3.7/site-packages/simplejson/__init__.py\", line 518, in loads\n",
      "    return _default_decoder.decode(s)\n",
      "  File \"/Users/laisky/.virtualenvs/37/lib/python3.7/site-packages/simplejson/decoder.py\", line 370, in decode\n",
      "    obj, end = self.raw_decode(s)\n",
      "  File \"/Users/laisky/.virtualenvs/37/lib/python3.7/site-packages/simplejson/decoder.py\", line 400, in raw_decode\n",
      "    return self.scan_once(s, idx=_w(s, idx).end())\n",
      "simplejson.errors.JSONDecodeError: Expecting value: line 1 column 1 (char 0)\n",
      "Traceback (most recent call last):\n",
      "  File \"<ipython-input-74-a1bbc79ad05d>\", line 60, in <module>\n",
      "    for pailiang in load_pailiang(vid):\n",
      "  File \"<ipython-input-74-a1bbc79ad05d>\", line 11, in load_pailiang\n",
      "    return requests.get(url, headers=headers).json()['PaiLiang']\n",
      "  File \"/Users/laisky/.virtualenvs/37/lib/python3.7/site-packages/requests/models.py\", line 897, in json\n",
      "    return complexjson.loads(self.text, **kwargs)\n",
      "  File \"/Users/laisky/.virtualenvs/37/lib/python3.7/site-packages/simplejson/__init__.py\", line 518, in loads\n",
      "    return _default_decoder.decode(s)\n",
      "  File \"/Users/laisky/.virtualenvs/37/lib/python3.7/site-packages/simplejson/decoder.py\", line 370, in decode\n",
      "    obj, end = self.raw_decode(s)\n",
      "  File \"/Users/laisky/.virtualenvs/37/lib/python3.7/site-packages/simplejson/decoder.py\", line 400, in raw_decode\n",
      "    return self.scan_once(s, idx=_w(s, idx).end())\n",
      "simplejson.errors.JSONDecodeError: Expecting value: line 1 column 1 (char 0)\n"
     ]
    },
    {
     "name": "stdout",
     "output_type": "stream",
     "text": [
      ">> F - 富奇 - VE-FUQI07AF - {'Vehicle': '驭虎-华翔汽车', 'ProductID': 'VE-FUQI07AF', 'BrandType': '华翔汽车', 'Brand': 'F - 富奇', 'Url': '/Images/Logo/fuqi.png', 'Src': 'https://img4.tuhu.org/Images/type/VE-FUQI07AF.png@163w_163h_100Q.png', 'IsBaoYang': 'True', 'CarName': '驭虎', 'appSrc': None, 'Image': 'https://img4.tuhu.org/Images/type/VE-FUQI07AF.png@100Q.png', 'ImageUrl': 'https://img3.tuhu.org/Images/Logo/FuQi.png', 'Tires': '275/70R16', 'SpecialTireSize': None, 'OriginalIsBaoyang': 1, 'Priority2': 1, 'Priority3': 1, 'VehicleSeries': None}\n",
      "F - 福田 done\n",
      ">> F - 福田 - VE-FUTDFIYMMD - {'Vehicle': '迷迪-福田汽车', 'ProductID': 'VE-FUTDFIYMMD', 'BrandType': '福田汽车', 'Brand': 'F - 福田', 'Url': '/Images/Logo/futian.png', 'Src': 'https://img3.tuhu.org/Images/type/VE-FUTDFIYMMD.png@163w_163h_100Q.png', 'IsBaoYang': 'True', 'CarName': '迷迪', 'appSrc': None, 'Image': 'https://img3.tuhu.org/Images/type/VE-FUTDFIYMMD.png@100Q.png', 'ImageUrl': 'https://img3.tuhu.org/Images/Logo/FuTian.png', 'Tires': '185/70R14;185/65R15', 'SpecialTireSize': None, 'OriginalIsBaoyang': 1, 'Priority2': 1, 'Priority3': 25, 'VehicleSeries': None}\n"
     ]
    },
    {
     "name": "stderr",
     "output_type": "stream",
     "text": [
      "Traceback (most recent call last):\n",
      "  File \"<ipython-input-74-a1bbc79ad05d>\", line 60, in <module>\n",
      "    for pailiang in load_pailiang(vid):\n",
      "  File \"<ipython-input-74-a1bbc79ad05d>\", line 11, in load_pailiang\n",
      "    return requests.get(url, headers=headers).json()['PaiLiang']\n",
      "  File \"/Users/laisky/.virtualenvs/37/lib/python3.7/site-packages/requests/models.py\", line 897, in json\n",
      "    return complexjson.loads(self.text, **kwargs)\n",
      "  File \"/Users/laisky/.virtualenvs/37/lib/python3.7/site-packages/simplejson/__init__.py\", line 518, in loads\n",
      "    return _default_decoder.decode(s)\n",
      "  File \"/Users/laisky/.virtualenvs/37/lib/python3.7/site-packages/simplejson/decoder.py\", line 370, in decode\n",
      "    obj, end = self.raw_decode(s)\n",
      "  File \"/Users/laisky/.virtualenvs/37/lib/python3.7/site-packages/simplejson/decoder.py\", line 400, in raw_decode\n",
      "    return self.scan_once(s, idx=_w(s, idx).end())\n",
      "simplejson.errors.JSONDecodeError: Expecting value: line 1 column 1 (char 0)\n",
      "Traceback (most recent call last):\n",
      "  File \"<ipython-input-74-a1bbc79ad05d>\", line 60, in <module>\n",
      "    for pailiang in load_pailiang(vid):\n",
      "  File \"<ipython-input-74-a1bbc79ad05d>\", line 11, in load_pailiang\n",
      "    return requests.get(url, headers=headers).json()['PaiLiang']\n",
      "  File \"/Users/laisky/.virtualenvs/37/lib/python3.7/site-packages/requests/models.py\", line 897, in json\n",
      "    return complexjson.loads(self.text, **kwargs)\n",
      "  File \"/Users/laisky/.virtualenvs/37/lib/python3.7/site-packages/simplejson/__init__.py\", line 518, in loads\n",
      "    return _default_decoder.decode(s)\n",
      "  File \"/Users/laisky/.virtualenvs/37/lib/python3.7/site-packages/simplejson/decoder.py\", line 370, in decode\n",
      "    obj, end = self.raw_decode(s)\n",
      "  File \"/Users/laisky/.virtualenvs/37/lib/python3.7/site-packages/simplejson/decoder.py\", line 400, in raw_decode\n",
      "    return self.scan_once(s, idx=_w(s, idx).end())\n",
      "simplejson.errors.JSONDecodeError: Expecting value: line 1 column 1 (char 0)\n"
     ]
    },
    {
     "name": "stdout",
     "output_type": "stream",
     "text": [
      ">> F - 福田 - VE-FUTDFIYMSP - {'Vehicle': '萨普-福田汽车', 'ProductID': 'VE-FUTDFIYMSP', 'BrandType': '福田汽车', 'Brand': 'F - 福田', 'Url': '/Images/Logo/futian.png', 'Src': 'https://img4.tuhu.org/Images/type/VE-FUTDFIYMSP.png@163w_163h_100Q.png', 'IsBaoYang': 'True', 'CarName': '萨普', 'appSrc': None, 'Image': 'https://img4.tuhu.org/Images/type/VE-FUTDFIYMSP.png@100Q.png', 'ImageUrl': 'https://img3.tuhu.org/Images/Logo/FuTian.png', 'Tires': '205/70R14;215/75R15;245/70R16;225/75R15', 'SpecialTireSize': None, 'OriginalIsBaoyang': 1, 'Priority2': 1, 'Priority3': 24, 'VehicleSeries': None}\n",
      ">> F - 福田 - VE-FUTDFIYTLZ - {'Vehicle': '拓路者-福田汽车', 'ProductID': 'VE-FUTDFIYTLZ', 'BrandType': '福田汽车', 'Brand': 'F - 福田', 'Url': '/Images/Logo/futian.png', 'Src': 'https://img3.tuhu.org/Images/type/VE-FUTDFIYTLZ.png@163w_163h_100Q.png', 'IsBaoYang': 'True', 'CarName': '拓路者', 'appSrc': None, 'Image': 'https://img3.tuhu.org/Images/type/VE-FUTDFIYTLZ.png@100Q.png', 'ImageUrl': 'https://img3.tuhu.org/Images/Logo/FuTian.png', 'Tires': '245/70R16;265/70R16;235/70R15;235/75R15;245/70R15', 'SpecialTireSize': None, 'OriginalIsBaoyang': 1, 'Priority2': 1, 'Priority3': 23, 'VehicleSeries': None}\n"
     ]
    },
    {
     "name": "stderr",
     "output_type": "stream",
     "text": [
      "Traceback (most recent call last):\n",
      "  File \"<ipython-input-74-a1bbc79ad05d>\", line 60, in <module>\n",
      "    for pailiang in load_pailiang(vid):\n",
      "  File \"<ipython-input-74-a1bbc79ad05d>\", line 11, in load_pailiang\n",
      "    return requests.get(url, headers=headers).json()['PaiLiang']\n",
      "  File \"/Users/laisky/.virtualenvs/37/lib/python3.7/site-packages/requests/models.py\", line 897, in json\n",
      "    return complexjson.loads(self.text, **kwargs)\n",
      "  File \"/Users/laisky/.virtualenvs/37/lib/python3.7/site-packages/simplejson/__init__.py\", line 518, in loads\n",
      "    return _default_decoder.decode(s)\n",
      "  File \"/Users/laisky/.virtualenvs/37/lib/python3.7/site-packages/simplejson/decoder.py\", line 370, in decode\n",
      "    obj, end = self.raw_decode(s)\n",
      "  File \"/Users/laisky/.virtualenvs/37/lib/python3.7/site-packages/simplejson/decoder.py\", line 400, in raw_decode\n",
      "    return self.scan_once(s, idx=_w(s, idx).end())\n",
      "simplejson.errors.JSONDecodeError: Expecting value: line 1 column 1 (char 0)\n",
      "Traceback (most recent call last):\n",
      "  File \"<ipython-input-74-a1bbc79ad05d>\", line 60, in <module>\n",
      "    for pailiang in load_pailiang(vid):\n",
      "  File \"<ipython-input-74-a1bbc79ad05d>\", line 11, in load_pailiang\n",
      "    return requests.get(url, headers=headers).json()['PaiLiang']\n",
      "  File \"/Users/laisky/.virtualenvs/37/lib/python3.7/site-packages/requests/models.py\", line 897, in json\n",
      "    return complexjson.loads(self.text, **kwargs)\n",
      "  File \"/Users/laisky/.virtualenvs/37/lib/python3.7/site-packages/simplejson/__init__.py\", line 518, in loads\n",
      "    return _default_decoder.decode(s)\n",
      "  File \"/Users/laisky/.virtualenvs/37/lib/python3.7/site-packages/simplejson/decoder.py\", line 370, in decode\n",
      "    obj, end = self.raw_decode(s)\n",
      "  File \"/Users/laisky/.virtualenvs/37/lib/python3.7/site-packages/simplejson/decoder.py\", line 400, in raw_decode\n",
      "    return self.scan_once(s, idx=_w(s, idx).end())\n",
      "simplejson.errors.JSONDecodeError: Expecting value: line 1 column 1 (char 0)\n"
     ]
    },
    {
     "name": "stdout",
     "output_type": "stream",
     "text": [
      ">> F - 福田 - VE-LVC-CQC - {'Vehicle': '传奇C-福田汽车', 'ProductID': 'VE-LVC-CQC', 'BrandType': '福田汽车', 'Brand': 'F - 福田', 'Url': '/Images/Logo/futian.png', 'Src': 'https://img4.tuhu.org/Images/type/VE-LVC-CQC.png@163w_163h_100Q.png', 'IsBaoYang': 'True', 'CarName': '传奇C', 'appSrc': None, 'Image': 'https://img4.tuhu.org/Images/type/VE-LVC-CQC.png@100Q.png', 'ImageUrl': 'https://img3.tuhu.org/Images/Logo/FuTian.png', 'Tires': '225/75R15', 'SpecialTireSize': None, 'OriginalIsBaoyang': 1, 'Priority2': 1, 'Priority3': 22, 'VehicleSeries': None}\n",
      ">> F - 福田 - VE-FUTIANCHQI - {'Vehicle': '传奇X-福田汽车', 'ProductID': 'VE-FUTIANCHQI', 'BrandType': '福田汽车', 'Brand': 'F - 福田', 'Url': '/Images/Logo/futian.png', 'Src': 'https://img3.tuhu.org/Images/type/VE-FUTIANCHQI.png@163w_163h_100Q.png', 'IsBaoYang': 'True', 'CarName': '传奇X', 'appSrc': None, 'Image': 'https://img3.tuhu.org/Images/type/VE-FUTIANCHQI.png@100Q.png', 'ImageUrl': 'https://img3.tuhu.org/Images/Logo/FuTian.png', 'Tires': '235/70R16;225/75R15;235/75R15;245/70R16', 'SpecialTireSize': None, 'OriginalIsBaoyang': 1, 'Priority2': 1, 'Priority3': 21, 'VehicleSeries': None}\n"
     ]
    },
    {
     "name": "stderr",
     "output_type": "stream",
     "text": [
      "Traceback (most recent call last):\n",
      "  File \"<ipython-input-74-a1bbc79ad05d>\", line 60, in <module>\n",
      "    for pailiang in load_pailiang(vid):\n",
      "  File \"<ipython-input-74-a1bbc79ad05d>\", line 11, in load_pailiang\n",
      "    return requests.get(url, headers=headers).json()['PaiLiang']\n",
      "  File \"/Users/laisky/.virtualenvs/37/lib/python3.7/site-packages/requests/models.py\", line 897, in json\n",
      "    return complexjson.loads(self.text, **kwargs)\n",
      "  File \"/Users/laisky/.virtualenvs/37/lib/python3.7/site-packages/simplejson/__init__.py\", line 518, in loads\n",
      "    return _default_decoder.decode(s)\n",
      "  File \"/Users/laisky/.virtualenvs/37/lib/python3.7/site-packages/simplejson/decoder.py\", line 370, in decode\n",
      "    obj, end = self.raw_decode(s)\n",
      "  File \"/Users/laisky/.virtualenvs/37/lib/python3.7/site-packages/simplejson/decoder.py\", line 400, in raw_decode\n",
      "    return self.scan_once(s, idx=_w(s, idx).end())\n",
      "simplejson.errors.JSONDecodeError: Expecting value: line 1 column 1 (char 0)\n",
      "Traceback (most recent call last):\n",
      "  File \"<ipython-input-74-a1bbc79ad05d>\", line 60, in <module>\n",
      "    for pailiang in load_pailiang(vid):\n",
      "  File \"<ipython-input-74-a1bbc79ad05d>\", line 11, in load_pailiang\n",
      "    return requests.get(url, headers=headers).json()['PaiLiang']\n",
      "  File \"/Users/laisky/.virtualenvs/37/lib/python3.7/site-packages/requests/models.py\", line 897, in json\n",
      "    return complexjson.loads(self.text, **kwargs)\n",
      "  File \"/Users/laisky/.virtualenvs/37/lib/python3.7/site-packages/simplejson/__init__.py\", line 518, in loads\n",
      "    return _default_decoder.decode(s)\n",
      "  File \"/Users/laisky/.virtualenvs/37/lib/python3.7/site-packages/simplejson/decoder.py\", line 370, in decode\n",
      "    obj, end = self.raw_decode(s)\n",
      "  File \"/Users/laisky/.virtualenvs/37/lib/python3.7/site-packages/simplejson/decoder.py\", line 400, in raw_decode\n",
      "    return self.scan_once(s, idx=_w(s, idx).end())\n",
      "simplejson.errors.JSONDecodeError: Expecting value: line 1 column 1 (char 0)\n"
     ]
    },
    {
     "name": "stdout",
     "output_type": "stream",
     "text": [
      ">> F - 福田 - VE-FUTTYNUO - {'Vehicle': '图雅诺-福田汽车', 'ProductID': 'VE-FUTTYNUO', 'BrandType': '福田汽车', 'Brand': 'F - 福田', 'Url': '/Images/Logo/futian.png', 'Src': 'https://img3.tuhu.org/Images/type/VE-FUTTYNUO.png@163w_163h_100Q.png', 'IsBaoYang': 'True', 'CarName': '图雅诺', 'appSrc': None, 'Image': 'https://img3.tuhu.org/Images/type/VE-FUTTYNUO.png@100Q.png', 'ImageUrl': 'https://img3.tuhu.org/Images/Logo/FuTian.png', 'Tires': '215/75R16;215/75R16C', 'SpecialTireSize': None, 'OriginalIsBaoyang': 1, 'Priority2': 1, 'Priority3': 20, 'VehicleSeries': None}\n"
     ]
    },
    {
     "name": "stderr",
     "output_type": "stream",
     "text": [
      "Traceback (most recent call last):\n",
      "  File \"<ipython-input-74-a1bbc79ad05d>\", line 60, in <module>\n",
      "    for pailiang in load_pailiang(vid):\n",
      "  File \"<ipython-input-74-a1bbc79ad05d>\", line 11, in load_pailiang\n",
      "    return requests.get(url, headers=headers).json()['PaiLiang']\n",
      "  File \"/Users/laisky/.virtualenvs/37/lib/python3.7/site-packages/requests/models.py\", line 897, in json\n",
      "    return complexjson.loads(self.text, **kwargs)\n",
      "  File \"/Users/laisky/.virtualenvs/37/lib/python3.7/site-packages/simplejson/__init__.py\", line 518, in loads\n",
      "    return _default_decoder.decode(s)\n",
      "  File \"/Users/laisky/.virtualenvs/37/lib/python3.7/site-packages/simplejson/decoder.py\", line 370, in decode\n",
      "    obj, end = self.raw_decode(s)\n",
      "  File \"/Users/laisky/.virtualenvs/37/lib/python3.7/site-packages/simplejson/decoder.py\", line 400, in raw_decode\n",
      "    return self.scan_once(s, idx=_w(s, idx).end())\n",
      "simplejson.errors.JSONDecodeError: Expecting value: line 1 column 1 (char 0)\n"
     ]
    },
    {
     "name": "stdout",
     "output_type": "stream",
     "text": [
      ">> F - 福田 - VE-FTSAWANA - {'Vehicle': '萨瓦纳-福田汽车', 'ProductID': 'VE-FTSAWANA', 'BrandType': '福田汽车', 'Brand': 'F - 福田', 'Url': '/Images/Logo/futian.png', 'Src': 'https://img3.tuhu.org/Images/type/VE-FTSAWANA.png@163w_163h_100Q.png', 'IsBaoYang': 'True', 'CarName': '萨瓦纳', 'appSrc': None, 'Image': 'https://img3.tuhu.org/Images/type/VE-FTSAWANA.png@100Q.png', 'ImageUrl': 'https://img3.tuhu.org/Images/Logo/FuTian.png', 'Tires': '265/65R17', 'SpecialTireSize': None, 'OriginalIsBaoyang': 1, 'Priority2': 1, 'Priority3': 19, 'VehicleSeries': None}\n",
      ">> F - 福田 - VE-FUTIANQIETUV3 - {'Vehicle': '伽途V3-福田汽车', 'ProductID': 'VE-FUTIANQIETUV3', 'BrandType': '福田汽车', 'Brand': 'F - 福田', 'Url': '/Images/Logo/futian.png', 'Src': 'https://img3.tuhu.org/Images/type/VE-FUTIANQIETUV3.png@163w_163h_100Q.png', 'IsBaoYang': 'True', 'CarName': '伽途V3', 'appSrc': None, 'Image': 'https://img3.tuhu.org/Images/type/VE-FUTIANQIETUV3.png@100Q.png', 'ImageUrl': 'https://img3.tuhu.org/Images/Logo/FuTian.png', 'Tires': '165/70R13C;165/70R13;175/70R14', 'SpecialTireSize': None, 'OriginalIsBaoyang': 1, 'Priority2': 1, 'Priority3': 18, 'VehicleSeries': None}\n"
     ]
    },
    {
     "name": "stderr",
     "output_type": "stream",
     "text": [
      "Traceback (most recent call last):\n",
      "  File \"<ipython-input-74-a1bbc79ad05d>\", line 60, in <module>\n",
      "    for pailiang in load_pailiang(vid):\n",
      "  File \"<ipython-input-74-a1bbc79ad05d>\", line 11, in load_pailiang\n",
      "    return requests.get(url, headers=headers).json()['PaiLiang']\n",
      "  File \"/Users/laisky/.virtualenvs/37/lib/python3.7/site-packages/requests/models.py\", line 897, in json\n",
      "    return complexjson.loads(self.text, **kwargs)\n",
      "  File \"/Users/laisky/.virtualenvs/37/lib/python3.7/site-packages/simplejson/__init__.py\", line 518, in loads\n",
      "    return _default_decoder.decode(s)\n",
      "  File \"/Users/laisky/.virtualenvs/37/lib/python3.7/site-packages/simplejson/decoder.py\", line 370, in decode\n",
      "    obj, end = self.raw_decode(s)\n",
      "  File \"/Users/laisky/.virtualenvs/37/lib/python3.7/site-packages/simplejson/decoder.py\", line 400, in raw_decode\n",
      "    return self.scan_once(s, idx=_w(s, idx).end())\n",
      "simplejson.errors.JSONDecodeError: Expecting value: line 1 column 1 (char 0)\n",
      "Traceback (most recent call last):\n",
      "  File \"<ipython-input-74-a1bbc79ad05d>\", line 60, in <module>\n",
      "    for pailiang in load_pailiang(vid):\n",
      "  File \"<ipython-input-74-a1bbc79ad05d>\", line 11, in load_pailiang\n",
      "    return requests.get(url, headers=headers).json()['PaiLiang']\n",
      "  File \"/Users/laisky/.virtualenvs/37/lib/python3.7/site-packages/requests/models.py\", line 897, in json\n",
      "    return complexjson.loads(self.text, **kwargs)\n",
      "  File \"/Users/laisky/.virtualenvs/37/lib/python3.7/site-packages/simplejson/__init__.py\", line 518, in loads\n",
      "    return _default_decoder.decode(s)\n",
      "  File \"/Users/laisky/.virtualenvs/37/lib/python3.7/site-packages/simplejson/decoder.py\", line 370, in decode\n",
      "    obj, end = self.raw_decode(s)\n",
      "  File \"/Users/laisky/.virtualenvs/37/lib/python3.7/site-packages/simplejson/decoder.py\", line 400, in raw_decode\n",
      "    return self.scan_once(s, idx=_w(s, idx).end())\n",
      "simplejson.errors.JSONDecodeError: Expecting value: line 1 column 1 (char 0)\n"
     ]
    },
    {
     "name": "stdout",
     "output_type": "stream",
     "text": [
      ">> F - 福田 - VE-FUTIANQIETUV5 - {'Vehicle': '伽途V5-福田汽车', 'ProductID': 'VE-FUTIANQIETUV5', 'BrandType': '福田汽车', 'Brand': 'F - 福田', 'Url': '/Images/Logo/futian.png', 'Src': 'https://img3.tuhu.org/Images/type/VE-FUTIANQIETUV5.png@163w_163h_100Q.png', 'IsBaoYang': 'True', 'CarName': '伽途V5', 'appSrc': None, 'Image': 'https://img3.tuhu.org/Images/type/VE-FUTIANQIETUV5.png@100Q.png', 'ImageUrl': 'https://img3.tuhu.org/Images/Logo/FuTian.png', 'Tires': '175/70R14', 'SpecialTireSize': None, 'OriginalIsBaoyang': 1, 'Priority2': 1, 'Priority3': 17, 'VehicleSeries': None}\n",
      ">> F - 福田 - VE-FUTIANQIETUix5 - {'Vehicle': '伽途ix5-福田汽车', 'ProductID': 'VE-FUTIANQIETUix5', 'BrandType': '福田汽车', 'Brand': 'F - 福田', 'Url': '/Images/Logo/futian.png', 'Src': 'https://img3.tuhu.org/Images/type/VE-FUTIANQIETUix5.png@163w_163h_100Q.png', 'IsBaoYang': 'True', 'CarName': '伽途ix5', 'appSrc': None, 'Image': 'https://img3.tuhu.org/Images/type/VE-FUTIANQIETUix5.png@100Q.png', 'ImageUrl': 'https://img3.tuhu.org/Images/Logo/FuTian.png', 'Tires': '185/70R14;195/60R15', 'SpecialTireSize': None, 'OriginalIsBaoyang': 1, 'Priority2': 1, 'Priority3': 16, 'VehicleSeries': None}\n"
     ]
    },
    {
     "name": "stderr",
     "output_type": "stream",
     "text": [
      "Traceback (most recent call last):\n",
      "  File \"<ipython-input-74-a1bbc79ad05d>\", line 60, in <module>\n",
      "    for pailiang in load_pailiang(vid):\n",
      "  File \"<ipython-input-74-a1bbc79ad05d>\", line 11, in load_pailiang\n",
      "    return requests.get(url, headers=headers).json()['PaiLiang']\n",
      "  File \"/Users/laisky/.virtualenvs/37/lib/python3.7/site-packages/requests/models.py\", line 897, in json\n",
      "    return complexjson.loads(self.text, **kwargs)\n",
      "  File \"/Users/laisky/.virtualenvs/37/lib/python3.7/site-packages/simplejson/__init__.py\", line 518, in loads\n",
      "    return _default_decoder.decode(s)\n",
      "  File \"/Users/laisky/.virtualenvs/37/lib/python3.7/site-packages/simplejson/decoder.py\", line 370, in decode\n",
      "    obj, end = self.raw_decode(s)\n",
      "  File \"/Users/laisky/.virtualenvs/37/lib/python3.7/site-packages/simplejson/decoder.py\", line 400, in raw_decode\n",
      "    return self.scan_once(s, idx=_w(s, idx).end())\n",
      "simplejson.errors.JSONDecodeError: Expecting value: line 1 column 1 (char 0)\n",
      "Traceback (most recent call last):\n",
      "  File \"<ipython-input-74-a1bbc79ad05d>\", line 60, in <module>\n",
      "    for pailiang in load_pailiang(vid):\n",
      "  File \"<ipython-input-74-a1bbc79ad05d>\", line 11, in load_pailiang\n",
      "    return requests.get(url, headers=headers).json()['PaiLiang']\n",
      "  File \"/Users/laisky/.virtualenvs/37/lib/python3.7/site-packages/requests/models.py\", line 897, in json\n",
      "    return complexjson.loads(self.text, **kwargs)\n",
      "  File \"/Users/laisky/.virtualenvs/37/lib/python3.7/site-packages/simplejson/__init__.py\", line 518, in loads\n",
      "    return _default_decoder.decode(s)\n",
      "  File \"/Users/laisky/.virtualenvs/37/lib/python3.7/site-packages/simplejson/decoder.py\", line 370, in decode\n",
      "    obj, end = self.raw_decode(s)\n",
      "  File \"/Users/laisky/.virtualenvs/37/lib/python3.7/site-packages/simplejson/decoder.py\", line 400, in raw_decode\n",
      "    return self.scan_once(s, idx=_w(s, idx).end())\n",
      "simplejson.errors.JSONDecodeError: Expecting value: line 1 column 1 (char 0)\n"
     ]
    },
    {
     "name": "stdout",
     "output_type": "stream",
     "text": [
      ">> F - 福田 - VE-FUTIANQIETUix7 - {'Vehicle': '伽途ix7-福田汽车', 'ProductID': 'VE-FUTIANQIETUix7', 'BrandType': '福田汽车', 'Brand': 'F - 福田', 'Url': '/Images/Logo/futian.png', 'Src': 'https://img3.tuhu.org/Images/type/VE-FUTIANQIETUix7.png@163w_163h_100Q.png', 'IsBaoYang': 'True', 'CarName': '伽途ix7', 'appSrc': None, 'Image': 'https://img3.tuhu.org/Images/type/VE-FUTIANQIETUix7.png@100Q.png', 'ImageUrl': 'https://img3.tuhu.org/Images/Logo/FuTian.png', 'Tires': '205/60R16', 'SpecialTireSize': None, 'OriginalIsBaoyang': 1, 'Priority2': 1, 'Priority3': 15, 'VehicleSeries': None}\n",
      ">> F - 福田 - VE-FUTIANQIETUim6 - {'Vehicle': '伽途im6-福田汽车', 'ProductID': 'VE-FUTIANQIETUim6', 'BrandType': '福田汽车', 'Brand': 'F - 福田', 'Url': '/Images/Logo/futian.png', 'Src': 'https://img4.tuhu.org/Images/type/VE-FUTIANQIETUim6.png@163w_163h_100Q.png', 'IsBaoYang': 'True', 'CarName': '伽途im6', 'appSrc': None, 'Image': 'https://img4.tuhu.org/Images/type/VE-FUTIANQIETUim6.png@100Q.png', 'ImageUrl': 'https://img3.tuhu.org/Images/Logo/FuTian.png', 'Tires': '195/65R15;195/60R15', 'SpecialTireSize': None, 'OriginalIsBaoyang': 1, 'Priority2': 1, 'Priority3': 14, 'VehicleSeries': None}\n"
     ]
    },
    {
     "name": "stderr",
     "output_type": "stream",
     "text": [
      "Traceback (most recent call last):\n",
      "  File \"<ipython-input-74-a1bbc79ad05d>\", line 60, in <module>\n",
      "    for pailiang in load_pailiang(vid):\n",
      "  File \"<ipython-input-74-a1bbc79ad05d>\", line 11, in load_pailiang\n",
      "    return requests.get(url, headers=headers).json()['PaiLiang']\n",
      "  File \"/Users/laisky/.virtualenvs/37/lib/python3.7/site-packages/requests/models.py\", line 897, in json\n",
      "    return complexjson.loads(self.text, **kwargs)\n",
      "  File \"/Users/laisky/.virtualenvs/37/lib/python3.7/site-packages/simplejson/__init__.py\", line 518, in loads\n",
      "    return _default_decoder.decode(s)\n",
      "  File \"/Users/laisky/.virtualenvs/37/lib/python3.7/site-packages/simplejson/decoder.py\", line 370, in decode\n",
      "    obj, end = self.raw_decode(s)\n",
      "  File \"/Users/laisky/.virtualenvs/37/lib/python3.7/site-packages/simplejson/decoder.py\", line 400, in raw_decode\n",
      "    return self.scan_once(s, idx=_w(s, idx).end())\n",
      "simplejson.errors.JSONDecodeError: Expecting value: line 1 column 1 (char 0)\n",
      "Traceback (most recent call last):\n",
      "  File \"<ipython-input-74-a1bbc79ad05d>\", line 60, in <module>\n",
      "    for pailiang in load_pailiang(vid):\n",
      "  File \"<ipython-input-74-a1bbc79ad05d>\", line 11, in load_pailiang\n",
      "    return requests.get(url, headers=headers).json()['PaiLiang']\n",
      "  File \"/Users/laisky/.virtualenvs/37/lib/python3.7/site-packages/requests/models.py\", line 897, in json\n",
      "    return complexjson.loads(self.text, **kwargs)\n",
      "  File \"/Users/laisky/.virtualenvs/37/lib/python3.7/site-packages/simplejson/__init__.py\", line 518, in loads\n",
      "    return _default_decoder.decode(s)\n",
      "  File \"/Users/laisky/.virtualenvs/37/lib/python3.7/site-packages/simplejson/decoder.py\", line 370, in decode\n",
      "    obj, end = self.raw_decode(s)\n",
      "  File \"/Users/laisky/.virtualenvs/37/lib/python3.7/site-packages/simplejson/decoder.py\", line 400, in raw_decode\n",
      "    return self.scan_once(s, idx=_w(s, idx).end())\n",
      "simplejson.errors.JSONDecodeError: Expecting value: line 1 column 1 (char 0)\n"
     ]
    },
    {
     "name": "stdout",
     "output_type": "stream",
     "text": [
      ">> F - 福田 - VE-FUTIANQIETUim8 - {'Vehicle': '伽途im8-福田汽车', 'ProductID': 'VE-FUTIANQIETUim8', 'BrandType': '福田汽车', 'Brand': 'F - 福田', 'Url': '/Images/Logo/futian.png', 'Src': 'https://img3.tuhu.org/Images/type/VE-FUTIANQIETUim8.png@163w_163h_100Q.png', 'IsBaoYang': 'True', 'CarName': '伽途im8', 'appSrc': None, 'Image': 'https://img3.tuhu.org/Images/type/VE-FUTIANQIETUim8.png@100Q.png', 'ImageUrl': 'https://img3.tuhu.org/Images/Logo/FuTian.png', 'Tires': '215/55R16;195/R15C;195/60R15', 'SpecialTireSize': None, 'OriginalIsBaoyang': 1, 'Priority2': 1, 'Priority3': 13, 'VehicleSeries': None}\n",
      ">> F - 福田 - VE-FUTIANQIETUGT - {'Vehicle': '伽途GT-福田汽车', 'ProductID': 'VE-FUTIANQIETUGT', 'BrandType': '福田汽车', 'Brand': 'F - 福田', 'Url': '/Images/Logo/futian.png', 'Src': 'https://img3.tuhu.org/Images/type/VE-FUTIANQIETUGT.png@163w_163h_100Q.png', 'IsBaoYang': 'True', 'CarName': '伽途GT', 'appSrc': None, 'Image': 'https://img3.tuhu.org/Images/type/VE-FUTIANQIETUGT.png@100Q.png', 'ImageUrl': 'https://img3.tuhu.org/Images/Logo/FuTian.png', 'Tires': '215/55R16', 'SpecialTireSize': None, 'OriginalIsBaoyang': 1, 'Priority2': 1, 'Priority3': 12, 'VehicleSeries': None}\n"
     ]
    },
    {
     "name": "stderr",
     "output_type": "stream",
     "text": [
      "Traceback (most recent call last):\n",
      "  File \"<ipython-input-74-a1bbc79ad05d>\", line 60, in <module>\n",
      "    for pailiang in load_pailiang(vid):\n",
      "  File \"<ipython-input-74-a1bbc79ad05d>\", line 11, in load_pailiang\n",
      "    return requests.get(url, headers=headers).json()['PaiLiang']\n",
      "  File \"/Users/laisky/.virtualenvs/37/lib/python3.7/site-packages/requests/models.py\", line 897, in json\n",
      "    return complexjson.loads(self.text, **kwargs)\n",
      "  File \"/Users/laisky/.virtualenvs/37/lib/python3.7/site-packages/simplejson/__init__.py\", line 518, in loads\n",
      "    return _default_decoder.decode(s)\n",
      "  File \"/Users/laisky/.virtualenvs/37/lib/python3.7/site-packages/simplejson/decoder.py\", line 370, in decode\n",
      "    obj, end = self.raw_decode(s)\n",
      "  File \"/Users/laisky/.virtualenvs/37/lib/python3.7/site-packages/simplejson/decoder.py\", line 400, in raw_decode\n",
      "    return self.scan_once(s, idx=_w(s, idx).end())\n",
      "simplejson.errors.JSONDecodeError: Expecting value: line 1 column 1 (char 0)\n",
      "Traceback (most recent call last):\n",
      "  File \"<ipython-input-74-a1bbc79ad05d>\", line 60, in <module>\n",
      "    for pailiang in load_pailiang(vid):\n",
      "  File \"<ipython-input-74-a1bbc79ad05d>\", line 11, in load_pailiang\n",
      "    return requests.get(url, headers=headers).json()['PaiLiang']\n",
      "  File \"/Users/laisky/.virtualenvs/37/lib/python3.7/site-packages/requests/models.py\", line 897, in json\n",
      "    return complexjson.loads(self.text, **kwargs)\n",
      "  File \"/Users/laisky/.virtualenvs/37/lib/python3.7/site-packages/simplejson/__init__.py\", line 518, in loads\n",
      "    return _default_decoder.decode(s)\n",
      "  File \"/Users/laisky/.virtualenvs/37/lib/python3.7/site-packages/simplejson/decoder.py\", line 370, in decode\n",
      "    obj, end = self.raw_decode(s)\n",
      "  File \"/Users/laisky/.virtualenvs/37/lib/python3.7/site-packages/simplejson/decoder.py\", line 400, in raw_decode\n",
      "    return self.scan_once(s, idx=_w(s, idx).end())\n",
      "simplejson.errors.JSONDecodeError: Expecting value: line 1 column 1 (char 0)\n"
     ]
    },
    {
     "name": "stdout",
     "output_type": "stream",
     "text": [
      ">> F - 福田 - VE-FUTDFIYMPKE - {'Vehicle': '蒙派克E-福田汽车', 'ProductID': 'VE-FUTDFIYMPKE', 'BrandType': '福田汽车', 'Brand': 'F - 福田', 'Url': '/Images/Logo/futian.png', 'Src': 'https://img3.tuhu.org/Images/type/VE-FUTDFIYMPKE.png@163w_163h_100Q.png', 'IsBaoYang': 'True', 'CarName': '蒙派克E', 'appSrc': None, 'Image': 'https://img3.tuhu.org/Images/type/VE-FUTDFIYMPKE.png@100Q.png', 'ImageUrl': 'https://img3.tuhu.org/Images/Logo/FuTian.png', 'Tires': '195/70R15;195/70R15C;205/70R15', 'SpecialTireSize': None, 'OriginalIsBaoyang': 1, 'Priority2': 1, 'Priority3': 11, 'VehicleSeries': None}\n",
      ">> F - 福田 - VE-FUTDFIYMPK - {'Vehicle': '蒙派克-福田汽车', 'ProductID': 'VE-FUTDFIYMPK', 'BrandType': '福田汽车', 'Brand': 'F - 福田', 'Url': '/Images/Logo/futian.png', 'Src': 'https://img3.tuhu.org/Images/type/VE-FUTDFIYMPK.png@163w_163h_100Q.png', 'IsBaoYang': 'True', 'CarName': '蒙派克', 'appSrc': None, 'Image': 'https://img3.tuhu.org/Images/type/VE-FUTDFIYMPK.png@100Q.png', 'ImageUrl': 'https://img3.tuhu.org/Images/Logo/FuTian.png', 'Tires': '205/70R15;195/70R15;195/R15C;205/55R16;195/70R15C', 'SpecialTireSize': None, 'OriginalIsBaoyang': 1, 'Priority2': 1, 'Priority3': 10, 'VehicleSeries': None}\n"
     ]
    },
    {
     "name": "stderr",
     "output_type": "stream",
     "text": [
      "Traceback (most recent call last):\n",
      "  File \"<ipython-input-74-a1bbc79ad05d>\", line 60, in <module>\n",
      "    for pailiang in load_pailiang(vid):\n",
      "  File \"<ipython-input-74-a1bbc79ad05d>\", line 11, in load_pailiang\n",
      "    return requests.get(url, headers=headers).json()['PaiLiang']\n",
      "  File \"/Users/laisky/.virtualenvs/37/lib/python3.7/site-packages/requests/models.py\", line 897, in json\n",
      "    return complexjson.loads(self.text, **kwargs)\n",
      "  File \"/Users/laisky/.virtualenvs/37/lib/python3.7/site-packages/simplejson/__init__.py\", line 518, in loads\n",
      "    return _default_decoder.decode(s)\n",
      "  File \"/Users/laisky/.virtualenvs/37/lib/python3.7/site-packages/simplejson/decoder.py\", line 370, in decode\n",
      "    obj, end = self.raw_decode(s)\n",
      "  File \"/Users/laisky/.virtualenvs/37/lib/python3.7/site-packages/simplejson/decoder.py\", line 400, in raw_decode\n",
      "    return self.scan_once(s, idx=_w(s, idx).end())\n",
      "simplejson.errors.JSONDecodeError: Expecting value: line 1 column 1 (char 0)\n",
      "Traceback (most recent call last):\n",
      "  File \"<ipython-input-74-a1bbc79ad05d>\", line 60, in <module>\n",
      "    for pailiang in load_pailiang(vid):\n",
      "  File \"<ipython-input-74-a1bbc79ad05d>\", line 11, in load_pailiang\n",
      "    return requests.get(url, headers=headers).json()['PaiLiang']\n",
      "  File \"/Users/laisky/.virtualenvs/37/lib/python3.7/site-packages/requests/models.py\", line 897, in json\n",
      "    return complexjson.loads(self.text, **kwargs)\n",
      "  File \"/Users/laisky/.virtualenvs/37/lib/python3.7/site-packages/simplejson/__init__.py\", line 518, in loads\n",
      "    return _default_decoder.decode(s)\n",
      "  File \"/Users/laisky/.virtualenvs/37/lib/python3.7/site-packages/simplejson/decoder.py\", line 370, in decode\n",
      "    obj, end = self.raw_decode(s)\n",
      "  File \"/Users/laisky/.virtualenvs/37/lib/python3.7/site-packages/simplejson/decoder.py\", line 400, in raw_decode\n",
      "    return self.scan_once(s, idx=_w(s, idx).end())\n",
      "simplejson.errors.JSONDecodeError: Expecting value: line 1 column 1 (char 0)\n"
     ]
    },
    {
     "name": "stdout",
     "output_type": "stream",
     "text": [
      ">> F - 福田 - VE-FUTDFIYMPKS - {'Vehicle': '蒙派克S-福田汽车', 'ProductID': 'VE-FUTDFIYMPKS', 'BrandType': '福田汽车', 'Brand': 'F - 福田', 'Url': '/Images/Logo/futian.png', 'Src': 'https://img3.tuhu.org/Images/type/VE-FUTDFIYMPKS.png@163w_163h_100Q.png', 'IsBaoYang': 'True', 'CarName': '蒙派克S', 'appSrc': None, 'Image': 'https://img3.tuhu.org/Images/type/VE-FUTDFIYMPKS.png@100Q.png', 'ImageUrl': 'https://img3.tuhu.org/Images/Logo/FuTian.png', 'Tires': '195/R15C', 'SpecialTireSize': None, 'OriginalIsBaoyang': 1, 'Priority2': 1, 'Priority3': 9, 'VehicleSeries': None}\n",
      ">> F - 福田 - VE-FUTDFIYMFJ - {'Vehicle': '风景-福田汽车', 'ProductID': 'VE-FUTDFIYMFJ', 'BrandType': '福田汽车', 'Brand': 'F - 福田', 'Url': '/Images/Logo/futian.png', 'Src': 'https://img3.tuhu.org/Images/type/VE-FUTDFIYMFJ.png@163w_163h_100Q.png', 'IsBaoYang': 'True', 'CarName': '风景', 'appSrc': None, 'Image': 'https://img3.tuhu.org/Images/type/VE-FUTDFIYMFJ.png@100Q.png', 'ImageUrl': 'https://img3.tuhu.org/Images/Logo/FuTian.png', 'Tires': '185/R14C;195/70R15;195/R15C;225/75R15;185/R14LT;205/70R14', 'SpecialTireSize': '185 R14 C', 'OriginalIsBaoyang': 1, 'Priority2': 1, 'Priority3': 8, 'VehicleSeries': None}\n"
     ]
    },
    {
     "name": "stderr",
     "output_type": "stream",
     "text": [
      "Traceback (most recent call last):\n",
      "  File \"<ipython-input-74-a1bbc79ad05d>\", line 60, in <module>\n",
      "    for pailiang in load_pailiang(vid):\n",
      "  File \"<ipython-input-74-a1bbc79ad05d>\", line 11, in load_pailiang\n",
      "    return requests.get(url, headers=headers).json()['PaiLiang']\n",
      "  File \"/Users/laisky/.virtualenvs/37/lib/python3.7/site-packages/requests/models.py\", line 897, in json\n",
      "    return complexjson.loads(self.text, **kwargs)\n",
      "  File \"/Users/laisky/.virtualenvs/37/lib/python3.7/site-packages/simplejson/__init__.py\", line 518, in loads\n",
      "    return _default_decoder.decode(s)\n",
      "  File \"/Users/laisky/.virtualenvs/37/lib/python3.7/site-packages/simplejson/decoder.py\", line 370, in decode\n",
      "    obj, end = self.raw_decode(s)\n",
      "  File \"/Users/laisky/.virtualenvs/37/lib/python3.7/site-packages/simplejson/decoder.py\", line 400, in raw_decode\n",
      "    return self.scan_once(s, idx=_w(s, idx).end())\n",
      "simplejson.errors.JSONDecodeError: Expecting value: line 1 column 1 (char 0)\n",
      "Traceback (most recent call last):\n",
      "  File \"<ipython-input-74-a1bbc79ad05d>\", line 60, in <module>\n",
      "    for pailiang in load_pailiang(vid):\n",
      "  File \"<ipython-input-74-a1bbc79ad05d>\", line 11, in load_pailiang\n",
      "    return requests.get(url, headers=headers).json()['PaiLiang']\n",
      "  File \"/Users/laisky/.virtualenvs/37/lib/python3.7/site-packages/requests/models.py\", line 897, in json\n",
      "    return complexjson.loads(self.text, **kwargs)\n",
      "  File \"/Users/laisky/.virtualenvs/37/lib/python3.7/site-packages/simplejson/__init__.py\", line 518, in loads\n",
      "    return _default_decoder.decode(s)\n",
      "  File \"/Users/laisky/.virtualenvs/37/lib/python3.7/site-packages/simplejson/decoder.py\", line 370, in decode\n",
      "    obj, end = self.raw_decode(s)\n",
      "  File \"/Users/laisky/.virtualenvs/37/lib/python3.7/site-packages/simplejson/decoder.py\", line 400, in raw_decode\n",
      "    return self.scan_once(s, idx=_w(s, idx).end())\n",
      "simplejson.errors.JSONDecodeError: Expecting value: line 1 column 1 (char 0)\n"
     ]
    },
    {
     "name": "stdout",
     "output_type": "stream",
     "text": [
      ">> F - 福田 - VE-FUTDFIYMFJCL - {'Vehicle': '风景·冲浪-福田汽车', 'ProductID': 'VE-FUTDFIYMFJCL', 'BrandType': '福田汽车', 'Brand': 'F - 福田', 'Url': '/Images/Logo/futian.png', 'Src': 'https://img3.tuhu.org/Images/type/VE-FUTDFIYMFJCL.png@163w_163h_100Q.png', 'IsBaoYang': 'True', 'CarName': '风景·冲浪', 'appSrc': None, 'Image': 'https://img3.tuhu.org/Images/type/VE-FUTDFIYMFJCL.png@100Q.png', 'ImageUrl': 'https://img3.tuhu.org/Images/Logo/FuTian.png', 'Tires': '235/75R15', 'SpecialTireSize': None, 'OriginalIsBaoyang': 1, 'Priority2': 1, 'Priority3': 7, 'VehicleSeries': None}\n",
      ">> F - 福田 - VE-FUTDFIYMFJAL - {'Vehicle': '风景·爱尔法-福田汽车', 'ProductID': 'VE-FUTDFIYMFJAL', 'BrandType': '福田汽车', 'Brand': 'F - 福田', 'Url': '/Images/Logo/futian.png', 'Src': 'https://img4.tuhu.org/Images/type/VE-FUTDFIYMFJAL.png@163w_163h_100Q.png', 'IsBaoYang': 'True', 'CarName': '风景·爱尔法', 'appSrc': None, 'Image': 'https://img4.tuhu.org/Images/type/VE-FUTDFIYMFJAL.png@100Q.png', 'ImageUrl': 'https://img3.tuhu.org/Images/Logo/FuTian.png', 'Tires': '195/70R15', 'SpecialTireSize': None, 'OriginalIsBaoyang': 1, 'Priority2': 1, 'Priority3': 6, 'VehicleSeries': None}\n"
     ]
    },
    {
     "name": "stderr",
     "output_type": "stream",
     "text": [
      "Traceback (most recent call last):\n",
      "  File \"<ipython-input-74-a1bbc79ad05d>\", line 60, in <module>\n",
      "    for pailiang in load_pailiang(vid):\n",
      "  File \"<ipython-input-74-a1bbc79ad05d>\", line 11, in load_pailiang\n",
      "    return requests.get(url, headers=headers).json()['PaiLiang']\n",
      "  File \"/Users/laisky/.virtualenvs/37/lib/python3.7/site-packages/requests/models.py\", line 897, in json\n",
      "    return complexjson.loads(self.text, **kwargs)\n",
      "  File \"/Users/laisky/.virtualenvs/37/lib/python3.7/site-packages/simplejson/__init__.py\", line 518, in loads\n",
      "    return _default_decoder.decode(s)\n",
      "  File \"/Users/laisky/.virtualenvs/37/lib/python3.7/site-packages/simplejson/decoder.py\", line 370, in decode\n",
      "    obj, end = self.raw_decode(s)\n",
      "  File \"/Users/laisky/.virtualenvs/37/lib/python3.7/site-packages/simplejson/decoder.py\", line 400, in raw_decode\n",
      "    return self.scan_once(s, idx=_w(s, idx).end())\n",
      "simplejson.errors.JSONDecodeError: Expecting value: line 1 column 1 (char 0)\n",
      "Traceback (most recent call last):\n",
      "  File \"<ipython-input-74-a1bbc79ad05d>\", line 60, in <module>\n",
      "    for pailiang in load_pailiang(vid):\n",
      "  File \"<ipython-input-74-a1bbc79ad05d>\", line 11, in load_pailiang\n",
      "    return requests.get(url, headers=headers).json()['PaiLiang']\n",
      "  File \"/Users/laisky/.virtualenvs/37/lib/python3.7/site-packages/requests/models.py\", line 897, in json\n",
      "    return complexjson.loads(self.text, **kwargs)\n",
      "  File \"/Users/laisky/.virtualenvs/37/lib/python3.7/site-packages/simplejson/__init__.py\", line 518, in loads\n",
      "    return _default_decoder.decode(s)\n",
      "  File \"/Users/laisky/.virtualenvs/37/lib/python3.7/site-packages/simplejson/decoder.py\", line 370, in decode\n",
      "    obj, end = self.raw_decode(s)\n",
      "  File \"/Users/laisky/.virtualenvs/37/lib/python3.7/site-packages/simplejson/decoder.py\", line 400, in raw_decode\n",
      "    return self.scan_once(s, idx=_w(s, idx).end())\n",
      "simplejson.errors.JSONDecodeError: Expecting value: line 1 column 1 (char 0)\n"
     ]
    },
    {
     "name": "stdout",
     "output_type": "stream",
     "text": [
      ">> F - 福田 - VE-FUTDFIYMFJHS - {'Vehicle': '风景·海狮-福田汽车', 'ProductID': 'VE-FUTDFIYMFJHS', 'BrandType': '福田汽车', 'Brand': 'F - 福田', 'Url': '/Images/Logo/futian.png', 'Src': 'https://img3.tuhu.org/Images/type/VE-FUTDFIYMFJHS.png@163w_163h_100Q.png', 'IsBaoYang': 'True', 'CarName': '风景·海狮', 'appSrc': None, 'Image': 'https://img3.tuhu.org/Images/type/VE-FUTDFIYMFJHS.png@100Q.png', 'ImageUrl': 'https://img3.tuhu.org/Images/Logo/FuTian.png', 'Tires': '205/70R14', 'SpecialTireSize': None, 'OriginalIsBaoyang': 1, 'Priority2': 1, 'Priority3': 5, 'VehicleSeries': None}\n",
      ">> F - 福田 - VE-FUTDFIYMFJG7 - {'Vehicle': '风景G7-福田汽车', 'ProductID': 'VE-FUTDFIYMFJG7', 'BrandType': '福田汽车', 'Brand': 'F - 福田', 'Url': '/Images/Logo/futian.png', 'Src': 'https://img3.tuhu.org/Images/type/VE-FUTDFIYMFJG7.png@163w_163h_100Q.png', 'IsBaoYang': 'True', 'CarName': '风景G7', 'appSrc': None, 'Image': 'https://img3.tuhu.org/Images/type/VE-FUTDFIYMFJG7.png@100Q.png', 'ImageUrl': 'https://img3.tuhu.org/Images/Logo/FuTian.png', 'Tires': '195/70R15;195/R15C', 'SpecialTireSize': None, 'OriginalIsBaoyang': 1, 'Priority2': 1, 'Priority3': 4, 'VehicleSeries': None}\n"
     ]
    },
    {
     "name": "stderr",
     "output_type": "stream",
     "text": [
      "Traceback (most recent call last):\n",
      "  File \"<ipython-input-74-a1bbc79ad05d>\", line 60, in <module>\n",
      "    for pailiang in load_pailiang(vid):\n",
      "  File \"<ipython-input-74-a1bbc79ad05d>\", line 11, in load_pailiang\n",
      "    return requests.get(url, headers=headers).json()['PaiLiang']\n",
      "  File \"/Users/laisky/.virtualenvs/37/lib/python3.7/site-packages/requests/models.py\", line 897, in json\n",
      "    return complexjson.loads(self.text, **kwargs)\n",
      "  File \"/Users/laisky/.virtualenvs/37/lib/python3.7/site-packages/simplejson/__init__.py\", line 518, in loads\n",
      "    return _default_decoder.decode(s)\n",
      "  File \"/Users/laisky/.virtualenvs/37/lib/python3.7/site-packages/simplejson/decoder.py\", line 370, in decode\n",
      "    obj, end = self.raw_decode(s)\n",
      "  File \"/Users/laisky/.virtualenvs/37/lib/python3.7/site-packages/simplejson/decoder.py\", line 400, in raw_decode\n",
      "    return self.scan_once(s, idx=_w(s, idx).end())\n",
      "simplejson.errors.JSONDecodeError: Expecting value: line 1 column 1 (char 0)\n",
      "Traceback (most recent call last):\n",
      "  File \"<ipython-input-74-a1bbc79ad05d>\", line 60, in <module>\n",
      "    for pailiang in load_pailiang(vid):\n",
      "  File \"<ipython-input-74-a1bbc79ad05d>\", line 11, in load_pailiang\n",
      "    return requests.get(url, headers=headers).json()['PaiLiang']\n",
      "  File \"/Users/laisky/.virtualenvs/37/lib/python3.7/site-packages/requests/models.py\", line 897, in json\n",
      "    return complexjson.loads(self.text, **kwargs)\n",
      "  File \"/Users/laisky/.virtualenvs/37/lib/python3.7/site-packages/simplejson/__init__.py\", line 518, in loads\n",
      "    return _default_decoder.decode(s)\n",
      "  File \"/Users/laisky/.virtualenvs/37/lib/python3.7/site-packages/simplejson/decoder.py\", line 370, in decode\n",
      "    obj, end = self.raw_decode(s)\n",
      "  File \"/Users/laisky/.virtualenvs/37/lib/python3.7/site-packages/simplejson/decoder.py\", line 400, in raw_decode\n",
      "    return self.scan_once(s, idx=_w(s, idx).end())\n",
      "simplejson.errors.JSONDecodeError: Expecting value: line 1 column 1 (char 0)\n"
     ]
    },
    {
     "name": "stdout",
     "output_type": "stream",
     "text": [
      ">> F - 福田 - VE-FUTDFIYMFJG8 - {'Vehicle': '风景G9-福田汽车', 'ProductID': 'VE-FUTDFIYMFJG8', 'BrandType': '福田汽车', 'Brand': 'F - 福田', 'Url': '/Images/Logo/futian.png', 'Src': 'https://img4.tuhu.org/Images/type/VE-FUTDFIYMFJG8.png@163w_163h_100Q.png', 'IsBaoYang': 'True', 'CarName': '风景G9', 'appSrc': None, 'Image': 'https://img4.tuhu.org/Images/type/VE-FUTDFIYMFJG8.png@100Q.png', 'ImageUrl': 'https://img3.tuhu.org/Images/Logo/FuTian.png', 'Tires': '195/R15C', 'SpecialTireSize': None, 'OriginalIsBaoyang': 1, 'Priority2': 1, 'Priority3': 3, 'VehicleSeries': None}\n",
      ">> F - 福田 - VE-FUTDFIYMFJV3 - {'Vehicle': '风景V3-福田汽车', 'ProductID': 'VE-FUTDFIYMFJV3', 'BrandType': '福田汽车', 'Brand': 'F - 福田', 'Url': '/Images/Logo/futian.png', 'Src': 'https://img4.tuhu.org/Images/type/VE-FUTDFIYMFJV3.png@163w_163h_100Q.png', 'IsBaoYang': 'True', 'CarName': '风景V3', 'appSrc': None, 'Image': 'https://img4.tuhu.org/Images/type/VE-FUTDFIYMFJV3.png@100Q.png', 'ImageUrl': 'https://img3.tuhu.org/Images/Logo/FuTian.png', 'Tires': '165/70R13;175/70R14', 'SpecialTireSize': None, 'OriginalIsBaoyang': 1, 'Priority2': 1, 'Priority3': 2, 'VehicleSeries': None}\n"
     ]
    },
    {
     "name": "stderr",
     "output_type": "stream",
     "text": [
      "Traceback (most recent call last):\n",
      "  File \"<ipython-input-74-a1bbc79ad05d>\", line 60, in <module>\n",
      "    for pailiang in load_pailiang(vid):\n",
      "  File \"<ipython-input-74-a1bbc79ad05d>\", line 11, in load_pailiang\n",
      "    return requests.get(url, headers=headers).json()['PaiLiang']\n",
      "  File \"/Users/laisky/.virtualenvs/37/lib/python3.7/site-packages/requests/models.py\", line 897, in json\n",
      "    return complexjson.loads(self.text, **kwargs)\n",
      "  File \"/Users/laisky/.virtualenvs/37/lib/python3.7/site-packages/simplejson/__init__.py\", line 518, in loads\n",
      "    return _default_decoder.decode(s)\n",
      "  File \"/Users/laisky/.virtualenvs/37/lib/python3.7/site-packages/simplejson/decoder.py\", line 370, in decode\n",
      "    obj, end = self.raw_decode(s)\n",
      "  File \"/Users/laisky/.virtualenvs/37/lib/python3.7/site-packages/simplejson/decoder.py\", line 400, in raw_decode\n",
      "    return self.scan_once(s, idx=_w(s, idx).end())\n",
      "simplejson.errors.JSONDecodeError: Expecting value: line 1 column 1 (char 0)\n",
      "Traceback (most recent call last):\n",
      "  File \"<ipython-input-74-a1bbc79ad05d>\", line 60, in <module>\n",
      "    for pailiang in load_pailiang(vid):\n",
      "  File \"<ipython-input-74-a1bbc79ad05d>\", line 11, in load_pailiang\n",
      "    return requests.get(url, headers=headers).json()['PaiLiang']\n",
      "  File \"/Users/laisky/.virtualenvs/37/lib/python3.7/site-packages/requests/models.py\", line 897, in json\n",
      "    return complexjson.loads(self.text, **kwargs)\n",
      "  File \"/Users/laisky/.virtualenvs/37/lib/python3.7/site-packages/simplejson/__init__.py\", line 518, in loads\n",
      "    return _default_decoder.decode(s)\n",
      "  File \"/Users/laisky/.virtualenvs/37/lib/python3.7/site-packages/simplejson/decoder.py\", line 370, in decode\n",
      "    obj, end = self.raw_decode(s)\n",
      "  File \"/Users/laisky/.virtualenvs/37/lib/python3.7/site-packages/simplejson/decoder.py\", line 400, in raw_decode\n",
      "    return self.scan_once(s, idx=_w(s, idx).end())\n",
      "simplejson.errors.JSONDecodeError: Expecting value: line 1 column 1 (char 0)\n"
     ]
    },
    {
     "name": "stdout",
     "output_type": "stream",
     "text": [
      ">> F - 福田 - VE-FUTDFIYMFJV5 - {'Vehicle': '风景V5-福田汽车', 'ProductID': 'VE-FUTDFIYMFJV5', 'BrandType': '福田汽车', 'Brand': 'F - 福田', 'Url': '/Images/Logo/futian.png', 'Src': 'https://img4.tuhu.org/Images/type/VE-FUTDFIYMFJV5.png@163w_163h_100Q.png', 'IsBaoYang': 'True', 'CarName': '风景V5', 'appSrc': None, 'Image': 'https://img4.tuhu.org/Images/type/VE-FUTDFIYMFJV5.png@100Q.png', 'ImageUrl': 'https://img3.tuhu.org/Images/Logo/FuTian.png', 'Tires': '175/70R14', 'SpecialTireSize': None, 'OriginalIsBaoyang': 1, 'Priority2': 1, 'Priority3': 1, 'VehicleSeries': None}\n",
      "F - 法拉利 done\n",
      ">> F - 法拉利 - VE-FERR06AC - {'Vehicle': '360-法拉利汽车', 'ProductID': 'VE-FERR06AC', 'BrandType': '法拉利汽车', 'Brand': 'F - 法拉利', 'Url': '/Images/Logo/falali.png', 'Src': 'https://img4.tuhu.org/Images/type/VE-FERR06AC.png@163w_163h_100Q.png', 'IsBaoYang': 'True', 'CarName': '360', 'appSrc': None, 'Image': 'https://img4.tuhu.org/Images/type/VE-FERR06AC.png@100Q.png', 'ImageUrl': 'https://img3.tuhu.org/Images/Logo/FaLaLi.png', 'Tires': '215/45R18;275/40R18', 'SpecialTireSize': None, 'OriginalIsBaoyang': 1, 'Priority2': 1, 'Priority3': 17, 'VehicleSeries': None}\n"
     ]
    },
    {
     "name": "stderr",
     "output_type": "stream",
     "text": [
      "Traceback (most recent call last):\n",
      "  File \"<ipython-input-74-a1bbc79ad05d>\", line 60, in <module>\n",
      "    for pailiang in load_pailiang(vid):\n",
      "  File \"<ipython-input-74-a1bbc79ad05d>\", line 11, in load_pailiang\n",
      "    return requests.get(url, headers=headers).json()['PaiLiang']\n",
      "  File \"/Users/laisky/.virtualenvs/37/lib/python3.7/site-packages/requests/models.py\", line 897, in json\n",
      "    return complexjson.loads(self.text, **kwargs)\n",
      "  File \"/Users/laisky/.virtualenvs/37/lib/python3.7/site-packages/simplejson/__init__.py\", line 518, in loads\n",
      "    return _default_decoder.decode(s)\n",
      "  File \"/Users/laisky/.virtualenvs/37/lib/python3.7/site-packages/simplejson/decoder.py\", line 370, in decode\n",
      "    obj, end = self.raw_decode(s)\n",
      "  File \"/Users/laisky/.virtualenvs/37/lib/python3.7/site-packages/simplejson/decoder.py\", line 400, in raw_decode\n",
      "    return self.scan_once(s, idx=_w(s, idx).end())\n",
      "simplejson.errors.JSONDecodeError: Expecting value: line 1 column 1 (char 0)\n",
      "Traceback (most recent call last):\n",
      "  File \"<ipython-input-74-a1bbc79ad05d>\", line 60, in <module>\n",
      "    for pailiang in load_pailiang(vid):\n",
      "  File \"<ipython-input-74-a1bbc79ad05d>\", line 11, in load_pailiang\n",
      "    return requests.get(url, headers=headers).json()['PaiLiang']\n",
      "  File \"/Users/laisky/.virtualenvs/37/lib/python3.7/site-packages/requests/models.py\", line 897, in json\n",
      "    return complexjson.loads(self.text, **kwargs)\n",
      "  File \"/Users/laisky/.virtualenvs/37/lib/python3.7/site-packages/simplejson/__init__.py\", line 518, in loads\n",
      "    return _default_decoder.decode(s)\n",
      "  File \"/Users/laisky/.virtualenvs/37/lib/python3.7/site-packages/simplejson/decoder.py\", line 370, in decode\n",
      "    obj, end = self.raw_decode(s)\n",
      "  File \"/Users/laisky/.virtualenvs/37/lib/python3.7/site-packages/simplejson/decoder.py\", line 400, in raw_decode\n",
      "    return self.scan_once(s, idx=_w(s, idx).end())\n",
      "simplejson.errors.JSONDecodeError: Expecting value: line 1 column 1 (char 0)\n"
     ]
    },
    {
     "name": "stdout",
     "output_type": "stream",
     "text": [
      ">> F - 法拉利 - VE-FJLLF430 - {'Vehicle': 'F430-法拉利汽车', 'ProductID': 'VE-FJLLF430', 'BrandType': '法拉利汽车', 'Brand': 'F - 法拉利', 'Url': '/Images/Logo/falali.png', 'Src': 'https://img4.tuhu.org/Images/type/VE-FJLLF430.png@163w_163h_100Q.png', 'IsBaoYang': 'True', 'CarName': 'F430', 'appSrc': None, 'Image': 'https://img4.tuhu.org/Images/type/VE-FJLLF430.png@100Q.png', 'ImageUrl': 'https://img3.tuhu.org/Images/Logo/FaLaLi.png', 'Tires': '225/35R19;285/35R19;235/35R19', 'SpecialTireSize': None, 'OriginalIsBaoyang': 1, 'Priority2': 1, 'Priority3': 16, 'VehicleSeries': None}\n",
      ">> F - 法拉利 - VE-FERR456M - {'Vehicle': '456M-法拉利汽车', 'ProductID': 'VE-FERR456M', 'BrandType': '法拉利汽车', 'Brand': 'F - 法拉利', 'Url': '/Images/Logo/falali.png', 'Src': 'https://img4.tuhu.org/Images/type/VE-FERR456M.png@163w_163h_100Q.png', 'IsBaoYang': 'True', 'CarName': '456M', 'appSrc': None, 'Image': 'https://img4.tuhu.org/Images/type/VE-FERR456M.png@100Q.png', 'ImageUrl': 'https://img3.tuhu.org/Images/Logo/FaLaLi.png', 'Tires': '285/40R17;305/35R20', 'SpecialTireSize': None, 'OriginalIsBaoyang': 1, 'Priority2': 1, 'Priority3': 15, 'VehicleSeries': None}\n"
     ]
    },
    {
     "name": "stderr",
     "output_type": "stream",
     "text": [
      "Traceback (most recent call last):\n",
      "  File \"<ipython-input-74-a1bbc79ad05d>\", line 60, in <module>\n",
      "    for pailiang in load_pailiang(vid):\n",
      "  File \"<ipython-input-74-a1bbc79ad05d>\", line 11, in load_pailiang\n",
      "    return requests.get(url, headers=headers).json()['PaiLiang']\n",
      "  File \"/Users/laisky/.virtualenvs/37/lib/python3.7/site-packages/requests/models.py\", line 897, in json\n",
      "    return complexjson.loads(self.text, **kwargs)\n",
      "  File \"/Users/laisky/.virtualenvs/37/lib/python3.7/site-packages/simplejson/__init__.py\", line 518, in loads\n",
      "    return _default_decoder.decode(s)\n",
      "  File \"/Users/laisky/.virtualenvs/37/lib/python3.7/site-packages/simplejson/decoder.py\", line 370, in decode\n",
      "    obj, end = self.raw_decode(s)\n",
      "  File \"/Users/laisky/.virtualenvs/37/lib/python3.7/site-packages/simplejson/decoder.py\", line 400, in raw_decode\n",
      "    return self.scan_once(s, idx=_w(s, idx).end())\n",
      "simplejson.errors.JSONDecodeError: Expecting value: line 1 column 1 (char 0)\n",
      "Traceback (most recent call last):\n",
      "  File \"<ipython-input-74-a1bbc79ad05d>\", line 60, in <module>\n",
      "    for pailiang in load_pailiang(vid):\n",
      "  File \"<ipython-input-74-a1bbc79ad05d>\", line 11, in load_pailiang\n",
      "    return requests.get(url, headers=headers).json()['PaiLiang']\n",
      "  File \"/Users/laisky/.virtualenvs/37/lib/python3.7/site-packages/requests/models.py\", line 897, in json\n",
      "    return complexjson.loads(self.text, **kwargs)\n",
      "  File \"/Users/laisky/.virtualenvs/37/lib/python3.7/site-packages/simplejson/__init__.py\", line 518, in loads\n",
      "    return _default_decoder.decode(s)\n",
      "  File \"/Users/laisky/.virtualenvs/37/lib/python3.7/site-packages/simplejson/decoder.py\", line 370, in decode\n",
      "    obj, end = self.raw_decode(s)\n",
      "  File \"/Users/laisky/.virtualenvs/37/lib/python3.7/site-packages/simplejson/decoder.py\", line 400, in raw_decode\n",
      "    return self.scan_once(s, idx=_w(s, idx).end())\n",
      "simplejson.errors.JSONDecodeError: Expecting value: line 1 column 1 (char 0)\n"
     ]
    },
    {
     "name": "stdout",
     "output_type": "stream",
     "text": [
      ">> F - 法拉利 - VE-458Italia - {'Vehicle': '458 Italia-法拉利汽车', 'ProductID': 'VE-458Italia', 'BrandType': '法拉利汽车', 'Brand': 'F - 法拉利', 'Url': '/Images/Logo/falali.png', 'Src': 'https://img4.tuhu.org/Images/type/VE-458Italia.png@163w_163h_100Q.png', 'IsBaoYang': 'True', 'CarName': '458 Italia', 'appSrc': None, 'Image': 'https://img4.tuhu.org/Images/type/VE-458Italia.png@100Q.png', 'ImageUrl': 'https://img3.tuhu.org/Images/Logo/FaLaLi.png', 'Tires': '235/35R20;295/35R20', 'SpecialTireSize': None, 'OriginalIsBaoyang': 1, 'Priority2': 1, 'Priority3': 14, 'VehicleSeries': None}\n",
      ">> F - 法拉利 - VE-458Special - {'Vehicle': '458 Speciale-法拉利汽车', 'ProductID': 'VE-458Special', 'BrandType': '法拉利汽车', 'Brand': 'F - 法拉利', 'Url': '/Images/Logo/falali.png', 'Src': 'https://img3.tuhu.org/Images/type/VE-458Special.png@163w_163h_100Q.png', 'IsBaoYang': 'True', 'CarName': '458 Speciale', 'appSrc': None, 'Image': 'https://img3.tuhu.org/Images/type/VE-458Special.png@100Q.png', 'ImageUrl': 'https://img3.tuhu.org/Images/Logo/FaLaLi.png', 'Tires': '245/35R20;305/30R20;235/35R20;295/35R20', 'SpecialTireSize': None, 'OriginalIsBaoyang': 1, 'Priority2': 1, 'Priority3': 13, 'VehicleSeries': None}\n"
     ]
    },
    {
     "name": "stderr",
     "output_type": "stream",
     "text": [
      "Traceback (most recent call last):\n",
      "  File \"<ipython-input-74-a1bbc79ad05d>\", line 60, in <module>\n",
      "    for pailiang in load_pailiang(vid):\n",
      "  File \"<ipython-input-74-a1bbc79ad05d>\", line 11, in load_pailiang\n",
      "    return requests.get(url, headers=headers).json()['PaiLiang']\n",
      "  File \"/Users/laisky/.virtualenvs/37/lib/python3.7/site-packages/requests/models.py\", line 897, in json\n",
      "    return complexjson.loads(self.text, **kwargs)\n",
      "  File \"/Users/laisky/.virtualenvs/37/lib/python3.7/site-packages/simplejson/__init__.py\", line 518, in loads\n",
      "    return _default_decoder.decode(s)\n",
      "  File \"/Users/laisky/.virtualenvs/37/lib/python3.7/site-packages/simplejson/decoder.py\", line 370, in decode\n",
      "    obj, end = self.raw_decode(s)\n",
      "  File \"/Users/laisky/.virtualenvs/37/lib/python3.7/site-packages/simplejson/decoder.py\", line 400, in raw_decode\n",
      "    return self.scan_once(s, idx=_w(s, idx).end())\n",
      "simplejson.errors.JSONDecodeError: Expecting value: line 1 column 1 (char 0)\n",
      "Traceback (most recent call last):\n",
      "  File \"<ipython-input-74-a1bbc79ad05d>\", line 60, in <module>\n",
      "    for pailiang in load_pailiang(vid):\n",
      "  File \"<ipython-input-74-a1bbc79ad05d>\", line 11, in load_pailiang\n",
      "    return requests.get(url, headers=headers).json()['PaiLiang']\n",
      "  File \"/Users/laisky/.virtualenvs/37/lib/python3.7/site-packages/requests/models.py\", line 897, in json\n",
      "    return complexjson.loads(self.text, **kwargs)\n",
      "  File \"/Users/laisky/.virtualenvs/37/lib/python3.7/site-packages/simplejson/__init__.py\", line 518, in loads\n",
      "    return _default_decoder.decode(s)\n",
      "  File \"/Users/laisky/.virtualenvs/37/lib/python3.7/site-packages/simplejson/decoder.py\", line 370, in decode\n",
      "    obj, end = self.raw_decode(s)\n",
      "  File \"/Users/laisky/.virtualenvs/37/lib/python3.7/site-packages/simplejson/decoder.py\", line 400, in raw_decode\n",
      "    return self.scan_once(s, idx=_w(s, idx).end())\n",
      "simplejson.errors.JSONDecodeError: Expecting value: line 1 column 1 (char 0)\n"
     ]
    },
    {
     "name": "stdout",
     "output_type": "stream",
     "text": [
      ">> F - 法拉利 - VE-FERR488GTB - {'Vehicle': '488-法拉利汽车', 'ProductID': 'VE-FERR488GTB', 'BrandType': '法拉利汽车', 'Brand': 'F - 法拉利', 'Url': '/Images/Logo/falali.png', 'Src': 'https://img3.tuhu.org/Images/type/VE-FERR488GTB.png@163w_163h_100Q.png', 'IsBaoYang': 'True', 'CarName': '488', 'appSrc': None, 'Image': 'https://img3.tuhu.org/Images/type/VE-FERR488GTB.png@100Q.png', 'ImageUrl': 'https://img3.tuhu.org/Images/Logo/FaLaLi.png', 'Tires': '245/35R20;305/30R20', 'SpecialTireSize': None, 'OriginalIsBaoyang': 1, 'Priority2': 1, 'Priority3': 12, 'VehicleSeries': None}\n",
      ">> F - 法拉利 - VE-FERR06AD - {'Vehicle': '575-法拉利汽车', 'ProductID': 'VE-FERR06AD', 'BrandType': '法拉利汽车', 'Brand': 'F - 法拉利', 'Url': '/Images/Logo/falali.png', 'Src': 'https://img3.tuhu.org/Images/type/VE-FERR06AD.png@163w_163h_100Q.png', 'IsBaoYang': 'True', 'CarName': '575', 'appSrc': None, 'Image': 'https://img3.tuhu.org/Images/type/VE-FERR06AD.png@100Q.png', 'ImageUrl': 'https://img3.tuhu.org/Images/Logo/FaLaLi.png', 'Tires': '245/40R19;305/35R20;295/35R18;255/40R18', 'SpecialTireSize': None, 'OriginalIsBaoyang': 1, 'Priority2': 1, 'Priority3': 11, 'VehicleSeries': None}\n"
     ]
    },
    {
     "name": "stderr",
     "output_type": "stream",
     "text": [
      "Traceback (most recent call last):\n",
      "  File \"<ipython-input-74-a1bbc79ad05d>\", line 60, in <module>\n",
      "    for pailiang in load_pailiang(vid):\n",
      "  File \"<ipython-input-74-a1bbc79ad05d>\", line 11, in load_pailiang\n",
      "    return requests.get(url, headers=headers).json()['PaiLiang']\n",
      "  File \"/Users/laisky/.virtualenvs/37/lib/python3.7/site-packages/requests/models.py\", line 897, in json\n",
      "    return complexjson.loads(self.text, **kwargs)\n",
      "  File \"/Users/laisky/.virtualenvs/37/lib/python3.7/site-packages/simplejson/__init__.py\", line 518, in loads\n",
      "    return _default_decoder.decode(s)\n",
      "  File \"/Users/laisky/.virtualenvs/37/lib/python3.7/site-packages/simplejson/decoder.py\", line 370, in decode\n",
      "    obj, end = self.raw_decode(s)\n",
      "  File \"/Users/laisky/.virtualenvs/37/lib/python3.7/site-packages/simplejson/decoder.py\", line 400, in raw_decode\n",
      "    return self.scan_once(s, idx=_w(s, idx).end())\n",
      "simplejson.errors.JSONDecodeError: Expecting value: line 1 column 1 (char 0)\n",
      "Traceback (most recent call last):\n",
      "  File \"<ipython-input-74-a1bbc79ad05d>\", line 60, in <module>\n",
      "    for pailiang in load_pailiang(vid):\n",
      "  File \"<ipython-input-74-a1bbc79ad05d>\", line 11, in load_pailiang\n",
      "    return requests.get(url, headers=headers).json()['PaiLiang']\n",
      "  File \"/Users/laisky/.virtualenvs/37/lib/python3.7/site-packages/requests/models.py\", line 897, in json\n",
      "    return complexjson.loads(self.text, **kwargs)\n",
      "  File \"/Users/laisky/.virtualenvs/37/lib/python3.7/site-packages/simplejson/__init__.py\", line 518, in loads\n",
      "    return _default_decoder.decode(s)\n",
      "  File \"/Users/laisky/.virtualenvs/37/lib/python3.7/site-packages/simplejson/decoder.py\", line 370, in decode\n",
      "    obj, end = self.raw_decode(s)\n",
      "  File \"/Users/laisky/.virtualenvs/37/lib/python3.7/site-packages/simplejson/decoder.py\", line 400, in raw_decode\n",
      "    return self.scan_once(s, idx=_w(s, idx).end())\n",
      "simplejson.errors.JSONDecodeError: Expecting value: line 1 column 1 (char 0)\n"
     ]
    },
    {
     "name": "stdout",
     "output_type": "stream",
     "text": [
      ">> F - 法拉利 - VE-FJLL599 - {'Vehicle': '599-法拉利汽车', 'ProductID': 'VE-FJLL599', 'BrandType': '法拉利汽车', 'Brand': 'F - 法拉利', 'Url': '/Images/Logo/falali.png', 'Src': 'https://img3.tuhu.org/Images/type/VE-FJLL599.png@163w_163h_100Q.png', 'IsBaoYang': 'True', 'CarName': '599', 'appSrc': None, 'Image': 'https://img3.tuhu.org/Images/type/VE-FJLL599.png@100Q.png', 'ImageUrl': 'https://img3.tuhu.org/Images/Logo/FaLaLi.png', 'Tires': '245/40R19;305/35R19;305/35R20', 'SpecialTireSize': None, 'OriginalIsBaoyang': 1, 'Priority2': 1, 'Priority3': 10, 'VehicleSeries': None}\n",
      ">> F - 法拉利 - VE-FJLL612 - {'Vehicle': '612-法拉利汽车', 'ProductID': 'VE-FJLL612', 'BrandType': '法拉利汽车', 'Brand': 'F - 法拉利', 'Url': '/Images/Logo/falali.png', 'Src': 'https://img3.tuhu.org/Images/type/VE-FJLL612.png@163w_163h_100Q.png', 'IsBaoYang': 'True', 'CarName': '612', 'appSrc': None, 'Image': 'https://img3.tuhu.org/Images/type/VE-FJLL612.png@100Q.png', 'ImageUrl': 'https://img3.tuhu.org/Images/Logo/FaLaLi.png', 'Tires': '245/45R18;245/40R19;285/40R19', 'SpecialTireSize': None, 'OriginalIsBaoyang': 1, 'Priority2': 1, 'Priority3': 9, 'VehicleSeries': None}\n"
     ]
    },
    {
     "name": "stderr",
     "output_type": "stream",
     "text": [
      "Traceback (most recent call last):\n",
      "  File \"<ipython-input-74-a1bbc79ad05d>\", line 60, in <module>\n",
      "    for pailiang in load_pailiang(vid):\n",
      "  File \"<ipython-input-74-a1bbc79ad05d>\", line 11, in load_pailiang\n",
      "    return requests.get(url, headers=headers).json()['PaiLiang']\n",
      "  File \"/Users/laisky/.virtualenvs/37/lib/python3.7/site-packages/requests/models.py\", line 897, in json\n",
      "    return complexjson.loads(self.text, **kwargs)\n",
      "  File \"/Users/laisky/.virtualenvs/37/lib/python3.7/site-packages/simplejson/__init__.py\", line 518, in loads\n",
      "    return _default_decoder.decode(s)\n",
      "  File \"/Users/laisky/.virtualenvs/37/lib/python3.7/site-packages/simplejson/decoder.py\", line 370, in decode\n",
      "    obj, end = self.raw_decode(s)\n",
      "  File \"/Users/laisky/.virtualenvs/37/lib/python3.7/site-packages/simplejson/decoder.py\", line 400, in raw_decode\n",
      "    return self.scan_once(s, idx=_w(s, idx).end())\n",
      "simplejson.errors.JSONDecodeError: Expecting value: line 1 column 1 (char 0)\n",
      "Traceback (most recent call last):\n",
      "  File \"<ipython-input-74-a1bbc79ad05d>\", line 60, in <module>\n",
      "    for pailiang in load_pailiang(vid):\n",
      "  File \"<ipython-input-74-a1bbc79ad05d>\", line 11, in load_pailiang\n",
      "    return requests.get(url, headers=headers).json()['PaiLiang']\n",
      "  File \"/Users/laisky/.virtualenvs/37/lib/python3.7/site-packages/requests/models.py\", line 897, in json\n",
      "    return complexjson.loads(self.text, **kwargs)\n",
      "  File \"/Users/laisky/.virtualenvs/37/lib/python3.7/site-packages/simplejson/__init__.py\", line 518, in loads\n",
      "    return _default_decoder.decode(s)\n",
      "  File \"/Users/laisky/.virtualenvs/37/lib/python3.7/site-packages/simplejson/decoder.py\", line 370, in decode\n",
      "    obj, end = self.raw_decode(s)\n",
      "  File \"/Users/laisky/.virtualenvs/37/lib/python3.7/site-packages/simplejson/decoder.py\", line 400, in raw_decode\n",
      "    return self.scan_once(s, idx=_w(s, idx).end())\n",
      "simplejson.errors.JSONDecodeError: Expecting value: line 1 column 1 (char 0)\n"
     ]
    },
    {
     "name": "stdout",
     "output_type": "stream",
     "text": [
      ">> F - 法拉利 - VE-California - {'Vehicle': 'California-法拉利汽车', 'ProductID': 'VE-California', 'BrandType': '法拉利汽车', 'Brand': 'F - 法拉利', 'Url': '/Images/Logo/falali.png', 'Src': 'https://img3.tuhu.org/Images/type/VE-California.png@163w_163h_100Q.png', 'IsBaoYang': 'True', 'CarName': 'California', 'appSrc': None, 'Image': 'https://img3.tuhu.org/Images/type/VE-California.png@100Q.png', 'ImageUrl': 'https://img3.tuhu.org/Images/Logo/FaLaLi.png', 'Tires': '245/40R19;285/40R19;245/35R20;285/35R20', 'SpecialTireSize': None, 'OriginalIsBaoyang': 1, 'Priority2': 1, 'Priority3': 8, 'VehicleSeries': None}\n",
      ">> F - 法拉利 - VE-FERLFIOFFF - {'Vehicle': 'FF-法拉利汽车', 'ProductID': 'VE-FERLFIOFFF', 'BrandType': '法拉利汽车', 'Brand': 'F - 法拉利', 'Url': '/Images/Logo/falali.png', 'Src': 'https://img4.tuhu.org/Images/type/VE-FERLFIOFFF.png@163w_163h_100Q.png', 'IsBaoYang': 'True', 'CarName': 'FF', 'appSrc': None, 'Image': 'https://img4.tuhu.org/Images/type/VE-FERLFIOFFF.png@100Q.png', 'ImageUrl': 'https://img3.tuhu.org/Images/Logo/FaLaLi.png', 'Tires': '245/35R20;295/35R20', 'SpecialTireSize': None, 'OriginalIsBaoyang': 1, 'Priority2': 1, 'Priority3': 7, 'VehicleSeries': None}\n"
     ]
    },
    {
     "name": "stderr",
     "output_type": "stream",
     "text": [
      "Traceback (most recent call last):\n",
      "  File \"<ipython-input-74-a1bbc79ad05d>\", line 60, in <module>\n",
      "    for pailiang in load_pailiang(vid):\n",
      "  File \"<ipython-input-74-a1bbc79ad05d>\", line 11, in load_pailiang\n",
      "    return requests.get(url, headers=headers).json()['PaiLiang']\n",
      "  File \"/Users/laisky/.virtualenvs/37/lib/python3.7/site-packages/requests/models.py\", line 897, in json\n",
      "    return complexjson.loads(self.text, **kwargs)\n",
      "  File \"/Users/laisky/.virtualenvs/37/lib/python3.7/site-packages/simplejson/__init__.py\", line 518, in loads\n",
      "    return _default_decoder.decode(s)\n",
      "  File \"/Users/laisky/.virtualenvs/37/lib/python3.7/site-packages/simplejson/decoder.py\", line 370, in decode\n",
      "    obj, end = self.raw_decode(s)\n",
      "  File \"/Users/laisky/.virtualenvs/37/lib/python3.7/site-packages/simplejson/decoder.py\", line 400, in raw_decode\n",
      "    return self.scan_once(s, idx=_w(s, idx).end())\n",
      "simplejson.errors.JSONDecodeError: Expecting value: line 1 column 1 (char 0)\n",
      "Traceback (most recent call last):\n",
      "  File \"<ipython-input-74-a1bbc79ad05d>\", line 60, in <module>\n",
      "    for pailiang in load_pailiang(vid):\n",
      "  File \"<ipython-input-74-a1bbc79ad05d>\", line 11, in load_pailiang\n",
      "    return requests.get(url, headers=headers).json()['PaiLiang']\n",
      "  File \"/Users/laisky/.virtualenvs/37/lib/python3.7/site-packages/requests/models.py\", line 897, in json\n",
      "    return complexjson.loads(self.text, **kwargs)\n",
      "  File \"/Users/laisky/.virtualenvs/37/lib/python3.7/site-packages/simplejson/__init__.py\", line 518, in loads\n",
      "    return _default_decoder.decode(s)\n",
      "  File \"/Users/laisky/.virtualenvs/37/lib/python3.7/site-packages/simplejson/decoder.py\", line 370, in decode\n",
      "    obj, end = self.raw_decode(s)\n",
      "  File \"/Users/laisky/.virtualenvs/37/lib/python3.7/site-packages/simplejson/decoder.py\", line 400, in raw_decode\n",
      "    return self.scan_once(s, idx=_w(s, idx).end())\n",
      "simplejson.errors.JSONDecodeError: Expecting value: line 1 column 1 (char 0)\n"
     ]
    },
    {
     "name": "stdout",
     "output_type": "stream",
     "text": [
      ">> F - 法拉利 - VE-FERLFIOFBL - {'Vehicle': 'F12 Berlinetta-法拉利汽车', 'ProductID': 'VE-FERLFIOFBL', 'BrandType': '法拉利汽车', 'Brand': 'F - 法拉利', 'Url': '/Images/Logo/falali.png', 'Src': 'https://img3.tuhu.org/Images/type/VE-FERLFIOFBL.png@163w_163h_100Q.png', 'IsBaoYang': 'True', 'CarName': 'F12 Berlinetta', 'appSrc': None, 'Image': 'https://img3.tuhu.org/Images/type/VE-FERLFIOFBL.png@100Q.png', 'ImageUrl': 'https://img3.tuhu.org/Images/Logo/FaLaLi.png', 'Tires': '255/35R20;315/35R20;275/35R20', 'SpecialTireSize': None, 'OriginalIsBaoyang': 1, 'Priority2': 1, 'Priority3': 6, 'VehicleSeries': None}\n",
      ">> F - 法拉利 - VE-LaFerrari - {'Vehicle': 'LaFerrari-法拉利汽车', 'ProductID': 'VE-LaFerrari', 'BrandType': '法拉利汽车', 'Brand': 'F - 法拉利', 'Url': '/Images/Logo/falali.png', 'Src': 'https://img3.tuhu.org/Images/type/VE-LaFerrari.png@163w_163h_100Q.png', 'IsBaoYang': 'True', 'CarName': 'LaFerrari', 'appSrc': None, 'Image': 'https://img3.tuhu.org/Images/type/VE-LaFerrari.png@100Q.png', 'ImageUrl': 'https://img3.tuhu.org/Images/Logo/FaLaLi.png', 'Tires': '265/30R19;345/30R20', 'SpecialTireSize': None, 'OriginalIsBaoyang': 1, 'Priority2': 1, 'Priority3': 5, 'VehicleSeries': None}\n"
     ]
    },
    {
     "name": "stderr",
     "output_type": "stream",
     "text": [
      "Traceback (most recent call last):\n",
      "  File \"<ipython-input-74-a1bbc79ad05d>\", line 60, in <module>\n",
      "    for pailiang in load_pailiang(vid):\n",
      "  File \"<ipython-input-74-a1bbc79ad05d>\", line 11, in load_pailiang\n",
      "    return requests.get(url, headers=headers).json()['PaiLiang']\n",
      "  File \"/Users/laisky/.virtualenvs/37/lib/python3.7/site-packages/requests/models.py\", line 897, in json\n",
      "    return complexjson.loads(self.text, **kwargs)\n",
      "  File \"/Users/laisky/.virtualenvs/37/lib/python3.7/site-packages/simplejson/__init__.py\", line 518, in loads\n",
      "    return _default_decoder.decode(s)\n",
      "  File \"/Users/laisky/.virtualenvs/37/lib/python3.7/site-packages/simplejson/decoder.py\", line 370, in decode\n",
      "    obj, end = self.raw_decode(s)\n",
      "  File \"/Users/laisky/.virtualenvs/37/lib/python3.7/site-packages/simplejson/decoder.py\", line 400, in raw_decode\n",
      "    return self.scan_once(s, idx=_w(s, idx).end())\n",
      "simplejson.errors.JSONDecodeError: Expecting value: line 1 column 1 (char 0)\n",
      "Traceback (most recent call last):\n",
      "  File \"<ipython-input-74-a1bbc79ad05d>\", line 60, in <module>\n",
      "    for pailiang in load_pailiang(vid):\n",
      "  File \"<ipython-input-74-a1bbc79ad05d>\", line 11, in load_pailiang\n",
      "    return requests.get(url, headers=headers).json()['PaiLiang']\n",
      "  File \"/Users/laisky/.virtualenvs/37/lib/python3.7/site-packages/requests/models.py\", line 897, in json\n",
      "    return complexjson.loads(self.text, **kwargs)\n",
      "  File \"/Users/laisky/.virtualenvs/37/lib/python3.7/site-packages/simplejson/__init__.py\", line 518, in loads\n",
      "    return _default_decoder.decode(s)\n",
      "  File \"/Users/laisky/.virtualenvs/37/lib/python3.7/site-packages/simplejson/decoder.py\", line 370, in decode\n",
      "    obj, end = self.raw_decode(s)\n",
      "  File \"/Users/laisky/.virtualenvs/37/lib/python3.7/site-packages/simplejson/decoder.py\", line 400, in raw_decode\n",
      "    return self.scan_once(s, idx=_w(s, idx).end())\n",
      "simplejson.errors.JSONDecodeError: Expecting value: line 1 column 1 (char 0)\n"
     ]
    },
    {
     "name": "stdout",
     "output_type": "stream",
     "text": [
      ">> F - 法拉利 - VE-GTC4Lusso - {'Vehicle': 'GTC4Lusso-法拉利汽车', 'ProductID': 'VE-GTC4Lusso', 'BrandType': '法拉利汽车', 'Brand': 'F - 法拉利', 'Url': '/Images/Logo/falali.png', 'Src': 'https://img3.tuhu.org/Images/type/VE-GTC4Lusso.png@163w_163h_100Q.png', 'IsBaoYang': 'True', 'CarName': 'GTC4Lusso', 'appSrc': None, 'Image': 'https://img3.tuhu.org/Images/type/VE-GTC4Lusso.png@100Q.png', 'ImageUrl': 'https://img3.tuhu.org/Images/Logo/FaLaLi.png', 'Tires': '245/35R20;295/35R20', 'SpecialTireSize': None, 'OriginalIsBaoyang': 1, 'Priority2': 1, 'Priority3': 4, 'VehicleSeries': None}\n",
      ">> F - 法拉利 - VE-Portofino - {'Vehicle': 'Portofino-法拉利汽车', 'ProductID': 'VE-Portofino', 'BrandType': '法拉利汽车', 'Brand': 'F - 法拉利', 'Url': '/Images/Logo/falali.png', 'Src': 'https://img3.tuhu.org/Images/type/VE-Portofino.png@163w_163h_100Q.png', 'IsBaoYang': 'True', 'CarName': 'Portofino', 'appSrc': None, 'Image': 'https://img3.tuhu.org/Images/type/VE-Portofino.png@100Q.png', 'ImageUrl': 'https://img3.tuhu.org/Images/Logo/FaLaLi.png', 'Tires': '245/35R20;285/35R20', 'SpecialTireSize': None, 'OriginalIsBaoyang': 1, 'Priority2': 1, 'Priority3': 3, 'VehicleSeries': None}\n"
     ]
    },
    {
     "name": "stderr",
     "output_type": "stream",
     "text": [
      "Traceback (most recent call last):\n",
      "  File \"<ipython-input-74-a1bbc79ad05d>\", line 60, in <module>\n",
      "    for pailiang in load_pailiang(vid):\n",
      "  File \"<ipython-input-74-a1bbc79ad05d>\", line 11, in load_pailiang\n",
      "    return requests.get(url, headers=headers).json()['PaiLiang']\n",
      "  File \"/Users/laisky/.virtualenvs/37/lib/python3.7/site-packages/requests/models.py\", line 897, in json\n",
      "    return complexjson.loads(self.text, **kwargs)\n",
      "  File \"/Users/laisky/.virtualenvs/37/lib/python3.7/site-packages/simplejson/__init__.py\", line 518, in loads\n",
      "    return _default_decoder.decode(s)\n",
      "  File \"/Users/laisky/.virtualenvs/37/lib/python3.7/site-packages/simplejson/decoder.py\", line 370, in decode\n",
      "    obj, end = self.raw_decode(s)\n",
      "  File \"/Users/laisky/.virtualenvs/37/lib/python3.7/site-packages/simplejson/decoder.py\", line 400, in raw_decode\n",
      "    return self.scan_once(s, idx=_w(s, idx).end())\n",
      "simplejson.errors.JSONDecodeError: Expecting value: line 1 column 1 (char 0)\n",
      "Traceback (most recent call last):\n",
      "  File \"<ipython-input-74-a1bbc79ad05d>\", line 60, in <module>\n",
      "    for pailiang in load_pailiang(vid):\n",
      "  File \"<ipython-input-74-a1bbc79ad05d>\", line 11, in load_pailiang\n",
      "    return requests.get(url, headers=headers).json()['PaiLiang']\n",
      "  File \"/Users/laisky/.virtualenvs/37/lib/python3.7/site-packages/requests/models.py\", line 897, in json\n",
      "    return complexjson.loads(self.text, **kwargs)\n",
      "  File \"/Users/laisky/.virtualenvs/37/lib/python3.7/site-packages/simplejson/__init__.py\", line 518, in loads\n",
      "    return _default_decoder.decode(s)\n",
      "  File \"/Users/laisky/.virtualenvs/37/lib/python3.7/site-packages/simplejson/decoder.py\", line 370, in decode\n",
      "    obj, end = self.raw_decode(s)\n",
      "  File \"/Users/laisky/.virtualenvs/37/lib/python3.7/site-packages/simplejson/decoder.py\", line 400, in raw_decode\n",
      "    return self.scan_once(s, idx=_w(s, idx).end())\n",
      "simplejson.errors.JSONDecodeError: Expecting value: line 1 column 1 (char 0)\n"
     ]
    },
    {
     "name": "stdout",
     "output_type": "stream",
     "text": [
      ">> F - 法拉利 - VE-FER-812 - {'Vehicle': '812 Superfast-法拉利汽车', 'ProductID': 'VE-FER-812', 'BrandType': '法拉利汽车', 'Brand': 'F - 法拉利', 'Url': '/Images/Logo/falali.png', 'Src': 'https://img3.tuhu.org/Images/type/VE-FER-812.png@163w_163h_100Q.png', 'IsBaoYang': 'True', 'CarName': '812 Superfast', 'appSrc': None, 'Image': 'https://img3.tuhu.org/Images/type/VE-FER-812.png@100Q.png', 'ImageUrl': 'https://img3.tuhu.org/Images/Logo/FaLaLi.png', 'Tires': '275/35R20;315/35R20', 'SpecialTireSize': None, 'OriginalIsBaoyang': 1, 'Priority2': 1, 'Priority3': 2, 'VehicleSeries': None}\n",
      ">> F - 法拉利 - VE-FERRF8 - {'Vehicle': 'F8-法拉利汽车', 'ProductID': 'VE-FERRF8', 'BrandType': '法拉利汽车', 'Brand': 'F - 法拉利', 'Url': '/Images/Logo/falali.png', 'Src': 'https://img4.tuhu.org/Images/type/VE-FERRF8.png@163w_163h_100Q.png', 'IsBaoYang': 'True', 'CarName': 'F8', 'appSrc': None, 'Image': 'https://img4.tuhu.org/Images/type/VE-FERRF8.png@100Q.png', 'ImageUrl': 'https://img3.tuhu.org/Images/Logo/FaLaLi.png', 'Tires': '245/35R20;305/30R20', 'SpecialTireSize': None, 'OriginalIsBaoyang': 1, 'Priority2': 1, 'Priority3': 1, 'VehicleSeries': None}\n",
      "F - 福特 done\n"
     ]
    },
    {
     "name": "stderr",
     "output_type": "stream",
     "text": [
      "Traceback (most recent call last):\n",
      "  File \"<ipython-input-74-a1bbc79ad05d>\", line 60, in <module>\n",
      "    for pailiang in load_pailiang(vid):\n",
      "  File \"<ipython-input-74-a1bbc79ad05d>\", line 11, in load_pailiang\n",
      "    return requests.get(url, headers=headers).json()['PaiLiang']\n",
      "  File \"/Users/laisky/.virtualenvs/37/lib/python3.7/site-packages/requests/models.py\", line 897, in json\n",
      "    return complexjson.loads(self.text, **kwargs)\n",
      "  File \"/Users/laisky/.virtualenvs/37/lib/python3.7/site-packages/simplejson/__init__.py\", line 518, in loads\n",
      "    return _default_decoder.decode(s)\n",
      "  File \"/Users/laisky/.virtualenvs/37/lib/python3.7/site-packages/simplejson/decoder.py\", line 370, in decode\n",
      "    obj, end = self.raw_decode(s)\n",
      "  File \"/Users/laisky/.virtualenvs/37/lib/python3.7/site-packages/simplejson/decoder.py\", line 400, in raw_decode\n",
      "    return self.scan_once(s, idx=_w(s, idx).end())\n",
      "simplejson.errors.JSONDecodeError: Expecting value: line 1 column 1 (char 0)\n",
      "Traceback (most recent call last):\n",
      "  File \"<ipython-input-74-a1bbc79ad05d>\", line 60, in <module>\n",
      "    for pailiang in load_pailiang(vid):\n",
      "  File \"<ipython-input-74-a1bbc79ad05d>\", line 11, in load_pailiang\n",
      "    return requests.get(url, headers=headers).json()['PaiLiang']\n",
      "  File \"/Users/laisky/.virtualenvs/37/lib/python3.7/site-packages/requests/models.py\", line 897, in json\n",
      "    return complexjson.loads(self.text, **kwargs)\n",
      "  File \"/Users/laisky/.virtualenvs/37/lib/python3.7/site-packages/simplejson/__init__.py\", line 518, in loads\n",
      "    return _default_decoder.decode(s)\n",
      "  File \"/Users/laisky/.virtualenvs/37/lib/python3.7/site-packages/simplejson/decoder.py\", line 370, in decode\n",
      "    obj, end = self.raw_decode(s)\n",
      "  File \"/Users/laisky/.virtualenvs/37/lib/python3.7/site-packages/simplejson/decoder.py\", line 400, in raw_decode\n",
      "    return self.scan_once(s, idx=_w(s, idx).end())\n",
      "simplejson.errors.JSONDecodeError: Expecting value: line 1 column 1 (char 0)\n"
     ]
    },
    {
     "name": "stdout",
     "output_type": "stream",
     "text": [
      ">> F - 福特 - VE-FRDC07AYCLS - {'Vehicle': '经典福克斯-长安福特', 'ProductID': 'VE-FRDC07AYCLS', 'BrandType': '长安福特', 'Brand': 'F - 福特', 'Url': '/Images/Logo/fute.png', 'Src': 'https://img3.tuhu.org/Images/type/VE-FRDC07AYCLS.png@163w_163h_100Q.png', 'IsBaoYang': 'True', 'CarName': '经典福克斯', 'appSrc': None, 'Image': 'https://img3.tuhu.org/Images/type/VE-FRDC07AYCLS.png@100Q.png', 'ImageUrl': 'https://img3.tuhu.org/Images/Logo/FuTe.png', 'Tires': '195/65R15;205/55R16', 'SpecialTireSize': None, 'OriginalIsBaoyang': 1, 'Priority2': 3, 'Priority3': 13, 'VehicleSeries': None}\n",
      ">> F - 福特 - VE-FRDC07AY - {'Vehicle': '新福克斯-长安福特', 'ProductID': 'VE-FRDC07AY', 'BrandType': '长安福特', 'Brand': 'F - 福特', 'Url': '/Images/Logo/fute.png', 'Src': 'https://img3.tuhu.org/Images/type/VE-FRDC07AY.png@163w_163h_100Q.png', 'IsBaoYang': 'True', 'CarName': '新福克斯', 'appSrc': None, 'Image': 'https://img3.tuhu.org/Images/type/VE-FRDC07AY.png@100Q.png', 'ImageUrl': 'https://img3.tuhu.org/Images/Logo/FuTe.png', 'Tires': '195/65R15;205/55R16;205/60R16;215/50R17;235/40R18', 'SpecialTireSize': None, 'OriginalIsBaoyang': 1, 'Priority2': 3, 'Priority3': 12, 'VehicleSeries': None}\n"
     ]
    },
    {
     "name": "stderr",
     "output_type": "stream",
     "text": [
      "Traceback (most recent call last):\n",
      "  File \"<ipython-input-74-a1bbc79ad05d>\", line 60, in <module>\n",
      "    for pailiang in load_pailiang(vid):\n",
      "  File \"<ipython-input-74-a1bbc79ad05d>\", line 11, in load_pailiang\n",
      "    return requests.get(url, headers=headers).json()['PaiLiang']\n",
      "  File \"/Users/laisky/.virtualenvs/37/lib/python3.7/site-packages/requests/models.py\", line 897, in json\n",
      "    return complexjson.loads(self.text, **kwargs)\n",
      "  File \"/Users/laisky/.virtualenvs/37/lib/python3.7/site-packages/simplejson/__init__.py\", line 518, in loads\n",
      "    return _default_decoder.decode(s)\n",
      "  File \"/Users/laisky/.virtualenvs/37/lib/python3.7/site-packages/simplejson/decoder.py\", line 370, in decode\n",
      "    obj, end = self.raw_decode(s)\n",
      "  File \"/Users/laisky/.virtualenvs/37/lib/python3.7/site-packages/simplejson/decoder.py\", line 400, in raw_decode\n",
      "    return self.scan_once(s, idx=_w(s, idx).end())\n",
      "simplejson.errors.JSONDecodeError: Expecting value: line 1 column 1 (char 0)\n",
      "Traceback (most recent call last):\n",
      "  File \"<ipython-input-74-a1bbc79ad05d>\", line 60, in <module>\n",
      "    for pailiang in load_pailiang(vid):\n",
      "  File \"<ipython-input-74-a1bbc79ad05d>\", line 11, in load_pailiang\n",
      "    return requests.get(url, headers=headers).json()['PaiLiang']\n",
      "  File \"/Users/laisky/.virtualenvs/37/lib/python3.7/site-packages/requests/models.py\", line 897, in json\n",
      "    return complexjson.loads(self.text, **kwargs)\n",
      "  File \"/Users/laisky/.virtualenvs/37/lib/python3.7/site-packages/simplejson/__init__.py\", line 518, in loads\n",
      "    return _default_decoder.decode(s)\n",
      "  File \"/Users/laisky/.virtualenvs/37/lib/python3.7/site-packages/simplejson/decoder.py\", line 370, in decode\n",
      "    obj, end = self.raw_decode(s)\n",
      "  File \"/Users/laisky/.virtualenvs/37/lib/python3.7/site-packages/simplejson/decoder.py\", line 400, in raw_decode\n",
      "    return self.scan_once(s, idx=_w(s, idx).end())\n",
      "simplejson.errors.JSONDecodeError: Expecting value: line 1 column 1 (char 0)\n"
     ]
    },
    {
     "name": "stdout",
     "output_type": "stream",
     "text": [
      ">> F - 福特 - VE-CHFORDFURS - {'Vehicle': '福睿斯-长安福特', 'ProductID': 'VE-CHFORDFURS', 'BrandType': '长安福特', 'Brand': 'F - 福特', 'Url': '/Images/Logo/fute.png', 'Src': 'https://img3.tuhu.org/Images/type/VE-CHFORDFURS.png@163w_163h_100Q.png', 'IsBaoYang': 'True', 'CarName': '福睿斯', 'appSrc': None, 'Image': 'https://img3.tuhu.org/Images/type/VE-CHFORDFURS.png@100Q.png', 'ImageUrl': 'https://img3.tuhu.org/Images/Logo/FuTe.png', 'Tires': '195/65R15;205/55R16;205/50R17', 'SpecialTireSize': None, 'OriginalIsBaoyang': 1, 'Priority2': 3, 'Priority3': 11, 'VehicleSeries': None}\n",
      ">> F - 福特 - VE-FRDC07AD - {'Vehicle': '嘉年华-长安福特', 'ProductID': 'VE-FRDC07AD', 'BrandType': '长安福特', 'Brand': 'F - 福特', 'Url': '/Images/Logo/fute.png', 'Src': 'https://img3.tuhu.org/Images/type/VE-FRDC07AD.png@163w_163h_100Q.png', 'IsBaoYang': 'True', 'CarName': '嘉年华', 'appSrc': None, 'Image': 'https://img3.tuhu.org/Images/type/VE-FRDC07AD.png@100Q.png', 'ImageUrl': 'https://img3.tuhu.org/Images/Logo/FuTe.png', 'Tires': '185/55R15;195/50R16;175/65R14;185/60R14;165/70R13', 'SpecialTireSize': None, 'OriginalIsBaoyang': 1, 'Priority2': 3, 'Priority3': 10, 'VehicleSeries': None}\n"
     ]
    },
    {
     "name": "stderr",
     "output_type": "stream",
     "text": [
      "Traceback (most recent call last):\n",
      "  File \"<ipython-input-74-a1bbc79ad05d>\", line 60, in <module>\n",
      "    for pailiang in load_pailiang(vid):\n",
      "  File \"<ipython-input-74-a1bbc79ad05d>\", line 11, in load_pailiang\n",
      "    return requests.get(url, headers=headers).json()['PaiLiang']\n",
      "  File \"/Users/laisky/.virtualenvs/37/lib/python3.7/site-packages/requests/models.py\", line 897, in json\n",
      "    return complexjson.loads(self.text, **kwargs)\n",
      "  File \"/Users/laisky/.virtualenvs/37/lib/python3.7/site-packages/simplejson/__init__.py\", line 518, in loads\n",
      "    return _default_decoder.decode(s)\n",
      "  File \"/Users/laisky/.virtualenvs/37/lib/python3.7/site-packages/simplejson/decoder.py\", line 370, in decode\n",
      "    obj, end = self.raw_decode(s)\n",
      "  File \"/Users/laisky/.virtualenvs/37/lib/python3.7/site-packages/simplejson/decoder.py\", line 400, in raw_decode\n",
      "    return self.scan_once(s, idx=_w(s, idx).end())\n",
      "simplejson.errors.JSONDecodeError: Expecting value: line 1 column 1 (char 0)\n",
      "Traceback (most recent call last):\n",
      "  File \"<ipython-input-74-a1bbc79ad05d>\", line 60, in <module>\n",
      "    for pailiang in load_pailiang(vid):\n",
      "  File \"<ipython-input-74-a1bbc79ad05d>\", line 11, in load_pailiang\n",
      "    return requests.get(url, headers=headers).json()['PaiLiang']\n",
      "  File \"/Users/laisky/.virtualenvs/37/lib/python3.7/site-packages/requests/models.py\", line 897, in json\n",
      "    return complexjson.loads(self.text, **kwargs)\n",
      "  File \"/Users/laisky/.virtualenvs/37/lib/python3.7/site-packages/simplejson/__init__.py\", line 518, in loads\n",
      "    return _default_decoder.decode(s)\n",
      "  File \"/Users/laisky/.virtualenvs/37/lib/python3.7/site-packages/simplejson/decoder.py\", line 370, in decode\n",
      "    obj, end = self.raw_decode(s)\n",
      "  File \"/Users/laisky/.virtualenvs/37/lib/python3.7/site-packages/simplejson/decoder.py\", line 400, in raw_decode\n",
      "    return self.scan_once(s, idx=_w(s, idx).end())\n",
      "simplejson.errors.JSONDecodeError: Expecting value: line 1 column 1 (char 0)\n"
     ]
    },
    {
     "name": "stdout",
     "output_type": "stream",
     "text": [
      ">> F - 福特 - VE-CAFORDYIHU - {'Vehicle': '翼虎-长安福特', 'ProductID': 'VE-CAFORDYIHU', 'BrandType': '长安福特', 'Brand': 'F - 福特', 'Url': '/Images/Logo/fute.png', 'Src': 'https://img3.tuhu.org/Images/type/VE-CAFORDYIHU.png@163w_163h_100Q.png', 'IsBaoYang': 'True', 'CarName': '翼虎', 'appSrc': None, 'Image': 'https://img3.tuhu.org/Images/type/VE-CAFORDYIHU.png@100Q.png', 'ImageUrl': 'https://img3.tuhu.org/Images/Logo/FuTe.png', 'Tires': '235/50R18;235/45R19;235/55R17', 'SpecialTireSize': None, 'OriginalIsBaoyang': 1, 'Priority2': 3, 'Priority3': 9, 'VehicleSeries': None}\n",
      ">> F - 福特 - VE-FORDYB - {'Vehicle': '翼搏-长安福特', 'ProductID': 'VE-FORDYB', 'BrandType': '长安福特', 'Brand': 'F - 福特', 'Url': '/Images/Logo/fute.png', 'Src': 'https://img3.tuhu.org/Images/type/VE-FORDYB.png@163w_163h_100Q.png', 'IsBaoYang': 'True', 'CarName': '翼搏', 'appSrc': None, 'Image': 'https://img3.tuhu.org/Images/type/VE-FORDYB.png@100Q.png', 'ImageUrl': 'https://img3.tuhu.org/Images/Logo/FuTe.png', 'Tires': '205/60R16;195/65R15;205/50R17', 'SpecialTireSize': None, 'OriginalIsBaoyang': 1, 'Priority2': 3, 'Priority3': 8, 'VehicleSeries': None}\n"
     ]
    },
    {
     "name": "stderr",
     "output_type": "stream",
     "text": [
      "Traceback (most recent call last):\n",
      "  File \"<ipython-input-74-a1bbc79ad05d>\", line 60, in <module>\n",
      "    for pailiang in load_pailiang(vid):\n",
      "  File \"<ipython-input-74-a1bbc79ad05d>\", line 11, in load_pailiang\n",
      "    return requests.get(url, headers=headers).json()['PaiLiang']\n",
      "  File \"/Users/laisky/.virtualenvs/37/lib/python3.7/site-packages/requests/models.py\", line 897, in json\n",
      "    return complexjson.loads(self.text, **kwargs)\n",
      "  File \"/Users/laisky/.virtualenvs/37/lib/python3.7/site-packages/simplejson/__init__.py\", line 518, in loads\n",
      "    return _default_decoder.decode(s)\n",
      "  File \"/Users/laisky/.virtualenvs/37/lib/python3.7/site-packages/simplejson/decoder.py\", line 370, in decode\n",
      "    obj, end = self.raw_decode(s)\n",
      "  File \"/Users/laisky/.virtualenvs/37/lib/python3.7/site-packages/simplejson/decoder.py\", line 400, in raw_decode\n",
      "    return self.scan_once(s, idx=_w(s, idx).end())\n",
      "simplejson.errors.JSONDecodeError: Expecting value: line 1 column 1 (char 0)\n",
      "Traceback (most recent call last):\n",
      "  File \"<ipython-input-74-a1bbc79ad05d>\", line 60, in <module>\n",
      "    for pailiang in load_pailiang(vid):\n",
      "  File \"<ipython-input-74-a1bbc79ad05d>\", line 11, in load_pailiang\n",
      "    return requests.get(url, headers=headers).json()['PaiLiang']\n",
      "  File \"/Users/laisky/.virtualenvs/37/lib/python3.7/site-packages/requests/models.py\", line 897, in json\n",
      "    return complexjson.loads(self.text, **kwargs)\n",
      "  File \"/Users/laisky/.virtualenvs/37/lib/python3.7/site-packages/simplejson/__init__.py\", line 518, in loads\n",
      "    return _default_decoder.decode(s)\n",
      "  File \"/Users/laisky/.virtualenvs/37/lib/python3.7/site-packages/simplejson/decoder.py\", line 370, in decode\n",
      "    obj, end = self.raw_decode(s)\n",
      "  File \"/Users/laisky/.virtualenvs/37/lib/python3.7/site-packages/simplejson/decoder.py\", line 400, in raw_decode\n",
      "    return self.scan_once(s, idx=_w(s, idx).end())\n",
      "simplejson.errors.JSONDecodeError: Expecting value: line 1 column 1 (char 0)\n"
     ]
    },
    {
     "name": "stdout",
     "output_type": "stream",
     "text": [
      ">> F - 福特 - VE-CHANFORDZSHENG - {'Vehicle': '致胜-长安福特', 'ProductID': 'VE-CHANFORDZSHENG', 'BrandType': '长安福特', 'Brand': 'F - 福特', 'Url': '/Images/Logo/fute.png', 'Src': 'https://img3.tuhu.org/Images/type/VE-CHANFORDZSHENG.png@163w_163h_100Q.png', 'IsBaoYang': 'True', 'CarName': '致胜', 'appSrc': None, 'Image': 'https://img3.tuhu.org/Images/type/VE-CHANFORDZSHENG.png@100Q.png', 'ImageUrl': 'https://img3.tuhu.org/Images/Logo/FuTe.png', 'Tires': '215/55R16;225/50R17', 'SpecialTireSize': None, 'OriginalIsBaoyang': 1, 'Priority2': 3, 'Priority3': 7, 'VehicleSeries': None}\n",
      ">> F - 福特 - VE-FRDC07AP - {'Vehicle': '蒙迪欧-长安福特', 'ProductID': 'VE-FRDC07AP', 'BrandType': '长安福特', 'Brand': 'F - 福特', 'Url': '/Images/Logo/fute.png', 'Src': 'https://img4.tuhu.org/Images/type/VE-FRDC07AP.png@163w_163h_100Q.png', 'IsBaoYang': 'True', 'CarName': '蒙迪欧', 'appSrc': None, 'Image': 'https://img4.tuhu.org/Images/type/VE-FRDC07AP.png@100Q.png', 'ImageUrl': 'https://img3.tuhu.org/Images/Logo/FuTe.png', 'Tires': '205/55R16;215/60R16;235/50R17;235/45R18', 'SpecialTireSize': None, 'OriginalIsBaoyang': 1, 'Priority2': 3, 'Priority3': 6, 'VehicleSeries': None}\n"
     ]
    },
    {
     "name": "stderr",
     "output_type": "stream",
     "text": [
      "Traceback (most recent call last):\n",
      "  File \"<ipython-input-74-a1bbc79ad05d>\", line 60, in <module>\n",
      "    for pailiang in load_pailiang(vid):\n",
      "  File \"<ipython-input-74-a1bbc79ad05d>\", line 11, in load_pailiang\n",
      "    return requests.get(url, headers=headers).json()['PaiLiang']\n",
      "  File \"/Users/laisky/.virtualenvs/37/lib/python3.7/site-packages/requests/models.py\", line 897, in json\n",
      "    return complexjson.loads(self.text, **kwargs)\n",
      "  File \"/Users/laisky/.virtualenvs/37/lib/python3.7/site-packages/simplejson/__init__.py\", line 518, in loads\n",
      "    return _default_decoder.decode(s)\n",
      "  File \"/Users/laisky/.virtualenvs/37/lib/python3.7/site-packages/simplejson/decoder.py\", line 370, in decode\n",
      "    obj, end = self.raw_decode(s)\n",
      "  File \"/Users/laisky/.virtualenvs/37/lib/python3.7/site-packages/simplejson/decoder.py\", line 400, in raw_decode\n",
      "    return self.scan_once(s, idx=_w(s, idx).end())\n",
      "simplejson.errors.JSONDecodeError: Expecting value: line 1 column 1 (char 0)\n",
      "Traceback (most recent call last):\n",
      "  File \"<ipython-input-74-a1bbc79ad05d>\", line 60, in <module>\n",
      "    for pailiang in load_pailiang(vid):\n",
      "  File \"<ipython-input-74-a1bbc79ad05d>\", line 11, in load_pailiang\n",
      "    return requests.get(url, headers=headers).json()['PaiLiang']\n",
      "  File \"/Users/laisky/.virtualenvs/37/lib/python3.7/site-packages/requests/models.py\", line 897, in json\n",
      "    return complexjson.loads(self.text, **kwargs)\n",
      "  File \"/Users/laisky/.virtualenvs/37/lib/python3.7/site-packages/simplejson/__init__.py\", line 518, in loads\n",
      "    return _default_decoder.decode(s)\n",
      "  File \"/Users/laisky/.virtualenvs/37/lib/python3.7/site-packages/simplejson/decoder.py\", line 370, in decode\n",
      "    obj, end = self.raw_decode(s)\n",
      "  File \"/Users/laisky/.virtualenvs/37/lib/python3.7/site-packages/simplejson/decoder.py\", line 400, in raw_decode\n",
      "    return self.scan_once(s, idx=_w(s, idx).end())\n",
      "simplejson.errors.JSONDecodeError: Expecting value: line 1 column 1 (char 0)\n"
     ]
    },
    {
     "name": "stdout",
     "output_type": "stream",
     "text": [
      ">> F - 福特 - VE-FRDenergi - {'Vehicle': '蒙迪欧Energi-长安福特 ', 'ProductID': 'VE-FRDenergi', 'BrandType': '长安福特', 'Brand': 'F - 福特', 'Url': '/Images/Logo/fute.png', 'Src': 'https://img3.tuhu.org/Images/type/VE-FRDenergi.png@163w_163h_100Q.png', 'IsBaoYang': 'True', 'CarName': '蒙迪欧Energi', 'appSrc': None, 'Image': 'https://img3.tuhu.org/Images/type/VE-FRDenergi.png@100Q.png', 'ImageUrl': 'https://img3.tuhu.org/Images/Logo/FuTe.png', 'Tires': '235/50R17', 'SpecialTireSize': None, 'OriginalIsBaoyang': 1, 'Priority2': 3, 'Priority3': 5, 'VehicleSeries': None}\n",
      ">> F - 福特 - VE-LDSZSZAJT - {'Vehicle': '蒙迪欧致胜-长安福特', 'ProductID': 'VE-LDSZSZAJT', 'BrandType': '长安福特', 'Brand': 'F - 福特', 'Url': '/Images/Logo/fute.png', 'Src': 'https://img4.tuhu.org/Images/type/VE-LDSZSZAJT.png@163w_163h_100Q.png', 'IsBaoYang': 'True', 'CarName': '蒙迪欧致胜', 'appSrc': None, 'Image': 'https://img4.tuhu.org/Images/type/VE-LDSZSZAJT.png@100Q.png', 'ImageUrl': 'https://img3.tuhu.org/Images/Logo/FuTe.png', 'Tires': '225/50R17;235/45R17;215/55R16;215/70R16', 'SpecialTireSize': None, 'OriginalIsBaoyang': 1, 'Priority2': 3, 'Priority3': 4, 'VehicleSeries': None}\n"
     ]
    },
    {
     "name": "stderr",
     "output_type": "stream",
     "text": [
      "Traceback (most recent call last):\n",
      "  File \"<ipython-input-74-a1bbc79ad05d>\", line 60, in <module>\n",
      "    for pailiang in load_pailiang(vid):\n",
      "  File \"<ipython-input-74-a1bbc79ad05d>\", line 11, in load_pailiang\n",
      "    return requests.get(url, headers=headers).json()['PaiLiang']\n",
      "  File \"/Users/laisky/.virtualenvs/37/lib/python3.7/site-packages/requests/models.py\", line 897, in json\n",
      "    return complexjson.loads(self.text, **kwargs)\n",
      "  File \"/Users/laisky/.virtualenvs/37/lib/python3.7/site-packages/simplejson/__init__.py\", line 518, in loads\n",
      "    return _default_decoder.decode(s)\n",
      "  File \"/Users/laisky/.virtualenvs/37/lib/python3.7/site-packages/simplejson/decoder.py\", line 370, in decode\n",
      "    obj, end = self.raw_decode(s)\n",
      "  File \"/Users/laisky/.virtualenvs/37/lib/python3.7/site-packages/simplejson/decoder.py\", line 400, in raw_decode\n",
      "    return self.scan_once(s, idx=_w(s, idx).end())\n",
      "simplejson.errors.JSONDecodeError: Expecting value: line 1 column 1 (char 0)\n",
      "Traceback (most recent call last):\n",
      "  File \"<ipython-input-74-a1bbc79ad05d>\", line 60, in <module>\n",
      "    for pailiang in load_pailiang(vid):\n",
      "  File \"<ipython-input-74-a1bbc79ad05d>\", line 11, in load_pailiang\n",
      "    return requests.get(url, headers=headers).json()['PaiLiang']\n",
      "  File \"/Users/laisky/.virtualenvs/37/lib/python3.7/site-packages/requests/models.py\", line 897, in json\n",
      "    return complexjson.loads(self.text, **kwargs)\n",
      "  File \"/Users/laisky/.virtualenvs/37/lib/python3.7/site-packages/simplejson/__init__.py\", line 518, in loads\n",
      "    return _default_decoder.decode(s)\n",
      "  File \"/Users/laisky/.virtualenvs/37/lib/python3.7/site-packages/simplejson/decoder.py\", line 370, in decode\n",
      "    obj, end = self.raw_decode(s)\n",
      "  File \"/Users/laisky/.virtualenvs/37/lib/python3.7/site-packages/simplejson/decoder.py\", line 400, in raw_decode\n",
      "    return self.scan_once(s, idx=_w(s, idx).end())\n",
      "simplejson.errors.JSONDecodeError: Expecting value: line 1 column 1 (char 0)\n"
     ]
    },
    {
     "name": "stdout",
     "output_type": "stream",
     "text": [
      ">> F - 福特 - VE-FRDC07BD - {'Vehicle': '麦柯斯S—MAX-长安福特', 'ProductID': 'VE-FRDC07BD', 'BrandType': '长安福特', 'Brand': 'F - 福特', 'Url': '/Images/Logo/fute.png', 'Src': 'https://img3.tuhu.org/Images/type/VE-FRDC07BD.png@163w_163h_100Q.png', 'IsBaoYang': 'True', 'CarName': '麦柯斯S—MAX', 'appSrc': None, 'Image': 'https://img3.tuhu.org/Images/type/VE-FRDC07BD.png@100Q.png', 'ImageUrl': 'https://img3.tuhu.org/Images/Logo/FuTe.png', 'Tires': '215/60R16', 'SpecialTireSize': None, 'OriginalIsBaoyang': 1, 'Priority2': 3, 'Priority3': 3, 'VehicleSeries': None}\n",
      ">> F - 福特 - VE-CHANFOREdge - {'Vehicle': '锐界-长安福特', 'ProductID': 'VE-CHANFOREdge', 'BrandType': '长安福特', 'Brand': 'F - 福特', 'Url': '/Images/Logo/fute.png', 'Src': 'https://img3.tuhu.org/Images/type/VE-CHANFOREdge.png@163w_163h_100Q.png', 'IsBaoYang': 'True', 'CarName': '锐界', 'appSrc': None, 'Image': 'https://img3.tuhu.org/Images/type/VE-CHANFOREdge.png@100Q.png', 'ImageUrl': 'https://img3.tuhu.org/Images/Logo/FuTe.png', 'Tires': '245/60R18;245/55R19;245/50R20;265/40R21', 'SpecialTireSize': None, 'OriginalIsBaoyang': 1, 'Priority2': 3, 'Priority3': 2, 'VehicleSeries': None}\n"
     ]
    },
    {
     "name": "stderr",
     "output_type": "stream",
     "text": [
      "Traceback (most recent call last):\n",
      "  File \"<ipython-input-74-a1bbc79ad05d>\", line 60, in <module>\n",
      "    for pailiang in load_pailiang(vid):\n",
      "  File \"<ipython-input-74-a1bbc79ad05d>\", line 11, in load_pailiang\n",
      "    return requests.get(url, headers=headers).json()['PaiLiang']\n",
      "  File \"/Users/laisky/.virtualenvs/37/lib/python3.7/site-packages/requests/models.py\", line 897, in json\n",
      "    return complexjson.loads(self.text, **kwargs)\n",
      "  File \"/Users/laisky/.virtualenvs/37/lib/python3.7/site-packages/simplejson/__init__.py\", line 518, in loads\n",
      "    return _default_decoder.decode(s)\n",
      "  File \"/Users/laisky/.virtualenvs/37/lib/python3.7/site-packages/simplejson/decoder.py\", line 370, in decode\n",
      "    obj, end = self.raw_decode(s)\n",
      "  File \"/Users/laisky/.virtualenvs/37/lib/python3.7/site-packages/simplejson/decoder.py\", line 400, in raw_decode\n",
      "    return self.scan_once(s, idx=_w(s, idx).end())\n",
      "simplejson.errors.JSONDecodeError: Expecting value: line 1 column 1 (char 0)\n",
      "Traceback (most recent call last):\n",
      "  File \"<ipython-input-74-a1bbc79ad05d>\", line 60, in <module>\n",
      "    for pailiang in load_pailiang(vid):\n",
      "  File \"<ipython-input-74-a1bbc79ad05d>\", line 11, in load_pailiang\n",
      "    return requests.get(url, headers=headers).json()['PaiLiang']\n",
      "  File \"/Users/laisky/.virtualenvs/37/lib/python3.7/site-packages/requests/models.py\", line 897, in json\n",
      "    return complexjson.loads(self.text, **kwargs)\n",
      "  File \"/Users/laisky/.virtualenvs/37/lib/python3.7/site-packages/simplejson/__init__.py\", line 518, in loads\n",
      "    return _default_decoder.decode(s)\n",
      "  File \"/Users/laisky/.virtualenvs/37/lib/python3.7/site-packages/simplejson/decoder.py\", line 370, in decode\n",
      "    obj, end = self.raw_decode(s)\n",
      "  File \"/Users/laisky/.virtualenvs/37/lib/python3.7/site-packages/simplejson/decoder.py\", line 400, in raw_decode\n",
      "    return self.scan_once(s, idx=_w(s, idx).end())\n",
      "simplejson.errors.JSONDecodeError: Expecting value: line 1 column 1 (char 0)\n"
     ]
    },
    {
     "name": "stdout",
     "output_type": "stream",
     "text": [
      ">> F - 福特 - VE-CHFORGJNZ - {'Vehicle': '金牛座-长安福特', 'ProductID': 'VE-CHFORGJNZ', 'BrandType': '长安福特', 'Brand': 'F - 福特', 'Url': '/Images/Logo/fute.png', 'Src': 'https://img3.tuhu.org/Images/type/VE-CHFORGJNZ.png@163w_163h_100Q.png', 'IsBaoYang': 'True', 'CarName': '金牛座', 'appSrc': None, 'Image': 'https://img3.tuhu.org/Images/type/VE-CHFORGJNZ.png@100Q.png', 'ImageUrl': 'https://img3.tuhu.org/Images/Logo/FuTe.png', 'Tires': '235/55R17;235/50R18;245/45R19', 'SpecialTireSize': None, 'OriginalIsBaoyang': 1, 'Priority2': 3, 'Priority3': 1, 'VehicleSeries': None}\n",
      ">> F - 福特 - VE-EdgeSJJTJK - {'Vehicle': '锐界-福特进口', 'ProductID': 'VE-EdgeSJJTJK', 'BrandType': '福特进口', 'Brand': 'F - 福特', 'Url': '/Images/Logo/fute.png', 'Src': 'https://img4.tuhu.org/Images/type/VE-EdgeSJJTJK.png@163w_163h_100Q.png', 'IsBaoYang': 'True', 'CarName': '锐界', 'appSrc': None, 'Image': 'https://img4.tuhu.org/Images/type/VE-EdgeSJJTJK.png@100Q.png', 'ImageUrl': 'https://img3.tuhu.org/Images/Logo/FuTe.png', 'Tires': '245/60R18', 'SpecialTireSize': None, 'OriginalIsBaoyang': 1, 'Priority2': 2, 'Priority3': 11, 'VehicleSeries': None}\n"
     ]
    },
    {
     "name": "stderr",
     "output_type": "stream",
     "text": [
      "Traceback (most recent call last):\n",
      "  File \"<ipython-input-74-a1bbc79ad05d>\", line 60, in <module>\n",
      "    for pailiang in load_pailiang(vid):\n",
      "  File \"<ipython-input-74-a1bbc79ad05d>\", line 11, in load_pailiang\n",
      "    return requests.get(url, headers=headers).json()['PaiLiang']\n",
      "  File \"/Users/laisky/.virtualenvs/37/lib/python3.7/site-packages/requests/models.py\", line 897, in json\n",
      "    return complexjson.loads(self.text, **kwargs)\n",
      "  File \"/Users/laisky/.virtualenvs/37/lib/python3.7/site-packages/simplejson/__init__.py\", line 518, in loads\n",
      "    return _default_decoder.decode(s)\n",
      "  File \"/Users/laisky/.virtualenvs/37/lib/python3.7/site-packages/simplejson/decoder.py\", line 370, in decode\n",
      "    obj, end = self.raw_decode(s)\n",
      "  File \"/Users/laisky/.virtualenvs/37/lib/python3.7/site-packages/simplejson/decoder.py\", line 400, in raw_decode\n",
      "    return self.scan_once(s, idx=_w(s, idx).end())\n",
      "simplejson.errors.JSONDecodeError: Expecting value: line 1 column 1 (char 0)\n",
      "Traceback (most recent call last):\n",
      "  File \"<ipython-input-74-a1bbc79ad05d>\", line 60, in <module>\n",
      "    for pailiang in load_pailiang(vid):\n",
      "  File \"<ipython-input-74-a1bbc79ad05d>\", line 11, in load_pailiang\n",
      "    return requests.get(url, headers=headers).json()['PaiLiang']\n",
      "  File \"/Users/laisky/.virtualenvs/37/lib/python3.7/site-packages/requests/models.py\", line 897, in json\n",
      "    return complexjson.loads(self.text, **kwargs)\n",
      "  File \"/Users/laisky/.virtualenvs/37/lib/python3.7/site-packages/simplejson/__init__.py\", line 518, in loads\n",
      "    return _default_decoder.decode(s)\n",
      "  File \"/Users/laisky/.virtualenvs/37/lib/python3.7/site-packages/simplejson/decoder.py\", line 370, in decode\n",
      "    obj, end = self.raw_decode(s)\n",
      "  File \"/Users/laisky/.virtualenvs/37/lib/python3.7/site-packages/simplejson/decoder.py\", line 400, in raw_decode\n",
      "    return self.scan_once(s, idx=_w(s, idx).end())\n",
      "simplejson.errors.JSONDecodeError: Expecting value: line 1 column 1 (char 0)\n"
     ]
    },
    {
     "name": "stdout",
     "output_type": "stream",
     "text": [
      ">> F - 福特 - VE-FORD05AB - {'Vehicle': '稳达-福特进口', 'ProductID': 'VE-FORD05AB', 'BrandType': '福特进口', 'Brand': 'F - 福特', 'Url': '/Images/Logo/fute.png', 'Src': 'https://img4.tuhu.org/Images/type/VE-FORD05AB.png@163w_163h_100Q.png', 'IsBaoYang': 'True', 'CarName': '稳达', 'appSrc': None, 'Image': 'https://img4.tuhu.org/Images/type/VE-FORD05AB.png@100Q.png', 'ImageUrl': 'https://img3.tuhu.org/Images/Logo/FuTe.png', 'Tires': '215/70R16', 'SpecialTireSize': None, 'OriginalIsBaoyang': 1, 'Priority2': 2, 'Priority3': 10, 'VehicleSeries': None}\n",
      ">> F - 福特 - VE-FORD07AB - {'Vehicle': '翼虎-福特进口', 'ProductID': 'VE-FORD07AB', 'BrandType': '福特进口', 'Brand': 'F - 福特', 'Url': '/Images/Logo/fute.png', 'Src': 'https://img4.tuhu.org/Images/type/VE-FORD07AB.png@163w_163h_100Q.png', 'IsBaoYang': 'True', 'CarName': '翼虎', 'appSrc': None, 'Image': 'https://img4.tuhu.org/Images/type/VE-FORD07AB.png@100Q.png', 'ImageUrl': 'https://img3.tuhu.org/Images/Logo/FuTe.png', 'Tires': '215/70R16;235/70R16;235/50R18', 'SpecialTireSize': None, 'OriginalIsBaoyang': 1, 'Priority2': 2, 'Priority3': 9, 'VehicleSeries': None}\n"
     ]
    },
    {
     "name": "stderr",
     "output_type": "stream",
     "text": [
      "Traceback (most recent call last):\n",
      "  File \"<ipython-input-74-a1bbc79ad05d>\", line 60, in <module>\n",
      "    for pailiang in load_pailiang(vid):\n",
      "  File \"<ipython-input-74-a1bbc79ad05d>\", line 11, in load_pailiang\n",
      "    return requests.get(url, headers=headers).json()['PaiLiang']\n",
      "  File \"/Users/laisky/.virtualenvs/37/lib/python3.7/site-packages/requests/models.py\", line 897, in json\n",
      "    return complexjson.loads(self.text, **kwargs)\n",
      "  File \"/Users/laisky/.virtualenvs/37/lib/python3.7/site-packages/simplejson/__init__.py\", line 518, in loads\n",
      "    return _default_decoder.decode(s)\n",
      "  File \"/Users/laisky/.virtualenvs/37/lib/python3.7/site-packages/simplejson/decoder.py\", line 370, in decode\n",
      "    obj, end = self.raw_decode(s)\n",
      "  File \"/Users/laisky/.virtualenvs/37/lib/python3.7/site-packages/simplejson/decoder.py\", line 400, in raw_decode\n",
      "    return self.scan_once(s, idx=_w(s, idx).end())\n",
      "simplejson.errors.JSONDecodeError: Expecting value: line 1 column 1 (char 0)\n",
      "Traceback (most recent call last):\n",
      "  File \"<ipython-input-74-a1bbc79ad05d>\", line 60, in <module>\n",
      "    for pailiang in load_pailiang(vid):\n",
      "  File \"<ipython-input-74-a1bbc79ad05d>\", line 11, in load_pailiang\n",
      "    return requests.get(url, headers=headers).json()['PaiLiang']\n",
      "  File \"/Users/laisky/.virtualenvs/37/lib/python3.7/site-packages/requests/models.py\", line 897, in json\n",
      "    return complexjson.loads(self.text, **kwargs)\n",
      "  File \"/Users/laisky/.virtualenvs/37/lib/python3.7/site-packages/simplejson/__init__.py\", line 518, in loads\n",
      "    return _default_decoder.decode(s)\n",
      "  File \"/Users/laisky/.virtualenvs/37/lib/python3.7/site-packages/simplejson/decoder.py\", line 370, in decode\n",
      "    obj, end = self.raw_decode(s)\n",
      "  File \"/Users/laisky/.virtualenvs/37/lib/python3.7/site-packages/simplejson/decoder.py\", line 400, in raw_decode\n",
      "    return self.scan_once(s, idx=_w(s, idx).end())\n",
      "simplejson.errors.JSONDecodeError: Expecting value: line 1 column 1 (char 0)\n"
     ]
    },
    {
     "name": "stdout",
     "output_type": "stream",
     "text": [
      ">> F - 福特 - VE-FURDFIRXEE - {'Vehicle': 'E350-福特进口', 'ProductID': 'VE-FURDFIRXEE', 'BrandType': '福特进口', 'Brand': 'F - 福特', 'Url': '/Images/Logo/fute.png', 'Src': 'https://img3.tuhu.org/Images/type/VE-FURDFIRXEE.png@163w_163h_100Q.png', 'IsBaoYang': 'True', 'CarName': 'E350', 'appSrc': None, 'Image': 'https://img3.tuhu.org/Images/type/VE-FURDFIRXEE.png@100Q.png', 'ImageUrl': 'https://img3.tuhu.org/Images/Logo/FuTe.png', 'Tires': '275/45R20;285/50R20;295/30R22', 'SpecialTireSize': None, 'OriginalIsBaoyang': 1, 'Priority2': 2, 'Priority3': 8, 'VehicleSeries': None}\n"
     ]
    },
    {
     "name": "stderr",
     "output_type": "stream",
     "text": [
      "Traceback (most recent call last):\n",
      "  File \"<ipython-input-74-a1bbc79ad05d>\", line 60, in <module>\n",
      "    for pailiang in load_pailiang(vid):\n",
      "  File \"<ipython-input-74-a1bbc79ad05d>\", line 11, in load_pailiang\n",
      "    return requests.get(url, headers=headers).json()['PaiLiang']\n",
      "  File \"/Users/laisky/.virtualenvs/37/lib/python3.7/site-packages/requests/models.py\", line 897, in json\n",
      "    return complexjson.loads(self.text, **kwargs)\n",
      "  File \"/Users/laisky/.virtualenvs/37/lib/python3.7/site-packages/simplejson/__init__.py\", line 518, in loads\n",
      "    return _default_decoder.decode(s)\n",
      "  File \"/Users/laisky/.virtualenvs/37/lib/python3.7/site-packages/simplejson/decoder.py\", line 370, in decode\n",
      "    obj, end = self.raw_decode(s)\n",
      "  File \"/Users/laisky/.virtualenvs/37/lib/python3.7/site-packages/simplejson/decoder.py\", line 400, in raw_decode\n",
      "    return self.scan_once(s, idx=_w(s, idx).end())\n",
      "simplejson.errors.JSONDecodeError: Expecting value: line 1 column 1 (char 0)\n"
     ]
    },
    {
     "name": "stdout",
     "output_type": "stream",
     "text": [
      ">> F - 福特 - VE-FURDFIRFFF - {'Vehicle': 'F—150-福特进口', 'ProductID': 'VE-FURDFIRFFF', 'BrandType': '福特进口', 'Brand': 'F - 福特', 'Url': '/Images/Logo/fute.png', 'Src': 'https://img3.tuhu.org/Images/type/VE-FURDFIRFFF.png@163w_163h_100Q.png', 'IsBaoYang': 'True', 'CarName': 'F—150', 'appSrc': None, 'Image': 'https://img3.tuhu.org/Images/type/VE-FURDFIRFFF.png@100Q.png', 'ImageUrl': 'https://img3.tuhu.org/Images/Logo/FuTe.png', 'Tires': '315/70R17;275/45R22;275/55R20;265/70R17', 'SpecialTireSize': None, 'OriginalIsBaoyang': 1, 'Priority2': 2, 'Priority3': 7, 'VehicleSeries': None}\n",
      ">> F - 福特 - VE-FURDFIRFCS - {'Vehicle': '福克斯ST-福特进口', 'ProductID': 'VE-FURDFIRFCS', 'BrandType': '福特进口', 'Brand': 'F - 福特', 'Url': '/Images/Logo/fute.png', 'Src': 'https://img3.tuhu.org/Images/type/VE-FURDFIRFCS.png@163w_163h_100Q.png', 'IsBaoYang': 'True', 'CarName': '福克斯ST', 'appSrc': None, 'Image': 'https://img3.tuhu.org/Images/type/VE-FURDFIRFCS.png@100Q.png', 'ImageUrl': 'https://img3.tuhu.org/Images/Logo/FuTe.png', 'Tires': '235/40R18;235/35R19', 'SpecialTireSize': None, 'OriginalIsBaoyang': 1, 'Priority2': 2, 'Priority3': 6, 'VehicleSeries': None}\n"
     ]
    },
    {
     "name": "stderr",
     "output_type": "stream",
     "text": [
      "Traceback (most recent call last):\n",
      "  File \"<ipython-input-74-a1bbc79ad05d>\", line 60, in <module>\n",
      "    for pailiang in load_pailiang(vid):\n",
      "  File \"<ipython-input-74-a1bbc79ad05d>\", line 11, in load_pailiang\n",
      "    return requests.get(url, headers=headers).json()['PaiLiang']\n",
      "  File \"/Users/laisky/.virtualenvs/37/lib/python3.7/site-packages/requests/models.py\", line 897, in json\n",
      "    return complexjson.loads(self.text, **kwargs)\n",
      "  File \"/Users/laisky/.virtualenvs/37/lib/python3.7/site-packages/simplejson/__init__.py\", line 518, in loads\n",
      "    return _default_decoder.decode(s)\n",
      "  File \"/Users/laisky/.virtualenvs/37/lib/python3.7/site-packages/simplejson/decoder.py\", line 370, in decode\n",
      "    obj, end = self.raw_decode(s)\n",
      "  File \"/Users/laisky/.virtualenvs/37/lib/python3.7/site-packages/simplejson/decoder.py\", line 400, in raw_decode\n",
      "    return self.scan_once(s, idx=_w(s, idx).end())\n",
      "simplejson.errors.JSONDecodeError: Expecting value: line 1 column 1 (char 0)\n",
      "Traceback (most recent call last):\n",
      "  File \"<ipython-input-74-a1bbc79ad05d>\", line 60, in <module>\n",
      "    for pailiang in load_pailiang(vid):\n",
      "  File \"<ipython-input-74-a1bbc79ad05d>\", line 11, in load_pailiang\n",
      "    return requests.get(url, headers=headers).json()['PaiLiang']\n",
      "  File \"/Users/laisky/.virtualenvs/37/lib/python3.7/site-packages/requests/models.py\", line 897, in json\n",
      "    return complexjson.loads(self.text, **kwargs)\n",
      "  File \"/Users/laisky/.virtualenvs/37/lib/python3.7/site-packages/simplejson/__init__.py\", line 518, in loads\n",
      "    return _default_decoder.decode(s)\n",
      "  File \"/Users/laisky/.virtualenvs/37/lib/python3.7/site-packages/simplejson/decoder.py\", line 370, in decode\n",
      "    obj, end = self.raw_decode(s)\n",
      "  File \"/Users/laisky/.virtualenvs/37/lib/python3.7/site-packages/simplejson/decoder.py\", line 400, in raw_decode\n",
      "    return self.scan_once(s, idx=_w(s, idx).end())\n",
      "simplejson.errors.JSONDecodeError: Expecting value: line 1 column 1 (char 0)\n"
     ]
    },
    {
     "name": "stdout",
     "output_type": "stream",
     "text": [
      ">> F - 福特 - VE-FURDFIYMST - {'Vehicle': '嘉年华ST-福特进口', 'ProductID': 'VE-FURDFIYMST', 'BrandType': '福特进口', 'Brand': 'F - 福特', 'Url': '/Images/Logo/fute.png', 'Src': 'https://img3.tuhu.org/Images/type/VE-FURDFIYMST.png@163w_163h_100Q.png', 'IsBaoYang': 'True', 'CarName': '嘉年华ST', 'appSrc': None, 'Image': 'https://img3.tuhu.org/Images/type/VE-FURDFIYMST.png@100Q.png', 'ImageUrl': 'https://img3.tuhu.org/Images/Logo/FuTe.png', 'Tires': '205/40R17', 'SpecialTireSize': None, 'OriginalIsBaoyang': 1, 'Priority2': 2, 'Priority3': 5, 'VehicleSeries': None}\n",
      ">> F - 福特 - VE-FURDFIYMGT - {'Vehicle': '野马-福特进口', 'ProductID': 'VE-FURDFIYMGT', 'BrandType': '福特进口', 'Brand': 'F - 福特', 'Url': '/Images/Logo/fute.png', 'Src': 'https://img3.tuhu.org/Images/type/VE-FURDFIYMGT.png@163w_163h_100Q.png', 'IsBaoYang': 'True', 'CarName': '野马', 'appSrc': None, 'Image': 'https://img3.tuhu.org/Images/type/VE-FURDFIYMGT.png@100Q.png', 'ImageUrl': 'https://img3.tuhu.org/Images/Logo/FuTe.png', 'Tires': '255/40R19;275/40R19', 'SpecialTireSize': None, 'OriginalIsBaoyang': 1, 'Priority2': 2, 'Priority3': 4, 'VehicleSeries': None}\n"
     ]
    },
    {
     "name": "stderr",
     "output_type": "stream",
     "text": [
      "Traceback (most recent call last):\n",
      "  File \"<ipython-input-74-a1bbc79ad05d>\", line 60, in <module>\n",
      "    for pailiang in load_pailiang(vid):\n",
      "  File \"<ipython-input-74-a1bbc79ad05d>\", line 11, in load_pailiang\n",
      "    return requests.get(url, headers=headers).json()['PaiLiang']\n",
      "  File \"/Users/laisky/.virtualenvs/37/lib/python3.7/site-packages/requests/models.py\", line 897, in json\n",
      "    return complexjson.loads(self.text, **kwargs)\n",
      "  File \"/Users/laisky/.virtualenvs/37/lib/python3.7/site-packages/simplejson/__init__.py\", line 518, in loads\n",
      "    return _default_decoder.decode(s)\n",
      "  File \"/Users/laisky/.virtualenvs/37/lib/python3.7/site-packages/simplejson/decoder.py\", line 370, in decode\n",
      "    obj, end = self.raw_decode(s)\n",
      "  File \"/Users/laisky/.virtualenvs/37/lib/python3.7/site-packages/simplejson/decoder.py\", line 400, in raw_decode\n",
      "    return self.scan_once(s, idx=_w(s, idx).end())\n",
      "simplejson.errors.JSONDecodeError: Expecting value: line 1 column 1 (char 0)\n",
      "Traceback (most recent call last):\n",
      "  File \"<ipython-input-74-a1bbc79ad05d>\", line 60, in <module>\n",
      "    for pailiang in load_pailiang(vid):\n",
      "  File \"<ipython-input-74-a1bbc79ad05d>\", line 11, in load_pailiang\n",
      "    return requests.get(url, headers=headers).json()['PaiLiang']\n",
      "  File \"/Users/laisky/.virtualenvs/37/lib/python3.7/site-packages/requests/models.py\", line 897, in json\n",
      "    return complexjson.loads(self.text, **kwargs)\n",
      "  File \"/Users/laisky/.virtualenvs/37/lib/python3.7/site-packages/simplejson/__init__.py\", line 518, in loads\n",
      "    return _default_decoder.decode(s)\n",
      "  File \"/Users/laisky/.virtualenvs/37/lib/python3.7/site-packages/simplejson/decoder.py\", line 370, in decode\n",
      "    obj, end = self.raw_decode(s)\n",
      "  File \"/Users/laisky/.virtualenvs/37/lib/python3.7/site-packages/simplejson/decoder.py\", line 400, in raw_decode\n",
      "    return self.scan_once(s, idx=_w(s, idx).end())\n",
      "simplejson.errors.JSONDecodeError: Expecting value: line 1 column 1 (char 0)\n"
     ]
    },
    {
     "name": "stdout",
     "output_type": "stream",
     "text": [
      ">> F - 福特 - VE-FURDFIYTXZ - {'Vehicle': '探险者-福特进口', 'ProductID': 'VE-FURDFIYTXZ', 'BrandType': '福特进口', 'Brand': 'F - 福特', 'Url': '/Images/Logo/fute.png', 'Src': 'https://img4.tuhu.org/Images/type/VE-FURDFIYTXZ.png@163w_163h_100Q.png', 'IsBaoYang': 'True', 'CarName': '探险者', 'appSrc': None, 'Image': 'https://img4.tuhu.org/Images/type/VE-FURDFIYTXZ.png@100Q.png', 'ImageUrl': 'https://img3.tuhu.org/Images/Logo/FuTe.png', 'Tires': '245/60R18;255/50R20', 'SpecialTireSize': None, 'OriginalIsBaoyang': 1, 'Priority2': 2, 'Priority3': 3, 'VehicleSeries': None}\n",
      ">> F - 福特 - VE-FORDEXPDIT - {'Vehicle': '征服者-福特进口', 'ProductID': 'VE-FORDEXPDIT', 'BrandType': '福特进口', 'Brand': 'F - 福特', 'Url': '/Images/Logo/fute.png', 'Src': 'https://img3.tuhu.org/Images/type/VE-FORDEXPDIT.png@163w_163h_100Q.png', 'IsBaoYang': 'True', 'CarName': '征服者', 'appSrc': None, 'Image': 'https://img3.tuhu.org/Images/type/VE-FORDEXPDIT.png@100Q.png', 'ImageUrl': 'https://img3.tuhu.org/Images/Logo/FuTe.png', 'Tires': '255/70R18', 'SpecialTireSize': None, 'OriginalIsBaoyang': 1, 'Priority2': 2, 'Priority3': 2, 'VehicleSeries': None}\n"
     ]
    },
    {
     "name": "stderr",
     "output_type": "stream",
     "text": [
      "Traceback (most recent call last):\n",
      "  File \"<ipython-input-74-a1bbc79ad05d>\", line 60, in <module>\n",
      "    for pailiang in load_pailiang(vid):\n",
      "  File \"<ipython-input-74-a1bbc79ad05d>\", line 11, in load_pailiang\n",
      "    return requests.get(url, headers=headers).json()['PaiLiang']\n",
      "  File \"/Users/laisky/.virtualenvs/37/lib/python3.7/site-packages/requests/models.py\", line 897, in json\n",
      "    return complexjson.loads(self.text, **kwargs)\n",
      "  File \"/Users/laisky/.virtualenvs/37/lib/python3.7/site-packages/simplejson/__init__.py\", line 518, in loads\n",
      "    return _default_decoder.decode(s)\n",
      "  File \"/Users/laisky/.virtualenvs/37/lib/python3.7/site-packages/simplejson/decoder.py\", line 370, in decode\n",
      "    obj, end = self.raw_decode(s)\n",
      "  File \"/Users/laisky/.virtualenvs/37/lib/python3.7/site-packages/simplejson/decoder.py\", line 400, in raw_decode\n",
      "    return self.scan_once(s, idx=_w(s, idx).end())\n",
      "simplejson.errors.JSONDecodeError: Expecting value: line 1 column 1 (char 0)\n",
      "Traceback (most recent call last):\n",
      "  File \"<ipython-input-74-a1bbc79ad05d>\", line 60, in <module>\n",
      "    for pailiang in load_pailiang(vid):\n",
      "  File \"<ipython-input-74-a1bbc79ad05d>\", line 11, in load_pailiang\n",
      "    return requests.get(url, headers=headers).json()['PaiLiang']\n",
      "  File \"/Users/laisky/.virtualenvs/37/lib/python3.7/site-packages/requests/models.py\", line 897, in json\n",
      "    return complexjson.loads(self.text, **kwargs)\n",
      "  File \"/Users/laisky/.virtualenvs/37/lib/python3.7/site-packages/simplejson/__init__.py\", line 518, in loads\n",
      "    return _default_decoder.decode(s)\n",
      "  File \"/Users/laisky/.virtualenvs/37/lib/python3.7/site-packages/simplejson/decoder.py\", line 370, in decode\n",
      "    obj, end = self.raw_decode(s)\n",
      "  File \"/Users/laisky/.virtualenvs/37/lib/python3.7/site-packages/simplejson/decoder.py\", line 400, in raw_decode\n",
      "    return self.scan_once(s, idx=_w(s, idx).end())\n",
      "simplejson.errors.JSONDecodeError: Expecting value: line 1 column 1 (char 0)\n"
     ]
    },
    {
     "name": "stdout",
     "output_type": "stream",
     "text": [
      ">> F - 福特 - VE-FORD-RANGER - {'Vehicle': 'Ranger-福特进口', 'ProductID': 'VE-FORD-RANGER', 'BrandType': '福特进口', 'Brand': 'F - 福特', 'Url': '/Images/Logo/fute.png', 'Src': 'https://img4.tuhu.org/Images/type/VE-FORD-RANGER.png@163w_163h_100Q.png', 'IsBaoYang': 'True', 'CarName': 'Ranger', 'appSrc': None, 'Image': 'https://img4.tuhu.org/Images/type/VE-FORD-RANGER.png@100Q.png', 'ImageUrl': 'https://img3.tuhu.org/Images/Logo/FuTe.png', 'Tires': '265/60R18', 'SpecialTireSize': None, 'OriginalIsBaoyang': 1, 'Priority2': 2, 'Priority3': 1, 'VehicleSeries': None}\n",
      ">> F - 福特 - VE-LJX-2017QUANSHUN - {'Vehicle': '全顺-江铃福特', 'ProductID': 'VE-LJX-2017QUANSHUN', 'BrandType': '江铃福特', 'Brand': 'F - 福特', 'Url': '/Images/Logo/fute.png', 'Src': 'https://img3.tuhu.org/Images/type/VE-LJX-2017QUANSHUN.png@163w_163h_100Q.png', 'IsBaoYang': 'True', 'CarName': '全顺', 'appSrc': None, 'Image': 'https://img3.tuhu.org/Images/type/VE-LJX-2017QUANSHUN.png@100Q.png', 'ImageUrl': 'https://img3.tuhu.org/Images/Logo/FuTe.png', 'Tires': '215/65R16;215/65R16C;215/75R16LT;215/70R15;225/70R15', 'SpecialTireSize': '185R15LT', 'OriginalIsBaoyang': 1, 'Priority2': 1, 'Priority3': 6, 'VehicleSeries': None}\n"
     ]
    },
    {
     "name": "stderr",
     "output_type": "stream",
     "text": [
      "Traceback (most recent call last):\n",
      "  File \"<ipython-input-74-a1bbc79ad05d>\", line 60, in <module>\n",
      "    for pailiang in load_pailiang(vid):\n",
      "  File \"<ipython-input-74-a1bbc79ad05d>\", line 11, in load_pailiang\n",
      "    return requests.get(url, headers=headers).json()['PaiLiang']\n",
      "  File \"/Users/laisky/.virtualenvs/37/lib/python3.7/site-packages/requests/models.py\", line 897, in json\n",
      "    return complexjson.loads(self.text, **kwargs)\n",
      "  File \"/Users/laisky/.virtualenvs/37/lib/python3.7/site-packages/simplejson/__init__.py\", line 518, in loads\n",
      "    return _default_decoder.decode(s)\n",
      "  File \"/Users/laisky/.virtualenvs/37/lib/python3.7/site-packages/simplejson/decoder.py\", line 370, in decode\n",
      "    obj, end = self.raw_decode(s)\n",
      "  File \"/Users/laisky/.virtualenvs/37/lib/python3.7/site-packages/simplejson/decoder.py\", line 400, in raw_decode\n",
      "    return self.scan_once(s, idx=_w(s, idx).end())\n",
      "simplejson.errors.JSONDecodeError: Expecting value: line 1 column 1 (char 0)\n",
      "Traceback (most recent call last):\n",
      "  File \"<ipython-input-74-a1bbc79ad05d>\", line 60, in <module>\n",
      "    for pailiang in load_pailiang(vid):\n",
      "  File \"<ipython-input-74-a1bbc79ad05d>\", line 11, in load_pailiang\n",
      "    return requests.get(url, headers=headers).json()['PaiLiang']\n",
      "  File \"/Users/laisky/.virtualenvs/37/lib/python3.7/site-packages/requests/models.py\", line 897, in json\n",
      "    return complexjson.loads(self.text, **kwargs)\n",
      "  File \"/Users/laisky/.virtualenvs/37/lib/python3.7/site-packages/simplejson/__init__.py\", line 518, in loads\n",
      "    return _default_decoder.decode(s)\n",
      "  File \"/Users/laisky/.virtualenvs/37/lib/python3.7/site-packages/simplejson/decoder.py\", line 370, in decode\n",
      "    obj, end = self.raw_decode(s)\n",
      "  File \"/Users/laisky/.virtualenvs/37/lib/python3.7/site-packages/simplejson/decoder.py\", line 400, in raw_decode\n",
      "    return self.scan_once(s, idx=_w(s, idx).end())\n",
      "simplejson.errors.JSONDecodeError: Expecting value: line 1 column 1 (char 0)\n"
     ]
    },
    {
     "name": "stdout",
     "output_type": "stream",
     "text": [
      ">> F - 福特 - VE-JFORDQSHCLS - {'Vehicle': '经典全顺-江铃福特', 'ProductID': 'VE-JFORDQSHCLS', 'BrandType': '江铃福特', 'Brand': 'F - 福特', 'Url': '/Images/Logo/fute.png', 'Src': 'https://img3.tuhu.org/Images/type/VE-JFORDQSHCLS.png@163w_163h_100Q.png', 'IsBaoYang': 'True', 'CarName': '经典全顺', 'appSrc': None, 'Image': 'https://img3.tuhu.org/Images/type/VE-JFORDQSHCLS.png@100Q.png', 'ImageUrl': 'https://img3.tuhu.org/Images/Logo/FuTe.png', 'Tires': '215/70R15C;225/70R15C;215/70R16;215/75R16C;225/70R15;185/R15LT;215/70R15', 'SpecialTireSize': None, 'OriginalIsBaoyang': 1, 'Priority2': 1, 'Priority3': 5, 'VehicleSeries': None}\n",
      ">> F - 福特 - VE-JFORDQSHNEW - {'Vehicle': '新世代全顺-江铃福特', 'ProductID': 'VE-JFORDQSHNEW', 'BrandType': '江铃福特', 'Brand': 'F - 福特', 'Url': '/Images/Logo/fute.png', 'Src': 'https://img3.tuhu.org/Images/type/VE-JFORDQSHNEW.png@163w_163h_100Q.png', 'IsBaoYang': 'True', 'CarName': '新世代全顺', 'appSrc': None, 'Image': 'https://img3.tuhu.org/Images/type/VE-JFORDQSHNEW.png@100Q.png', 'ImageUrl': 'https://img3.tuhu.org/Images/Logo/FuTe.png', 'Tires': '185/75R16;215/70R15;215/75R16LT;215/70R16;205/75R16C;185/75R16C;215/70R15C;215/75R16C', 'SpecialTireSize': None, 'OriginalIsBaoyang': 1, 'Priority2': 1, 'Priority3': 4, 'VehicleSeries': None}\n"
     ]
    },
    {
     "name": "stderr",
     "output_type": "stream",
     "text": [
      "Traceback (most recent call last):\n",
      "  File \"<ipython-input-74-a1bbc79ad05d>\", line 60, in <module>\n",
      "    for pailiang in load_pailiang(vid):\n",
      "  File \"<ipython-input-74-a1bbc79ad05d>\", line 11, in load_pailiang\n",
      "    return requests.get(url, headers=headers).json()['PaiLiang']\n",
      "  File \"/Users/laisky/.virtualenvs/37/lib/python3.7/site-packages/requests/models.py\", line 897, in json\n",
      "    return complexjson.loads(self.text, **kwargs)\n",
      "  File \"/Users/laisky/.virtualenvs/37/lib/python3.7/site-packages/simplejson/__init__.py\", line 518, in loads\n",
      "    return _default_decoder.decode(s)\n",
      "  File \"/Users/laisky/.virtualenvs/37/lib/python3.7/site-packages/simplejson/decoder.py\", line 370, in decode\n",
      "    obj, end = self.raw_decode(s)\n",
      "  File \"/Users/laisky/.virtualenvs/37/lib/python3.7/site-packages/simplejson/decoder.py\", line 400, in raw_decode\n",
      "    return self.scan_once(s, idx=_w(s, idx).end())\n",
      "simplejson.errors.JSONDecodeError: Expecting value: line 1 column 1 (char 0)\n",
      "Traceback (most recent call last):\n",
      "  File \"<ipython-input-74-a1bbc79ad05d>\", line 60, in <module>\n",
      "    for pailiang in load_pailiang(vid):\n",
      "  File \"<ipython-input-74-a1bbc79ad05d>\", line 11, in load_pailiang\n",
      "    return requests.get(url, headers=headers).json()['PaiLiang']\n",
      "  File \"/Users/laisky/.virtualenvs/37/lib/python3.7/site-packages/requests/models.py\", line 897, in json\n",
      "    return complexjson.loads(self.text, **kwargs)\n",
      "  File \"/Users/laisky/.virtualenvs/37/lib/python3.7/site-packages/simplejson/__init__.py\", line 518, in loads\n",
      "    return _default_decoder.decode(s)\n",
      "  File \"/Users/laisky/.virtualenvs/37/lib/python3.7/site-packages/simplejson/decoder.py\", line 370, in decode\n",
      "    obj, end = self.raw_decode(s)\n",
      "  File \"/Users/laisky/.virtualenvs/37/lib/python3.7/site-packages/simplejson/decoder.py\", line 400, in raw_decode\n",
      "    return self.scan_once(s, idx=_w(s, idx).end())\n",
      "simplejson.errors.JSONDecodeError: Expecting value: line 1 column 1 (char 0)\n"
     ]
    },
    {
     "name": "stdout",
     "output_type": "stream",
     "text": [
      ">> F - 福特 - VE-JFORDTitanium - {'Vehicle': '撼路者-江铃福特', 'ProductID': 'VE-JFORDTitanium', 'BrandType': '江铃福特', 'Brand': 'F - 福特', 'Url': '/Images/Logo/fute.png', 'Src': 'https://img3.tuhu.org/Images/type/VE-JFORDTitanium.png@163w_163h_100Q.png', 'IsBaoYang': 'True', 'CarName': '撼路者', 'appSrc': None, 'Image': 'https://img3.tuhu.org/Images/type/VE-JFORDTitanium.png@100Q.png', 'ImageUrl': 'https://img3.tuhu.org/Images/Logo/FuTe.png', 'Tires': '265/65R17;265/60R18;265/50R20', 'SpecialTireSize': None, 'OriginalIsBaoyang': 1, 'Priority2': 1, 'Priority3': 3, 'VehicleSeries': None}\n",
      ">> F - 福特 - VE-JFORDTURUIOU - {'Vehicle': '途睿欧-江铃福特', 'ProductID': 'VE-JFORDTURUIOU', 'BrandType': '江铃福特', 'Brand': 'F - 福特', 'Url': '/Images/Logo/fute.png', 'Src': 'https://img3.tuhu.org/Images/type/VE-JFORDTURUIOU.png@163w_163h_100Q.png', 'IsBaoYang': 'True', 'CarName': '途睿欧', 'appSrc': None, 'Image': 'https://img3.tuhu.org/Images/type/VE-JFORDTURUIOU.png@100Q.png', 'ImageUrl': 'https://img3.tuhu.org/Images/Logo/FuTe.png', 'Tires': '215/65R16', 'SpecialTireSize': None, 'OriginalIsBaoyang': 1, 'Priority2': 1, 'Priority3': 2, 'VehicleSeries': None}\n"
     ]
    },
    {
     "name": "stderr",
     "output_type": "stream",
     "text": [
      "Traceback (most recent call last):\n",
      "  File \"<ipython-input-74-a1bbc79ad05d>\", line 60, in <module>\n",
      "    for pailiang in load_pailiang(vid):\n",
      "  File \"<ipython-input-74-a1bbc79ad05d>\", line 11, in load_pailiang\n",
      "    return requests.get(url, headers=headers).json()['PaiLiang']\n",
      "  File \"/Users/laisky/.virtualenvs/37/lib/python3.7/site-packages/requests/models.py\", line 897, in json\n",
      "    return complexjson.loads(self.text, **kwargs)\n",
      "  File \"/Users/laisky/.virtualenvs/37/lib/python3.7/site-packages/simplejson/__init__.py\", line 518, in loads\n",
      "    return _default_decoder.decode(s)\n",
      "  File \"/Users/laisky/.virtualenvs/37/lib/python3.7/site-packages/simplejson/decoder.py\", line 370, in decode\n",
      "    obj, end = self.raw_decode(s)\n",
      "  File \"/Users/laisky/.virtualenvs/37/lib/python3.7/site-packages/simplejson/decoder.py\", line 400, in raw_decode\n",
      "    return self.scan_once(s, idx=_w(s, idx).end())\n",
      "simplejson.errors.JSONDecodeError: Expecting value: line 1 column 1 (char 0)\n",
      "Traceback (most recent call last):\n",
      "  File \"<ipython-input-74-a1bbc79ad05d>\", line 60, in <module>\n",
      "    for pailiang in load_pailiang(vid):\n",
      "  File \"<ipython-input-74-a1bbc79ad05d>\", line 11, in load_pailiang\n",
      "    return requests.get(url, headers=headers).json()['PaiLiang']\n",
      "  File \"/Users/laisky/.virtualenvs/37/lib/python3.7/site-packages/requests/models.py\", line 897, in json\n",
      "    return complexjson.loads(self.text, **kwargs)\n",
      "  File \"/Users/laisky/.virtualenvs/37/lib/python3.7/site-packages/simplejson/__init__.py\", line 518, in loads\n",
      "    return _default_decoder.decode(s)\n",
      "  File \"/Users/laisky/.virtualenvs/37/lib/python3.7/site-packages/simplejson/decoder.py\", line 370, in decode\n",
      "    obj, end = self.raw_decode(s)\n",
      "  File \"/Users/laisky/.virtualenvs/37/lib/python3.7/site-packages/simplejson/decoder.py\", line 400, in raw_decode\n",
      "    return self.scan_once(s, idx=_w(s, idx).end())\n",
      "simplejson.errors.JSONDecodeError: Expecting value: line 1 column 1 (char 0)\n"
     ]
    },
    {
     "name": "stdout",
     "output_type": "stream",
     "text": [
      ">> F - 福特 - VE-LJX-LINJIE - {'Vehicle': '领界-江铃福特', 'ProductID': 'VE-LJX-LINJIE', 'BrandType': '江铃福特', 'Brand': 'F - 福特', 'Url': '/Images/Logo/fute.png', 'Src': 'https://img3.tuhu.org/Images/type/VE-LJX-LINJIE.png@163w_163h_100Q.png', 'IsBaoYang': 'True', 'CarName': '领界', 'appSrc': None, 'Image': 'https://img3.tuhu.org/Images/type/VE-LJX-LINJIE.png@100Q.png', 'ImageUrl': 'https://img3.tuhu.org/Images/Logo/FuTe.png', 'Tires': '215/65R16;235/55R17;235/50R18', 'SpecialTireSize': None, 'OriginalIsBaoyang': 1, 'Priority2': 1, 'Priority3': 1, 'VehicleSeries': None}\n",
      "G - 观致 done\n",
      ">> G - 观致 - VE-GZHIGZHI3SUV - {'Vehicle': '都市SUV-观致汽车', 'ProductID': 'VE-GZHIGZHI3SUV', 'BrandType': '观致汽车', 'Brand': 'G - 观致', 'Url': '/Images/Logo/guanzhi.png', 'Src': 'https://img3.tuhu.org/Images/type/VE-GZHIGZHI3SUV.png@163w_163h_100Q.png', 'IsBaoYang': 'True', 'CarName': '都市SUV', 'appSrc': None, 'Image': 'https://img3.tuhu.org/Images/type/VE-GZHIGZHI3SUV.png@100Q.png', 'ImageUrl': 'https://img3.tuhu.org/Images/Logo/GuanZhi.png', 'Tires': '215/60R17;215/55R18', 'SpecialTireSize': None, 'OriginalIsBaoyang': 1, 'Priority2': 1, 'Priority3': 5, 'VehicleSeries': None}\n"
     ]
    },
    {
     "name": "stderr",
     "output_type": "stream",
     "text": [
      "Traceback (most recent call last):\n",
      "  File \"<ipython-input-74-a1bbc79ad05d>\", line 60, in <module>\n",
      "    for pailiang in load_pailiang(vid):\n",
      "  File \"<ipython-input-74-a1bbc79ad05d>\", line 11, in load_pailiang\n",
      "    return requests.get(url, headers=headers).json()['PaiLiang']\n",
      "  File \"/Users/laisky/.virtualenvs/37/lib/python3.7/site-packages/requests/models.py\", line 897, in json\n",
      "    return complexjson.loads(self.text, **kwargs)\n",
      "  File \"/Users/laisky/.virtualenvs/37/lib/python3.7/site-packages/simplejson/__init__.py\", line 518, in loads\n",
      "    return _default_decoder.decode(s)\n",
      "  File \"/Users/laisky/.virtualenvs/37/lib/python3.7/site-packages/simplejson/decoder.py\", line 370, in decode\n",
      "    obj, end = self.raw_decode(s)\n",
      "  File \"/Users/laisky/.virtualenvs/37/lib/python3.7/site-packages/simplejson/decoder.py\", line 400, in raw_decode\n",
      "    return self.scan_once(s, idx=_w(s, idx).end())\n",
      "simplejson.errors.JSONDecodeError: Expecting value: line 1 column 1 (char 0)\n",
      "Traceback (most recent call last):\n",
      "  File \"<ipython-input-74-a1bbc79ad05d>\", line 60, in <module>\n",
      "    for pailiang in load_pailiang(vid):\n",
      "  File \"<ipython-input-74-a1bbc79ad05d>\", line 11, in load_pailiang\n",
      "    return requests.get(url, headers=headers).json()['PaiLiang']\n",
      "  File \"/Users/laisky/.virtualenvs/37/lib/python3.7/site-packages/requests/models.py\", line 897, in json\n",
      "    return complexjson.loads(self.text, **kwargs)\n",
      "  File \"/Users/laisky/.virtualenvs/37/lib/python3.7/site-packages/simplejson/__init__.py\", line 518, in loads\n",
      "    return _default_decoder.decode(s)\n",
      "  File \"/Users/laisky/.virtualenvs/37/lib/python3.7/site-packages/simplejson/decoder.py\", line 370, in decode\n",
      "    obj, end = self.raw_decode(s)\n",
      "  File \"/Users/laisky/.virtualenvs/37/lib/python3.7/site-packages/simplejson/decoder.py\", line 400, in raw_decode\n",
      "    return self.scan_once(s, idx=_w(s, idx).end())\n",
      "simplejson.errors.JSONDecodeError: Expecting value: line 1 column 1 (char 0)\n"
     ]
    },
    {
     "name": "stdout",
     "output_type": "stream",
     "text": [
      ">> G - 观致 - VE-GZHIGZHI5SUV - {'Vehicle': '观致5-观致汽车', 'ProductID': 'VE-GZHIGZHI5SUV', 'BrandType': '观致汽车', 'Brand': 'G - 观致', 'Url': '/Images/Logo/guanzhi.png', 'Src': 'https://img4.tuhu.org/Images/type/VE-GZHIGZHI5SUV.png@163w_163h_100Q.png', 'IsBaoYang': 'True', 'CarName': '观致5', 'appSrc': None, 'Image': 'https://img4.tuhu.org/Images/type/VE-GZHIGZHI5SUV.png@100Q.png', 'ImageUrl': 'https://img3.tuhu.org/Images/Logo/GuanZhi.png', 'Tires': '225/65R17;235/55R18;235/50R19;215/60R17', 'SpecialTireSize': None, 'OriginalIsBaoyang': 1, 'Priority2': 1, 'Priority3': 4, 'VehicleSeries': None}\n",
      ">> G - 观致 - VE-LLN-3SANXIANG - {'Vehicle': '观致3 三厢-观致汽车', 'ProductID': 'VE-LLN-3SANXIANG', 'BrandType': '观致汽车', 'Brand': 'G - 观致', 'Url': '/Images/Logo/guanzhi.png', 'Src': 'https://img4.tuhu.org/Images/type/VE-LLN-3SANXIANG.png@163w_163h_100Q.png', 'IsBaoYang': 'True', 'CarName': '观致3 三厢', 'appSrc': None, 'Image': 'https://img4.tuhu.org/Images/type/VE-LLN-3SANXIANG.png@100Q.png', 'ImageUrl': 'https://img3.tuhu.org/Images/Logo/GuanZhi.png', 'Tires': '205/60R16;215/50R17;225/45R18;225/60R16', 'SpecialTireSize': None, 'OriginalIsBaoyang': 1, 'Priority2': 1, 'Priority3': 3, 'VehicleSeries': None}\n"
     ]
    },
    {
     "name": "stderr",
     "output_type": "stream",
     "text": [
      "Traceback (most recent call last):\n",
      "  File \"<ipython-input-74-a1bbc79ad05d>\", line 60, in <module>\n",
      "    for pailiang in load_pailiang(vid):\n",
      "  File \"<ipython-input-74-a1bbc79ad05d>\", line 11, in load_pailiang\n",
      "    return requests.get(url, headers=headers).json()['PaiLiang']\n",
      "  File \"/Users/laisky/.virtualenvs/37/lib/python3.7/site-packages/requests/models.py\", line 897, in json\n",
      "    return complexjson.loads(self.text, **kwargs)\n",
      "  File \"/Users/laisky/.virtualenvs/37/lib/python3.7/site-packages/simplejson/__init__.py\", line 518, in loads\n",
      "    return _default_decoder.decode(s)\n",
      "  File \"/Users/laisky/.virtualenvs/37/lib/python3.7/site-packages/simplejson/decoder.py\", line 370, in decode\n",
      "    obj, end = self.raw_decode(s)\n",
      "  File \"/Users/laisky/.virtualenvs/37/lib/python3.7/site-packages/simplejson/decoder.py\", line 400, in raw_decode\n",
      "    return self.scan_once(s, idx=_w(s, idx).end())\n",
      "simplejson.errors.JSONDecodeError: Expecting value: line 1 column 1 (char 0)\n",
      "Traceback (most recent call last):\n",
      "  File \"<ipython-input-74-a1bbc79ad05d>\", line 60, in <module>\n",
      "    for pailiang in load_pailiang(vid):\n",
      "  File \"<ipython-input-74-a1bbc79ad05d>\", line 11, in load_pailiang\n",
      "    return requests.get(url, headers=headers).json()['PaiLiang']\n",
      "  File \"/Users/laisky/.virtualenvs/37/lib/python3.7/site-packages/requests/models.py\", line 897, in json\n",
      "    return complexjson.loads(self.text, **kwargs)\n",
      "  File \"/Users/laisky/.virtualenvs/37/lib/python3.7/site-packages/simplejson/__init__.py\", line 518, in loads\n",
      "    return _default_decoder.decode(s)\n",
      "  File \"/Users/laisky/.virtualenvs/37/lib/python3.7/site-packages/simplejson/decoder.py\", line 370, in decode\n",
      "    obj, end = self.raw_decode(s)\n",
      "  File \"/Users/laisky/.virtualenvs/37/lib/python3.7/site-packages/simplejson/decoder.py\", line 400, in raw_decode\n",
      "    return self.scan_once(s, idx=_w(s, idx).end())\n",
      "simplejson.errors.JSONDecodeError: Expecting value: line 1 column 1 (char 0)\n"
     ]
    },
    {
     "name": "stdout",
     "output_type": "stream",
     "text": [
      ">> G - 观致 - VE-LLN-3LIANGXIANG - {'Vehicle': '观致3 两厢-观致汽车', 'ProductID': 'VE-LLN-3LIANGXIANG', 'BrandType': '观致汽车', 'Brand': 'G - 观致', 'Url': '/Images/Logo/guanzhi.png', 'Src': 'https://img3.tuhu.org/Images/type/VE-LLN-3LIANGXIANG.png@163w_163h_100Q.png', 'IsBaoYang': 'True', 'CarName': '观致3 两厢', 'appSrc': None, 'Image': 'https://img3.tuhu.org/Images/type/VE-LLN-3LIANGXIANG.png@100Q.png', 'ImageUrl': 'https://img3.tuhu.org/Images/Logo/GuanZhi.png', 'Tires': '205/60R16;215/50R17;225/45R18', 'SpecialTireSize': None, 'OriginalIsBaoyang': 1, 'Priority2': 1, 'Priority3': 2, 'VehicleSeries': None}\n",
      ">> G - 观致 - VE-LLN-3GT - {'Vehicle': '观致3 GT-观致汽车', 'ProductID': 'VE-LLN-3GT', 'BrandType': '观致汽车', 'Brand': 'G - 观致', 'Url': '/Images/Logo/guanzhi.png', 'Src': 'https://img3.tuhu.org/Images/type/VE-LLN-3GT.png@163w_163h_100Q.png', 'IsBaoYang': 'True', 'CarName': '观致3 GT', 'appSrc': None, 'Image': 'https://img3.tuhu.org/Images/type/VE-LLN-3GT.png@100Q.png', 'ImageUrl': 'https://img3.tuhu.org/Images/Logo/GuanZhi.png', 'Tires': '215/55R18', 'SpecialTireSize': None, 'OriginalIsBaoyang': 1, 'Priority2': 1, 'Priority3': 1, 'VehicleSeries': None}\n",
      "G - GMC done\n"
     ]
    },
    {
     "name": "stderr",
     "output_type": "stream",
     "text": [
      "Traceback (most recent call last):\n",
      "  File \"<ipython-input-74-a1bbc79ad05d>\", line 60, in <module>\n",
      "    for pailiang in load_pailiang(vid):\n",
      "  File \"<ipython-input-74-a1bbc79ad05d>\", line 11, in load_pailiang\n",
      "    return requests.get(url, headers=headers).json()['PaiLiang']\n",
      "  File \"/Users/laisky/.virtualenvs/37/lib/python3.7/site-packages/requests/models.py\", line 897, in json\n",
      "    return complexjson.loads(self.text, **kwargs)\n",
      "  File \"/Users/laisky/.virtualenvs/37/lib/python3.7/site-packages/simplejson/__init__.py\", line 518, in loads\n",
      "    return _default_decoder.decode(s)\n",
      "  File \"/Users/laisky/.virtualenvs/37/lib/python3.7/site-packages/simplejson/decoder.py\", line 370, in decode\n",
      "    obj, end = self.raw_decode(s)\n",
      "  File \"/Users/laisky/.virtualenvs/37/lib/python3.7/site-packages/simplejson/decoder.py\", line 400, in raw_decode\n",
      "    return self.scan_once(s, idx=_w(s, idx).end())\n",
      "simplejson.errors.JSONDecodeError: Expecting value: line 1 column 1 (char 0)\n",
      "Traceback (most recent call last):\n",
      "  File \"<ipython-input-74-a1bbc79ad05d>\", line 60, in <module>\n",
      "    for pailiang in load_pailiang(vid):\n",
      "  File \"<ipython-input-74-a1bbc79ad05d>\", line 11, in load_pailiang\n",
      "    return requests.get(url, headers=headers).json()['PaiLiang']\n",
      "  File \"/Users/laisky/.virtualenvs/37/lib/python3.7/site-packages/requests/models.py\", line 897, in json\n",
      "    return complexjson.loads(self.text, **kwargs)\n",
      "  File \"/Users/laisky/.virtualenvs/37/lib/python3.7/site-packages/simplejson/__init__.py\", line 518, in loads\n",
      "    return _default_decoder.decode(s)\n",
      "  File \"/Users/laisky/.virtualenvs/37/lib/python3.7/site-packages/simplejson/decoder.py\", line 370, in decode\n",
      "    obj, end = self.raw_decode(s)\n",
      "  File \"/Users/laisky/.virtualenvs/37/lib/python3.7/site-packages/simplejson/decoder.py\", line 400, in raw_decode\n",
      "    return self.scan_once(s, idx=_w(s, idx).end())\n",
      "simplejson.errors.JSONDecodeError: Expecting value: line 1 column 1 (char 0)\n"
     ]
    },
    {
     "name": "stdout",
     "output_type": "stream",
     "text": [
      ">> G - GMC - VE-GMCSAVANA - {'Vehicle': '赛威-通用汽车', 'ProductID': 'VE-GMCSAVANA', 'BrandType': '通用汽车', 'Brand': 'G - GMC', 'Url': '/Images/Logo/gmc.png', 'Src': 'https://img4.tuhu.org/Images/type/VE-GMCSAVANA.png@163w_163h_100Q.png', 'IsBaoYang': 'True', 'CarName': '赛威', 'appSrc': None, 'Image': 'https://img4.tuhu.org/Images/type/VE-GMCSAVANA.png@100Q.png', 'ImageUrl': 'https://img3.tuhu.org/Images/Logo/GMC.png', 'Tires': '265/50R20;275/45R20;295/45R20;265/60R18;245/75R16', 'SpecialTireSize': None, 'OriginalIsBaoyang': 1, 'Priority2': 1, 'Priority3': 3, 'VehicleSeries': None}\n",
      ">> G - GMC - VE-GMCSIERRA - {'Vehicle': '西拉-通用汽车', 'ProductID': 'VE-GMCSIERRA', 'BrandType': '通用汽车', 'Brand': 'G - GMC', 'Url': '/Images/Logo/gmc.png', 'Src': 'https://img4.tuhu.org/Images/type/VE-GMCSIERRA.png@163w_163h_100Q.png', 'IsBaoYang': 'True', 'CarName': '西拉', 'appSrc': None, 'Image': 'https://img4.tuhu.org/Images/type/VE-GMCSIERRA.png@100Q.png', 'ImageUrl': 'https://img3.tuhu.org/Images/Logo/GMC.png', 'Tires': '245/75R16;265/60R20;275/55R20', 'SpecialTireSize': None, 'OriginalIsBaoyang': 1, 'Priority2': 1, 'Priority3': 2, 'VehicleSeries': None}\n"
     ]
    },
    {
     "name": "stderr",
     "output_type": "stream",
     "text": [
      "Traceback (most recent call last):\n",
      "  File \"<ipython-input-74-a1bbc79ad05d>\", line 60, in <module>\n",
      "    for pailiang in load_pailiang(vid):\n",
      "  File \"<ipython-input-74-a1bbc79ad05d>\", line 11, in load_pailiang\n",
      "    return requests.get(url, headers=headers).json()['PaiLiang']\n",
      "  File \"/Users/laisky/.virtualenvs/37/lib/python3.7/site-packages/requests/models.py\", line 897, in json\n",
      "    return complexjson.loads(self.text, **kwargs)\n",
      "  File \"/Users/laisky/.virtualenvs/37/lib/python3.7/site-packages/simplejson/__init__.py\", line 518, in loads\n",
      "    return _default_decoder.decode(s)\n",
      "  File \"/Users/laisky/.virtualenvs/37/lib/python3.7/site-packages/simplejson/decoder.py\", line 370, in decode\n",
      "    obj, end = self.raw_decode(s)\n",
      "  File \"/Users/laisky/.virtualenvs/37/lib/python3.7/site-packages/simplejson/decoder.py\", line 400, in raw_decode\n",
      "    return self.scan_once(s, idx=_w(s, idx).end())\n",
      "simplejson.errors.JSONDecodeError: Expecting value: line 1 column 1 (char 0)\n",
      "Traceback (most recent call last):\n",
      "  File \"<ipython-input-74-a1bbc79ad05d>\", line 60, in <module>\n",
      "    for pailiang in load_pailiang(vid):\n",
      "  File \"<ipython-input-74-a1bbc79ad05d>\", line 11, in load_pailiang\n",
      "    return requests.get(url, headers=headers).json()['PaiLiang']\n",
      "  File \"/Users/laisky/.virtualenvs/37/lib/python3.7/site-packages/requests/models.py\", line 897, in json\n",
      "    return complexjson.loads(self.text, **kwargs)\n",
      "  File \"/Users/laisky/.virtualenvs/37/lib/python3.7/site-packages/simplejson/__init__.py\", line 518, in loads\n",
      "    return _default_decoder.decode(s)\n",
      "  File \"/Users/laisky/.virtualenvs/37/lib/python3.7/site-packages/simplejson/decoder.py\", line 370, in decode\n",
      "    obj, end = self.raw_decode(s)\n",
      "  File \"/Users/laisky/.virtualenvs/37/lib/python3.7/site-packages/simplejson/decoder.py\", line 400, in raw_decode\n",
      "    return self.scan_once(s, idx=_w(s, idx).end())\n",
      "simplejson.errors.JSONDecodeError: Expecting value: line 1 column 1 (char 0)\n"
     ]
    },
    {
     "name": "stdout",
     "output_type": "stream",
     "text": [
      ">> G - GMC - VE-GMCYUKON - {'Vehicle': 'YUKON-通用汽车', 'ProductID': 'VE-GMCYUKON', 'BrandType': '通用汽车', 'Brand': 'G - GMC', 'Url': '/Images/Logo/gmc.png', 'Src': 'https://img3.tuhu.org/Images/type/VE-GMCYUKON.png@163w_163h_100Q.png', 'IsBaoYang': 'True', 'CarName': 'YUKON', 'appSrc': None, 'Image': 'https://img3.tuhu.org/Images/type/VE-GMCYUKON.png@100Q.png', 'ImageUrl': 'https://img3.tuhu.org/Images/Logo/GMC.png', 'Tires': '275/60R18;275/60R20;245/75R16;285/45R22', 'SpecialTireSize': None, 'OriginalIsBaoyang': 1, 'Priority2': 1, 'Priority3': 1, 'VehicleSeries': None}\n",
      "G - 光冈 done\n",
      ">> G - 光冈 - VE-GGANGGC - {'Vehicle': '嘉路-光冈汽车', 'ProductID': 'VE-GGANGGC', 'BrandType': '光冈汽车', 'Brand': 'G - 光冈', 'Url': '/Images/Logo/guanggang.png', 'Src': 'https://img3.tuhu.org/Images/type/VE-GGANGGC.png@163w_163h_100Q.png', 'IsBaoYang': 'True', 'CarName': '嘉路', 'appSrc': None, 'Image': 'https://img3.tuhu.org/Images/type/VE-GGANGGC.png@100Q.png', 'ImageUrl': 'https://img3.tuhu.org/Images/Logo/GuangGang.png', 'Tires': '235/50R18', 'SpecialTireSize': None, 'OriginalIsBaoyang': 1, 'Priority2': 1, 'Priority3': 2, 'VehicleSeries': None}\n"
     ]
    },
    {
     "name": "stderr",
     "output_type": "stream",
     "text": [
      "Traceback (most recent call last):\n",
      "  File \"<ipython-input-74-a1bbc79ad05d>\", line 60, in <module>\n",
      "    for pailiang in load_pailiang(vid):\n",
      "  File \"<ipython-input-74-a1bbc79ad05d>\", line 11, in load_pailiang\n",
      "    return requests.get(url, headers=headers).json()['PaiLiang']\n",
      "  File \"/Users/laisky/.virtualenvs/37/lib/python3.7/site-packages/requests/models.py\", line 897, in json\n",
      "    return complexjson.loads(self.text, **kwargs)\n",
      "  File \"/Users/laisky/.virtualenvs/37/lib/python3.7/site-packages/simplejson/__init__.py\", line 518, in loads\n",
      "    return _default_decoder.decode(s)\n",
      "  File \"/Users/laisky/.virtualenvs/37/lib/python3.7/site-packages/simplejson/decoder.py\", line 370, in decode\n",
      "    obj, end = self.raw_decode(s)\n",
      "  File \"/Users/laisky/.virtualenvs/37/lib/python3.7/site-packages/simplejson/decoder.py\", line 400, in raw_decode\n",
      "    return self.scan_once(s, idx=_w(s, idx).end())\n",
      "simplejson.errors.JSONDecodeError: Expecting value: line 1 column 1 (char 0)\n",
      "Traceback (most recent call last):\n",
      "  File \"<ipython-input-74-a1bbc79ad05d>\", line 60, in <module>\n",
      "    for pailiang in load_pailiang(vid):\n",
      "  File \"<ipython-input-74-a1bbc79ad05d>\", line 11, in load_pailiang\n",
      "    return requests.get(url, headers=headers).json()['PaiLiang']\n",
      "  File \"/Users/laisky/.virtualenvs/37/lib/python3.7/site-packages/requests/models.py\", line 897, in json\n",
      "    return complexjson.loads(self.text, **kwargs)\n",
      "  File \"/Users/laisky/.virtualenvs/37/lib/python3.7/site-packages/simplejson/__init__.py\", line 518, in loads\n",
      "    return _default_decoder.decode(s)\n",
      "  File \"/Users/laisky/.virtualenvs/37/lib/python3.7/site-packages/simplejson/decoder.py\", line 370, in decode\n",
      "    obj, end = self.raw_decode(s)\n",
      "  File \"/Users/laisky/.virtualenvs/37/lib/python3.7/site-packages/simplejson/decoder.py\", line 400, in raw_decode\n",
      "    return self.scan_once(s, idx=_w(s, idx).end())\n",
      "simplejson.errors.JSONDecodeError: Expecting value: line 1 column 1 (char 0)\n"
     ]
    },
    {
     "name": "stdout",
     "output_type": "stream",
     "text": [
      ">> G - 光冈 - VE-GGANGORO - {'Vehicle': '大蛇-光冈汽车', 'ProductID': 'VE-GGANGORO', 'BrandType': '光冈汽车', 'Brand': 'G - 光冈', 'Url': '/Images/Logo/guanggang.png', 'Src': 'https://img3.tuhu.org/Images/type/VE-GGANGORO.png@163w_163h_100Q.png', 'IsBaoYang': 'True', 'CarName': '大蛇', 'appSrc': None, 'Image': 'https://img3.tuhu.org/Images/type/VE-GGANGORO.png@100Q.png', 'ImageUrl': 'https://img3.tuhu.org/Images/Logo/GuangGang.png', 'Tires': '245/45R18;285/40R18', 'SpecialTireSize': None, 'OriginalIsBaoyang': 1, 'Priority2': 1, 'Priority3': 1, 'VehicleSeries': None}\n",
      "G - 国金 done\n",
      ">> G - 国金 - VE-LKJ-GM3 - {'Vehicle': '国金GM3-陕汽通家', 'ProductID': 'VE-LKJ-GM3', 'BrandType': '陕汽通家', 'Brand': 'G - 国金', 'Url': '/Images/Logo/guojin.png', 'Src': 'https://img4.tuhu.org/Images/type/VE-LKJ-GM3.png@163w_163h_100Q.png', 'IsBaoYang': 'True', 'CarName': '国金GM3', 'appSrc': None, 'Image': 'https://img4.tuhu.org/Images/type/VE-LKJ-GM3.png@100Q.png', 'ImageUrl': 'https://img3.tuhu.org/Images/Logo/GuoJin.png', 'Tires': '215/60R16;215/55R17', 'SpecialTireSize': None, 'OriginalIsBaoyang': 1, 'Priority2': 1, 'Priority3': 1, 'VehicleSeries': None}\n",
      "G - 广汽新能源 done\n"
     ]
    },
    {
     "name": "stderr",
     "output_type": "stream",
     "text": [
      "Traceback (most recent call last):\n",
      "  File \"<ipython-input-74-a1bbc79ad05d>\", line 60, in <module>\n",
      "    for pailiang in load_pailiang(vid):\n",
      "  File \"<ipython-input-74-a1bbc79ad05d>\", line 11, in load_pailiang\n",
      "    return requests.get(url, headers=headers).json()['PaiLiang']\n",
      "  File \"/Users/laisky/.virtualenvs/37/lib/python3.7/site-packages/requests/models.py\", line 897, in json\n",
      "    return complexjson.loads(self.text, **kwargs)\n",
      "  File \"/Users/laisky/.virtualenvs/37/lib/python3.7/site-packages/simplejson/__init__.py\", line 518, in loads\n",
      "    return _default_decoder.decode(s)\n",
      "  File \"/Users/laisky/.virtualenvs/37/lib/python3.7/site-packages/simplejson/decoder.py\", line 370, in decode\n",
      "    obj, end = self.raw_decode(s)\n",
      "  File \"/Users/laisky/.virtualenvs/37/lib/python3.7/site-packages/simplejson/decoder.py\", line 400, in raw_decode\n",
      "    return self.scan_once(s, idx=_w(s, idx).end())\n",
      "simplejson.errors.JSONDecodeError: Expecting value: line 1 column 1 (char 0)\n",
      "Traceback (most recent call last):\n",
      "  File \"<ipython-input-74-a1bbc79ad05d>\", line 60, in <module>\n",
      "    for pailiang in load_pailiang(vid):\n",
      "  File \"<ipython-input-74-a1bbc79ad05d>\", line 11, in load_pailiang\n",
      "    return requests.get(url, headers=headers).json()['PaiLiang']\n",
      "  File \"/Users/laisky/.virtualenvs/37/lib/python3.7/site-packages/requests/models.py\", line 897, in json\n",
      "    return complexjson.loads(self.text, **kwargs)\n",
      "  File \"/Users/laisky/.virtualenvs/37/lib/python3.7/site-packages/simplejson/__init__.py\", line 518, in loads\n",
      "    return _default_decoder.decode(s)\n",
      "  File \"/Users/laisky/.virtualenvs/37/lib/python3.7/site-packages/simplejson/decoder.py\", line 370, in decode\n",
      "    obj, end = self.raw_decode(s)\n",
      "  File \"/Users/laisky/.virtualenvs/37/lib/python3.7/site-packages/simplejson/decoder.py\", line 400, in raw_decode\n",
      "    return self.scan_once(s, idx=_w(s, idx).end())\n",
      "simplejson.errors.JSONDecodeError: Expecting value: line 1 column 1 (char 0)\n"
     ]
    },
    {
     "name": "stdout",
     "output_type": "stream",
     "text": [
      ">> G - 广汽新能源 - VE-LDNPHEV - {'Vehicle': '祺智-广汽三菱', 'ProductID': 'VE-LDNPHEV', 'BrandType': '广汽三菱', 'Brand': 'G - 广汽新能源', 'Url': '/Images/Logo/guangqixinnengyuan.png', 'Src': 'https://img3.tuhu.org/Images/type/VE-LDNPHEV.png@163w_163h_100Q.png', 'IsBaoYang': 'True', 'CarName': '祺智', 'appSrc': None, 'Image': 'https://img3.tuhu.org/Images/type/VE-LDNPHEV.png@100Q.png', 'ImageUrl': 'https://img3.tuhu.org/Images/Logo/GuangQiXinNengYuan.png', 'Tires': '215/55R18', 'SpecialTireSize': None, 'OriginalIsBaoyang': 1, 'Priority2': 4, 'Priority3': 1, 'VehicleSeries': None}\n",
      ">> G - 广汽新能源 - VE-LVG-ix4 - {'Vehicle': '广汽ix4-广汽丰田', 'ProductID': 'VE-LVG-ix4', 'BrandType': '广汽丰田', 'Brand': 'G - 广汽新能源', 'Url': '/Images/Logo/guangqixinnengyuan.png', 'Src': 'https://img4.tuhu.org/Images/type/VE-LVG-ix4.png@163w_163h_100Q.png', 'IsBaoYang': 'True', 'CarName': '广汽ix4', 'appSrc': None, 'Image': 'https://img4.tuhu.org/Images/type/VE-LVG-ix4.png@100Q.png', 'ImageUrl': 'https://img3.tuhu.org/Images/Logo/GuangQiXinNengYuan.png', 'Tires': '215/60R17;215/55R18', 'SpecialTireSize': None, 'OriginalIsBaoyang': 1, 'Priority2': 3, 'Priority3': 1, 'VehicleSeries': None}\n"
     ]
    },
    {
     "name": "stderr",
     "output_type": "stream",
     "text": [
      "Traceback (most recent call last):\n",
      "  File \"<ipython-input-74-a1bbc79ad05d>\", line 60, in <module>\n",
      "    for pailiang in load_pailiang(vid):\n",
      "  File \"<ipython-input-74-a1bbc79ad05d>\", line 11, in load_pailiang\n",
      "    return requests.get(url, headers=headers).json()['PaiLiang']\n",
      "  File \"/Users/laisky/.virtualenvs/37/lib/python3.7/site-packages/requests/models.py\", line 897, in json\n",
      "    return complexjson.loads(self.text, **kwargs)\n",
      "  File \"/Users/laisky/.virtualenvs/37/lib/python3.7/site-packages/simplejson/__init__.py\", line 518, in loads\n",
      "    return _default_decoder.decode(s)\n",
      "  File \"/Users/laisky/.virtualenvs/37/lib/python3.7/site-packages/simplejson/decoder.py\", line 370, in decode\n",
      "    obj, end = self.raw_decode(s)\n",
      "  File \"/Users/laisky/.virtualenvs/37/lib/python3.7/site-packages/simplejson/decoder.py\", line 400, in raw_decode\n",
      "    return self.scan_once(s, idx=_w(s, idx).end())\n",
      "simplejson.errors.JSONDecodeError: Expecting value: line 1 column 1 (char 0)\n",
      "Traceback (most recent call last):\n",
      "  File \"<ipython-input-74-a1bbc79ad05d>\", line 60, in <module>\n",
      "    for pailiang in load_pailiang(vid):\n",
      "  File \"<ipython-input-74-a1bbc79ad05d>\", line 11, in load_pailiang\n",
      "    return requests.get(url, headers=headers).json()['PaiLiang']\n",
      "  File \"/Users/laisky/.virtualenvs/37/lib/python3.7/site-packages/requests/models.py\", line 897, in json\n",
      "    return complexjson.loads(self.text, **kwargs)\n",
      "  File \"/Users/laisky/.virtualenvs/37/lib/python3.7/site-packages/simplejson/__init__.py\", line 518, in loads\n",
      "    return _default_decoder.decode(s)\n",
      "  File \"/Users/laisky/.virtualenvs/37/lib/python3.7/site-packages/simplejson/decoder.py\", line 370, in decode\n",
      "    obj, end = self.raw_decode(s)\n",
      "  File \"/Users/laisky/.virtualenvs/37/lib/python3.7/site-packages/simplejson/decoder.py\", line 400, in raw_decode\n",
      "    return self.scan_once(s, idx=_w(s, idx).end())\n",
      "simplejson.errors.JSONDecodeError: Expecting value: line 1 column 1 (char 0)\n"
     ]
    },
    {
     "name": "stdout",
     "output_type": "stream",
     "text": [
      ">> G - 广汽新能源 - VE-LMG-EG3 - {'Vehicle': '传祺GE3-广汽乘用车', 'ProductID': 'VE-LMG-EG3', 'BrandType': '广汽乘用车', 'Brand': 'G - 广汽新能源', 'Url': '/Images/Logo/guangqixinnengyuan.png', 'Src': 'https://img3.tuhu.org/Images/type/VE-LMG-EG3.png@163w_163h_100Q.png', 'IsBaoYang': 'True', 'CarName': '传祺GE3', 'appSrc': None, 'Image': 'https://img3.tuhu.org/Images/type/VE-LMG-EG3.png@100Q.png', 'ImageUrl': 'https://img3.tuhu.org/Images/Logo/GuangQiXinNengYuan.png', 'Tires': '215/55R18', 'SpecialTireSize': None, 'OriginalIsBaoyang': 1, 'Priority2': 2, 'Priority3': 2, 'VehicleSeries': None}\n",
      ">> G - 广汽新能源 - VE-LMG-AIONS - {'Vehicle': 'AION S-广汽乘用车', 'ProductID': 'VE-LMG-AIONS', 'BrandType': '广汽乘用车', 'Brand': 'G - 广汽新能源', 'Url': '/Images/Logo/guangqixinnengyuan.png', 'Src': 'https://img4.tuhu.org/Images/type/VE-LMG-AIONS.png@163w_163h_100Q.png', 'IsBaoYang': 'True', 'CarName': 'AION S', 'appSrc': None, 'Image': 'https://img4.tuhu.org/Images/type/VE-LMG-AIONS.png@100Q.png', 'ImageUrl': 'https://img3.tuhu.org/Images/Logo/GuangQiXinNengYuan.png', 'Tires': '215/55R17;235/45R18', 'SpecialTireSize': None, 'OriginalIsBaoyang': 1, 'Priority2': 2, 'Priority3': 1, 'VehicleSeries': None}\n"
     ]
    },
    {
     "name": "stderr",
     "output_type": "stream",
     "text": [
      "Traceback (most recent call last):\n",
      "  File \"<ipython-input-74-a1bbc79ad05d>\", line 60, in <module>\n",
      "    for pailiang in load_pailiang(vid):\n",
      "  File \"<ipython-input-74-a1bbc79ad05d>\", line 11, in load_pailiang\n",
      "    return requests.get(url, headers=headers).json()['PaiLiang']\n",
      "  File \"/Users/laisky/.virtualenvs/37/lib/python3.7/site-packages/requests/models.py\", line 897, in json\n",
      "    return complexjson.loads(self.text, **kwargs)\n",
      "  File \"/Users/laisky/.virtualenvs/37/lib/python3.7/site-packages/simplejson/__init__.py\", line 518, in loads\n",
      "    return _default_decoder.decode(s)\n",
      "  File \"/Users/laisky/.virtualenvs/37/lib/python3.7/site-packages/simplejson/decoder.py\", line 370, in decode\n",
      "    obj, end = self.raw_decode(s)\n",
      "  File \"/Users/laisky/.virtualenvs/37/lib/python3.7/site-packages/simplejson/decoder.py\", line 400, in raw_decode\n",
      "    return self.scan_once(s, idx=_w(s, idx).end())\n",
      "simplejson.errors.JSONDecodeError: Expecting value: line 1 column 1 (char 0)\n",
      "Traceback (most recent call last):\n",
      "  File \"<ipython-input-74-a1bbc79ad05d>\", line 60, in <module>\n",
      "    for pailiang in load_pailiang(vid):\n",
      "  File \"<ipython-input-74-a1bbc79ad05d>\", line 11, in load_pailiang\n",
      "    return requests.get(url, headers=headers).json()['PaiLiang']\n",
      "  File \"/Users/laisky/.virtualenvs/37/lib/python3.7/site-packages/requests/models.py\", line 897, in json\n",
      "    return complexjson.loads(self.text, **kwargs)\n",
      "  File \"/Users/laisky/.virtualenvs/37/lib/python3.7/site-packages/simplejson/__init__.py\", line 518, in loads\n",
      "    return _default_decoder.decode(s)\n",
      "  File \"/Users/laisky/.virtualenvs/37/lib/python3.7/site-packages/simplejson/decoder.py\", line 370, in decode\n",
      "    obj, end = self.raw_decode(s)\n",
      "  File \"/Users/laisky/.virtualenvs/37/lib/python3.7/site-packages/simplejson/decoder.py\", line 400, in raw_decode\n",
      "    return self.scan_once(s, idx=_w(s, idx).end())\n",
      "simplejson.errors.JSONDecodeError: Expecting value: line 1 column 1 (char 0)\n"
     ]
    },
    {
     "name": "stdout",
     "output_type": "stream",
     "text": [
      ">> G - 广汽新能源 - VE-LHG-SR - {'Vehicle': '世锐-广汽本田', 'ProductID': 'VE-LHG-SR', 'BrandType': '广汽本田', 'Brand': 'G - 广汽新能源', 'Url': '/Images/Logo/guangqixinnengyuan.png', 'Src': 'https://img4.tuhu.org/Images/type/VE-LHG-SR.png@163w_163h_100Q.png', 'IsBaoYang': 'True', 'CarName': '世锐', 'appSrc': None, 'Image': 'https://img4.tuhu.org/Images/type/VE-LHG-SR.png@100Q.png', 'ImageUrl': 'https://img3.tuhu.org/Images/Logo/GuangQiXinNengYuan.png', 'Tires': '215/55R18', 'SpecialTireSize': None, 'OriginalIsBaoyang': 1, 'Priority2': 1, 'Priority3': 1, 'VehicleSeries': None}\n",
      "H - 哈飞 done\n",
      ">> H - 哈飞 - VE-HAFE07BC - {'Vehicle': '路宝-哈飞汽车', 'ProductID': 'VE-HAFE07BC', 'BrandType': '哈飞汽车', 'Brand': 'H - 哈飞', 'Url': '/Images/Logo/hafei.png', 'Src': 'https://img3.tuhu.org/Images/type/VE-HAFE07BC.png@163w_163h_100Q.png', 'IsBaoYang': 'True', 'CarName': '路宝', 'appSrc': None, 'Image': 'https://img3.tuhu.org/Images/type/VE-HAFE07BC.png@100Q.png', 'ImageUrl': 'https://img3.tuhu.org/Images/Logo/HaFei.png', 'Tires': '165/65R13;155/65R13;165/70R13;165/65R14', 'SpecialTireSize': None, 'OriginalIsBaoyang': 1, 'Priority2': 1, 'Priority3': 11, 'VehicleSeries': None}\n"
     ]
    },
    {
     "name": "stderr",
     "output_type": "stream",
     "text": [
      "Traceback (most recent call last):\n",
      "  File \"<ipython-input-74-a1bbc79ad05d>\", line 60, in <module>\n",
      "    for pailiang in load_pailiang(vid):\n",
      "  File \"<ipython-input-74-a1bbc79ad05d>\", line 11, in load_pailiang\n",
      "    return requests.get(url, headers=headers).json()['PaiLiang']\n",
      "  File \"/Users/laisky/.virtualenvs/37/lib/python3.7/site-packages/requests/models.py\", line 897, in json\n",
      "    return complexjson.loads(self.text, **kwargs)\n",
      "  File \"/Users/laisky/.virtualenvs/37/lib/python3.7/site-packages/simplejson/__init__.py\", line 518, in loads\n",
      "    return _default_decoder.decode(s)\n",
      "  File \"/Users/laisky/.virtualenvs/37/lib/python3.7/site-packages/simplejson/decoder.py\", line 370, in decode\n",
      "    obj, end = self.raw_decode(s)\n",
      "  File \"/Users/laisky/.virtualenvs/37/lib/python3.7/site-packages/simplejson/decoder.py\", line 400, in raw_decode\n",
      "    return self.scan_once(s, idx=_w(s, idx).end())\n",
      "simplejson.errors.JSONDecodeError: Expecting value: line 1 column 1 (char 0)\n",
      "Traceback (most recent call last):\n",
      "  File \"<ipython-input-74-a1bbc79ad05d>\", line 60, in <module>\n",
      "    for pailiang in load_pailiang(vid):\n",
      "  File \"<ipython-input-74-a1bbc79ad05d>\", line 11, in load_pailiang\n",
      "    return requests.get(url, headers=headers).json()['PaiLiang']\n",
      "  File \"/Users/laisky/.virtualenvs/37/lib/python3.7/site-packages/requests/models.py\", line 897, in json\n",
      "    return complexjson.loads(self.text, **kwargs)\n",
      "  File \"/Users/laisky/.virtualenvs/37/lib/python3.7/site-packages/simplejson/__init__.py\", line 518, in loads\n",
      "    return _default_decoder.decode(s)\n",
      "  File \"/Users/laisky/.virtualenvs/37/lib/python3.7/site-packages/simplejson/decoder.py\", line 370, in decode\n",
      "    obj, end = self.raw_decode(s)\n",
      "  File \"/Users/laisky/.virtualenvs/37/lib/python3.7/site-packages/simplejson/decoder.py\", line 400, in raw_decode\n",
      "    return self.scan_once(s, idx=_w(s, idx).end())\n",
      "simplejson.errors.JSONDecodeError: Expecting value: line 1 column 1 (char 0)\n"
     ]
    },
    {
     "name": "stdout",
     "output_type": "stream",
     "text": [
      ">> H - 哈飞 - VE-HJJLZXBW - {'Vehicle': '路尊小霸王-哈飞汽车', 'ProductID': 'VE-HJJLZXBW', 'BrandType': '哈飞汽车', 'Brand': 'H - 哈飞', 'Url': '/Images/Logo/hafei.png', 'Src': 'https://img4.tuhu.org/Images/type/VE-HJJLZXBW.png@163w_163h_100Q.png', 'IsBaoYang': 'True', 'CarName': '路尊小霸王', 'appSrc': None, 'Image': 'https://img4.tuhu.org/Images/type/VE-HJJLZXBW.png@100Q.png', 'ImageUrl': 'https://img3.tuhu.org/Images/Logo/HaFei.png', 'Tires': '175/65R14;165/70R13', 'SpecialTireSize': None, 'OriginalIsBaoyang': 1, 'Priority2': 1, 'Priority3': 10, 'VehicleSeries': None}\n",
      ">> H - 哈飞 - VE-HJJLZDBW - {'Vehicle': '路尊大霸王-哈飞汽车', 'ProductID': 'VE-HJJLZDBW', 'BrandType': '哈飞汽车', 'Brand': 'H - 哈飞', 'Url': '/Images/Logo/hafei.png', 'Src': 'https://img4.tuhu.org/Images/type/VE-HJJLZDBW.png@163w_163h_100Q.png', 'IsBaoYang': 'True', 'CarName': '路尊大霸王', 'appSrc': None, 'Image': 'https://img4.tuhu.org/Images/type/VE-HJJLZDBW.png@100Q.png', 'ImageUrl': 'https://img3.tuhu.org/Images/Logo/HaFei.png', 'Tires': '195/65R15;185/80R14', 'SpecialTireSize': None, 'OriginalIsBaoyang': 1, 'Priority2': 1, 'Priority3': 9, 'VehicleSeries': None}\n"
     ]
    },
    {
     "name": "stderr",
     "output_type": "stream",
     "text": [
      "Traceback (most recent call last):\n",
      "  File \"<ipython-input-74-a1bbc79ad05d>\", line 60, in <module>\n",
      "    for pailiang in load_pailiang(vid):\n",
      "  File \"<ipython-input-74-a1bbc79ad05d>\", line 11, in load_pailiang\n",
      "    return requests.get(url, headers=headers).json()['PaiLiang']\n",
      "  File \"/Users/laisky/.virtualenvs/37/lib/python3.7/site-packages/requests/models.py\", line 897, in json\n",
      "    return complexjson.loads(self.text, **kwargs)\n",
      "  File \"/Users/laisky/.virtualenvs/37/lib/python3.7/site-packages/simplejson/__init__.py\", line 518, in loads\n",
      "    return _default_decoder.decode(s)\n",
      "  File \"/Users/laisky/.virtualenvs/37/lib/python3.7/site-packages/simplejson/decoder.py\", line 370, in decode\n",
      "    obj, end = self.raw_decode(s)\n",
      "  File \"/Users/laisky/.virtualenvs/37/lib/python3.7/site-packages/simplejson/decoder.py\", line 400, in raw_decode\n",
      "    return self.scan_once(s, idx=_w(s, idx).end())\n",
      "simplejson.errors.JSONDecodeError: Expecting value: line 1 column 1 (char 0)\n",
      "Traceback (most recent call last):\n",
      "  File \"<ipython-input-74-a1bbc79ad05d>\", line 60, in <module>\n",
      "    for pailiang in load_pailiang(vid):\n",
      "  File \"<ipython-input-74-a1bbc79ad05d>\", line 11, in load_pailiang\n",
      "    return requests.get(url, headers=headers).json()['PaiLiang']\n",
      "  File \"/Users/laisky/.virtualenvs/37/lib/python3.7/site-packages/requests/models.py\", line 897, in json\n",
      "    return complexjson.loads(self.text, **kwargs)\n",
      "  File \"/Users/laisky/.virtualenvs/37/lib/python3.7/site-packages/simplejson/__init__.py\", line 518, in loads\n",
      "    return _default_decoder.decode(s)\n",
      "  File \"/Users/laisky/.virtualenvs/37/lib/python3.7/site-packages/simplejson/decoder.py\", line 370, in decode\n",
      "    obj, end = self.raw_decode(s)\n",
      "  File \"/Users/laisky/.virtualenvs/37/lib/python3.7/site-packages/simplejson/decoder.py\", line 400, in raw_decode\n",
      "    return self.scan_once(s, idx=_w(s, idx).end())\n",
      "simplejson.errors.JSONDecodeError: Expecting value: line 1 column 1 (char 0)\n"
     ]
    },
    {
     "name": "stdout",
     "output_type": "stream",
     "text": [
      ">> H - 哈飞 - VE-HAFE99AA - {'Vehicle': '百利-哈飞汽车', 'ProductID': 'VE-HAFE99AA', 'BrandType': '哈飞汽车', 'Brand': 'H - 哈飞', 'Url': '/Images/Logo/hafei.png', 'Src': 'https://img3.tuhu.org/Images/type/VE-HAFE99AA.png@163w_163h_100Q.png', 'IsBaoYang': 'True', 'CarName': '百利', 'appSrc': None, 'Image': 'https://img3.tuhu.org/Images/type/VE-HAFE99AA.png@100Q.png', 'ImageUrl': 'https://img3.tuhu.org/Images/Logo/HaFei.png', 'Tires': '155/R12C;135/R12', 'SpecialTireSize': None, 'OriginalIsBaoyang': 1, 'Priority2': 1, 'Priority3': 8, 'VehicleSeries': None}\n",
      ">> H - 哈飞 - VE-HAFE06BJ - {'Vehicle': '中意-哈飞汽车', 'ProductID': 'VE-HAFE06BJ', 'BrandType': '哈飞汽车', 'Brand': 'H - 哈飞', 'Url': '/Images/Logo/hafei.png', 'Src': 'https://img3.tuhu.org/Images/type/VE-HAFE06BJ.png@163w_163h_100Q.png', 'IsBaoYang': 'True', 'CarName': '中意', 'appSrc': None, 'Image': 'https://img3.tuhu.org/Images/type/VE-HAFE06BJ.png@100Q.png', 'ImageUrl': 'https://img3.tuhu.org/Images/Logo/HaFei.png', 'Tires': '165/70R13', 'SpecialTireSize': '165R13LT', 'OriginalIsBaoyang': 1, 'Priority2': 1, 'Priority3': 7, 'VehicleSeries': None}\n"
     ]
    },
    {
     "name": "stderr",
     "output_type": "stream",
     "text": [
      "Traceback (most recent call last):\n",
      "  File \"<ipython-input-74-a1bbc79ad05d>\", line 60, in <module>\n",
      "    for pailiang in load_pailiang(vid):\n",
      "  File \"<ipython-input-74-a1bbc79ad05d>\", line 11, in load_pailiang\n",
      "    return requests.get(url, headers=headers).json()['PaiLiang']\n",
      "  File \"/Users/laisky/.virtualenvs/37/lib/python3.7/site-packages/requests/models.py\", line 897, in json\n",
      "    return complexjson.loads(self.text, **kwargs)\n",
      "  File \"/Users/laisky/.virtualenvs/37/lib/python3.7/site-packages/simplejson/__init__.py\", line 518, in loads\n",
      "    return _default_decoder.decode(s)\n",
      "  File \"/Users/laisky/.virtualenvs/37/lib/python3.7/site-packages/simplejson/decoder.py\", line 370, in decode\n",
      "    obj, end = self.raw_decode(s)\n",
      "  File \"/Users/laisky/.virtualenvs/37/lib/python3.7/site-packages/simplejson/decoder.py\", line 400, in raw_decode\n",
      "    return self.scan_once(s, idx=_w(s, idx).end())\n",
      "simplejson.errors.JSONDecodeError: Expecting value: line 1 column 1 (char 0)\n",
      "Traceback (most recent call last):\n",
      "  File \"<ipython-input-74-a1bbc79ad05d>\", line 60, in <module>\n",
      "    for pailiang in load_pailiang(vid):\n",
      "  File \"<ipython-input-74-a1bbc79ad05d>\", line 11, in load_pailiang\n",
      "    return requests.get(url, headers=headers).json()['PaiLiang']\n",
      "  File \"/Users/laisky/.virtualenvs/37/lib/python3.7/site-packages/requests/models.py\", line 897, in json\n",
      "    return complexjson.loads(self.text, **kwargs)\n",
      "  File \"/Users/laisky/.virtualenvs/37/lib/python3.7/site-packages/simplejson/__init__.py\", line 518, in loads\n",
      "    return _default_decoder.decode(s)\n",
      "  File \"/Users/laisky/.virtualenvs/37/lib/python3.7/site-packages/simplejson/decoder.py\", line 370, in decode\n",
      "    obj, end = self.raw_decode(s)\n",
      "  File \"/Users/laisky/.virtualenvs/37/lib/python3.7/site-packages/simplejson/decoder.py\", line 400, in raw_decode\n",
      "    return self.scan_once(s, idx=_w(s, idx).end())\n",
      "simplejson.errors.JSONDecodeError: Expecting value: line 1 column 1 (char 0)\n"
     ]
    },
    {
     "name": "stdout",
     "output_type": "stream",
     "text": [
      ">> H - 哈飞 - VE-HAFE07BD - {'Vehicle': '民意-哈飞汽车', 'ProductID': 'VE-HAFE07BD', 'BrandType': '哈飞汽车', 'Brand': 'H - 哈飞', 'Url': '/Images/Logo/hafei.png', 'Src': 'https://img4.tuhu.org/Images/type/VE-HAFE07BD.png@163w_163h_100Q.png', 'IsBaoYang': 'True', 'CarName': '民意', 'appSrc': None, 'Image': 'https://img4.tuhu.org/Images/type/VE-HAFE07BD.png@100Q.png', 'ImageUrl': 'https://img3.tuhu.org/Images/Logo/HaFei.png', 'Tires': '165/70R13', 'SpecialTireSize': None, 'OriginalIsBaoyang': 1, 'Priority2': 1, 'Priority3': 6, 'VehicleSeries': None}\n",
      ">> H - 哈飞 - VE-HAFE07AS - {'Vehicle': '赛豹-哈飞汽车', 'ProductID': 'VE-HAFE07AS', 'BrandType': '哈飞汽车', 'Brand': 'H - 哈飞', 'Url': '/Images/Logo/hafei.png', 'Src': 'https://img3.tuhu.org/Images/type/VE-HAFE07AS.png@163w_163h_100Q.png', 'IsBaoYang': 'True', 'CarName': '赛豹', 'appSrc': None, 'Image': 'https://img3.tuhu.org/Images/type/VE-HAFE07AS.png@100Q.png', 'ImageUrl': 'https://img3.tuhu.org/Images/Logo/HaFei.png', 'Tires': '195/55R15;185/65R14', 'SpecialTireSize': None, 'OriginalIsBaoyang': 1, 'Priority2': 1, 'Priority3': 5, 'VehicleSeries': None}\n"
     ]
    },
    {
     "name": "stderr",
     "output_type": "stream",
     "text": [
      "Traceback (most recent call last):\n",
      "  File \"<ipython-input-74-a1bbc79ad05d>\", line 60, in <module>\n",
      "    for pailiang in load_pailiang(vid):\n",
      "  File \"<ipython-input-74-a1bbc79ad05d>\", line 11, in load_pailiang\n",
      "    return requests.get(url, headers=headers).json()['PaiLiang']\n",
      "  File \"/Users/laisky/.virtualenvs/37/lib/python3.7/site-packages/requests/models.py\", line 897, in json\n",
      "    return complexjson.loads(self.text, **kwargs)\n",
      "  File \"/Users/laisky/.virtualenvs/37/lib/python3.7/site-packages/simplejson/__init__.py\", line 518, in loads\n",
      "    return _default_decoder.decode(s)\n",
      "  File \"/Users/laisky/.virtualenvs/37/lib/python3.7/site-packages/simplejson/decoder.py\", line 370, in decode\n",
      "    obj, end = self.raw_decode(s)\n",
      "  File \"/Users/laisky/.virtualenvs/37/lib/python3.7/site-packages/simplejson/decoder.py\", line 400, in raw_decode\n",
      "    return self.scan_once(s, idx=_w(s, idx).end())\n",
      "simplejson.errors.JSONDecodeError: Expecting value: line 1 column 1 (char 0)\n",
      "Traceback (most recent call last):\n",
      "  File \"<ipython-input-74-a1bbc79ad05d>\", line 60, in <module>\n",
      "    for pailiang in load_pailiang(vid):\n",
      "  File \"<ipython-input-74-a1bbc79ad05d>\", line 11, in load_pailiang\n",
      "    return requests.get(url, headers=headers).json()['PaiLiang']\n",
      "  File \"/Users/laisky/.virtualenvs/37/lib/python3.7/site-packages/requests/models.py\", line 897, in json\n",
      "    return complexjson.loads(self.text, **kwargs)\n",
      "  File \"/Users/laisky/.virtualenvs/37/lib/python3.7/site-packages/simplejson/__init__.py\", line 518, in loads\n",
      "    return _default_decoder.decode(s)\n",
      "  File \"/Users/laisky/.virtualenvs/37/lib/python3.7/site-packages/simplejson/decoder.py\", line 370, in decode\n",
      "    obj, end = self.raw_decode(s)\n",
      "  File \"/Users/laisky/.virtualenvs/37/lib/python3.7/site-packages/simplejson/decoder.py\", line 400, in raw_decode\n",
      "    return self.scan_once(s, idx=_w(s, idx).end())\n",
      "simplejson.errors.JSONDecodeError: Expecting value: line 1 column 1 (char 0)\n"
     ]
    },
    {
     "name": "stdout",
     "output_type": "stream",
     "text": [
      ">> H - 哈飞 - VE-HAFE06BJV5 - {'Vehicle': '中意V5-哈飞汽车', 'ProductID': 'VE-HAFE06BJV5', 'BrandType': '哈飞汽车', 'Brand': 'H - 哈飞', 'Url': '/Images/Logo/hafei.png', 'Src': 'https://img4.tuhu.org/Images/type/VE-HAFE06BJV5.png@163w_163h_100Q.png', 'IsBaoYang': 'True', 'CarName': '中意V5', 'appSrc': None, 'Image': 'https://img4.tuhu.org/Images/type/VE-HAFE06BJV5.png@100Q.png', 'ImageUrl': 'https://img3.tuhu.org/Images/Logo/HaFei.png', 'Tires': '165/R13LT', 'SpecialTireSize': None, 'OriginalIsBaoyang': 1, 'Priority2': 1, 'Priority3': 4, 'VehicleSeries': None}\n",
      ">> H - 哈飞 - VE-HAFE07AK - {'Vehicle': '赛马-哈飞汽车', 'ProductID': 'VE-HAFE07AK', 'BrandType': '哈飞汽车', 'Brand': 'H - 哈飞', 'Url': '/Images/Logo/hafei.png', 'Src': 'https://img4.tuhu.org/Images/type/VE-HAFE07AK.png@163w_163h_100Q.png', 'IsBaoYang': 'True', 'CarName': '赛马', 'appSrc': None, 'Image': 'https://img4.tuhu.org/Images/type/VE-HAFE07AK.png@100Q.png', 'ImageUrl': 'https://img3.tuhu.org/Images/Logo/HaFei.png', 'Tires': '185/65R14;195/55R15', 'SpecialTireSize': None, 'OriginalIsBaoyang': 1, 'Priority2': 1, 'Priority3': 3, 'VehicleSeries': None}\n"
     ]
    },
    {
     "name": "stderr",
     "output_type": "stream",
     "text": [
      "Traceback (most recent call last):\n",
      "  File \"<ipython-input-74-a1bbc79ad05d>\", line 60, in <module>\n",
      "    for pailiang in load_pailiang(vid):\n",
      "  File \"<ipython-input-74-a1bbc79ad05d>\", line 11, in load_pailiang\n",
      "    return requests.get(url, headers=headers).json()['PaiLiang']\n",
      "  File \"/Users/laisky/.virtualenvs/37/lib/python3.7/site-packages/requests/models.py\", line 897, in json\n",
      "    return complexjson.loads(self.text, **kwargs)\n",
      "  File \"/Users/laisky/.virtualenvs/37/lib/python3.7/site-packages/simplejson/__init__.py\", line 518, in loads\n",
      "    return _default_decoder.decode(s)\n",
      "  File \"/Users/laisky/.virtualenvs/37/lib/python3.7/site-packages/simplejson/decoder.py\", line 370, in decode\n",
      "    obj, end = self.raw_decode(s)\n",
      "  File \"/Users/laisky/.virtualenvs/37/lib/python3.7/site-packages/simplejson/decoder.py\", line 400, in raw_decode\n",
      "    return self.scan_once(s, idx=_w(s, idx).end())\n",
      "simplejson.errors.JSONDecodeError: Expecting value: line 1 column 1 (char 0)\n",
      "Traceback (most recent call last):\n",
      "  File \"<ipython-input-74-a1bbc79ad05d>\", line 60, in <module>\n",
      "    for pailiang in load_pailiang(vid):\n",
      "  File \"<ipython-input-74-a1bbc79ad05d>\", line 11, in load_pailiang\n",
      "    return requests.get(url, headers=headers).json()['PaiLiang']\n",
      "  File \"/Users/laisky/.virtualenvs/37/lib/python3.7/site-packages/requests/models.py\", line 897, in json\n",
      "    return complexjson.loads(self.text, **kwargs)\n",
      "  File \"/Users/laisky/.virtualenvs/37/lib/python3.7/site-packages/simplejson/__init__.py\", line 518, in loads\n",
      "    return _default_decoder.decode(s)\n",
      "  File \"/Users/laisky/.virtualenvs/37/lib/python3.7/site-packages/simplejson/decoder.py\", line 370, in decode\n",
      "    obj, end = self.raw_decode(s)\n",
      "  File \"/Users/laisky/.virtualenvs/37/lib/python3.7/site-packages/simplejson/decoder.py\", line 400, in raw_decode\n",
      "    return self.scan_once(s, idx=_w(s, idx).end())\n",
      "simplejson.errors.JSONDecodeError: Expecting value: line 1 column 1 (char 0)\n"
     ]
    },
    {
     "name": "stdout",
     "output_type": "stream",
     "text": [
      ">> H - 哈飞 - VE-HAFEJUNYI - {'Vehicle': '骏意-哈飞汽车', 'ProductID': 'VE-HAFEJUNYI', 'BrandType': '哈飞汽车', 'Brand': 'H - 哈飞', 'Url': '/Images/Logo/hafei.png', 'Src': 'https://img4.tuhu.org/Images/type/VE-HAFEJUNYI.png@163w_163h_100Q.png', 'IsBaoYang': 'True', 'CarName': '骏意', 'appSrc': None, 'Image': 'https://img4.tuhu.org/Images/type/VE-HAFEJUNYI.png@100Q.png', 'ImageUrl': 'https://img3.tuhu.org/Images/Logo/HaFei.png', 'Tires': '165/R13LT', 'SpecialTireSize': None, 'OriginalIsBaoyang': 1, 'Priority2': 1, 'Priority3': 2, 'VehicleSeries': None}\n",
      ">> H - 哈飞 - VE-HAFESHJIANG - {'Vehicle': '松花江-哈飞汽车', 'ProductID': 'VE-HAFESHJIANG', 'BrandType': '哈飞汽车', 'Brand': 'H - 哈飞', 'Url': '/Images/Logo/hafei.png', 'Src': 'https://img3.tuhu.org/Images/type/VE-HAFESHJIANG.png@163w_163h_100Q.png', 'IsBaoYang': 'True', 'CarName': '松花江', 'appSrc': None, 'Image': 'https://img3.tuhu.org/Images/type/VE-HAFESHJIANG.png@100Q.png', 'ImageUrl': 'https://img3.tuhu.org/Images/Logo/HaFei.png', 'Tires': '165/70R13;155/R12C', 'SpecialTireSize': None, 'OriginalIsBaoyang': 1, 'Priority2': 1, 'Priority3': 1, 'VehicleSeries': None}\n",
      "H - 华普 done\n"
     ]
    },
    {
     "name": "stderr",
     "output_type": "stream",
     "text": [
      "Traceback (most recent call last):\n",
      "  File \"<ipython-input-74-a1bbc79ad05d>\", line 60, in <module>\n",
      "    for pailiang in load_pailiang(vid):\n",
      "  File \"<ipython-input-74-a1bbc79ad05d>\", line 11, in load_pailiang\n",
      "    return requests.get(url, headers=headers).json()['PaiLiang']\n",
      "  File \"/Users/laisky/.virtualenvs/37/lib/python3.7/site-packages/requests/models.py\", line 897, in json\n",
      "    return complexjson.loads(self.text, **kwargs)\n",
      "  File \"/Users/laisky/.virtualenvs/37/lib/python3.7/site-packages/simplejson/__init__.py\", line 518, in loads\n",
      "    return _default_decoder.decode(s)\n",
      "  File \"/Users/laisky/.virtualenvs/37/lib/python3.7/site-packages/simplejson/decoder.py\", line 370, in decode\n",
      "    obj, end = self.raw_decode(s)\n",
      "  File \"/Users/laisky/.virtualenvs/37/lib/python3.7/site-packages/simplejson/decoder.py\", line 400, in raw_decode\n",
      "    return self.scan_once(s, idx=_w(s, idx).end())\n",
      "simplejson.errors.JSONDecodeError: Expecting value: line 1 column 1 (char 0)\n",
      "Traceback (most recent call last):\n",
      "  File \"<ipython-input-74-a1bbc79ad05d>\", line 60, in <module>\n",
      "    for pailiang in load_pailiang(vid):\n",
      "  File \"<ipython-input-74-a1bbc79ad05d>\", line 11, in load_pailiang\n",
      "    return requests.get(url, headers=headers).json()['PaiLiang']\n",
      "  File \"/Users/laisky/.virtualenvs/37/lib/python3.7/site-packages/requests/models.py\", line 897, in json\n",
      "    return complexjson.loads(self.text, **kwargs)\n",
      "  File \"/Users/laisky/.virtualenvs/37/lib/python3.7/site-packages/simplejson/__init__.py\", line 518, in loads\n",
      "    return _default_decoder.decode(s)\n",
      "  File \"/Users/laisky/.virtualenvs/37/lib/python3.7/site-packages/simplejson/decoder.py\", line 370, in decode\n",
      "    obj, end = self.raw_decode(s)\n",
      "  File \"/Users/laisky/.virtualenvs/37/lib/python3.7/site-packages/simplejson/decoder.py\", line 400, in raw_decode\n",
      "    return self.scan_once(s, idx=_w(s, idx).end())\n",
      "simplejson.errors.JSONDecodeError: Expecting value: line 1 column 1 (char 0)\n"
     ]
    },
    {
     "name": "stdout",
     "output_type": "stream",
     "text": [
      "H - 华泰 done\n",
      ">> H - 华泰 - VE-LRH-SDFDY - {'Vehicle': '圣达菲2-华泰汽车', 'ProductID': 'VE-LRH-SDFDY', 'BrandType': '华泰汽车', 'Brand': 'H - 华泰', 'Url': '/Images/Logo/huatai.png', 'Src': 'https://img3.tuhu.org/Images/type/VE-LRH-SDFDY.png@163w_163h_100Q.png', 'IsBaoYang': 'True', 'CarName': '圣达菲2', 'appSrc': None, 'Image': 'https://img3.tuhu.org/Images/type/VE-LRH-SDFDY.png@100Q.png', 'ImageUrl': 'https://img3.tuhu.org/Images/Logo/HuaTai.png', 'Tires': '185/65R15', 'SpecialTireSize': None, 'OriginalIsBaoyang': 1, 'Priority2': 1, 'Priority3': 3, 'VehicleSeries': None}\n"
     ]
    },
    {
     "name": "stderr",
     "output_type": "stream",
     "text": [
      "Traceback (most recent call last):\n",
      "  File \"<ipython-input-74-a1bbc79ad05d>\", line 60, in <module>\n",
      "    for pailiang in load_pailiang(vid):\n",
      "  File \"<ipython-input-74-a1bbc79ad05d>\", line 11, in load_pailiang\n",
      "    return requests.get(url, headers=headers).json()['PaiLiang']\n",
      "KeyError: 'PaiLiang'\n"
     ]
    },
    {
     "name": "stdout",
     "output_type": "stream",
     "text": [
      "H - 黄海 done\n",
      ">> H - 黄海 - VE-SHUG06AD - {'Vehicle': '傲龙-曙光汽车', 'ProductID': 'VE-SHUG06AD', 'BrandType': '曙光汽车', 'Brand': 'H - 黄海', 'Url': '/Images/Logo/huanghai.png', 'Src': 'https://img3.tuhu.org/Images/type/VE-SHUG06AD.png@163w_163h_100Q.png', 'IsBaoYang': 'True', 'CarName': '傲龙', 'appSrc': None, 'Image': 'https://img3.tuhu.org/Images/type/VE-SHUG06AD.png@100Q.png', 'ImageUrl': 'https://img3.tuhu.org/Images/Logo/HuangHai.png', 'Tires': '235/65R17', 'SpecialTireSize': None, 'OriginalIsBaoyang': 1, 'Priority2': 1, 'Priority3': 10, 'VehicleSeries': None}\n"
     ]
    },
    {
     "name": "stderr",
     "output_type": "stream",
     "text": [
      "Traceback (most recent call last):\n",
      "  File \"<ipython-input-74-a1bbc79ad05d>\", line 60, in <module>\n",
      "    for pailiang in load_pailiang(vid):\n",
      "  File \"<ipython-input-74-a1bbc79ad05d>\", line 11, in load_pailiang\n",
      "    return requests.get(url, headers=headers).json()['PaiLiang']\n",
      "KeyError: 'PaiLiang'\n"
     ]
    },
    {
     "name": "stdout",
     "output_type": "stream",
     "text": [
      ">> H - 黄海 - VE-HUANGHAIAOJUN - {'Vehicle': '傲骏-曙光汽车', 'ProductID': 'VE-HUANGHAIAOJUN', 'BrandType': '曙光汽车', 'Brand': 'H - 黄海', 'Url': '/Images/Logo/huanghai.png', 'Src': 'https://img3.tuhu.org/Images/type/VE-HUANGHAIAOJUN.png@163w_163h_100Q.png', 'IsBaoYang': 'True', 'CarName': '傲骏', 'appSrc': None, 'Image': 'https://img3.tuhu.org/Images/type/VE-HUANGHAIAOJUN.png@100Q.png', 'ImageUrl': 'https://img3.tuhu.org/Images/Logo/HuangHai.png', 'Tires': '215/75R15', 'SpecialTireSize': None, 'OriginalIsBaoyang': 1, 'Priority2': 1, 'Priority3': 5, 'VehicleSeries': None}\n",
      ">> H - 黄海 - VE-SHUG07AK - {'Vehicle': '傲羚-曙光汽车', 'ProductID': 'VE-SHUG07AK', 'BrandType': '曙光汽车', 'Brand': 'H - 黄海', 'Url': '/Images/Logo/huanghai.png', 'Src': 'https://img3.tuhu.org/Images/type/VE-SHUG07AK.png@163w_163h_100Q.png', 'IsBaoYang': 'True', 'CarName': '傲羚', 'appSrc': None, 'Image': 'https://img3.tuhu.org/Images/type/VE-SHUG07AK.png@100Q.png', 'ImageUrl': 'https://img3.tuhu.org/Images/Logo/HuangHai.png', 'Tires': '215/75R15', 'SpecialTireSize': None, 'OriginalIsBaoyang': 1, 'Priority2': 1, 'Priority3': 4, 'VehicleSeries': None}\n"
     ]
    },
    {
     "name": "stderr",
     "output_type": "stream",
     "text": [
      "Traceback (most recent call last):\n",
      "  File \"<ipython-input-74-a1bbc79ad05d>\", line 62, in <module>\n",
      "    for b in load_child_brands(vid, pailiang, nian):\n",
      "  File \"<ipython-input-74-a1bbc79ad05d>\", line 38, in load_child_brands\n",
      "    return json.loads(index_regex.findall(requests.get(url).text)[0])['SalesName']\n",
      "IndexError: list index out of range\n",
      "Traceback (most recent call last):\n",
      "  File \"<ipython-input-74-a1bbc79ad05d>\", line 60, in <module>\n",
      "    for pailiang in load_pailiang(vid):\n",
      "  File \"<ipython-input-74-a1bbc79ad05d>\", line 11, in load_pailiang\n",
      "    return requests.get(url, headers=headers).json()['PaiLiang']\n",
      "  File \"/Users/laisky/.virtualenvs/37/lib/python3.7/site-packages/requests/models.py\", line 897, in json\n",
      "    return complexjson.loads(self.text, **kwargs)\n",
      "  File \"/Users/laisky/.virtualenvs/37/lib/python3.7/site-packages/simplejson/__init__.py\", line 518, in loads\n",
      "    return _default_decoder.decode(s)\n",
      "  File \"/Users/laisky/.virtualenvs/37/lib/python3.7/site-packages/simplejson/decoder.py\", line 370, in decode\n",
      "    obj, end = self.raw_decode(s)\n",
      "  File \"/Users/laisky/.virtualenvs/37/lib/python3.7/site-packages/simplejson/decoder.py\", line 400, in raw_decode\n",
      "    return self.scan_once(s, idx=_w(s, idx).end())\n",
      "simplejson.errors.JSONDecodeError: Expecting value: line 1 column 1 (char 0)\n"
     ]
    },
    {
     "name": "stdout",
     "output_type": "stream",
     "text": [
      ">> H - 黄海 - VE-HUANGHAIXCS - {'Vehicle': '小柴神-曙光汽车', 'ProductID': 'VE-HUANGHAIXCS', 'BrandType': '曙光汽车', 'Brand': 'H - 黄海', 'Url': '/Images/Logo/huanghai.png', 'Src': 'https://img3.tuhu.org/Images/type/VE-HUANGHAIXCS.png@163w_163h_100Q.png', 'IsBaoYang': 'True', 'CarName': '小柴神', 'appSrc': None, 'Image': 'https://img3.tuhu.org/Images/type/VE-HUANGHAIXCS.png@100Q.png', 'ImageUrl': 'https://img3.tuhu.org/Images/Logo/HuangHai.png', 'Tires': '215/75R15', 'SpecialTireSize': None, 'OriginalIsBaoyang': 1, 'Priority2': 1, 'Priority3': 3, 'VehicleSeries': None}\n",
      ">> H - 黄海 - VE-SHUG07AM - {'Vehicle': '大柴神-曙光汽车', 'ProductID': 'VE-SHUG07AM', 'BrandType': '曙光汽车', 'Brand': 'H - 黄海', 'Url': '/Images/Logo/huanghai.png', 'Src': 'https://img3.tuhu.org/Images/type/VE-SHUG07AM.png@163w_163h_100Q.png', 'IsBaoYang': 'True', 'CarName': '大柴神', 'appSrc': None, 'Image': 'https://img3.tuhu.org/Images/type/VE-SHUG07AM.png@100Q.png', 'ImageUrl': 'https://img3.tuhu.org/Images/Logo/HuangHai.png', 'Tires': '235/65R17;215/75R15;225/75R15', 'SpecialTireSize': None, 'OriginalIsBaoyang': 1, 'Priority2': 1, 'Priority3': 2, 'VehicleSeries': None}\n"
     ]
    },
    {
     "name": "stderr",
     "output_type": "stream",
     "text": [
      "Traceback (most recent call last):\n",
      "  File \"<ipython-input-74-a1bbc79ad05d>\", line 60, in <module>\n",
      "    for pailiang in load_pailiang(vid):\n",
      "  File \"<ipython-input-74-a1bbc79ad05d>\", line 11, in load_pailiang\n",
      "    return requests.get(url, headers=headers).json()['PaiLiang']\n",
      "  File \"/Users/laisky/.virtualenvs/37/lib/python3.7/site-packages/requests/models.py\", line 897, in json\n",
      "    return complexjson.loads(self.text, **kwargs)\n",
      "  File \"/Users/laisky/.virtualenvs/37/lib/python3.7/site-packages/simplejson/__init__.py\", line 518, in loads\n",
      "    return _default_decoder.decode(s)\n",
      "  File \"/Users/laisky/.virtualenvs/37/lib/python3.7/site-packages/simplejson/decoder.py\", line 370, in decode\n",
      "    obj, end = self.raw_decode(s)\n",
      "  File \"/Users/laisky/.virtualenvs/37/lib/python3.7/site-packages/simplejson/decoder.py\", line 400, in raw_decode\n",
      "    return self.scan_once(s, idx=_w(s, idx).end())\n",
      "simplejson.errors.JSONDecodeError: Expecting value: line 1 column 1 (char 0)\n",
      "Traceback (most recent call last):\n",
      "  File \"<ipython-input-74-a1bbc79ad05d>\", line 60, in <module>\n",
      "    for pailiang in load_pailiang(vid):\n",
      "  File \"<ipython-input-74-a1bbc79ad05d>\", line 11, in load_pailiang\n",
      "    return requests.get(url, headers=headers).json()['PaiLiang']\n",
      "  File \"/Users/laisky/.virtualenvs/37/lib/python3.7/site-packages/requests/models.py\", line 897, in json\n",
      "    return complexjson.loads(self.text, **kwargs)\n",
      "  File \"/Users/laisky/.virtualenvs/37/lib/python3.7/site-packages/simplejson/__init__.py\", line 518, in loads\n",
      "    return _default_decoder.decode(s)\n",
      "  File \"/Users/laisky/.virtualenvs/37/lib/python3.7/site-packages/simplejson/decoder.py\", line 370, in decode\n",
      "    obj, end = self.raw_decode(s)\n",
      "  File \"/Users/laisky/.virtualenvs/37/lib/python3.7/site-packages/simplejson/decoder.py\", line 400, in raw_decode\n",
      "    return self.scan_once(s, idx=_w(s, idx).end())\n",
      "simplejson.errors.JSONDecodeError: Expecting value: line 1 column 1 (char 0)\n"
     ]
    },
    {
     "name": "stdout",
     "output_type": "stream",
     "text": [
      ">> H - 黄海 - VE-LDD-RUNTU - {'Vehicle': '瑞途-曙光汽车', 'ProductID': 'VE-LDD-RUNTU', 'BrandType': '曙光汽车', 'Brand': 'H - 黄海', 'Url': '/Images/Logo/huanghai.png', 'Src': 'https://img3.tuhu.org/Images/type/VE-LDD-RUNTU.png@163w_163h_100Q.png', 'IsBaoYang': 'True', 'CarName': '瑞途', 'appSrc': None, 'Image': 'https://img3.tuhu.org/Images/type/VE-LDD-RUNTU.png@100Q.png', 'ImageUrl': 'https://img3.tuhu.org/Images/Logo/HuangHai.png', 'Tires': '245/75R16;195/65R15', 'SpecialTireSize': None, 'OriginalIsBaoyang': 1, 'Priority2': 1, 'Priority3': 1, 'VehicleSeries': None}\n",
      "H - 红旗 done\n",
      ">> H - 红旗 - VE-HONGQL5 - {'Vehicle': 'L5-一汽轿车', 'ProductID': 'VE-HONGQL5', 'BrandType': '一汽轿车', 'Brand': 'H - 红旗', 'Url': '/Images/Logo/hongqi.png', 'Src': 'https://img3.tuhu.org/Images/type/VE-HONGQL5.png@163w_163h_100Q.png', 'IsBaoYang': 'True', 'CarName': 'L5', 'appSrc': None, 'Image': 'https://img3.tuhu.org/Images/type/VE-HONGQL5.png@100Q.png', 'ImageUrl': 'https://img3.tuhu.org/Images/Logo/HongQi.png', 'Tires': '275/40R20', 'SpecialTireSize': None, 'OriginalIsBaoyang': 1, 'Priority2': 1, 'Priority3': 11, 'VehicleSeries': None}\n"
     ]
    },
    {
     "name": "stderr",
     "output_type": "stream",
     "text": [
      "Traceback (most recent call last):\n",
      "  File \"<ipython-input-74-a1bbc79ad05d>\", line 60, in <module>\n",
      "    for pailiang in load_pailiang(vid):\n",
      "  File \"<ipython-input-74-a1bbc79ad05d>\", line 11, in load_pailiang\n",
      "    return requests.get(url, headers=headers).json()['PaiLiang']\n",
      "  File \"/Users/laisky/.virtualenvs/37/lib/python3.7/site-packages/requests/models.py\", line 897, in json\n",
      "    return complexjson.loads(self.text, **kwargs)\n",
      "  File \"/Users/laisky/.virtualenvs/37/lib/python3.7/site-packages/simplejson/__init__.py\", line 518, in loads\n",
      "    return _default_decoder.decode(s)\n",
      "  File \"/Users/laisky/.virtualenvs/37/lib/python3.7/site-packages/simplejson/decoder.py\", line 370, in decode\n",
      "    obj, end = self.raw_decode(s)\n",
      "  File \"/Users/laisky/.virtualenvs/37/lib/python3.7/site-packages/simplejson/decoder.py\", line 400, in raw_decode\n",
      "    return self.scan_once(s, idx=_w(s, idx).end())\n",
      "simplejson.errors.JSONDecodeError: Expecting value: line 1 column 1 (char 0)\n",
      "Traceback (most recent call last):\n",
      "  File \"<ipython-input-74-a1bbc79ad05d>\", line 60, in <module>\n",
      "    for pailiang in load_pailiang(vid):\n",
      "  File \"<ipython-input-74-a1bbc79ad05d>\", line 11, in load_pailiang\n",
      "    return requests.get(url, headers=headers).json()['PaiLiang']\n",
      "  File \"/Users/laisky/.virtualenvs/37/lib/python3.7/site-packages/requests/models.py\", line 897, in json\n",
      "    return complexjson.loads(self.text, **kwargs)\n",
      "  File \"/Users/laisky/.virtualenvs/37/lib/python3.7/site-packages/simplejson/__init__.py\", line 518, in loads\n",
      "    return _default_decoder.decode(s)\n",
      "  File \"/Users/laisky/.virtualenvs/37/lib/python3.7/site-packages/simplejson/decoder.py\", line 370, in decode\n",
      "    obj, end = self.raw_decode(s)\n",
      "  File \"/Users/laisky/.virtualenvs/37/lib/python3.7/site-packages/simplejson/decoder.py\", line 400, in raw_decode\n",
      "    return self.scan_once(s, idx=_w(s, idx).end())\n",
      "simplejson.errors.JSONDecodeError: Expecting value: line 1 column 1 (char 0)\n"
     ]
    },
    {
     "name": "stdout",
     "output_type": "stream",
     "text": [
      ">> H - 红旗 - VE-HONG07AH - {'Vehicle': 'HQ3-一汽轿车', 'ProductID': 'VE-HONG07AH', 'BrandType': '一汽轿车', 'Brand': 'H - 红旗', 'Url': '/Images/Logo/hongqi.png', 'Src': 'https://img3.tuhu.org/Images/type/VE-HONG07AH.png@163w_163h_100Q.png', 'IsBaoYang': 'True', 'CarName': 'HQ3', 'appSrc': None, 'Image': 'https://img3.tuhu.org/Images/type/VE-HONG07AH.png@100Q.png', 'ImageUrl': 'https://img3.tuhu.org/Images/Logo/HongQi.png', 'Tires': '225/60R16;215/55R17', 'SpecialTireSize': None, 'OriginalIsBaoyang': 1, 'Priority2': 1, 'Priority3': 10, 'VehicleSeries': None}\n",
      ">> H - 红旗 - VE-HONG0H5 - {'Vehicle': 'H5-一汽轿车', 'ProductID': 'VE-HONG0H5', 'BrandType': '一汽轿车', 'Brand': 'H - 红旗', 'Url': '/Images/Logo/hongqi.png', 'Src': 'https://img3.tuhu.org/Images/type/VE-HONG0H5.png@163w_163h_100Q.png', 'IsBaoYang': 'True', 'CarName': 'H5', 'appSrc': None, 'Image': 'https://img3.tuhu.org/Images/type/VE-HONG0H5.png@100Q.png', 'ImageUrl': 'https://img3.tuhu.org/Images/Logo/HongQi.png', 'Tires': '215/55R17;225/45R19', 'SpecialTireSize': None, 'OriginalIsBaoyang': 1, 'Priority2': 1, 'Priority3': 9, 'VehicleSeries': None}\n"
     ]
    },
    {
     "name": "stderr",
     "output_type": "stream",
     "text": [
      "Traceback (most recent call last):\n",
      "  File \"<ipython-input-74-a1bbc79ad05d>\", line 60, in <module>\n",
      "    for pailiang in load_pailiang(vid):\n",
      "  File \"<ipython-input-74-a1bbc79ad05d>\", line 11, in load_pailiang\n",
      "    return requests.get(url, headers=headers).json()['PaiLiang']\n",
      "  File \"/Users/laisky/.virtualenvs/37/lib/python3.7/site-packages/requests/models.py\", line 897, in json\n",
      "    return complexjson.loads(self.text, **kwargs)\n",
      "  File \"/Users/laisky/.virtualenvs/37/lib/python3.7/site-packages/simplejson/__init__.py\", line 518, in loads\n",
      "    return _default_decoder.decode(s)\n",
      "  File \"/Users/laisky/.virtualenvs/37/lib/python3.7/site-packages/simplejson/decoder.py\", line 370, in decode\n",
      "    obj, end = self.raw_decode(s)\n",
      "  File \"/Users/laisky/.virtualenvs/37/lib/python3.7/site-packages/simplejson/decoder.py\", line 400, in raw_decode\n",
      "    return self.scan_once(s, idx=_w(s, idx).end())\n",
      "simplejson.errors.JSONDecodeError: Expecting value: line 1 column 1 (char 0)\n",
      "Traceback (most recent call last):\n",
      "  File \"<ipython-input-74-a1bbc79ad05d>\", line 60, in <module>\n",
      "    for pailiang in load_pailiang(vid):\n",
      "  File \"<ipython-input-74-a1bbc79ad05d>\", line 11, in load_pailiang\n",
      "    return requests.get(url, headers=headers).json()['PaiLiang']\n",
      "  File \"/Users/laisky/.virtualenvs/37/lib/python3.7/site-packages/requests/models.py\", line 897, in json\n",
      "    return complexjson.loads(self.text, **kwargs)\n",
      "  File \"/Users/laisky/.virtualenvs/37/lib/python3.7/site-packages/simplejson/__init__.py\", line 518, in loads\n",
      "    return _default_decoder.decode(s)\n",
      "  File \"/Users/laisky/.virtualenvs/37/lib/python3.7/site-packages/simplejson/decoder.py\", line 370, in decode\n",
      "    obj, end = self.raw_decode(s)\n",
      "  File \"/Users/laisky/.virtualenvs/37/lib/python3.7/site-packages/simplejson/decoder.py\", line 400, in raw_decode\n",
      "    return self.scan_once(s, idx=_w(s, idx).end())\n",
      "simplejson.errors.JSONDecodeError: Expecting value: line 1 column 1 (char 0)\n"
     ]
    },
    {
     "name": "stdout",
     "output_type": "stream",
     "text": [
      ">> H - 红旗 - VE-HONG0H7 - {'Vehicle': 'H7-一汽轿车', 'ProductID': 'VE-HONG0H7', 'BrandType': '一汽轿车', 'Brand': 'H - 红旗', 'Url': '/Images/Logo/hongqi.png', 'Src': 'https://img4.tuhu.org/Images/type/VE-HONG0H7.png@163w_163h_100Q.png', 'IsBaoYang': 'True', 'CarName': 'H7', 'appSrc': None, 'Image': 'https://img4.tuhu.org/Images/type/VE-HONG0H7.png@100Q.png', 'ImageUrl': 'https://img3.tuhu.org/Images/Logo/HongQi.png', 'Tires': '225/55R17;235/45R18', 'SpecialTireSize': None, 'OriginalIsBaoyang': 1, 'Priority2': 1, 'Priority3': 8, 'VehicleSeries': None}\n",
      ">> H - 红旗 - VE-HONG99AT - {'Vehicle': '红旗-一汽轿车', 'ProductID': 'VE-HONG99AT', 'BrandType': '一汽轿车', 'Brand': 'H - 红旗', 'Url': '/Images/Logo/hongqi.png', 'Src': 'https://img3.tuhu.org/Images/type/VE-HONG99AT.png@163w_163h_100Q.png', 'IsBaoYang': 'True', 'CarName': '红旗', 'appSrc': None, 'Image': 'https://img3.tuhu.org/Images/type/VE-HONG99AT.png@100Q.png', 'ImageUrl': 'https://img3.tuhu.org/Images/Logo/HongQi.png', 'Tires': '205/60R15;185/80R14;185/R14', 'SpecialTireSize': None, 'OriginalIsBaoyang': 1, 'Priority2': 1, 'Priority3': 7, 'VehicleSeries': None}\n"
     ]
    },
    {
     "name": "stderr",
     "output_type": "stream",
     "text": [
      "Traceback (most recent call last):\n",
      "  File \"<ipython-input-74-a1bbc79ad05d>\", line 60, in <module>\n",
      "    for pailiang in load_pailiang(vid):\n",
      "  File \"<ipython-input-74-a1bbc79ad05d>\", line 11, in load_pailiang\n",
      "    return requests.get(url, headers=headers).json()['PaiLiang']\n",
      "  File \"/Users/laisky/.virtualenvs/37/lib/python3.7/site-packages/requests/models.py\", line 897, in json\n",
      "    return complexjson.loads(self.text, **kwargs)\n",
      "  File \"/Users/laisky/.virtualenvs/37/lib/python3.7/site-packages/simplejson/__init__.py\", line 518, in loads\n",
      "    return _default_decoder.decode(s)\n",
      "  File \"/Users/laisky/.virtualenvs/37/lib/python3.7/site-packages/simplejson/decoder.py\", line 370, in decode\n",
      "    obj, end = self.raw_decode(s)\n",
      "  File \"/Users/laisky/.virtualenvs/37/lib/python3.7/site-packages/simplejson/decoder.py\", line 400, in raw_decode\n",
      "    return self.scan_once(s, idx=_w(s, idx).end())\n",
      "simplejson.errors.JSONDecodeError: Expecting value: line 1 column 1 (char 0)\n",
      "Traceback (most recent call last):\n",
      "  File \"<ipython-input-74-a1bbc79ad05d>\", line 60, in <module>\n",
      "    for pailiang in load_pailiang(vid):\n",
      "  File \"<ipython-input-74-a1bbc79ad05d>\", line 11, in load_pailiang\n",
      "    return requests.get(url, headers=headers).json()['PaiLiang']\n",
      "  File \"/Users/laisky/.virtualenvs/37/lib/python3.7/site-packages/requests/models.py\", line 897, in json\n",
      "    return complexjson.loads(self.text, **kwargs)\n",
      "  File \"/Users/laisky/.virtualenvs/37/lib/python3.7/site-packages/simplejson/__init__.py\", line 518, in loads\n",
      "    return _default_decoder.decode(s)\n",
      "  File \"/Users/laisky/.virtualenvs/37/lib/python3.7/site-packages/simplejson/decoder.py\", line 370, in decode\n",
      "    obj, end = self.raw_decode(s)\n",
      "  File \"/Users/laisky/.virtualenvs/37/lib/python3.7/site-packages/simplejson/decoder.py\", line 400, in raw_decode\n",
      "    return self.scan_once(s, idx=_w(s, idx).end())\n",
      "simplejson.errors.JSONDecodeError: Expecting value: line 1 column 1 (char 0)\n"
     ]
    },
    {
     "name": "stdout",
     "output_type": "stream",
     "text": [
      ">> H - 红旗 - VE-HONG07AG - {'Vehicle': '明仕-一汽轿车', 'ProductID': 'VE-HONG07AG', 'BrandType': '一汽轿车', 'Brand': 'H - 红旗', 'Url': '/Images/Logo/hongqi.png', 'Src': 'https://img3.tuhu.org/Images/type/VE-HONG07AG.png@163w_163h_100Q.png', 'IsBaoYang': 'True', 'CarName': '明仕', 'appSrc': None, 'Image': 'https://img3.tuhu.org/Images/type/VE-HONG07AG.png@100Q.png', 'ImageUrl': 'https://img3.tuhu.org/Images/Logo/HongQi.png', 'Tires': '205/60R15;185/80R14', 'SpecialTireSize': None, 'OriginalIsBaoyang': 1, 'Priority2': 1, 'Priority3': 6, 'VehicleSeries': None}\n",
      ">> H - 红旗 - VE-HONG99AB - {'Vehicle': '旗舰-一汽轿车', 'ProductID': 'VE-HONG99AB', 'BrandType': '一汽轿车', 'Brand': 'H - 红旗', 'Url': '/Images/Logo/hongqi.png', 'Src': 'https://img3.tuhu.org/Images/type/VE-HONG99AB.png@163w_163h_100Q.png', 'IsBaoYang': 'True', 'CarName': '旗舰', 'appSrc': None, 'Image': 'https://img3.tuhu.org/Images/type/VE-HONG99AB.png@100Q.png', 'ImageUrl': 'https://img3.tuhu.org/Images/Logo/HongQi.png', 'Tires': '225/60R16', 'SpecialTireSize': None, 'OriginalIsBaoyang': 1, 'Priority2': 1, 'Priority3': 5, 'VehicleSeries': None}\n"
     ]
    },
    {
     "name": "stderr",
     "output_type": "stream",
     "text": [
      "Traceback (most recent call last):\n",
      "  File \"<ipython-input-74-a1bbc79ad05d>\", line 60, in <module>\n",
      "    for pailiang in load_pailiang(vid):\n",
      "  File \"<ipython-input-74-a1bbc79ad05d>\", line 11, in load_pailiang\n",
      "    return requests.get(url, headers=headers).json()['PaiLiang']\n",
      "  File \"/Users/laisky/.virtualenvs/37/lib/python3.7/site-packages/requests/models.py\", line 897, in json\n",
      "    return complexjson.loads(self.text, **kwargs)\n",
      "  File \"/Users/laisky/.virtualenvs/37/lib/python3.7/site-packages/simplejson/__init__.py\", line 518, in loads\n",
      "    return _default_decoder.decode(s)\n",
      "  File \"/Users/laisky/.virtualenvs/37/lib/python3.7/site-packages/simplejson/decoder.py\", line 370, in decode\n",
      "    obj, end = self.raw_decode(s)\n",
      "  File \"/Users/laisky/.virtualenvs/37/lib/python3.7/site-packages/simplejson/decoder.py\", line 400, in raw_decode\n",
      "    return self.scan_once(s, idx=_w(s, idx).end())\n",
      "simplejson.errors.JSONDecodeError: Expecting value: line 1 column 1 (char 0)\n",
      "Traceback (most recent call last):\n",
      "  File \"<ipython-input-74-a1bbc79ad05d>\", line 60, in <module>\n",
      "    for pailiang in load_pailiang(vid):\n",
      "  File \"<ipython-input-74-a1bbc79ad05d>\", line 11, in load_pailiang\n",
      "    return requests.get(url, headers=headers).json()['PaiLiang']\n",
      "  File \"/Users/laisky/.virtualenvs/37/lib/python3.7/site-packages/requests/models.py\", line 897, in json\n",
      "    return complexjson.loads(self.text, **kwargs)\n",
      "  File \"/Users/laisky/.virtualenvs/37/lib/python3.7/site-packages/simplejson/__init__.py\", line 518, in loads\n",
      "    return _default_decoder.decode(s)\n",
      "  File \"/Users/laisky/.virtualenvs/37/lib/python3.7/site-packages/simplejson/decoder.py\", line 370, in decode\n",
      "    obj, end = self.raw_decode(s)\n",
      "  File \"/Users/laisky/.virtualenvs/37/lib/python3.7/site-packages/simplejson/decoder.py\", line 400, in raw_decode\n",
      "    return self.scan_once(s, idx=_w(s, idx).end())\n",
      "simplejson.errors.JSONDecodeError: Expecting value: line 1 column 1 (char 0)\n"
     ]
    },
    {
     "name": "stdout",
     "output_type": "stream",
     "text": [
      ">> H - 红旗 - VE-HONG07AJ - {'Vehicle': '世纪星-一汽轿车', 'ProductID': 'VE-HONG07AJ', 'BrandType': '一汽轿车', 'Brand': 'H - 红旗', 'Url': '/Images/Logo/hongqi.png', 'Src': 'https://img3.tuhu.org/Images/type/VE-HONG07AJ.png@163w_163h_100Q.png', 'IsBaoYang': 'True', 'CarName': '世纪星', 'appSrc': None, 'Image': 'https://img3.tuhu.org/Images/type/VE-HONG07AJ.png@100Q.png', 'ImageUrl': 'https://img3.tuhu.org/Images/Logo/HongQi.png', 'Tires': '205/60R15;185/80R14', 'SpecialTireSize': None, 'OriginalIsBaoyang': 1, 'Priority2': 1, 'Priority3': 4, 'VehicleSeries': None}\n",
      ">> H - 红旗 - VE-HONGQSSHI - {'Vehicle': '盛世-一汽轿车', 'ProductID': 'VE-HONGQSSHI', 'BrandType': '一汽轿车', 'Brand': 'H - 红旗', 'Url': '/Images/Logo/hongqi.png', 'Src': 'https://img3.tuhu.org/Images/type/VE-HONGQSSHI.png@163w_163h_100Q.png', 'IsBaoYang': 'True', 'CarName': '盛世', 'appSrc': None, 'Image': 'https://img3.tuhu.org/Images/type/VE-HONGQSSHI.png@100Q.png', 'ImageUrl': 'https://img3.tuhu.org/Images/Logo/HongQi.png', 'Tires': '215/55R17', 'SpecialTireSize': None, 'OriginalIsBaoyang': 1, 'Priority2': 1, 'Priority3': 3, 'VehicleSeries': None}\n"
     ]
    },
    {
     "name": "stderr",
     "output_type": "stream",
     "text": [
      "Traceback (most recent call last):\n",
      "  File \"<ipython-input-74-a1bbc79ad05d>\", line 60, in <module>\n",
      "    for pailiang in load_pailiang(vid):\n",
      "  File \"<ipython-input-74-a1bbc79ad05d>\", line 11, in load_pailiang\n",
      "    return requests.get(url, headers=headers).json()['PaiLiang']\n",
      "  File \"/Users/laisky/.virtualenvs/37/lib/python3.7/site-packages/requests/models.py\", line 897, in json\n",
      "    return complexjson.loads(self.text, **kwargs)\n",
      "  File \"/Users/laisky/.virtualenvs/37/lib/python3.7/site-packages/simplejson/__init__.py\", line 518, in loads\n",
      "    return _default_decoder.decode(s)\n",
      "  File \"/Users/laisky/.virtualenvs/37/lib/python3.7/site-packages/simplejson/decoder.py\", line 370, in decode\n",
      "    obj, end = self.raw_decode(s)\n",
      "  File \"/Users/laisky/.virtualenvs/37/lib/python3.7/site-packages/simplejson/decoder.py\", line 400, in raw_decode\n",
      "    return self.scan_once(s, idx=_w(s, idx).end())\n",
      "simplejson.errors.JSONDecodeError: Expecting value: line 1 column 1 (char 0)\n",
      "Traceback (most recent call last):\n",
      "  File \"<ipython-input-74-a1bbc79ad05d>\", line 60, in <module>\n",
      "    for pailiang in load_pailiang(vid):\n",
      "  File \"<ipython-input-74-a1bbc79ad05d>\", line 11, in load_pailiang\n",
      "    return requests.get(url, headers=headers).json()['PaiLiang']\n",
      "  File \"/Users/laisky/.virtualenvs/37/lib/python3.7/site-packages/requests/models.py\", line 897, in json\n",
      "    return complexjson.loads(self.text, **kwargs)\n",
      "  File \"/Users/laisky/.virtualenvs/37/lib/python3.7/site-packages/simplejson/__init__.py\", line 518, in loads\n",
      "    return _default_decoder.decode(s)\n",
      "  File \"/Users/laisky/.virtualenvs/37/lib/python3.7/site-packages/simplejson/decoder.py\", line 370, in decode\n",
      "    obj, end = self.raw_decode(s)\n",
      "  File \"/Users/laisky/.virtualenvs/37/lib/python3.7/site-packages/simplejson/decoder.py\", line 400, in raw_decode\n",
      "    return self.scan_once(s, idx=_w(s, idx).end())\n",
      "simplejson.errors.JSONDecodeError: Expecting value: line 1 column 1 (char 0)\n"
     ]
    },
    {
     "name": "stdout",
     "output_type": "stream",
     "text": [
      ">> H - 红旗 - VE-HONG07AJZYZ - {'Vehicle': '卓越者-一汽轿车', 'ProductID': 'VE-HONG07AJZYZ', 'BrandType': '一汽轿车', 'Brand': 'H - 红旗', 'Url': '/Images/Logo/hongqi.png', 'Src': 'https://img3.tuhu.org/Images/type/VE-HONG07AJZYZ.png@163w_163h_100Q.png', 'IsBaoYang': 'True', 'CarName': '卓越者', 'appSrc': None, 'Image': 'https://img3.tuhu.org/Images/type/VE-HONG07AJZYZ.png@100Q.png', 'ImageUrl': 'https://img3.tuhu.org/Images/Logo/HongQi.png', 'Tires': '205/60R15', 'SpecialTireSize': None, 'OriginalIsBaoyang': 1, 'Priority2': 1, 'Priority3': 2, 'VehicleSeries': None}\n"
     ]
    },
    {
     "name": "stderr",
     "output_type": "stream",
     "text": [
      "Traceback (most recent call last):\n",
      "  File \"<ipython-input-74-a1bbc79ad05d>\", line 60, in <module>\n",
      "    for pailiang in load_pailiang(vid):\n",
      "  File \"<ipython-input-74-a1bbc79ad05d>\", line 11, in load_pailiang\n",
      "    return requests.get(url, headers=headers).json()['PaiLiang']\n",
      "  File \"/Users/laisky/.virtualenvs/37/lib/python3.7/site-packages/requests/models.py\", line 897, in json\n",
      "    return complexjson.loads(self.text, **kwargs)\n",
      "  File \"/Users/laisky/.virtualenvs/37/lib/python3.7/site-packages/simplejson/__init__.py\", line 518, in loads\n",
      "    return _default_decoder.decode(s)\n",
      "  File \"/Users/laisky/.virtualenvs/37/lib/python3.7/site-packages/simplejson/decoder.py\", line 370, in decode\n",
      "    obj, end = self.raw_decode(s)\n",
      "  File \"/Users/laisky/.virtualenvs/37/lib/python3.7/site-packages/simplejson/decoder.py\", line 400, in raw_decode\n",
      "    return self.scan_once(s, idx=_w(s, idx).end())\n",
      "simplejson.errors.JSONDecodeError: Expecting value: line 1 column 1 (char 0)\n"
     ]
    },
    {
     "name": "stdout",
     "output_type": "stream",
     "text": [
      "H - 汇众 done\n",
      "H - 海格 done\n",
      ">> H - 海格 - VE-HAIGEH4E - {'Vehicle': 'H4E-苏州金龙', 'ProductID': 'VE-HAIGEH4E', 'BrandType': '苏州金龙', 'Brand': 'H - 海格', 'Url': '/Images/Logo/haige.png', 'Src': 'https://img3.tuhu.org/Images/type/VE-HAIGEH4E.png@163w_163h_100Q.png', 'IsBaoYang': 'True', 'CarName': 'H4E', 'appSrc': None, 'Image': 'https://img3.tuhu.org/Images/type/VE-HAIGEH4E.png@100Q.png', 'ImageUrl': 'https://img3.tuhu.org/Images/Logo/HaiGe.png', 'Tires': None, 'SpecialTireSize': '175R14LT', 'OriginalIsBaoyang': 1, 'Priority2': 1, 'Priority3': 9, 'VehicleSeries': None}\n"
     ]
    },
    {
     "name": "stderr",
     "output_type": "stream",
     "text": [
      "Traceback (most recent call last):\n",
      "  File \"<ipython-input-74-a1bbc79ad05d>\", line 60, in <module>\n",
      "    for pailiang in load_pailiang(vid):\n",
      "  File \"<ipython-input-74-a1bbc79ad05d>\", line 11, in load_pailiang\n",
      "    return requests.get(url, headers=headers).json()['PaiLiang']\n",
      "KeyError: 'PaiLiang'\n"
     ]
    },
    {
     "name": "stdout",
     "output_type": "stream",
     "text": [
      ">> H - 海格 - VE-HAIGEH7V - {'Vehicle': 'H7V-苏州金龙', 'ProductID': 'VE-HAIGEH7V', 'BrandType': '苏州金龙', 'Brand': 'H - 海格', 'Url': '/Images/Logo/haige.png', 'Src': 'https://img4.tuhu.org/Images/type/VE-HAIGEH7V.png@163w_163h_100Q.png', 'IsBaoYang': 'True', 'CarName': 'H7V', 'appSrc': None, 'Image': 'https://img4.tuhu.org/Images/type/VE-HAIGEH7V.png@100Q.png', 'ImageUrl': 'https://img3.tuhu.org/Images/Logo/HaiGe.png', 'Tires': None, 'SpecialTireSize': '6.50R16', 'OriginalIsBaoyang': 1, 'Priority2': 1, 'Priority3': 4, 'VehicleSeries': None}\n"
     ]
    },
    {
     "name": "stderr",
     "output_type": "stream",
     "text": [
      "Traceback (most recent call last):\n",
      "  File \"<ipython-input-74-a1bbc79ad05d>\", line 60, in <module>\n",
      "    for pailiang in load_pailiang(vid):\n",
      "  File \"<ipython-input-74-a1bbc79ad05d>\", line 11, in load_pailiang\n",
      "    return requests.get(url, headers=headers).json()['PaiLiang']\n",
      "KeyError: 'PaiLiang'\n"
     ]
    },
    {
     "name": "stdout",
     "output_type": "stream",
     "text": [
      "H - 黑豹 done\n",
      "H - 恒天 done\n",
      "H - 华北 done\n",
      "H - 幻速 done\n",
      "H - 华颂 done\n",
      "H - 汉腾汽车 done\n",
      "H - 华骐 done\n",
      "H - 红星汽车 done\n",
      "H - 海马 done\n",
      "H - 哈弗 done\n",
      "J - 吉奥 done\n",
      ">> J - 吉奥 - VE-GONO07AR - {'Vehicle': 'GS50-广汽吉奥', 'ProductID': 'VE-GONO07AR', 'BrandType': '广汽吉奥', 'Brand': 'J - 吉奥', 'Url': '/Images/Logo/jiao.png', 'Src': 'https://img4.tuhu.org/Images/type/VE-GONO07AR.png@163w_163h_100Q.png', 'IsBaoYang': 'True', 'CarName': 'GS50', 'appSrc': None, 'Image': 'https://img4.tuhu.org/Images/type/VE-GONO07AR.png@100Q.png', 'ImageUrl': 'https://img3.tuhu.org/Images/Logo/JiAo.png', 'Tires': '215/75R15;235/75R15', 'SpecialTireSize': None, 'OriginalIsBaoyang': 1, 'Priority2': 1, 'Priority3': 22, 'VehicleSeries': None}\n"
     ]
    },
    {
     "name": "stderr",
     "output_type": "stream",
     "text": [
      "Traceback (most recent call last):\n",
      "  File \"<ipython-input-74-a1bbc79ad05d>\", line 60, in <module>\n",
      "    for pailiang in load_pailiang(vid):\n",
      "  File \"<ipython-input-74-a1bbc79ad05d>\", line 11, in load_pailiang\n",
      "    return requests.get(url, headers=headers).json()['PaiLiang']\n",
      "KeyError: 'PaiLiang'\n"
     ]
    },
    {
     "name": "stdout",
     "output_type": "stream",
     "text": [
      ">> J - 吉奥 - VE-GONO05AJ - {'Vehicle': '帅驰-广汽吉奥', 'ProductID': 'VE-GONO05AJ', 'BrandType': '广汽吉奥', 'Brand': 'J - 吉奥', 'Url': '/Images/Logo/jiao.png', 'Src': 'https://img3.tuhu.org/Images/type/VE-GONO05AJ.png@163w_163h_100Q.png', 'IsBaoYang': 'True', 'CarName': '帅驰', 'appSrc': None, 'Image': 'https://img3.tuhu.org/Images/type/VE-GONO05AJ.png@100Q.png', 'ImageUrl': 'https://img3.tuhu.org/Images/Logo/JiAo.png', 'Tires': '215/75R15;235/75R15', 'SpecialTireSize': None, 'OriginalIsBaoyang': 1, 'Priority2': 1, 'Priority3': 17, 'VehicleSeries': None}\n"
     ]
    },
    {
     "name": "stderr",
     "output_type": "stream",
     "text": [
      "Traceback (most recent call last):\n",
      "  File \"<ipython-input-74-a1bbc79ad05d>\", line 60, in <module>\n",
      "    for pailiang in load_pailiang(vid):\n",
      "  File \"<ipython-input-74-a1bbc79ad05d>\", line 11, in load_pailiang\n",
      "    return requests.get(url, headers=headers).json()['PaiLiang']\n",
      "KeyError: 'PaiLiang'\n"
     ]
    },
    {
     "name": "stdout",
     "output_type": "stream",
     "text": [
      ">> J - 吉奥 - VE-GONO07AC - {'Vehicle': '伊美-广汽吉奥', 'ProductID': 'VE-GONO07AC', 'BrandType': '广汽吉奥', 'Brand': 'J - 吉奥', 'Url': '/Images/Logo/jiao.png', 'Src': 'https://img3.tuhu.org/Images/type/VE-GONO07AC.png@163w_163h_100Q.png', 'IsBaoYang': 'True', 'CarName': '伊美', 'appSrc': None, 'Image': 'https://img3.tuhu.org/Images/type/VE-GONO07AC.png@100Q.png', 'ImageUrl': 'https://img3.tuhu.org/Images/Logo/JiAo.png', 'Tires': '165/70R14;195/65R15', 'SpecialTireSize': None, 'OriginalIsBaoyang': 1, 'Priority2': 1, 'Priority3': 14, 'VehicleSeries': None}\n"
     ]
    },
    {
     "name": "stderr",
     "output_type": "stream",
     "text": [
      "Traceback (most recent call last):\n",
      "  File \"<ipython-input-74-a1bbc79ad05d>\", line 60, in <module>\n",
      "    for pailiang in load_pailiang(vid):\n",
      "  File \"<ipython-input-74-a1bbc79ad05d>\", line 11, in load_pailiang\n",
      "    return requests.get(url, headers=headers).json()['PaiLiang']\n",
      "KeyError: 'PaiLiang'\n"
     ]
    },
    {
     "name": "stdout",
     "output_type": "stream",
     "text": [
      ">> J - 吉奥 - VE-GQJAXWL - {'Vehicle': '星旺L-广汽吉奥', 'ProductID': 'VE-GQJAXWL', 'BrandType': '广汽吉奥', 'Brand': 'J - 吉奥', 'Url': '/Images/Logo/jiao.png', 'Src': 'https://img3.tuhu.org/Images/type/VE-GQJAXWL.png@163w_163h_100Q.png', 'IsBaoYang': 'True', 'CarName': '星旺L', 'appSrc': None, 'Image': 'https://img3.tuhu.org/Images/type/VE-GQJAXWL.png@100Q.png', 'ImageUrl': 'https://img3.tuhu.org/Images/Logo/JiAo.png', 'Tires': '165/70R14', 'SpecialTireSize': None, 'OriginalIsBaoyang': 1, 'Priority2': 1, 'Priority3': 3, 'VehicleSeries': None}\n"
     ]
    },
    {
     "name": "stderr",
     "output_type": "stream",
     "text": [
      "Traceback (most recent call last):\n",
      "  File \"<ipython-input-74-a1bbc79ad05d>\", line 60, in <module>\n",
      "    for pailiang in load_pailiang(vid):\n",
      "  File \"<ipython-input-74-a1bbc79ad05d>\", line 11, in load_pailiang\n",
      "    return requests.get(url, headers=headers).json()['PaiLiang']\n",
      "KeyError: 'PaiLiang'\n"
     ]
    },
    {
     "name": "stdout",
     "output_type": "stream",
     "text": [
      ">> J - 吉奥 - VE-GQJAXWM1 - {'Vehicle': '星旺M1-广汽吉奥', 'ProductID': 'VE-GQJAXWM1', 'BrandType': '广汽吉奥', 'Brand': 'J - 吉奥', 'Url': '/Images/Logo/jiao.png', 'Src': 'https://img3.tuhu.org/Images/type/VE-GQJAXWM1.png@163w_163h_100Q.png', 'IsBaoYang': 'True', 'CarName': '星旺M1', 'appSrc': None, 'Image': 'https://img3.tuhu.org/Images/type/VE-GQJAXWM1.png@100Q.png', 'ImageUrl': 'https://img3.tuhu.org/Images/Logo/JiAo.png', 'Tires': '165/70R14', 'SpecialTireSize': None, 'OriginalIsBaoyang': 1, 'Priority2': 1, 'Priority3': 2, 'VehicleSeries': None}\n"
     ]
    },
    {
     "name": "stderr",
     "output_type": "stream",
     "text": [
      "Traceback (most recent call last):\n",
      "  File \"<ipython-input-74-a1bbc79ad05d>\", line 60, in <module>\n",
      "    for pailiang in load_pailiang(vid):\n",
      "  File \"<ipython-input-74-a1bbc79ad05d>\", line 11, in load_pailiang\n",
      "    return requests.get(url, headers=headers).json()['PaiLiang']\n",
      "KeyError: 'PaiLiang'\n"
     ]
    },
    {
     "name": "stdout",
     "output_type": "stream",
     "text": [
      ">> J - 吉奥 - VE-GQJAXWM2 - {'Vehicle': '星旺M2-广汽吉奥', 'ProductID': 'VE-GQJAXWM2', 'BrandType': '广汽吉奥', 'Brand': 'J - 吉奥', 'Url': '/Images/Logo/jiao.png', 'Src': 'https://img4.tuhu.org/Images/type/VE-GQJAXWM2.png@163w_163h_100Q.png', 'IsBaoYang': 'True', 'CarName': '星旺M2', 'appSrc': None, 'Image': 'https://img4.tuhu.org/Images/type/VE-GQJAXWM2.png@100Q.png', 'ImageUrl': 'https://img3.tuhu.org/Images/Logo/JiAo.png', 'Tires': '165/70R14', 'SpecialTireSize': None, 'OriginalIsBaoyang': 1, 'Priority2': 1, 'Priority3': 1, 'VehicleSeries': None}\n",
      "J - 吉普 done\n"
     ]
    },
    {
     "name": "stderr",
     "output_type": "stream",
     "text": [
      "Traceback (most recent call last):\n",
      "  File \"<ipython-input-74-a1bbc79ad05d>\", line 60, in <module>\n",
      "    for pailiang in load_pailiang(vid):\n",
      "  File \"<ipython-input-74-a1bbc79ad05d>\", line 11, in load_pailiang\n",
      "    return requests.get(url, headers=headers).json()['PaiLiang']\n",
      "KeyError: 'PaiLiang'\n"
     ]
    },
    {
     "name": "stdout",
     "output_type": "stream",
     "text": [
      ">> J - 吉普 - VE-JEEPLiberty - {'Vehicle': '自由人-吉普进口', 'ProductID': 'VE-JEEPLiberty', 'BrandType': '吉普进口', 'Brand': 'J - 吉普', 'Url': '/Images/Logo/jipu.png', 'Src': 'https://img3.tuhu.org/Images/type/VE-JEEPLiberty.png@163w_163h_100Q.png', 'IsBaoYang': 'True', 'CarName': '自由人', 'appSrc': None, 'Image': 'https://img3.tuhu.org/Images/type/VE-JEEPLiberty.png@100Q.png', 'ImageUrl': 'https://img3.tuhu.org/Images/Logo/JiPu.png', 'Tires': '235/70R16;235/65R17', 'SpecialTireSize': None, 'OriginalIsBaoyang': 1, 'Priority2': 1, 'Priority3': 2, 'VehicleSeries': None}\n"
     ]
    },
    {
     "name": "stderr",
     "output_type": "stream",
     "text": [
      "Traceback (most recent call last):\n",
      "  File \"<ipython-input-74-a1bbc79ad05d>\", line 60, in <module>\n",
      "    for pailiang in load_pailiang(vid):\n",
      "  File \"<ipython-input-74-a1bbc79ad05d>\", line 11, in load_pailiang\n",
      "    return requests.get(url, headers=headers).json()['PaiLiang']\n",
      "KeyError: 'PaiLiang'\n"
     ]
    },
    {
     "name": "stdout",
     "output_type": "stream",
     "text": [
      "J - 江南 done\n",
      ">> J - 江南 - VE-JNQC07AD - {'Vehicle': '传奇-江南汽车', 'ProductID': 'VE-JNQC07AD', 'BrandType': '江南汽车', 'Brand': 'J - 江南', 'Url': '/Images/Logo/jiangnan.png', 'Src': 'https://img3.tuhu.org/Images/type/VE-JNQC07AD.png@163w_163h_100Q.png', 'IsBaoYang': 'True', 'CarName': '传奇', 'appSrc': None, 'Image': 'https://img3.tuhu.org/Images/type/VE-JNQC07AD.png@100Q.png', 'ImageUrl': 'https://img3.tuhu.org/Images/Logo/JiangNan.png', 'Tires': '165/70R14', 'SpecialTireSize': None, 'OriginalIsBaoyang': 1, 'Priority2': 1, 'Priority3': 3, 'VehicleSeries': None}\n"
     ]
    },
    {
     "name": "stderr",
     "output_type": "stream",
     "text": [
      "Traceback (most recent call last):\n",
      "  File \"/Users/laisky/.virtualenvs/37/lib/python3.7/site-packages/urllib3/connectionpool.py\", line 603, in urlopen\n",
      "    chunked=chunked)\n",
      "  File \"/Users/laisky/.virtualenvs/37/lib/python3.7/site-packages/urllib3/connectionpool.py\", line 344, in _make_request\n",
      "    self._validate_conn(conn)\n",
      "  File \"/Users/laisky/.virtualenvs/37/lib/python3.7/site-packages/urllib3/connectionpool.py\", line 843, in _validate_conn\n",
      "    conn.connect()\n",
      "  File \"/Users/laisky/.virtualenvs/37/lib/python3.7/site-packages/urllib3/connection.py\", line 370, in connect\n",
      "    ssl_context=context)\n",
      "  File \"/Users/laisky/.virtualenvs/37/lib/python3.7/site-packages/urllib3/util/ssl_.py\", line 355, in ssl_wrap_socket\n",
      "    return context.wrap_socket(sock, server_hostname=server_hostname)\n",
      "  File \"/Users/laisky/.pyenv/versions/3.7.4/lib/python3.7/ssl.py\", line 423, in wrap_socket\n",
      "    session=session\n",
      "  File \"/Users/laisky/.pyenv/versions/3.7.4/lib/python3.7/ssl.py\", line 870, in _create\n",
      "    self.do_handshake()\n",
      "  File \"/Users/laisky/.pyenv/versions/3.7.4/lib/python3.7/ssl.py\", line 1139, in do_handshake\n",
      "    self._sslobj.do_handshake()\n",
      "TimeoutError: [Errno 60] Operation timed out\n",
      "\n",
      "During handling of the above exception, another exception occurred:\n",
      "\n",
      "Traceback (most recent call last):\n",
      "  File \"/Users/laisky/.virtualenvs/37/lib/python3.7/site-packages/requests/adapters.py\", line 449, in send\n",
      "    timeout=timeout\n",
      "  File \"/Users/laisky/.virtualenvs/37/lib/python3.7/site-packages/urllib3/connectionpool.py\", line 641, in urlopen\n",
      "    _stacktrace=sys.exc_info()[2])\n",
      "  File \"/Users/laisky/.virtualenvs/37/lib/python3.7/site-packages/urllib3/util/retry.py\", line 368, in increment\n",
      "    raise six.reraise(type(error), error, _stacktrace)\n",
      "  File \"/Users/laisky/.virtualenvs/37/lib/python3.7/site-packages/urllib3/packages/six.py\", line 685, in reraise\n",
      "    raise value.with_traceback(tb)\n",
      "  File \"/Users/laisky/.virtualenvs/37/lib/python3.7/site-packages/urllib3/connectionpool.py\", line 603, in urlopen\n",
      "    chunked=chunked)\n",
      "  File \"/Users/laisky/.virtualenvs/37/lib/python3.7/site-packages/urllib3/connectionpool.py\", line 344, in _make_request\n",
      "    self._validate_conn(conn)\n",
      "  File \"/Users/laisky/.virtualenvs/37/lib/python3.7/site-packages/urllib3/connectionpool.py\", line 843, in _validate_conn\n",
      "    conn.connect()\n",
      "  File \"/Users/laisky/.virtualenvs/37/lib/python3.7/site-packages/urllib3/connection.py\", line 370, in connect\n",
      "    ssl_context=context)\n",
      "  File \"/Users/laisky/.virtualenvs/37/lib/python3.7/site-packages/urllib3/util/ssl_.py\", line 355, in ssl_wrap_socket\n",
      "    return context.wrap_socket(sock, server_hostname=server_hostname)\n",
      "  File \"/Users/laisky/.pyenv/versions/3.7.4/lib/python3.7/ssl.py\", line 423, in wrap_socket\n",
      "    session=session\n",
      "  File \"/Users/laisky/.pyenv/versions/3.7.4/lib/python3.7/ssl.py\", line 870, in _create\n",
      "    self.do_handshake()\n",
      "  File \"/Users/laisky/.pyenv/versions/3.7.4/lib/python3.7/ssl.py\", line 1139, in do_handshake\n",
      "    self._sslobj.do_handshake()\n",
      "urllib3.exceptions.ProtocolError: ('Connection aborted.', TimeoutError(60, 'Operation timed out'))\n",
      "\n",
      "During handling of the above exception, another exception occurred:\n",
      "\n",
      "Traceback (most recent call last):\n",
      "  File \"<ipython-input-74-a1bbc79ad05d>\", line 62, in <module>\n",
      "    for b in load_child_brands(vid, pailiang, nian):\n",
      "  File \"<ipython-input-74-a1bbc79ad05d>\", line 38, in load_child_brands\n",
      "    return json.loads(index_regex.findall(requests.get(url).text)[0])['SalesName']\n",
      "  File \"/Users/laisky/.virtualenvs/37/lib/python3.7/site-packages/requests/api.py\", line 75, in get\n",
      "    return request('get', url, params=params, **kwargs)\n",
      "  File \"/Users/laisky/.virtualenvs/37/lib/python3.7/site-packages/requests/api.py\", line 60, in request\n",
      "    return session.request(method=method, url=url, **kwargs)\n",
      "  File \"/Users/laisky/.virtualenvs/37/lib/python3.7/site-packages/requests/sessions.py\", line 533, in request\n",
      "    resp = self.send(prep, **send_kwargs)\n",
      "  File \"/Users/laisky/.virtualenvs/37/lib/python3.7/site-packages/requests/sessions.py\", line 646, in send\n",
      "    r = adapter.send(request, **kwargs)\n",
      "  File \"/Users/laisky/.virtualenvs/37/lib/python3.7/site-packages/requests/adapters.py\", line 498, in send\n",
      "    raise ConnectionError(err, request=request)\n",
      "requests.exceptions.ConnectionError: ('Connection aborted.', TimeoutError(60, 'Operation timed out'))\n"
     ]
    },
    {
     "name": "stdout",
     "output_type": "stream",
     "text": [
      "J - 江苏南亚 done\n",
      ">> J - 江苏南亚 - VE-NANY04AD - {'Vehicle': '英格尔-江苏南亚', 'ProductID': 'VE-NANY04AD', 'BrandType': '江苏南亚', 'Brand': 'J - 江苏南亚', 'Url': '/Images/Logo/jiangsunanya.png', 'Src': 'https://img3.tuhu.org/Images/type/VE-NANY04AD.png@163w_163h_100Q.png', 'IsBaoYang': 'True', 'CarName': '英格尔', 'appSrc': None, 'Image': 'https://img3.tuhu.org/Images/type/VE-NANY04AD.png@100Q.png', 'ImageUrl': 'https://img3.tuhu.org/Images/Logo/JiangSuNanYa.png', 'Tires': '175/70R13', 'SpecialTireSize': None, 'OriginalIsBaoyang': 1, 'Priority2': 1, 'Priority3': 1, 'VehicleSeries': None}\n",
      "J - 捷豹 done\n"
     ]
    },
    {
     "name": "stderr",
     "output_type": "stream",
     "text": [
      "Traceback (most recent call last):\n",
      "  File \"<ipython-input-74-a1bbc79ad05d>\", line 60, in <module>\n",
      "    for pailiang in load_pailiang(vid):\n",
      "  File \"<ipython-input-74-a1bbc79ad05d>\", line 11, in load_pailiang\n",
      "    return requests.get(url, headers=headers).json()['PaiLiang']\n",
      "KeyError: 'PaiLiang'\n"
     ]
    },
    {
     "name": "stdout",
     "output_type": "stream",
     "text": [
      "J - 金程 done\n",
      ">> J - 金程 - VE-JINC05AF - {'Vehicle': '海狮-金程汽车', 'ProductID': 'VE-JINC05AF', 'BrandType': '金程汽车', 'Brand': 'J - 金程', 'Url': '/Images/Logo/jincheng.png', 'Src': 'https://img3.tuhu.org/Images/type/VE-JINC05AF.png@163w_163h_100Q.png', 'IsBaoYang': 'True', 'CarName': '海狮', 'appSrc': None, 'Image': 'https://img3.tuhu.org/Images/type/VE-JINC05AF.png@100Q.png', 'ImageUrl': 'https://img3.tuhu.org/Images/Logo/JinCheng.png', 'Tires': '185/R14C', 'SpecialTireSize': None, 'OriginalIsBaoyang': 1, 'Priority2': 1, 'Priority3': 3, 'VehicleSeries': None}\n"
     ]
    },
    {
     "name": "stderr",
     "output_type": "stream",
     "text": [
      "Traceback (most recent call last):\n",
      "  File \"<ipython-input-74-a1bbc79ad05d>\", line 60, in <module>\n",
      "    for pailiang in load_pailiang(vid):\n",
      "  File \"<ipython-input-74-a1bbc79ad05d>\", line 11, in load_pailiang\n",
      "    return requests.get(url, headers=headers).json()['PaiLiang']\n",
      "KeyError: 'PaiLiang'\n"
     ]
    },
    {
     "name": "stdout",
     "output_type": "stream",
     "text": [
      "J - 江铃 done\n",
      "J - 九龙 done\n",
      ">> J - 九龙 - VE-JLONGTIANMA - {'Vehicle': '九龙天马-九龙汽车', 'ProductID': 'VE-JLONGTIANMA', 'BrandType': '九龙汽车', 'Brand': 'J - 九龙', 'Url': '/Images/Logo/jiulong.png', 'Src': 'https://img3.tuhu.org/Images/type/VE-JLONGTIANMA.png@163w_163h_100Q.png', 'IsBaoYang': 'True', 'CarName': '九龙天马', 'appSrc': None, 'Image': 'https://img3.tuhu.org/Images/type/VE-JLONGTIANMA.png@100Q.png', 'ImageUrl': 'https://img3.tuhu.org/Images/Logo/JiuLong.png', 'Tires': '195/75R16;195/70R15;215/70R16;205/75R16C', 'SpecialTireSize': None, 'OriginalIsBaoyang': 1, 'Priority2': 1, 'Priority3': 2, 'VehicleSeries': None}\n"
     ]
    },
    {
     "name": "stderr",
     "output_type": "stream",
     "text": [
      "Traceback (most recent call last):\n",
      "  File \"<ipython-input-74-a1bbc79ad05d>\", line 60, in <module>\n",
      "    for pailiang in load_pailiang(vid):\n",
      "  File \"<ipython-input-74-a1bbc79ad05d>\", line 11, in load_pailiang\n",
      "    return requests.get(url, headers=headers).json()['PaiLiang']\n",
      "KeyError: 'PaiLiang'\n"
     ]
    },
    {
     "name": "stdout",
     "output_type": "stream",
     "text": [
      "J - 解放 done\n",
      "J - 金旅 done\n",
      "J - 君马 done\n",
      "J - 吉利 done\n",
      "J - 几何汽车 done\n",
      "J - 江淮 done\n",
      "J - 金杯 done\n",
      ">> J - 金杯 - VE-JINB07BR - {'Vehicle': '勤务兵-华晨金杯', 'ProductID': 'VE-JINB07BR', 'BrandType': '华晨金杯', 'Brand': 'J - 金杯', 'Url': '/Images/Logo/jinbei.png', 'Src': 'https://img3.tuhu.org/Images/type/VE-JINB07BR.png@163w_163h_100Q.png', 'IsBaoYang': 'True', 'CarName': '勤务兵', 'appSrc': None, 'Image': 'https://img3.tuhu.org/Images/type/VE-JINB07BR.png@100Q.png', 'ImageUrl': 'https://img3.tuhu.org/Images/Logo/JinBei.png', 'Tires': '185/R14C', 'SpecialTireSize': None, 'OriginalIsBaoyang': 1, 'Priority2': 1, 'Priority3': 11, 'VehicleSeries': None}\n"
     ]
    },
    {
     "name": "stderr",
     "output_type": "stream",
     "text": [
      "Traceback (most recent call last):\n",
      "  File \"<ipython-input-74-a1bbc79ad05d>\", line 60, in <module>\n",
      "    for pailiang in load_pailiang(vid):\n",
      "  File \"<ipython-input-74-a1bbc79ad05d>\", line 11, in load_pailiang\n",
      "    return requests.get(url, headers=headers).json()['PaiLiang']\n",
      "KeyError: 'PaiLiang'\n"
     ]
    },
    {
     "name": "stdout",
     "output_type": "stream",
     "text": [
      "J - 江铃新能源 done\n",
      "J - 捷途 done\n",
      "K - 开瑞 done\n",
      "K - 凯迪拉克 done\n",
      ">> K - 凯迪拉克 - VE-CADI04AB - {'Vehicle': '赛威-凯迪拉克进口', 'ProductID': 'VE-CADI04AB', 'BrandType': '凯迪拉克进口', 'Brand': 'K - 凯迪拉克', 'Url': '/Images/Logo/kaidilake.png', 'Src': 'https://img3.tuhu.org/Images/type/VE-CADI04AB.png@163w_163h_100Q.png', 'IsBaoYang': 'True', 'CarName': '赛威', 'appSrc': None, 'Image': 'https://img3.tuhu.org/Images/type/VE-CADI04AB.png@100Q.png', 'ImageUrl': 'https://img3.tuhu.org/Images/Logo/KaiDiLaKe.png', 'Tires': '235/50R18;255/45R18', 'SpecialTireSize': None, 'OriginalIsBaoyang': 1, 'Priority2': 1, 'Priority3': 2, 'VehicleSeries': None}\n"
     ]
    },
    {
     "name": "stderr",
     "output_type": "stream",
     "text": [
      "Traceback (most recent call last):\n",
      "  File \"<ipython-input-74-a1bbc79ad05d>\", line 60, in <module>\n",
      "    for pailiang in load_pailiang(vid):\n",
      "  File \"<ipython-input-74-a1bbc79ad05d>\", line 11, in load_pailiang\n",
      "    return requests.get(url, headers=headers).json()['PaiLiang']\n",
      "KeyError: 'PaiLiang'\n"
     ]
    },
    {
     "name": "stdout",
     "output_type": "stream",
     "text": [
      "K - 克莱斯勒 done\n",
      ">> K - 克莱斯勒 - VE-CHRYSCFIRE - {'Vehicle': '交叉火力-克莱斯勒进口', 'ProductID': 'VE-CHRYSCFIRE', 'BrandType': '克莱斯勒进口', 'Brand': 'K - 克莱斯勒', 'Url': '/Images/Logo/kelaisile.png', 'Src': 'https://img3.tuhu.org/Images/type/VE-CHRYSCFIRE.png@163w_163h_100Q.png', 'IsBaoYang': 'True', 'CarName': '交叉火力', 'appSrc': None, 'Image': 'https://img3.tuhu.org/Images/type/VE-CHRYSCFIRE.png@100Q.png', 'ImageUrl': 'https://img3.tuhu.org/Images/Logo/KeLaiSiLe.png', 'Tires': '255/40R18;235/35R19', 'SpecialTireSize': None, 'OriginalIsBaoyang': 1, 'Priority2': 1, 'Priority3': 2, 'VehicleSeries': None}\n"
     ]
    },
    {
     "name": "stderr",
     "output_type": "stream",
     "text": [
      "Traceback (most recent call last):\n",
      "  File \"<ipython-input-74-a1bbc79ad05d>\", line 60, in <module>\n",
      "    for pailiang in load_pailiang(vid):\n",
      "  File \"<ipython-input-74-a1bbc79ad05d>\", line 11, in load_pailiang\n",
      "    return requests.get(url, headers=headers).json()['PaiLiang']\n",
      "KeyError: 'PaiLiang'\n"
     ]
    },
    {
     "name": "stdout",
     "output_type": "stream",
     "text": [
      ">> K - 克莱斯勒 - VE-CHRYSSEB - {'Vehicle': '赛百灵-克莱斯勒进口', 'ProductID': 'VE-CHRYSSEB', 'BrandType': '克莱斯勒进口', 'Brand': 'K - 克莱斯勒', 'Url': '/Images/Logo/kelaisile.png', 'Src': 'https://img3.tuhu.org/Images/type/VE-CHRYSSEB.png@163w_163h_100Q.png', 'IsBaoYang': 'True', 'CarName': '赛百灵', 'appSrc': None, 'Image': 'https://img3.tuhu.org/Images/type/VE-CHRYSSEB.png@100Q.png', 'ImageUrl': 'https://img3.tuhu.org/Images/Logo/KeLaiSiLe.png', 'Tires': '205/65R15', 'SpecialTireSize': None, 'OriginalIsBaoyang': 1, 'Priority2': 1, 'Priority3': 1, 'VehicleSeries': None}\n",
      "K - 卡尔森 done\n"
     ]
    },
    {
     "name": "stderr",
     "output_type": "stream",
     "text": [
      "Traceback (most recent call last):\n",
      "  File \"<ipython-input-74-a1bbc79ad05d>\", line 60, in <module>\n",
      "    for pailiang in load_pailiang(vid):\n",
      "  File \"<ipython-input-74-a1bbc79ad05d>\", line 11, in load_pailiang\n",
      "    return requests.get(url, headers=headers).json()['PaiLiang']\n",
      "KeyError: 'PaiLiang'\n"
     ]
    },
    {
     "name": "stdout",
     "output_type": "stream",
     "text": [
      "K - 科尼赛克 done\n",
      ">> K - 科尼赛克 - VE-KEONAgera - {'Vehicle': 'Agera-科尼塞克', 'ProductID': 'VE-KEONAgera', 'BrandType': '科尼塞克', 'Brand': 'K - 科尼赛克', 'Url': '/Images/Logo/kenisaike.png', 'Src': 'https://img3.tuhu.org/Images/type/VE-KEONAgera.png@163w_163h_100Q.png', 'IsBaoYang': 'True', 'CarName': 'Agera', 'appSrc': None, 'Image': 'https://img3.tuhu.org/Images/type/VE-KEONAgera.png@100Q.png', 'ImageUrl': 'https://img3.tuhu.org/Images/Logo/KeNiSaiKe.png', 'Tires': '265/35R19;345/30R20', 'SpecialTireSize': None, 'OriginalIsBaoyang': 1, 'Priority2': 1, 'Priority3': 2, 'VehicleSeries': None}\n"
     ]
    },
    {
     "name": "stderr",
     "output_type": "stream",
     "text": [
      "Traceback (most recent call last):\n",
      "  File \"<ipython-input-74-a1bbc79ad05d>\", line 60, in <module>\n",
      "    for pailiang in load_pailiang(vid):\n",
      "  File \"<ipython-input-74-a1bbc79ad05d>\", line 11, in load_pailiang\n",
      "    return requests.get(url, headers=headers).json()['PaiLiang']\n",
      "KeyError: 'PaiLiang'\n"
     ]
    },
    {
     "name": "stdout",
     "output_type": "stream",
     "text": [
      ">> K - 科尼赛克 - VE-KEONCCXR - {'Vehicle': 'CCXR-科尼塞克', 'ProductID': 'VE-KEONCCXR', 'BrandType': '科尼塞克', 'Brand': 'K - 科尼赛克', 'Url': '/Images/Logo/kenisaike.png', 'Src': 'https://img3.tuhu.org/Images/type/VE-KEONCCXR.png@163w_163h_100Q.png', 'IsBaoYang': 'True', 'CarName': 'CCXR', 'appSrc': None, 'Image': 'https://img3.tuhu.org/Images/type/VE-KEONCCXR.png@100Q.png', 'ImageUrl': 'https://img3.tuhu.org/Images/Logo/KeNiSaiKe.png', 'Tires': '255/35R19;335/30R20', 'SpecialTireSize': None, 'OriginalIsBaoyang': 1, 'Priority2': 1, 'Priority3': 1, 'VehicleSeries': None}\n",
      "K - 凯翼 done\n"
     ]
    },
    {
     "name": "stderr",
     "output_type": "stream",
     "text": [
      "Traceback (most recent call last):\n",
      "  File \"<ipython-input-74-a1bbc79ad05d>\", line 60, in <module>\n",
      "    for pailiang in load_pailiang(vid):\n",
      "  File \"<ipython-input-74-a1bbc79ad05d>\", line 11, in load_pailiang\n",
      "    return requests.get(url, headers=headers).json()['PaiLiang']\n",
      "KeyError: 'PaiLiang'\n"
     ]
    },
    {
     "name": "stdout",
     "output_type": "stream",
     "text": [
      "K - 卡威 done\n",
      "L - 铃木 done\n",
      "L - 路虎 done\n",
      "L - 猎豹 done\n",
      ">> L - 猎豹 - VE-CZJJLSK - {'Vehicle': '飞铃皮卡-长丰扬子', 'ProductID': 'VE-CZJJLSK', 'BrandType': '长丰扬子', 'Brand': 'L - 猎豹', 'Url': '/Images/Logo/liebao.png', 'Src': 'https://img2.tuhu.org/Images/type/VE-CZJJLSK.png@163w_163h_100Q.png', 'IsBaoYang': 'True', 'CarName': '飞铃皮卡', 'appSrc': None, 'Image': 'https://img2.tuhu.org/Images/type/VE-CZJJLSK.png@100Q.png', 'ImageUrl': 'https://img2.tuhu.org/Images/Logo/LieBao.png', 'Tires': '215/75R15', 'SpecialTireSize': None, 'OriginalIsBaoyang': 1, 'Priority2': 2, 'Priority3': 5, 'VehicleSeries': None}\n"
     ]
    },
    {
     "name": "stderr",
     "output_type": "stream",
     "text": [
      "Traceback (most recent call last):\n",
      "  File \"<ipython-input-74-a1bbc79ad05d>\", line 60, in <module>\n",
      "    for pailiang in load_pailiang(vid):\n",
      "  File \"<ipython-input-74-a1bbc79ad05d>\", line 11, in load_pailiang\n",
      "    return requests.get(url, headers=headers).json()['PaiLiang']\n",
      "KeyError: 'PaiLiang'\n"
     ]
    },
    {
     "name": "stdout",
     "output_type": "stream",
     "text": [
      ">> L - 猎豹 - VE-CZJJYSK - {'Vehicle': '飞扬皮卡-长丰扬子', 'ProductID': 'VE-CZJJYSK', 'BrandType': '长丰扬子', 'Brand': 'L - 猎豹', 'Url': '/Images/Logo/liebao.png', 'Src': 'https://img2.tuhu.org/Images/type/VE-CZJJYSK.png@163w_163h_100Q.png', 'IsBaoYang': 'True', 'CarName': '飞扬皮卡', 'appSrc': None, 'Image': 'https://img2.tuhu.org/Images/type/VE-CZJJYSK.png@100Q.png', 'ImageUrl': 'https://img2.tuhu.org/Images/Logo/LieBao.png', 'Tires': 'P215/75R15;235/75R15', 'SpecialTireSize': None, 'OriginalIsBaoyang': 1, 'Priority2': 2, 'Priority3': 4, 'VehicleSeries': None}\n"
     ]
    },
    {
     "name": "stderr",
     "output_type": "stream",
     "text": [
      "Traceback (most recent call last):\n",
      "  File \"<ipython-input-74-a1bbc79ad05d>\", line 60, in <module>\n",
      "    for pailiang in load_pailiang(vid):\n",
      "  File \"<ipython-input-74-a1bbc79ad05d>\", line 11, in load_pailiang\n",
      "    return requests.get(url, headers=headers).json()['PaiLiang']\n",
      "KeyError: 'PaiLiang'\n"
     ]
    },
    {
     "name": "stdout",
     "output_type": "stream",
     "text": [
      ">> L - 猎豹 - VE-LIEBAOFYSUV - {'Vehicle': '飞扬SUV-长丰扬子', 'ProductID': 'VE-LIEBAOFYSUV', 'BrandType': '长丰扬子', 'Brand': 'L - 猎豹', 'Url': '/Images/Logo/liebao.png', 'Src': 'https://img4.tuhu.org/Images/type/VE-LIEBAOFYSUV.png@163w_163h_100Q.png', 'IsBaoYang': 'True', 'CarName': '飞扬SUV', 'appSrc': None, 'Image': 'https://img4.tuhu.org/Images/type/VE-LIEBAOFYSUV.png@100Q.png', 'ImageUrl': 'https://img2.tuhu.org/Images/Logo/LieBao.png', 'Tires': '215/75R15', 'SpecialTireSize': None, 'OriginalIsBaoyang': 1, 'Priority2': 2, 'Priority3': 2, 'VehicleSeries': None}\n"
     ]
    },
    {
     "name": "stderr",
     "output_type": "stream",
     "text": [
      "Traceback (most recent call last):\n",
      "  File \"<ipython-input-74-a1bbc79ad05d>\", line 60, in <module>\n",
      "    for pailiang in load_pailiang(vid):\n",
      "  File \"<ipython-input-74-a1bbc79ad05d>\", line 11, in load_pailiang\n",
      "    return requests.get(url, headers=headers).json()['PaiLiang']\n",
      "KeyError: 'PaiLiang'\n"
     ]
    },
    {
     "name": "stdout",
     "output_type": "stream",
     "text": [
      "L - 兰博基尼 done\n",
      "L - 雷诺 done\n",
      ">> L - 雷诺 - VE-RENTrafic - {'Vehicle': 'Trafic(塔菲克)-三江雷诺', 'ProductID': 'VE-RENTrafic', 'BrandType': '三江雷诺', 'Brand': 'L - 雷诺', 'Url': '/Images/Logo/leinuo.png', 'Src': 'https://img2.tuhu.org/Images/type/VE-RENTrafic.png@163w_163h_100Q.png', 'IsBaoYang': 'True', 'CarName': 'Trafic(塔菲克)', 'appSrc': None, 'Image': 'https://img2.tuhu.org/Images/type/VE-RENTrafic.png@100Q.png', 'ImageUrl': 'https://img2.tuhu.org/Images/Logo/LeiNuo.png', 'Tires': '205/70R15;235/35R19', 'SpecialTireSize': None, 'OriginalIsBaoyang': 1, 'Priority2': 3, 'Priority3': 1, 'VehicleSeries': None}\n"
     ]
    },
    {
     "name": "stderr",
     "output_type": "stream",
     "text": [
      "Traceback (most recent call last):\n",
      "  File \"<ipython-input-74-a1bbc79ad05d>\", line 60, in <module>\n",
      "    for pailiang in load_pailiang(vid):\n",
      "  File \"<ipython-input-74-a1bbc79ad05d>\", line 11, in load_pailiang\n",
      "    return requests.get(url, headers=headers).json()['PaiLiang']\n",
      "KeyError: 'PaiLiang'\n"
     ]
    },
    {
     "name": "stdout",
     "output_type": "stream",
     "text": [
      ">> L - 雷诺 - VE-VF1-VelSatis - {'Vehicle': 'Vel Satis(威赛帝)-雷诺进口', 'ProductID': 'VE-VF1-VelSatis', 'BrandType': '雷诺进口', 'Brand': 'L - 雷诺', 'Url': '/Images/Logo/leinuo.png', 'Src': 'https://img2.tuhu.org/Images/type/VE-VF1-VelSatis.png@163w_163h_100Q.png', 'IsBaoYang': 'True', 'CarName': 'Vel Satis(威赛帝)', 'appSrc': None, 'Image': 'https://img2.tuhu.org/Images/type/VE-VF1-VelSatis.png@100Q.png', 'ImageUrl': 'https://img2.tuhu.org/Images/Logo/LeiNuo.png', 'Tires': '225/55R17', 'SpecialTireSize': None, 'OriginalIsBaoyang': 1, 'Priority2': 1, 'Priority3': 1, 'VehicleSeries': None}\n",
      "L - 路特斯 done\n"
     ]
    },
    {
     "name": "stderr",
     "output_type": "stream",
     "text": [
      "Traceback (most recent call last):\n",
      "  File \"<ipython-input-74-a1bbc79ad05d>\", line 60, in <module>\n",
      "    for pailiang in load_pailiang(vid):\n",
      "  File \"<ipython-input-74-a1bbc79ad05d>\", line 11, in load_pailiang\n",
      "    return requests.get(url, headers=headers).json()['PaiLiang']\n",
      "KeyError: 'PaiLiang'\n"
     ]
    },
    {
     "name": "stdout",
     "output_type": "stream",
     "text": [
      ">> L - 路特斯 - VE-LLJJSLJJK - {'Vehicle': 'Esprit -宝腾汽车', 'ProductID': 'VE-LLJJSLJJK', 'BrandType': '宝腾汽车', 'Brand': 'L - 路特斯', 'Url': '/Images/Logo/lutesi.png', 'Src': 'https://img2.tuhu.org/Images/type/VE-LLJJSLJJK.png@163w_163h_100Q.png', 'IsBaoYang': 'True', 'CarName': 'Esprit ', 'appSrc': None, 'Image': 'https://img2.tuhu.org/Images/type/VE-LLJJSLJJK.png@100Q.png', 'ImageUrl': 'https://img2.tuhu.org/Images/Logo/LuTeSi.png', 'Tires': '195/60R15', 'SpecialTireSize': None, 'OriginalIsBaoyang': 1, 'Priority2': 1, 'Priority3': 4, 'VehicleSeries': None}\n"
     ]
    },
    {
     "name": "stderr",
     "output_type": "stream",
     "text": [
      "Traceback (most recent call last):\n",
      "  File \"<ipython-input-74-a1bbc79ad05d>\", line 60, in <module>\n",
      "    for pailiang in load_pailiang(vid):\n",
      "  File \"<ipython-input-74-a1bbc79ad05d>\", line 11, in load_pailiang\n",
      "    return requests.get(url, headers=headers).json()['PaiLiang']\n",
      "KeyError: 'PaiLiang'\n"
     ]
    },
    {
     "name": "stdout",
     "output_type": "stream",
     "text": [
      ">> L - 路特斯 - VE-LLJJYLJJK - {'Vehicle': 'Elite-宝腾汽车', 'ProductID': 'VE-LLJJYLJJK', 'BrandType': '宝腾汽车', 'Brand': 'L - 路特斯', 'Url': '/Images/Logo/lutesi.png', 'Src': 'https://img2.tuhu.org/Images/type/VE-LLJJYLJJK.png@163w_163h_100Q.png', 'IsBaoYang': 'True', 'CarName': 'Elite', 'appSrc': None, 'Image': 'https://img2.tuhu.org/Images/type/VE-LLJJYLJJK.png@100Q.png', 'ImageUrl': 'https://img2.tuhu.org/Images/Logo/LuTeSi.png', 'Tires': '195/60R15', 'SpecialTireSize': None, 'OriginalIsBaoyang': 1, 'Priority2': 1, 'Priority3': 3, 'VehicleSeries': None}\n",
      "L - 莲花 done\n",
      "L - 陆风 done\n",
      "L - 罗孚 done\n",
      ">> L - 罗孚 - VE-MG06AC - {'Vehicle': 'Rover75-罗孚进口', 'ProductID': 'VE-MG06AC', 'BrandType': '罗孚进口', 'Brand': 'L - 罗孚', 'Url': '/Images/Logo/luozuo.png', 'Src': 'https://img2.tuhu.org/Images/type/VE-MG06AC.png@163w_163h_100Q.png', 'IsBaoYang': 'True', 'CarName': 'Rover75', 'appSrc': None, 'Image': 'https://img2.tuhu.org/Images/type/VE-MG06AC.png@100Q.png', 'ImageUrl': 'https://img2.tuhu.org/Images/Logo/LuoZuo.png', 'Tires': '215/55R16', 'SpecialTireSize': None, 'OriginalIsBaoyang': 1, 'Priority2': 1, 'Priority3': 2, 'VehicleSeries': None}\n"
     ]
    },
    {
     "name": "stderr",
     "output_type": "stream",
     "text": [
      "Traceback (most recent call last):\n",
      "  File \"<ipython-input-74-a1bbc79ad05d>\", line 60, in <module>\n",
      "    for pailiang in load_pailiang(vid):\n",
      "  File \"<ipython-input-74-a1bbc79ad05d>\", line 11, in load_pailiang\n",
      "    return requests.get(url, headers=headers).json()['PaiLiang']\n",
      "KeyError: 'PaiLiang'\n",
      "Traceback (most recent call last):\n",
      "  File \"<ipython-input-74-a1bbc79ad05d>\", line 60, in <module>\n",
      "    for pailiang in load_pailiang(vid):\n",
      "  File \"<ipython-input-74-a1bbc79ad05d>\", line 11, in load_pailiang\n",
      "    return requests.get(url, headers=headers).json()['PaiLiang']\n",
      "KeyError: 'PaiLiang'\n"
     ]
    },
    {
     "name": "stdout",
     "output_type": "stream",
     "text": [
      ">> L - 罗孚 - VE-MG06AA - {'Vehicle': 'TF-罗孚进口', 'ProductID': 'VE-MG06AA', 'BrandType': '罗孚进口', 'Brand': 'L - 罗孚', 'Url': '/Images/Logo/luozuo.png', 'Src': 'https://img2.tuhu.org/Images/type/VE-MG06AA.png@163w_163h_100Q.png', 'IsBaoYang': 'True', 'CarName': 'TF', 'appSrc': None, 'Image': 'https://img2.tuhu.org/Images/type/VE-MG06AA.png@100Q.png', 'ImageUrl': 'https://img2.tuhu.org/Images/Logo/LuoZuo.png', 'Tires': '195/45R16;215/40R16', 'SpecialTireSize': None, 'OriginalIsBaoyang': 1, 'Priority2': 1, 'Priority3': 1, 'VehicleSeries': None}\n",
      "L - 劳伦士 done\n"
     ]
    },
    {
     "name": "stderr",
     "output_type": "stream",
     "text": [
      "Traceback (most recent call last):\n",
      "  File \"<ipython-input-74-a1bbc79ad05d>\", line 60, in <module>\n",
      "    for pailiang in load_pailiang(vid):\n",
      "  File \"<ipython-input-74-a1bbc79ad05d>\", line 11, in load_pailiang\n",
      "    return requests.get(url, headers=headers).json()['PaiLiang']\n",
      "KeyError: 'PaiLiang'\n"
     ]
    },
    {
     "name": "stdout",
     "output_type": "stream",
     "text": [
      ">> L - 劳伦士 - VE-LORINCLSclass - {'Vehicle': 'CLS级-劳伦士', 'ProductID': 'VE-LORINCLSclass', 'BrandType': '劳伦士', 'Brand': 'L - 劳伦士', 'Url': '/Images/Logo/laolunshi.png', 'Src': 'https://img2.tuhu.org/Images/type/VE-LORINCLSclass.png@163w_163h_100Q.png', 'IsBaoYang': 'True', 'CarName': 'CLS级', 'appSrc': None, 'Image': 'https://img2.tuhu.org/Images/type/VE-LORINCLSclass.png@100Q.png', 'ImageUrl': 'https://img2.tuhu.org/Images/Logo/LaoLunShi.png', 'Tires': '245/40R18;275/35R18', 'SpecialTireSize': None, 'OriginalIsBaoyang': 1, 'Priority2': 1, 'Priority3': 3, 'VehicleSeries': None}\n"
     ]
    },
    {
     "name": "stderr",
     "output_type": "stream",
     "text": [
      "Traceback (most recent call last):\n",
      "  File \"<ipython-input-74-a1bbc79ad05d>\", line 60, in <module>\n",
      "    for pailiang in load_pailiang(vid):\n",
      "  File \"<ipython-input-74-a1bbc79ad05d>\", line 11, in load_pailiang\n",
      "    return requests.get(url, headers=headers).json()['PaiLiang']\n",
      "KeyError: 'PaiLiang'\n"
     ]
    },
    {
     "name": "stdout",
     "output_type": "stream",
     "text": [
      ">> L - 劳伦士 - VE-LORINMLclass - {'Vehicle': 'ML级-劳伦士', 'ProductID': 'VE-LORINMLclass', 'BrandType': '劳伦士', 'Brand': 'L - 劳伦士', 'Url': '/Images/Logo/laolunshi.png', 'Src': 'https://img2.tuhu.org/Images/type/VE-LORINMLclass.png@163w_163h_100Q.png', 'IsBaoYang': 'True', 'CarName': 'ML级', 'appSrc': None, 'Image': 'https://img2.tuhu.org/Images/type/VE-LORINMLclass.png@100Q.png', 'ImageUrl': 'https://img2.tuhu.org/Images/Logo/LaoLunShi.png', 'Tires': '295/40R20', 'SpecialTireSize': None, 'OriginalIsBaoyang': 1, 'Priority2': 1, 'Priority3': 2, 'VehicleSeries': None}\n"
     ]
    },
    {
     "name": "stderr",
     "output_type": "stream",
     "text": [
      "Traceback (most recent call last):\n",
      "  File \"<ipython-input-74-a1bbc79ad05d>\", line 60, in <module>\n",
      "    for pailiang in load_pailiang(vid):\n",
      "  File \"<ipython-input-74-a1bbc79ad05d>\", line 11, in load_pailiang\n",
      "    return requests.get(url, headers=headers).json()['PaiLiang']\n",
      "KeyError: 'PaiLiang'\n"
     ]
    },
    {
     "name": "stdout",
     "output_type": "stream",
     "text": [
      ">> L - 劳伦士 - VE-LORINSclass - {'Vehicle': 'S级-劳伦士', 'ProductID': 'VE-LORINSclass', 'BrandType': '劳伦士', 'Brand': 'L - 劳伦士', 'Url': '/Images/Logo/laolunshi.png', 'Src': 'https://img4.tuhu.org/Images/type/VE-LORINSclass.png@163w_163h_100Q.png', 'IsBaoYang': 'True', 'CarName': 'S级', 'appSrc': None, 'Image': 'https://img4.tuhu.org/Images/type/VE-LORINSclass.png@100Q.png', 'ImageUrl': 'https://img2.tuhu.org/Images/Logo/LaoLunShi.png', 'Tires': '255/35R20', 'SpecialTireSize': None, 'OriginalIsBaoyang': 1, 'Priority2': 1, 'Priority3': 1, 'VehicleSeries': None}\n",
      "L - 陆地方舟 done\n"
     ]
    },
    {
     "name": "stderr",
     "output_type": "stream",
     "text": [
      "Traceback (most recent call last):\n",
      "  File \"<ipython-input-74-a1bbc79ad05d>\", line 60, in <module>\n",
      "    for pailiang in load_pailiang(vid):\n",
      "  File \"<ipython-input-74-a1bbc79ad05d>\", line 11, in load_pailiang\n",
      "    return requests.get(url, headers=headers).json()['PaiLiang']\n",
      "KeyError: 'PaiLiang'\n"
     ]
    },
    {
     "name": "stdout",
     "output_type": "stream",
     "text": [
      ">> L - 陆地方舟 - VE-GREENWEvion - {'Vehicle': '艾威-陆地方舟', 'ProductID': 'VE-GREENWEvion', 'BrandType': '陆地方舟', 'Brand': 'L - 陆地方舟', 'Url': '/Images/Logo/ludifangzhou.png', 'Src': 'https://img3.tuhu.org/Images/type/VE-GREENWEvion.png@163w_163h_100Q.png', 'IsBaoYang': 'True', 'CarName': '艾威', 'appSrc': None, 'Image': 'https://img3.tuhu.org/Images/type/VE-GREENWEvion.png@100Q.png', 'ImageUrl': 'https://img3.tuhu.org/Images/Logo/LuDiFangZhou.png', 'Tires': '165/65R13', 'SpecialTireSize': None, 'OriginalIsBaoyang': 1, 'Priority2': 1, 'Priority3': 3, 'VehicleSeries': None}\n"
     ]
    },
    {
     "name": "stderr",
     "output_type": "stream",
     "text": [
      "Traceback (most recent call last):\n",
      "  File \"<ipython-input-74-a1bbc79ad05d>\", line 60, in <module>\n",
      "    for pailiang in load_pailiang(vid):\n",
      "  File \"<ipython-input-74-a1bbc79ad05d>\", line 11, in load_pailiang\n",
      "    return requests.get(url, headers=headers).json()['PaiLiang']\n",
      "KeyError: 'PaiLiang'\n"
     ]
    },
    {
     "name": "stdout",
     "output_type": "stream",
     "text": [
      ">> L - 陆地方舟 - VE-GREENWJMA - {'Vehicle': '劲玛-陆地方舟', 'ProductID': 'VE-GREENWJMA', 'BrandType': '陆地方舟', 'Brand': 'L - 陆地方舟', 'Url': '/Images/Logo/ludifangzhou.png', 'Src': 'https://img3.tuhu.org/Images/type/VE-GREENWJMA.png@163w_163h_100Q.png', 'IsBaoYang': 'True', 'CarName': '劲玛', 'appSrc': None, 'Image': 'https://img3.tuhu.org/Images/type/VE-GREENWJMA.png@100Q.png', 'ImageUrl': 'https://img3.tuhu.org/Images/Logo/LuDiFangZhou.png', 'Tires': '195/60R14', 'SpecialTireSize': None, 'OriginalIsBaoyang': 1, 'Priority2': 1, 'Priority3': 2, 'VehicleSeries': None}\n"
     ]
    },
    {
     "name": "stderr",
     "output_type": "stream",
     "text": [
      "Traceback (most recent call last):\n",
      "  File \"<ipython-input-74-a1bbc79ad05d>\", line 60, in <module>\n",
      "    for pailiang in load_pailiang(vid):\n",
      "  File \"<ipython-input-74-a1bbc79ad05d>\", line 11, in load_pailiang\n",
      "    return requests.get(url, headers=headers).json()['PaiLiang']\n",
      "KeyError: 'PaiLiang'\n"
     ]
    },
    {
     "name": "stdout",
     "output_type": "stream",
     "text": [
      ">> L - 陆地方舟 - VE-GREENWFS - {'Vehicle': '风尚-陆地方舟', 'ProductID': 'VE-GREENWFS', 'BrandType': '陆地方舟', 'Brand': 'L - 陆地方舟', 'Url': '/Images/Logo/ludifangzhou.png', 'Src': 'https://img4.tuhu.org/Images/type/VE-GREENWFS.png@163w_163h_100Q.png', 'IsBaoYang': 'True', 'CarName': '风尚', 'appSrc': None, 'Image': 'https://img4.tuhu.org/Images/type/VE-GREENWFS.png@100Q.png', 'ImageUrl': 'https://img3.tuhu.org/Images/Logo/LuDiFangZhou.png', 'Tires': '195/65R15', 'SpecialTireSize': None, 'OriginalIsBaoyang': 1, 'Priority2': 1, 'Priority3': 1, 'VehicleSeries': None}\n",
      "L - 理念 done\n"
     ]
    },
    {
     "name": "stderr",
     "output_type": "stream",
     "text": [
      "Traceback (most recent call last):\n",
      "  File \"<ipython-input-74-a1bbc79ad05d>\", line 60, in <module>\n",
      "    for pailiang in load_pailiang(vid):\n",
      "  File \"<ipython-input-74-a1bbc79ad05d>\", line 11, in load_pailiang\n",
      "    return requests.get(url, headers=headers).json()['PaiLiang']\n",
      "KeyError: 'PaiLiang'\n"
     ]
    },
    {
     "name": "stdout",
     "output_type": "stream",
     "text": [
      "L - 领克 done\n",
      "L - 罗夫哈特 done\n",
      "L - 力帆 done\n",
      "L - 领途汽车 done\n",
      "L - 劳斯莱斯 done\n",
      "L - 雷克萨斯 done\n",
      ">> L - 雷克萨斯 - VE-JTH-ES330 - {'Vehicle': 'ES330-雷克萨斯', 'ProductID': 'VE-JTH-ES330', 'BrandType': '雷克萨斯', 'Brand': 'L - 雷克萨斯', 'Url': '/Images/Logo/leikesasi.png', 'Src': 'https://img3.tuhu.org/Images/type/VE-JTH-ES330.png@163w_163h_100Q.png', 'IsBaoYang': 'True', 'CarName': 'ES330', 'appSrc': None, 'Image': 'https://img3.tuhu.org/Images/type/VE-JTH-ES330.png@100Q.png', 'ImageUrl': 'https://img3.tuhu.org/Images/Logo/LeiKeSaSi.png', 'Tires': '215/60R16', 'SpecialTireSize': None, 'OriginalIsBaoyang': 1, 'Priority2': 1, 'Priority3': 46, 'VehicleSeries': None}\n"
     ]
    },
    {
     "name": "stderr",
     "output_type": "stream",
     "text": [
      "Traceback (most recent call last):\n",
      "  File \"<ipython-input-74-a1bbc79ad05d>\", line 60, in <module>\n",
      "    for pailiang in load_pailiang(vid):\n",
      "  File \"<ipython-input-74-a1bbc79ad05d>\", line 11, in load_pailiang\n",
      "    return requests.get(url, headers=headers).json()['PaiLiang']\n",
      "KeyError: 'PaiLiang'\n"
     ]
    },
    {
     "name": "stdout",
     "output_type": "stream",
     "text": [
      ">> L - 雷克萨斯 - VE-JTH-RX330 - {'Vehicle': 'RX330-雷克萨斯', 'ProductID': 'VE-JTH-RX330', 'BrandType': '雷克萨斯', 'Brand': 'L - 雷克萨斯', 'Url': '/Images/Logo/leikesasi.png', 'Src': 'https://img3.tuhu.org/Images/type/VE-JTH-RX330.png@163w_163h_100Q.png', 'IsBaoYang': 'True', 'CarName': 'RX330', 'appSrc': None, 'Image': 'https://img3.tuhu.org/Images/type/VE-JTH-RX330.png@100Q.png', 'ImageUrl': 'https://img3.tuhu.org/Images/Logo/LeiKeSaSi.png', 'Tires': '235/55R18', 'SpecialTireSize': None, 'OriginalIsBaoyang': 1, 'Priority2': 1, 'Priority3': 9, 'VehicleSeries': None}\n"
     ]
    },
    {
     "name": "stderr",
     "output_type": "stream",
     "text": [
      "Traceback (most recent call last):\n",
      "  File \"<ipython-input-74-a1bbc79ad05d>\", line 60, in <module>\n",
      "    for pailiang in load_pailiang(vid):\n",
      "  File \"<ipython-input-74-a1bbc79ad05d>\", line 11, in load_pailiang\n",
      "    return requests.get(url, headers=headers).json()['PaiLiang']\n",
      "KeyError: 'PaiLiang'\n"
     ]
    },
    {
     "name": "stdout",
     "output_type": "stream",
     "text": [
      "L - 林肯 done\n",
      ">> L - 林肯 - VE-LINCOLNLS - {'Vehicle': 'LS-福特汽车', 'ProductID': 'VE-LINCOLNLS', 'BrandType': '福特汽车', 'Brand': 'L - 林肯', 'Url': '/Images/Logo/linken.png', 'Src': 'https://img3.tuhu.org/Images/type/VE-LINCOLNLS.png@163w_163h_100Q.png', 'IsBaoYang': 'True', 'CarName': 'LS', 'appSrc': None, 'Image': 'https://img3.tuhu.org/Images/type/VE-LINCOLNLS.png@100Q.png', 'ImageUrl': 'https://img3.tuhu.org/Images/Logo/LinKen.png', 'Tires': '215/60R16;245/45R19', 'SpecialTireSize': None, 'OriginalIsBaoyang': 1, 'Priority2': 1, 'Priority3': 10, 'VehicleSeries': None}\n"
     ]
    },
    {
     "name": "stderr",
     "output_type": "stream",
     "text": [
      "Traceback (most recent call last):\n",
      "  File \"<ipython-input-74-a1bbc79ad05d>\", line 60, in <module>\n",
      "    for pailiang in load_pailiang(vid):\n",
      "  File \"<ipython-input-74-a1bbc79ad05d>\", line 11, in load_pailiang\n",
      "    return requests.get(url, headers=headers).json()['PaiLiang']\n",
      "KeyError: 'PaiLiang'\n"
     ]
    },
    {
     "name": "stdout",
     "output_type": "stream",
     "text": [
      ">> L - 林肯 - VE-FURDFIRMCS - {'Vehicle': '城市-福特汽车', 'ProductID': 'VE-FURDFIRMCS', 'BrandType': '福特汽车', 'Brand': 'L - 林肯', 'Url': '/Images/Logo/linken.png', 'Src': 'https://img4.tuhu.org/Images/type/VE-FURDFIRMCS.png@163w_163h_100Q.png', 'IsBaoYang': 'True', 'CarName': '城市', 'appSrc': None, 'Image': 'https://img4.tuhu.org/Images/type/VE-FURDFIRMCS.png@100Q.png', 'ImageUrl': 'https://img3.tuhu.org/Images/Logo/LinKen.png', 'Tires': '225/60R17;245/60R17', 'SpecialTireSize': None, 'OriginalIsBaoyang': 1, 'Priority2': 1, 'Priority3': 4, 'VehicleSeries': None}\n"
     ]
    },
    {
     "name": "stderr",
     "output_type": "stream",
     "text": [
      "Traceback (most recent call last):\n",
      "  File \"<ipython-input-74-a1bbc79ad05d>\", line 60, in <module>\n",
      "    for pailiang in load_pailiang(vid):\n",
      "  File \"<ipython-input-74-a1bbc79ad05d>\", line 11, in load_pailiang\n",
      "    return requests.get(url, headers=headers).json()['PaiLiang']\n",
      "KeyError: 'PaiLiang'\n"
     ]
    },
    {
     "name": "stdout",
     "output_type": "stream",
     "text": [
      "L - 零跑汽车 done\n",
      "L - 洛克汽车 done\n",
      "L - 理想 done\n",
      ">> L - 理想 - VE-ONE - {'Vehicle': '理想ONE-理想智造', 'ProductID': 'VE-ONE', 'BrandType': '理想智造', 'Brand': 'L - 理想', 'Url': '/Images/Logo/lixiang.png', 'Src': 'https://img3.tuhu.org/Images/type/VE-ONE.png@163w_163h_100Q.png', 'IsBaoYang': 'True', 'CarName': '理想ONE', 'appSrc': None, 'Image': 'https://img3.tuhu.org/Images/type/VE-ONE.png@100Q.png', 'ImageUrl': 'https://img3.tuhu.org/Images/Logo/LiXiang.png', 'Tires': '', 'SpecialTireSize': '', 'OriginalIsBaoyang': 1, 'Priority2': 1, 'Priority3': 1, 'VehicleSeries': None}\n",
      "L - 雷丁 done\n"
     ]
    },
    {
     "name": "stderr",
     "output_type": "stream",
     "text": [
      "Traceback (most recent call last):\n",
      "  File \"<ipython-input-74-a1bbc79ad05d>\", line 60, in <module>\n",
      "    for pailiang in load_pailiang(vid):\n",
      "  File \"<ipython-input-74-a1bbc79ad05d>\", line 11, in load_pailiang\n",
      "    return requests.get(url, headers=headers).json()['PaiLiang']\n",
      "KeyError: 'PaiLiang'\n"
     ]
    },
    {
     "name": "stdout",
     "output_type": "stream",
     "text": [
      "M - MINI done\n",
      "M - MG done\n",
      "M - 玛莎拉蒂 done\n",
      ">> M - 玛莎拉蒂 - VE-LSLDCoupe - {'Vehicle': 'Coupe-玛莎拉蒂', 'ProductID': 'VE-LSLDCoupe', 'BrandType': '玛莎拉蒂', 'Brand': 'M - 玛莎拉蒂', 'Url': '/Images/Logo/mashaladi.png', 'Src': 'https://img4.tuhu.org/Images/type/VE-LSLDCoupe.png@163w_163h_100Q.png', 'IsBaoYang': 'True', 'CarName': 'Coupe', 'appSrc': None, 'Image': 'https://img4.tuhu.org/Images/type/VE-LSLDCoupe.png@100Q.png', 'ImageUrl': 'https://img3.tuhu.org/Images/Logo/MaShaLaDi.png', 'Tires': '235/40R18;265/35R19', 'SpecialTireSize': None, 'OriginalIsBaoyang': 1, 'Priority2': 1, 'Priority3': 7, 'VehicleSeries': None}\n"
     ]
    },
    {
     "name": "stderr",
     "output_type": "stream",
     "text": [
      "Traceback (most recent call last):\n",
      "  File \"<ipython-input-74-a1bbc79ad05d>\", line 60, in <module>\n",
      "    for pailiang in load_pailiang(vid):\n",
      "  File \"<ipython-input-74-a1bbc79ad05d>\", line 11, in load_pailiang\n",
      "    return requests.get(url, headers=headers).json()['PaiLiang']\n",
      "KeyError: 'PaiLiang'\n"
     ]
    },
    {
     "name": "stdout",
     "output_type": "stream",
     "text": [
      ">> M - 玛莎拉蒂 - VE-MAS3200GT - {'Vehicle': '3200GT-玛莎拉蒂', 'ProductID': 'VE-MAS3200GT', 'BrandType': '玛莎拉蒂', 'Brand': 'M - 玛莎拉蒂', 'Url': '/Images/Logo/mashaladi.png', 'Src': 'https://img4.tuhu.org/Images/type/VE-MAS3200GT.png@163w_163h_100Q.png', 'IsBaoYang': 'True', 'CarName': '3200GT', 'appSrc': None, 'Image': 'https://img4.tuhu.org/Images/type/VE-MAS3200GT.png@100Q.png', 'ImageUrl': 'https://img3.tuhu.org/Images/Logo/MaShaLaDi.png', 'Tires': '195/65R15;205/55R16', 'SpecialTireSize': None, 'OriginalIsBaoyang': 1, 'Priority2': 1, 'Priority3': 5, 'VehicleSeries': None}\n"
     ]
    },
    {
     "name": "stderr",
     "output_type": "stream",
     "text": [
      "Traceback (most recent call last):\n",
      "  File \"<ipython-input-74-a1bbc79ad05d>\", line 60, in <module>\n",
      "    for pailiang in load_pailiang(vid):\n",
      "  File \"<ipython-input-74-a1bbc79ad05d>\", line 11, in load_pailiang\n",
      "    return requests.get(url, headers=headers).json()['PaiLiang']\n",
      "KeyError: 'PaiLiang'\n"
     ]
    },
    {
     "name": "stdout",
     "output_type": "stream",
     "text": [
      ">> M - 玛莎拉蒂 - VE-MASEGranSport - {'Vehicle': 'GranSport-玛莎拉蒂', 'ProductID': 'VE-MASEGranSport', 'BrandType': '玛莎拉蒂', 'Brand': 'M - 玛莎拉蒂', 'Url': '/Images/Logo/mashaladi.png', 'Src': 'https://img3.tuhu.org/Images/type/VE-MASEGranSport.png@163w_163h_100Q.png', 'IsBaoYang': 'True', 'CarName': 'GranSport', 'appSrc': None, 'Image': 'https://img3.tuhu.org/Images/type/VE-MASEGranSport.png@100Q.png', 'ImageUrl': 'https://img3.tuhu.org/Images/Logo/MaShaLaDi.png', 'Tires': '235/50R18;275/45R18;245/35R20;285/35R20', 'SpecialTireSize': None, 'OriginalIsBaoyang': 1, 'Priority2': 1, 'Priority3': 2, 'VehicleSeries': None}\n"
     ]
    },
    {
     "name": "stderr",
     "output_type": "stream",
     "text": [
      "Traceback (most recent call last):\n",
      "  File \"<ipython-input-74-a1bbc79ad05d>\", line 60, in <module>\n",
      "    for pailiang in load_pailiang(vid):\n",
      "  File \"<ipython-input-74-a1bbc79ad05d>\", line 11, in load_pailiang\n",
      "    return requests.get(url, headers=headers).json()['PaiLiang']\n",
      "KeyError: 'PaiLiang'\n"
     ]
    },
    {
     "name": "stdout",
     "output_type": "stream",
     "text": [
      "M - 迈巴赫 done\n",
      "M - 美亚 done\n",
      "M - 马自达 done\n",
      ">> M - 马自达 - VE-MAZD6Ruiyi - {'Vehicle': '睿翼-马自达进口', 'ProductID': 'VE-MAZD6Ruiyi', 'BrandType': '马自达进口', 'Brand': 'M - 马自达', 'Url': '/Images/Logo/mazida.png', 'Src': 'https://img3.tuhu.org/Images/type/VE-MAZD6Ruiyi.png@163w_163h_100Q.png', 'IsBaoYang': 'True', 'CarName': '睿翼', 'appSrc': None, 'Image': 'https://img3.tuhu.org/Images/type/VE-MAZD6Ruiyi.png@100Q.png', 'ImageUrl': 'https://img3.tuhu.org/Images/Logo/MaZiDa.png', 'Tires': '225/55R17;225/45R19;205/60R16', 'SpecialTireSize': None, 'OriginalIsBaoyang': 1, 'Priority2': 1, 'Priority3': 2, 'VehicleSeries': None}\n"
     ]
    },
    {
     "name": "stderr",
     "output_type": "stream",
     "text": [
      "Traceback (most recent call last):\n",
      "  File \"<ipython-input-74-a1bbc79ad05d>\", line 60, in <module>\n",
      "    for pailiang in load_pailiang(vid):\n",
      "  File \"<ipython-input-74-a1bbc79ad05d>\", line 11, in load_pailiang\n",
      "    return requests.get(url, headers=headers).json()['PaiLiang']\n",
      "KeyError: 'PaiLiang'\n"
     ]
    },
    {
     "name": "stdout",
     "output_type": "stream",
     "text": [
      "M - 迈凯伦 done\n",
      ">> M - 迈凯伦 - VE-McLaren675LT - {'Vehicle': '675LT-迈凯伦汽车', 'ProductID': 'VE-McLaren675LT', 'BrandType': '迈凯伦汽车', 'Brand': 'M - 迈凯伦', 'Url': '/Images/Logo/maikailun.png', 'Src': 'https://img3.tuhu.org/Images/type/VE-McLaren675LT.png@163w_163h_100Q.png', 'IsBaoYang': 'True', 'CarName': '675LT', 'appSrc': None, 'Image': 'https://img3.tuhu.org/Images/type/VE-McLaren675LT.png@100Q.png', 'ImageUrl': 'https://img3.tuhu.org/Images/Logo/MaiKaiLun.png', 'Tires': '235/35R19;305/30R20', 'SpecialTireSize': None, 'OriginalIsBaoyang': 1, 'Priority2': 1, 'Priority3': 4, 'VehicleSeries': None}\n"
     ]
    },
    {
     "name": "stderr",
     "output_type": "stream",
     "text": [
      "Traceback (most recent call last):\n",
      "  File \"<ipython-input-74-a1bbc79ad05d>\", line 60, in <module>\n",
      "    for pailiang in load_pailiang(vid):\n",
      "  File \"<ipython-input-74-a1bbc79ad05d>\", line 11, in load_pailiang\n",
      "    return requests.get(url, headers=headers).json()['PaiLiang']\n",
      "KeyError: 'PaiLiang'\n"
     ]
    },
    {
     "name": "stdout",
     "output_type": "stream",
     "text": [
      "N - 纳智捷 done\n",
      "N - 哪吒汽车 done\n",
      "O - 欧宝 done\n",
      ">> O - 欧宝 - VE-OPEL99AB - {'Vehicle': '欧美佳-通用汽车', 'ProductID': 'VE-OPEL99AB', 'BrandType': '通用汽车', 'Brand': 'O - 欧宝', 'Url': '/Images/Logo/oubao.png', 'Src': 'https://img4.tuhu.org/Images/type/VE-OPEL99AB.png@163w_163h_100Q.png', 'IsBaoYang': 'True', 'CarName': '欧美佳', 'appSrc': None, 'Image': 'https://img4.tuhu.org/Images/type/VE-OPEL99AB.png@100Q.png', 'ImageUrl': 'https://img3.tuhu.org/Images/Logo/OuBao.png', 'Tires': '235/45R17', 'SpecialTireSize': None, 'OriginalIsBaoyang': 1, 'Priority2': 1, 'Priority3': 6, 'VehicleSeries': None}\n"
     ]
    },
    {
     "name": "stderr",
     "output_type": "stream",
     "text": [
      "Traceback (most recent call last):\n",
      "  File \"<ipython-input-74-a1bbc79ad05d>\", line 60, in <module>\n",
      "    for pailiang in load_pailiang(vid):\n",
      "  File \"<ipython-input-74-a1bbc79ad05d>\", line 11, in load_pailiang\n",
      "    return requests.get(url, headers=headers).json()['PaiLiang']\n",
      "KeyError: 'PaiLiang'\n"
     ]
    },
    {
     "name": "stdout",
     "output_type": "stream",
     "text": [
      "O - 欧朗 done\n",
      "O - 讴歌 done\n",
      "O - 欧拉 done\n",
      "O - 欧尚汽车 done\n",
      "P - Polestar done\n",
      "P - 帕加尼 done\n",
      "Q - 奇瑞 done\n",
      ">> Q - 奇瑞 - VE-LVV-RUIHU7 - {'Vehicle': '瑞虎7-奇瑞汽车', 'ProductID': 'VE-LVV-RUIHU7', 'BrandType': '奇瑞汽车', 'Brand': 'Q - 奇瑞', 'Url': '/Images/Logo/qirui.png', 'Src': 'https://img4.tuhu.org/Images/type/VE-LVV-RUIHU7.png@163w_163h_100Q.png', 'IsBaoYang': 'True', 'CarName': '瑞虎7', 'appSrc': None, 'Image': 'https://img4.tuhu.org/Images/type/VE-LVV-RUIHU7.png@100Q.png', 'ImageUrl': 'https://img3.tuhu.org/Images/Logo/QiRui.png', 'Tires': '225/65R17;225/60R18;225/55R19', 'SpecialTireSize': None, 'OriginalIsBaoyang': 1, 'Priority2': 1, 'Priority3': 11, 'VehicleSeries': None}\n"
     ]
    },
    {
     "name": "stderr",
     "output_type": "stream",
     "text": [
      "Traceback (most recent call last):\n",
      "  File \"<ipython-input-74-a1bbc79ad05d>\", line 65, in <module>\n",
      "    gbk_fp.write(ij.encode('gbk'))\n",
      "UnicodeEncodeError: 'gbk' codec can't encode character '\\xa0' in position 48: illegal multibyte sequence\n"
     ]
    },
    {
     "name": "stdout",
     "output_type": "stream",
     "text": [
      "Q - 起亚 done\n",
      "Q - 庆铃 done\n",
      "Q - 启腾 done\n",
      "Q - 乔治·巴顿 done\n",
      "Q - 前途汽车 done\n",
      "Q - 启辰 done\n",
      "R - 日产 done\n",
      ">> R - 日产 - VE-NISS03AD - {'Vehicle': '蓝鸟-日产进口', 'ProductID': 'VE-NISS03AD', 'BrandType': '日产进口', 'Brand': 'R - 日产', 'Url': '/Images/Logo/richan.png', 'Src': 'https://img3.tuhu.org/Images/type/VE-NISS03AD.png@163w_163h_100Q.png', 'IsBaoYang': 'True', 'CarName': '蓝鸟', 'appSrc': None, 'Image': 'https://img3.tuhu.org/Images/type/VE-NISS03AD.png@100Q.png', 'ImageUrl': 'https://img3.tuhu.org/Images/Logo/RiChan.png', 'Tires': '205/60R15', 'SpecialTireSize': None, 'OriginalIsBaoyang': 1, 'Priority2': 1, 'Priority3': 6, 'VehicleSeries': None}\n"
     ]
    },
    {
     "name": "stderr",
     "output_type": "stream",
     "text": [
      "Traceback (most recent call last):\n",
      "  File \"<ipython-input-74-a1bbc79ad05d>\", line 60, in <module>\n",
      "    for pailiang in load_pailiang(vid):\n",
      "  File \"<ipython-input-74-a1bbc79ad05d>\", line 11, in load_pailiang\n",
      "    return requests.get(url, headers=headers).json()['PaiLiang']\n",
      "KeyError: 'PaiLiang'\n"
     ]
    },
    {
     "name": "stdout",
     "output_type": "stream",
     "text": [
      ">> R - 日产 - VE-NISS07AF - {'Vehicle': '西玛-日产进口', 'ProductID': 'VE-NISS07AF', 'BrandType': '日产进口', 'Brand': 'R - 日产', 'Url': '/Images/Logo/richan.png', 'Src': 'https://img4.tuhu.org/Images/type/VE-NISS07AF.png@163w_163h_100Q.png', 'IsBaoYang': 'True', 'CarName': '西玛', 'appSrc': None, 'Image': 'https://img4.tuhu.org/Images/type/VE-NISS07AF.png@100Q.png', 'ImageUrl': 'https://img3.tuhu.org/Images/Logo/RiChan.png', 'Tires': '255/55R17;245/45R18', 'SpecialTireSize': None, 'OriginalIsBaoyang': 1, 'Priority2': 1, 'Priority3': 4, 'VehicleSeries': None}\n"
     ]
    },
    {
     "name": "stderr",
     "output_type": "stream",
     "text": [
      "Traceback (most recent call last):\n",
      "  File \"<ipython-input-74-a1bbc79ad05d>\", line 60, in <module>\n",
      "    for pailiang in load_pailiang(vid):\n",
      "  File \"<ipython-input-74-a1bbc79ad05d>\", line 11, in load_pailiang\n",
      "    return requests.get(url, headers=headers).json()['PaiLiang']\n",
      "KeyError: 'PaiLiang'\n"
     ]
    },
    {
     "name": "stdout",
     "output_type": "stream",
     "text": [
      "R - 瑞麒 done\n",
      "R - RUF done\n",
      "R - 荣威 done\n",
      "S - Smart done\n",
      "S - 思铭 done\n",
      "S - 斯巴鲁 done\n",
      "S - 萨博 done\n",
      ">> S - 萨博 - VE-SAAB9000 - {'Vehicle': '9000-通用汽车', 'ProductID': 'VE-SAAB9000', 'BrandType': '通用汽车', 'Brand': 'S - 萨博', 'Url': '/Images/Logo/sabo.png', 'Src': 'https://img3.tuhu.org/Images/type/VE-SAAB9000.png@163w_163h_100Q.png', 'IsBaoYang': 'True', 'CarName': '9000', 'appSrc': None, 'Image': 'https://img3.tuhu.org/Images/type/VE-SAAB9000.png@100Q.png', 'ImageUrl': 'https://img3.tuhu.org/Images/Logo/SaBo.png', 'Tires': '185/55R15;195/55R15', 'SpecialTireSize': None, 'OriginalIsBaoyang': 1, 'Priority2': 1, 'Priority3': 1, 'VehicleSeries': None}\n",
      "S - 赛宝 done\n"
     ]
    },
    {
     "name": "stderr",
     "output_type": "stream",
     "text": [
      "Traceback (most recent call last):\n",
      "  File \"<ipython-input-74-a1bbc79ad05d>\", line 60, in <module>\n",
      "    for pailiang in load_pailiang(vid):\n",
      "  File \"<ipython-input-74-a1bbc79ad05d>\", line 11, in load_pailiang\n",
      "    return requests.get(url, headers=headers).json()['PaiLiang']\n",
      "KeyError: 'PaiLiang'\n"
     ]
    },
    {
     "name": "stdout",
     "output_type": "stream",
     "text": [
      "S - 双环 done\n",
      "S - 双龙 done\n",
      "S - 世爵 done\n",
      "S - 陕汽通家 done\n",
      "S - 斯威汽车 done\n",
      "S - 三菱 done\n",
      "S - 斯柯达 done\n",
      ">> S - 斯柯达 - VE-SKOD06AH - {'Vehicle': 'Fabia-斯柯达进口', 'ProductID': 'VE-SKOD06AH', 'BrandType': '斯柯达进口', 'Brand': 'S - 斯柯达', 'Url': '/Images/Logo/sikeda.png', 'Src': 'https://img2.tuhu.org/Images/type/VE-SKOD06AH.png@163w_163h_100Q.png', 'IsBaoYang': 'True', 'CarName': 'Fabia', 'appSrc': None, 'Image': 'https://img2.tuhu.org/Images/type/VE-SKOD06AH.png@100Q.png', 'ImageUrl': 'https://img2.tuhu.org/Images/Logo/SiKeDa.png', 'Tires': '185/60R14', 'SpecialTireSize': None, 'OriginalIsBaoyang': 1, 'Priority2': 1, 'Priority3': 4, 'VehicleSeries': None}\n"
     ]
    },
    {
     "name": "stderr",
     "output_type": "stream",
     "text": [
      "Traceback (most recent call last):\n",
      "  File \"<ipython-input-74-a1bbc79ad05d>\", line 60, in <module>\n",
      "    for pailiang in load_pailiang(vid):\n",
      "  File \"<ipython-input-74-a1bbc79ad05d>\", line 11, in load_pailiang\n",
      "    return requests.get(url, headers=headers).json()['PaiLiang']\n",
      "KeyError: 'PaiLiang'\n"
     ]
    },
    {
     "name": "stdout",
     "output_type": "stream",
     "text": [
      "S - 绅宝 done\n",
      "T - 天马 done\n",
      ">> T - 天马 - VE-TIANMAYXIONG - {'Vehicle': '英雄-天马汽车', 'ProductID': 'VE-TIANMAYXIONG', 'BrandType': '天马汽车', 'Brand': 'T - 天马', 'Url': '/Images/Logo/tianma.png', 'Src': 'https://img2.tuhu.org/Images/type/VE-TIANMAYXIONG.png@163w_163h_100Q.png', 'IsBaoYang': 'True', 'CarName': '英雄', 'appSrc': None, 'Image': 'https://img2.tuhu.org/Images/type/VE-TIANMAYXIONG.png@100Q.png', 'ImageUrl': 'https://img2.tuhu.org/Images/Logo/TianMa.png', 'Tires': '245/70R16', 'SpecialTireSize': None, 'OriginalIsBaoyang': 1, 'Priority2': 1, 'Priority3': 1, 'VehicleSeries': None}\n",
      "T - 通田 done\n"
     ]
    },
    {
     "name": "stderr",
     "output_type": "stream",
     "text": [
      "Traceback (most recent call last):\n",
      "  File \"<ipython-input-74-a1bbc79ad05d>\", line 60, in <module>\n",
      "    for pailiang in load_pailiang(vid):\n",
      "  File \"<ipython-input-74-a1bbc79ad05d>\", line 11, in load_pailiang\n",
      "    return requests.get(url, headers=headers).json()['PaiLiang']\n",
      "KeyError: 'PaiLiang'\n"
     ]
    },
    {
     "name": "stdout",
     "output_type": "stream",
     "text": [
      "T - 腾势 done\n",
      "T - 天津一汽 done\n",
      ">> T - 天津一汽 - VE-LFP-A+SX - {'Vehicle': '夏利A+(三厢)-天津一汽夏利', 'ProductID': 'VE-LFP-A+SX', 'BrandType': '天津一汽夏利', 'Brand': 'T - 天津一汽', 'Url': '/Images/Logo/tianjinyiqi.png', 'Src': 'https://img2.tuhu.org/Images/type/VE-LFP-A+SX.png@163w_163h_100Q.png', 'IsBaoYang': 'True', 'CarName': '夏利A+(三厢)', 'appSrc': None, 'Image': 'https://img2.tuhu.org/Images/type/VE-LFP-A+SX.png@100Q.png', 'ImageUrl': 'https://img2.tuhu.org/Images/Logo/TianJinYiQi.png', 'Tires': '165/70R13', 'SpecialTireSize': None, 'OriginalIsBaoyang': 1, 'Priority2': 1, 'Priority3': 19, 'VehicleSeries': None}\n"
     ]
    },
    {
     "name": "stderr",
     "output_type": "stream",
     "text": [
      "Traceback (most recent call last):\n",
      "  File \"<ipython-input-74-a1bbc79ad05d>\", line 60, in <module>\n",
      "    for pailiang in load_pailiang(vid):\n",
      "  File \"<ipython-input-74-a1bbc79ad05d>\", line 11, in load_pailiang\n",
      "    return requests.get(url, headers=headers).json()['PaiLiang']\n",
      "KeyError: 'PaiLiang'\n"
     ]
    },
    {
     "name": "stdout",
     "output_type": "stream",
     "text": [
      "T - 特斯拉 done\n",
      ">> T - 特斯拉 - VE-TSLLFIOWX - {'Vehicle': 'Model X-特斯拉汽车', 'ProductID': 'VE-TSLLFIOWX', 'BrandType': '特斯拉汽车', 'Brand': 'T - 特斯拉', 'Url': '/Images/Logo/tesila.png', 'Src': 'https://img2.tuhu.org/Images/type/VE-TSLLFIOWX.png@163w_163h_100Q.png', 'IsBaoYang': 'True', 'CarName': 'Model X', 'appSrc': None, 'Image': 'https://img2.tuhu.org/Images/type/VE-TSLLFIOWX.png@100Q.png', 'ImageUrl': 'https://img2.tuhu.org/Images/Logo/TeSiLa.png', 'Tires': '255/45R20;275/45R20;265/35R22;285/35R22', 'SpecialTireSize': None, 'OriginalIsBaoyang': 1, 'Priority2': 1, 'Priority3': 2, 'VehicleSeries': None}\n"
     ]
    },
    {
     "name": "stderr",
     "output_type": "stream",
     "text": [
      "Traceback (most recent call last):\n",
      "  File \"<ipython-input-74-a1bbc79ad05d>\", line 65, in <module>\n",
      "    gbk_fp.write(ij.encode('gbk'))\n",
      "UnicodeEncodeError: 'gbk' codec can't encode character '\\xa0' in position 51: illegal multibyte sequence\n"
     ]
    },
    {
     "name": "stdout",
     "output_type": "stream",
     "text": [
      "W - 万丰 done\n",
      "W - 威麟 done\n",
      "W - 沃尔沃 done\n",
      ">> W - 沃尔沃 - VE-XC70WEWJK - {'Vehicle': 'XC70-沃尔沃进口', 'ProductID': 'VE-XC70WEWJK', 'BrandType': '沃尔沃进口', 'Brand': 'W - 沃尔沃', 'Url': '/Images/Logo/woerwo.png', 'Src': 'https://img2.tuhu.org/Images/type/VE-XC70WEWJK.png@163w_163h_100Q.png', 'IsBaoYang': 'True', 'CarName': 'XC70', 'appSrc': None, 'Image': 'https://img2.tuhu.org/Images/type/VE-XC70WEWJK.png@100Q.png', 'ImageUrl': 'https://img2.tuhu.org/Images/Logo/WoErWo.png', 'Tires': '215/65R16', 'SpecialTireSize': None, 'OriginalIsBaoyang': 1, 'Priority2': 1, 'Priority3': 7, 'VehicleSeries': None}\n"
     ]
    },
    {
     "name": "stderr",
     "output_type": "stream",
     "text": [
      "Traceback (most recent call last):\n",
      "  File \"<ipython-input-74-a1bbc79ad05d>\", line 60, in <module>\n",
      "    for pailiang in load_pailiang(vid):\n",
      "  File \"<ipython-input-74-a1bbc79ad05d>\", line 11, in load_pailiang\n",
      "    return requests.get(url, headers=headers).json()['PaiLiang']\n",
      "KeyError: 'PaiLiang'\n"
     ]
    },
    {
     "name": "stdout",
     "output_type": "stream",
     "text": [
      ">> W - 沃尔沃 - VE-VOLVEV70 - {'Vehicle': 'V70-沃尔沃进口', 'ProductID': 'VE-VOLVEV70', 'BrandType': '沃尔沃进口', 'Brand': 'W - 沃尔沃', 'Url': '/Images/Logo/woerwo.png', 'Src': 'https://img2.tuhu.org/Images/type/VE-VOLVEV70.png@163w_163h_100Q.png', 'IsBaoYang': 'True', 'CarName': 'V70', 'appSrc': None, 'Image': 'https://img2.tuhu.org/Images/type/VE-VOLVEV70.png@100Q.png', 'ImageUrl': 'https://img2.tuhu.org/Images/Logo/WoErWo.png', 'Tires': '225/55R16', 'SpecialTireSize': None, 'OriginalIsBaoyang': 1, 'Priority2': 1, 'Priority3': 3, 'VehicleSeries': None}\n"
     ]
    },
    {
     "name": "stderr",
     "output_type": "stream",
     "text": [
      "Traceback (most recent call last):\n",
      "  File \"<ipython-input-74-a1bbc79ad05d>\", line 60, in <module>\n",
      "    for pailiang in load_pailiang(vid):\n",
      "  File \"<ipython-input-74-a1bbc79ad05d>\", line 11, in load_pailiang\n",
      "    return requests.get(url, headers=headers).json()['PaiLiang']\n",
      "KeyError: 'PaiLiang'\n"
     ]
    },
    {
     "name": "stdout",
     "output_type": "stream",
     "text": [
      ">> W - 沃尔沃 - VE-VOLVE850 - {'Vehicle': '850-沃尔沃进口', 'ProductID': 'VE-VOLVE850', 'BrandType': '沃尔沃进口', 'Brand': 'W - 沃尔沃', 'Url': '/Images/Logo/woerwo.png', 'Src': 'https://img4.tuhu.org/Images/type/VE-VOLVE850.png@163w_163h_100Q.png', 'IsBaoYang': 'True', 'CarName': '850', 'appSrc': None, 'Image': 'https://img4.tuhu.org/Images/type/VE-VOLVE850.png@100Q.png', 'ImageUrl': 'https://img2.tuhu.org/Images/Logo/WoErWo.png', 'Tires': '205/50R16', 'SpecialTireSize': None, 'OriginalIsBaoyang': 1, 'Priority2': 1, 'Priority3': 1, 'VehicleSeries': None}\n",
      "W - 五菱 done\n",
      ">> W - 五菱 - VE-WULI05AC - {'Vehicle': '都市清风-上汽通用五菱', 'ProductID': 'VE-WULI05AC', 'BrandType': '上汽通用五菱', 'Brand': 'W - 五菱', 'Url': '/Images/Logo/wuling.png', 'Src': 'https://img2.tuhu.org/Images/type/VE-WULI05AC.png@163w_163h_100Q.png', 'IsBaoYang': 'True', 'CarName': '都市清风', 'appSrc': None, 'Image': 'https://img2.tuhu.org/Images/type/VE-WULI05AC.png@100Q.png', 'ImageUrl': 'https://img2.tuhu.org/Images/Logo/WuLing.png', 'Tires': '175/70R13', 'SpecialTireSize': None, 'OriginalIsBaoyang': 1, 'Priority2': 1, 'Priority3': 19, 'VehicleSeries': None}\n"
     ]
    },
    {
     "name": "stderr",
     "output_type": "stream",
     "text": [
      "Traceback (most recent call last):\n",
      "  File \"<ipython-input-74-a1bbc79ad05d>\", line 60, in <module>\n",
      "    for pailiang in load_pailiang(vid):\n",
      "  File \"<ipython-input-74-a1bbc79ad05d>\", line 11, in load_pailiang\n",
      "    return requests.get(url, headers=headers).json()['PaiLiang']\n",
      "KeyError: 'PaiLiang'\n",
      "Traceback (most recent call last):\n",
      "  File \"<ipython-input-74-a1bbc79ad05d>\", line 60, in <module>\n",
      "    for pailiang in load_pailiang(vid):\n",
      "  File \"<ipython-input-74-a1bbc79ad05d>\", line 11, in load_pailiang\n",
      "    return requests.get(url, headers=headers).json()['PaiLiang']\n",
      "KeyError: 'PaiLiang'\n"
     ]
    },
    {
     "name": "stdout",
     "output_type": "stream",
     "text": [
      "W - 威旺 done\n",
      "W - 威兹曼 done\n",
      "W - 五十铃 done\n",
      "W - WEY done\n",
      "W - 威马 done\n",
      "W - 蔚来 done\n",
      "X - 新雅途 done\n",
      "X - 厦门金龙 done\n",
      "X - 雪佛兰 done\n",
      ">> X - 雪佛兰 - VE-CHVJ05AA - {'Vehicle': 'S10皮卡-金杯通用', 'ProductID': 'VE-CHVJ05AA', 'BrandType': '金杯通用', 'Brand': 'X - 雪佛兰', 'Url': '/Images/Logo/xuefolan.png', 'Src': 'https://img3.tuhu.org/Images/type/VE-CHVJ05AA.png@163w_163h_100Q.png', 'IsBaoYang': 'True', 'CarName': 'S10皮卡', 'appSrc': None, 'Image': 'https://img3.tuhu.org/Images/type/VE-CHVJ05AA.png@100Q.png', 'ImageUrl': 'https://img3.tuhu.org/Images/Logo/XueFoLan.png', 'Tires': '225/75R15', 'SpecialTireSize': None, 'OriginalIsBaoyang': 1, 'Priority2': 3, 'Priority3': 2, 'VehicleSeries': None}\n"
     ]
    },
    {
     "name": "stderr",
     "output_type": "stream",
     "text": [
      "Traceback (most recent call last):\n",
      "  File \"<ipython-input-74-a1bbc79ad05d>\", line 60, in <module>\n",
      "    for pailiang in load_pailiang(vid):\n",
      "  File \"<ipython-input-74-a1bbc79ad05d>\", line 11, in load_pailiang\n",
      "    return requests.get(url, headers=headers).json()['PaiLiang']\n",
      "KeyError: 'PaiLiang'\n"
     ]
    },
    {
     "name": "stdout",
     "output_type": "stream",
     "text": [
      ">> X - 雪佛兰 - VE-SPRINGO - {'Vehicle': '赛欧SPRINGO-上海通用', 'ProductID': 'VE-SPRINGO', 'BrandType': '上海通用', 'Brand': 'X - 雪佛兰', 'Url': '/Images/Logo/xuefolan.png', 'Src': 'https://img3.tuhu.org/Images/type/VE-SPRINGO.png@163w_163h_100Q.png', 'IsBaoYang': 'True', 'CarName': '赛欧SPRINGO', 'appSrc': None, 'Image': 'https://img3.tuhu.org/Images/type/VE-SPRINGO.png@100Q.png', 'ImageUrl': 'https://img3.tuhu.org/Images/Logo/XueFoLan.png', 'Tires': '155/60R15;175/55R15;195/50R15;185/55R15;195/55R15;175/70R14', 'SpecialTireSize': None, 'OriginalIsBaoyang': 1, 'Priority2': 2, 'Priority3': 5, 'VehicleSeries': None}\n"
     ]
    },
    {
     "name": "stderr",
     "output_type": "stream",
     "text": [
      "Traceback (most recent call last):\n",
      "  File \"<ipython-input-74-a1bbc79ad05d>\", line 60, in <module>\n",
      "    for pailiang in load_pailiang(vid):\n",
      "  File \"<ipython-input-74-a1bbc79ad05d>\", line 11, in load_pailiang\n",
      "    return requests.get(url, headers=headers).json()['PaiLiang']\n",
      "KeyError: 'PaiLiang'\n"
     ]
    },
    {
     "name": "stdout",
     "output_type": "stream",
     "text": [
      ">> X - 雪佛兰 - VE-CHVCorvette - {'Vehicle': '克尔维特-雪佛兰进口', 'ProductID': 'VE-CHVCorvette', 'BrandType': '雪佛兰进口', 'Brand': 'X - 雪佛兰', 'Url': '/Images/Logo/xuefolan.png', 'Src': 'https://img3.tuhu.org/Images/type/VE-CHVCorvette.png@163w_163h_100Q.png', 'IsBaoYang': 'True', 'CarName': '克尔维特', 'appSrc': None, 'Image': 'https://img3.tuhu.org/Images/type/VE-CHVCorvette.png@100Q.png', 'ImageUrl': 'https://img3.tuhu.org/Images/Logo/XueFoLan.png', 'Tires': '245/40R18;285/35R19', 'SpecialTireSize': None, 'OriginalIsBaoyang': 1, 'Priority2': 1, 'Priority3': 5, 'VehicleSeries': None}\n"
     ]
    },
    {
     "name": "stderr",
     "output_type": "stream",
     "text": [
      "Traceback (most recent call last):\n",
      "  File \"<ipython-input-74-a1bbc79ad05d>\", line 60, in <module>\n",
      "    for pailiang in load_pailiang(vid):\n",
      "  File \"<ipython-input-74-a1bbc79ad05d>\", line 11, in load_pailiang\n",
      "    return requests.get(url, headers=headers).json()['PaiLiang']\n",
      "KeyError: 'PaiLiang'\n"
     ]
    },
    {
     "name": "stdout",
     "output_type": "stream",
     "text": [
      ">> X - 雪佛兰 - VE-CHVExpress - {'Vehicle': 'Express-雪佛兰进口', 'ProductID': 'VE-CHVExpress', 'BrandType': '雪佛兰进口', 'Brand': 'X - 雪佛兰', 'Url': '/Images/Logo/xuefolan.png', 'Src': 'https://img4.tuhu.org/Images/type/VE-CHVExpress.png@163w_163h_100Q.png', 'IsBaoYang': 'True', 'CarName': 'Express', 'appSrc': None, 'Image': 'https://img4.tuhu.org/Images/type/VE-CHVExpress.png@100Q.png', 'ImageUrl': 'https://img3.tuhu.org/Images/Logo/XueFoLan.png', 'Tires': '235/75R16;245/75R16', 'SpecialTireSize': None, 'OriginalIsBaoyang': 1, 'Priority2': 1, 'Priority3': 4, 'VehicleSeries': None}\n"
     ]
    },
    {
     "name": "stderr",
     "output_type": "stream",
     "text": [
      "Traceback (most recent call last):\n",
      "  File \"<ipython-input-74-a1bbc79ad05d>\", line 60, in <module>\n",
      "    for pailiang in load_pailiang(vid):\n",
      "  File \"<ipython-input-74-a1bbc79ad05d>\", line 11, in load_pailiang\n",
      "    return requests.get(url, headers=headers).json()['PaiLiang']\n",
      "KeyError: 'PaiLiang'\n"
     ]
    },
    {
     "name": "stdout",
     "output_type": "stream",
     "text": [
      ">> X - 雪佛兰 - VE-CHVImpala - {'Vehicle': '英帕拉-雪佛兰进口', 'ProductID': 'VE-CHVImpala', 'BrandType': '雪佛兰进口', 'Brand': 'X - 雪佛兰', 'Url': '/Images/Logo/xuefolan.png', 'Src': 'https://img4.tuhu.org/Images/type/VE-CHVImpala.png@163w_163h_100Q.png', 'IsBaoYang': 'True', 'CarName': '英帕拉', 'appSrc': None, 'Image': 'https://img4.tuhu.org/Images/type/VE-CHVImpala.png@100Q.png', 'ImageUrl': 'https://img3.tuhu.org/Images/Logo/XueFoLan.png', 'Tires': '235/50R18;245/45R19;245/40R20', 'SpecialTireSize': None, 'OriginalIsBaoyang': 1, 'Priority2': 1, 'Priority3': 3, 'VehicleSeries': None}\n"
     ]
    },
    {
     "name": "stderr",
     "output_type": "stream",
     "text": [
      "Traceback (most recent call last):\n",
      "  File \"<ipython-input-74-a1bbc79ad05d>\", line 60, in <module>\n",
      "    for pailiang in load_pailiang(vid):\n",
      "  File \"<ipython-input-74-a1bbc79ad05d>\", line 11, in load_pailiang\n",
      "    return requests.get(url, headers=headers).json()['PaiLiang']\n",
      "KeyError: 'PaiLiang'\n"
     ]
    },
    {
     "name": "stdout",
     "output_type": "stream",
     "text": [
      "X - 雪铁龙 done\n",
      "X - 西雅特 done\n",
      "X - 新凯 done\n",
      "X - 新特汽车 done\n",
      "X - 现代 done\n",
      ">> X - 现代 - VE-HYUNWCHAO - {'Vehicle': '王朝-现代进口', 'ProductID': 'VE-HYUNWCHAO', 'BrandType': '现代进口', 'Brand': 'X - 现代', 'Url': '/Images/Logo/xiandai.png', 'Src': 'https://img3.tuhu.org/Images/type/VE-HYUNWCHAO.png@163w_163h_100Q.png', 'IsBaoYang': 'True', 'CarName': '王朝', 'appSrc': None, 'Image': 'https://img3.tuhu.org/Images/type/VE-HYUNWCHAO.png@100Q.png', 'ImageUrl': 'https://img3.tuhu.org/Images/Logo/XianDai.png', 'Tires': '215/65R15', 'SpecialTireSize': None, 'OriginalIsBaoyang': 1, 'Priority2': 1, 'Priority3': 8, 'VehicleSeries': None}\n"
     ]
    },
    {
     "name": "stderr",
     "output_type": "stream",
     "text": [
      "Traceback (most recent call last):\n",
      "  File \"<ipython-input-74-a1bbc79ad05d>\", line 60, in <module>\n",
      "    for pailiang in load_pailiang(vid):\n",
      "  File \"<ipython-input-74-a1bbc79ad05d>\", line 11, in load_pailiang\n",
      "    return requests.get(url, headers=headers).json()['PaiLiang']\n",
      "KeyError: 'PaiLiang'\n"
     ]
    },
    {
     "name": "stdout",
     "output_type": "stream",
     "text": [
      ">> X - 现代 - VE-HYUNGrandeur - {'Vehicle': '君爵-现代进口', 'ProductID': 'VE-HYUNGrandeur', 'BrandType': '现代进口', 'Brand': 'X - 现代', 'Url': '/Images/Logo/xiandai.png', 'Src': 'https://img3.tuhu.org/Images/type/VE-HYUNGrandeur.png@163w_163h_100Q.png', 'IsBaoYang': 'True', 'CarName': '君爵', 'appSrc': None, 'Image': 'https://img3.tuhu.org/Images/type/VE-HYUNGrandeur.png@100Q.png', 'ImageUrl': 'https://img3.tuhu.org/Images/Logo/XianDai.png', 'Tires': '205/65R15;205/60R16;205/60R15', 'SpecialTireSize': None, 'OriginalIsBaoyang': 1, 'Priority2': 1, 'Priority3': 6, 'VehicleSeries': None}\n"
     ]
    },
    {
     "name": "stderr",
     "output_type": "stream",
     "text": [
      "Traceback (most recent call last):\n",
      "  File \"<ipython-input-74-a1bbc79ad05d>\", line 60, in <module>\n",
      "    for pailiang in load_pailiang(vid):\n",
      "  File \"<ipython-input-74-a1bbc79ad05d>\", line 11, in load_pailiang\n",
      "    return requests.get(url, headers=headers).json()['PaiLiang']\n",
      "KeyError: 'PaiLiang'\n"
     ]
    },
    {
     "name": "stdout",
     "output_type": "stream",
     "text": [
      "X - 小鹏汽车 done\n",
      "X - 星途 done\n",
      "Y - 英菲尼迪 done\n",
      ">> Y - 英菲尼迪 - VE-INFIQ45 - {'Vehicle': 'Q45-日产汽车', 'ProductID': 'VE-INFIQ45', 'BrandType': '日产汽车', 'Brand': 'Y - 英菲尼迪', 'Url': '/Images/Logo/yingfeinidi.png', 'Src': 'https://img3.tuhu.org/Images/type/VE-INFIQ45.png@163w_163h_100Q.png', 'IsBaoYang': 'True', 'CarName': 'Q45', 'appSrc': None, 'Image': 'https://img3.tuhu.org/Images/type/VE-INFIQ45.png@100Q.png', 'ImageUrl': 'https://img3.tuhu.org/Images/Logo/YingFeiNiDi.png', 'Tires': '225/60R16', 'SpecialTireSize': None, 'OriginalIsBaoyang': 1, 'Priority2': 1, 'Priority3': 11, 'VehicleSeries': None}\n"
     ]
    },
    {
     "name": "stderr",
     "output_type": "stream",
     "text": [
      "Traceback (most recent call last):\n",
      "  File \"<ipython-input-74-a1bbc79ad05d>\", line 60, in <module>\n",
      "    for pailiang in load_pailiang(vid):\n",
      "  File \"<ipython-input-74-a1bbc79ad05d>\", line 11, in load_pailiang\n",
      "    return requests.get(url, headers=headers).json()['PaiLiang']\n",
      "KeyError: 'PaiLiang'\n"
     ]
    },
    {
     "name": "stdout",
     "output_type": "stream",
     "text": [
      "Y - 永源 done\n",
      "Y - 云雀 done\n",
      "Y - 一汽吉林 done\n",
      "Y - 一汽华利 done\n",
      "Y - 依维柯 done\n",
      "Y - 一汽通用 done\n",
      ">> Y - 一汽通用 - VE-YIQIGMZYF - {'Vehicle': '自由风-一汽轻型汽车', 'ProductID': 'VE-YIQIGMZYF', 'BrandType': '一汽轻型汽车', 'Brand': 'Y - 一汽通用', 'Url': '/Images/Logo/yiqitongyong.png', 'Src': 'https://img2.tuhu.org/Images/type/VE-YIQIGMZYF.png@163w_163h_100Q.png', 'IsBaoYang': 'True', 'CarName': '自由风', 'appSrc': None, 'Image': 'https://img2.tuhu.org/Images/type/VE-YIQIGMZYF.png@100Q.png', 'ImageUrl': 'https://img2.tuhu.org/Images/Logo/YiQiTongYong.png', 'Tires': '215/65R15', 'SpecialTireSize': None, 'OriginalIsBaoyang': 1, 'Priority2': 2, 'Priority3': 1, 'VehicleSeries': None}\n"
     ]
    },
    {
     "name": "stderr",
     "output_type": "stream",
     "text": [
      "Traceback (most recent call last):\n",
      "  File \"<ipython-input-74-a1bbc79ad05d>\", line 60, in <module>\n",
      "    for pailiang in load_pailiang(vid):\n",
      "  File \"<ipython-input-74-a1bbc79ad05d>\", line 11, in load_pailiang\n",
      "    return requests.get(url, headers=headers).json()['PaiLiang']\n",
      "KeyError: 'PaiLiang'\n"
     ]
    },
    {
     "name": "stdout",
     "output_type": "stream",
     "text": [
      ">> Y - 一汽通用 - VE-YIQILT - {'Vehicle': '蓝舰-一汽通用', 'ProductID': 'VE-YIQILT', 'BrandType': '一汽通用', 'Brand': 'Y - 一汽通用', 'Url': '/Images/Logo/yiqitongyong.png', 'Src': 'https://img2.tuhu.org/Images/type/VE-YIQILT.png@163w_163h_100Q.png', 'IsBaoYang': 'True', 'CarName': '蓝舰', 'appSrc': None, 'Image': 'https://img2.tuhu.org/Images/type/VE-YIQILT.png@100Q.png', 'ImageUrl': 'https://img2.tuhu.org/Images/Logo/YiQiTongYong.png', 'Tires': '245/70R16', 'SpecialTireSize': None, 'OriginalIsBaoyang': 1, 'Priority2': 1, 'Priority3': 1, 'VehicleSeries': None}\n",
      "Y - 云度汽车 done\n"
     ]
    },
    {
     "name": "stderr",
     "output_type": "stream",
     "text": [
      "Traceback (most recent call last):\n",
      "  File \"<ipython-input-74-a1bbc79ad05d>\", line 60, in <module>\n",
      "    for pailiang in load_pailiang(vid):\n",
      "  File \"<ipython-input-74-a1bbc79ad05d>\", line 11, in load_pailiang\n",
      "    return requests.get(url, headers=headers).json()['PaiLiang']\n",
      "KeyError: 'PaiLiang'\n"
     ]
    },
    {
     "name": "stdout",
     "output_type": "stream",
     "text": [
      "Y - 裕路 done\n",
      "Y - 御捷新能源 done\n",
      "Y - 一汽奔腾 done\n",
      "Y - 野马 done\n",
      "Y - 英致 done\n",
      "Y - 易至汽车 done\n",
      "Y - 银隆新能源 done\n",
      "Z - 中华 done\n",
      "Z - 中顺 done\n",
      "Z - 中兴 done\n",
      ">> Z - 中兴 - VE-ZHON04BO - {'Vehicle': '福星皮卡-中兴汽车', 'ProductID': 'VE-ZHON04BO', 'BrandType': '中兴汽车', 'Brand': 'Z - 中兴', 'Url': '/Images/Logo/zhongxing.png', 'Src': 'https://img2.tuhu.org/Images/type/VE-ZHON04BO.png@163w_163h_100Q.png', 'IsBaoYang': 'True', 'CarName': '福星皮卡', 'appSrc': None, 'Image': 'https://img2.tuhu.org/Images/type/VE-ZHON04BO.png@100Q.png', 'ImageUrl': 'https://img2.tuhu.org/Images/Logo/ZhongXing.png', 'Tires': '215/75R15', 'SpecialTireSize': None, 'OriginalIsBaoyang': 1, 'Priority2': 1, 'Priority3': 19, 'VehicleSeries': None}\n"
     ]
    },
    {
     "name": "stderr",
     "output_type": "stream",
     "text": [
      "Traceback (most recent call last):\n",
      "  File \"<ipython-input-74-a1bbc79ad05d>\", line 60, in <module>\n",
      "    for pailiang in load_pailiang(vid):\n",
      "  File \"<ipython-input-74-a1bbc79ad05d>\", line 11, in load_pailiang\n",
      "    return requests.get(url, headers=headers).json()['PaiLiang']\n",
      "KeyError: 'PaiLiang'\n"
     ]
    },
    {
     "name": "stdout",
     "output_type": "stream",
     "text": [
      ">> Z - 中兴 - VE-ZHON04AP - {'Vehicle': '田野皮卡-中兴汽车', 'ProductID': 'VE-ZHON04AP', 'BrandType': '中兴汽车', 'Brand': 'Z - 中兴', 'Url': '/Images/Logo/zhongxing.png', 'Src': 'https://img2.tuhu.org/Images/type/VE-ZHON04AP.png@163w_163h_100Q.png', 'IsBaoYang': 'True', 'CarName': '田野皮卡', 'appSrc': None, 'Image': 'https://img2.tuhu.org/Images/type/VE-ZHON04AP.png@100Q.png', 'ImageUrl': 'https://img2.tuhu.org/Images/Logo/ZhongXing.png', 'Tires': '215/75R15', 'SpecialTireSize': None, 'OriginalIsBaoyang': 1, 'Priority2': 1, 'Priority3': 14, 'VehicleSeries': None}\n"
     ]
    },
    {
     "name": "stderr",
     "output_type": "stream",
     "text": [
      "Traceback (most recent call last):\n",
      "  File \"<ipython-input-74-a1bbc79ad05d>\", line 60, in <module>\n",
      "    for pailiang in load_pailiang(vid):\n",
      "  File \"<ipython-input-74-a1bbc79ad05d>\", line 11, in load_pailiang\n",
      "    return requests.get(url, headers=headers).json()['PaiLiang']\n",
      "KeyError: 'PaiLiang'\n"
     ]
    },
    {
     "name": "stdout",
     "output_type": "stream",
     "text": [
      "Z - 众泰 done\n",
      "Z - 中欧 done\n",
      "Z - 知豆 done\n",
      "Z - 浙江卡尔森 done\n",
      ">> Z - 浙江卡尔森 - VE-ZJKESMPV - {'Vehicle': '商务车-浙江卡尔森', 'ProductID': 'VE-ZJKESMPV', 'BrandType': '浙江卡尔森', 'Brand': 'Z - 浙江卡尔森', 'Url': '/Images/Logo/zhejiangkaersen.png', 'Src': 'https://img2.tuhu.org/Images/type/VE-ZJKESMPV.png@163w_163h_100Q.png', 'IsBaoYang': 'True', 'CarName': '商务车', 'appSrc': None, 'Image': 'https://img2.tuhu.org/Images/type/VE-ZJKESMPV.png@100Q.png', 'ImageUrl': 'https://img2.tuhu.org/Images/Logo/ZheJiangKaErSen.png', 'Tires': '205/65R16;235/60R17', 'SpecialTireSize': None, 'OriginalIsBaoyang': 1, 'Priority2': 1, 'Priority3': 1, 'VehicleSeries': None}\n",
      "Z - 之诺 done\n"
     ]
    },
    {
     "name": "stderr",
     "output_type": "stream",
     "text": [
      "Traceback (most recent call last):\n",
      "  File \"<ipython-input-74-a1bbc79ad05d>\", line 60, in <module>\n",
      "    for pailiang in load_pailiang(vid):\n",
      "  File \"<ipython-input-74-a1bbc79ad05d>\", line 11, in load_pailiang\n",
      "    return requests.get(url, headers=headers).json()['PaiLiang']\n",
      "KeyError: 'PaiLiang'\n"
     ]
    }
   ],
   "source": [
    "# get child brand\n",
    "from typing import List\n",
    "\n",
    "headers = {\n",
    "    'User-Agent': 'Mozilla/5.0 (iPhone; CPU iPhone OS 10_3_1 like Mac OS X) AppleWebKit/603.1.30 (KHTML, like Gecko) Version/10.0 Mobile/14E304 Safari/602.1',\n",
    "}\n",
    "\n",
    "\n",
    "def load_pailiang(vid) -> List[str]:\n",
    "    url = f'https://api.tuhu.cn/Vehicle/SelectVehicle?VehicleId={vid}'\n",
    "    return requests.get(url, headers=headers).json()['PaiLiang']\n",
    "#     print(url, r)\n",
    "#     return r['PaiLiang']\n",
    "\n",
    "\n",
    "def load_brand_yrs(vid, pailiang) -> List[dict]:\n",
    "    \"\"\"\n",
    "    Args:\n",
    "    \n",
    "        vid(str): 'VE-LSG-GL6'\n",
    "        pailiang(str): '1.3T'\n",
    "        \n",
    "    Return: [{Key: \"VE-LSG-GL6\", Value: \"2019\"}, {Key: \"VE-LSG-GL6\", Value: \"2018\"},…]\n",
    "    \"\"\"\n",
    "    url = f'https://item.tuhu.cn/Car/SelectVehicle?callback=__GetCarBrands__&VehicleID={vid}&PaiLiang={pailiang}&_=1565330440229'\n",
    "    return json.loads(index_regex.findall(requests.get(url).text)[0])['Nian']\n",
    "\n",
    "\n",
    "def load_child_brands(vid, pailiang, nian):\n",
    "    \"\"\"\n",
    "    Args:\n",
    "    \n",
    "        nian(str): 2017\n",
    "        \n",
    "    Return: [{LiYangID: null, TID: \"113193\", Name: \"2018款 1.3T 手自一体 18T 6座 豪华版\"},…]\n",
    "    \"\"\"\n",
    "    url = f'https://item.tuhu.cn/Car/SelectVehicleSalesName?callback=__GetCarBrands__&VehicleID={vid}&PaiLiang={pailiang}&Nian={nian}&_=1565330440230'\n",
    "    return json.loads(index_regex.findall(requests.get(url).text)[0])['SalesName']\n",
    "\n",
    "\n",
    "\n",
    "vid_dones = set([])\n",
    "\n",
    "with open('./车系/child-brands-gbk.txt', '+ab') as gbk_fp, \\\n",
    "        open('./车系/child-brands-utf.txt', '+ab') as utf8_fp:\n",
    "#         open('./车系/child-brands-utf-2.txt', '+ab') as utf8_fp_2, \\\n",
    "#         open('./车系/child-brands-gbk-2.txt', '+ab') as gbk_fp_2:\n",
    "        \n",
    "    utf8_fp.seek(0, 0)\n",
    "    for ij in utf8_fp:\n",
    "        vid_dones.add(json.loads(ij.decode('utf8'))['vid'])\n",
    "        \n",
    "    for b_1, bl in result.items():\n",
    "        print(f'{b_1} done')\n",
    "        for bd in bl:\n",
    "            vid = bd['ProductID']\n",
    "            if vid in vid_dones:\n",
    "                continue            \n",
    "\n",
    "            vid_dones.add(vid)\n",
    "            try:\n",
    "                for pailiang in load_pailiang(vid):\n",
    "                    for nian in [d['Value'] for d in load_brand_yrs(vid, pailiang)]:\n",
    "                        for b in load_child_brands(vid, pailiang, nian):\n",
    "                            item = {'brand': b, 'pailiang': pailiang, 'vid': vid, 'year': nian}\n",
    "                            ij = json.dumps(item, sort_keys=True, ensure_ascii=False) + '\\n'\n",
    "                            gbk_fp.write(ij.encode('gbk'))\n",
    "                            utf8_fp.write(ij.encode('utf8'))\n",
    "            except Exception:\n",
    "                print(f'>> {b_1} - {vid} - {bd}')\n",
    "                traceback.print_exc()\n",
    "            finally:\n",
    "                gbk_fp.flush()\n",
    "                utf8_fp.flush()\n",
    "\n",
    "                \n"
   ]
  },
  {
   "cell_type": "code",
   "execution_count": 7,
   "metadata": {},
   "outputs": [],
   "source": [
    "vid_binfo_map = {}\n",
    "for _, bl in result.items():\n",
    "    for binfo in bl:\n",
    "        vid_binfo_map[binfo['ProductID']] = binfo\n",
    "\n",
    "\n",
    "with open('./车系/child-brands-gbk.txt', '+ab') as gbk_fp, \\\n",
    "        open('./车系/child-brands-utf8.txt', '+ab') as utf8_fp, \\\n",
    "        open('./车系/child-brands-utf8-2.txt', '+ab') as utf8_fp_2, \\\n",
    "        open('./车系/child-brands-gbk-2.txt', '+ab') as gbk_fp_2:\n",
    "        \n",
    "    utf8_fp.seek(0, 0)\n",
    "    for ij in utf8_fp:\n",
    "        d = json.loads(ij.decode('utf8'))\n",
    "        d['brand'].update(vid_binfo_map[d['vid']])\n",
    "        dj = json.dumps(d, sort_keys=True, ensure_ascii=False) + '\\n'\n",
    "        gbk_fp_2.write(dj.encode('gbk'))\n",
    "        utf8_fp_2.write(dj.encode('utf8'))\n",
    "        "
   ]
  },
  {
   "cell_type": "code",
   "execution_count": 75,
   "metadata": {
    "scrolled": true
   },
   "outputs": [
    {
     "name": "stdout",
     "output_type": "stream",
     "text": [
      "89214\n"
     ]
    }
   ],
   "source": [
    "with open('child-brands-utf8.txt') as fp:\n",
    "    print(fp.read().count('\\n'))"
   ]
  }
 ],
 "metadata": {
  "kernelspec": {
   "display_name": "Python 3",
   "language": "python",
   "name": "python3"
  },
  "language_info": {
   "codemirror_mode": {
    "name": "ipython",
    "version": 3
   },
   "file_extension": ".py",
   "mimetype": "text/x-python",
   "name": "python",
   "nbconvert_exporter": "python",
   "pygments_lexer": "ipython3",
   "version": "3.7.4"
  }
 },
 "nbformat": 4,
 "nbformat_minor": 2
}
