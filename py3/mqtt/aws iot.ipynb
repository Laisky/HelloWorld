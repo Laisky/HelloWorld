{
 "cells": [
  {
   "cell_type": "markdown",
   "metadata": {},
   "source": [
    "\n",
    "References:\n",
    "\n",
    "* [AWS IoT Python](https://github.com/aws/aws-iot-device-sdk-python/blob/master/README.rst)\n",
    "* [AWS CA](https://docs.aws.amazon.com/en_pv/iot/latest/developerguide/server-authentication.html)\n"
   ]
  },
  {
   "cell_type": "code",
   "execution_count": 1,
   "metadata": {},
   "outputs": [],
   "source": [
    "import logging\n",
    "import time\n",
    "import json\n",
    "\n",
    "from AWSIoTPythonSDK.MQTTLib import AWSIoTMQTTClient"
   ]
  },
  {
   "cell_type": "code",
   "execution_count": 2,
   "metadata": {},
   "outputs": [],
   "source": [
    "# Configure logging\n",
    "logger = logging.getLogger(\"AWSIoTPythonSDK.core\")\n",
    "logger.setLevel(logging.INFO)\n",
    "\n",
    "# streamHandler = logging.StreamHandler()\n",
    "# formatter = logging.Formatter(\"%(asctime)s - %(name)s - %(levelname)s - %(message)s\")\n",
    "# streamHandler.setFormatter(formatter)\n",
    "# logger.addHandler(streamHandler)"
   ]
  },
  {
   "cell_type": "code",
   "execution_count": 3,
   "metadata": {},
   "outputs": [
    {
     "data": {
      "text/plain": [
       "True"
      ]
     },
     "execution_count": 3,
     "metadata": {},
     "output_type": "execute_result"
    }
   ],
   "source": [
    "cli = AWSIoTMQTTClient(\"laisky-demo\")\n",
    "cli.configureEndpoint(\"a2mth8rkdw0p8j-ats.iot.us-west-2.amazonaws.com\", 8883)\n",
    "cli.configureCredentials(\n",
    "    \"/Users/laisky/repo/laisky/configs/mqtt/root-CA.crt\",\n",
    "    \"/Users/laisky/repo/laisky/configs/mqtt/python-cli.private.key\",\n",
    "    \"/Users/laisky/repo/laisky/configs/mqtt/python-cli.cert.pem\",\n",
    ")\n",
    "\n",
    "cli.configureAutoReconnectBackoffTime(1, 32, 20)\n",
    "cli.configureOfflinePublishQueueing(-1)  # Infinite offline Publish queueing\n",
    "cli.configureDrainingFrequency(2)  # Draining: 2 Hz\n",
    "cli.configureConnectDisconnectTimeout(10)  # 10 sec\n",
    "cli.configureMQTTOperationTimeout(10)  # 5 sec\n",
    "\n",
    "\n",
    "def customCallback(cli, userdata, message):\n",
    "    print(\"Received a new message: \")\n",
    "    print(message.payload)\n",
    "    print(\"from topic: \")\n",
    "    print(message.topic)\n",
    "    print(\"--------------\\n\\n\")\n",
    "\n",
    "\n",
    "cli.connect()\n"
   ]
  },
  {
   "cell_type": "code",
   "execution_count": 4,
   "metadata": {},
   "outputs": [
    {
     "name": "stdout",
     "output_type": "stream",
     "text": [
      ">> publish hello\n",
      "<< True\n",
      ">> publish hello\n",
      "<< True\n",
      ">> publish hello\n",
      "<< True\n"
     ]
    },
    {
     "ename": "KeyboardInterrupt",
     "evalue": "",
     "output_type": "error",
     "traceback": [
      "\u001b[0;31m---------------------------------------------------------------------------\u001b[0m",
      "\u001b[0;31mKeyboardInterrupt\u001b[0m                         Traceback (most recent call last)",
      "\u001b[0;32m<ipython-input-4-42225b7d2c1c>\u001b[0m in \u001b[0;36m<module>\u001b[0;34m\u001b[0m\n\u001b[1;32m      3\u001b[0m     \u001b[0mprint\u001b[0m\u001b[0;34m(\u001b[0m\u001b[0;34m\">> publish hello\"\u001b[0m\u001b[0;34m)\u001b[0m\u001b[0;34m\u001b[0m\u001b[0;34m\u001b[0m\u001b[0m\n\u001b[1;32m      4\u001b[0m     \u001b[0mprint\u001b[0m\u001b[0;34m(\u001b[0m\u001b[0;34m\"<<\"\u001b[0m\u001b[0;34m,\u001b[0m \u001b[0mcli\u001b[0m\u001b[0;34m.\u001b[0m\u001b[0mpublish\u001b[0m\u001b[0;34m(\u001b[0m\u001b[0;34m\"laisky-hello\"\u001b[0m\u001b[0;34m,\u001b[0m \u001b[0mjson\u001b[0m\u001b[0;34m.\u001b[0m\u001b[0mdumps\u001b[0m\u001b[0;34m(\u001b[0m\u001b[0;34m{\u001b[0m\u001b[0;34m\"yo\"\u001b[0m\u001b[0;34m:\u001b[0m \u001b[0;34m\"jedi\"\u001b[0m\u001b[0;34m}\u001b[0m\u001b[0;34m)\u001b[0m\u001b[0;34m,\u001b[0m \u001b[0;36m1\u001b[0m\u001b[0;34m)\u001b[0m\u001b[0;34m)\u001b[0m\u001b[0;34m\u001b[0m\u001b[0;34m\u001b[0m\u001b[0m\n\u001b[0;32m----> 5\u001b[0;31m     \u001b[0mtime\u001b[0m\u001b[0;34m.\u001b[0m\u001b[0msleep\u001b[0m\u001b[0;34m(\u001b[0m\u001b[0;36m1\u001b[0m\u001b[0;34m)\u001b[0m\u001b[0;34m\u001b[0m\u001b[0;34m\u001b[0m\u001b[0m\n\u001b[0m",
      "\u001b[0;31mKeyboardInterrupt\u001b[0m: "
     ]
    }
   ],
   "source": [
    "while 1:\n",
    "    # print(help(cli.publish))\n",
    "    print(\">> publish hello\")\n",
    "    print(\"<<\", cli.publish(\"laisky-hello\", json.dumps({\"yo\": \"jedi\"}), 1))\n",
    "    time.sleep(1)"
   ]
  }
 ],
 "metadata": {
  "kernelspec": {
   "display_name": "Python 3",
   "language": "python",
   "name": "python3"
  }
 },
 "nbformat": 4,
 "nbformat_minor": 2
}
