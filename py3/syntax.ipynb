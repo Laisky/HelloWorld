{
 "cells": [
  {
   "cell_type": "code",
   "execution_count": 3,
   "metadata": {
    "collapsed": false
   },
   "outputs": [
    {
     "name": "stdout",
     "output_type": "stream",
     "text": [
      "hello, laisky\n",
      "hello, laisky\n",
      "result:      12.35\n"
     ]
    }
   ],
   "source": [
    "# PEP 498 -- Literal String Interpolation\n",
    "\n",
    "name = 'laisky'\n",
    "\n",
    "# old\n",
    "print('hello, {}'.format(name))\n",
    "\n",
    "# 3.6\n",
    "print(f'hello, {name}')\n",
    "\n",
    "\n",
    "import decimal\n",
    "width = 10\n",
    "precision = 4\n",
    "value = decimal.Decimal(\"12.34567\")\n",
    "print(f\"result: {value:{width}.{precision}}\")"
   ]
  },
  {
   "cell_type": "code",
   "execution_count": 7,
   "metadata": {
    "collapsed": false
   },
   "outputs": [
    {
     "name": "stdout",
     "output_type": "stream",
     "text": [
      "{'return': None}\n"
     ]
    }
   ],
   "source": [
    "# PEP 526: Syntax for variable annotations\n",
    "\n",
    "name: str = 'laisky'\n",
    "\n",
    "def demo() -> None:\n",
    "    pass\n",
    "\n",
    "print(demo.__annotations__)"
   ]
  },
  {
   "cell_type": "code",
   "execution_count": 10,
   "metadata": {
    "collapsed": false
   },
   "outputs": [
    {
     "data": {
      "text/plain": [
       "6222020602012147566"
      ]
     },
     "execution_count": 10,
     "metadata": {},
     "output_type": "execute_result"
    }
   ],
   "source": [
    "# PEP 515: Underscores in Numeric Literals\n",
    "\n",
    "# old\n",
    "6222020602012147566\n",
    "\n",
    "# 3.6\n",
    "62220_2060_2012_1475_66"
   ]
  },
  {
   "cell_type": "code",
   "execution_count": 8,
   "metadata": {
    "collapsed": false
   },
   "outputs": [
    {
     "name": "stdout",
     "output_type": "stream",
     "text": [
      "<async_generator object ticker at 0x10652e528>\n",
      "0\n",
      "1\n",
      "2\n",
      "3\n",
      "4\n",
      "[0, 1, 2, 3, 4]\n"
     ]
    }
   ],
   "source": [
    "# PEP 525 -- Asynchronous Generators\n",
    "# PEP 530 -- Asynchronous Comprehensions\n",
    "\n",
    "import asyncio\n",
    "\n",
    "async def ticker(delay, to):\n",
    "    \"\"\"Yield numbers from 0 to *to* every *delay* seconds.\"\"\"\n",
    "    for i in range(to):\n",
    "        yield i\n",
    "        await asyncio.sleep(delay)\n",
    "        \n",
    "print(ticker(1, 1))\n",
    "        \n",
    "\n",
    "async def main():\n",
    "    async for i in ticker(0.1, 5):\n",
    "        print(i)\n",
    "    \n",
    "    print([i async for i in ticker(0.1, 5)])\n",
    "    \n",
    "    \n",
    "ioloop = asyncio.get_event_loop()\n",
    "ioloop.run_until_complete(main())"
   ]
  },
  {
   "cell_type": "code",
   "execution_count": 70,
   "metadata": {
    "collapsed": false
   },
   "outputs": [
    {
     "name": "stdout",
     "output_type": "stream",
     "text": [
      "new subclass: <class '__main__.Plugin1'>\n",
      "new subclass: <class '__main__.Plugin2'>\n",
      "ye\n",
      "yo\n"
     ]
    }
   ],
   "source": [
    "# PEP 487: Simpler customization of class creation\n",
    "\n",
    "class PluginBase:\n",
    "    subclasses = []\n",
    "\n",
    "    def __init_subclass__(cls, name, **kwargs):\n",
    "        print('new subclass: {}'.format(cls))\n",
    "        cls.name = name\n",
    "        super().__init_subclass__(**kwargs)\n",
    "        \n",
    "        \n",
    "class Plugin1(PluginBase, name='ye'):\n",
    "    pass\n",
    "\n",
    "class Plugin2(PluginBase, name='yo'):\n",
    "    pass\n",
    "\n",
    "\n",
    "print(Plugin1.name)\n",
    "print(Plugin2.name)"
   ]
  },
  {
   "cell_type": "code",
   "execution_count": 72,
   "metadata": {
    "collapsed": false
   },
   "outputs": [
    {
     "name": "stdout",
     "output_type": "stream",
     "text": [
      "init initval None\n",
      "init name val\n",
      "set name obj <class '__main__.Demo'>\n",
      "set name name f\n",
      "set obj <__main__.Demo object at 0x106592a90>\n",
      "set val 5\n",
      "get obj <__main__.Demo object at 0x106592a90>\n",
      "get type <class '__main__.Demo'>\n"
     ]
    },
    {
     "data": {
      "text/plain": [
       "5"
      ]
     },
     "execution_count": 72,
     "metadata": {},
     "output_type": "execute_result"
    }
   ],
   "source": [
    "# PEP 487: Descriptor Protocol Enhancements\n",
    "\n",
    "\n",
    "class DemoBase:\n",
    "    def __init_subclass__(cls, **kw):\n",
    "        print('__init_subclass')\n",
    "\n",
    "        \n",
    "class DemoField:\n",
    "    \n",
    "    def __init__(self, initval=None, name='val'):\n",
    "        print('init initval', initval)\n",
    "        print('init name', name)\n",
    "        self.val = initval\n",
    "        self.name = name\n",
    "        \n",
    "    def __get__(self, obj, type_):\n",
    "        print('get obj', obj)\n",
    "        print('get type', type_)\n",
    "        return self.val\n",
    "        \n",
    "    def __set__(self, obj, val):\n",
    "        print('set obj', obj)\n",
    "        print('set val', val)\n",
    "        self.val = val\n",
    "        \n",
    "    def __set_name__(self, obj, name):\n",
    "        print('set name obj', obj)\n",
    "        print('set name name', name)\n",
    "        self.name = name\n",
    "        \n",
    "\n",
    "class Demo:\n",
    "    f = DemoField()\n",
    "\n",
    "    \n",
    "d = Demo()\n",
    "d.f = 5\n",
    "d.f\n",
    "\n"
   ]
  },
  {
   "cell_type": "code",
   "execution_count": 84,
   "metadata": {
    "collapsed": false
   },
   "outputs": [
    {
     "name": "stdout",
     "output_type": "stream",
     "text": [
      "('./a/b/c', '.txt')\n",
      "a/b/c.txt\n",
      "/var/a/b/c.txt\n"
     ]
    }
   ],
   "source": [
    "# PEP 519: Adding a file system path protocol\n",
    "\n",
    "import os\n",
    "import pathlib\n",
    "\n",
    "\n",
    "class DemoPathObject:\n",
    "    def __fspath__(self):\n",
    "        return './a/b/c.txt'\n",
    "    \n",
    "dp = DemoPathObject()\n",
    "print(os.path.splitext(dp))\n",
    "\n",
    "\n",
    "p = pathlib.Path(dp)\n",
    "print(p)\n",
    "print(os.path.join('/var', p))"
   ]
  },
  {
   "cell_type": "code",
   "execution_count": 34,
   "metadata": {
    "collapsed": false
   },
   "outputs": [
    {
     "name": "stdout",
     "output_type": "stream",
     "text": [
      "{'__module__': '__main__', 'a': 1, 'b': 2, 'test': <function Demo.test at 0x10671e378>, 'c': 3, 'd': 4, '__dict__': <attribute '__dict__' of 'Demo' objects>, '__weakref__': <attribute '__weakref__' of 'Demo' objects>, '__doc__': None}\n"
     ]
    }
   ],
   "source": [
    "# PEP 520 -- Preserving Class Attribute Definition Order\n",
    "\n",
    "class Demo:\n",
    "    a = 1\n",
    "    b = 2\n",
    "    \n",
    "    def test(self):\n",
    "        pass\n",
    "    \n",
    "    c = 3\n",
    "    d = 4\n",
    "    \n",
    "\n",
    "print(Demo.__dict__)"
   ]
  },
  {
   "cell_type": "code",
   "execution_count": 41,
   "metadata": {
    "collapsed": false
   },
   "outputs": [
    {
     "name": "stdout",
     "output_type": "stream",
     "text": [
      "<class 'dict'> {'a': 1, 'b': 2, 'c': 3}\n",
      "<class 'dict'> {'c': 3, 'a': 1, 'b': 2}\n"
     ]
    }
   ],
   "source": [
    "# PEP 468 -- Preserving the order of **kwargs in a function\n",
    "\n",
    "def demo(**kw):\n",
    "    print(type(kw), kw)\n",
    "    \n",
    "    \n",
    "demo(a=1, b=2, c=3)\n",
    "demo(c=3, a=1, b=2)"
   ]
  },
  {
   "cell_type": "code",
   "execution_count": 4,
   "metadata": {
    "collapsed": false
   },
   "outputs": [
    {
     "ename": "SyntaxError",
     "evalue": "name 'a' is assigned to before nonlocal declaration (<ipython-input-4-de829146090a>, line 7)",
     "output_type": "error",
     "traceback": [
      "\u001b[0;36m  File \u001b[0;32m\"<ipython-input-4-de829146090a>\"\u001b[0;36m, line \u001b[0;32m7\u001b[0m\n\u001b[0;31m    nonlocal a\u001b[0m\n\u001b[0;31mSyntaxError\u001b[0m\u001b[0;31m:\u001b[0m name 'a' is assigned to before nonlocal declaration\n"
     ]
    }
   ],
   "source": [
    "# global & nonlocal\n",
    "\n",
    "a = 2\n",
    "\n",
    "def demo():\n",
    "    a = 3\n",
    "    nonlocal a"
   ]
  },
  {
   "cell_type": "code",
   "execution_count": 12,
   "metadata": {
    "collapsed": false
   },
   "outputs": [
    {
     "name": "stdout",
     "output_type": "stream",
     "text": [
      "[0, 1, 2, 3, 4, 5, 6, 7, 8, 9]\n"
     ]
    },
    {
     "ename": "TypeError",
     "evalue": "'DemoList' object is not iterable",
     "output_type": "error",
     "traceback": [
      "\u001b[0;31m---------------------------------------------------------------------------\u001b[0m",
      "\u001b[0;31mTypeError\u001b[0m                                 Traceback (most recent call last)",
      "\u001b[0;32m<ipython-input-12-5b3a9a662130>\u001b[0m in \u001b[0;36m<module>\u001b[0;34m()\u001b[0m\n\u001b[1;32m      8\u001b[0m \u001b[0ml\u001b[0m\u001b[0;34m.\u001b[0m\u001b[0mextend\u001b[0m\u001b[0;34m(\u001b[0m\u001b[0mrange\u001b[0m\u001b[0;34m(\u001b[0m\u001b[0;36m10\u001b[0m\u001b[0;34m)\u001b[0m\u001b[0;34m)\u001b[0m\u001b[0;34m\u001b[0m\u001b[0m\n\u001b[1;32m      9\u001b[0m \u001b[0mprint\u001b[0m\u001b[0;34m(\u001b[0m\u001b[0ml\u001b[0m\u001b[0;34m)\u001b[0m\u001b[0;34m\u001b[0m\u001b[0m\n\u001b[0;32m---> 10\u001b[0;31m \u001b[0;34m[\u001b[0m\u001b[0mi\u001b[0m \u001b[0;32mfor\u001b[0m \u001b[0mi\u001b[0m \u001b[0;32min\u001b[0m \u001b[0ml\u001b[0m\u001b[0;34m]\u001b[0m\u001b[0;34m\u001b[0m\u001b[0m\n\u001b[0m",
      "\u001b[0;31mTypeError\u001b[0m: 'DemoList' object is not iterable"
     ]
    }
   ],
   "source": [
    "# set __iter__ to None\n",
    "\n",
    "class DemoList(list):\n",
    "    __iter__ = None\n",
    "    \n",
    "   \n",
    "l = DemoList()\n",
    "l.extend(range(10))\n",
    "print(l)\n",
    "[i for i in l]"
   ]
  },
  {
   "cell_type": "code",
   "execution_count": 31,
   "metadata": {
    "collapsed": false
   },
   "outputs": [
    {
     "name": "stdout",
     "output_type": "stream",
     "text": [
      "b'nm\\xbf1\\x98\\x17\\x06~\\xcc\\x19'\n",
      "b\"'\\x86\\x15C\\xebF\\xc9\\x0f[\\xe3\"\n"
     ]
    }
   ],
   "source": [
    "# secrets\n",
    "\n",
    "import os\n",
    "import secrets\n",
    "\n",
    "# old\n",
    "print(os.urandom(10))\n",
    "\n",
    "# 3.6\n",
    "print(secrets.token_bytes(10))"
   ]
  }
 ],
 "metadata": {
  "kernelspec": {
   "display_name": "Python 3",
   "language": "python",
   "name": "python3"
  },
  "language_info": {
   "codemirror_mode": {
    "name": "ipython",
    "version": 3
   },
   "file_extension": ".py",
   "mimetype": "text/x-python",
   "name": "python",
   "nbconvert_exporter": "python",
   "pygments_lexer": "ipython3",
   "version": "3.6.0"
  }
 },
 "nbformat": 4,
 "nbformat_minor": 2
}
