{
 "cells": [
  {
   "cell_type": "code",
   "execution_count": 1,
   "metadata": {
    "collapsed": false
   },
   "outputs": [],
   "source": [
    "from io import BytesIO\n",
    "\n",
    "from PIL import Image\n",
    "\n",
    "\n",
    "\n",
    "# im = Image.open('./data/TN1.jpeg')\n",
    "\n",
    "# huge_im = im.resize((10000, 10000))\n",
    "# huge_im.save('./data/huge.jpeg')"
   ]
  },
  {
   "cell_type": "code",
   "execution_count": 4,
   "metadata": {
    "collapsed": false
   },
   "outputs": [
    {
     "name": "stderr",
     "output_type": "stream",
     "text": [
      "/Users/laisky/repo/laisky/HelloWorld/py36/venv/lib/python3.6/site-packages/PIL/Image.py:2274: DecompressionBombWarning: Image size (100000000 pixels) exceeds limit of 89478485 pixels, could be decompression bomb DOS attack.\n",
      "  DecompressionBombWarning)\n"
     ]
    },
    {
     "name": "stdout",
     "output_type": "stream",
     "text": [
      "The slowest run took 3640.69 times longer than the fastest. This could mean that an intermediate result is being cached.\n",
      "1 loop, best of 3: 841 µs per loop\n"
     ]
    }
   ],
   "source": [
    "im = Image.open('./data/huge.jpeg')\n",
    "\n",
    "\n",
    "def test():\n",
    "    newim = im.resize((100, 100))\n",
    "    newim.save(BytesIO(), format='JPEG')\n",
    "\n",
    "    \n",
    "%timeit test()"
   ]
  }
 ],
 "metadata": {
  "kernelspec": {
   "display_name": "Python 3",
   "language": "python",
   "name": "python3"
  },
  "language_info": {
   "codemirror_mode": {
    "name": "ipython",
    "version": 3
   },
   "file_extension": ".py",
   "mimetype": "text/x-python",
   "name": "python",
   "nbconvert_exporter": "python",
   "pygments_lexer": "ipython3",
   "version": "3.6.0"
  }
 },
 "nbformat": 4,
 "nbformat_minor": 2
}
