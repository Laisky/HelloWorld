{
 "cells": [
  {
   "cell_type": "code",
   "execution_count": 6,
   "metadata": {
    "collapsed": false
   },
   "outputs": [
    {
     "data": {
      "text/plain": [
       "{'a': typing.Mapping[int, int], 'b': typing.Callable[[int], NoneType]}"
      ]
     },
     "execution_count": 6,
     "metadata": {},
     "output_type": "execute_result"
    }
   ],
   "source": [
    "from typing import Mapping, Callable\n",
    "\n",
    "\n",
    "def test(a: Mapping[int, int], b: Callable[[int], None]):\n",
    "    \"\"\"\n",
    "    参数 a 是一个 {int: int} 的字典对象\n",
    "    参数 b 是一个接受 int 参数返回 None 的可调用对象\n",
    "    \"\"\"\n",
    "    pass\n",
    "\n",
    "\n",
    "test.__annotations__"
   ]
  }
 ],
 "metadata": {
  "kernelspec": {
   "display_name": "Python 3",
   "language": "python",
   "name": "python3"
  },
  "language_info": {
   "codemirror_mode": {
    "name": "ipython",
    "version": 3
   },
   "file_extension": ".py",
   "mimetype": "text/x-python",
   "name": "python",
   "nbconvert_exporter": "python",
   "pygments_lexer": "ipython3",
   "version": "3.5.1"
  }
 },
 "nbformat": 4,
 "nbformat_minor": 0
}
