{
 "cells": [
  {
   "cell_type": "code",
   "execution_count": 11,
   "metadata": {
    "collapsed": false
   },
   "outputs": [
    {
     "name": "stdout",
     "output_type": "stream",
     "text": [
      "worker 0 is waiting\n",
      "worker 1 is waiting\n",
      "worker 2 is waiting\n",
      "worker 3 is waiting\n",
      "worker 4 is waiting\n",
      "notify 0 workers\n",
      "notify 1 workers\n",
      "worker 0 done, released\n",
      "notify 2 workers\n",
      "worker 1 done, released\n",
      "worker 2 done, released\n",
      "notify all\n",
      "worker 3 done, released\n",
      "worker 4 done, released\n"
     ]
    }
   ],
   "source": [
    "from asyncio import Condition, sleep, get_event_loop, wait, ensure_future\n",
    "\n",
    "\n",
    "async def workers(cond, i):\n",
    "    async with cond:\n",
    "        print('worker {} is waiting'.format(i))\n",
    "        await cond.wait()\n",
    "\n",
    "    print('worker {} done, released'.format(i))\n",
    "\n",
    "\n",
    "async def main():\n",
    "    cond = Condition()\n",
    "    fs = list([ensure_future(workers(cond, i)) for i in range(5)])\n",
    "    \n",
    "    await sleep(0.1)  \n",
    "    for i in range(3):\n",
    "        print('notify {} workers'.format(i))\n",
    "        async with cond:\n",
    "            cond.notify(i)\n",
    "            \n",
    "        await sleep(0.1)\n",
    "            \n",
    "    async with cond:\n",
    "        await sleep(0.5)\n",
    "        print('notify all')\n",
    "        cond.notify_all()\n",
    "    \n",
    "    await wait(fs)\n",
    "        \n",
    "    \n",
    "    \n",
    "get_event_loop().run_until_complete(main())"
   ]
  },
  {
   "cell_type": "code",
   "execution_count": null,
   "metadata": {
    "collapsed": true
   },
   "outputs": [],
   "source": []
  }
 ],
 "metadata": {
  "kernelspec": {
   "display_name": "Python 3",
   "language": "python",
   "name": "python3"
  }
 },
 "nbformat": 4,
 "nbformat_minor": 2
}
