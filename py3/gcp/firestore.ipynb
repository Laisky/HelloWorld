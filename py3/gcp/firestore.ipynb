{
 "cells": [
  {
   "cell_type": "code",
   "execution_count": 58,
   "metadata": {},
   "outputs": [],
   "source": [
    "from google.cloud import firestore\n",
    "\n",
    "db = firestore.Client()\n",
    "posts = db.collection(\"posts\")\n",
    "categories = db.collection('categories')\n",
    "users = db.collection('users')"
   ]
  },
  {
   "cell_type": "code",
   "execution_count": 57,
   "metadata": {},
   "outputs": [],
   "source": [
    "from pymongo import MongoClient\n",
    "\n",
    "mgocli = MongoClient()\n",
    "mgo_db = mgocli['blog']\n",
    "mgo_posts = mgo_db['posts']\n",
    "mgo_categories = mgo_db['categories']\n",
    "mgo_users = mgo_db['users']"
   ]
  },
  {
   "cell_type": "code",
   "execution_count": 59,
   "metadata": {},
   "outputs": [
    {
     "data": {
      "text/plain": [
       "2"
      ]
     },
     "execution_count": 59,
     "metadata": {},
     "output_type": "execute_result"
    }
   ],
   "source": [
    "mgo_posts.find().count()\n",
    "mgo_categories.find().count()\n",
    "mgo_users.find().count()"
   ]
  },
  {
   "cell_type": "code",
   "execution_count": 53,
   "metadata": {},
   "outputs": [
    {
     "name": "stdout",
     "output_type": "stream",
     "text": [
      "<google.cloud.firestore_v1.document.DocumentSnapshot object at 0x1150b76d0>\n"
     ]
    }
   ],
   "source": [
    "# delete document\n",
    "\n",
    "# for docu in posts.stream():\n",
    "#     if docu.to_dict().get('author'):\n",
    "#         posts.document(docu.id).delete()"
   ]
  },
  {
   "cell_type": "code",
   "execution_count": 52,
   "metadata": {},
   "outputs": [
    {
     "data": {
      "text/plain": [
       "5"
      ]
     },
     "execution_count": 52,
     "metadata": {},
     "output_type": "execute_result"
    }
   ],
   "source": [
    "# len(list(posts.stream()))\n",
    "len(list(categories.stream()))"
   ]
  },
  {
   "cell_type": "code",
   "execution_count": 42,
   "metadata": {},
   "outputs": [],
   "source": [
    "for docu in mgo_posts.find():\n",
    "    docu['mgo_id'] = str(docu['_id'])\n",
    "    if docu.get('category'):\n",
    "        docu['category'] = str(docu['category'])\n",
    "    docu['post_author'] = str(docu['post_author'])\n",
    "#     print(docu)\n",
    "    del docu['_id']\n",
    "    posts.add(document_id=docu['mgo_id'], document_data=docu)"
   ]
  },
  {
   "cell_type": "code",
   "execution_count": 51,
   "metadata": {},
   "outputs": [],
   "source": [
    "for docu in mgo_categories.find():\n",
    "    docu['mgo_id'] = str(docu['_id'])\n",
    "    del docu['_id']\n",
    "    \n",
    "    if docu.get('category'):\n",
    "        docu['category'] = str(docu['category'])\n",
    "    docu['author'] = str(docu['author'])\n",
    "\n",
    "    categories.document(document_id=docu['mgo_id']).set(docu)"
   ]
  },
  {
   "cell_type": "code",
   "execution_count": 60,
   "metadata": {},
   "outputs": [],
   "source": [
    "for docu in mgo_users.find():\n",
    "    docu['mgo_id'] = str(docu['_id'])\n",
    "    del docu['_id']\n",
    "    \n",
    "    users.document(document_id=docu['mgo_id']).set(docu)"
   ]
  }
 ],
 "metadata": {
  "kernelspec": {
   "display_name": "Python 3",
   "language": "python",
   "name": "python3"
  },
  "language_info": {
   "codemirror_mode": {
    "name": "ipython",
    "version": 3
   },
   "file_extension": ".py",
   "mimetype": "text/x-python",
   "name": "python",
   "nbconvert_exporter": "python",
   "pygments_lexer": "ipython3",
   "version": "3.7.4"
  }
 },
 "nbformat": 4,
 "nbformat_minor": 2
}
