{
 "cells": [
  {
   "cell_type": "code",
   "execution_count": 6,
   "id": "a0464684",
   "metadata": {},
   "outputs": [],
   "source": [
    "from sys import path\n",
    "\n",
    "path.append(r\"/opt/configs/dev\")\n",
    "\n",
    "from config import MONGO_DB, MONGO_HOST, MONGO_PASSWD, MONGO_USER, MONGO_PORT\n",
    "\n",
    "\n",
    "from pymongo import MongoClient\n",
    "\n",
    "\n",
    "cli = MongoClient(f\"mongodb://{MONGO_USER}:{MONGO_PASSWD}@{MONGO_HOST}:{MONGO_PORT}\")\n",
    "db = cli['leaked']"
   ]
  },
  {
   "cell_type": "markdown",
   "id": "140e9595",
   "metadata": {},
   "source": [
    "数据格式很乱，不是标准 JSON。\n",
    "需要逐个文件处理，用正则提取有效信息。"
   ]
  },
  {
   "cell_type": "markdown",
   "id": "a090095f",
   "metadata": {},
   "source": [
    "## address_merge_with_mobile_data.json\n",
    "\n",
    "```\n",
    "{\"_source\":{\"APP_TYPE\":\"1229999\",\"ATTR_IDENT_LABEL\":\"07\",\"ATTR_IDENT_LABEL_DETL\":\"{\"LABEL_DETL\":[{\"07\":\"shga_wa.ods_nb_tab_goods\"}]}\",\"BIG_SOURCE\":\"WA\",\"COUNT\":\"3\",\"DATA_SOURCE\":\"115\",\"DETAIL\":\"{\"nameinfo\":[{\"name\":\"刘婵女士\"}]}\",\"FIRST_TIME\":\"1562126476\",\"IDENTITY_TYPE\":\"mobile\",\"IDENTITY_VALUE\":\"18627855112\",\"LAST_TIME\":\"1562557677\",\"MRG_ID\":\"cda7c53c06248628cd33777dff71d9a3\",\"SRC_ADDRESS\":\"智慧e谷大楼(5楼)\",\"SRC_ID\":\"cda7c53c06248628cd33777dff71d9a3\",\"TABLE_SOURCE\":\"shga_wa.ods_nb_tab_goods\"},\"_type\":\"a\",\"sort\":[33150]}\"\"\"\n",
    "```"
   ]
  },
  {
   "cell_type": "code",
   "execution_count": 22,
   "id": "9f4d3bef",
   "metadata": {},
   "outputs": [
    {
     "data": {
      "text/plain": [
       "[('刘婵女士', 'mobile', '18627855112', '智慧e谷大楼(5楼)')]"
      ]
     },
     "execution_count": 22,
     "metadata": {},
     "output_type": "execute_result"
    }
   ],
   "source": [
    "import re\n",
    "\n",
    "raw = \"\"\"{\"_source\":{\"APP_TYPE\":\"1229999\",\"ATTR_IDENT_LABEL\":\"07\",\"ATTR_IDENT_LABEL_DETL\":\"{\"LABEL_DETL\":[{\"07\":\"shga_wa.ods_nb_tab_goods\"}]}\",\"BIG_SOURCE\":\"WA\",\"COUNT\":\"3\",\"DATA_SOURCE\":\"115\",\"DETAIL\":\"{\"nameinfo\":[{\"name\":\"刘婵女士\"}]}\",\"FIRST_TIME\":\"1562126476\",\"IDENTITY_TYPE\":\"mobile\",\"IDENTITY_VALUE\":\"18627855112\",\"LAST_TIME\":\"1562557677\",\"MRG_ID\":\"cda7c53c06248628cd33777dff71d9a3\",\"SRC_ADDRESS\":\"智慧e谷大楼(5楼)\",\"SRC_ID\":\"cda7c53c06248628cd33777dff71d9a3\",\"TABLE_SOURCE\":\"shga_wa.ods_nb_tab_goods\"},\"_type\":\"a\",\"sort\":[33150]}\"\"\"\n",
    "regex = r\"\\\"name\\\":\\\"(?P<name>[^\\\"]+)\\\".*?\\\"IDENTITY_TYPE\\\":\\\"(?P<type>[^\\\"]+)\\\".*?\\\"IDENTITY_VALUE\\\":\\\"(?P<val>[^\\\"]+)\\\".*?\\\"SRC_ADDRESS\\\":\\\"(?P<addr>[^\\\"]+)\\\".*?\"\n",
    "\n",
    "addr_regex = re.compile(regex)\n",
    "addr_regex.findall(raw)\n"
   ]
  },
  {
   "cell_type": "code",
   "execution_count": 26,
   "id": "a1bd643f",
   "metadata": {},
   "outputs": [],
   "source": [
    "import codecs\n",
    "\n",
    "# {\"_source\":{\"APP_TYPE\":\"1229999\",\"ATTR_IDENT_LABEL\":\"07\",\"ATTR_IDENT_LABEL_DETL\":\"{\"LABEL_DETL\":[{\"07\":\"shga_wa.ods_nb_tab_goods\"}]}\",\"BIG_SOURCE\":\"WA\",\"COUNT\":\"3\",\"DATA_SOURCE\":\"115\",\"DETAIL\":\"{\"nameinfo\":[{\"name\":\"刘婵女士\"}]}\",\"FIRST_TIME\":\"1562126476\",\"IDENTITY_TYPE\":\"mobile\",\"IDENTITY_VALUE\":\"18627855112\",\"LAST_TIME\":\"1562557677\",\"MRG_ID\":\"cda7c53c06248628cd33777dff71d9a3\",\"SRC_ADDRESS\":\"智慧e谷大楼(5楼)\",\"SRC_ID\":\"cda7c53c06248628cd33777dff71d9a3\",\"TABLE_SOURCE\":\"shga_wa.ods_nb_tab_goods\"},\"_type\":\"a\",\"sort\":[33150]}\n",
    "\n",
    "col = db['persons']\n",
    "i = 0\n",
    "with codecs.open(r\"/home/laisky/Downloads/address_merge_with_mobile_data.json\", 'r', 'utf8') as fp:\n",
    "    for line in fp:\n",
    "        matched = addr_regex.findall(line)\n",
    "        if len(matched) != 1 or matched[0][1].lower() != \"mobile\":\n",
    "            continue\n",
    "            \n",
    "        docu = {\n",
    "            \"name\": matched[0][0],\n",
    "            \"mobile\": matched[0][2],\n",
    "            \"address\": matched[0][3],\n",
    "        }\n",
    "        col.update_one(\n",
    "            filter={\"mobile\": docu['mobile']},\n",
    "            update={\"$set\": docu},\n",
    "            upsert=True,\n",
    "        )\n",
    "        i += 1\n",
    "        if i % 100 == 0:\n",
    "            print(f\"inserted {i}\")"
   ]
  },
  {
   "cell_type": "markdown",
   "id": "47536d75",
   "metadata": {},
   "source": [
    "## case_data_index.json\n",
    "\n",
    "```\n",
    "{\"_id\":\"AW8713gL3Lv7g0L99dUe\",\"_index\":\"nb_theme_address_case_dwd-total\",\"_score\":null,\"_source\":{\"ADDR_DETL\":\"{\"caseState\":\"受理\",\"policeJson\":{\"bm\":\"310113630000\",\"cjdwmc\":\"上海市公安局宝山分局顾村派出所\",\"cjdwdh\":null},\"caseAddress\":\"上海市宝山区教育路555弄12号501室\",\"tableSource\":\"shga_dwd.base_wsba_hx_a_ajjbqk_df\"}\",\"ADDR_TYPE\":\"02\",\"BUILDING_L9\":\"12号\",\"CASE_NAME\":\"教育路555弄12号501室纠纷案\",\"CASE_NUMBER\":\"C3101136300002013100579\",\"CITY_L2\":\"上海市\",\"CONFIDENCE\":\"4\",\"COUNTY_L3\":\"宝山区\",\"GEOHASH7\":\"wtw66kj\",\"GEOHASH8\":\"wtw66kjt\",\"GEOHASH9\":\"wtw66kjt8\",\"LATITUDE\":\"31.355935\",\"LOC_SOURCE\":\"0\",\"LONGITUDE\":\"121.395524\",\"MCS_ID\":\"4622821d1ccb293cbad6e029dc9a5aae\",\"NONG_L6\":\"555弄\",\"PROVINCE_L1\":\"上海市\",\"ROAD_L5\":\"教育路\",\"ROOM_L12\":\"501室\",\"STD_ADDRESS\":\"上海市上海市宝山区教育路555弄12号501室\"},\"_type\":\"a\",\"sort\":[26100]}\n",
    "\n",
    "```"
   ]
  },
  {
   "cell_type": "markdown",
   "id": "c1acfefd",
   "metadata": {},
   "source": [
    "## person_info.json\n",
    "\n",
    "```\n",
    "{\"_id\":\"AXtamfr9mkHrMSbQCSme\",\"_index\":\"person_address_label_info_master\",\"_score\":null,\"_source\":{\"AGE\":6,\"BIRTHDAY\":\"2015\",\"BPLACE\":\"浙江省衢州市柯城区\",\"HHPLACE\":\"浙江省衢州市柯城区九华乡上铺村徐莫39号\",\"IDNO\":\"330802201501207944\",\"IDTYPE\":\"01\",\"PHOTO\":\"{\"身份证\":[\"http://oss-cn-shanghai-shga-d01-a.ops.ga.sh/shga-ryzp/CSJ/ZHEJIANG_CZRK_ZP/59578841_330802.jpg\"]}\",\"QUERY_STRING\":\"  浙江省衢州市柯城区  浙江省衢州市柯城区九华乡上铺村徐莫39号 6 15 2015 \",\"RNAME\":\"危婧彤\",\"SEX\":\"女\"},\"_type\":\"a\",\"sort\":[6754953]}\n",
    "{\"_id\":\"AXtamMSkxRtHEfZelWKn\",\"_index\":\"person_address_label_info_master\",\"_score\":null,\"_source\":{\"AGE\":43,\"BIRTHDAY\":\"1978\",\"BPLACE\":\"湖北省十堰市张湾区\",\"HEIGHT\":\"160\",\"IDNO\":\"420303197812271726\",\"IDTYPE\":\"01\",\"QUERY_STRING\":\"  湖北省十堰市张湾区   43 78 1978 \",\"RNAME\":\"王立华\",\"SEX\":\"女\"},\"_type\":\"a\",\"sort\":[6754953]}\n",
    "\n",
    "```"
   ]
  },
  {
   "cell_type": "code",
   "execution_count": 30,
   "id": "7f83c6a9",
   "metadata": {},
   "outputs": [
    {
     "ename": "JSONDecodeError",
     "evalue": "Expecting ',' delimiter: line 1 column 233 (char 232)",
     "output_type": "error",
     "traceback": [
      "\u001b[0;31m---------------------------------------------------------------------------\u001b[0m",
      "\u001b[0;31mJSONDecodeError\u001b[0m                           Traceback (most recent call last)",
      "Input \u001b[0;32mIn [30]\u001b[0m, in \u001b[0;36m<cell line: 8>\u001b[0;34m()\u001b[0m\n\u001b[1;32m      5\u001b[0m person_regex \u001b[38;5;241m=\u001b[39m re\u001b[38;5;241m.\u001b[39mcompile(regex)\n\u001b[1;32m      6\u001b[0m person_regex\u001b[38;5;241m.\u001b[39mfindall(raw)\n\u001b[0;32m----> 8\u001b[0m \u001b[43mjson\u001b[49m\u001b[38;5;241;43m.\u001b[39;49m\u001b[43mloads\u001b[49m\u001b[43m(\u001b[49m\u001b[43mraw\u001b[49m\u001b[43m)\u001b[49m\n",
      "File \u001b[0;32m~/.pyenv/versions/3.9.7/lib/python3.9/json/__init__.py:346\u001b[0m, in \u001b[0;36mloads\u001b[0;34m(s, cls, object_hook, parse_float, parse_int, parse_constant, object_pairs_hook, **kw)\u001b[0m\n\u001b[1;32m    341\u001b[0m     s \u001b[38;5;241m=\u001b[39m s\u001b[38;5;241m.\u001b[39mdecode(detect_encoding(s), \u001b[38;5;124m'\u001b[39m\u001b[38;5;124msurrogatepass\u001b[39m\u001b[38;5;124m'\u001b[39m)\n\u001b[1;32m    343\u001b[0m \u001b[38;5;28;01mif\u001b[39;00m (\u001b[38;5;28mcls\u001b[39m \u001b[38;5;129;01mis\u001b[39;00m \u001b[38;5;28;01mNone\u001b[39;00m \u001b[38;5;129;01mand\u001b[39;00m object_hook \u001b[38;5;129;01mis\u001b[39;00m \u001b[38;5;28;01mNone\u001b[39;00m \u001b[38;5;129;01mand\u001b[39;00m\n\u001b[1;32m    344\u001b[0m         parse_int \u001b[38;5;129;01mis\u001b[39;00m \u001b[38;5;28;01mNone\u001b[39;00m \u001b[38;5;129;01mand\u001b[39;00m parse_float \u001b[38;5;129;01mis\u001b[39;00m \u001b[38;5;28;01mNone\u001b[39;00m \u001b[38;5;129;01mand\u001b[39;00m\n\u001b[1;32m    345\u001b[0m         parse_constant \u001b[38;5;129;01mis\u001b[39;00m \u001b[38;5;28;01mNone\u001b[39;00m \u001b[38;5;129;01mand\u001b[39;00m object_pairs_hook \u001b[38;5;129;01mis\u001b[39;00m \u001b[38;5;28;01mNone\u001b[39;00m \u001b[38;5;129;01mand\u001b[39;00m \u001b[38;5;129;01mnot\u001b[39;00m kw):\n\u001b[0;32m--> 346\u001b[0m     \u001b[38;5;28;01mreturn\u001b[39;00m \u001b[43m_default_decoder\u001b[49m\u001b[38;5;241;43m.\u001b[39;49m\u001b[43mdecode\u001b[49m\u001b[43m(\u001b[49m\u001b[43ms\u001b[49m\u001b[43m)\u001b[49m\n\u001b[1;32m    347\u001b[0m \u001b[38;5;28;01mif\u001b[39;00m \u001b[38;5;28mcls\u001b[39m \u001b[38;5;129;01mis\u001b[39;00m \u001b[38;5;28;01mNone\u001b[39;00m:\n\u001b[1;32m    348\u001b[0m     \u001b[38;5;28mcls\u001b[39m \u001b[38;5;241m=\u001b[39m JSONDecoder\n",
      "File \u001b[0;32m~/.pyenv/versions/3.9.7/lib/python3.9/json/decoder.py:337\u001b[0m, in \u001b[0;36mJSONDecoder.decode\u001b[0;34m(self, s, _w)\u001b[0m\n\u001b[1;32m    332\u001b[0m \u001b[38;5;28;01mdef\u001b[39;00m \u001b[38;5;21mdecode\u001b[39m(\u001b[38;5;28mself\u001b[39m, s, _w\u001b[38;5;241m=\u001b[39mWHITESPACE\u001b[38;5;241m.\u001b[39mmatch):\n\u001b[1;32m    333\u001b[0m     \u001b[38;5;124;03m\"\"\"Return the Python representation of ``s`` (a ``str`` instance\u001b[39;00m\n\u001b[1;32m    334\u001b[0m \u001b[38;5;124;03m    containing a JSON document).\u001b[39;00m\n\u001b[1;32m    335\u001b[0m \n\u001b[1;32m    336\u001b[0m \u001b[38;5;124;03m    \"\"\"\u001b[39;00m\n\u001b[0;32m--> 337\u001b[0m     obj, end \u001b[38;5;241m=\u001b[39m \u001b[38;5;28;43mself\u001b[39;49m\u001b[38;5;241;43m.\u001b[39;49m\u001b[43mraw_decode\u001b[49m\u001b[43m(\u001b[49m\u001b[43ms\u001b[49m\u001b[43m,\u001b[49m\u001b[43m \u001b[49m\u001b[43midx\u001b[49m\u001b[38;5;241;43m=\u001b[39;49m\u001b[43m_w\u001b[49m\u001b[43m(\u001b[49m\u001b[43ms\u001b[49m\u001b[43m,\u001b[49m\u001b[43m \u001b[49m\u001b[38;5;241;43m0\u001b[39;49m\u001b[43m)\u001b[49m\u001b[38;5;241;43m.\u001b[39;49m\u001b[43mend\u001b[49m\u001b[43m(\u001b[49m\u001b[43m)\u001b[49m\u001b[43m)\u001b[49m\n\u001b[1;32m    338\u001b[0m     end \u001b[38;5;241m=\u001b[39m _w(s, end)\u001b[38;5;241m.\u001b[39mend()\n\u001b[1;32m    339\u001b[0m     \u001b[38;5;28;01mif\u001b[39;00m end \u001b[38;5;241m!=\u001b[39m \u001b[38;5;28mlen\u001b[39m(s):\n",
      "File \u001b[0;32m~/.pyenv/versions/3.9.7/lib/python3.9/json/decoder.py:353\u001b[0m, in \u001b[0;36mJSONDecoder.raw_decode\u001b[0;34m(self, s, idx)\u001b[0m\n\u001b[1;32m    344\u001b[0m \u001b[38;5;124;03m\"\"\"Decode a JSON document from ``s`` (a ``str`` beginning with\u001b[39;00m\n\u001b[1;32m    345\u001b[0m \u001b[38;5;124;03ma JSON document) and return a 2-tuple of the Python\u001b[39;00m\n\u001b[1;32m    346\u001b[0m \u001b[38;5;124;03mrepresentation and the index in ``s`` where the document ended.\u001b[39;00m\n\u001b[0;32m   (...)\u001b[0m\n\u001b[1;32m    350\u001b[0m \n\u001b[1;32m    351\u001b[0m \u001b[38;5;124;03m\"\"\"\u001b[39;00m\n\u001b[1;32m    352\u001b[0m \u001b[38;5;28;01mtry\u001b[39;00m:\n\u001b[0;32m--> 353\u001b[0m     obj, end \u001b[38;5;241m=\u001b[39m \u001b[38;5;28;43mself\u001b[39;49m\u001b[38;5;241;43m.\u001b[39;49m\u001b[43mscan_once\u001b[49m\u001b[43m(\u001b[49m\u001b[43ms\u001b[49m\u001b[43m,\u001b[49m\u001b[43m \u001b[49m\u001b[43midx\u001b[49m\u001b[43m)\u001b[49m\n\u001b[1;32m    354\u001b[0m \u001b[38;5;28;01mexcept\u001b[39;00m \u001b[38;5;167;01mStopIteration\u001b[39;00m \u001b[38;5;28;01mas\u001b[39;00m err:\n\u001b[1;32m    355\u001b[0m     \u001b[38;5;28;01mraise\u001b[39;00m JSONDecodeError(\u001b[38;5;124m\"\u001b[39m\u001b[38;5;124mExpecting value\u001b[39m\u001b[38;5;124m\"\u001b[39m, s, err\u001b[38;5;241m.\u001b[39mvalue) \u001b[38;5;28;01mfrom\u001b[39;00m \u001b[38;5;28mNone\u001b[39m\n",
      "\u001b[0;31mJSONDecodeError\u001b[0m: Expecting ',' delimiter: line 1 column 233 (char 232)"
     ]
    }
   ],
   "source": [
    "raw = \"\"\"{\"_id\":\"AXtamfr9mkHrMSbQCSme\",\"_index\":\"person_address_label_info_master\",\"_score\":null,\"_source\":{\"AGE\":6,\"BIRTHDAY\":\"2015\",\"BPLACE\":\"浙江省衢州市柯城区\",\"HHPLACE\":\"浙江省衢州市柯城区九华乡上铺村徐莫39号\",\"IDNO\":\"330802201501207944\",\"IDTYPE\":\"01\",\"PHOTO\":\"{\"身份证\":[\"http://oss-cn-shanghai-shga-d01-a.ops.ga.sh/shga-ryzp/CSJ/ZHEJIANG_CZRK_ZP/59578841_330802.jpg\"]}\",\"QUERY_STRING\":\"  浙江省衢州市柯城区  浙江省衢州市柯城区九华乡上铺村徐莫39号 6 15 2015 \",\"RNAME\":\"危婧彤\",\"SEX\":\"女\"},\"_type\":\"a\",\"sort\":[6754953]}\n",
    "\"\"\"\n",
    "regex = r\"\\\"IDNO\\\":\\\"([^\\\"]+)\\\".*?\\\"QUERY_STRING\\\":\\\"([^\\\"]+)\\\".*?\\\"RNAME\\\":\\\"([^\\\"]+)\\\".*?\\\"SEX\\\":\\\"([^\\\"]+)\\\".*?\"\n",
    "\n",
    "person_regex = re.compile(regex)\n",
    "person_regex.findall(raw)\n",
    "\n",
    "json.loads(raw)"
   ]
  },
  {
   "cell_type": "code",
   "execution_count": null,
   "id": "b232038b",
   "metadata": {},
   "outputs": [],
   "source": [
    "col = db['persons']\n",
    "i = 0\n",
    "with codecs.open(r\"/home/laisky/Downloads/address_merge_with_mobile_data.json\", 'r', 'utf8') as fp:\n",
    "    for line in fp:\n",
    "        matched = addr_regex.findall(line)\n",
    "        if len(matched) != 1 or matched[0][1].lower() != \"mobile\":\n",
    "            continue\n",
    "            \n",
    "        docu = {\n",
    "            \"name\": matched[0][0],\n",
    "            \"mobile\": matched[0][2],\n",
    "            \"address\": matched[0][3],\n",
    "        }\n",
    "        col.update_one(\n",
    "            filter={\"mobile\": docu['mobile']},\n",
    "            update={\"$set\": docu},\n",
    "            upsert=True,\n",
    "        )\n",
    "        i += 1\n",
    "        if i % 100 == 0:\n",
    "            print(f\"inserted {i}\")"
   ]
  }
 ],
 "metadata": {
  "kernelspec": {
   "display_name": "Python 3 (ipykernel)",
   "language": "python",
   "name": "python3"
  },
  "language_info": {
   "codemirror_mode": {
    "name": "ipython",
    "version": 3
   },
   "file_extension": ".py",
   "mimetype": "text/x-python",
   "name": "python",
   "nbconvert_exporter": "python",
   "pygments_lexer": "ipython3",
   "version": "3.9.7"
  }
 },
 "nbformat": 4,
 "nbformat_minor": 5
}
