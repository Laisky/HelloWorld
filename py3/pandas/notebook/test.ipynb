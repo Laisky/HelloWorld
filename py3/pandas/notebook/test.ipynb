{
 "metadata": {
  "name": "",
  "signature": "sha256:35c779061918dab7856397cd51a997bc69a1cbdd940e69f8d7239af614fa2c6e"
 },
 "nbformat": 3,
 "nbformat_minor": 0,
 "worksheets": [
  {
   "cells": [
    {
     "cell_type": "code",
     "collapsed": false,
     "input": [
      "' \u7684 '.encode('utf-8')"
     ],
     "language": "python",
     "metadata": {},
     "outputs": [
      {
       "metadata": {},
       "output_type": "pyout",
       "prompt_number": 1,
       "text": [
        "b' \\xe7\\x9a\\x84 '"
       ]
      }
     ],
     "prompt_number": 1
    }
   ],
   "metadata": {}
  }
 ]
}