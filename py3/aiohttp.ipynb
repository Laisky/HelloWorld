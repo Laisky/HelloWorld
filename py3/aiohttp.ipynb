{
 "cells": [
  {
   "cell_type": "code",
   "execution_count": 44,
   "metadata": {
    "collapsed": false,
    "scrolled": true
   },
   "outputs": [
    {
     "name": "stdout",
     "output_type": "stream",
     "text": [
      "n_success:  300\n",
      "n_fail:  0\n",
      "total: 4525.749 ms\n",
      "per: 15.086 ms\n"
     ]
    }
   ],
   "source": [
    "import asyncio\n",
    "import time\n",
    "\n",
    "import aiohttp\n",
    "\n",
    "\n",
    "N_CON = 300\n",
    "\n",
    "\n",
    "async def post_profile(url, data):\n",
    "    return await aiohttp.post(url, data=data)\n",
    "\n",
    "\n",
    "url = 'http://localhost:8080/'\n",
    "data = {\n",
    "    'username': 'laisky',\n",
    "    'password': '123'\n",
    "}\n",
    "\n",
    "async def main():\n",
    "    n_succ = n_fail = 0\n",
    "    \n",
    "    for _ in range(N_CON):\n",
    "        r = await post_profile(url, data)\n",
    "        if r.status == 200:\n",
    "            n_succ += 1\n",
    "        else:\n",
    "            n_fail += 1\n",
    "            \n",
    "    print('n_success: ', n_succ)\n",
    "    print('n_fail: ', n_fail)\n",
    "\n",
    "        \n",
    "loop = asyncio.get_event_loop()\n",
    "start_at = time.time()\n",
    "loop.run_until_complete(main())\n",
    "end_at = time.time()\n",
    "\n",
    "print('total: {:0.3f} ms'.format((end_at - start_at) * 1000))\n",
    "print('per: {:0.3f} ms'.format((end_at - start_at) / N_CON * 1000))\n"
   ]
  },
  {
   "cell_type": "code",
   "execution_count": 5,
   "metadata": {
    "collapsed": false
   },
   "outputs": [
    {
     "data": {
      "text/plain": [
       "['a']"
      ]
     },
     "execution_count": 5,
     "metadata": {},
     "output_type": "execute_result"
    }
   ],
   "source": [
    "l = ['a', 'b']\n",
    "l.remove('b')\n",
    "l"
   ]
  }
 ],
 "metadata": {
  "kernelspec": {
   "display_name": "Python 3",
   "language": "python",
   "name": "python3"
  },
  "language_info": {
   "codemirror_mode": {
    "name": "ipython",
    "version": 3
   },
   "file_extension": ".py",
   "mimetype": "text/x-python",
   "name": "python",
   "nbconvert_exporter": "python",
   "pygments_lexer": "ipython3",
   "version": "3.5.1"
  }
 },
 "nbformat": 4,
 "nbformat_minor": 0
}
