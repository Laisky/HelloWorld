{
 "cells": [
  {
   "cell_type": "code",
   "execution_count": 2,
   "metadata": {
    "collapsed": true
   },
   "outputs": [],
   "source": [
    "# 用于在排过序的数组中插入数据\n",
    "\n",
    "import bisect\n",
    "import random"
   ]
  },
  {
   "cell_type": "code",
   "execution_count": 9,
   "metadata": {
    "collapsed": false
   },
   "outputs": [
    {
     "name": "stdout",
     "output_type": "stream",
     "text": [
      "0,0,0,1,1,1,2,2,2,0,0,0,2,2,2,1,1,1,4,4,4,7,6,7,4,4,4,5,5,5,8,8,8,4,4,4,3,3,3,1,1,1,9,9,9,0,0,0,8,8,8,9,9,9,15,15,15,19,17,19,"
     ]
    },
    {
     "data": {
      "text/plain": [
       "[4, 9, 13, 16, 18, 27, 33, 49, 50, 56, 58, 61, 63, 64, 73, 78, 84, 98, 98, 98]"
      ]
     },
     "execution_count": 9,
     "metadata": {},
     "output_type": "execute_result"
    }
   ],
   "source": [
    "l = []\n",
    "random.seed(1)\n",
    "\n",
    "for _ in range(20):\n",
    "    num = random.randint(1, 100)\n",
    "    print(bisect.bisect(l, num), end=',')        # 只显示插入位置\n",
    "    print(bisect.bisect_left(l, num), end=',')   # 同 bisect\n",
    "    print(bisect.bisect_right(l, num), end=',')  # 从右侧插入\n",
    "    bisect.insort(l, num)  # 插入数据  \n",
    "    # bisect.insort_left\n",
    "    # bisect.insort_right\n",
    "    \n",
    "l"
   ]
  },
  {
   "cell_type": "code",
   "execution_count": 17,
   "metadata": {
    "collapsed": false
   },
   "outputs": [
    {
     "name": "stdout",
     "output_type": "stream",
     "text": [
      "1 loops, best of 3: 260 ms per loop\n",
      "1 loops, best of 3: 2.17 s per loop\n"
     ]
    }
   ],
   "source": [
    "# benchmark\n",
    "\n",
    "def sort_after_insert():\n",
    "#     l = [random.randint(1, 100) for _ in range(100000)]\n",
    "    l = []\n",
    "    [l.append(random.randint(1, 100)) for _ in range(100000)]\n",
    "    l.sort()\n",
    "    return l\n",
    "\n",
    "\n",
    "def sort_by_bisect():\n",
    "    l = []\n",
    "    [bisect.insort(l, random.randint(1, 100)) for _ in range(100000)]\n",
    "    return l\n",
    "\n",
    "\n",
    "%timeit sort_after_insert()\n",
    "%timeit sort_by_bisect()"
   ]
  }
 ],
 "metadata": {
  "kernelspec": {
   "display_name": "Python 3",
   "language": "python",
   "name": "python3"
  },
  "language_info": {
   "codemirror_mode": {
    "name": "ipython",
    "version": 3
   },
   "file_extension": ".py",
   "mimetype": "text/x-python",
   "name": "python",
   "nbconvert_exporter": "python",
   "pygments_lexer": "ipython3",
   "version": "3.4.1"
  }
 },
 "nbformat": 4,
 "nbformat_minor": 0
}
