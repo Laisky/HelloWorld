{
 "cells": [
  {
   "cell_type": "code",
   "execution_count": 3,
   "metadata": {
    "collapsed": false
   },
   "outputs": [
    {
     "name": "stdout",
     "output_type": "stream",
     "text": [
      "[(0, 112), (3, 95), (4, 95), (6, 94), (9, 93), (8, 92), (2, 90), (5, 90), (1, 84), (7, 82), (10, 73)]\n"
     ]
    }
   ],
   "source": [
    "# Counter\n",
    "import random\n",
    "from collections import Counter\n",
    "\n",
    "\n",
    "sample = [random.randint(0, 10) for _ in range(1000)]\n",
    "c = Counter(sample)\n",
    "print(c.most_common())"
   ]
  },
  {
   "cell_type": "code",
   "execution_count": 4,
   "metadata": {
    "collapsed": false
   },
   "outputs": [
    {
     "data": {
      "text/plain": [
       "defaultdict(<class 'int'>, {2: 1})"
      ]
     },
     "execution_count": 4,
     "metadata": {},
     "output_type": "execute_result"
    }
   ],
   "source": [
    "# defaultdict\n",
    "from collections import defaultdict\n",
    "\n",
    "\n",
    "d = defaultdict(int)\n",
    "d[2] += 1\n",
    "d"
   ]
  },
  {
   "cell_type": "code",
   "execution_count": 9,
   "metadata": {
    "collapsed": false
   },
   "outputs": [
    {
     "name": "stdout",
     "output_type": "stream",
     "text": [
      "name(val1=11, val2=22)\n",
      "11\n"
     ]
    }
   ],
   "source": [
    "# namedtuple\n",
    "from collections import namedtuple\n",
    "\n",
    "\n",
    "nt = namedtuple('name', ['val1', 'val2'])\n",
    "n1 = nt(val1=11, val2=22)\n",
    "n2 = nt(33, 44)\n",
    "\n",
    "print(n1)\n",
    "print(n1.val1)"
   ]
  },
  {
   "cell_type": "code",
   "execution_count": 21,
   "metadata": {
    "collapsed": false
   },
   "outputs": [
    {
     "name": "stdout",
     "output_type": "stream",
     "text": [
      "OrderedDict([(2, 5), (3, 4), (4, 3), (5, 2)])\n",
      "KeysView(OrderedDict([(2, 5), (3, 4), (4, 3), (5, 2)]))\n"
     ]
    }
   ],
   "source": [
    "# OrderedDict\n",
    "from collections import OrderedDict\n",
    "\n",
    "\n",
    "d = {5: 2, 4: 3, 3: 4, 2: 5}\n",
    "od = OrderedDict(sorted(d.items(), key=lambda it: it[0]))\n",
    "print(od)\n",
    "print(od.keys())"
   ]
  }
 ],
 "metadata": {
  "kernelspec": {
   "display_name": "Python 3",
   "language": "python",
   "name": "python3"
  },
  "language_info": {
   "codemirror_mode": {
    "name": "ipython",
    "version": 3
   },
   "file_extension": ".py",
   "mimetype": "text/x-python",
   "name": "python",
   "nbconvert_exporter": "python",
   "pygments_lexer": "ipython3",
   "version": "3.4.1"
  }
 },
 "nbformat": 4,
 "nbformat_minor": 0
}
