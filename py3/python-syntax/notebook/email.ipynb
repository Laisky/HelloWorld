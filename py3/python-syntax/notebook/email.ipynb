{
 "cells": [
  {
   "cell_type": "markdown",
   "metadata": {},
   "source": [
    "email\n",
    "===\n",
    "\n",
    "https://docs.python.org/3/library/email-examples.html"
   ]
  },
  {
   "cell_type": "code",
   "execution_count": 1,
   "metadata": {
    "collapsed": false
   },
   "outputs": [
    {
     "data": {
      "text/plain": [
       "(221, b'2.0.0 Bye')"
      ]
     },
     "execution_count": 1,
     "metadata": {},
     "output_type": "execute_result"
    }
   ],
   "source": [
    "import smtplib\n",
    "from email.mime.text import MIMEText\n",
    "\n",
    "\n",
    "msg = MIMEText('baoshan VS-NeiWang（10-32-33-1） Port195 Vlanif234 shutdown unexpected')\n",
    "msg = MIMEText('vlanif234')\n",
    "\n",
    "msg['Subject'] = '端口异常 VS-NeiWang(10.32.33.1) Port195 Vlanif234'\n",
    "msg['From'] = 'cmdb@chexiang.com'\n",
    "msg['To'] = 'caizhonghua@chexiang.com'\n",
    "\n",
    "# Send the message via our own SMTP server.\n",
    "s = smtplib.SMTP('10.32.135.22', port=25)\n",
    "# s.login(user='messerflow@edm.chexiang.com')\n",
    "s.send_message(msg)\n",
    "s.quit()"
   ]
  }
 ],
 "metadata": {
  "kernelspec": {
   "display_name": "Python 3",
   "language": "python",
   "name": "python3"
  },
  "language_info": {
   "codemirror_mode": {
    "name": "ipython",
    "version": 3
   },
   "file_extension": ".py",
   "mimetype": "text/x-python",
   "name": "python",
   "nbconvert_exporter": "python",
   "pygments_lexer": "ipython3",
   "version": "3.4.2"
  }
 },
 "nbformat": 4,
 "nbformat_minor": 0
}
