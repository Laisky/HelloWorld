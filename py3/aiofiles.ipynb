{
 "cells": [
  {
   "cell_type": "markdown",
   "metadata": {},
   "source": [
    "aiofiles\n",
    "===\n",
    "\n",
    "https://github.com/Tinche/aiofiles"
   ]
  },
  {
   "cell_type": "code",
   "execution_count": 4,
   "metadata": {
    "collapsed": false
   },
   "outputs": [
    {
     "name": "stdout",
     "output_type": "stream",
     "text": [
      "hello, world\n",
      "\n"
     ]
    }
   ],
   "source": [
    "import asyncio\n",
    "\n",
    "import aiofiles\n",
    "from PIL import Image\n",
    "\n",
    "\n",
    "async def main():\n",
    "    async with aiofiles.open('./data/test.txt', mode='r') as f:\n",
    "        contents = await f.read()\n",
    "        print(contents)\n",
    "    \n",
    "\n",
    "ioloop = asyncio.get_event_loop()\n",
    "ioloop.run_until_complete(main())"
   ]
  }
 ],
 "metadata": {
  "kernelspec": {
   "display_name": "Python 3",
   "language": "python",
   "name": "python3"
  },
  "language_info": {
   "codemirror_mode": {
    "name": "ipython",
    "version": 3
   },
   "file_extension": ".py",
   "mimetype": "text/x-python",
   "name": "python",
   "nbconvert_exporter": "python",
   "pygments_lexer": "ipython3",
   "version": "3.6.0"
  }
 },
 "nbformat": 4,
 "nbformat_minor": 2
}
