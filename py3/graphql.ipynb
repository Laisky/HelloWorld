{
 "cells": [
  {
   "cell_type": "code",
   "execution_count": 19,
   "metadata": {},
   "outputs": [],
   "source": [
    "from asyncio import get_event_loop\n",
    "\n",
    "from aiographql.client import GraphQLClient,GraphQLRequest\n",
    "\n",
    "\n",
    "cli = GraphQLClient(\n",
    "    endpoint=\"https://blog.laisky.com/graphql/query/\"\n",
    ")\n",
    "loop = get_event_loop()"
   ]
  },
  {
   "cell_type": "code",
   "execution_count": 18,
   "metadata": {},
   "outputs": [
    {
     "data": {
      "text/plain": [
       "'{1}'"
      ]
     },
     "execution_count": 18,
     "metadata": {},
     "output_type": "execute_result"
    }
   ],
   "source": [
    "f'{{1}}'"
   ]
  },
  {
   "cell_type": "code",
   "execution_count": null,
   "metadata": {},
   "outputs": [],
   "source": []
  },
  {
   "cell_type": "code",
   "execution_count": 12,
   "metadata": {},
   "outputs": [
    {
     "name": "stderr",
     "output_type": "stream",
     "text": [
      "Unclosed client session\n",
      "client_session: <aiohttp.client.ClientSession object at 0x111e69cd0>\n"
     ]
    }
   ],
   "source": [
    "\n",
    "async def foo():\n",
    "    resp = await cli.query(GraphQLRequest(query=\"\"\"\n",
    "        query {\n",
    "            TwitterStatues(\n",
    "                regexp: \"白矮星\",\n",
    "            ) {\n",
    "                text\n",
    "            }\n",
    "        }\n",
    "    \"\"\"))\n",
    "    return resp\n",
    "\n",
    "\n",
    "resp = await foo()\n"
   ]
  },
  {
   "cell_type": "code",
   "execution_count": 14,
   "metadata": {},
   "outputs": [
    {
     "data": {
      "text/plain": [
       "{'TwitterStatues': [{'text': 'https://twitter.com/laisky_sh/status/1202602352034795520?s=21\\n\\n可以将宇宙的超新星简单的分为两类：\\n\\n1. 一型超新星是一个恒星+白矮星的双星系统，白矮星不断地吸收恒星的物质，达到一定量后就会发生一次爆发，循环往复。\\n\\n2. 二型超新星就是质量超过 1.4 倍太阳质量的恒星在死亡时发生的大爆炸。 https://twitter.com/hddcgjyrdb/status/1202602352034795520 https://s3.laisky.com/uploads/twitter/EO3g0msU0AEP1oc.jpg'},\n",
       "  {'text': '超过了昌德拉塞卡极限的白矮星会被压缩成中子星，此时其结构由泡利定理的中子简并压力支撑，该结构的极限称为蓝道-奥本海默-沃尔科夫极限，约为 2.5 个太阳质量。\\n下一步就是黑洞了。 https://twitter.com/MichaelGalanin/status/1202753365593202688'},\n",
       "  {'text': '每个红巨星内部都有一个白矮星，白矮星慢慢地蚕食着红巨星的物质，依靠泡利不相容定理抵抗着红巨星内部的巨大压力。\\n当红巨星的压力超过泡利不相容的极限时，就会压塌白矮星，形成超新星。这个阈值称为昌德拉塞卡极限，大约是 1.4 个太阳质量。 https://s3.laisky.com/uploads/twitter/ELCAdQAUcAAEqR2.jpg'},\n",
       "  {'text': '一张图告诉你元素都是从哪儿来的： 蓝色：大爆炸核熔合；绿色：即将熄灭的低质量恒星；黄色：大质量恒星爆炸；红色：宇宙射线裂变；紫色：中子星合并；银色：白矮星爆炸；所以啊，我们都是宇宙 https://Lvv2.com/t/679801/ http://pbs.twimg.com/media/DPoLuokUIAAok6u.jpg'},\n",
       "  {'text': '话说，如果说白矮星的最终归宿是冰冷的岩石，那么我们现在所处的地球曾经是一颗炽热的类太阳恒星可能性有多高？——读《物理世界奇遇》疑惑。'},\n",
       "  {'text': 'http://www.nasa.gov/mission_pages/spitzer/news/spitzergalex20121003.html 这曾是一颗酷似太阳的”恒星“，距离宝瓶座650光年的NGC7293，在燃烧完了自己的气体燃料后爆炸了，星核塌缩而成的白矮星释放的紫外线照亮了喷射而出的物质，图片由紫外线和红外线合并而成 #NASA http://twitter.com/ppcelery/status/254162334929530880/photo/1'}]}"
      ]
     },
     "execution_count": 14,
     "metadata": {},
     "output_type": "execute_result"
    }
   ],
   "source": [
    "resp.data"
   ]
  }
 ],
 "metadata": {
  "kernelspec": {
   "display_name": "Python 3",
   "language": "python",
   "name": "python3"
  },
  "language_info": {
   "codemirror_mode": {
    "name": "ipython",
    "version": 3
   },
   "file_extension": ".py",
   "mimetype": "text/x-python",
   "name": "python",
   "nbconvert_exporter": "python",
   "pygments_lexer": "ipython3",
   "version": "3.8.0"
  }
 },
 "nbformat": 4,
 "nbformat_minor": 2
}
