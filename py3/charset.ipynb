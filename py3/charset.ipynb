{
 "cells": [
  {
   "cell_type": "code",
   "execution_count": 29,
   "metadata": {},
   "outputs": [
    {
     "name": "stdout",
     "output_type": "stream",
     "text": [
      "<class 'str'>\n",
      "<class 'bytes'>\n",
      "<class 'bytes'>\n"
     ]
    }
   ],
   "source": [
    "unicode_data = '123'\n",
    "utf8_bytes = unicode_data.encode('utf8')\n",
    "gbk_bytes = unicode_data.encode('gbk')\n",
    "\n",
    "print(type(unicode_data))\n",
    "print(type(utf8_bytes))\n",
    "print(type(gbk_bytes))\n",
    "\n",
    "# <class 'str'>\n",
    "# <class 'bytes'>\n",
    "# <class 'bytes'>\n",
    "\n",
    "import tempfile\n",
    "\n",
    "with tempfile.TemporaryFile(mode='wb+') as utf_fp, \\\n",
    "        tempfile.TemporaryFile(mode='wb+') as gbk_fp:\n",
    "\n",
    "    utf_fp.write(utf8_bytes)\n",
    "    gbk_fp.write(gbk_bytes)\n",
    "\n",
    "    utf_fp.seek(0, 0)\n",
    "    gbk_fp.seek(0, 0)\n",
    "\n",
    "\n",
    "    utf8_bytes_2 = utf_fp.read()\n",
    "    gbk_bytes_2 = gbk_fp.read()\n",
    "\n",
    "    assert utf8_bytes_2 == utf8_bytes\n",
    "    assert gbk_bytes_2 == gbk_bytes\n",
    "\n",
    "    assert utf8_bytes_2.decode('utf8') == gbk_bytes_2.decode('gbk')\n",
    "\n"
   ]
  }
 ],
 "metadata": {
  "kernelspec": {
   "display_name": "Python 3",
   "language": "python",
   "name": "python3"
  },
  "language_info": {
   "codemirror_mode": {
    "name": "ipython",
    "version": 3
   },
   "file_extension": ".py",
   "mimetype": "text/x-python",
   "name": "python",
   "nbconvert_exporter": "python",
   "pygments_lexer": "ipython3",
   "version": "3.7.4"
  }
 },
 "nbformat": 4,
 "nbformat_minor": 2
}
