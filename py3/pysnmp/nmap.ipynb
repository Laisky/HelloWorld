{
 "cells": [
  {
   "cell_type": "code",
   "execution_count": null,
   "metadata": {
    "collapsed": true
   },
   "outputs": [],
   "source": [
    "import subprocess\n",
    "\n",
    "def exec_shell(cmd):\n",
    "    p = subprocess.Popen(cmd, shell=True,\n",
    "                         stdout=subprocess.PIPE, stderr=subprocess.PIPE)\n",
    "    out, err = p.communicate()\n",
    "\n",
    "    return out, err"
   ]
  },
  {
   "cell_type": "code",
   "execution_count": null,
   "metadata": {
    "collapsed": false
   },
   "outputs": [],
   "source": [
    "out, err = exec_shell('sudo nmap 10.32.33.6 --traceroute --script=snmp-interfaces --script-args snmpcommunity=huawei@123 -A -sU -p 161 --min-parallelism 50')"
   ]
  },
  {
   "cell_type": "code",
   "execution_count": null,
   "metadata": {
    "collapsed": false
   },
   "outputs": [],
   "source": [
    "o, e = exec_shell('snmpwalk -v 2c -c huawei@123 10.32.33.6 RFC1213-MIB::ifDescr')\n",
    "print(o.decode('utf-8'))"
   ]
  },
  {
   "cell_type": "code",
   "execution_count": null,
   "metadata": {
    "collapsed": false,
    "scrolled": false
   },
   "outputs": [],
   "source": [
    "from pysnmp.entity.rfc3413.oneliner import cmdgen\n",
    "\n",
    "cmd = cmdgen.CommandGenerator()\n",
    "\n",
    "errorIndication, errorStatus, errorIndex, varBinds = cmd.nextCmd(\n",
    "    # v2\n",
    "    cmdgen.CommunityData('huawei@123'),\n",
    "    cmdgen.UdpTransportTarget(('10.32.33.6', 161)),\n",
    "    (('', 'ifDescr'),),\n",
    ")\n",
    "\n",
    "print(\n",
    "    'errorIndication: {}\\n'\n",
    "    'errorStatus: {}\\n'\n",
    "    'errorIndex: {}\\n'\n",
    "    'varBinds: {}'\n",
    "    .format(errorIndication, errorStatus, errorIndex, varBinds)\n",
    ")"
   ]
  },
  {
   "cell_type": "code",
   "execution_count": null,
   "metadata": {
    "collapsed": false
   },
   "outputs": [],
   "source": [
    "builder.MibBuilder().getMibPath()"
   ]
  },
  {
   "cell_type": "code",
   "execution_count": null,
   "metadata": {
    "collapsed": false
   },
   "outputs": [],
   "source": [
    "import string\n",
    "from pysnmp.smi import builder, view, error\n",
    "from pysnmp.entity.rfc3413.oneliner import cmdgen\n",
    "from collections import namedtuple as NT\n",
    "\n",
    "cmdGen = cmdgen.CommandGenerator()\n",
    "mibBuilder = builder.MibBuilder()\n",
    "# mibPath = mibBuilder.getMibPath() + ('/opt/python/Models/Network/MIBs',)\n",
    "# mibBuilder.setMibPath(*mibPath)\n",
    "mibBuilder.loadModules(\n",
    "    'RFC-1213',\n",
    "    )\n",
    "mibView = view.MibViewController(mibBuilder)\n",
    "errorIndication, errorStatus, errorIndex, \\\n",
    "                 varBindTable = cmdGen.nextCmd(\n",
    "    # SNMP v2\n",
    "    cmdgen.CommunityData('huawei@123'),\n",
    "    # Transport\n",
    "    cmdgen.UdpTransportTarget(('10.32.33.10', 161)),\n",
    "#     (('IP-MIB', 'ipNetToMediaNetAddress'),),\n",
    "    (('RFC1213-MIB', 'ifDescr'),)\n",
    "    )\n",
    "\n",
    "# SNMPObject = NT('SNMPObject', ['modName', 'symName', 'index', 'value'])\n",
    "\n",
    "varBindTable"
   ]
  }
 ],
 "metadata": {
  "kernelspec": {
   "display_name": "Python 3",
   "language": "python",
   "name": "python3"
  },
  "language_info": {
   "codemirror_mode": {
    "name": "ipython",
    "version": 3
   },
   "file_extension": ".py",
   "mimetype": "text/x-python",
   "name": "python",
   "nbconvert_exporter": "python",
   "pygments_lexer": "ipython3",
   "version": "3.4.2"
  }
 },
 "nbformat": 4,
 "nbformat_minor": 0
}
