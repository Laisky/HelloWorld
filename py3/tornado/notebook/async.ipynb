{
 "cells": [
  {
   "cell_type": "code",
   "execution_count": 9,
   "metadata": {
    "collapsed": false
   },
   "outputs": [],
   "source": [
    "import tornado\n",
    "import tornado.gen\n",
    "import tornado.ioloop\n",
    "\n",
    "\n",
    "def bind_task(ioloop, thread_executor, process_executor):\n",
    "    # 将任务添加进事件循环中\n",
    "    ioloop.add_future(async_task(), callback)\n",
    "\n",
    "\n",
    "@tornado.gen.coroutine\n",
    "def async_task():\n",
    "    yield tornado.gen.sleep(3)\n",
    "    return (yield async_child_task())\n",
    "\n",
    "\n",
    "@tornado.gen.coroutine\n",
    "def async_child_task():\n",
    "    yield tornado.gen.sleep(1)\n",
    "    print('child task ok!')\n",
    "    return 10\n",
    "\n",
    "\n",
    "def callback(future):\n",
    "    print('ok')\n",
    "    print(future.result())"
   ]
  },
  {
   "cell_type": "code",
   "execution_count": 12,
   "metadata": {
    "collapsed": false
   },
   "outputs": [
    {
     "name": "stdout",
     "output_type": "stream",
     "text": [
      "child task ok!\n",
      "ok\n",
      "10\n",
      "child task ok!"
     ]
    }
   ],
   "source": [
    "tornado.ioloop.IOLoop.instance().add_future(async_task(), callback)\n",
    "ioloop"
   ]
  }
 ],
 "metadata": {
  "kernelspec": {
   "display_name": "Python 3",
   "language": "python",
   "name": "python3"
  },
  "language_info": {
   "codemirror_mode": {
    "name": "ipython",
    "version": 3
   },
   "file_extension": ".py",
   "mimetype": "text/x-python",
   "name": "python",
   "nbconvert_exporter": "python",
   "pygments_lexer": "ipython3",
   "version": "3.4.2"
  }
 },
 "nbformat": 4,
 "nbformat_minor": 0
}
