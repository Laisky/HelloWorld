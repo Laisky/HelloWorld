{
 "cells": [
  {
   "cell_type": "code",
   "execution_count": 4,
   "metadata": {
    "collapsed": false
   },
   "outputs": [],
   "source": [
    "from xml.etree import ElementTree\n",
    "\n",
    "raw = open('/Users/laisky/Desktop/snmp.xml', 'r').read()\n",
    "root = ElementTree.fromstring(raw)"
   ]
  },
  {
   "cell_type": "code",
   "execution_count": 59,
   "metadata": {
    "collapsed": false
   },
   "outputs": [
    {
     "name": "stdout",
     "output_type": "stream",
     "text": [
      "1.1.1.1 through: 1.1.1.1 -> 1.1.1.1 -> 1.1.1.1\n",
      "1.1.1.1 through: 1.1.1.1 -> 1.1.1.1 -> 1.1.1.1 -> 1.1.1.1\n",
      "1.1.1.1 through: 1.1.1.1 -> 1.1.1.1 -> 1.1.1.1 -> 1.1.1.1\n",
      "1.1.1.1 through: 1.1.1.1 -> 1.1.1.1 -> 1.1.1.1 -> 1.1.1.1\n",
      "1.1.1.1 through: 1.1.1.1 -> 1.1.1.1 -> 1.1.1.1 -> 1.1.1.1\n",
      "1.1.1.1 through: 1.1.1.1 -> 1.1.1.1 -> 1.1.1.1 -> 1.1.1.1\n",
      "1.1.1.1 through: 1.1.1.1 -> 1.1.1.1 -> 1.1.1.1 -> 1.1.1.1\n",
      "1.1.1.1 through: 1.1.1.1 -> 1.1.1.1 -> 1.1.1.1 -> 1.1.1.1\n",
      "1.1.1.1 through: 1.1.1.1 -> 1.1.1.1 -> 1.1.1.1 -> 1.1.1.1\n",
      "1.1.1.1 through: 1.1.1.1 -> 1.1.1.1 -> 1.1.1.1 -> 1.1.1.1\n",
      "1.1.1.1 through: 1.1.1.1 -> 1.1.1.1 -> 1.1.1.1 -> 1.1.1.1\n",
      "1.1.1.1 through: 1.1.1.1 -> 1.1.1.1 -> 1.1.1.1 -> 1.1.1.1\n",
      "1.1.1.1 through: 1.1.1.1 -> 1.1.1.1 -> 1.1.1.1 -> 1.1.1.1\n",
      "1.1.1.1 through: 1.1.1.1 -> 1.1.1.1 -> 1.1.1.1 -> 1.1.1.1\n",
      "1.1.1.1 through: 1.1.1.1 -> 1.1.1.1 -> 1.1.1.1 -> 1.1.1.1\n",
      "1.1.1.1 through: 1.1.1.1 -> 1.1.1.1 -> 1.1.1.1 -> 1.1.1.1\n",
      "1.1.1.1 through: 1.1.1.1 -> 1.1.1.1 -> 1.1.1.1 -> 1.1.1.1\n",
      "1.1.1.1 through: 1.1.1.1 -> 1.1.1.1 -> 1.1.1.1 -> 1.1.1.1\n",
      "1.1.1.1 through: 1.1.1.1 -> 1.1.1.1 -> 1.1.1.1\n"
     ]
    }
   ],
   "source": [
    "for host in root.findall('./host'):\n",
    "    addr = host.find('./address').attrib['addr']\n",
    "    trace = [r.attrib['ipaddr'] for r in host.findall('./trace/hop')]\n",
    "    print('{addr} through: {trace}'.format(addr=addr, trace=' -> '.join(trace)))"
   ]
  }
 ],
 "metadata": {
  "kernelspec": {
   "display_name": "Python 3",
   "language": "python",
   "name": "python3"
  },
  "language_info": {
   "codemirror_mode": {
    "name": "ipython",
    "version": 3
   },
   "file_extension": ".py",
   "mimetype": "text/x-python",
   "name": "python",
   "nbconvert_exporter": "python",
   "pygments_lexer": "ipython3",
   "version": "3.4.2"
  }
 },
 "nbformat": 4,
 "nbformat_minor": 0
}
