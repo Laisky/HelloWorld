{
 "cells": [
  {
   "cell_type": "code",
   "execution_count": 1,
   "metadata": {
    "collapsed": false
   },
   "outputs": [
    {
     "data": {
      "text/plain": [
       "'1 2'"
      ]
     },
     "execution_count": 1,
     "metadata": {},
     "output_type": "execute_result"
    }
   ],
   "source": [
    "'{} {}'.format(1, 2)"
   ]
  },
  {
   "cell_type": "code",
   "execution_count": 2,
   "metadata": {
    "collapsed": false
   },
   "outputs": [
    {
     "data": {
      "text/plain": [
       "'2 1'"
      ]
     },
     "execution_count": 2,
     "metadata": {},
     "output_type": "execute_result"
    }
   ],
   "source": [
    "'{1} {0}'.format(1, 2)"
   ]
  },
  {
   "cell_type": "code",
   "execution_count": 3,
   "metadata": {
    "collapsed": false
   },
   "outputs": [
    {
     "data": {
      "text/plain": [
       "'str räpr r\\\\xe4pr '"
      ]
     },
     "execution_count": 3,
     "metadata": {},
     "output_type": "execute_result"
    }
   ],
   "source": [
    "class Data(object):\n",
    "\n",
    "    def __str__(self):\n",
    "        return 'str'\n",
    "\n",
    "    def __repr__(self):\n",
    "        return 'räpr'\n",
    "    \n",
    "    \n",
    "(\n",
    "    '{0!s} '   # __str__\n",
    "    '{0!r} '  # __repr__\n",
    "    '{0!a} '  # ascii()\n",
    "    .format(Data())\n",
    ")"
   ]
  },
  {
   "cell_type": "code",
   "execution_count": 4,
   "metadata": {
    "collapsed": false
   },
   "outputs": [
    {
     "data": {
      "text/plain": [
       "'      test@test      @   test   '"
      ]
     },
     "execution_count": 4,
     "metadata": {},
     "output_type": "execute_result"
    }
   ],
   "source": [
    "(\n",
    "    '{0:>10}'    # 左填充满十格\n",
    "    '@'\n",
    "    '{0:<10s}'   # 右填充十格\n",
    "    '@'\n",
    "    '{0:^10}'    # 两侧填充满十格\n",
    "    .format('test')\n",
    ")"
   ]
  },
  {
   "cell_type": "code",
   "execution_count": 5,
   "metadata": {
    "collapsed": false
   },
   "outputs": [
    {
     "data": {
      "text/plain": [
       "'abc ab '"
      ]
     },
     "execution_count": 5,
     "metadata": {},
     "output_type": "execute_result"
    }
   ],
   "source": [
    "(\n",
    "    '{0:.3} '  # 截取 0:3\n",
    "    '{0:3.2}'  # 截取两个，填充为3格\n",
    "    .format('abcdefghijklmn')\n",
    ")"
   ]
  },
  {
   "cell_type": "code",
   "execution_count": 6,
   "metadata": {
    "collapsed": false
   },
   "outputs": [
    {
     "name": "stdout",
     "output_type": "stream",
     "text": [
      "-3@  -3@-003@-   3\n",
      "003.14@\n"
     ]
    }
   ],
   "source": [
    "# 数字的格式化\n",
    "print(\n",
    "    '{0:d}@'    # 输出整数\n",
    "    '{0:4d}@'   # 左填充4格\n",
    "    '{0:04d}@'  # 用0填充4格\n",
    "    '{0:=5d}'   # 在符号和数字间填充满5格\n",
    "    .format(-3)\n",
    ")\n",
    "\n",
    "print(\n",
    "    '{:06.2f}@'  # 截取两位小数，用0填充至6位\n",
    "    .format(3.1415926)\n",
    ")"
   ]
  },
  {
   "cell_type": "code",
   "execution_count": 7,
   "metadata": {
    "collapsed": false
   },
   "outputs": [
    {
     "name": "stdout",
     "output_type": "stream",
     "text": [
      "1@2\n",
      "1@2\n",
      "1@2\n",
      "1@2\n"
     ]
    }
   ],
   "source": [
    "# 参数化\n",
    "print(\n",
    "    '{one}@{two}'\n",
    "    .format(**{'one': 1, 'two': 2})\n",
    ")\n",
    "\n",
    "print(\n",
    "    '{d[one]}@{d[two]}'\n",
    "    .format(d={'one': 1, 'two': 2})\n",
    ")\n",
    "\n",
    "print(\n",
    "    '{l[0]}@{l[1]}'\n",
    "    .format(l=[1, 2, 3])\n",
    ")\n",
    "\n",
    "class Data:\n",
    "    a = 1\n",
    "    b = 2\n",
    "    \n",
    "print(\n",
    "    '{o.a}@{o.b}'\n",
    "    .format(o=Data())\n",
    ")"
   ]
  },
  {
   "cell_type": "code",
   "execution_count": 8,
   "metadata": {
    "collapsed": false
   },
   "outputs": [
    {
     "data": {
      "text/plain": [
       "'2001-02-03 04:05'"
      ]
     },
     "execution_count": 8,
     "metadata": {},
     "output_type": "execute_result"
    }
   ],
   "source": [
    "from datetime import datetime\n",
    "\n",
    "'{:%Y-%m-%d %H:%M}'.format(datetime(2001, 2, 3, 4, 5))"
   ]
  },
  {
   "cell_type": "code",
   "execution_count": 9,
   "metadata": {
    "collapsed": false
   },
   "outputs": [
    {
     "data": {
      "text/plain": [
       "\"I'm afraid I can't do that.\""
      ]
     },
     "execution_count": 9,
     "metadata": {},
     "output_type": "execute_result"
    }
   ],
   "source": [
    "\"\"\"\n",
    "自定义对象的 format 方法\n",
    "\n",
    "定义 ``__format__`` 方法，\n",
    "根据参数 ``format`` 返回字符串\n",
    "\"\"\"\n",
    "\n",
    "class HAL9000(object):\n",
    "\n",
    "    def __format__(self, format):\n",
    "        if (format == 'open-the-pod-bay-doors'):\n",
    "            return \"I'm afraid I can't do that.\"\n",
    "        return 'HAL 9000'\n",
    "    \n",
    "    \n",
    "'{:open-the-pod-bay-doors}'.format(HAL9000())"
   ]
  }
 ],
 "metadata": {
  "kernelspec": {
   "display_name": "Python 3",
   "language": "python",
   "name": "python3"
  },
  "language_info": {
   "codemirror_mode": {
    "name": "ipython",
    "version": 3
   },
   "file_extension": ".py",
   "mimetype": "text/x-python",
   "name": "python",
   "nbconvert_exporter": "python",
   "pygments_lexer": "ipython3",
   "version": "3.4.2"
  }
 },
 "nbformat": 4,
 "nbformat_minor": 0
}
