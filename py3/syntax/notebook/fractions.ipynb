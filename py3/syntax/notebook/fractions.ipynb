{
 "cells": [
  {
   "cell_type": "markdown",
   "metadata": {},
   "source": [
    "将数转换为有理数的比"
   ]
  },
  {
   "cell_type": "code",
   "execution_count": 1,
   "metadata": {
    "collapsed": true
   },
   "outputs": [],
   "source": [
    "import fractions"
   ]
  },
  {
   "cell_type": "code",
   "execution_count": 8,
   "metadata": {
    "collapsed": false
   },
   "outputs": [
    {
     "name": "stdout",
     "output_type": "stream",
     "text": [
      "1\n",
      "1/2\n",
      "3/2\n",
      "3/2\n",
      "2476979795053773/2251799813685248\n"
     ]
    }
   ],
   "source": [
    "print(fractions.Fraction(1))\n",
    "print(fractions.Fraction(0.5))\n",
    "print(fractions.Fraction(1.5))\n",
    "print(fractions.Fraction(3, 2))"
   ]
  },
  {
   "cell_type": "code",
   "execution_count": 10,
   "metadata": {
    "collapsed": false
   },
   "outputs": [
    {
     "name": "stdout",
     "output_type": "stream",
     "text": [
      "0.1 = 1/10\n",
      "0.5 = 1/2\n",
      "1.5 = 3/2\n",
      "2.0 = 2\n"
     ]
    }
   ],
   "source": [
    "import decimal\n",
    "import fractions\n",
    "\n",
    "for v in [ decimal.Decimal('0.1'), \n",
    "           decimal.Decimal('0.5'), \n",
    "           decimal.Decimal('1.5'), \n",
    "           decimal.Decimal('2.0'),\n",
    "           ]:\n",
    "    print('%s = %s' % (v, fractions.Fraction.from_decimal(v)))"
   ]
  }
 ],
 "metadata": {
  "kernelspec": {
   "display_name": "Python 3",
   "language": "python",
   "name": "python3"
  },
  "language_info": {
   "codemirror_mode": {
    "name": "ipython",
    "version": 3
   },
   "file_extension": ".py",
   "mimetype": "text/x-python",
   "name": "python",
   "nbconvert_exporter": "python",
   "pygments_lexer": "ipython3",
   "version": "3.4.1"
  }
 },
 "nbformat": 4,
 "nbformat_minor": 0
}
