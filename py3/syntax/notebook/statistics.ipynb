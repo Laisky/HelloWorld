{
 "cells": [
  {
   "cell_type": "markdown",
   "metadata": {},
   "source": [
    "https://docs.python.org/3.5/library/statistics.html#module-statistics\n",
    "\n",
    "9.7. statistics — Mathematical statistics functions\n",
    "\n",
    "New in version 3.4."
   ]
  },
  {
   "cell_type": "code",
   "execution_count": 1,
   "metadata": {
    "collapsed": true
   },
   "outputs": [],
   "source": [
    "from pprint import pprint\n",
    "\n",
    "from statistics import (\n",
    "    mean,  # 平均 \n",
    "    median,   # 中位数\n",
    "    median_low,  # 中位数（较小的那个）\n",
    "    median_high,  # 中位数（较大的那个）\n",
    "    median_grouped,  # \n",
    "    mode  # 出现次数最多的数\n",
    ")"
   ]
  },
  {
   "cell_type": "code",
   "execution_count": 6,
   "metadata": {
    "collapsed": false
   },
   "outputs": [
    {
     "name": "stdout",
     "output_type": "stream",
     "text": [
      "[0, 1, 2, 3, 4, 5, 6, 7, 8, 9]\n",
      "4.5\n",
      "4.5\n",
      "5\n",
      "4\n",
      "4.5\n",
      "2\n"
     ]
    }
   ],
   "source": [
    "sample = list(range(10))\n",
    "\n",
    "pprint(sample)\n",
    "pprint(mean(sample))\n",
    "pprint(median(sample))\n",
    "pprint(median_high(sample))\n",
    "pprint(median_low(sample))\n",
    "pprint(median_grouped(sample, interval=1))  # wtf?\n",
    "pprint(mode([1, 2, 2, 3, 4, 5]))"
   ]
  },
  {
   "cell_type": "code",
   "execution_count": 3,
   "metadata": {
    "collapsed": true
   },
   "outputs": [],
   "source": [
    "from statistics import (\n",
    "    pstdev,  # 方差\n",
    "    pvariance,  # 偏差\n",
    "    stdev,  # 样本方差\n",
    "    variance,  # 样本偏差\n",
    ")"
   ]
  },
  {
   "cell_type": "code",
   "execution_count": 4,
   "metadata": {
    "collapsed": false
   },
   "outputs": [
    {
     "name": "stdout",
     "output_type": "stream",
     "text": [
      "2.8722813232690143\n",
      "8.25\n",
      "3.0276503540974917\n",
      "9.166666666666666\n"
     ]
    }
   ],
   "source": [
    "pprint(pstdev(sample, mu=None))  # mu 为平均数，缺省为自动计算\n",
    "pprint(pvariance(sample, mu=None))\n",
    "pprint(stdev(sample, xbar=None))\n",
    "pprint(variance(sample, xbar=None))"
   ]
  }
 ],
 "metadata": {
  "kernelspec": {
   "display_name": "Python 3",
   "language": "python",
   "name": "python3"
  },
  "language_info": {
   "codemirror_mode": {
    "name": "ipython",
    "version": 3
   },
   "file_extension": ".py",
   "mimetype": "text/x-python",
   "name": "python",
   "nbconvert_exporter": "python",
   "pygments_lexer": "ipython3",
   "version": "3.4.2"
  }
 },
 "nbformat": 4,
 "nbformat_minor": 0
}
