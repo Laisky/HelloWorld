{
 "cells": [
  {
   "cell_type": "code",
   "execution_count": 3,
   "metadata": {
    "collapsed": false
   },
   "outputs": [
    {
     "name": "stdout",
     "output_type": "stream",
     "text": [
      "9\n",
      "8\n",
      "7\n",
      "6\n",
      "5\n",
      "4\n",
      "3\n",
      "2\n",
      "1\n",
      "0\n"
     ]
    }
   ],
   "source": [
    "test = list(range(10))\n",
    "\n",
    "class Iterator():\n",
    "    def __init__(self, data):\n",
    "        self.data = data\n",
    "        \n",
    "    def __iter__(self):\n",
    "        return self\n",
    "    \n",
    "    def __next__(self):\n",
    "        while self.data:\n",
    "            return self.data.pop()\n",
    "        \n",
    "        raise StopIteration  # 结束循环\n",
    "        \n",
    "    \n",
    "it = Iterator(test)\n",
    "n = 0\n",
    "for i in it:\n",
    "    print(i)\n"
   ]
  },
  {
   "cell_type": "code",
   "execution_count": null,
   "metadata": {
    "collapsed": false
   },
   "outputs": [],
   "source": [
    "# traditional yield\n",
    "def my_yield():\n",
    "    fibo = [0, 1]\n",
    "    yield 0\n",
    "    while True:\n",
    "        yield fibo[-1]\n",
    "        fibo.append(fibo[-1] + fibo.pop(0))\n",
    "\n",
    "    \n",
    "    \n",
    "generator = my_yield()\n",
    "ls = [next(generator) for _ in range(20)]\n",
    "print(ls)"
   ]
  },
  {
   "cell_type": "code",
   "execution_count": null,
   "metadata": {
    "collapsed": false
   },
   "outputs": [],
   "source": [
    "def test_inner():\n",
    "    n = 0\n",
    "    while True:\n",
    "        n += 1\n",
    "        if n > 10:\n",
    "            break\n",
    "            \n",
    "        yield n\n",
    "        \n",
    "        \n",
    "def test_outer():\n",
    "    yield from test_inner()\n",
    "    print('outer')\n",
    "    \n",
    "    \n",
    "for i, ch in enumerate(test_outer()):\n",
    "    print(i, ch)\n",
    "        "
   ]
  }
 ],
 "metadata": {
  "kernelspec": {
   "display_name": "Python 3",
   "language": "python",
   "name": "python3"
  },
  "language_info": {
   "codemirror_mode": {
    "name": "ipython",
    "version": 3
   },
   "file_extension": ".py",
   "mimetype": "text/x-python",
   "name": "python",
   "nbconvert_exporter": "python",
   "pygments_lexer": "ipython3",
   "version": "3.4.2"
  }
 },
 "nbformat": 4,
 "nbformat_minor": 0
}
