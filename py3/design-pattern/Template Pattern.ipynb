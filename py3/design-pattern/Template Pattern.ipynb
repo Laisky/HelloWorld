{
 "cells": [
  {
   "cell_type": "markdown",
   "metadata": {},
   "source": [
    "模板方法 Template Pattern\n",
    "===\n",
    "\n",
    "> 在一个方法中定义一个算法的骨架，而将一些步骤延迟到子类中"
   ]
  },
  {
   "cell_type": "code",
   "execution_count": 1,
   "metadata": {
    "collapsed": true
   },
   "outputs": [],
   "source": [
    "from abc import ABCMeta, abstractmethod\n",
    "\n",
    "\n",
    "class AbstractBeverage(metaclass=ABCMeta):\n",
    "\n",
    "    \"\"\"作为模板的抽象类\"\"\"\n",
    "\n",
    "    def prepare_recipe(self):\n",
    "        \"\"\"模板方法，定好算法框架\"\"\"\n",
    "        self.boil_water()  # 烧水\n",
    "        self.brew()  # 添加原料，咖啡/茶\n",
    "        self.pour_in_cup()  # 倒进杯子\n",
    "        if(self.custom_wants_condiments()):  # 钩子：询问用户是否加料\n",
    "            self.add_condiments()\n",
    "\n",
    "    @abstractmethod\n",
    "    def brew(self):\n",
    "        \"\"\"子类自行定义加什么原料\"\"\"\n",
    "        raise NotImplementedError\n",
    "\n",
    "    @abstractmethod\n",
    "    def add_condiments(self):\n",
    "        \"\"\"子类自行定义加什么调料\"\"\"\n",
    "        pass\n",
    "\n",
    "    def custom_wants_condiments(self):\n",
    "        \"\"\"询问用户需要什么调料\"\"\"\n",
    "        pass\n",
    "\n",
    "    def boil_water(self):\n",
    "        \"\"\"烧水\"\"\"\n",
    "        pass\n",
    "\n",
    "    def pour_in_cup(self):\n",
    "        \"\"\"倒进杯子\"\"\"\n",
    "        pass\n"
   ]
  }
 ],
 "metadata": {
  "kernelspec": {
   "display_name": "Python 3",
   "language": "python",
   "name": "python3"
  },
  "language_info": {
   "codemirror_mode": {
    "name": "ipython",
    "version": 3
   },
   "file_extension": ".py",
   "mimetype": "text/x-python",
   "name": "python",
   "nbconvert_exporter": "python",
   "pygments_lexer": "ipython3",
   "version": "3.4.2"
  }
 },
 "nbformat": 4,
 "nbformat_minor": 0
}
