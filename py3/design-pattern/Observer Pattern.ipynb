{
 "cells": [
  {
   "cell_type": "markdown",
   "metadata": {},
   "source": [
    "Observer Pattern\n",
    "===\n",
    "\n",
    "> 定义了对象之间的一对多依赖，这样一来，当一个对象改变状态时，它的所有依赖者都会收到通知并自动更新"
   ]
  },
  {
   "cell_type": "code",
   "execution_count": 1,
   "metadata": {
    "collapsed": true
   },
   "outputs": [],
   "source": [
    "import uuid\n",
    "from collections import namedtuple, defaultdict\n",
    "\n",
    "\n",
    "class BasePublisher:\n",
    "\n",
    "    \"\"\"基础的发布者类\n",
    "    提供发布者应有的基础功能，可以继承并覆盖为自定义的方法\"\"\"\n",
    "\n",
    "    _TASK_TUPLE = namedtuple('EventListener', ['event', 'callback', 'context'])\n",
    "    _EVENT_LISTENERS = {}\n",
    "    _TASK_IDS = {}\n",
    "\n",
    "    def _create_new_event(self, event):\n",
    "        if event in self._EVENT_LISTENERS:\n",
    "            return\n",
    "\n",
    "        self._EVENT_LISTENERS[event] = defaultdict(dict)\n",
    "\n",
    "    def generate_task_id(self):\n",
    "        return uuid.uuid1()\n",
    "\n",
    "    def generate_task_tuple(self, event, callback, context):\n",
    "        return self._TASK_TUPLE(event=event, callback=callback, context=context)\n",
    "\n",
    "    def _add_new_task(self, event, task_id, task_tuple):\n",
    "        assert task_id not in self._TASK_IDS\n",
    "        self._create_new_event(event)\n",
    "        self._EVENT_LISTENERS[event][task_id] = task_tuple\n",
    "        self._TASK_IDS[task_id] = event\n",
    "\n",
    "    def _remove_task(self, task_id):\n",
    "        assert task_id in self._TASK_IDS\n",
    "        event = self._TASK_IDS[task_id]\n",
    "        del self._EVENT_LISTENERS[event][task_id]\n",
    "        del self._TASK_IDS[task_id]\n",
    "\n",
    "    def register(self, event, callback, context=None):\n",
    "        \"\"\"注册事件和回调函数\n",
    "\n",
    "        Parameters\n",
    "        ----------\n",
    "        event : str\n",
    "            事件名\n",
    "        callback : callback(event, event_data, context)\n",
    "            事件回调函数，依次传入事件名，事件数据和注册上下文\n",
    "        context : 事件上下文，会在触发回调时传入\n",
    "        \"\"\"\n",
    "        task_id = self.generate_task_id()\n",
    "        task_tuple = self.generate_task_tuple(event, callback, context)\n",
    "        self._add_new_task(event, task_id, task_tuple)\n",
    "        return task_id\n",
    "\n",
    "    def unregister(self, task_id):\n",
    "        \"\"\"注销\"\"\"\n",
    "        self._remove_task(task_id)\n",
    "        return task_id\n",
    "\n",
    "    def trigger(self, event, event_data):\n",
    "        \"\"\"触发器\n",
    "        每当有事件发生时，应该触发该函数，该函数负责调用注册的监听函数\n",
    "        \"\"\"\n",
    "        for task_tuple in self._EVENT_LISTENERS:\n",
    "            try:\n",
    "                callback = task_tuple.callback\n",
    "                context = task_tuple.context\n",
    "                callback(event, event_data, context)\n",
    "            except Exception as err:\n",
    "                self.exception(err, event, event_data, task_tuple)\n",
    "\n",
    "    def exception(self, err, event, event_data, task_tuple):\n",
    "        pass\n"
   ]
  }
 ],
 "metadata": {
  "kernelspec": {
   "display_name": "Python 3",
   "language": "python",
   "name": "python3"
  },
  "language_info": {
   "codemirror_mode": {
    "name": "ipython",
    "version": 3
   },
   "file_extension": ".py",
   "mimetype": "text/x-python",
   "name": "python",
   "nbconvert_exporter": "python",
   "pygments_lexer": "ipython3",
   "version": "3.4.2"
  }
 },
 "nbformat": 4,
 "nbformat_minor": 0
}
