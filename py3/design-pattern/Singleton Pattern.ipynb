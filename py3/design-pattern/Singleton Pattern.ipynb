{
 "cells": [
  {
   "cell_type": "markdown",
   "metadata": {},
   "source": [
    "单件模式 Singleton Pattern\n",
    "===\n",
    "\n",
    "> 确保一个类只有一个实例，并提供一个全局访问点\n",
    ">\n",
    "> 下述的例子中没有考虑线程安全，请按照双重检查加锁的原则进行改写"
   ]
  },
  {
   "cell_type": "code",
   "execution_count": 1,
   "metadata": {
    "collapsed": false
   },
   "outputs": [
    {
     "data": {
      "text/plain": [
       "True"
      ]
     },
     "execution_count": 1,
     "metadata": {},
     "output_type": "execute_result"
    }
   ],
   "source": [
    "class Singleton:\n",
    "\n",
    "    \"\"\"通过重载 new 方法\n",
    "        保存类变量 _instance 的方式来实现单例\n",
    "    \"\"\"\n",
    "\n",
    "    def __new__(cls, *args, **kw):\n",
    "        if not hasattr(cls, '_instance'):\n",
    "            cls._instance = super().__new__(cls, *args, **kw)\n",
    "\n",
    "        return cls._instance\n",
    "\n",
    "    \n",
    "a = Singleton()\n",
    "b = Singleton()\n",
    "a is b"
   ]
  },
  {
   "cell_type": "code",
   "execution_count": 2,
   "metadata": {
    "collapsed": false
   },
   "outputs": [
    {
     "data": {
      "text/plain": [
       "True"
      ]
     },
     "execution_count": 2,
     "metadata": {},
     "output_type": "execute_result"
    }
   ],
   "source": [
    "class Singleton:\n",
    "\n",
    "    \"\"\"通过共享属性来模拟单例\n",
    "        其实不是严格的单例，但是实例间共享属性\n",
    "    \"\"\"\n",
    "\n",
    "    _state = {}\n",
    "\n",
    "    def __new__(cls, *args, **kw):\n",
    "        ob = super().__new__(cls, *args, **kw)\n",
    "        ob.__dict__ = cls._state\n",
    "\n",
    "        return ob\n",
    "\n",
    "\n",
    "    \n",
    "a = Singleton()\n",
    "b = Singleton()\n",
    "a.a = '123123'\n",
    "a.a is b.a"
   ]
  },
  {
   "cell_type": "code",
   "execution_count": 3,
   "metadata": {
    "collapsed": false
   },
   "outputs": [
    {
     "data": {
      "text/plain": [
       "True"
      ]
     },
     "execution_count": 3,
     "metadata": {},
     "output_type": "execute_result"
    }
   ],
   "source": [
    "class MetaSigleton(type):\n",
    "    \n",
    "    \"\"\"通过元类来实现单例\n",
    "        元类是指导类生成的，生成一个包含类变量的类，\n",
    "        并定义类调用时的 __call__ 方法\n",
    "    \"\"\"\n",
    "\n",
    "    def __init__(cls, name, bases, dict):\n",
    "        super().__init__(name, bases, dict)\n",
    "        cls._instance = None  # 初始化类\n",
    "\n",
    "    def __call__(cls, *args, **kw):\n",
    "        \"\"\"类实例化的时，先于 __new__\n",
    "        若已实例化过，直接返回实例\n",
    "        \"\"\"\n",
    "        if cls._instance is None:\n",
    "            cls._instance = super().__call__(*args, **kw)\n",
    "\n",
    "        return cls._instance\n",
    "\n",
    "    \n",
    "class Singleton(metaclass=MetaSigleton):\n",
    "    pass\n",
    "\n",
    "\n",
    "a = Singleton()\n",
    "b = Singleton()\n",
    "a is b"
   ]
  },
  {
   "cell_type": "code",
   "execution_count": 4,
   "metadata": {
    "collapsed": false
   },
   "outputs": [
    {
     "data": {
      "text/plain": [
       "True"
      ]
     },
     "execution_count": 4,
     "metadata": {},
     "output_type": "execute_result"
    }
   ],
   "source": [
    "from functools import wraps\n",
    "\n",
    "\n",
    "def singleton(cls):\n",
    "    instances = {}\n",
    "\n",
    "    @wraps(cls)\n",
    "    def wrapper(*args, **kw):\n",
    "        \"\"\"其实类似于用元类来复写 __call__\n",
    "            不过是用类修饰器来实现\n",
    "        \"\"\"\n",
    "        if cls not in instances:\n",
    "            instances[cls] = cls(*args, **kw)\n",
    "\n",
    "        return instances[cls]\n",
    "\n",
    "    return wrapper\n",
    "\n",
    "\n",
    "@singleton\n",
    "class Singleton:\n",
    "    pass\n",
    "\n",
    "\n",
    "a = Singleton()\n",
    "b = Singleton()\n",
    "a is b"
   ]
  }
 ],
 "metadata": {
  "kernelspec": {
   "display_name": "Python 3",
   "language": "python",
   "name": "python3"
  },
  "language_info": {
   "codemirror_mode": {
    "name": "ipython",
    "version": 3
   },
   "file_extension": ".py",
   "mimetype": "text/x-python",
   "name": "python",
   "nbconvert_exporter": "python",
   "pygments_lexer": "ipython3",
   "version": "3.4.2"
  }
 },
 "nbformat": 4,
 "nbformat_minor": 0
}
