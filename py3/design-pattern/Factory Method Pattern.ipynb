{
 "cells": [
  {
   "cell_type": "markdown",
   "metadata": {},
   "source": [
    "Factory Method Pattern\n",
    "===\n",
    "\n",
    "> 定义一个创建对象的接口，但由子类决定要实例化的类是哪一个，将创建实例和处理实例解耦"
   ]
  },
  {
   "cell_type": "code",
   "execution_count": 1,
   "metadata": {
    "collapsed": false
   },
   "outputs": [],
   "source": [
    "from abc import ABCMeta, abstractmethod\n",
    "\n",
    "\n",
    "class AbstractPizzaStore(metaclass=ABCMeta):\n",
    "    \n",
    "    \"\"\"抽象 Pizza 店\"\"\"\n",
    "    \n",
    "    def order_pizza(self, pizza_type):\n",
    "        \"\"\"由工厂方法负责制造 pizza\n",
    "        销售流程并不受 pizza 实例的影，方便标准化管理\n",
    "        \"\"\"\n",
    "        pizza = self.create_pizza(pizza_type)\n",
    "        \n",
    "        # 固定的销售流程\n",
    "        pizza.prepare()\n",
    "        pizza.bake()\n",
    "        pizza.cut()\n",
    "        pizza.box()\n",
    "        \n",
    "        return pizza\n",
    "    \n",
    "    @abstractmethod\n",
    "    def create_pizza(self, pizza_type):\n",
    "        \"\"\"定义抽象的 pizza 工厂方法\n",
    "        由继承类来决定具体的实现方法\"\"\"\n",
    "        \n",
    "        raise NotImplementedError\n",
    "        \n",
    "\n",
    "class NyPizzaStore(AbstractPizzaStore):\n",
    "    \n",
    "    \"\"\"纽约 pizza 加盟店\"\"\"\n",
    "    \n",
    "    def create_pizza(self, pizza_type):\n",
    "        # return NewYork pizza\n",
    "        pass"
   ]
  },
  {
   "cell_type": "markdown",
   "metadata": {},
   "source": [
    "Abstract Factory Pattern\n",
    "===\n",
    "\n",
    "> 工厂方法将销售和制作区分开来。\n",
    ">\n",
    "> 抽象工厂类将原料和制作区分开。\n",
    ">\n",
    "> 实例化抽象工厂类，会获得一个本地的工厂类，负责产出原料"
   ]
  },
  {
   "cell_type": "code",
   "execution_count": 2,
   "metadata": {
    "collapsed": true
   },
   "outputs": [],
   "source": [
    "class AbstractPizzaStore(metaclass=ABCMeta):\n",
    "    \n",
    "    \"\"\"抽象 Pizza 店\"\"\"\n",
    "    \n",
    "    def __init__(self, factory):\n",
    "        \"\"\"设定原料工厂\"\"\"\n",
    "        self._factory = factory\n",
    "    \n",
    "    def order_pizza(self, pizza_type):\n",
    "        \"\"\"由工厂方法负责制造 pizza\n",
    "        销售流程并不受 pizza 实例的影，方便标准化管理\n",
    "        \"\"\"\n",
    "        pizza = self.create_pizza(pizza_type)\n",
    "        \n",
    "        # 固定的销售流程\n",
    "        pizza.prepare()\n",
    "        pizza.bake()\n",
    "        pizza.cut()\n",
    "        pizza.box()\n",
    "        \n",
    "        return pizza\n",
    "    \n",
    "    @abstractmethod\n",
    "    def create_pizza(self, pizza_type):\n",
    "        \"\"\"定义抽象的 pizza 工厂方法\n",
    "        由继承类来决定具体的实现方法\"\"\"\n",
    "        \n",
    "        raise NotImplementedError\n",
    "        \n",
    "    def prepare(self, pizza_type):\n",
    "        \"\"\"准备披萨\n",
    "        分别调用 create_dough 和 create_sauce\n",
    "        \"\"\"\n",
    "        dough = self._factory.create_dough()\n",
    "        sauce = self._factory.create_sauce()\n",
    "        return dough, sauce\n",
    "        \n",
    "\n",
    "class AbstractFactory(metaclass=ABCMeta):\n",
    "    \n",
    "    \"\"\"抽象工厂，定义准备原料的抽象方法\"\"\"\n",
    "    \n",
    "    @abstractmethod\n",
    "    def create_dough(self):\n",
    "        raise NotImplementedError\n",
    "    \n",
    "    @abstractmethod\n",
    "    def create_sauce(self):\n",
    "        raise NotImplementedError\n",
    "    \n",
    "    \n",
    "class NewYorkFactory(AbstractFactory):\n",
    "\n",
    "    \"\"\"纽约的披萨工厂，有自己的原料\"\"\"\n",
    "    \n",
    "    def create_dough(self):\n",
    "        pass\n",
    "    \n",
    "    def create_sauce(self):\n",
    "        pass"
   ]
  }
 ],
 "metadata": {
  "kernelspec": {
   "display_name": "Python 3",
   "language": "python",
   "name": "python3"
  },
  "language_info": {
   "codemirror_mode": {
    "name": "ipython",
    "version": 3
   },
   "file_extension": ".py",
   "mimetype": "text/x-python",
   "name": "python",
   "nbconvert_exporter": "python",
   "pygments_lexer": "ipython3",
   "version": "3.4.2"
  }
 },
 "nbformat": 4,
 "nbformat_minor": 0
}
