{
 "cells": [
  {
   "cell_type": "markdown",
   "metadata": {},
   "source": [
    "Deterministic finite automaton\n",
    "===\n",
    "\n",
    "有限自动机\n",
    "\n",
    "https://en.wikipedia.org/wiki/Deterministic_finite_automaton\n",
    "\n"
   ]
  },
  {
   "cell_type": "code",
   "execution_count": 3,
   "metadata": {},
   "outputs": [
    {
     "data": {
      "text/plain": [
       "{'天安门'}"
      ]
     },
     "execution_count": 3,
     "metadata": {},
     "output_type": "execute_result"
    }
   ],
   "source": [
    "from collections import defaultdict\n",
    "\n",
    "\n",
    "keywords = (\n",
    "    '测试一',\n",
    "    '测试二',\n",
    "    '天安门',\n",
    ")\n",
    "\n",
    "\n",
    "class DFAFilter:\n",
    "    \"\"\"\n",
    "    Examples:\n",
    "    ::\n",
    "        dfa_filter = DFAFilter()\n",
    "        dfa_filter.build_chains(keywords_set)\n",
    "        dfa_filter.load_keywords(raw_text)\n",
    "    \"\"\"\n",
    "\n",
    "    def load_keywords(self, raw_text):\n",
    "        \"\"\"\n",
    "        Args:\n",
    "            raw_text (str):\n",
    "\n",
    "        Returns:\n",
    "            set: keywords that in raw_text\n",
    "        \"\"\"\n",
    "        assert getattr(self, '_chains', None), 'Should invoke build_chains first'\n",
    "        return self.filter_keyword(raw_text)\n",
    "\n",
    "    def build_chains(self, keywords):\n",
    "        \"\"\"\n",
    "        Args:\n",
    "            keywords (set): lexicon of keywords\n",
    "        \"\"\"\n",
    "        chains = {}\n",
    "        for word in keywords:\n",
    "            node = chains\n",
    "            for char in word:\n",
    "                if char not in node:\n",
    "                    node[char] = {}\n",
    "\n",
    "                node = node[char]\n",
    "\n",
    "        self._chains = chains\n",
    "\n",
    "    def is_word_in_chains(self, chains, raw_text, n_len, i):\n",
    "        if raw_text[i] not in chains:\n",
    "            return None\n",
    "\n",
    "        if not chains[raw_text[i]]:\n",
    "            return i\n",
    "\n",
    "        if i == n_len - 1:\n",
    "            return None\n",
    "\n",
    "        return self.is_word_in_chains(chains=chains[raw_text[i]],\n",
    "                                      raw_text=raw_text,\n",
    "                                      n_len=n_len,\n",
    "                                      i=i+1)\n",
    "\n",
    "    def filter_keyword(self, raw_text):\n",
    "        result_keywords = set()\n",
    "        i, n_len = 0, len(raw_text)\n",
    "        for i in range(n_len):\n",
    "            li = self.is_word_in_chains(self._chains, raw_text, n_len, i)\n",
    "            if li is not None:\n",
    "                result_keywords.add(raw_text[i: li+1])\n",
    "\n",
    "        return result_keywords\n",
    "            \n",
    "    \n",
    "    \n",
    "dfa_f = DFAFilter()\n",
    "dfa_f.build_chains(keywords)\n",
    "dfa_f.load_keywords(raw_text)"
   ]
  },
  {
   "cell_type": "code",
   "execution_count": 13,
   "metadata": {},
   "outputs": [],
   "source": [
    "# 生成 keywords txt\n",
    "results = set()\n",
    "with open('/Users/laisky/Downloads/keywords.txt', 'r') as f:\n",
    "    for word in f:\n",
    "        results.add(word.strip())\n",
    "        \n",
    "with open('/Users/laisky/Downloads/keywords.txt', 'w') as f:\n",
    "    for word in results:\n",
    "        f.write('{}\\n'.format(word)) "
   ]
  }
 ],
 "metadata": {
  "kernelspec": {
   "display_name": "Python 3",
   "language": "python",
   "name": "python3"
  },
  "language_info": {
   "codemirror_mode": {
    "name": "ipython",
    "version": 3
   },
   "file_extension": ".py",
   "mimetype": "text/x-python",
   "name": "python",
   "nbconvert_exporter": "python",
   "pygments_lexer": "ipython3",
   "version": "3.6.2"
  }
 },
 "nbformat": 4,
 "nbformat_minor": 2
}
