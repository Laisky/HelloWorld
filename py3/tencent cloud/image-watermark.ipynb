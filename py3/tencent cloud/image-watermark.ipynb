{
 "cells": [
  {
   "cell_type": "code",
   "execution_count": 7,
   "id": "paperback-indie",
   "metadata": {},
   "outputs": [],
   "source": [
    "from sys import path\n",
    "\n",
    "\n",
    "path.append(\"/opt/configs/ramjet\")\n",
    "\n",
    "from prd import *"
   ]
  },
  {
   "cell_type": "code",
   "execution_count": 72,
   "id": "blond-roulette",
   "metadata": {},
   "outputs": [
    {
     "data": {
      "text/plain": [
       "{'User-Agent': 'python-requests/2.25.1', 'Accept-Encoding': 'gzip, deflate', 'Accept': '*/*', 'Connection': 'keep-alive'}"
      ]
     },
     "execution_count": 72,
     "metadata": {},
     "output_type": "execute_result"
    }
   ],
   "source": [
    "s = requests.Session()\n",
    "s.headers"
   ]
  },
  {
   "cell_type": "code",
   "execution_count": 8,
   "id": "phantom-today",
   "metadata": {},
   "outputs": [],
   "source": [
    "# -*- coding=utf-8\n",
    "# appid 已在配置中移除,请在参数 Bucket 中带上 appid。Bucket 由 BucketName-APPID 组成\n",
    "# 1. 设置用户配置, 包括 secretId，secretKey 以及 Region\n",
    "from qcloud_cos import CosConfig\n",
    "from qcloud_cos import CosS3Client\n",
    "import sys\n",
    "import logging\n",
    "\n",
    "logging.basicConfig(level=logging.INFO, stream=sys.stdout)\n",
    "\n",
    "secret_id = TENCENT_CLOUD_SECRET_ID      # 替换为用户的 secretId\n",
    "secret_key = TENCENT_CLOUD_SECRET_KEY      # 替换为用户的 secretKey\n",
    "region = TENCENT_CLOUD_REGION     # 替换为用户的 Region\n",
    "token = None                # 使用临时密钥需要传入 Token，默认为空，可不填\n",
    "scheme = 'https'            # 指定使用 http/https 协议来访问 COS，默认为 https，可不填\n",
    "\n",
    "config = CosConfig(Region=region, SecretId=secret_id, SecretKey=secret_key, Token=token, Scheme=scheme)\n",
    "# 2. 获取客户端对象\n",
    "client = CosS3Client(config)\n",
    "# 参照下文的描述。或者参照 Demo 程序，详见 https://github.com/tencentyun/cos-python-sdk-v5/blob/master/qcloud_cos/demo.py"
   ]
  },
  {
   "cell_type": "code",
   "execution_count": 9,
   "id": "interested-award",
   "metadata": {},
   "outputs": [
    {
     "data": {
      "text/plain": [
       "{'Owner': {'ID': 'qcs::cam::uin/270620769:uin/270620769',\n",
       "  'DisplayName': '270620769'},\n",
       " 'Buckets': {'Bucket': [{'Name': 'watermark-input-1251663498',\n",
       "    'Location': 'ap-shanghai',\n",
       "    'CreationDate': '2021-03-10T06:08:08Z'}]}}"
      ]
     },
     "execution_count": 9,
     "metadata": {},
     "output_type": "execute_result"
    }
   ],
   "source": [
    "client.list_buckets()"
   ]
  },
  {
   "cell_type": "code",
   "execution_count": 76,
   "id": "spiritual-lemon",
   "metadata": {},
   "outputs": [
    {
     "data": {
      "text/plain": [
       "57"
      ]
     },
     "execution_count": 76,
     "metadata": {},
     "output_type": "execute_result"
    }
   ],
   "source": [
    "import tempfile\n",
    "\n",
    "fp = tempfile.TemporaryFile()\n",
    "fp."
   ]
  },
  {
   "cell_type": "code",
   "execution_count": 18,
   "id": "independent-beauty",
   "metadata": {},
   "outputs": [
    {
     "name": "stdout",
     "output_type": "stream",
     "text": [
      "INFO:qcloud_cos.cos_client:put object, url=:https://watermark-input-1251663498.cos.ap-shanghai.myqcloud.com/manmanmai.jpg ,headers=:{'x-cos-storage-class': 'STANDARD', 'Pic-Operations': '{\"is_pic_info\": 1, \"rules\": [{\"fileid\": \"/processed/manmanmai.jpg\", \"rule\": \"watermark/3/type/3/image/xxx/text/laisky/level/1\"}]}'}\n"
     ]
    },
    {
     "data": {
      "text/plain": [
       "{'Content-Type': 'application/xml',\n",
       " 'Content-Length': '822',\n",
       " 'Connection': 'keep-alive',\n",
       " 'Date': 'Thu, 11 Mar 2021 02:38:08 GMT',\n",
       " 'ETag': '\"d5c405564a99eee6840495cc4374a841d3db01be\"',\n",
       " 'Server': 'tencent-cos',\n",
       " 'x-cos-hash-crc64ecma': '15559843189058836064',\n",
       " 'x-cos-request-id': 'NjA0OTgyOTBfMmViYzAzMDlfZjExOF9iYjAwZTg2'}"
      ]
     },
     "execution_count": 18,
     "metadata": {},
     "output_type": "execute_result"
    }
   ],
   "source": [
    "# 生成盲水印\n",
    "\n",
    "import json\n",
    "from os import path\n",
    "\n",
    "\n",
    "def upload_image(fpath: str):\n",
    "    _,fname = path.split(fpath)\n",
    "    with open(fpath, 'rb') as fp:\n",
    "        resp = client.put_object(\n",
    "            Bucket='watermark-input-1251663498',\n",
    "            Body=fp,\n",
    "            Key=fname,\n",
    "            StorageClass='STANDARD',\n",
    "            EnableMD5=False,\n",
    "            **{\n",
    "                \"PicOperations\": json.dumps({\n",
    "                    \"is_pic_info\": 0,\n",
    "                    \"rules\": [{\n",
    "                        \"fileid\": f\"/processed/{fname}\",\n",
    "                        \"rule\": \"watermark/3/type/3/image/xxx/text/laisky/level/1\"\n",
    "                    }]\n",
    "                })\n",
    "            }\n",
    "        )\n",
    "        \n",
    "    return resp\n",
    "        \n",
    "upload_image('/root/manmanmai.jpg')"
   ]
  },
  {
   "cell_type": "code",
   "execution_count": 50,
   "id": "correct-graham",
   "metadata": {},
   "outputs": [
    {
     "data": {
      "text/plain": [
       "'{\"is_pic_info\": 0, \"rules\": [{\"fileid\": \"/processed/manmanmai.jpg\", \"rule\": \"watermark/3/type/3/text/dGVzdA==\"}]}'"
      ]
     },
     "execution_count": 50,
     "metadata": {},
     "output_type": "execute_result"
    }
   ],
   "source": [
    "fname = \"manmanmai.jpg\"\n",
    "\n",
    "json.dumps({\n",
    "                    \"is_pic_info\": 0,\n",
    "                    \"rules\": [{\n",
    "                        \"fileid\": f\"/processed/{fname}\",\n",
    "                        \"rule\": \"watermark/3/type/3/text/dGVzdA==\"\n",
    "                    }]\n",
    "                })"
   ]
  },
  {
   "cell_type": "code",
   "execution_count": 41,
   "id": "beginning-architect",
   "metadata": {},
   "outputs": [],
   "source": [
    "# 下载时添加\n",
    "\n",
    "import requests\n",
    "\n",
    "resp = requests.get(\n",
    "    url='http://watermark-input-1251663498.cos.ap-shanghai.myqcloud.com/manmanmai.jpg?watermark/3/type/3/text/dGVuY2VudCBjbG91ZA=='\n",
    ")\n",
    "\n",
    "with open('/root/watermark-demo.jpg', 'wb') as fp:\n",
    "    fp.write(resp.content)\n",
    "    \n",
    "    "
   ]
  },
  {
   "cell_type": "code",
   "execution_count": 69,
   "id": "derived-tooth",
   "metadata": {},
   "outputs": [
    {
     "name": "stdout",
     "output_type": "stream",
     "text": [
      "b'test'\n",
      "b'bGFpc2t5MjcwNjAyNzY5bGFpc2t5MjcwNjAyNzY5bGFpc2t5MjcwNjAyNzY5bGFpc2t5MjcwNjAyNzY5bGFpc2t5MjcwNjAyNzY5bGFpc2t5MjcwNjAyNzY5bGFpc2t5MjcwNjAyNzY5bGFpc2t5MjcwNjAyNzY5bGFpc2t5MjcwNjAyNzY5bGFpc2t5MjcwNjAyNzY5'\n"
     ]
    }
   ],
   "source": [
    "from base64 import b64encode, b64decode\n",
    "\n",
    "\n",
    "print(b64decode('dGVzdA=='))\n",
    "print(b64encode((\"laisky270602769\"*10).encode('utf8')))"
   ]
  },
  {
   "cell_type": "code",
   "execution_count": 47,
   "id": "flexible-block",
   "metadata": {},
   "outputs": [
    {
     "name": "stdout",
     "output_type": "stream",
     "text": [
      "fname='watermark-demo.jpg'\n",
      "INFO:qcloud_cos.cos_client:put object, url=:https://watermark-input-1251663498.cos.ap-shanghai.myqcloud.com/watermark-demo.jpg ,headers=:{'x-cos-storage-class': 'STANDARD', 'Pic-Operations': '{\"is_pic_info\": 1, \"rules\": [{\"fileid\": \"/extracted/watermark-demo.jpg\", \"rule\": \"watermark/4/type/3/text/dGVuY2VudCBjbG91ZA==\"}]}'}\n"
     ]
    },
    {
     "data": {
      "text/plain": [
       "{'Content-Type': 'application/xml',\n",
       " 'Content-Length': '842',\n",
       " 'Connection': 'keep-alive',\n",
       " 'Date': 'Thu, 11 Mar 2021 04:16:09 GMT',\n",
       " 'ETag': '\"d81cd3103380c6bdbf277b00fd1ed0b9033d528e\"',\n",
       " 'Server': 'tencent-cos',\n",
       " 'x-cos-hash-crc64ecma': '7555019929505311533',\n",
       " 'x-cos-request-id': 'NjA0OTk5ODlfNzJiM2IxMDlfMzY3N2FfY2Q1NTFhMQ=='}"
      ]
     },
     "execution_count": 47,
     "metadata": {},
     "output_type": "execute_result"
    }
   ],
   "source": [
    "# 提取盲水印\n",
    "\n",
    "\n",
    "def valid_image(fpath: str):\n",
    "    _,fname = path.split(fpath)\n",
    "    print(f\"{fname=}\")\n",
    "    with open(fpath, 'rb') as fp:\n",
    "        resp = client.put_object(\n",
    "            Bucket='watermark-input-1251663498',\n",
    "            Body=fp,\n",
    "            Key=fname,\n",
    "            StorageClass='STANDARD',\n",
    "            EnableMD5=False,\n",
    "            **{\n",
    "                \"PicOperations\": json.dumps({\n",
    "                    \"is_pic_info\": 1,\n",
    "                    \"rules\": [{\n",
    "                        \"fileid\": f\"/extracted/{fname}\",\n",
    "                        \"rule\": \"watermark/4/type/3/text/dGVuY2VudCBjbG91ZA==\"\n",
    "                    }]\n",
    "                })\n",
    "            }\n",
    "        )\n",
    "        \n",
    "    return resp\n",
    "        \n",
    "valid_image('/root/watermark-demo.jpg')\n",
    "# valid_image('/mnt/c/Users/ppcel/Downloads/manmanmai.jpg')"
   ]
  }
 ],
 "metadata": {
  "kernelspec": {
   "display_name": "Python 3",
   "language": "python",
   "name": "python3"
  },
  "language_info": {
   "codemirror_mode": {
    "name": "ipython",
    "version": 3
   },
   "file_extension": ".py",
   "mimetype": "text/x-python",
   "name": "python",
   "nbconvert_exporter": "python",
   "pygments_lexer": "ipython3",
   "version": "3.8.7"
  }
 },
 "nbformat": 4,
 "nbformat_minor": 5
}
