{
 "metadata": {
  "name": "",
  "signature": "sha256:3b8af098b4c8eefb1f0548b49c27da232610994c40cc2edaac58d3f49e4b91d4"
 },
 "nbformat": 3,
 "nbformat_minor": 0,
 "worksheets": [
  {
   "cells": [
    {
     "cell_type": "code",
     "collapsed": false,
     "input": [
      "from pymining import itemmining, assocrules \n",
      "\n",
      "\n",
      "transactions = (('a', 'b', 'c'), ('b'), ('a'), ('a', 'c', 'd'), ('b', 'c'), ('b', 'c'))\n",
      "\n",
      "\n",
      "relim_input = itemmining.get_relim_input(transactions)\n",
      "# report = itemmining.relim(relim_input, min_support=2)\n",
      "item_sets = itemmining.relim(relim_input, min_support=2)\n",
      "print(item_sets)\n",
      "rules = assocrules.mine_assoc_rules(item_sets, min_support=2, min_confidence=0.5)\n",
      "\n",
      "\n",
      "print(relim_input)\n",
      "print(report)\n",
      "print(item_sets)\n",
      "print(rules)"
     ],
     "language": "python",
     "metadata": {},
     "outputs": [
      {
       "output_type": "stream",
       "stream": "stdout",
       "text": [
        "{frozenset({'a'}): 3, frozenset({'c', 'b'}): 3, frozenset({'b'}): 4, frozenset({'c'}): 4, frozenset({'c', 'a'}): 2}\n",
        "([], OrderedDict([((4, 'c'), 0), ((4, 'b'), 1), ((3, 'a'), 2), ((1, 'd'), 3)]))\n",
        "{frozenset({'a'}): 3, frozenset({'c', 'b'}): 3, frozenset({'b'}): 4, frozenset({'c'}): 4, frozenset({'c', 'a'}): 2}\n",
        "{frozenset({'a'}): 3, frozenset({'c', 'b'}): 3, frozenset({'b'}): 4, frozenset({'c'}): 4, frozenset({'c', 'a'}): 2}\n",
        "[(frozenset({'c'}), frozenset({'b'}), 3, 0.75), (frozenset({'b'}), frozenset({'c'}), 3, 0.75), (frozenset({'c'}), frozenset({'a'}), 2, 0.5), (frozenset({'a'}), frozenset({'c'}), 2, 0.6666666666666666)]\n"
       ]
      }
     ],
     "prompt_number": 10
    }
   ],
   "metadata": {}
  }
 ]
}