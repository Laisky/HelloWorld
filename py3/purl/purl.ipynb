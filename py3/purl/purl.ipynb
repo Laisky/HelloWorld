{
 "cells": [
  {
   "cell_type": "code",
   "execution_count": 29,
   "metadata": {
    "collapsed": true
   },
   "outputs": [],
   "source": [
    "raw = 'http://un:pw@www.baidu.com:80/p/x/?q=123&d=aa'"
   ]
  },
  {
   "cell_type": "code",
   "execution_count": 30,
   "metadata": {
    "collapsed": false
   },
   "outputs": [
    {
     "name": "stdout",
     "output_type": "stream",
     "text": [
      "as_string http://un:pw@www.baidu.com:80/p/x/?q=123&d=aa\n",
      "domain www.baidu.com\n",
      "fragment \n",
      "host www.baidu.com\n",
      "netloc un:pw@www.baidu.com:80\n",
      "password pw\n",
      "path /p/x/\n",
      "path_segments ('p', 'x')\n",
      "port 80\n",
      "query q=123&d=aa\n",
      "query_param aa\n",
      "query_params {'d': ['aa'], 'q': ['123']}\n",
      "scheme http\n",
      "subdomains ['www', 'baidu', 'com']\n",
      "username un\n"
     ]
    }
   ],
   "source": [
    "import purl\n",
    "\n",
    "url = purl.URL(raw)\n",
    "dir(url)\n",
    "\n",
    "print('as_string', url.as_string())\n",
    "print('domain', url.domain())\n",
    "print('fragment', url.fragment())\n",
    "# print('from_string', url.from_string())\n",
    "# print('has_query_param', url.has_query_param())\n",
    "# print('has_query_params', url.has_query_params())\n",
    "print('host', url.host())\n",
    "print('netloc', url.netloc())\n",
    "print('password', url.password())\n",
    "print('path', url.path())\n",
    "# print('path_segment', url.path_segment())\n",
    "print('path_segments', url.path_segments())\n",
    "print('port', url.port())\n",
    "print('query', url.query())\n",
    "print('query_param', url.query_param('d'))\n",
    "print('query_params', url.query_params())\n",
    "# print('remove_query_param', url.remove_query_param())\n",
    "print('scheme', url.scheme())\n",
    "# print('subdomain', url.subdomain())\n",
    "print('subdomains', url.subdomains())\n",
    "print('username', url.username())"
   ]
  },
  {
   "cell_type": "code",
   "execution_count": 34,
   "metadata": {
    "collapsed": false
   },
   "outputs": [
    {
     "name": "stdout",
     "output_type": "stream",
     "text": [
      "splitattr ('http://un:pw@www.baidu.com:80/p/x/?q=123&d=aa', [])\n",
      "splithost (None, 'http://un:pw@www.baidu.com:80/p/x/?q=123&d=aa')\n",
      "splitnport ('http://un:pw@www.baidu.com', None)\n",
      "splituser ('http://un:pw', 'www.baidu.com:80/p/x/?q=123&d=aa')\n",
      "splitpasswd ('http', '//un:pw@www.baidu.com:80/p/x/?q=123&d=aa')\n",
      "splitquery ('http://un:pw@www.baidu.com:80/p/x/', 'q=123&d=aa')\n",
      "splittype ('http', '//un:pw@www.baidu.com:80/p/x/?q=123&d=aa')\n",
      "splittag ('http://un:pw@www.baidu.com:80/p/x/?q=123&d=aa', None)\n",
      "splitvalue ('http://un:pw@www.baidu.com:80/p/x/?q', '123&d=aa')\n"
     ]
    }
   ],
   "source": [
    "from urllib import parse\n",
    "\n",
    "print('splitattr', parse.splitattr(raw))\n",
    "print('splithost', parse.splithost(raw))\n",
    "print('splitnport', parse.splitnport(raw))\n",
    "print('splituser', parse.splituser(raw))\n",
    "print('splitpasswd', parse.splitpasswd(raw))\n",
    "print('splitquery', parse.splitquery(raw))\n",
    "print('splittype', parse.splittype(raw))\n",
    "print('splittag', parse.splittag(raw))\n",
    "print('splitvalue', parse.splitvalue(raw))\n",
    "\n"
   ]
  }
 ],
 "metadata": {
  "kernelspec": {
   "display_name": "Python 3",
   "language": "python",
   "name": "python3"
  },
  "language_info": {
   "codemirror_mode": {
    "name": "ipython",
    "version": 3
   },
   "file_extension": ".py",
   "mimetype": "text/x-python",
   "name": "python",
   "nbconvert_exporter": "python",
   "pygments_lexer": "ipython3",
   "version": "3.4.2"
  }
 },
 "nbformat": 4,
 "nbformat_minor": 0
}
