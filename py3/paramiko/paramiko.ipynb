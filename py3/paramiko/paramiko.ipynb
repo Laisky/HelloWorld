{
 "cells": [
  {
   "cell_type": "code",
   "execution_count": 48,
   "metadata": {
    "collapsed": true
   },
   "outputs": [],
   "source": [
    "import paramiko\n",
    "\n",
    "DEVOPS = '10.32.189.146'\n",
    "DOCKER1 = '10.47.12.81'\n",
    "PORT = 58422\n",
    "OPS_KEY = r'/Users/laisky/repo/chexiang/devops/ansible/files/ops_rsa'"
   ]
  },
  {
   "cell_type": "code",
   "execution_count": 69,
   "metadata": {
    "collapsed": false
   },
   "outputs": [],
   "source": [
    "client = paramiko.SSHClient()\n",
    "client.set_missing_host_key_policy(paramiko.AutoAddPolicy())\n",
    "client.load_system_host_keys()\n",
    "client.connect(hostname=DOCKER1, port=PORT, username='devops')"
   ]
  },
  {
   "cell_type": "code",
   "execution_count": 102,
   "metadata": {
    "collapsed": false
   },
   "outputs": [
    {
     "name": "stdout",
     "output_type": "stream",
     "text": [
      "hubot is up-to-date\r",
      "\r\n",
      "\n",
      "\n"
     ]
    }
   ],
   "source": [
    "channel = client.get_transport().open_session()\n",
    "channel.get_pty()\n",
    "channel.exec_command('cd ~/src/Rochet.Chat && docker-compose up -d --no-deps hubot ')\n",
    "stdout = channel.makefile().readlines()\n",
    "stderr = channel.makefile_stderr().readlines()\n",
    "exit_code = channel.recv_exit_status()\n",
    "channel.close()\n",
    "\n",
    "print(''.join(stdout))\n",
    "print(''.join(stderr))"
   ]
  }
 ],
 "metadata": {
  "kernelspec": {
   "display_name": "Python 3",
   "language": "python",
   "name": "python3"
  },
  "language_info": {
   "codemirror_mode": {
    "name": "ipython",
    "version": 3
   },
   "file_extension": ".py",
   "mimetype": "text/x-python",
   "name": "python",
   "nbconvert_exporter": "python",
   "pygments_lexer": "ipython3",
   "version": "3.4.2"
  }
 },
 "nbformat": 4,
 "nbformat_minor": 0
}
