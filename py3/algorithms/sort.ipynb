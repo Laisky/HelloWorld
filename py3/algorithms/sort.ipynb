{
 "cells": [
  {
   "cell_type": "markdown",
   "metadata": {},
   "source": [
    "排序\n",
    "===\n",
    "\n",
    "实践中排序应使用 `sort`, `sorted`, `bisect`, `heapq`，不应手写实现"
   ]
  },
  {
   "cell_type": "code",
   "execution_count": 2,
   "metadata": {},
   "outputs": [],
   "source": [
    "import random\n",
    "\n",
    "\n",
    "def generate_random_numbers():\n",
    "    nums = range(100)\n",
    "    ret = [random.choice(nums) for _ in range(1000)]\n",
    "    return ret"
   ]
  },
  {
   "cell_type": "code",
   "execution_count": 2,
   "metadata": {},
   "outputs": [
    {
     "name": "stdout",
     "output_type": "stream",
     "text": [
      "10 loops, best of 3: 82.3 ms per loop\n"
     ]
    }
   ],
   "source": [
    "# 插入排序\n",
    "\n",
    "def insert_sort(numbers):\n",
    "    for i, key in enumerate(numbers):\n",
    "        for j in range(i-1, -1, -1):\n",
    "            tmp = numbers[j]\n",
    "            if tmp > key:\n",
    "                numbers[j+1] = tmp\n",
    "                numbers[j] = key\n",
    "                \n",
    "def bench():\n",
    "    numbers = generate_random_numbers()\n",
    "    insert_sort(numbers)\n",
    "    \n",
    "%timeit bench()"
   ]
  },
  {
   "cell_type": "code",
   "execution_count": 4,
   "metadata": {},
   "outputs": [
    {
     "name": "stdout",
     "output_type": "stream",
     "text": [
      "603 ms ± 23.9 ms per loop (mean ± std. dev. of 7 runs, 1 loop each)\n"
     ]
    }
   ],
   "source": [
    "# 希尔排序\n",
    "\n",
    "def shell_sort(numbers):\n",
    "    step = 2\n",
    "    n_numbers = len(numbers)\n",
    "    n_group = n_numbers // 2\n",
    "    while n_group > 0:\n",
    "        for i in range(n_group):\n",
    "            for j in range(i + n_group, n_numbers):\n",
    "                key = numbers[j]\n",
    "                for k in range(j - n_group, -1, -n_group):\n",
    "                    tmp = numbers[k]\n",
    "                    if tmp > key:\n",
    "                        numbers[k + n_group] = tmp\n",
    "                        numbers[k] = key\n",
    "                        \n",
    "        n_group = n_group // step\n",
    "    \n",
    "    return numbers\n",
    "                        \n",
    "\n",
    "def bench():\n",
    "    numbers = generate_random_numbers()\n",
    "    shell_sort(numbers)\n",
    "    \n",
    "    \n",
    "%timeit bench()"
   ]
  },
  {
   "cell_type": "code",
   "execution_count": 7,
   "metadata": {},
   "outputs": [
    {
     "name": "stdout",
     "output_type": "stream",
     "text": [
      "64.8 ms ± 4.98 ms per loop (mean ± std. dev. of 7 runs, 10 loops each)\n"
     ]
    }
   ],
   "source": [
    "# 冒泡排序\n",
    "\n",
    "def bubble_sort(numbers):\n",
    "    for i, tmp in enumerate(numbers):\n",
    "        for j in range(i + 1, len(numbers)):\n",
    "            if numbers[i] > numbers[j]:\n",
    "                numbers[i], numbers[j] = numbers[j], numbers[i]\n",
    "                \n",
    "    return numbers\n",
    "\n",
    "\n",
    "def bench():\n",
    "    numbers = generate_random_numbers()\n",
    "    bubble_sort(numbers)\n",
    "    \n",
    "\n",
    "%timeit bench()"
   ]
  },
  {
   "cell_type": "code",
   "execution_count": 5,
   "metadata": {},
   "outputs": [
    {
     "name": "stdout",
     "output_type": "stream",
     "text": [
      "100 loops, best of 3: 3.63 ms per loop\n"
     ]
    }
   ],
   "source": [
    "# 快排\n",
    "from random import choice\n",
    "\n",
    "\n",
    "def choice_key(numbers):\n",
    "    return choice(numbers)\n",
    "\n",
    "\n",
    "def quick_sort(numbers):\n",
    "    if len(numbers) <= 1:\n",
    "        return numbers\n",
    "    \n",
    "    if max(numbers) == min(numbers):\n",
    "        return numbers\n",
    "    \n",
    "    left = []\n",
    "    right = []\n",
    "    key = choice_key(numbers)\n",
    "    for num in numbers:\n",
    "        if num <= key:\n",
    "            left.append(num)\n",
    "        else:\n",
    "            right.append(num)\n",
    "            \n",
    "    left = quick_sort(left)\n",
    "    right = quick_sort(right)\n",
    "    return left + right\n",
    "\n",
    "\n",
    "def bench():\n",
    "    numbers = generate_random_numbers()\n",
    "    quick_sort(numbers)\n",
    "    \n",
    "\n",
    "%timeit bench()"
   ]
  },
  {
   "cell_type": "code",
   "execution_count": 6,
   "metadata": {},
   "outputs": [
    {
     "name": "stdout",
     "output_type": "stream",
     "text": [
      "10 loops, best of 3: 65.2 ms per loop\n"
     ]
    }
   ],
   "source": [
    "# 选择排序\n",
    "\n",
    "def select_sort(numbers):\n",
    "    for i, num in enumerate(numbers):\n",
    "        for j in range(i, len(numbers)):\n",
    "            if numbers[i] > numbers[j]:\n",
    "                numbers[i], numbers[j] = numbers[j], numbers[i]\n",
    "                \n",
    "    return numbers\n",
    "\n",
    "\n",
    "def bench():\n",
    "    numbers = generate_random_numbers()\n",
    "    select_sort(numbers)\n",
    "    \n",
    "    \n",
    "%timeit bench()"
   ]
  },
  {
   "cell_type": "code",
   "execution_count": 7,
   "metadata": {},
   "outputs": [
    {
     "name": "stdout",
     "output_type": "stream",
     "text": [
      "100 loops, best of 3: 9.79 ms per loop\n"
     ]
    }
   ],
   "source": [
    "# 堆排序\n",
    "# Python 内置 heapq 实现堆排序，不需要手动实现\n",
    "# 这里只是为了学习\n",
    "from math import floor\n",
    "\n",
    "\n",
    "# 调整堆\n",
    "# 建立最大堆\n",
    "def adjust_heap(lists, i, size):\n",
    "    lchild = 2 * i + 1\n",
    "    rchild = 2 * i + 2\n",
    "    max = i\n",
    "    if i < size / 2:\n",
    "        if lchild < size and lists[lchild] > lists[max]:\n",
    "            max = lchild\n",
    "        if rchild < size and lists[rchild] > lists[max]:\n",
    "            max = rchild\n",
    "        if max != i:\n",
    "            lists[max], lists[i] = lists[i], lists[max]\n",
    "            adjust_heap(lists, max, size)\n",
    "\n",
    "            \n",
    "# 创建堆\n",
    "def build_heap(lists, size):\n",
    "    for i in range((floor(size/2)), -1, -1):  # 从倒数第二层开始调整堆\n",
    "        adjust_heap(lists, i, size)\n",
    "\n",
    "        \n",
    "# 堆排序\n",
    "def heap_sort(lists):\n",
    "    size = len(lists)\n",
    "    build_heap(lists, size)  # 对倒数第二层开始建立堆\n",
    "    for i in range(size - 1, -1, -1):  \n",
    "        # 将堆顶（最大元素）放置在最后\n",
    "        # 然后对 size - 1 调整最大堆，并重复上一步\n",
    "        lists[0], lists[i] = lists[i], lists[0]\n",
    "        adjust_heap(lists, 0, i)\n",
    "        \n",
    "    return lists\n",
    "        \n",
    "\n",
    "def bench():\n",
    "    numbers = generate_random_numbers()\n",
    "    heap_sort(numbers)\n",
    "    \n",
    "    \n",
    "%timeit bench()"
   ]
  },
  {
   "cell_type": "code",
   "execution_count": 8,
   "metadata": {
    "scrolled": false
   },
   "outputs": [
    {
     "name": "stdout",
     "output_type": "stream",
     "text": [
      "7.62 ms ± 752 µs per loop (mean ± std. dev. of 7 runs, 100 loops each)\n"
     ]
    }
   ],
   "source": [
    "# 归并排序\n",
    "\n",
    "def merge_sort(numbers):\n",
    "    size = len(numbers)\n",
    "    if size <= 1:\n",
    "        return numbers\n",
    "    \n",
    "    threshold = size // 2\n",
    "    left = merge_sort(numbers[:threshold])\n",
    "    right = merge_sort(numbers[threshold:])\n",
    "    \n",
    "    return merge(left, right)\n",
    "    \n",
    "    \n",
    "    \n",
    "def merge(left, right):\n",
    "    \"\"\"归并已排序的子数组\"\"\"\n",
    "    result = []\n",
    "    i = j = 0\n",
    "    while i < len(left) and j < len(right):\n",
    "        if left[i] < right[j]:\n",
    "            result.append(left[i])\n",
    "            i += 1\n",
    "        else:\n",
    "            result.append(right[j])\n",
    "            j += 1\n",
    "            \n",
    "    return result + left[i:] + right[j:]\n",
    "\n",
    "\n",
    "def bench():\n",
    "    numbers = generate_random_numbers()\n",
    "    merge_sort(numbers)\n",
    "    \n",
    "    \n",
    "%timeit bench()"
   ]
  },
  {
   "cell_type": "code",
   "execution_count": 9,
   "metadata": {},
   "outputs": [
    {
     "name": "stdout",
     "output_type": "stream",
     "text": [
      "100 loops, best of 3: 2.31 ms per loop\n"
     ]
    }
   ],
   "source": [
    "# 基数排序 & 桶排序\n",
    "# 这里用最末一位数来作为桶\n",
    "from math import log, ceil\n",
    "from itertools import chain\n",
    "\n",
    "\n",
    "def bucket_sort(numbers, base=10):\n",
    "    n_level = ceil(log(max(numbers), base))\n",
    "    \n",
    "    for i_level in range(0, n_level):\n",
    "        buckets = [[] for _ in range(base)]\n",
    "        for num in numbers:\n",
    "            tail = floor(num / base**i_level) % base\n",
    "            buckets[tail].append(num)\n",
    "            \n",
    "        numbers = list(chain(*buckets))\n",
    "        \n",
    "    return list(numbers)\n",
    "\n",
    "\n",
    "def bench():\n",
    "    numbers = generate_random_numbers()\n",
    "    bucket_sort(numbers)\n",
    "\n",
    "\n",
    "%timeit bench()"
   ]
  }
 ],
 "metadata": {
  "kernelspec": {
   "display_name": "Python 3",
   "language": "python",
   "name": "python3"
  },
  "language_info": {
   "codemirror_mode": {
    "name": "ipython",
    "version": 3
   },
   "file_extension": ".py",
   "mimetype": "text/x-python",
   "name": "python",
   "nbconvert_exporter": "python",
   "pygments_lexer": "ipython3",
   "version": "3.7.4"
  }
 },
 "nbformat": 4,
 "nbformat_minor": 1
}
