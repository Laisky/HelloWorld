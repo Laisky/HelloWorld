{
 "cells": [
  {
   "cell_type": "code",
   "execution_count": 14,
   "metadata": {},
   "outputs": [
    {
     "data": {
      "text/plain": [
       "tree(root=22, left=tree(root=5, left=tree(root=1, left=None, right=tree(root=2, left=None, right=None)), right=tree(root=8, left=tree(root=6, left=None, right=None), right=tree(root=12, left=None, right=None))), right=tree(root=56, left=tree(root=23, left=None, right=tree(root=54, left=None, right=None)), right=tree(root=89, left=tree(root=68, left=None, right=None), right=tree(root=976, left=None, right=None))))"
      ]
     },
     "execution_count": 14,
     "metadata": {},
     "output_type": "execute_result"
    }
   ],
   "source": [
    "from collections import namedtuple\n",
    "\n",
    "\n",
    "Tree = namedtuple('tree', ['root', 'left', 'right'])\n",
    "\n",
    "def build_obt(data, start, end):\n",
    "    if end < start:\n",
    "        return None\n",
    "\n",
    "    mid = (end + start) // 2\n",
    "    left = build_obt(data, start, mid-1)\n",
    "    right = build_obt(data, mid+1, end)\n",
    "    return Tree(root=data[mid], left=left, right=right)\n",
    "\n",
    "\n",
    "\n",
    "s = sorted([1,2,6,8,5,22,68,976,23,54,89,12,56])\n",
    "build_obt(s, 0, len(s)-1)"
   ]
  }
 ],
 "metadata": {
  "kernelspec": {
   "display_name": "Python 3",
   "language": "python",
   "name": "python3"
  },
  "language_info": {
   "codemirror_mode": {
    "name": "ipython",
    "version": 3
   },
   "file_extension": ".py",
   "mimetype": "text/x-python",
   "name": "python",
   "nbconvert_exporter": "python",
   "pygments_lexer": "ipython3",
   "version": "3.7.4"
  }
 },
 "nbformat": 4,
 "nbformat_minor": 2
}
