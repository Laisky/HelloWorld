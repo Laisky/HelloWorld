{
 "cells": [
  {
   "cell_type": "markdown",
   "metadata": {},
   "source": [
    "链表\n",
    "==="
   ]
  },
  {
   "cell_type": "markdown",
   "metadata": {},
   "source": [
    "## 节点\n",
    "\n",
    "http://blog.csdn.net/python2014/article/details/21829557"
   ]
  },
  {
   "cell_type": "code",
   "execution_count": 1,
   "metadata": {
    "collapsed": true
   },
   "outputs": [],
   "source": [
    "class Node():\n",
    "    \n",
    "    def __init__(self, initdata):\n",
    "        self.data = initdata\n",
    "        self.next = None\n",
    "        \n",
    "    def get_data(self):\n",
    "        return self.data\n",
    "    \n",
    "    def set_data(self, newdata):\n",
    "        self.data = newdata\n",
    "    \n",
    "    def get_next(self):\n",
    "        return self.next\n",
    "    \n",
    "    def set_next(self, newnext):\n",
    "        self.next = newnext"
   ]
  },
  {
   "cell_type": "markdown",
   "metadata": {},
   "source": [
    "## Unordered array"
   ]
  },
  {
   "cell_type": "code",
   "execution_count": 21,
   "metadata": {
    "collapsed": true
   },
   "outputs": [],
   "source": [
    "class UnorderedList():\n",
    "    \n",
    "    def __init__(self):\n",
    "        self.head = None\n",
    "        \n",
    "    def is_empty(self):\n",
    "        return self.head == None\n",
    "    \n",
    "    def add(self, item):\n",
    "        \"\"\"在头部添加节点\"\"\"\n",
    "        node = Node(item)\n",
    "        node.set_next(self.head)\n",
    "        self.head = node\n",
    "        \n",
    "    def size(self):\n",
    "        current = self.head\n",
    "        count = 0\n",
    "        while current:\n",
    "            count += 1\n",
    "            current = current.get_next()\n",
    "            \n",
    "        return count\n",
    "            \n",
    "    def search(self, item):\n",
    "        \"\"\"查找节点是否存在\"\"\"\n",
    "        current = self.head\n",
    "        while current:\n",
    "            if current.get_data() == item:\n",
    "                return True\n",
    "            \n",
    "            current = current.get_next()\n",
    "        \n",
    "        return False\n",
    "            \n",
    "    def remove(self, item):\n",
    "        \"\"\"删除节点\"\"\"\n",
    "        current = self.head\n",
    "        previous = None\n",
    "        while current:\n",
    "            next_ = current.get_next()\n",
    "            if current.get_data() == item:\n",
    "                if not previous:\n",
    "                    self.head = next_\n",
    "                else:\n",
    "                    previous.set_next(next_)\n",
    "                    \n",
    "            previous = current\n",
    "            current = next_\n",
    "                "
   ]
  },
  {
   "cell_type": "code",
   "execution_count": 22,
   "metadata": {
    "collapsed": false
   },
   "outputs": [
    {
     "name": "stdout",
     "output_type": "stream",
     "text": [
      "4\n",
      "False\n",
      "True\n",
      "False\n",
      "3\n",
      "False\n"
     ]
    }
   ],
   "source": [
    "# demo\n",
    "\n",
    "ul = UnorderedList()\n",
    "ul.add(11)\n",
    "ul.add(22)\n",
    "ul.add(33)\n",
    "ul.add(44)\n",
    "\n",
    "print(ul.size())\n",
    "print(ul.is_empty())\n",
    "print(ul.search(22))\n",
    "print(ul.search(23))\n",
    "ul.remove(22)\n",
    "print(ul.size())\n",
    "print(ul.search(22))"
   ]
  }
 ],
 "metadata": {
  "kernelspec": {
   "display_name": "Python 3",
   "language": "python",
   "name": "python3"
  },
  "language_info": {
   "codemirror_mode": {
    "name": "ipython",
    "version": 3
   },
   "file_extension": ".py",
   "mimetype": "text/x-python",
   "name": "python",
   "nbconvert_exporter": "python",
   "pygments_lexer": "ipython3",
   "version": "3.4.2"
  }
 },
 "nbformat": 4,
 "nbformat_minor": 0
}
