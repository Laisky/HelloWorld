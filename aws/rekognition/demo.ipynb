{
 "cells": [
  {
   "cell_type": "code",
   "execution_count": 20,
   "metadata": {
    "collapsed": false
   },
   "outputs": [],
   "source": [
    "from io import BytesIO\n",
    "\n",
    "import boto3\n",
    "import requests\n",
    "\n",
    "\n",
    "ACCESS_KEY = ''\n",
    "SECRET_KEY = ''\n",
    "\n",
    "\n",
    "client = boto3.client(\n",
    "    'rekognition',\n",
    "    aws_access_key_id=ACCESS_KEY,\n",
    "    aws_secret_access_key=SECRET_KEY\n",
    ")\n",
    "\n",
    "\n",
    "def download_img(url):\n",
    "    r = requests.get(url)\n",
    "    return BytesIO(r.content)\n",
    "\n",
    "\n",
    "def detect_img(im):\n",
    "    return client.detect_labels(\n",
    "        Image={\n",
    "            'Bytes': im.read()\n",
    "        },\n",
    "        MaxLabels=10,\n",
    "    )\n",
    "    \n",
    "    \n",
    "def handler(urls):\n",
    "    results = {}\n",
    "    for url in urls:\n",
    "        im = download_img(url)\n",
    "        results.update({\n",
    "            url: detect_img(im)['Labels']\n",
    "        })\n",
    "        \n",
    "    return results\n",
    "        "
   ]
  },
  {
   "cell_type": "code",
   "execution_count": 21,
   "metadata": {
    "collapsed": false
   },
   "outputs": [
    {
     "data": {
      "text/plain": [
       "{'Labels': [{'Confidence': 92.19491577148438, 'Name': 'Bedroom'},\n",
       "  {'Confidence': 92.19491577148438, 'Name': 'Indoors'},\n",
       "  {'Confidence': 92.19491577148438, 'Name': 'Room'},\n",
       "  {'Confidence': 67.33331298828125, 'Name': 'Window'},\n",
       "  {'Confidence': 54.845638275146484, 'Name': 'Interior Design'},\n",
       "  {'Confidence': 52.076446533203125, 'Name': 'Apartment'},\n",
       "  {'Confidence': 52.076446533203125, 'Name': 'Housing'},\n",
       "  {'Confidence': 51.45161819458008, 'Name': 'Furniture'}],\n",
       " 'OrientationCorrection': 'ROTATE_0',\n",
       " 'ResponseMetadata': {'HTTPHeaders': {'connection': 'keep-alive',\n",
       "   'content-length': '458',\n",
       "   'content-type': 'application/x-amz-json-1.1',\n",
       "   'date': 'Fri, 24 Feb 2017 06:40:22 GMT',\n",
       "   'x-amzn-requestid': '1ce5185b-fa5c-11e6-bc91-a7cd9203bfb8'},\n",
       "  'HTTPStatusCode': 200,\n",
       "  'RequestId': '1ce5185b-fa5c-11e6-bc91-a7cd9203bfb8',\n",
       "  'RetryAttempts': 0}}"
      ]
     },
     "execution_count": 21,
     "metadata": {},
     "output_type": "execute_result"
    }
   ],
   "source": [
    "\n",
    "\n",
    "def download_img(url):\n",
    "    "
   ]
  }
 ],
 "metadata": {
  "kernelspec": {
   "display_name": "Python 3",
   "language": "python",
   "name": "python3"
  },
  "language_info": {
   "codemirror_mode": {
    "name": "ipython",
    "version": 3
   },
   "file_extension": ".py",
   "mimetype": "text/x-python",
   "name": "python",
   "nbconvert_exporter": "python",
   "pygments_lexer": "ipython3",
   "version": "3.6.0"
  }
 },
 "nbformat": 4,
 "nbformat_minor": 2
}
