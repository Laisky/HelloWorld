{
 "cells": [
  {
   "cell_type": "markdown",
   "metadata": {},
   "source": [
    "\n",
    "References:\n",
    "\n",
    "* [AWS IoT Python](https://github.com/aws/aws-iot-device-sdk-python/blob/master/README.rst)\n",
    "* [AWS CA](https://docs.aws.amazon.com/en_pv/iot/latest/developerguide/server-authentication.html)\n",
    "\n",
    "\n",
    "prepares:\n",
    "\n",
    "```python\n",
    "pip install AWSIoTPythonSDK kipp3\n",
    "```"
   ]
  },
  {
   "cell_type": "code",
   "execution_count": 29,
   "metadata": {},
   "outputs": [],
   "source": [
    "import logging\n",
    "import os\n",
    "import time\n",
    "import json\n",
    "from concurrent.futures import ThreadPoolExecutor\n",
    "from threading import Event\n",
    "\n",
    "from AWSIoTPythonSDK.MQTTLib import AWSIoTMQTTClient\n",
    "from kipp3.utils import setup_logger\n",
    "from kipp3.decorator import debug_wrapper\n",
    "\n",
    "\n",
    "logger = setup_logger(\"awsiot\")\n",
    "executor = ThreadPoolExecutor(max_workers=10)"
   ]
  },
  {
   "cell_type": "code",
   "execution_count": 2,
   "metadata": {},
   "outputs": [],
   "source": [
    "# Configure logging\n",
    "logging.getLogger(\"AWSIoTPythonSDK.core\").setLevel(logging.INFO)\n",
    "\n",
    "\n",
    "# streamHandler = logging.StreamHandler()\n",
    "# formatter = logging.Formatter(\"%(asctime)s - %(name)s - %(levelname)s - %(message)s\")\n",
    "# streamHandler.setFormatter(formatter)\n",
    "# logger.addHandler(streamHandler)"
   ]
  },
  {
   "cell_type": "code",
   "execution_count": 43,
   "metadata": {},
   "outputs": [
    {
     "data": {
      "text/plain": [
       "True"
      ]
     },
     "execution_count": 43,
     "metadata": {},
     "output_type": "execute_result"
    },
    {
     "name": "stdout",
     "output_type": "stream",
     "text": [
      "[2019-12-17 06:22:02,617 - INFO - <ipython-input-42-3c9882da16d9>:8 - awsiot] - >> topic='laisky-hello' publish True, payload='{\"yo\": \"jedi\"}'\n",
      "[2019-12-17 06:22:02,960 - INFO - <ipython-input-41-3c9882da16d9>:8 - awsiot] - >> topic='laisky-hello' publish True, payload='{\"yo\": \"jedi\"}'\n"
     ]
    }
   ],
   "source": [
    "# config_path = \"/Users/laisky/repo/laisky/configs\"\n",
    "config_path = \"/opt/configs\"\n",
    "\n",
    "cli = AWSIoTMQTTClient(\"laisky-demo\")\n",
    "cli.configureEndpoint(\"a2mth8rkdw0p8j-ats.iot.us-west-2.amazonaws.com\", 8883)\n",
    "cli.configureCredentials(\n",
    "    os.path.join(config_path, \"mqtt/root-CA.crt\"),\n",
    "    os.path.join(config_path, \"mqtt/python-cli.private.key\"),\n",
    "    os.path.join(config_path, \"mqtt/python-cli.cert.pem\"),\n",
    ")\n",
    "\n",
    "cli.configureAutoReconnectBackoffTime(1, 32, 20)\n",
    "cli.configureOfflinePublishQueueing(-1)  # Infinite offline Publish queueing\n",
    "cli.configureDrainingFrequency(2)  # Draining: 2 Hz\n",
    "cli.configureConnectDisconnectTimeout(10)  # 10 sec\n",
    "cli.configureMQTTOperationTimeout(10)  # 5 sec\n",
    "\n",
    "\n",
    "def customCallback(cli, userdata, message):\n",
    "    print(\"Received a new message: \")\n",
    "    print(message.payload)\n",
    "    print(\"from topic: \")\n",
    "    print(message.topic)\n",
    "    print(\"--------------\\n\\n\")\n",
    "\n",
    "\n",
    "cli.connect()\n"
   ]
  },
  {
   "cell_type": "code",
   "execution_count": 5,
   "metadata": {},
   "outputs": [],
   "source": [
    "stop_evt = Event()"
   ]
  },
  {
   "cell_type": "code",
   "execution_count": 46,
   "metadata": {},
   "outputs": [
    {
     "name": "stdout",
     "output_type": "stream",
     "text": [
      "[2019-12-17 06:22:15,548 - INFO - <ipython-input-46-3c9882da16d9>:20 - awsiot] - subscribe to topic='laisky-hello'\n",
      "[2019-12-17 06:22:15,952 - INFO - <ipython-input-46-3c9882da16d9>:8 - awsiot] - >> topic='laisky-hello' publish True, payload='{\"yo\": \"jedi\"}'\n",
      "[2019-12-17 06:22:15,972 - INFO - <ipython-input-46-3c9882da16d9>:23 - awsiot] - << topic='laisky-hello' got: userdata=None, msg.mid=1, msg.state=0, msg.retain=0, msg.topic='laisky-hello', msg.payload=b'{\"yo\": \"jedi\"}'\n",
      "[2019-12-17 06:22:15,973 - INFO - /Users/laisky/repo/laisky/kipp/kipp3/decorator/__init__.py:129 - kipp] - callback cost 0.00s\n",
      "[2019-12-17 06:22:18,956 - INFO - <ipython-input-46-3c9882da16d9>:8 - awsiot] - >> topic='laisky-hello' publish False, payload='{\"yo\": \"jedi\"}'\n",
      "[2019-12-17 06:22:21,235 - INFO - <ipython-input-46-3c9882da16d9>:23 - awsiot] - << topic='laisky-hello' got: userdata=None, msg.mid=1, msg.state=0, msg.retain=0, msg.topic='laisky-hello', msg.payload=b'{\"yo\": \"jedi\"}'\n",
      "[2019-12-17 06:22:21,237 - INFO - /Users/laisky/repo/laisky/kipp/kipp3/decorator/__init__.py:129 - kipp] - callback cost 0.00s\n",
      "[2019-12-17 06:22:22,166 - INFO - <ipython-input-46-3c9882da16d9>:8 - awsiot] - >> topic='laisky-hello' publish True, payload='{\"yo\": \"jedi\"}'\n",
      "[2019-12-17 06:22:22,184 - INFO - <ipython-input-46-3c9882da16d9>:23 - awsiot] - << topic='laisky-hello' got: userdata=None, msg.mid=1, msg.state=0, msg.retain=0, msg.topic='laisky-hello', msg.payload=b'{\"yo\": \"jedi\"}'\n",
      "[2019-12-17 06:22:22,185 - INFO - /Users/laisky/repo/laisky/kipp/kipp3/decorator/__init__.py:129 - kipp] - callback cost 0.00s\n",
      "[2019-12-17 06:22:25,372 - INFO - <ipython-input-46-3c9882da16d9>:8 - awsiot] - >> topic='laisky-hello' publish True, payload='{\"yo\": \"jedi\"}'\n",
      "[2019-12-17 06:22:25,395 - INFO - <ipython-input-46-3c9882da16d9>:23 - awsiot] - << topic='laisky-hello' got: userdata=None, msg.mid=1, msg.state=0, msg.retain=0, msg.topic='laisky-hello', msg.payload=b'{\"yo\": \"jedi\"}'\n",
      "[2019-12-17 06:22:25,396 - INFO - /Users/laisky/repo/laisky/kipp/kipp3/decorator/__init__.py:129 - kipp] - callback cost 0.00s\n"
     ]
    }
   ],
   "source": [
    "TOPIC = \"laisky-hello\"\n",
    "\n",
    "\n",
    "@debug_wrapper\n",
    "def publisher(topic:str, stop_evt: Event):\n",
    "    while not stop_evt.is_set():\n",
    "        payload = json.dumps({\"yo\": \"jedi\"})\n",
    "        logger.info(f\">> {topic=} publish {cli.publish(topic, payload, 1)}, {payload=}\")\n",
    "        time.sleep(3)\n",
    "\n",
    "    logger.info(\"publisher stop\")\n",
    "\n",
    "\n",
    "@debug_wrapper\n",
    "def stop_all_publisher():\n",
    "    stop_evt.set()\n",
    "\n",
    "    \n",
    "def get_subscriber(topic):\n",
    "    logger.info(f\"subscribe to {topic=}\")\n",
    "    @debug_wrapper\n",
    "    def callback(client, userdata, msg):\n",
    "        logger.info(\n",
    "            f\"<< {topic=} got: {userdata=}, {msg.mid=}, {msg.state=}, {msg.retain=}, {msg.topic=}, {msg.payload=}\"\n",
    "        )\n",
    "        \n",
    "    return callback\n",
    "\n",
    "topic = TOPIC\n",
    "# cli.unsubscribe(TOPIC)\n",
    "\n",
    "cli.subscribe(topic, 1, get_subscriber(topic))\n",
    "fp = executor.submit(publisher, topic, stop_evt)\n"
   ]
  },
  {
   "cell_type": "code",
   "execution_count": 47,
   "metadata": {},
   "outputs": [
    {
     "name": "stdout",
     "output_type": "stream",
     "text": [
      "[2019-12-17 06:22:28,376 - INFO - <ipython-input-46-3c9882da16d9>:11 - awsiot] - publisher stop\n",
      "[2019-12-17 06:22:28,378 - INFO - /Users/laisky/repo/laisky/kipp/kipp3/decorator/__init__.py:129 - kipp] - publisher cost 12.63s\n"
     ]
    }
   ],
   "source": [
    "stop_evt.set()\n",
    "stop_evt = Event()"
   ]
  }
 ],
 "metadata": {
  "kernelspec": {
   "display_name": "Python 3",
   "language": "python",
   "name": "python3"
  },
  "language_info": {
   "codemirror_mode": {
    "name": "ipython",
    "version": 3
   },
   "file_extension": ".py",
   "mimetype": "text/x-python",
   "name": "python",
   "nbconvert_exporter": "python",
   "pygments_lexer": "ipython3",
   "version": "3.8.0"
  }
 },
 "nbformat": 4,
 "nbformat_minor": 2
}
