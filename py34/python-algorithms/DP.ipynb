{
 "cells": [
  {
   "cell_type": "code",
   "execution_count": 13,
   "metadata": {},
   "outputs": [
    {
     "name": "stdout",
     "output_type": "stream",
     "text": [
      "(2, 3, 5)\n",
      "[0, 1, 2, 3, 4, 5, 6, 7, 8, 9]\n",
      "[0, 1, 1, 1, 2, 1, 2, 2, 2, 3]\n"
     ]
    }
   ],
   "source": [
    "x = 10\n",
    "\n",
    "\n",
    "s = list(range(x))\n",
    "x_coins=(2,3,5)\n",
    "for item in range(1,x):\n",
    "    for i in x_coins:\n",
    "        if item>=i and s[item-i]+1<s[item]:\n",
    "            s[item]=s[item-i]+1\n",
    "            \n",
    "            \n",
    "print(x_coins)\n",
    "print(list(range(x)))\n",
    "print(s)"
   ]
  }
 ],
 "metadata": {
  "kernelspec": {
   "display_name": "Python 3",
   "language": "python",
   "name": "python3"
  },
  "language_info": {
   "codemirror_mode": {
    "name": "ipython",
    "version": 3
   },
   "file_extension": ".py",
   "mimetype": "text/x-python",
   "name": "python",
   "nbconvert_exporter": "python",
   "pygments_lexer": "ipython3",
   "version": "3.6.2"
  }
 },
 "nbformat": 4,
 "nbformat_minor": 2
}
