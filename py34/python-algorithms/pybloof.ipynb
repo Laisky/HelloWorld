{
 "cells": [
  {
   "cell_type": "markdown",
   "metadata": {},
   "source": [
    "BloomFilter\n",
    "===\n",
    "\n",
    "https://github.com/jhgg/pybloof\n",
    "\n",
    "http://blog.csdn.net/v_july_v/article/details/6685894"
   ]
  },
  {
   "cell_type": "code",
   "execution_count": 11,
   "metadata": {},
   "outputs": [],
   "source": [
    "import random\n",
    "import pybloof\n",
    "\n",
    "\n",
    "bf = pybloof.UIntBloomFilter(size=1e6, hashes=50)\n",
    "\n",
    "nsample = int(1e5*5)\n",
    "for i in range(nsample):\n",
    "    bf.add(i)"
   ]
  },
  {
   "cell_type": "code",
   "execution_count": 12,
   "metadata": {},
   "outputs": [],
   "source": [
    "for i in range(nsample + 10):\n",
    "    if not bf.contains(i):\n",
    "        print(i)"
   ]
  },
  {
   "cell_type": "code",
   "execution_count": 13,
   "metadata": {},
   "outputs": [
    {
     "name": "stdout",
     "output_type": "stream",
     "text": [
      "500010\n",
      "1000000\n"
     ]
    }
   ],
   "source": [
    "print(nsample + 10)\n",
    "print(bf.size)\n"
   ]
  }
 ],
 "metadata": {
  "kernelspec": {
   "display_name": "Python 3",
   "language": "python",
   "name": "python3"
  },
  "language_info": {
   "codemirror_mode": {
    "name": "ipython",
    "version": 3
   },
   "file_extension": ".py",
   "mimetype": "text/x-python",
   "name": "python",
   "nbconvert_exporter": "python",
   "pygments_lexer": "ipython3",
   "version": "3.6.2"
  }
 },
 "nbformat": 4,
 "nbformat_minor": 1
}
