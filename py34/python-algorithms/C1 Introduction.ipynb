{
 "cells": [
  {
   "cell_type": "markdown",
   "metadata": {},
   "source": [
    "http://hujiaweibujidao.github.io/blog/2014/07/01/python-algorithms-introduction/"
   ]
  },
  {
   "cell_type": "code",
   "execution_count": 25,
   "metadata": {},
   "outputs": [
    {
     "data": {
      "text/plain": [
       "'a'"
      ]
     },
     "execution_count": 25,
     "metadata": {},
     "output_type": "execute_result"
    }
   ],
   "source": [
    "a = 'abc'\n",
    "r = reversed(a)\n",
    "\n",
    "a[-0]"
   ]
  },
  {
   "cell_type": "code",
   "execution_count": 26,
   "metadata": {},
   "outputs": [
    {
     "name": "stdout",
     "output_type": "stream",
     "text": [
      "True\n",
      "True\n",
      "100 loops, best of 3: 1.97 ms per loop\n",
      "100 loops, best of 3: 18.9 ms per loop\n"
     ]
    }
   ],
   "source": [
    "import random\n",
    "from string import ascii_letters\n",
    "\n",
    "\n",
    "sample1 = ''.join([random.choice(ascii_letters) for _ in range(100000)])\n",
    "sample2 = ''.join(reversed(sample1))\n",
    "\n",
    "\n",
    "def test1():\n",
    "    return sample1 == ''.join(list(reversed(sample2)))\n",
    "\n",
    "\n",
    "def test2():\n",
    "    for i, ch in enumerate(sample1):\n",
    "        if ch != sample2[-i - 1]:\n",
    "            raise ValueError\n",
    "        \n",
    "    return True\n",
    "\n",
    "\n",
    "print(test1())\n",
    "print(test2())\n",
    "\n",
    "%timeit test1()\n",
    "%timeit test2()  # 慢 10 倍"
   ]
  }
 ],
 "metadata": {
  "kernelspec": {
   "display_name": "Python 3",
   "language": "python",
   "name": "python3"
  },
  "language_info": {
   "codemirror_mode": {
    "name": "ipython",
    "version": 3
   },
   "file_extension": ".py",
   "mimetype": "text/x-python",
   "name": "python",
   "nbconvert_exporter": "python",
   "pygments_lexer": "ipython3",
   "version": "3.6.2"
  }
 },
 "nbformat": 4,
 "nbformat_minor": 1
}
