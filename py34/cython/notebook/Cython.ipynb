{
 "metadata": {
  "name": "",
  "signature": "sha256:6370c96799418fe125f8011aca25ca10f7ecf53473c4aebda0d01bca36822de1"
 },
 "nbformat": 3,
 "nbformat_minor": 0,
 "worksheets": [
  {
   "cells": [
    {
     "cell_type": "code",
     "collapsed": false,
     "input": [
      "%load_ext cythonmagic"
     ],
     "language": "python",
     "metadata": {},
     "outputs": [
      {
       "output_type": "stream",
       "stream": "stdout",
       "text": [
        "The cythonmagic extension is already loaded. To reload it, use:\n",
        "  %reload_ext cythonmagic\n"
       ]
      }
     ],
     "prompt_number": 5
    },
    {
     "cell_type": "code",
     "collapsed": false,
     "input": [
      "%%cython \n",
      "# %%cython --annotate\n",
      "\n",
      "# function\n",
      "def c_primes(int kmax):\n",
      "    cdef int n, k, i\n",
      "    cdef int p[1000]\n",
      "    result = []\n",
      "    if kmax > 1000:\n",
      "        kmax = 1000\n",
      "    k = 0\n",
      "    n = 2\n",
      "    while k < kmax:\n",
      "        i = 0\n",
      "        while i < k and n % p[i] != 0:\n",
      "            i = i + 1\n",
      "        if i == k:\n",
      "            p[k] = n\n",
      "            k = k + 1\n",
      "            result.append(n)\n",
      "        n = n + 1\n",
      "    return result"
     ],
     "language": "python",
     "metadata": {},
     "outputs": [],
     "prompt_number": 6
    },
    {
     "cell_type": "code",
     "collapsed": false,
     "input": [
      "# normal\n",
      "\n",
      "def primes(kmax):\n",
      "    p = [0] * 1000\n",
      "    result = []\n",
      "    if kmax > 1000:\n",
      "        kmax = 1000\n",
      "    k = 0\n",
      "    n = 2\n",
      "    while k < kmax:\n",
      "        i = 0\n",
      "        while i < k and n % p[i] != 0:\n",
      "            i = i + 1\n",
      "        if i == k:\n",
      "            p[k] = n\n",
      "            k = k + 1\n",
      "            result.append(n)\n",
      "        n = n + 1\n",
      "    return result"
     ],
     "language": "python",
     "metadata": {},
     "outputs": [],
     "prompt_number": 7
    },
    {
     "cell_type": "code",
     "collapsed": false,
     "input": [
      "%timeit c_primes(100)\n",
      "%timeit primes(100)"
     ],
     "language": "python",
     "metadata": {},
     "outputs": [
      {
       "output_type": "stream",
       "stream": "stdout",
       "text": [
        "10000 loops, best of 3: 29.5 \u00b5s per loop\n",
        "1000 loops, best of 3: 1.24 ms per loop"
       ]
      },
      {
       "output_type": "stream",
       "stream": "stdout",
       "text": [
        "\n"
       ]
      }
     ],
     "prompt_number": 8
    }
   ],
   "metadata": {}
  }
 ]
}