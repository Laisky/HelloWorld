{
 "cells": [
  {
   "cell_type": "code",
   "execution_count": 1,
   "metadata": {},
   "outputs": [],
   "source": [
    "import bcrypt"
   ]
  },
  {
   "cell_type": "code",
   "execution_count": 20,
   "metadata": {},
   "outputs": [
    {
     "name": "stdout",
     "output_type": "stream",
     "text": [
      "$2b$12$JnkN2wGXebQrzICIwtb.XeJTlVGcPsvRwcSL1HdQLNHAbN8/wTgd2 \n",
      "\n",
      "True \n",
      "\n"
     ]
    }
   ],
   "source": [
    "def generate_passwd(passwd):\n",
    "    return bcrypt.hashpw(passwd.encode('utf8'), bcrypt.gensalt()).decode()\n",
    "\n",
    "\n",
    "def validate_passwd(passwd, hashed):\n",
    "    return bcrypt.hashpw(passwd.encode('utf8'), hashed.encode('utf8')).decode() == hashed\n",
    "\n",
    "\n",
    "\n",
    "p = generate_passwd('123')\n",
    "print(p, '\\n')\n",
    "\n",
    "\n",
    "print(validate_passwd('123', p), '\\n')"
   ]
  }
 ],
 "metadata": {
  "kernelspec": {
   "display_name": "Python 3",
   "language": "python",
   "name": "python3"
  },
  "language_info": {
   "codemirror_mode": {
    "name": "ipython",
    "version": 3
   },
   "file_extension": ".py",
   "mimetype": "text/x-python",
   "name": "python",
   "nbconvert_exporter": "python",
   "pygments_lexer": "ipython3",
   "version": "3.6.2"
  }
 },
 "nbformat": 4,
 "nbformat_minor": 2
}
