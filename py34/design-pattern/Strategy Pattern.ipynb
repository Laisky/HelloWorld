{
 "cells": [
  {
   "cell_type": "markdown",
   "metadata": {},
   "source": [
    "策略模式 Strategy Pattern\n",
    "===\n",
    "\n",
    "> 针对接口编程，不针对实现编程"
   ]
  },
  {
   "cell_type": "code",
   "execution_count": 1,
   "metadata": {
    "collapsed": true
   },
   "outputs": [],
   "source": [
    "class BaseDuck:\n",
    "\n",
    "    \"\"\"基础的鸭子，定义一些通用的属性或方法\"\"\"\n",
    "\n",
    "    name = '鸭'\n",
    "\n",
    "\n",
    "class Bark:\n",
    "\n",
    "    def bark(self):\n",
    "        print('gagaga')\n",
    "\n",
    "\n",
    "class Fly:\n",
    "\n",
    "    def fly(self):\n",
    "        print('我在飞')\n",
    "\n",
    "\n",
    "class Duck(BaseDuck, Bark, Fly):\n",
    "\n",
    "    \"\"\"创建一种鸭子，会叫而且会飞\"\"\"\n",
    "    pass\n",
    "\n",
    "\n",
    "class RubberDuck(BaseDuck, Bark):\n",
    "\n",
    "    \"\"\"橡皮鸭，会叫，但是不会飞\"\"\"\n",
    "    pass\n"
   ]
  }
 ],
 "metadata": {
  "kernelspec": {
   "display_name": "Python 3",
   "language": "python",
   "name": "python3"
  },
  "language_info": {
   "codemirror_mode": {
    "name": "ipython",
    "version": 3
   },
   "file_extension": ".py",
   "mimetype": "text/x-python",
   "name": "python",
   "nbconvert_exporter": "python",
   "pygments_lexer": "ipython3",
   "version": "3.4.2"
  }
 },
 "nbformat": 4,
 "nbformat_minor": 0
}
