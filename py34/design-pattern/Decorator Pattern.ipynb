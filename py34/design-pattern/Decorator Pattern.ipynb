{
 "cells": [
  {
   "cell_type": "markdown",
   "metadata": {},
   "source": [
    "装饰者模式\n",
    "==="
   ]
  },
  {
   "cell_type": "code",
   "execution_count": 1,
   "metadata": {
    "collapsed": false
   },
   "outputs": [
    {
     "name": "stdout",
     "output_type": "stream",
     "text": [
      "烘培咖啡:30\n",
      "烘培咖啡+牛奶+牛奶: 40\n",
      "烘培咖啡+牛奶+摩卡: 42\n"
     ]
    }
   ],
   "source": [
    "from abc import ABCMeta, abstractmethod\n",
    "\n",
    "\n",
    "class Beverage(metaclass=ABCMeta):\n",
    "\n",
    "    \"\"\"饮料的抽象类\"\"\"\n",
    "\n",
    "    _description = ''\n",
    "    _cost = 0\n",
    "\n",
    "    @abstractmethod\n",
    "    def cost(self):\n",
    "        raise NotImplementedError\n",
    "\n",
    "    @abstractmethod\n",
    "    def get_description(self):\n",
    "        raise NotImplemented\n",
    "\n",
    "\n",
    "class BaseCoffee(Beverage):\n",
    "\n",
    "    \"\"\"装饰类的基类：咖啡\"\"\"\n",
    "\n",
    "    def get_description(self):\n",
    "        return self._description\n",
    "\n",
    "    def cost(self):\n",
    "        return self._cost\n",
    "\n",
    "\n",
    "class CondimentDecorator(Beverage):\n",
    "\n",
    "    \"\"\"装饰类的基类：配料\"\"\"\n",
    "\n",
    "    def __init__(self, coffee):\n",
    "        self.coffee = coffee\n",
    "\n",
    "    def get_description(self):\n",
    "        return self.coffee.get_description() + '+' + self._description\n",
    "\n",
    "    def cost(self):\n",
    "        return self.coffee.cost() + self._cost\n",
    "\n",
    "\n",
    "class DarkRoast(BaseCoffee):\n",
    "\n",
    "    \"\"\"具体类：烘焙咖啡\"\"\"\n",
    "\n",
    "    _cost = 30\n",
    "    _description = '烘培咖啡'\n",
    "\n",
    "\n",
    "class Milk(CondimentDecorator):\n",
    "\n",
    "    \"\"\"配料：牛奶\"\"\"\n",
    "\n",
    "    _description = '牛奶'\n",
    "    _cost = 5\n",
    "\n",
    "\n",
    "class Mocha(CondimentDecorator):\n",
    "\n",
    "    \"\"\"配料：摩卡\"\"\"\n",
    "\n",
    "    _description = '摩卡'\n",
    "    _cost = 7\n",
    "\n",
    "\n",
    "# 买咖啡\n",
    "inst = DarkRoast()\n",
    "cost = inst.cost()\n",
    "desc = inst.get_description()\n",
    "print('{}:{}'.format(desc, cost))\n",
    "\n",
    "# 咖啡加两份牛奶\n",
    "inst = Milk(Milk(DarkRoast()))\n",
    "cost = inst.cost()\n",
    "desc = inst.get_description()\n",
    "print('{}: {}'.format(desc, cost))\n",
    "\n",
    "# 咖啡加牛奶加摩卡\n",
    "inst = Mocha(Milk(DarkRoast()))\n",
    "cost = inst.cost()\n",
    "desc = inst.get_description()\n",
    "print('{}: {}'.format(desc, cost))\n"
   ]
  }
 ],
 "metadata": {
  "kernelspec": {
   "display_name": "Python 3",
   "language": "python",
   "name": "python3"
  },
  "language_info": {
   "codemirror_mode": {
    "name": "ipython",
    "version": 3
   },
   "file_extension": ".py",
   "mimetype": "text/x-python",
   "name": "python",
   "nbconvert_exporter": "python",
   "pygments_lexer": "ipython3",
   "version": "3.4.2"
  }
 },
 "nbformat": 4,
 "nbformat_minor": 0
}
