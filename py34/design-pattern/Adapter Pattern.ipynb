{
 "cells": [
  {
   "cell_type": "markdown",
   "metadata": {},
   "source": [
    "适配器模式 Adapter Pattern\n",
    "===\n",
    "\n",
    "> 将一个类的接口，转换为客户期望的另一个接口"
   ]
  },
  {
   "cell_type": "code",
   "execution_count": 1,
   "metadata": {
    "collapsed": true
   },
   "outputs": [],
   "source": [
    "class Duck:\n",
    "\n",
    "    \"\"\"一个鸭子类型\"\"\"\n",
    "\n",
    "    def quack(self):\n",
    "        pass\n",
    "\n",
    "    def fly(self):\n",
    "        pass\n",
    "\n",
    "\n",
    "class Turky:\n",
    "\n",
    "    \"\"\"一个火鸡类型\"\"\"\n",
    "\n",
    "    def gobble(self):\n",
    "        pass\n",
    "\n",
    "    def fly(self):\n",
    "        pass\n",
    "\n",
    "\n",
    "class Turky2DuckAdapter(Turky):\n",
    "\n",
    "    \"\"\"一个可以让火鸡表现的像鸭子的适配器\n",
    "    当然也可以写成 Mixin 的形式\"\"\"\n",
    "\n",
    "    def quack(self):\n",
    "        \"\"\"像鸭子一样 quack 叫\"\"\"\n",
    "        return self.gobble()\n"
   ]
  }
 ],
 "metadata": {
  "kernelspec": {
   "display_name": "Python 3",
   "language": "python",
   "name": "python3"
  },
  "language_info": {
   "codemirror_mode": {
    "name": "ipython",
    "version": 3
   },
   "file_extension": ".py",
   "mimetype": "text/x-python",
   "name": "python",
   "nbconvert_exporter": "python",
   "pygments_lexer": "ipython3",
   "version": "3.4.2"
  }
 },
 "nbformat": 4,
 "nbformat_minor": 0
}
