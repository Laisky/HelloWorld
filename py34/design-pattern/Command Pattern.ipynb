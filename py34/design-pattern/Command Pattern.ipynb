{
 "cells": [
  {
   "cell_type": "markdown",
   "metadata": {},
   "source": [
    "命令模式 Command Pattern\n",
    "===\n",
    "\n",
    "> 将『请求』封装成对象，以便使用不同的请求、队列或者日志来参数化其他对象。命令模式页支持可撤销的操作"
   ]
  },
  {
   "cell_type": "code",
   "execution_count": 1,
   "metadata": {
    "collapsed": true
   },
   "outputs": [],
   "source": [
    "from abc import ABCMeta, abstractmethod\n",
    "\n",
    "\n",
    "class AbstractCommand(metaclass=ABCMeta):\n",
    "\n",
    "    @abstractmethod\n",
    "    def execute(self):\n",
    "        raise NotImplementedError\n",
    "\n",
    "\n",
    "class TvOnCommand(AbstractCommand):\n",
    "\n",
    "    \"\"\"让电视打开的命令\"\"\"\n",
    "\n",
    "    def execute(self):\n",
    "        \"\"\"调用 TV，将其打开\"\"\"\n",
    "        # tv.turn_on()\n",
    "        pass\n",
    "\n",
    "\n",
    "class LightOnCommand(AbstractCommand):\n",
    "\n",
    "    \"\"\"让灯打开的命令\"\"\"\n",
    "\n",
    "    def execute(self):\n",
    "        \"\"\"调用电灯，将其打开\"\"\"\n",
    "        # lamp.turn_on()\n",
    "\n",
    "\n",
    "class KTVMacroCommand(AbstractCommand):\n",
    "\n",
    "    \"\"\"KTV 的宏命令，可以一次性执行多个命令\"\"\"\n",
    "\n",
    "    def __init__(self):\n",
    "        self.lamp = LightOnCommand()\n",
    "        self.tv = TvOnCommand()\n",
    "\n",
    "    def execute(self):\n",
    "        self.lamp.execute()\n",
    "        self.tv.execute()\n"
   ]
  }
 ],
 "metadata": {
  "kernelspec": {
   "display_name": "Python 3",
   "language": "python",
   "name": "python3"
  },
  "language_info": {
   "codemirror_mode": {
    "name": "ipython",
    "version": 3
   },
   "file_extension": ".py",
   "mimetype": "text/x-python",
   "name": "python",
   "nbconvert_exporter": "python",
   "pygments_lexer": "ipython3",
   "version": "3.4.2"
  }
 },
 "nbformat": 4,
 "nbformat_minor": 0
}
