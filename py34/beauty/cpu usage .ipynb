{
 "cells": [
  {
   "cell_type": "code",
   "execution_count": 116,
   "metadata": {
    "collapsed": false
   },
   "outputs": [],
   "source": [
    "def deadloop():\n",
    "    while 1:\n",
    "        t = abs(time.time() % 20 - 10)\n",
    "        busy = t / 10\n",
    "        nap = 1 - busy\n",
    "        time.sleep(nap/10)\n",
    "        for _ in range(int(3456911 * busy)):\n",
    "            pass\n",
    "\n"
   ]
  },
  {
   "cell_type": "code",
   "execution_count": 117,
   "metadata": {
    "collapsed": false
   },
   "outputs": [
    {
     "data": {
      "text/plain": [
       "[<Future at 0x103285128 state=running>,\n",
       " <Future at 0x103b6f208 state=pending>,\n",
       " <Future at 0x103b6fdd8 state=pending>,\n",
       " <Future at 0x103b6f358 state=pending>]"
      ]
     },
     "execution_count": 117,
     "metadata": {},
     "output_type": "execute_result"
    }
   ],
   "source": [
    "from concurrent.futures import ProcessPoolExecutor\n",
    "\n",
    "\n",
    "executor = ProcessPoolExecutor(max_workers=4)\n",
    "[executor.submit(deadloop) for _ in range(4)]"
   ]
  },
  {
   "cell_type": "markdown",
   "metadata": {},
   "source": [
    "![](./cpu-usage.gif)"
   ]
  }
 ],
 "metadata": {
  "kernelspec": {
   "display_name": "Python 3",
   "language": "python",
   "name": "python3"
  },
  "language_info": {
   "codemirror_mode": {
    "name": "ipython",
    "version": 3
   },
   "file_extension": ".py",
   "mimetype": "text/x-python",
   "name": "python",
   "nbconvert_exporter": "python",
   "pygments_lexer": "ipython3",
   "version": "3.4.2"
  }
 },
 "nbformat": 4,
 "nbformat_minor": 0
}
