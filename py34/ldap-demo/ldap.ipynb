{
 "cells": [
  {
   "cell_type": "code",
   "execution_count": null,
   "metadata": {},
   "outputs": [],
   "source": [
    "from ldap3 import Server, Connection, SUBTREE, ALL_ATTRIBUTES\n",
    "\n",
    "\n",
    "total_entries = 0\n",
    "server = Server('ldap://10.47.12.7011:3268')\n",
    "# c = Connection(server, user='darthadmin', password='123')\n",
    "c = Connection(server, user='dds\\\\caizhonghua', password='123')\n",
    "c.bind()"
   ]
  },
  {
   "cell_type": "code",
   "execution_count": null,
   "metadata": {
    "scrolled": true
   },
   "outputs": [],
   "source": [
    "c.search(search_base = 'dc=dds,dc=com',\n",
    "         search_filter = '(&(memberOf=CN=JiraUsers,ou=JIRA,ou=DDS_Group,dc=dds,dc=com))',\n",
    "         search_scope = SUBTREE,\n",
    "         attributes = ALL_ATTRIBUTES,\n",
    "         paged_size = 5)\n",
    "\n",
    "e = c.entries[0]\n",
    "e.entry_get_attributes_dict()['userAccountControl']"
   ]
  },
  {
   "cell_type": "code",
   "execution_count": null,
   "metadata": {},
   "outputs": [],
   "source": [
    "e.userAccountControl.value"
   ]
  },
  {
   "cell_type": "code",
   "execution_count": null,
   "metadata": {},
   "outputs": [],
   "source": [
    "# 获取一个人的全部信息\n",
    "\n",
    "def get_user_info(username):\n",
    "    r = c.search(\n",
    "        search_base = 'dc=dds,dc=com',\n",
    "        search_filter = '(&(sAMAccountName={})(objectCategory=person)(objectClass=user))'.format(username),\n",
    "        search_scope = SUBTREE,\n",
    "        attributes = ALL_ATTRIBUTES,\n",
    "        paged_size = 5, \n",
    "        get_operational_attributes=True\n",
    "    )\n",
    "    assert r\n",
    "    return c.entries[0].entry_get_attributes_dict()\n",
    "\n",
    "\n",
    "get_user_info('caizhonghua')\n",
    "# get_user_info('Wuxixn')\n",
    "# get_user_info('rockettest')"
   ]
  },
  {
   "cell_type": "code",
   "execution_count": null,
   "metadata": {},
   "outputs": [],
   "source": [
    "c.search(search_base = 'dc=dds,dc=com',\n",
    "         search_filter = '(&(userAccountControl=66050)(memberOf=CN=JiraUsers,ou=JIRA,ou=DDS_Group,dc=dds,dc=com))',\n",
    "         search_scope = SUBTREE,\n",
    "         attributes = ALL_ATTRIBUTES,\n",
    "         paged_size = 5)\n",
    "\n",
    "c.entries\n",
    "e = c.entries[0]"
   ]
  },
  {
   "cell_type": "code",
   "execution_count": null,
   "metadata": {},
   "outputs": [],
   "source": [
    "cookie = c.result['controls']['1.2.840.113556.1.4.319']['value']['cookie']"
   ]
  },
  {
   "cell_type": "code",
   "execution_count": null,
   "metadata": {},
   "outputs": [],
   "source": [
    "e = c.response[0]"
   ]
  },
  {
   "cell_type": "code",
   "execution_count": null,
   "metadata": {},
   "outputs": [],
   "source": [
    "e['attributes']['mail']"
   ]
  },
  {
   "cell_type": "code",
   "execution_count": null,
   "metadata": {},
   "outputs": [],
   "source": [
    "import datetime\n",
    "\n",
    "e.whenCreated.value\n",
    "\n",
    "def s2dt(s):\n",
    "    return datetime.datetime.strptime(s[:-3], '%Y%m%d%H%M%S') + datetime.timedelta(hours=8)\n",
    "    \n",
    "    \n",
    "s2dt(e.whenCreated.value)"
   ]
  },
  {
   "cell_type": "code",
   "execution_count": null,
   "metadata": {},
   "outputs": [],
   "source": [
    "e.userAccountControl.value == '66050'"
   ]
  }
 ],
 "metadata": {
  "kernelspec": {
   "display_name": "Python 3",
   "language": "python",
   "name": "python3"
  },
  "language_info": {
   "codemirror_mode": {
    "name": "ipython",
    "version": 3
   },
   "file_extension": ".py",
   "mimetype": "text/x-python",
   "name": "python",
   "nbconvert_exporter": "python",
   "pygments_lexer": "ipython3",
   "version": "3.6.2"
  }
 },
 "nbformat": 4,
 "nbformat_minor": 1
}
