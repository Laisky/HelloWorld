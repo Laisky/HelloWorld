{
 "cells": [
  {
   "cell_type": "markdown",
   "metadata": {},
   "source": [
    "使用 mock 做单元测试\n",
    "===\n",
    "\n",
    "http://blog.laisky.com/p/unittest-mock/"
   ]
  },
  {
   "cell_type": "code",
   "execution_count": 1,
   "metadata": {
    "collapsed": true
   },
   "outputs": [],
   "source": [
    "from unittest.mock import MagicMock"
   ]
  },
  {
   "cell_type": "code",
   "execution_count": 27,
   "metadata": {
    "collapsed": false
   },
   "outputs": [
    {
     "name": "stdout",
     "output_type": "stream",
     "text": [
      "<MagicMock id='4590923168'>\n",
      "2\n",
      "<MagicMock name='mock.a' id='4590867120'>\n",
      "<MagicMock name='mock.a.d.r.t' id='4591044536'>\n"
     ]
    }
   ],
   "source": [
    "## return_value\n",
    "\n",
    "c = MagicMock(return_value=2)\n",
    "print(c)\n",
    "print(c())\n",
    "print(c.a)"
   ]
  },
  {
   "cell_type": "code",
   "execution_count": 8,
   "metadata": {
    "collapsed": false
   },
   "outputs": [
    {
     "name": "stdout",
     "output_type": "stream",
     "text": [
      "<MagicMock id='4589903488'>\n",
      "100\n"
     ]
    }
   ],
   "source": [
    "## side_effect\n",
    "\n",
    "c = MagicMock()\n",
    "c.mock_method.side_effect = MagicMock(side_effect=lambda x: x*10)\n",
    "\n",
    "print(c)\n",
    "print(c.mock_method(10))"
   ]
  },
  {
   "cell_type": "code",
   "execution_count": 19,
   "metadata": {
    "collapsed": false
   },
   "outputs": [
    {
     "name": "stdout",
     "output_type": "stream",
     "text": [
      "<MagicMock name='mock.attr1' id='4590715176'>\n",
      "<MagicMock name='mock.attr2' id='4590715736'>\n",
      "<MagicMock name='mock.attr1' id='4590727632'>\n"
     ]
    },
    {
     "ename": "AttributeError",
     "evalue": "Mock object has no attribute 'attr3'",
     "output_type": "error",
     "traceback": [
      "\u001b[0;31m---------------------------------------------------------------------------\u001b[0m",
      "\u001b[0;31mAttributeError\u001b[0m                            Traceback (most recent call last)",
      "\u001b[0;32m<ipython-input-19-d877b0fb9bd4>\u001b[0m in \u001b[0;36m<module>\u001b[0;34m()\u001b[0m\n\u001b[1;32m     14\u001b[0m \u001b[0mprint\u001b[0m\u001b[0;34m(\u001b[0m\u001b[0mmock2\u001b[0m\u001b[0;34m.\u001b[0m\u001b[0mattr1\u001b[0m\u001b[0;34m)\u001b[0m\u001b[0;34m\u001b[0m\u001b[0m\n\u001b[1;32m     15\u001b[0m \u001b[0;34m\u001b[0m\u001b[0m\n\u001b[0;32m---> 16\u001b[0;31m \u001b[0mprint\u001b[0m\u001b[0;34m(\u001b[0m\u001b[0mmock\u001b[0m\u001b[0;34m.\u001b[0m\u001b[0mattr3\u001b[0m\u001b[0;34m)\u001b[0m\u001b[0;34m\u001b[0m\u001b[0m\n\u001b[0m",
      "\u001b[0;32m/Users/laisky/.pyenv/versions/3.4.2/lib/python3.4/unittest/mock.py\u001b[0m in \u001b[0;36m__getattr__\u001b[0;34m(self, name)\u001b[0m\n\u001b[1;32m    566\u001b[0m         \u001b[0;32melif\u001b[0m \u001b[0mself\u001b[0m\u001b[0;34m.\u001b[0m\u001b[0m_mock_methods\u001b[0m \u001b[0;32mis\u001b[0m \u001b[0;32mnot\u001b[0m \u001b[0;32mNone\u001b[0m\u001b[0;34m:\u001b[0m\u001b[0;34m\u001b[0m\u001b[0m\n\u001b[1;32m    567\u001b[0m             \u001b[0;32mif\u001b[0m \u001b[0mname\u001b[0m \u001b[0;32mnot\u001b[0m \u001b[0;32min\u001b[0m \u001b[0mself\u001b[0m\u001b[0;34m.\u001b[0m\u001b[0m_mock_methods\u001b[0m \u001b[0;32mor\u001b[0m \u001b[0mname\u001b[0m \u001b[0;32min\u001b[0m \u001b[0m_all_magics\u001b[0m\u001b[0;34m:\u001b[0m\u001b[0;34m\u001b[0m\u001b[0m\n\u001b[0;32m--> 568\u001b[0;31m                 \u001b[0;32mraise\u001b[0m \u001b[0mAttributeError\u001b[0m\u001b[0;34m(\u001b[0m\u001b[0;34m\"Mock object has no attribute %r\"\u001b[0m \u001b[0;34m%\u001b[0m \u001b[0mname\u001b[0m\u001b[0;34m)\u001b[0m\u001b[0;34m\u001b[0m\u001b[0m\n\u001b[0m\u001b[1;32m    569\u001b[0m         \u001b[0;32melif\u001b[0m \u001b[0m_is_magic\u001b[0m\u001b[0;34m(\u001b[0m\u001b[0mname\u001b[0m\u001b[0;34m)\u001b[0m\u001b[0;34m:\u001b[0m\u001b[0;34m\u001b[0m\u001b[0m\n\u001b[1;32m    570\u001b[0m             \u001b[0;32mraise\u001b[0m \u001b[0mAttributeError\u001b[0m\u001b[0;34m(\u001b[0m\u001b[0mname\u001b[0m\u001b[0;34m)\u001b[0m\u001b[0;34m\u001b[0m\u001b[0m\n",
      "\u001b[0;31mAttributeError\u001b[0m: Mock object has no attribute 'attr3'"
     ]
    }
   ],
   "source": [
    "## spec\n",
    "\n",
    "class SpecClass:\n",
    "    \n",
    "    attr1 = None\n",
    "    attr2 = None\n",
    "    \n",
    "\n",
    "mock = MagicMock(spec=SpecClass)\n",
    "mock2 = MagicMock(spec_set=SpecClass())\n",
    "\n",
    "print(mock.attr1)\n",
    "print(mock.attr2)\n",
    "print(mock2.attr1)\n",
    "\n",
    "print(mock.attr3)"
   ]
  },
  {
   "cell_type": "code",
   "execution_count": 17,
   "metadata": {
    "collapsed": false
   },
   "outputs": [
    {
     "data": {
      "text/plain": [
       "2"
      ]
     },
     "execution_count": 17,
     "metadata": {},
     "output_type": "execute_result"
    }
   ],
   "source": [
    "## property mock\n",
    "\n",
    "from unittest.mock import MagicMock, PropertyMock\n",
    "\n",
    "\n",
    "mock = MagicMock()\n",
    "type(mock).attr = PropertyMock(return_value=2)\n",
    "mock.attr"
   ]
  },
  {
   "cell_type": "code",
   "execution_count": 58,
   "metadata": {
    "collapsed": false
   },
   "outputs": [],
   "source": [
    "## patch\n",
    "from unittest.mock import patch\n",
    "\n",
    "class OriginClass:\n",
    "    \"\"\"原始对象\"\"\"\n",
    "    \n",
    "    attr1 = 99\n",
    "\n",
    "\n",
    "def naive_method():\n",
    "    assert OriginClass.attr1 == 99\n",
    "    \n",
    "\n",
    "# -----------------------------------\n",
    "# decorator 的缺点是会插入一个额外参数 mock_method\n",
    "@patch('__main__.OriginClass', attr1=1, spec=True)\n",
    "def mock_method(arg, mock_thing):\n",
    "    assert OriginClass is mock_thing\n",
    "    assert isinstance(OriginClass, MagicMock)\n",
    "    assert OriginClass.attr1 == 1\n",
    "mock_method(1)\n",
    "\n",
    "\n",
    "# -----------------------------------\n",
    "# 也可以写成 context\n",
    "with patch('__main__.OriginClass', attr1=1) as mock_thing:\n",
    "    assert OriginClass is mock_thing\n",
    "    assert OriginClass.attr1 == 1\n",
    "    \n",
    "    \n",
    "# -----------------------------------\n",
    "# 或者手动的 start\n",
    "patcher = patch('__main__.OriginClass', attr1=2)\n",
    "patcher.start()\n",
    "assert OriginClass.attr1 == 2\n",
    "patcher.stop()\n",
    "assert OriginClass.attr1 == 99"
   ]
  }
 ],
 "metadata": {
  "kernelspec": {
   "display_name": "Python 3",
   "language": "python",
   "name": "python3"
  },
  "language_info": {
   "codemirror_mode": {
    "name": "ipython",
    "version": 3
   },
   "file_extension": ".py",
   "mimetype": "text/x-python",
   "name": "python",
   "nbconvert_exporter": "python",
   "pygments_lexer": "ipython3",
   "version": "3.4.2"
  }
 },
 "nbformat": 4,
 "nbformat_minor": 0
}
