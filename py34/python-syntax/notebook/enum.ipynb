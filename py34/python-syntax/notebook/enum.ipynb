{
 "cells": [
  {
   "cell_type": "markdown",
   "metadata": {},
   "source": [
    "enum\n",
    "===\n",
    "\n",
    "https://docs.python.org/3.4/library/enum.html\n",
    "    \n",
    "Python3.5 引入的 enum 模块"
   ]
  },
  {
   "cell_type": "code",
   "execution_count": 14,
   "metadata": {
    "collapsed": false
   },
   "outputs": [],
   "source": [
    "from enum import (\n",
    "    Enum,      # 默认的 Enum 基类\n",
    "    IntEnum,   # 提供的整数枚举类\n",
    "    unique     # 枚举类的值不重复\n",
    ")"
   ]
  },
  {
   "cell_type": "code",
   "execution_count": 5,
   "metadata": {
    "collapsed": true
   },
   "outputs": [],
   "source": [
    "# 定义枚举类\n",
    "class ColorEnum(Enum):\n",
    "    red = 1\n",
    "    green = 2\n",
    "    yellow = 3"
   ]
  },
  {
   "cell_type": "code",
   "execution_count": 10,
   "metadata": {
    "collapsed": false
   },
   "outputs": [
    {
     "name": "stdout",
     "output_type": "stream",
     "text": [
      "ColorEnum.red\n",
      "<enum 'ColorEnum'>\n",
      "True\n"
     ]
    }
   ],
   "source": [
    "print(ColorEnum.red)\n",
    "print(type(ColorEnum.red))\n",
    "print(isinstance(ColorEnum.red, ColorEnum))"
   ]
  },
  {
   "cell_type": "code",
   "execution_count": 11,
   "metadata": {
    "collapsed": false
   },
   "outputs": [
    {
     "name": "stdout",
     "output_type": "stream",
     "text": [
      "ColorEnum.red\n",
      "ColorEnum.green\n",
      "ColorEnum.yellow\n"
     ]
    }
   ],
   "source": [
    "for c in ColorEnum:\n",
    "    print(c)"
   ]
  },
  {
   "cell_type": "code",
   "execution_count": 13,
   "metadata": {
    "collapsed": false
   },
   "outputs": [
    {
     "name": "stdout",
     "output_type": "stream",
     "text": [
      "ColorEnum.red\n",
      "ColorEnum.green\n",
      "ColorEnum.yellow\n"
     ]
    }
   ],
   "source": [
    "print(ColorEnum(1))\n",
    "print(ColorEnum(2))\n",
    "print(ColorEnum(3))"
   ]
  },
  {
   "cell_type": "code",
   "execution_count": 16,
   "metadata": {
    "collapsed": false
   },
   "outputs": [
    {
     "name": "stdout",
     "output_type": "stream",
     "text": [
      "1\n",
      "red\n"
     ]
    }
   ],
   "source": [
    "print(ColorEnum.red.value)\n",
    "print(ColorEnum.red.name)"
   ]
  },
  {
   "cell_type": "code",
   "execution_count": 17,
   "metadata": {
    "collapsed": false
   },
   "outputs": [
    {
     "ename": "ValueError",
     "evalue": "duplicate values found in <enum 'UniqueColorEnum'>: green -> red",
     "output_type": "error",
     "traceback": [
      "\u001b[0;31m---------------------------------------------------------------------------\u001b[0m",
      "\u001b[0;31mValueError\u001b[0m                                Traceback (most recent call last)",
      "\u001b[0;32m<ipython-input-17-e1e4c509596c>\u001b[0m in \u001b[0;36m<module>\u001b[0;34m()\u001b[0m\n\u001b[1;32m      1\u001b[0m \u001b[0;31m# 唯一枚举类\u001b[0m\u001b[0;34m\u001b[0m\u001b[0;34m\u001b[0m\u001b[0m\n\u001b[1;32m      2\u001b[0m \u001b[0;34m@\u001b[0m\u001b[0munique\u001b[0m\u001b[0;34m\u001b[0m\u001b[0m\n\u001b[0;32m----> 3\u001b[0;31m \u001b[0;32mclass\u001b[0m \u001b[0mUniqueColorEnum\u001b[0m\u001b[0;34m(\u001b[0m\u001b[0mEnum\u001b[0m\u001b[0;34m)\u001b[0m\u001b[0;34m:\u001b[0m\u001b[0;34m\u001b[0m\u001b[0m\n\u001b[0m\u001b[1;32m      4\u001b[0m     \u001b[0mred\u001b[0m \u001b[0;34m=\u001b[0m \u001b[0;36m1\u001b[0m\u001b[0;34m\u001b[0m\u001b[0m\n\u001b[1;32m      5\u001b[0m     \u001b[0mgreen\u001b[0m \u001b[0;34m=\u001b[0m \u001b[0;36m1\u001b[0m\u001b[0;34m\u001b[0m\u001b[0m\n",
      "\u001b[0;32m/Users/laisky/.pyenv/versions/3.4.2/lib/python3.4/enum.py\u001b[0m in \u001b[0;36munique\u001b[0;34m(enumeration)\u001b[0m\n\u001b[1;32m    522\u001b[0m                 [\"%s -> %s\" % (alias, name) for (alias, name) in duplicates])\n\u001b[1;32m    523\u001b[0m         raise ValueError('duplicate values found in %r: %s' %\n\u001b[0;32m--> 524\u001b[0;31m                 (enumeration, alias_details))\n\u001b[0m\u001b[1;32m    525\u001b[0m     \u001b[0;32mreturn\u001b[0m \u001b[0menumeration\u001b[0m\u001b[0;34m\u001b[0m\u001b[0m\n",
      "\u001b[0;31mValueError\u001b[0m: duplicate values found in <enum 'UniqueColorEnum'>: green -> red"
     ]
    }
   ],
   "source": [
    "# 唯一枚举类\n",
    "@unique\n",
    "class UniqueColorEnum(Enum):\n",
    "    red = 1\n",
    "    green = 1"
   ]
  }
 ],
 "metadata": {
  "kernelspec": {
   "display_name": "Python 3",
   "language": "python",
   "name": "python3"
  },
  "language_info": {
   "codemirror_mode": {
    "name": "ipython",
    "version": 3
   },
   "file_extension": ".py",
   "mimetype": "text/x-python",
   "name": "python",
   "nbconvert_exporter": "python",
   "pygments_lexer": "ipython3",
   "version": "3.4.2"
  }
 },
 "nbformat": 4,
 "nbformat_minor": 0
}
