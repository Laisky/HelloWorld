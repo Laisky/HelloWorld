{
 "cells": [
  {
   "cell_type": "markdown",
   "metadata": {},
   "source": [
    "selectors\n",
    "===\n",
    "\n",
    "https://docs.python.org/3.5/library/selectors.html#module-selectors\n",
    "    \n",
    "Python3.4 新增的模块，是对 select 的高级封装"
   ]
  },
  {
   "cell_type": "code",
   "execution_count": 1,
   "metadata": {
    "collapsed": true
   },
   "outputs": [],
   "source": [
    "import selectors\n",
    "import socket"
   ]
  },
  {
   "cell_type": "code",
   "execution_count": 4,
   "metadata": {
    "collapsed": false
   },
   "outputs": [
    {
     "name": "stdout",
     "output_type": "stream",
     "text": [
      "accepted <socket.socket fd=56, family=AddressFamily.AF_INET, type=SocketType.SOCK_STREAM, proto=0, laddr=('127.0.0.1', 27002), raddr=('127.0.0.1', 64595)> from ('127.0.0.1', 64595)\n"
     ]
    }
   ],
   "source": [
    "\n",
    "sel = selectors.DefaultSelector()\n",
    "\n",
    "\n",
    "def accept(sock, mask):\n",
    "    conn, addr = sock.accept()  # Should be ready\n",
    "    print('accepted', conn, 'from', addr)\n",
    "    conn.setblocking(False)\n",
    "    sel.register(conn, selectors.EVENT_READ, read)\n",
    "\n",
    "    \n",
    "def read(conn, mask):\n",
    "    data = conn.recv(1000)  # Should be ready\n",
    "    if data:\n",
    "        print('echoing', repr(data), 'to', conn)\n",
    "        conn.send(data)  # Hope it won't block\n",
    "    else:\n",
    "        print('closing', conn)\n",
    "        sel.unregister(conn)\n",
    "        conn.close()\n",
    "\n",
    "        \n",
    "serv = socket.socket(socket.AF_INET, socket.SOCK_STREAM)\n",
    "serv.setsockopt(socket.SOL_SOCKET, socket.SO_REUSEADDR, 1)  # 本地复用端口\n",
    "serv.bind(('localhost', 27002))\n",
    "serv.listen(100)\n",
    "serv.setblocking(False)\n",
    "sel.register(serv, selectors.EVENT_READ, accept)  # 注册 handler、事件和 callback 函数\n",
    "\n",
    "cli = socket.socket(socket.AF_INET, socket.SOCK_STREAM)\n",
    "cli.setsockopt(socket.SOL_SOCKET, socket.SO_REUSEADDR, 1)\n",
    "cli.connect(('localhost', 27002))\n",
    "cli.send(b'test')\n",
    "\n",
    "# while True:\n",
    "events = sel.select()\n",
    "for key, mask in events:\n",
    "    callback = key.data\n",
    "    callback(key.fileobj, mask)\n",
    "    \n",
    "serv.close()\n",
    "cli.close()"
   ]
  }
 ],
 "metadata": {
  "kernelspec": {
   "display_name": "Python 3",
   "language": "python",
   "name": "python3"
  },
  "language_info": {
   "codemirror_mode": {
    "name": "ipython",
    "version": 3
   },
   "file_extension": ".py",
   "mimetype": "text/x-python",
   "name": "python",
   "nbconvert_exporter": "python",
   "pygments_lexer": "ipython3",
   "version": "3.4.2"
  }
 },
 "nbformat": 4,
 "nbformat_minor": 0
}
