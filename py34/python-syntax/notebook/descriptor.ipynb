{
 "cells": [
  {
   "cell_type": "code",
   "execution_count": 6,
   "metadata": {
    "collapsed": false
   },
   "outputs": [
    {
     "name": "stdout",
     "output_type": "stream",
     "text": [
      "2\n",
      "2\n",
      "2\n",
      "--------------------\n",
      "2\n",
      "3\n",
      "2\n"
     ]
    }
   ],
   "source": [
    "class A():\n",
    "    attr = 2\n",
    "    \n",
    "\n",
    "class B(A):\n",
    "    pass\n",
    "\n",
    "\n",
    "class C(A):\n",
    "    pass\n",
    "\n",
    "\n",
    "print(A.attr)\n",
    "print(B.attr)\n",
    "print(C.attr)\n",
    "print('-'*20)\n",
    "B.attr = 3\n",
    "print(A.attr)\n",
    "print(B.attr)\n",
    "print(C.attr)"
   ]
  },
  {
   "cell_type": "code",
   "execution_count": 10,
   "metadata": {
    "collapsed": false
   },
   "outputs": [
    {
     "name": "stdout",
     "output_type": "stream",
     "text": [
      "2\n",
      "2\n",
      "2\n",
      "--------------------\n",
      "2\n",
      "3\n",
      "2\n"
     ]
    }
   ],
   "source": [
    "class A():\n",
    "    attr = 2\n",
    "    \n",
    "\n",
    "class B(A):\n",
    "    pass\n",
    "\n",
    "\n",
    "class C(A):\n",
    "    pass\n",
    "\n",
    "\n",
    "a = A()\n",
    "b = B()\n",
    "c = C()\n",
    "\n",
    "print(a.attr)\n",
    "print(b.attr)\n",
    "print(c.attr)\n",
    "print('-'*20)\n",
    "b.attr = 3\n",
    "print(a.attr)\n",
    "print(b.attr)\n",
    "print(c.attr)"
   ]
  },
  {
   "cell_type": "code",
   "execution_count": 32,
   "metadata": {
    "collapsed": false
   },
   "outputs": [
    {
     "name": "stdout",
     "output_type": "stream",
     "text": [
      "2\n",
      "2\n",
      "2\n",
      "--------------------\n",
      "2\n",
      "3\n",
      "2\n"
     ]
    }
   ],
   "source": [
    "class A():\n",
    "    _attr = 2\n",
    "    \n",
    "    @property\n",
    "    def attr(self):\n",
    "        return self._attr\n",
    "    @attr.setter\n",
    "    def attr(self, val):\n",
    "        self._attr = val\n",
    "    \n",
    "\n",
    "class B(A):\n",
    "    def set(self, val):\n",
    "        super(B, self).attr = val\n",
    "\n",
    "\n",
    "class C(A):\n",
    "    pass\n",
    "\n",
    "\n",
    "a = A()\n",
    "b = B()\n",
    "c = C()\n",
    "\n",
    "\n",
    "print(a.attr)\n",
    "print(b.attr)\n",
    "print(c.attr)\n",
    "print('-'*20)\n",
    "b.attr = 3\n",
    "print(a.attr)\n",
    "print(b.attr)\n",
    "print(c.attr)"
   ]
  },
  {
   "cell_type": "code",
   "execution_count": 33,
   "metadata": {
    "collapsed": false
   },
   "outputs": [
    {
     "ename": "AttributeError",
     "evalue": "'super' object has no attribute 'attr'",
     "output_type": "error",
     "traceback": [
      "\u001b[0;31m---------------------------------------------------------------------------\u001b[0m",
      "\u001b[0;31mAttributeError\u001b[0m                            Traceback (most recent call last)",
      "\u001b[0;32m<ipython-input-33-6af95629baa6>\u001b[0m in \u001b[0;36m<module>\u001b[0;34m()\u001b[0m\n\u001b[0;32m----> 1\u001b[0;31m \u001b[0mb\u001b[0m\u001b[0;34m.\u001b[0m\u001b[0mset\u001b[0m\u001b[0;34m(\u001b[0m\u001b[0;36m9\u001b[0m\u001b[0;34m)\u001b[0m\u001b[0;34m\u001b[0m\u001b[0m\n\u001b[0m",
      "\u001b[0;32m<ipython-input-32-3a62db105592>\u001b[0m in \u001b[0;36mset\u001b[0;34m(self, val)\u001b[0m\n\u001b[1;32m     12\u001b[0m \u001b[0;32mclass\u001b[0m \u001b[0mB\u001b[0m\u001b[0;34m(\u001b[0m\u001b[0mA\u001b[0m\u001b[0;34m)\u001b[0m\u001b[0;34m:\u001b[0m\u001b[0;34m\u001b[0m\u001b[0m\n\u001b[1;32m     13\u001b[0m     \u001b[0;32mdef\u001b[0m \u001b[0mset\u001b[0m\u001b[0;34m(\u001b[0m\u001b[0mself\u001b[0m\u001b[0;34m,\u001b[0m \u001b[0mval\u001b[0m\u001b[0;34m)\u001b[0m\u001b[0;34m:\u001b[0m\u001b[0;34m\u001b[0m\u001b[0m\n\u001b[0;32m---> 14\u001b[0;31m         \u001b[0msuper\u001b[0m\u001b[0;34m(\u001b[0m\u001b[0mB\u001b[0m\u001b[0;34m,\u001b[0m \u001b[0mself\u001b[0m\u001b[0;34m)\u001b[0m\u001b[0;34m.\u001b[0m\u001b[0mattr\u001b[0m \u001b[0;34m=\u001b[0m \u001b[0mval\u001b[0m\u001b[0;34m\u001b[0m\u001b[0m\n\u001b[0m\u001b[1;32m     15\u001b[0m \u001b[0;34m\u001b[0m\u001b[0m\n\u001b[1;32m     16\u001b[0m \u001b[0;34m\u001b[0m\u001b[0m\n",
      "\u001b[0;31mAttributeError\u001b[0m: 'super' object has no attribute 'attr'"
     ]
    }
   ],
   "source": [
    "b.set(9)"
   ]
  },
  {
   "cell_type": "code",
   "execution_count": 3,
   "metadata": {
    "collapsed": false
   },
   "outputs": [
    {
     "name": "stdout",
     "output_type": "stream",
     "text": [
      "2\n",
      "try to set attr = 3\n",
      "3\n",
      "try to delete attr\n"
     ]
    }
   ],
   "source": [
    "# property 的实现1\n",
    "class A():\n",
    "    def __init__(self):\n",
    "        self._attr = 2\n",
    "    \n",
    "    @property\n",
    "    def attr(self):\n",
    "        return self._attr\n",
    "    \n",
    "    @attr.setter\n",
    "    def attr(self, val):\n",
    "        print('try to set attr =', val)\n",
    "        self._attr = val\n",
    "        \n",
    "    @attr.deleter\n",
    "    def attr(self):\n",
    "        print('try to delete attr')\n",
    "        del self._attr\n",
    "\n",
    "\n",
    "a = A()\n",
    "print(a.attr)\n",
    "a.attr = 3\n",
    "print(a.attr)\n",
    "del a.attr"
   ]
  },
  {
   "cell_type": "code",
   "execution_count": 4,
   "metadata": {
    "collapsed": false
   },
   "outputs": [
    {
     "name": "stdout",
     "output_type": "stream",
     "text": [
      "get attr\n",
      "1\n",
      "set attr by val 2\n",
      "get attr\n",
      "2\n"
     ]
    }
   ],
   "source": [
    "# property 的实现2\n",
    "class B():\n",
    "    def __init__(self):\n",
    "        self._attr = 1\n",
    "        \n",
    "    def getattr(self):\n",
    "        print('get attr')\n",
    "        return self._attr\n",
    "    \n",
    "    def setattr(self, val):\n",
    "        print('set attr by val', val)\n",
    "        self._attr = val\n",
    "        \n",
    "    attr = property(fget=getattr, fset=setattr)\n",
    "        \n",
    "b = B()\n",
    "print(b.attr)\n",
    "b.attr = 2\n",
    "print(b.attr)"
   ]
  },
  {
   "cell_type": "code",
   "execution_count": 6,
   "metadata": {
    "collapsed": false
   },
   "outputs": [
    {
     "name": "stdout",
     "output_type": "stream",
     "text": [
      "get attr by obj <__main__.C object at 0x10caff8d0>, obj_type <class '__main__.C'>\n",
      "10\n",
      "set attr by obj <__main__.C object at 0x10caff8d0>, val 2\n"
     ]
    }
   ],
   "source": [
    "# 类的实现\n",
    "class AttrDescriptor():\n",
    "    def __init__(self, init_val):\n",
    "        self._val = init_val\n",
    "        \n",
    "    def __get__(self, obj, obj_type):\n",
    "        print('get attr by obj {}, obj_type {}'.format(obj, obj_type))\n",
    "        return self._val\n",
    "    \n",
    "    def __set__(self ,obj, val):\n",
    "        print('set attr by obj {}, val {}'.format(obj, val))\n",
    "        self._val = val\n",
    "     \n",
    "        \n",
    "class C():\n",
    "    attr = AttrDescriptor(10)\n",
    "    \n",
    "c = C()\n",
    "print(c.attr)\n",
    "c.attr = 2"
   ]
  },
  {
   "cell_type": "code",
   "execution_count": 2,
   "metadata": {
    "collapsed": false
   },
   "outputs": [
    {
     "name": "stdout",
     "output_type": "stream",
     "text": [
      "get item attr by __getattribute__\n",
      "get item attr by __getattr__\n"
     ]
    },
    {
     "data": {
      "text/plain": [
       "1"
      ]
     },
     "execution_count": 2,
     "metadata": {},
     "output_type": "execute_result"
    }
   ],
   "source": [
    "# __getattr__ & __getattribute__\n",
    "class D():\n",
    "    attr = 1\n",
    "    def __getattr__(self, item):\n",
    "        print('get item {} by __getattr__'.format(item))\n",
    "        return super(D, self).__getattribute__(item)\n",
    "    \n",
    "    def __getattribute__(self, item):\n",
    "        print('get item {} by __getattribute__'.format(item))\n",
    "        raise AttributeError  # __getattribute__'s AttributeError will invoke __getattr__\n",
    "        \n",
    "\n",
    "d = D()\n",
    "d.attr"
   ]
  },
  {
   "cell_type": "code",
   "execution_count": 9,
   "metadata": {
    "collapsed": false
   },
   "outputs": [
    {
     "name": "stdout",
     "output_type": "stream",
     "text": [
      "__getattribute__ attr\n"
     ]
    },
    {
     "ename": "AttributeError",
     "evalue": "'super' object has no attribute '__dict__'",
     "output_type": "error",
     "traceback": [
      "\u001b[0;31m---------------------------------------------------------------------------\u001b[0m\n\u001b[0;31mAttributeError\u001b[0m                            Traceback (most recent call last)",
      "\u001b[0;32m<ipython-input-9-6e0477ef23f9>\u001b[0m in \u001b[0;36m<module>\u001b[0;34m()\u001b[0m\n\u001b[1;32m     27\u001b[0m \u001b[0;34m\u001b[0m\u001b[0m\n\u001b[1;32m     28\u001b[0m \u001b[0ma\u001b[0m \u001b[0;34m=\u001b[0m \u001b[0mA\u001b[0m\u001b[0;34m(\u001b[0m\u001b[0;34m)\u001b[0m\u001b[0;34m\u001b[0m\u001b[0m\n\u001b[0;32m---> 29\u001b[0;31m \u001b[0mprint\u001b[0m\u001b[0;34m(\u001b[0m\u001b[0ma\u001b[0m\u001b[0;34m.\u001b[0m\u001b[0mattr\u001b[0m\u001b[0;34m)\u001b[0m\u001b[0;34m\u001b[0m\u001b[0m\n\u001b[0m\u001b[1;32m     30\u001b[0m \u001b[0mprint\u001b[0m\u001b[0;34m(\u001b[0m\u001b[0;34m'-'\u001b[0m \u001b[0;34m*\u001b[0m \u001b[0;36m50\u001b[0m\u001b[0;34m)\u001b[0m\u001b[0;34m\u001b[0m\u001b[0m\n\u001b[1;32m     31\u001b[0m \u001b[0;34m\u001b[0m\u001b[0m\n",
      "\u001b[0;32m<ipython-input-9-6e0477ef23f9>\u001b[0m in \u001b[0;36m__getattribute__\u001b[0;34m(self, name)\u001b[0m\n\u001b[1;32m     22\u001b[0m         \u001b[0mprint\u001b[0m\u001b[0;34m(\u001b[0m\u001b[0;34m'__getattribute__ {}'\u001b[0m\u001b[0;34m.\u001b[0m\u001b[0mformat\u001b[0m\u001b[0;34m(\u001b[0m\u001b[0mname\u001b[0m\u001b[0;34m)\u001b[0m\u001b[0;34m)\u001b[0m\u001b[0;34m\u001b[0m\u001b[0m\n\u001b[1;32m     23\u001b[0m \u001b[0;31m#         return super().__getattribute__(name)\u001b[0m\u001b[0;34m\u001b[0m\u001b[0;34m\u001b[0m\u001b[0m\n\u001b[0;32m---> 24\u001b[0;31m         \u001b[0mprint\u001b[0m\u001b[0;34m(\u001b[0m\u001b[0msuper\u001b[0m\u001b[0;34m(\u001b[0m\u001b[0;34m)\u001b[0m\u001b[0;34m.\u001b[0m\u001b[0m__dict__\u001b[0m\u001b[0;34m)\u001b[0m\u001b[0;34m\u001b[0m\u001b[0m\n\u001b[0m\u001b[1;32m     25\u001b[0m         \u001b[0mprint\u001b[0m\u001b[0;34m(\u001b[0m\u001b[0;34m'super'\u001b[0m\u001b[0;34m,\u001b[0m \u001b[0msuper\u001b[0m\u001b[0;34m(\u001b[0m\u001b[0;34m)\u001b[0m\u001b[0;34m.\u001b[0m\u001b[0m__getattribute__\u001b[0m\u001b[0;34m(\u001b[0m\u001b[0mname\u001b[0m\u001b[0;34m)\u001b[0m\u001b[0;34m)\u001b[0m\u001b[0;34m\u001b[0m\u001b[0m\n\u001b[1;32m     26\u001b[0m \u001b[0;34m\u001b[0m\u001b[0m\n",
      "\u001b[0;31mAttributeError\u001b[0m: 'super' object has no attribute '__dict__'"
     ]
    }
   ],
   "source": [
    "# property & __getattribute__\n",
    "class A():\n",
    "    def __init__(self):\n",
    "        self._attr = 2\n",
    "    \n",
    "    @property\n",
    "    def attr(self):\n",
    "        print('try to get attr')\n",
    "        return self._attr\n",
    "    \n",
    "    @attr.setter\n",
    "    def attr(self, val):\n",
    "        print('try to set attr =', val)\n",
    "        self._attr = val\n",
    "        \n",
    "    @attr.deleter\n",
    "    def attr(self):\n",
    "        print('try to delete attr')\n",
    "        del self._attr\n",
    "        \n",
    "    def __getattribute__(self, name):\n",
    "        print('__getattribute__ {}'.format(name))\n",
    "#         return super().__getattribute__(name)\n",
    "        print('super', super().__getattribute__(name))\n",
    "\n",
    "\n",
    "a = A()\n",
    "print(a.attr)\n",
    "print('-' * 50)\n",
    "\n",
    "a.attr = 3\n",
    "print('-' * 50)\n",
    "\n",
    "print(a.attr)\n",
    "print('-' * 50)\n",
    "\n",
    "# del a.attr"
   ]
  },
  {
   "cell_type": "code",
   "execution_count": 5,
   "metadata": {
    "collapsed": false
   },
   "outputs": [
    {
     "name": "stdout",
     "output_type": "stream",
     "text": [
      "__getattribute__ __dict__\n"
     ]
    },
    {
     "data": {
      "text/plain": [
       "{'_attr': 3}"
      ]
     },
     "execution_count": 5,
     "metadata": {},
     "output_type": "execute_result"
    }
   ],
   "source": [
    "a.__dict__"
   ]
  },
  {
   "cell_type": "code",
   "execution_count": 12,
   "metadata": {
    "collapsed": false
   },
   "outputs": [
    {
     "name": "stdout",
     "output_type": "stream",
     "text": [
      "calculate\n",
      "calculate\n"
     ]
    },
    {
     "data": {
      "text/plain": [
       "10"
      ]
     },
     "execution_count": 12,
     "metadata": {},
     "output_type": "execute_result"
    }
   ],
   "source": [
    "class cached_property(object):\n",
    "\n",
    "    '''A property that is only computed once per instance and then replaces\n",
    "    itself with an ordinary attribute. Deleting the attribute reset the\n",
    "    property.\n",
    "    Credit to Marcel Hellkamp, author of bottle.py.\n",
    "    copy from https://github.com/bottlepy/bottle/blob/master/bottle.py#L183\n",
    "    '''\n",
    "\n",
    "    def __init__(self, func):\n",
    "        self.__doc__ = getattr(func, '__doc__')\n",
    "        self.func = func\n",
    "\n",
    "    def __get__(self, obj, cls):\n",
    "        if obj is None:\n",
    "            return self\n",
    "        value = obj.__dict__[self.func.__name__] = self.func(obj)\n",
    "        return value\n",
    "    \n",
    "\n",
    "class E():\n",
    "    def __init__(self, val):\n",
    "        self.var = val\n",
    "        \n",
    "    @cached_property\n",
    "    def calc(self):\n",
    "        print('calculate')\n",
    "        return self.var\n",
    "    \n",
    "e = E(10)\n",
    "e.calc\n",
    "e.calc\n",
    "delattr(e, 'calc')\n",
    "e.calc"
   ]
  }
 ],
 "metadata": {
  "kernelspec": {
   "display_name": "Python 3",
   "language": "python",
   "name": "python3"
  },
  "language_info": {
   "codemirror_mode": {
    "name": "ipython",
    "version": 3
   },
   "file_extension": ".py",
   "mimetype": "text/x-python",
   "name": "python",
   "nbconvert_exporter": "python",
   "pygments_lexer": "ipython3",
   "version": "3.4.1"
  }
 },
 "nbformat": 4,
 "nbformat_minor": 0
}
