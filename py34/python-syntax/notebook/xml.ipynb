{
 "cells": [
  {
   "cell_type": "code",
   "execution_count": 4,
   "metadata": {
    "collapsed": false
   },
   "outputs": [],
   "source": [
    "from xml.etree import ElementTree\n",
    "\n",
    "raw = open('/Users/laisky/Desktop/snmp.xml', 'r').read()\n",
    "root = ElementTree.fromstring(raw)"
   ]
  },
  {
   "cell_type": "code",
   "execution_count": 59,
   "metadata": {
    "collapsed": false
   },
   "outputs": [
    {
     "name": "stdout",
     "output_type": "stream",
     "text": [
      "10.32.33.1 through: 192.168.26.1 -> 10.32.25.2 -> 10.32.33.1\n",
      "10.32.33.4 through: 192.168.26.1 -> 10.32.25.2 -> 10.33.0.49 -> 10.32.33.4\n",
      "10.32.33.5 through: 192.168.26.1 -> 10.32.25.2 -> 10.33.0.49 -> 10.32.33.5\n",
      "10.32.33.6 through: 192.168.26.1 -> 10.32.25.2 -> 10.33.0.49 -> 10.32.33.6\n",
      "10.32.33.7 through: 192.168.26.1 -> 10.32.25.2 -> 10.33.0.49 -> 10.32.33.7\n",
      "10.32.33.8 through: 192.168.26.1 -> 10.32.25.2 -> 10.33.0.49 -> 10.32.33.8\n",
      "10.32.33.9 through: 192.168.26.1 -> 10.32.25.2 -> 10.33.0.49 -> 10.32.33.9\n",
      "10.32.33.10 through: 192.168.26.1 -> 10.32.25.2 -> 10.33.0.49 -> 10.32.33.10\n",
      "10.32.33.11 through: 192.168.26.1 -> 10.32.25.2 -> 10.33.0.49 -> 10.32.33.11\n",
      "10.32.33.12 through: 192.168.26.1 -> 10.32.25.2 -> 10.33.0.49 -> 10.32.33.12\n",
      "10.32.33.13 through: 192.168.26.1 -> 10.32.25.2 -> 10.33.0.49 -> 10.32.33.13\n",
      "10.32.33.14 through: 192.168.26.1 -> 10.32.25.2 -> 10.33.0.49 -> 10.32.33.14\n",
      "10.32.33.15 through: 192.168.26.1 -> 10.32.25.2 -> 10.33.0.49 -> 10.32.33.15\n",
      "10.32.33.16 through: 192.168.26.1 -> 10.32.25.2 -> 10.33.0.49 -> 10.32.33.16\n",
      "10.32.33.17 through: 192.168.26.1 -> 10.32.25.2 -> 10.33.0.49 -> 10.32.33.17\n",
      "10.32.33.18 through: 192.168.26.1 -> 10.32.25.2 -> 10.33.0.49 -> 10.32.33.18\n",
      "10.32.33.19 through: 192.168.26.1 -> 10.32.25.2 -> 10.33.0.49 -> 10.32.33.19\n",
      "10.32.33.20 through: 192.168.26.1 -> 10.32.25.2 -> 10.33.0.49 -> 10.32.33.20\n",
      "10.32.33.255 through: 192.168.26.1 -> 10.32.25.2 -> 10.32.33.255\n"
     ]
    }
   ],
   "source": [
    "for host in root.findall('./host'):\n",
    "    addr = host.find('./address').attrib['addr']\n",
    "    trace = [r.attrib['ipaddr'] for r in host.findall('./trace/hop')]\n",
    "    print('{addr} through: {trace}'.format(addr=addr, trace=' -> '.join(trace)))"
   ]
  }
 ],
 "metadata": {
  "kernelspec": {
   "display_name": "Python 3",
   "language": "python",
   "name": "python3"
  },
  "language_info": {
   "codemirror_mode": {
    "name": "ipython",
    "version": 3
   },
   "file_extension": ".py",
   "mimetype": "text/x-python",
   "name": "python",
   "nbconvert_exporter": "python",
   "pygments_lexer": "ipython3",
   "version": "3.4.2"
  }
 },
 "nbformat": 4,
 "nbformat_minor": 0
}
