{
 "metadata": {
  "name": "",
  "signature": "sha256:93fcd77162a823f835dfdcbecd3f897813ae22e8f1a25298c5e75f63caa20e3a"
 },
 "nbformat": 3,
 "nbformat_minor": 0,
 "worksheets": [
  {
   "cells": [
    {
     "cell_type": "code",
     "collapsed": false,
     "input": [
      "# ThreadPoolExecutor\n",
      "\n",
      "from pipe import as_list\n",
      "import time\n",
      "import concurrent.futures\n",
      "import urllib.request\n",
      "\n",
      "URLS = ['http://www.foxnews.com/',\n",
      "        'http://www.cnn.com/',\n",
      "        'http://europe.wsj.com/',\n",
      "        'http://www.bbc.co.uk/',\n",
      "        'http://some-made-up-domain.com/',\n",
      "        'http://www.baidu.com']\n",
      "\n",
      "# Retrieve a single page and report the url and contents\n",
      "def load_url(url, timeout):\n",
      "    conn = urllib.request.urlopen(url, timeout=timeout)\n",
      "    return conn.readall()\n",
      "\n",
      "\n",
      "fn1 = lambda f: print('')\n",
      "fn2 = lambda f: print('fn1 with {}'.format(f))\n",
      "fn3 = lambda f: print('fn2 finish at: {}'.format(time.time()))\n",
      "fn4 = lambda f: f.add_done_callback(fn_embed)\n",
      "fn_embed = lambda f: print('embeded with {}'.format(f))\n",
      "\n",
      "\n",
      "# We can use a with statement to ensure threads are cleaned up promptly\n",
      "with concurrent.futures.ThreadPoolExecutor(max_workers=5) as executor:\n",
      "    # Start the load operations and mark each future with its URL\n",
      "    future_to_url = {executor.submit(load_url, url, 10): url for url in URLS}\n",
      "    \n",
      "    # add done_callback\n",
      "    for future in future_to_url:\n",
      "        map(future.add_done_callback, (fn1, fn2, fn3, fn4)) | as_list\n",
      "    \n",
      "    for future in concurrent.futures.as_completed(future_to_url):\n",
      "        url = future_to_url[future]\n",
      "        try:\n",
      "            data = future.result()\n",
      "        except Exception as exc:\n",
      "            print('%r generated an exception: %s' % (url, exc))\n",
      "        else:\n",
      "            print('%r page is %d bytes' % (url, len(data)))"
     ],
     "language": "python",
     "metadata": {},
     "outputs": [
      {
       "output_type": "stream",
       "stream": "stdout",
       "text": [
        "\n",
        "fn1 with <Future at 0x10bf74780 state=finished returned bytes>\n",
        "fn2 finish at: 1414671841.033331\n",
        "embeded with <Future at 0x10bf74780 state=finished returned bytes>\n",
        "'http://some-made-up-domain.com/' page is 800 bytes\n",
        "\n",
        "fn1 with <Future at 0x10c61cc88 state=finished returned bytes>\n",
        "fn2 finish at: 1414671841.056108\n",
        "embeded with <Future at 0x10c61cc88 state=finished returned bytes>\n",
        "'http://www.baidu.com' page is 81442 bytes\n",
        "\n",
        "fn1 with <Future at 0x10c61c6d8 state=finished raised ConnectionResetError>\n",
        "fn2 finish at: 1414671841.323893\n",
        "embeded with <Future at 0x10c61c6d8 state=finished raised ConnectionResetError>\n",
        "'http://www.bbc.co.uk/' generated an exception: [Errno 54] Connection reset by peer"
       ]
      },
      {
       "output_type": "stream",
       "stream": "stdout",
       "text": [
        "\n",
        "\n",
        "fn1 with <Future at 0x10c627278 state=finished raised HTTPError>\n",
        "fn2 finish at: 1414671841.5496\n",
        "embeded with <Future at 0x10c627278 state=finished raised HTTPError>\n",
        "'http://www.foxnews.com/' generated an exception: HTTP Error 404: Not Found"
       ]
      },
      {
       "output_type": "stream",
       "stream": "stdout",
       "text": [
        "\n",
        "\n",
        "fn1 with <Future at 0x10c61c3c8 state=finished raised ConnectionResetError>\n",
        "fn2 finish at: 1414671844.147926\n",
        "embeded with <Future at 0x10c61c3c8 state=finished raised ConnectionResetError>\n",
        "'http://europe.wsj.com/' generated an exception: [Errno 54] Connection reset by peer"
       ]
      },
      {
       "output_type": "stream",
       "stream": "stdout",
       "text": [
        "\n",
        "\n",
        "fn1 with <Future at 0x10c5d3358 state=finished raised timeout>\n",
        "fn2 finish at: 1414671846.394271\n",
        "embeded with <Future at 0x10c5d3358 state=finished raised timeout>\n",
        "\n",
        "fn1 with <Future at 0x10c5d3eb8 state=finished raised timeout>\n",
        "fn2 finish at: 1414671867.616063\n",
        "embeded with <Future at 0x10c5d3eb8 state=finished raised timeout>\n",
        "'http://www.cnn.com/' generated an exception: timed out"
       ]
      },
      {
       "output_type": "stream",
       "stream": "stdout",
       "text": [
        "\n"
       ]
      }
     ],
     "prompt_number": 26
    },
    {
     "cell_type": "code",
     "collapsed": false,
     "input": [
      "# ProcessPoolExecutor\n",
      "\n",
      "import concurrent.futures\n",
      "import math\n",
      "\n",
      "PRIMES = [\n",
      "    174686002006840,\n",
      "    112272535095293,\n",
      "    112582705942171,\n",
      "    112272535095293,\n",
      "    115280095190773,\n",
      "    115797848077099\n",
      "]\n",
      "\n",
      "def is_prime(n):\n",
      "    if n % 2 == 0:\n",
      "        return False\n",
      "\n",
      "    sqrt_n = int(math.floor(math.sqrt(n)))\n",
      "    for i in range(3, sqrt_n + 1, 2):\n",
      "        if n % i == 0:\n",
      "            return False\n",
      "    return True\n",
      "\n",
      "\n",
      "def main():\n",
      "    with concurrent.futures.ProcessPoolExecutor(max_workers=5) as executor:\n",
      "        future_to_prime = {executor.submit(is_prime, prime): prime for prime in PRIMES}\n",
      "        \n",
      "        # get values asynchronously\uff0cyield fastest result immediately\n",
      "        for future in concurrent.futures.as_completed(future_to_prime):\n",
      "            number = future_to_prime[future]\n",
      "            print('%d is prime: %s' % (number, future.result()))\n",
      "            \n",
      "        # get values paralle\n",
      "        for number, prime in zip(PRIMES, executor.map(is_prime, PRIMES)):\n",
      "            print('%d is prime: %s' % (number, prime))\n",
      "\n",
      "if __name__ == '__main__':\n",
      "    main()"
     ],
     "language": "python",
     "metadata": {},
     "outputs": [
      {
       "output_type": "stream",
       "stream": "stdout",
       "text": [
        "174686002006840 is prime: False\n",
        "112272535095293 is prime: True"
       ]
      },
      {
       "output_type": "stream",
       "stream": "stdout",
       "text": [
        "\n",
        "112582705942171 is prime: True\n",
        "112272535095293 is prime: True\n",
        "115797848077099 is prime: True\n",
        "115280095190773 is prime: True\n",
        "174686002006840 is prime: False\n",
        "112272535095293 is prime: True"
       ]
      },
      {
       "output_type": "stream",
       "stream": "stdout",
       "text": [
        "\n",
        "112582705942171 is prime: True\n",
        "112272535095293 is prime: True\n",
        "115280095190773 is prime: True\n",
        "115797848077099 is prime: True\n"
       ]
      }
     ],
     "prompt_number": 27
    }
   ],
   "metadata": {}
  }
 ]
}